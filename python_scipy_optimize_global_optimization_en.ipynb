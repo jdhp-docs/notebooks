{
 "cells": [
  {
   "cell_type": "markdown",
   "metadata": {
    "tags": [
     "meta",
     "toc_en",
     "draft_en"
    ]
   },
   "source": [
    "# Unconstrained global optimization with Scipy"
   ]
  },
  {
   "cell_type": "markdown",
   "metadata": {
    "tags": [
     "hide"
    ]
   },
   "source": [
    "**TODO**:\n",
    "* Plots:\n",
    "    1. Les solutions visitées dans l'espace des solutions (2D avec pcolormesh et contour)\n",
    "    2. f(x*) w.t. iteration number\n",
    "    3. error w.t. iteration number (=> + fit to have a clear view of the convergence rate ?)\n",
    "    4. error w.t. number of function evaluations + error w.t. *total* number of function evaluations (i.e. including the number of gradient and hessian evaluations)\n",
    "    5. error w.t. execution time\n",
    "    6. (benchmark session ! distinguish the derivative-free to the non-derivative free case) average version of 3., 4., 5. over several runs with random initial state (+ error bar or box plot)\n",
    "    7. (benchmark session) err w.t. algorithms parameters (plot the iteration or evaluation number or execution time to reach in average an error lower than N% with e.g. N=99%)"
   ]
  },
  {
   "cell_type": "markdown",
   "metadata": {
    "tags": [
     "hide"
    ]
   },
   "source": [
    "## Plot functions"
   ]
  },
  {
   "cell_type": "code",
   "execution_count": null,
   "metadata": {
    "collapsed": true,
    "tags": [
     "hide"
    ]
   },
   "outputs": [],
   "source": [
    "%matplotlib inline\n",
    "\n",
    "import numpy as np\n",
    "\n",
    "import matplotlib\n",
    "matplotlib.rcParams['figure.figsize'] = (8, 8)\n",
    "\n",
    "import math\n",
    "\n",
    "import matplotlib.pyplot as plt\n",
    "import matplotlib.colors as colors\n",
    "from mpl_toolkits.mplot3d import axes3d\n",
    "from matplotlib import cm\n",
    "\n",
    "import time"
   ]
  },
  {
   "cell_type": "code",
   "execution_count": null,
   "metadata": {
    "collapsed": true,
    "tags": [
     "hide"
    ]
   },
   "outputs": [],
   "source": [
    "a = np.array([[1, 2, 3],[4, 5, 6]])\n",
    "b = np.array([[-1, 2, 3],[-4, 5, 6]])\n",
    "np.amin(np.hstack([a, b]), axis=1)\n"
   ]
  },
  {
   "cell_type": "code",
   "execution_count": null,
   "metadata": {
    "collapsed": true,
    "tags": [
     "hide"
    ]
   },
   "outputs": [],
   "source": [
    "def plot_2d_contour_solution_space(func, xmin=-np.ones(2), xmax=np.ones(2), xstar=None, xvisited=None, title=\"\"):\n",
    "    fig, ax = plt.subplots(figsize=(12, 8))\n",
    "    \n",
    "    if xvisited is not None:\n",
    "        xmin = np.amin(np.hstack([xmin.reshape([-1, 1]), xvisited]), axis=1)\n",
    "        xmax = np.amax(np.hstack([xmax.reshape([-1, 1]), xvisited]), axis=1)\n",
    "\n",
    "    x1_space = np.linspace(xmin[0], xmax[0], 200)\n",
    "    x2_space = np.linspace(xmin[1], xmax[1], 200)\n",
    "    \n",
    "    x1_mesh, x2_mesh = np.meshgrid(x1_space, x2_space)\n",
    "\n",
    "    zz = func(np.array([x1_mesh.ravel(), x2_mesh.ravel()])).reshape(x1_mesh.shape)\n",
    "    \n",
    "    ############################\n",
    "    \n",
    "    min_value = func(xstar)\n",
    "    max_value = zz.max()\n",
    "    \n",
    "    levels = np.logspace(0.1, 3., 5)          # TODO\n",
    "\n",
    "    im = ax.pcolormesh(x1_mesh, x2_mesh, zz,\n",
    "                       vmin=0.1,              # TODO\n",
    "                       vmax=max_value,\n",
    "                       norm=colors.LogNorm(), # TODO\n",
    "                       shading='gouraud',\n",
    "                       cmap='gnuplot2') # 'jet' # 'gnuplot2'\n",
    "\n",
    "    plt.colorbar(im, ax=ax)\n",
    "\n",
    "    cs = plt.contour(x1_mesh, x2_mesh, zz, levels,\n",
    "                     linewidths=(2, 2, 2, 2, 3),\n",
    "                     linestyles=('dotted', '-.', 'dashed', 'solid', 'solid'),\n",
    "                     alpha=0.5,\n",
    "                     colors='white')\n",
    "    ax.clabel(cs, inline=False, fontsize=12)\n",
    "\n",
    "    ############################\n",
    "\n",
    "    if xvisited is not None:\n",
    "        ax.plot(xvisited[0],\n",
    "                xvisited[1],\n",
    "                '-og',\n",
    "                alpha=0.5,\n",
    "                label=\"$visited$\")\n",
    "\n",
    "    ############################\n",
    "\n",
    "    if xstar is not None:\n",
    "        sc = ax.scatter(xstar[0],\n",
    "                   xstar[1],\n",
    "                   c='red',\n",
    "                   label=\"$x^*$\")\n",
    "        sc.set_zorder(10)        # put this point above every thing else\n",
    "\n",
    "    ############################\n",
    "\n",
    "    ax.set_title(title)\n",
    "\n",
    "    ax.set_xlabel(r\"$x_1$\")\n",
    "    ax.set_ylabel(r\"$x_2$\")\n",
    "\n",
    "    ax.legend(fontsize=12)\n",
    "\n",
    "    plt.show()"
   ]
  },
  {
   "cell_type": "code",
   "execution_count": null,
   "metadata": {
    "collapsed": true,
    "tags": [
     "hide"
    ]
   },
   "outputs": [],
   "source": [
    "def plot_2d_solution_space(func, xmin=-np.ones(2), xmax=np.ones(2), xstar=None, xvisited=None, angle_view=None, title=\"\"):\n",
    "    fig = plt.figure(figsize=(12, 8))\n",
    "    ax = axes3d.Axes3D(fig)\n",
    "    \n",
    "    if angle_view is not None:\n",
    "        ax.view_init(angle_view[0], angle_view[1])\n",
    "\n",
    "    x1_space = np.linspace(xmin[0], xmax[0], 100)\n",
    "    x2_space = np.linspace(xmin[1], xmax[1], 100)\n",
    "    \n",
    "    x1_mesh, x2_mesh = np.meshgrid(x1_space, x2_space)\n",
    "\n",
    "    zz = func(np.array([x1_mesh.ravel(), x2_mesh.ravel()])).reshape(x1_mesh.shape)   # TODO\n",
    "\n",
    "    ############################\n",
    "        \n",
    "    surf = ax.plot_surface(x1_mesh,\n",
    "                           x2_mesh,\n",
    "                           zz,\n",
    "                           cmap='gnuplot2', # 'jet' # 'gnuplot2'\n",
    "                           norm=colors.LogNorm(),   # TODO\n",
    "                           rstride=1,\n",
    "                           cstride=1,\n",
    "                           #color='b',\n",
    "                           shade=False)\n",
    "\n",
    "    ax.set_zlabel(r\"$f(x_1, x_2)$\")\n",
    "\n",
    "    fig.colorbar(surf, shrink=0.5, aspect=5)\n",
    "\n",
    "    ############################\n",
    "\n",
    "    if xstar is not None:\n",
    "        ax.scatter(xstar[0],\n",
    "                   xstar[1],\n",
    "                   func(xstar),\n",
    "                   #s=50,          # TODO\n",
    "                   c='red',\n",
    "                   alpha=1,\n",
    "                   label=\"$x^*$\")\n",
    "    \n",
    "    ax.set_title(title)\n",
    "    \n",
    "    ax.set_xlabel(r\"$x_1$\")\n",
    "    ax.set_ylabel(r\"$x_2$\")\n",
    "\n",
    "    ax.legend(fontsize=12)\n",
    "    \n",
    "    plt.show()"
   ]
  },
  {
   "cell_type": "markdown",
   "metadata": {},
   "source": [
    "## The \"basin-hopping\" algorithm"
   ]
  },
  {
   "cell_type": "markdown",
   "metadata": {},
   "source": [
    "Basin-hopping is a **stochastic** algorithm which attempts to find the **global** minimum of a function.\n",
    "\n",
    "Official documentation:\n",
    "* https://docs.scipy.org/doc/scipy/reference/generated/scipy.optimize.basinhopping.html#scipy.optimize.basinhopping"
   ]
  },
  {
   "cell_type": "code",
   "execution_count": null,
   "metadata": {
    "collapsed": true
   },
   "outputs": [],
   "source": [
    "import numpy as np\n",
    "import scipy\n",
    "from scipy import optimize\n",
    "import matplotlib.pyplot as plt"
   ]
  },
  {
   "cell_type": "code",
   "execution_count": null,
   "metadata": {
    "collapsed": true,
    "scrolled": false
   },
   "outputs": [],
   "source": [
    "%%time\n",
    "\n",
    "NDIM = 2\n",
    "\n",
    "x_list = []\n",
    "fx_list = []\n",
    "\n",
    "def callback(x, f, accept):\n",
    "    x_list.append(x)\n",
    "    fx_list.append(f)\n",
    "    print(len(x_list), x, f, accept)\n",
    "    \n",
    "func = scipy.optimize.rosen\n",
    "x0 = np.random.uniform(-100., 100., size=NDIM)\n",
    "\n",
    "res = optimize.basinhopping(func,\n",
    "                            x0,                # The initial point\n",
    "                            niter=100,         # The number of basin hopping iterations\n",
    "                            callback=callback,\n",
    "                            disp=False)        # Print status messages\n",
    "\n",
    "print(\"x* =\", res.x)\n",
    "print(\"f(x*) =\", res.fun)\n",
    "print(\"Cause of the termination:\", \";\".join(res.message))\n",
    "print(\"Number of evaluations of the objective functions:\", res.nfev)\n",
    "print(\"Number of evaluations of the jacobian:\", res.njev)\n",
    "print(\"Number of iterations performed by the optimizer:\", res.nit)"
   ]
  },
  {
   "cell_type": "code",
   "execution_count": null,
   "metadata": {
    "collapsed": true
   },
   "outputs": [],
   "source": [
    "res"
   ]
  },
  {
   "cell_type": "code",
   "execution_count": null,
   "metadata": {
    "collapsed": true
   },
   "outputs": [],
   "source": [
    "plot_2d_contour_solution_space(scipy.optimize.rosen,\n",
    "                               xmin=-2*np.ones(2),\n",
    "                               xmax=2*np.ones(2),\n",
    "                               xstar=res.x,\n",
    "                               xvisited=np.array(x_list).T,\n",
    "                               title=\"Rosenbrock function\")"
   ]
  },
  {
   "cell_type": "code",
   "execution_count": null,
   "metadata": {
    "collapsed": true,
    "scrolled": false
   },
   "outputs": [],
   "source": [
    "fig, ax = plt.subplots(nrows=2, ncols=2, squeeze=True, figsize=(12, 12))\n",
    "\n",
    "ax = ax.ravel()\n",
    "\n",
    "# Res w.t. iteration number\n",
    "ax[0].semilogy(fx_list)\n",
    "ax[0].set_xlabel(\"f(x)\")\n",
    "ax[0].set_ylabel(\"Error\")\n",
    "\n",
    "# Err w.t. iteration number\n",
    "ax[1].semilogy(np.array([fx_list]).T - actual_fxstar)\n",
    "ax[1].set_xlabel(\"Iteration number\")\n",
    "ax[1].set_ylabel(\"Error\")\n",
    "\n",
    "# Err w.t. time\n",
    "ax[2].semilogy(time_list, np.array([fx_list]).T - actual_fxstar)\n",
    "ax[2].set_xlabel(\"Time (sec)\")\n",
    "ax[2].set_ylabel(\"Error\")\n",
    "\n",
    "# Time w.t. error\n",
    "ax[3].semilogx(np.array([fx_list]).T - actual_fxstar, time_list)\n",
    "ax[3].set_xlabel(\"Error\")\n",
    "ax[3].set_ylabel(\"Time (sec)\");"
   ]
  },
  {
   "cell_type": "markdown",
   "metadata": {},
   "source": [
    "## The \"Differential Evolution\" (DE) algorithm"
   ]
  },
  {
   "cell_type": "markdown",
   "metadata": {},
   "source": [
    "Differential Evolution is a **stochastic** algorithm which attempts to find the **global** minimum of a function.\n",
    "\n",
    "Official documentation:\n",
    "* https://docs.scipy.org/doc/scipy/reference/generated/scipy.optimize.differential_evolution.html#scipy.optimize.differential_evolution\n",
    "\n",
    "More information:\n",
    "* [Practical advice](http://www1.icsi.berkeley.edu/~storn/code.html#prac)\n",
    "* [Wikipedia article](https://en.wikipedia.org/wiki/Differential_evolution)"
   ]
  },
  {
   "cell_type": "code",
   "execution_count": null,
   "metadata": {
    "collapsed": true,
    "scrolled": false
   },
   "outputs": [],
   "source": [
    "%%time\n",
    "\n",
    "NDIM = 2\n",
    "\n",
    "func = scipy.optimize.rosen\n",
    "actual_xstar = np.ones(NDIM)\n",
    "actual_fxstar = 0.\n",
    "bounds = [(-10, 10) for d in range(NDIM)]\n",
    "\n",
    "x_list = []\n",
    "fx_list = []\n",
    "time_list = []\n",
    "\n",
    "def callback(xk, convergence):\n",
    "    x_list.append(xk)\n",
    "    fx_list.append(func(xk))\n",
    "    time_list.append(time.time() - init_time)\n",
    "    print(len(x_list), xk, fx_list[-1], convergence)\n",
    "\n",
    "init_time = time.time()\n",
    "\n",
    "res = optimize.differential_evolution(func,\n",
    "                                      bounds,              # The initial point\n",
    "                                      maxiter=100,         # The number of DE iterations\n",
    "                                      callback=callback,\n",
    "                                      #polish=False,\n",
    "                                      disp=False)          # Print status messages\n",
    "\n",
    "print(\"x* =\", res.x)\n",
    "print(\"f(x*) =\", res.fun)\n",
    "print(\"Cause of the termination:\", res.message)\n",
    "print(\"Number of evaluations of the objective functions:\", res.nfev)\n",
    "print(\"Number of iterations performed by the optimizer:\", res.nit)"
   ]
  },
  {
   "cell_type": "code",
   "execution_count": null,
   "metadata": {
    "collapsed": true,
    "scrolled": true
   },
   "outputs": [],
   "source": [
    "res"
   ]
  },
  {
   "cell_type": "code",
   "execution_count": null,
   "metadata": {
    "collapsed": true,
    "scrolled": false
   },
   "outputs": [],
   "source": [
    "plot_2d_contour_solution_space(scipy.optimize.rosen,\n",
    "                               xmin=-2*np.ones(2),\n",
    "                               xmax=2*np.ones(2),\n",
    "                               xstar=res.x,\n",
    "                               xvisited=np.array(x_list).T,\n",
    "                               title=\"Rosenbrock function\")"
   ]
  },
  {
   "cell_type": "code",
   "execution_count": null,
   "metadata": {
    "collapsed": true,
    "scrolled": false
   },
   "outputs": [],
   "source": [
    "fig, ax = plt.subplots(nrows=1, ncols=2, squeeze=True, figsize=(12, 6))\n",
    "\n",
    "ax = ax.ravel()\n",
    "\n",
    "## Res w.t. iteration number (useless...)\n",
    "#ax[0].semilogy(fx_list)\n",
    "#ax[0].set_xlabel(\"Iteration number\")\n",
    "#ax[0].set_ylabel(\"f(x)\")\n",
    "\n",
    "# Err w.t. iteration number\n",
    "ax[0].semilogy(np.array([fx_list]).T - actual_fxstar)\n",
    "ax[0].set_xlabel(\"Iteration number\")\n",
    "ax[0].set_ylabel(\"Error\")\n",
    "\n",
    "# Err w.t. time\n",
    "ax[1].semilogy(time_list, np.array([fx_list]).T - actual_fxstar)\n",
    "ax[1].set_xlabel(\"Time (sec)\")\n",
    "ax[1].set_ylabel(\"Error\");\n",
    "\n",
    "## Time w.t. error (useless...)\n",
    "#ax[3].semilogx(np.array([fx_list]).T - actual_fxstar, time_list)\n",
    "#ax[3].set_xlabel(\"Error\")\n",
    "#ax[3].set_ylabel(\"Time (sec)\");"
   ]
  },
  {
   "cell_type": "markdown",
   "metadata": {},
   "source": [
    "## The \"simulated annealing\" algorithm"
   ]
  },
  {
   "cell_type": "markdown",
   "metadata": {},
   "source": [
    "This algorithm has been replaced by the \"basin-hopping\" algorithm since Scipy 0.15.\n",
    "\n",
    "See the official documentation for more details: https://docs.scipy.org/doc/scipy-0.14.0/reference/generated/scipy.optimize.anneal.html."
   ]
  },
  {
   "cell_type": "markdown",
   "metadata": {
    "tags": [
     "hide"
    ]
   },
   "source": [
    "## Benchmark"
   ]
  },
  {
   "cell_type": "markdown",
   "metadata": {
    "tags": [
     "hide"
    ]
   },
   "source": [
    "### Workaround to get the number of function evaluations"
   ]
  },
  {
   "cell_type": "markdown",
   "metadata": {
    "tags": [
     "hide"
    ]
   },
   "source": [
    "This is not a good solution to get num func eval...\n",
    "It's much easier and save (at least we have the true value) to count and store that in the objective function instead of trying to retrieve it in solvers (it's fairly easy with DE but not with basinhopping). But don't forget to reinit the counter in the objective function before each minimization... => use pyai's objective functions."
   ]
  },
  {
   "cell_type": "code",
   "execution_count": null,
   "metadata": {
    "collapsed": true,
    "scrolled": false,
    "tags": [
     "hide"
    ]
   },
   "outputs": [],
   "source": [
    "%%time\n",
    "\n",
    "NDIM = 2\n",
    "\n",
    "func = scipy.optimize.rosen\n",
    "actual_xstar = np.ones(NDIM)\n",
    "actual_fxstar = 0.\n",
    "bounds = [(-10, 10) for d in range(NDIM)]\n",
    "\n",
    "x_list = []\n",
    "fx_list = []\n",
    "time_list = []\n",
    "fev_list = []\n",
    "\n",
    "def callback(xk, convergence):\n",
    "    x_list.append(xk)\n",
    "    fx_list.append(func(xk))\n",
    "    time_list.append(time.time() - init_time)\n",
    "    fev_list.append(solver._nfev)\n",
    "    print(len(x_list), xk, fx_list[-1], fev_list[-1], convergence)\n",
    "\n",
    "solver = optimize._differentialevolution.DifferentialEvolutionSolver(func,\n",
    "                                                                     bounds,\n",
    "                                                                     maxiter=100,\n",
    "                                                                     callback=callback,\n",
    "                                                                     #polish=False,\n",
    "                                                                     disp=False)\n",
    "\n",
    "init_time = time.time()\n",
    "\n",
    "res = solver.solve()\n",
    "\n",
    "print(\"x* =\", res.x)\n",
    "print(\"f(x*) =\", res.fun)\n",
    "print(\"Cause of the termination:\", res.message)\n",
    "print(\"Number of evaluations of the objective functions:\", res.nfev)\n",
    "print(\"Number of iterations performed by the optimizer:\", res.nit)"
   ]
  },
  {
   "cell_type": "code",
   "execution_count": null,
   "metadata": {
    "collapsed": true,
    "scrolled": false
   },
   "outputs": [],
   "source": [
    "fig, ax = plt.subplots(nrows=1, ncols=3, squeeze=True, figsize=(15, 5))\n",
    "\n",
    "ax = ax.ravel()\n",
    "\n",
    "## Res w.t. iteration number (useless...)\n",
    "#ax[0].semilogy(fx_list)\n",
    "#ax[0].set_xlabel(\"Iteration number\")\n",
    "#ax[0].set_ylabel(\"f(x)\")\n",
    "\n",
    "# Err w.t. iteration number\n",
    "ax[0].semilogy(np.array([fx_list]).T - actual_fxstar)\n",
    "ax[0].set_xlabel(\"Iteration number\")\n",
    "ax[0].set_ylabel(\"Error\")\n",
    "\n",
    "# Err w.t. time\n",
    "ax[1].semilogy(time_list, np.array([fx_list]).T - actual_fxstar)\n",
    "ax[1].set_xlabel(\"Time (sec)\")\n",
    "ax[1].set_ylabel(\"Error\")\n",
    "\n",
    "# Time w.t. error\n",
    "ax[2].loglog(fev_list, np.array([fx_list]).T - actual_fxstar)\n",
    "ax[2].set_xlabel(\"Num fonction evaluations\")\n",
    "ax[2].set_ylabel(\"Error\")\n",
    "\n",
    "plt.tight_layout(); # Fix plot margins errors"
   ]
  }
 ],
 "metadata": {
  "anaconda-cloud": {},
  "celltoolbar": "Tags",
  "kernelspec": {
   "display_name": "Python [default]",
   "language": "python",
   "name": "python3"
  },
  "language_info": {
   "codemirror_mode": {
    "name": "ipython",
    "version": 3
   },
   "file_extension": ".py",
   "mimetype": "text/x-python",
   "name": "python",
   "nbconvert_exporter": "python",
   "pygments_lexer": "ipython3",
   "version": "3.5.3"
  }
 },
 "nbformat": 4,
 "nbformat_minor": 1
}
