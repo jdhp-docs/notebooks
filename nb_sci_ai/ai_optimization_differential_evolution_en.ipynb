{
 "cells": [
  {
   "cell_type": "markdown",
   "metadata": {
    "tags": [
     "meta",
     "draft"
    ]
   },
   "source": [
    "# Differential Evolution"
   ]
  },
  {
   "cell_type": "markdown",
   "metadata": {
    "tags": [
     "hide"
    ]
   },
   "source": [
    "**TODO**\n",
    "* Livre metaheuristiques p.165\n",
    "* [Scipy's implementation](https://docs.scipy.org/doc/scipy/reference/generated/scipy.optimize.differential_evolution.html#scipy.optimize.differential_evolution)\n",
    "* https://en.wikipedia.org/wiki/Differential_evolution\n",
    "* http://www.scholarpedia.org/article/Metaheuristic_Optimization#Differential_Evolution\n",
    "* [Practical advises](http://www1.icsi.berkeley.edu/~storn/code.html#prac)"
   ]
  },
  {
   "cell_type": "markdown",
   "metadata": {},
   "source": [
    "Differential Evolution (DE) was developed by R. Storn and K. Price in 1995 [Storn95] [Storn97].\n",
    "\n",
    "This algorithm has been made for continuous problems.\n",
    "\n",
    "* **[Storn95]**: Storn, R., & Price, K. (1995). *Differential evolution - a simple and efficient adaptive scheme for global optimization over continuous spaces*. Technical Report TR95-012, International Computer Science Institute, Berkeley, California. [PDF document](ftp://ftp.icsi.berkeley.edu/pub/techreports/1995/tr-95-012.pdf).\n",
    "* **[Storn97]**: Storn, R., & Price, K. (1997). *Differential evolution - a simple and efficient heuristic for global optimization over continuous spaces*. Journal of global optimization, 11(4), 341-359."
   ]
  },
  {
   "cell_type": "markdown",
   "metadata": {},
   "source": [
    "## The Differential Evolution (DE) algorithm"
   ]
  },
  {
   "cell_type": "markdown",
   "metadata": {},
   "source": [
    "### Simplified notations"
   ]
  },
  {
   "cell_type": "markdown",
   "metadata": {},
   "source": [
    "FOREACH generation\n",
    "\n",
    "$\\quad$ FOREACH individual $i$ (a solution vector) of the population (a set)\n",
    "\n",
    "$\\quad\\quad$ 1. **MUTATION**: \n",
    "\n",
    "$\\quad\\quad\\quad$ 1.1 Randomly choose 3 different individuals $\\boldsymbol{x}_{r1}$, $\\boldsymbol{x}_{r2}$ and $\\boldsymbol{x}_{r3}$\n",
    "\n",
    "$\\quad\\quad\\quad\\quad$ $\\boldsymbol{x}_{r2}$ and $\\boldsymbol{x}_{r3}$ are used to automatically define the direction and the amplitude of the mutation\n",
    "\n",
    "$\\quad\\quad\\quad\\quad$ (i.e. the search amplitude and direction)\n",
    "\n",
    "$\\quad\\quad\\quad$ 1.2 Compute mutant $\\boldsymbol{v}_{i} \\leftarrow \\boldsymbol{x}_{r1} + F . (\\boldsymbol{x}_{r2} - \\boldsymbol{x}_{r3})$\n",
    "\n",
    "$\\quad\\quad$ 2. **CROSSOVER**:\n",
    "\n",
    "$\\quad\\quad\\quad$ Compute the \"test\" individual $\\boldsymbol{u}_{i}$ randomly taking each of its (vector) components in either $\\boldsymbol{x}_i$ or $\\boldsymbol{v}_i$\n",
    "\n",
    "$\\quad\\quad$ 3. **SELECTION**:\n",
    "\n",
    "$\\quad\\quad\\quad$ The test individual $\\boldsymbol{u}_{i}$ replace $\\boldsymbol{x}_{i}$ in the next generation if it has a better score."
   ]
  },
  {
   "cell_type": "markdown",
   "metadata": {},
   "source": [
    "Differential evolution consists of three main steps:\n",
    "1. mutation\n",
    "2. crossover\n",
    "3. selection\n",
    "\n",
    "The following sections provides more details about those three steps.\n",
    "\n",
    "### Mutation\n",
    "\n",
    "\n",
    "\n",
    "### Crossover\n",
    "\n",
    "\n",
    "\n",
    "### Selection\n",
    "\n"
   ]
  },
  {
   "cell_type": "markdown",
   "metadata": {},
   "source": [
    "**Notations**:\n",
    "* $D$ : the dimension of input vectors, $D \\in \\mathbb{N}^*_+$.\n",
    "* $t$ : the current iteration index (or generation index), $t \\in \\mathbb{N}^*_+$.\n",
    "* $T$ : the total number of iteration (or generation), $T \\in \\mathbb{N}^*_+$.\n",
    "* $N$ : the size of the population, $N > 3$.\n",
    "* $F$ : the *differential weight*. In principle, $F \\in [0,2]$, but in practice, a scheme with $F \\in [0,1]$ is more efficient and stable ([scholarpedia](http://www.scholarpedia.org/article/Metaheuristic_Optimization#Differential_Evolution)).\n",
    "* $Cr$ : the crossover probability parameter, $Cr \\in [0,1]$. \n",
    "\n",
    "---\n",
    "\n",
    "**Algorithm's parameters:** $N$, $Cr$ and $F$\n",
    "\n",
    "---\n",
    "\n",
    "**Input:**\n",
    "* An initial population $(\\boldsymbol{x}_{1,1}, \\boldsymbol{x}_{2,1}, \\dots, \\boldsymbol{x}_{N,1})$ with $\\boldsymbol{x}_{0,i} \\in \\mathbb{R}^D$\n",
    "\n",
    "---\n",
    "\n",
    "**for all** generation $t = 1, \\dots, T$ **do**\n",
    "\n",
    "$\\quad$ **for all** individuals $i = 1, \\dots, N$ **do**\n",
    "\n",
    "$\\quad\\quad$ **1. Mutation:**\n",
    "\n",
    "$\\quad\\quad\\quad$ Randomly choose 3 different individuals $\\boldsymbol{x}_{r1,t}$, $\\boldsymbol{x}_{r2,t}$ and $\\boldsymbol{x}_{r3,t}$ in the population\n",
    "\n",
    "$\\quad\\quad\\quad$ Make a donor vector $\\boldsymbol{v}_{i,t}$ as the following\n",
    "\n",
    "$\\quad\\quad\\quad \\boldsymbol{v}_{i,t} \\leftarrow \\boldsymbol{x}_{r1,t} + F (\\boldsymbol{x}_{r2,t} - \\boldsymbol{x}_{r3,t})$\n",
    "\n",
    "$\\quad\\quad$ **2. Crossover:** make a test individual $\\boldsymbol{u}_{i,t}$ from $\\boldsymbol{x}_{i,t}$ and $\\boldsymbol{v}_{i,t}$\n",
    "\n",
    "$\\quad\\quad\\quad$ Randomly choose a dimension index $d_{r,i}$.\n",
    "\n",
    "$\\quad\\quad\\quad$ **for all** dimension $d = 1, \\dots, D$ **do**\n",
    "\n",
    "$$\n",
    "u_{d,i,t} \\leftarrow\n",
    "\\left\\{\n",
    "\\begin{align}\n",
    "v_{d,i,t} \\quad & \\text{ if } \\mathcal{B}(Cr) = 1 \\text{ or if } d = d_{r,i}\\\\\n",
    "x_{d,i,t} \\quad & \\text{ otherwise.}\n",
    "\\end{align}\n",
    "\\right.\n",
    "$$\n",
    "\n",
    "$\\quad\\quad\\quad\\quad$ where $\\mathcal{B}(Cr)$ is a Bernoulli random variable of parameter $Cr$\n",
    "\n",
    "$\\quad\\quad\\quad\\quad$ and where $u_{d,i,t}$, $v_{d,i,t}$ and $x_{d,i,t}$ are respectively the $d^{th}$ component of $\\boldsymbol{u}_{i,t}$, $\\boldsymbol{v}_{i,t}$ and $\\boldsymbol{x}_{i,t}$\n",
    "\n",
    "$\\quad\\quad$ **3. Selection:**\n",
    "\n",
    "$\\quad\\quad\\quad$ **If** $f(\\boldsymbol{u}_{i,t}) < f(\\boldsymbol{x}_{i,t})$\n",
    "\n",
    "$\\quad\\quad\\quad\\quad \\boldsymbol{x}_{i,t+1} \\leftarrow \\boldsymbol{u}_{i,t}$\n",
    "\n",
    "$\\quad\\quad\\quad$ **Else**\n",
    "\n",
    "$\\quad\\quad\\quad\\quad \\boldsymbol{x}_{i,t+1} \\leftarrow \\boldsymbol{x}_{i,t}$\n",
    "\n",
    "$\\quad$ **end for**\n",
    "\n",
    "**end for**"
   ]
  },
  {
   "cell_type": "code",
   "execution_count": null,
   "metadata": {
    "tags": [
     "hide"
    ]
   },
   "outputs": [],
   "source": [
    "# import python packages here..."
   ]
  }
 ],
 "metadata": {
  "anaconda-cloud": {},
  "celltoolbar": "Tags",
  "kernelspec": {
   "display_name": "Python [default]",
   "language": "python",
   "name": "python3"
  },
  "language_info": {
   "codemirror_mode": {
    "name": "ipython",
    "version": 3
   },
   "file_extension": ".py",
   "mimetype": "text/x-python",
   "name": "python",
   "nbconvert_exporter": "python",
   "pygments_lexer": "ipython3",
   "version": "3.5.3"
  }
 },
 "nbformat": 4,
 "nbformat_minor": 1
}
