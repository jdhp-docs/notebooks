{
 "cells": [
  {
   "cell_type": "markdown",
   "metadata": {},
   "source": [
    "# Unconstrained local optimization with Scipy (Newton algorithm)"
   ]
  },
  {
   "cell_type": "code",
   "execution_count": null,
   "metadata": {},
   "outputs": [],
   "source": [
    "%matplotlib inline\n",
    "\n",
    "import matplotlib\n",
    "\n",
    "try:\n",
    "    from ailiib.utils.plot import plot_2d_contour_solution_space, plot_2d_solution_space\n",
    "    from ailib.optimize.functions.unconstrained import rosen2d\n",
    "except ModuleNotFoundError:\n",
    "    print(\"Please install ailib:\")\n",
    "    print(\"pip install ailib\")\n",
    "\n",
    "import numpy as np\n",
    "\n",
    "from scipy import optimize"
   ]
  },
  {
   "cell_type": "markdown",
   "metadata": {},
   "source": [
    "## The the Newton-Raphson method"
   ]
  },
  {
   "cell_type": "markdown",
   "metadata": {},
   "source": [
    "Official documentation:\n",
    "* https://docs.scipy.org/doc/scipy/reference/generated/scipy.optimize.newton.html"
   ]
  },
  {
   "cell_type": "code",
   "execution_count": null,
   "metadata": {},
   "outputs": [],
   "source": [
    "func = rosen2d\n",
    "\n",
    "bounds = [[-10, 10], [-10, 10]]\n",
    "\n",
    "res = optimize.newton(func, x0=[1., 1.])\n",
    "\n",
    "print(\"x* =\", res)"
   ]
  },
  {
   "cell_type": "markdown",
   "metadata": {},
   "source": [
    "## Plot solution"
   ]
  },
  {
   "cell_type": "code",
   "execution_count": null,
   "metadata": {},
   "outputs": [],
   "source": [
    "plot_2d_contour_solution_space(func,\n",
    "                               xmin=[-10, -5],\n",
    "                               xmax=10*np.ones(2),\n",
    "                               xstar=res,\n",
    "                               title=\"Rosenbrock function\")\n",
    "\n",
    "plt.tight_layout()\n",
    "\n",
    "plt.show();"
   ]
  },
  {
   "cell_type": "code",
   "execution_count": null,
   "metadata": {},
   "outputs": [],
   "source": [
    "plot_2d_solution_space(func,\n",
    "                       xmin=-2*np.ones(2),\n",
    "                       xmax=2*np.ones(2),\n",
    "                       xstar=res,\n",
    "                       angle_view=(55, 83),\n",
    "                       title=\"Sphere function\")\n",
    "\n",
    "plt.tight_layout()\n",
    "\n",
    "plt.show();"
   ]
  }
 ],
 "metadata": {
  "anaconda-cloud": {},
  "celltoolbar": "Tags",
  "kernelspec": {
   "display_name": "Python 3",
   "language": "python",
   "name": "python3"
  },
  "language_info": {
   "codemirror_mode": {
    "name": "ipython",
    "version": 3
   },
   "file_extension": ".py",
   "mimetype": "text/x-python",
   "name": "python",
   "nbconvert_exporter": "python",
   "pygments_lexer": "ipython3",
   "version": "3.7.4"
  }
 },
 "nbformat": 4,
 "nbformat_minor": 4
}
