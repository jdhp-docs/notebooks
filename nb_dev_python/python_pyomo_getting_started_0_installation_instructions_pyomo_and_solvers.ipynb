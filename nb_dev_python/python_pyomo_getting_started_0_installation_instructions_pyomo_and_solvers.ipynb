{
 "cells": [
  {
   "cell_type": "markdown",
   "metadata": {},
   "source": [
    "# Pyomo - Installation instructions"
   ]
  },
  {
   "cell_type": "markdown",
   "metadata": {},
   "source": [
    "## Pyomo + solvers installation"
   ]
  },
  {
   "cell_type": "markdown",
   "metadata": {},
   "source": [
    "### Pyomo"
   ]
  },
  {
   "cell_type": "markdown",
   "metadata": {},
   "source": [
    "Pyomo installation (see http://www.pyomo.org/installation):\n",
    "\n",
    "```\n",
    "pip install pyomo\n",
    "```\n",
    "\n",
    "or with Anaconda:\n",
    "\n",
    "```\n",
    "conda install -c conda-forge pyomo\n",
    "conda install -c conda-forge pyomo.extras\n",
    "```"
   ]
  },
  {
   "cell_type": "markdown",
   "metadata": {},
   "source": [
    "### GLPK"
   ]
  },
  {
   "cell_type": "markdown",
   "metadata": {},
   "source": [
    "GLPK installation:\n",
    "\n",
    "```\n",
    "apt-get install -y -qq glpk-utils\n",
    "```\n",
    "\n",
    "or with Anaconda (https://anaconda.org/conda-forge/glpk):\n",
    "\n",
    "```\n",
    "conda install -c conda-forge glpk\n",
    "```"
   ]
  },
  {
   "cell_type": "markdown",
   "metadata": {},
   "source": [
    "### Coin-OR CBC"
   ]
  },
  {
   "cell_type": "markdown",
   "metadata": {},
   "source": [
    "Coin-OR CBC installation:\n",
    "\n",
    "```\n",
    "apt-get install -y -qq coinor-cbc\n",
    "```\n",
    "\n",
    "or using AMPL binaries:\n",
    "\n",
    "```\n",
    "wget -N -q \"https://ampl.com/dl/open/cbc/cbc-linux64.zip\"\n",
    "unzip -o -q cbc-linux64\n",
    "```\n",
    "\n",
    "or with Anaconda (https://anaconda.org/conda-forge/coincbc):\n",
    "\n",
    "```\n",
    "conda install -c conda-forge coincbc\n",
    "```"
   ]
  },
  {
   "cell_type": "markdown",
   "metadata": {},
   "source": [
    "### Coin-OR Ipopt"
   ]
  },
  {
   "cell_type": "markdown",
   "metadata": {},
   "source": [
    "Coin-OR Ipopt installation (AMPL binaries):\n",
    "\n",
    "```\n",
    "wget -N -q \"https://ampl.com/dl/open/ipopt/ipopt-linux64.zip\"\n",
    "unzip -o -q ipopt-linux64\n",
    "```\n",
    "\n",
    "or with Anaconda (https://anaconda.org/conda-forge/ipopt):\n",
    "\n",
    "```\n",
    "conda install -c conda-forge ipopt\n",
    "```"
   ]
  },
  {
   "cell_type": "markdown",
   "metadata": {},
   "source": [
    "### Coin-OR Bonmin"
   ]
  },
  {
   "cell_type": "markdown",
   "metadata": {},
   "source": [
    "Coin-OR Bonmin installation (AMPL binaries):\n",
    "\n",
    "```\n",
    "wget -N -q \"https://ampl.com/dl/open/bonmin/bonmin-linux64.zip\"\n",
    "unzip -o -q bonmin-linux64\n",
    "```"
   ]
  },
  {
   "cell_type": "markdown",
   "metadata": {},
   "source": [
    "### Coin-OR Couenne"
   ]
  },
  {
   "cell_type": "markdown",
   "metadata": {},
   "source": [
    "Coin-OR Couenne installation (AMPL binaries):\n",
    "\n",
    "```\n",
    "wget -N -q \"https://ampl.com/dl/open/couenne/couenne-linux64.zip\"\n",
    "unzip -o -q couenne-linux64\n",
    "```"
   ]
  },
  {
   "cell_type": "markdown",
   "metadata": {},
   "source": [
    "### Coin-OR Gecode"
   ]
  },
  {
   "cell_type": "markdown",
   "metadata": {},
   "source": [
    "Coin-OR Gecode installation (AMPL binaries):\n",
    "\n",
    "```\n",
    "wget -N -q \"https://ampl.com/dl/open/gecode/gecode-linux64.zip\"\n",
    "unzip -o -q gecode-linux64\n",
    "```"
   ]
  },
  {
   "cell_type": "markdown",
   "metadata": {},
   "source": [
    "### More information"
   ]
  },
  {
   "cell_type": "markdown",
   "metadata": {},
   "source": [
    "See also these excellent tutorials that details how to install Pyomo and several solvers (GLPK, COIN-OR CBC, COIN-OR Ipopt, ...):\n",
    "- https://nbviewer.jupyter.org/github/jckantor/ND-Pyomo-Cookbook/blob/master/notebooks/01.01-Installing-Pyomo.ipynb\n",
    "- https://nbviewer.jupyter.org/github/jckantor/ND-Pyomo-Cookbook/blob/master/notebooks/01.02-Running-Pyomo-on-Google-Colab.ipynb\n",
    "- https://nbviewer.jupyter.org/github/jckantor/ND-Pyomo-Cookbook/blob/master/notebooks/01.04-Cross-Platform-Installation-of-Pyomo-and-Solvers.ipynb"
   ]
  }
 ],
 "metadata": {
  "kernelspec": {
   "display_name": "Python 3",
   "language": "python",
   "name": "python3"
  },
  "language_info": {
   "codemirror_mode": {
    "name": "ipython",
    "version": 3
   },
   "file_extension": ".py",
   "mimetype": "text/x-python",
   "name": "python",
   "nbconvert_exporter": "python",
   "pygments_lexer": "ipython3",
   "version": "3.7.3"
  }
 },
 "nbformat": 4,
 "nbformat_minor": 4
}
