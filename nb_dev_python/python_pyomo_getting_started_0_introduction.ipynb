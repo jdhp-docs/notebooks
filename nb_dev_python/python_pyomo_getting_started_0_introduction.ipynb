{
 "cells": [
  {
   "cell_type": "markdown",
   "metadata": {
    "tags": [
     "meta",
     "draft"
    ]
   },
   "source": [
    "# Mathematical programming with Pyomo"
   ]
  },
  {
   "cell_type": "markdown",
   "metadata": {},
   "source": [
    "Author: Jérémie Decock (2019)"
   ]
  },
  {
   "cell_type": "markdown",
   "metadata": {},
   "source": [
    "[![Binder](https://mybinder.org/badge_logo.svg)](https://mybinder.org/v2/gh/jdhp-docs/notebooks/master?urlpath=apps%2Fnb_sci_ai%2Fai_ml_multilayer_perceptron_fr.ipynb)"
   ]
  },
  {
   "cell_type": "markdown",
   "metadata": {},
   "source": [
    "## What is mathematical programming"
   ]
  },
  {
   "cell_type": "markdown",
   "metadata": {},
   "source": [
    "Mathematical programming aims at finding the *solutions* (vectors) which minimize (or maximize) an *objective function*, the feasible solution space being defined by a set of *constraints* (equations and inequations).\n",
    "\n",
    "Very basic example of *linear program* (i.e. a mathematical optimization problem with a linear objective function and linear constraints):\n",
    "\n",
    "$$\n",
    "\\begin{align}\n",
    "    \\min_{x_1,x_2} & \\quad -x_1 + 4 x_2 \\\\\n",
    "    \\text{s.t.}    & \\quad -3 x_1 + x_2 \\leq 6 \\\\\n",
    "                   & \\quad -x_1 - 2 x_2 \\geq -4 \\\\\n",
    "                   & \\quad  x_1 \\leq 10\n",
    "\\end{align}\n",
    "$$\n",
    "\n",
    "The first line is the objective function and the following inequations are the constraints that define the solution space.\n",
    "\n",
    "The optimal solution of this problem is $\\boldsymbol{x}^* = \\begin{pmatrix}10 \\\\ -3\\end{pmatrix}$ with a cost equals to -22."
   ]
  },
  {
   "cell_type": "code",
   "execution_count": null,
   "metadata": {
    "tags": [
     "hide"
    ]
   },
   "outputs": [],
   "source": [
    "%matplotlib inline\n",
    "\n",
    "import matplotlib.pyplot as plt\n",
    "import seaborn as sns"
   ]
  },
  {
   "cell_type": "code",
   "execution_count": null,
   "metadata": {
    "tags": [
     "hide"
    ]
   },
   "outputs": [],
   "source": [
    "sns.set_context('talk')"
   ]
  },
  {
   "cell_type": "code",
   "execution_count": null,
   "metadata": {
    "tags": [
     "hide_code"
    ]
   },
   "outputs": [],
   "source": [
    "def intersect(A, b):\n",
    "    # Ax = b   <=>   x = A^{-1} b\n",
    "    inv_A = np.linalg.inv(A)\n",
    "    return np.dot(inv_A, b)\n",
    "\n",
    "fig, ax = plt.subplots(figsize=(16, 10))\n",
    "\n",
    "a1 = [-3,  1]\n",
    "a2 = [-1, -2]\n",
    "a3 = [ 1,  0]\n",
    "\n",
    "a4 = [ 1,  0]\n",
    "a5 = [ 1,  0]\n",
    "a6 = [ 0,  1]\n",
    "a7 = [ 0,  1]\n",
    "\n",
    "b1 =  6\n",
    "b2 = -4\n",
    "b3 = 10\n",
    "\n",
    "b4 = -3\n",
    "b5 = 12\n",
    "b6 = -10\n",
    "b7 = 50\n",
    "\n",
    "A = np.array([a1, a2])\n",
    "b = np.array([[b1], [b2]])\n",
    "p12 = intersect(A, b)\n",
    "\n",
    "A = np.array([a1, a3])\n",
    "b = np.array([[b1], [b3]])\n",
    "p13 = intersect(A, b)\n",
    "\n",
    "A = np.array([a2, a3])\n",
    "b = np.array([[b2], [b3]])\n",
    "p23 = intersect(A, b)\n",
    "\n",
    "A = np.array([a1, a4])\n",
    "b = np.array([[b1], [b4]])\n",
    "p14 = intersect(A, b)\n",
    "\n",
    "A = np.array([a1, a5])\n",
    "b = np.array([[b1], [b5]])\n",
    "p15 = intersect(A, b)\n",
    "\n",
    "A = np.array([a2, a4])\n",
    "b = np.array([[b2], [b4]])\n",
    "p24 = intersect(A, b)\n",
    "\n",
    "A = np.array([a2, a5])\n",
    "b = np.array([[b2], [b5]])\n",
    "p25 = intersect(A, b)\n",
    "\n",
    "A = np.array([a3, a6])\n",
    "b = np.array([[b3], [b6]])\n",
    "p36 = intersect(A, b)\n",
    "\n",
    "A = np.array([a3, a7])\n",
    "b = np.array([[b3], [b7]])\n",
    "p37 = intersect(A, b)\n",
    "\n",
    "ax.plot([p14[0], p15[0]], [p14[1], p15[1]], \":k\")\n",
    "ax.plot([p24[0], p25[0]], [p24[1], p25[1]], \":k\")\n",
    "ax.plot([p36[0], p37[0]], [p36[1], p37[1]], \":k\")\n",
    "\n",
    "ax.plot([p12[0], p13[0]], [p12[1], p13[1]], \"o-k\")\n",
    "ax.plot([p12[0], p23[0]], [p12[1], p23[1]], \"o-k\")\n",
    "ax.plot([p13[0], p23[0]], [p13[1], p23[1]], \"o-k\")\n",
    "\n",
    "plt.fill_between([float(p12[0]), b3], np.array([p12[1], p13[1]]).flatten(), np.array([p12[1], p23[1]]).flatten(), facecolor='red', alpha=0.5)\n",
    "\n",
    "ax.plot([p23[0]], [p23[1]], \"or\")\n",
    "\n",
    "# CONTOURS ###\n",
    "\n",
    "delta = 0.1\n",
    "x1 = np.arange(b4, b5, delta)\n",
    "x2 = np.arange(b6, b7, delta)\n",
    "X1, X2 = np.meshgrid(x1, x2)\n",
    "\n",
    "Z = -X1 + 4*X2\n",
    "\n",
    "cs = plt.contour(x1, x2, Z,\n",
    "                 alpha=0.5,\n",
    "                 label=\"TC\")\n",
    "ax.clabel(cs, inline=False, fontsize=12)\n",
    "\n",
    "ax.set_xlabel(\"x1\")\n",
    "ax.set_ylabel(\"x2\");"
   ]
  },
  {
   "cell_type": "markdown",
   "metadata": {},
   "source": [
    "Here, the solution space defined by the three constraints is depicted by the red area.\n",
    "Colored lines are isocontours of the objective function.\n",
    "The red dot is the optimal solution (the point in the red area that minimize the objective function)."
   ]
  },
  {
   "cell_type": "markdown",
   "metadata": {},
   "source": [
    "Note: a **linear** program can be fully defined with one matrix and two vectors (respectively $\\color{\\orange}{A}$, $\\color{\\green}{b}$ and $\\color{\\red}{c}$ in the following example):\n",
    "\n",
    "$$\n",
    "\\begin{align}\n",
    "    \\min_{\\boldsymbol{x}} & \\quad \\color{\\red}{\\boldsymbol{c}}^{\\top} \\boldsymbol{x} \\\\\n",
    "    \\text{s.t.}           & \\quad \\color{\\orange}{\\boldsymbol{A}} \\boldsymbol{x} \\leq \\color{\\green}{\\boldsymbol{b}}\n",
    "\\end{align}\n",
    "$$\n",
    "\n",
    "$$\n",
    "\\color{\\red}{\n",
    "\\boldsymbol{c} = \\begin{pmatrix}\n",
    "    c_1 \\\\\n",
    "    c_2 \\\\\n",
    "    \\vdots\n",
    "\\end{pmatrix}\n",
    "}\n",
    "\\quad\n",
    "\\color{\\orange}{\n",
    "\\boldsymbol{A} = \\begin{pmatrix}\n",
    "    A_{1,1} & A_{1,2} & \\cdots \\\\\n",
    "    A_{2,1} & A_{2,2} & \\cdots\\\\\n",
    "    \\vdots  & \\vdots  & \\ddots\n",
    "\\end{pmatrix}\n",
    "}\n",
    "\\quad\n",
    "\\color{\\green}{\n",
    "\\boldsymbol{b} = \\begin{pmatrix}\n",
    "    b_1 \\\\\n",
    "    b_2 \\\\\n",
    "    \\vdots\n",
    "\\end{pmatrix}\n",
    "}\n",
    "$$"
   ]
  },
  {
   "cell_type": "markdown",
   "metadata": {
    "tags": [
     "hide"
    ]
   },
   "source": [
    "Kind of problems solved in mathematical programming:\n",
    "- Linear programming (LP): linear objective function and constraints, continuous solution space\n",
    "- Quadratic programming (QP): quadratic objective function and constraints, continuous solution space\n",
    "- Nonlinear programming: nonlinear objective function and constraints, continuous solution space\n",
    "- Mixed-integer linear programming (MILP): linear objective function and constraints, locally discrete or continuous solution space\n",
    "- Mixed-integer quadratic programming: quadratic objective function and constraints, locally discrete or continuous solution space\n",
    "- Mixed-integer nonlinear programming: nonlinear objective function and constraints, locally discrete or continuous solution space\n",
    "- Stochastic programming\n",
    "- Generalized disjunctive programming\n",
    "- Differential algebraic equations\n",
    "- Bilevel programming\n",
    "- Mathematical programs with equilibrium constraints"
   ]
  },
  {
   "cell_type": "markdown",
   "metadata": {},
   "source": [
    "The two main components involved in mathematical programming are:\n",
    "- *Algebraic modeling tools* and *Algebraic modeling language*: languages or libraries used to easily *define* optimization problems (optional but very often used)\n",
    "- *Solvers*: they implement algorithms used to find the optimal solution to optimization problems\n",
    "\n",
    "Problems are defined with *Algebraic modeling tools* (in a specific *Algebraic modeling language*).\n",
    "Then the *Algebraic modeling tools* submit this problem to a selected *solver* and get back the optimal solution(s).\n",
    "*Algebraic modeling tools* are usually compatible with several solvers (thanks to common formats or libraries)."
   ]
  },
  {
   "cell_type": "markdown",
   "metadata": {},
   "source": [
    "### Algebraic modeling language (AML)\n",
    "\n",
    "See https://en.wikipedia.org/wiki/Algebraic_modeling_language\n",
    "\n",
    "Examples of commercial AMLs:\n",
    "- [AMPL](https://en.wikipedia.org/wiki/AMPL)\n",
    "- [GAMS](https://en.wikipedia.org/wiki/General_Algebraic_Modeling_System)\n",
    "- [AIMMS](https://en.wikipedia.org/wiki/AIMMS)\n",
    "\n",
    "Examples of open source AMLs:\n",
    "- [Pyomo](https://en.wikipedia.org/wiki/Pyomo)\n",
    "- [PuLP](https://en.wikipedia.org/wiki/COIN-OR#PuLP)\n",
    "- [SMI](https://en.wikipedia.org/wiki/COIN-OR#SMI): a stochastic programming modeler and solver\n",
    "- [GNU MathProg (previously known as GMPL)](https://en.wikipedia.org/wiki/GNU_Linear_Programming_Kit)"
   ]
  },
  {
   "cell_type": "markdown",
   "metadata": {},
   "source": [
    "### Solvers\n",
    "\n",
    "Examples of commercial solvers:\n",
    "- [CPLEX](https://en.wikipedia.org/wiki/CPLEX): linear, quadratic, second-order cone and mixed integer programming \n",
    "- [Xpress]()\n",
    "- [Gurobi]()\n",
    "- [MOSEK](https://en.wikipedia.org/wiki/MOSEK)\n",
    "- [Artelys Knitro](https://en.wikipedia.org/wiki/Artelys_Knitro): linear, quadratic and nonlinear programming\n",
    "\n",
    "Examples of open source solvers:\n",
    "- [GLPK](https://en.wikipedia.org/wiki/GNU_Linear_Programming_Kit): solve linear and mixed integer programming\n",
    "- [COIN-OR CLP]()\n",
    "- [COIN-OR CBC]()\n",
    "- [IPOPT]()\n",
    "- [Bonmin]()\n",
    "- [Couenne]()\n",
    "- [JaCoP](): a constraint solver for constraint satisfaction problems"
   ]
  },
  {
   "cell_type": "markdown",
   "metadata": {},
   "source": [
    "## What is Pyomo\n",
    "\n",
    "Pyomo is a Python-based open-source optimization *modeling language* for mathematical programming.\n",
    "\n",
    "See http://www.pyomo.org/about"
   ]
  },
  {
   "cell_type": "markdown",
   "metadata": {},
   "source": [
    "## Getting started with Pyomo"
   ]
  },
  {
   "cell_type": "markdown",
   "metadata": {
    "tags": [
     "hide"
    ]
   },
   "source": [
    "**TODO** Installation instructions (Pyomo + open source solvers) can be find on [this page](http://www.jdhp.org/docs/notebook/python_pyomo_getting_started_0_installation_instructions_pyomo_and_solvers.html) or [this one](https://nbviewer.jupyter.org/github/jckantor/ND-Pyomo-Cookbook/blob/master/notebooks/01.01-Installing-Pyomo.ipynb)."
   ]
  },
  {
   "cell_type": "markdown",
   "metadata": {},
   "source": [
    "Installation instructions (Pyomo + open source solvers) can be find on [this page](https://nbviewer.jupyter.org/github/jckantor/ND-Pyomo-Cookbook/blob/master/notebooks/01.01-Installing-Pyomo.ipynb)."
   ]
  },
  {
   "cell_type": "markdown",
   "metadata": {},
   "source": [
    "As an alternative, [Google Colaboratory](https://colab.research.google.com/) can be used to work directly in the cloud and avoid local installation (check for instance [this page](https://nbviewer.jupyter.org/github/jckantor/ND-Pyomo-Cookbook/blob/master/notebooks/01.02-Running-Pyomo-on-Google-Colab.ipynb)).\n",
    "\n",
    "Pyomo's official documentation [is there](http://www.pyomo.org/documentation) and very nice tutorials are [available there](https://jckantor.github.io/ND-Pyomo-Cookbook/)."
   ]
  },
  {
   "cell_type": "markdown",
   "metadata": {},
   "source": [
    "## References\n",
    "\n",
    "- Pyomo's official guide: [*Pyomo — Optimization Modeling in Python*, William E. Hart et al., Springer International Publishing (2nd edition) ; 2017](https://focus.universite-paris-saclay.fr/primo-explore/fulldisplay?docid=TN_springer_series978-3-319-58821-6&context=PC&vid=33PUP_VU1&lang=fr_FR&search_scope=default_scope&adaptor=primo_central_multiple_fe&tab=default_tab&query=any,contains,978-3-319-58819-3)\n",
    "- Modeling optimization problems: [*Optimisation discrète : de la modélisation à la résolution par des logiciels de programmation mathématique*, Alain Billionnet, Paris, Dunod, 2007](https://focus.universite-paris-saclay.fr/primo-explore/fulldisplay?docid=33IMT_ILS24771&context=L&vid=33PUP_VU1&lang=fr_FR&tab=default_tab&query=any,contains,optimisation%20discr%C3%A8te,AND&query=creator,contains,billionnet,AND&mode=advanced&offset=0) (in French)"
   ]
  }
 ],
 "metadata": {
  "kernelspec": {
   "display_name": "Python 3",
   "language": "python",
   "name": "python3"
  },
  "language_info": {
   "codemirror_mode": {
    "name": "ipython",
    "version": 3
   },
   "file_extension": ".py",
   "mimetype": "text/x-python",
   "name": "python",
   "nbconvert_exporter": "python",
   "pygments_lexer": "ipython3",
   "version": "3.7.4"
  }
 },
 "nbformat": 4,
 "nbformat_minor": 4
}
