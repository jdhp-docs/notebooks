{
 "cells": [
  {
   "cell_type": "markdown",
   "metadata": {
    "tags": [
     "meta",
     "draft"
    ]
   },
   "source": [
    "# Cities near Paris Saclay"
   ]
  },
  {
   "cell_type": "markdown",
   "metadata": {
    "tags": [
     "hide"
    ]
   },
   "source": [
    "http://geopandas.org/gallery/plotting_basemap_background.html#adding-a-background-map-to-plots"
   ]
  },
  {
   "cell_type": "markdown",
   "metadata": {},
   "source": [
    "https://www.data.gouv.fr/fr/datasets/contours-des-departements-francais-issus-d-openstreetmap/"
   ]
  },
  {
   "cell_type": "code",
   "execution_count": null,
   "metadata": {},
   "outputs": [],
   "source": [
    "!wget http://osm13.openstreetmap.fr/~cquest/openfla/export/communes-20180101-shp.zip"
   ]
  },
  {
   "cell_type": "code",
   "execution_count": null,
   "metadata": {},
   "outputs": [],
   "source": [
    "!unzip -u communes-20180101-shp.zip"
   ]
  },
  {
   "cell_type": "code",
   "execution_count": null,
   "metadata": {
    "tags": [
     "hide"
    ]
   },
   "outputs": [],
   "source": [
    "import geopandas"
   ]
  },
  {
   "cell_type": "markdown",
   "metadata": {},
   "source": [
    "- **TODO**: put the following lists in a JSON dict and make it avaliable in a public Git repository (it can be usefull for other uses)\n",
    "- **TODO**: put the generated GeoJSON files in a public Git repository"
   ]
  },
  {
   "cell_type": "code",
   "execution_count": null,
   "metadata": {},
   "outputs": [],
   "source": [
    "df = geopandas.read_file(\"communes-20181110.shp\")\n",
    "#df = df.loc[df.insee == \"78646\"]"
   ]
  },
  {
   "cell_type": "code",
   "execution_count": null,
   "metadata": {},
   "outputs": [],
   "source": [
    "dept_78 = [str(insee) for insee in df.insee.values if insee.startswith(\"78\")]\n",
    "dept_91 = [str(insee) for insee in df.insee.values if insee.startswith(\"91\")]\n",
    "dept_92 = [str(insee) for insee in df.insee.values if insee.startswith(\"92\")]\n",
    "dept_95 = [str(insee) for insee in df.insee.values if insee.startswith(\"95\")]\n",
    "dept_78, dept_91, dept_92, dept_95"
   ]
  },
  {
   "cell_type": "code",
   "execution_count": null,
   "metadata": {},
   "outputs": [],
   "source": [
    "## Yvelines ##########################################\n",
    "\n",
    "# https://fr.wikipedia.org/wiki/Yvelines#D%C3%A9coupage_administratif\n",
    "# https://commons.wikimedia.org/wiki/File:Yvelines_intercommunalit%C3%A9.svg?uselang=fr\n",
    "\n",
    "# https://fr.wikipedia.org/wiki/Saint-Quentin-en-Yvelines\n",
    "communes_sqy = [\n",
    "    \"78621\", # Trappes\n",
    "    \"78165\", # Les Clayes-sous-Bois\n",
    "    \"78168\", # Coignières\n",
    "    \"78208\", # Élancourt\n",
    "    \"78297\", # Guyancourt\n",
    "    \"78356\", # Magny-les-Hameaux\n",
    "    \"78383\", # Maurepas\n",
    "    \"78423\", # Montigny-le-Bretonneux\n",
    "    \"78490\", # Plaisir\n",
    "    \"78644\", # La Verrière\n",
    "    \"78674\", # Villepreux\n",
    "    \"78688\", # Voisins-le-Bretonneux\n",
    "]\n",
    "\n",
    "# https://fr.wikipedia.org/wiki/Canton_de_Montigny-le-Bretonneux\n",
    "canton_montigny = [\n",
    "    \"78423\", # Montigny-le-Bretonneux\n",
    "    \"78297\", # Guyancourt\n",
    "]\n",
    "\n",
    "# https://fr.wikipedia.org/wiki/Canton_de_Versailles-1\n",
    "canton_versailles1 = [\n",
    "    \"78646\", # Versailles\n",
    "]\n",
    "\n",
    "# https://fr.wikipedia.org/wiki/Canton_de_Versailles-2\n",
    "canton_versailles2 = [\n",
    "    \"78646\", # Versailles\n",
    "    \"78117\", # Buc\n",
    "    \"78322\", # Jouy-en-Josas\n",
    "    \"78343\", # Les Loges-en-Josas\n",
    "    \"78640\", # Vélizy-Villacoublay\n",
    "    \"78686\", # Viroflay\n",
    "]\n",
    "\n",
    "# https://fr.wikipedia.org/wiki/Canton_de_Maurepas\n",
    "canton_maurepas = [\n",
    "    \"78383\", # Maurepas\n",
    "    \"78143\", # Châteaufort\n",
    "    \"78160\", # Chevreuse\n",
    "    \"78162\", # Choisel\n",
    "    \"78168\", # Coignières\n",
    "    \"78193\", # Dampierre-en-Yvelines\n",
    "    \"78334\", # Lévis-Saint-Nom\n",
    "    \"78356\", # Magny-les-Hameaux\n",
    "    \"78397\", # Le Mesnil-Saint-Denis\n",
    "    \"78406\", # Milon-la-Chapelle\n",
    "    \"78548\", # Saint-Forget\n",
    "    \"78561\", # Saint-Lambert\n",
    "    \"78575\", # Saint-Rémy-lès-Chevreuse\n",
    "    \"78590\", # Senlisse\n",
    "    \"78620\", # Toussus-le-Noble\n",
    "    \"78688\", # Voisins-le-Bretonneux\n",
    "]\n",
    "\n",
    "# https://fr.wikipedia.org/wiki/Canton_de_Rambouillet\n",
    "canton_rambouillet = [\n",
    "    \"78517\", # Rambouillet\n",
    "    \"78003\", # Ablis\n",
    "    \"78009\", # Allainville\n",
    "    \"78030\", # Auffargis\n",
    "    \"78071\", # Boinville-le-Gaillard\n",
    "    \"78077\", # La Boissière-École\n",
    "    \"78087\", # Bonnelles\n",
    "    \"78108\", # Les Bréviaires\n",
    "    \"78120\", # Bullion\n",
    "    \"78125\", # La Celle-les-Bordes\n",
    "    \"78128\", # Cernay-la-Ville\n",
    "    \"78164\", # Clairefontaine-en-Yvelines\n",
    "    \"78209\", # Émancé\n",
    "    \"78220\", # Les Essarts-le-Roi\n",
    "    \"78264\", # Gambaiseuil\n",
    "    \"78269\", # Gazeran\n",
    "    \"78307\", # Hermeray\n",
    "    \"78349\", # Longvilliers\n",
    "    \"78407\", # Mittainville\n",
    "    \"78464\", # Orcemont\n",
    "    \"78470\", # Orphin\n",
    "    \"78472\", # Orsonville\n",
    "    \"78478\", # Paray-Douaville\n",
    "    \"78486\", # Le Perray-en-Yvelines\n",
    "    \"78497\", # Poigny-la-Forêt\n",
    "    \"78499\", # Ponthévrard\n",
    "    \"78506\", # Prunay-en-Yvelines\n",
    "    \"78516\", # Raizeux\n",
    "    \"78522\", # Rochefort-en-Yvelines\n",
    "    \"78537\", # Saint-Arnoult-en-Yvelines\n",
    "    \"78557\", # Saint-Hilarion\n",
    "    \"78562\", # Saint-Léger-en-Yvelines\n",
    "    \"78564\", # Saint-Martin-de-Bréthencourt\n",
    "    \"78569\", # Sainte-Mesme\n",
    "    \"78601\", # Sonchamp\n",
    "    \"78655\", # Vieille-Église-en-Yvelines\n",
    "]\n",
    "\n",
    "## Essonne ###########################################\n",
    "\n",
    "# https://fr.wikipedia.org/wiki/Canton_de_Massy\n",
    "canton_massy = [\n",
    "    \"91377\", # Massy\n",
    "    \"91161\", # Chilly-Mazarin\n",
    "]\n",
    "\n",
    "# https://fr.wikipedia.org/wiki/Canton_de_Palaiseau\n",
    "canton_palaiseau = [\n",
    "    \"91477\", # Palaiseau\n",
    "    \"91312\", # Igny\n",
    "    \"91471\", # Orsay\n",
    "]\n",
    "\n",
    "# https://fr.wikipedia.org/wiki/Canton_de_Gif-sur-Yvette\n",
    "canton_gif = [\n",
    "    \"91272\", # Gif-sur-Yvette\n",
    "    \"91064\", # Bièvres\n",
    "    \"91093\", # Boullay-les-Troux\n",
    "    \"91122\", # Bures-sur-Yvette\n",
    "    \"91274\", # Gometz-la-Ville\n",
    "    \"91411\", # Les Molières\n",
    "    \"91482\", # Pecqueuse\n",
    "    \"91534\", # Saclay\n",
    "    \"91538\", # Saint-Aubin\n",
    "    \"91635\", # Vauhallan\n",
    "    \"91645\", # Verrières-le-Buisson\n",
    "    \"91679\", # Villiers-le-Bâcle\n",
    "]\n",
    "\n",
    "# https://fr.wikipedia.org/wiki/Canton_des_Ulis\n",
    "canton_les_ulis = [\n",
    "    \"91692\", # Les Ulis\n",
    "    \"91275\", # Gometz-le-Châtel\n",
    "    \"91363\", # Marcoussis\n",
    "    \"91458\", # Nozay\n",
    "    \"91560\", # Saint-Jean-de-Beauregard\n",
    "    \"91661\", # Villebon-sur-Yvette\n",
    "    \"91666\", # Villejust\n",
    "]\n",
    "\n",
    "# https://fr.wikipedia.org/wiki/Canton_de_Longjumeau\n",
    "canton_longjumeau = [\n",
    "    \"91345\", # Longjumeau\n",
    "    \"91044\", # Ballainvilliers\n",
    "    \"91136\", # Champlan\n",
    "    \"91216\", # Épinay-sur-Orge\n",
    "    \"91339\", # Linas\n",
    "    \"91425\", # Montlhéry\n",
    "    \"91587\", # Saulx-les-Chartreux\n",
    "    \"91665\", # La Ville-du-Bois\n",
    "]\n",
    "\n",
    "# https://fr.wikipedia.org/wiki/Canton_de_Savigny-sur-Orge\n",
    "canton_savigny = [\n",
    "    \"91589\", # Savigny-sur-Orge\n",
    "    \"91432\", # Morangis\n",
    "    \"91689\", # Wissous\n",
    "]\n",
    "\n",
    "# https://fr.wikipedia.org/wiki/Communaut%C3%A9_de_communes_du_pays_de_Limours\n",
    "communes_pays_limours = [\n",
    "    \"91111\", # Briis-sous-Forges\n",
    "    \"91017\", # Angervilliers\n",
    "    \"91093\", # Boullay-les-Troux\n",
    "    \"91186\", # Courson-Monteloup\n",
    "    \"91243\", # Fontenay-lès-Briis\n",
    "    \"91249\", # Forges-les-Bains\n",
    "    \"91274\", # Gometz-la-Ville\n",
    "    \"91319\", # Janvry\n",
    "    \"91411\", # Les Molières\n",
    "    \"91338\", # Limours\n",
    "    \"91482\", # Pecqueuse\n",
    "    \"91560\", # Saint-Jean-de-Beauregard\n",
    "    \"91568\", # Saint-Maurice-Montcouronne\n",
    "    \"91634\", # Vaugrigneuse\n",
    "]\n",
    "\n",
    "## Hauts-de-Seine ####################################\n",
    "\n",
    "# https://fr.wikipedia.org/wiki/Hauts-de-Seine\n",
    "dept_92 = [\n",
    "    \"92002\", # Antony\n",
    "    \"92004\", # Asnières-sur-Seine\n",
    "    \"92007\", # Bagneux\n",
    "    \"92009\", # Bois-Colombes\n",
    "    \"92012\", # Boulogne-Billancourt\n",
    "    \"92014\", # Bourg-la-Reine\n",
    "    \"92019\", # Châtenay-Malabry\n",
    "    \"92020\", # Châtillon\n",
    "    \"92022\", # Chaville\n",
    "    \"92023\", # Clamart\n",
    "    \"92024\", # Clichy\n",
    "    \"92025\", # Colombes\n",
    "    \"92026\", # Courbevoie\n",
    "    \"92032\", # Fontenay-aux-Roses\n",
    "    \"92033\", # Garches\n",
    "    \"92035\", # Gennevilliers\n",
    "    \"92036\", # Issy-les-Moulineaux\n",
    "    \"92040\", # La Garenne-Colombes\n",
    "    \"92044\", # Le Plessis-Robinson\n",
    "    \"92046\", # Levallois-Perret\n",
    "    \"92047\", # Malakoff\n",
    "    \"92048\", # Marnes-la-Coquette\n",
    "    \"92049\", # Meudon\n",
    "    \"92050\", # Montrouge\n",
    "    \"92051\", # Nanterre\n",
    "    \"92060\", # Neuilly-sur-Seine\n",
    "    \"92062\", # Puteaux\n",
    "    \"92063\", # Rueil-Malmaison\n",
    "    \"92064\", # Saint-Cloud\n",
    "    \"92071\", # Sceaux\n",
    "    \"92072\", # Sèvres\n",
    "    \"92073\", # Suresnes\n",
    "    \"92075\", # Vanves\n",
    "    \"92076\", # Vaucresson\n",
    "    \"92077\", # Ville-d'Avray\n",
    "    \"92078\", # Villeneuve-la-Garenne\n",
    "]\n",
    "\n",
    "######################################################\n",
    "\n",
    "communes_list = []\n",
    "\n",
    "# Hauts-de-Seine\n",
    "\n",
    "communes_list += dept_78\n",
    "communes_list += dept_91\n",
    "communes_list += dept_92\n",
    "communes_list += dept_95\n",
    "\n",
    "# Yvelines\n",
    "\n",
    "communes_list += communes_sqy\n",
    "communes_list += canton_montigny\n",
    "communes_list += canton_versailles2\n",
    "communes_list += canton_maurepas\n",
    "communes_list += canton_rambouillet\n",
    "\n",
    "# Essonne\n",
    "\n",
    "communes_list += canton_massy\n",
    "communes_list += canton_palaiseau\n",
    "communes_list += canton_gif\n",
    "communes_list += canton_les_ulis\n",
    "communes_list += canton_longjumeau\n",
    "communes_list += canton_savigny\n",
    "communes_list += communes_pays_limours\n",
    "\n",
    "df = df.loc[df.insee.isin(communes_list)]"
   ]
  },
  {
   "cell_type": "code",
   "execution_count": null,
   "metadata": {},
   "outputs": [],
   "source": [
    "df"
   ]
  },
  {
   "cell_type": "code",
   "execution_count": null,
   "metadata": {},
   "outputs": [],
   "source": [
    "ax = df.plot(figsize=(10, 10), alpha=0.5, edgecolor='k')"
   ]
  },
  {
   "cell_type": "markdown",
   "metadata": {},
   "source": [
    "## Convert the data to Web Mercator"
   ]
  },
  {
   "cell_type": "code",
   "execution_count": null,
   "metadata": {},
   "outputs": [],
   "source": [
    "df2 = df.to_crs(epsg=3857)"
   ]
  },
  {
   "cell_type": "code",
   "execution_count": null,
   "metadata": {},
   "outputs": [],
   "source": [
    "df2"
   ]
  },
  {
   "cell_type": "code",
   "execution_count": null,
   "metadata": {},
   "outputs": [],
   "source": [
    "ax = df2.plot(figsize=(10, 10), alpha=0.5, edgecolor='k')"
   ]
  },
  {
   "cell_type": "markdown",
   "metadata": {},
   "source": [
    "## Contextily helper function"
   ]
  },
  {
   "cell_type": "code",
   "execution_count": null,
   "metadata": {},
   "outputs": [],
   "source": [
    "import contextily as ctx\n",
    "\n",
    "def add_basemap(ax, zoom, url='http://tile.stamen.com/terrain/tileZ/tileX/tileY.png'):\n",
    "    xmin, xmax, ymin, ymax = ax.axis()\n",
    "    basemap, extent = ctx.bounds2img(xmin, ymin, xmax, ymax, zoom=zoom, url=url)\n",
    "    ax.imshow(basemap, extent=extent, interpolation='bilinear')\n",
    "    # restore original x/y limits\n",
    "    ax.axis((xmin, xmax, ymin, ymax))"
   ]
  },
  {
   "cell_type": "markdown",
   "metadata": {},
   "source": [
    "## Add background tiles to plot"
   ]
  },
  {
   "cell_type": "code",
   "execution_count": null,
   "metadata": {},
   "outputs": [],
   "source": [
    "ax = df2.plot(figsize=(16, 16), alpha=0.5, edgecolor='k')\n",
    "#add_basemap(ax, zoom=13, url=ctx.sources.ST_TONER_LITE)\n",
    "add_basemap(ax, zoom=12)\n",
    "ax.set_axis_off()"
   ]
  },
  {
   "cell_type": "markdown",
   "metadata": {},
   "source": [
    "## Save selected departments into a GeoJSON file"
   ]
  },
  {
   "cell_type": "code",
   "execution_count": null,
   "metadata": {},
   "outputs": [],
   "source": [
    "import fiona\n",
    "fiona.supported_drivers"
   ]
  },
  {
   "cell_type": "code",
   "execution_count": null,
   "metadata": {},
   "outputs": [],
   "source": [
    "!rm communes.geojson"
   ]
  },
  {
   "cell_type": "code",
   "execution_count": null,
   "metadata": {},
   "outputs": [],
   "source": [
    "df.to_file(\"communes.geojson\", driver=\"GeoJSON\")"
   ]
  },
  {
   "cell_type": "code",
   "execution_count": null,
   "metadata": {},
   "outputs": [],
   "source": [
    "!ls -lh communes.geojson"
   ]
  },
  {
   "cell_type": "code",
   "execution_count": null,
   "metadata": {},
   "outputs": [],
   "source": [
    "df = geopandas.read_file(\"communes.geojson\")"
   ]
  },
  {
   "cell_type": "code",
   "execution_count": null,
   "metadata": {},
   "outputs": [],
   "source": [
    "df"
   ]
  },
  {
   "cell_type": "code",
   "execution_count": null,
   "metadata": {},
   "outputs": [],
   "source": [
    "ax = df.plot(figsize=(10, 10), alpha=0.5, edgecolor='k')"
   ]
  }
 ],
 "metadata": {
  "anaconda-cloud": {},
  "celltoolbar": "Tags",
  "kernelspec": {
   "display_name": "Python 3",
   "language": "python",
   "name": "python3"
  },
  "language_info": {
   "codemirror_mode": {
    "name": "ipython",
    "version": 3
   },
   "file_extension": ".py",
   "mimetype": "text/x-python",
   "name": "python",
   "nbconvert_exporter": "python",
   "pygments_lexer": "ipython3",
   "version": "3.6.6"
  }
 },
 "nbformat": 4,
 "nbformat_minor": 2
}
