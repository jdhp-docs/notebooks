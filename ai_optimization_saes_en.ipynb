{
 "cells": [
  {
   "cell_type": "markdown",
   "metadata": {
    "tags": [
     "meta",
     "draft"
    ]
   },
   "source": [
    "# Self-Adaptive Evolution Strategy (SAES)"
   ]
  },
  {
   "cell_type": "markdown",
   "metadata": {
    "tags": [
     "hide"
    ]
   },
   "source": [
    "**TODO**:\n",
    "* http://www.scholarpedia.org/article/Evolution_strategies\n",
    "* [Matlab / mathematica implementation](https://homepages.fhv.at/hgb/downloads.html)"
   ]
  },
  {
   "cell_type": "markdown",
   "metadata": {},
   "source": [
    "## The SAES algorithm"
   ]
  },
  {
   "cell_type": "markdown",
   "metadata": {},
   "source": [
    "**Notations**:\n",
    "* ${\\cal{N}}$ denotes some independent standard Gaussian random variable\n",
    "* $d$ is the dimension of input vectors, $d \\in \\mathbb{N}^*_+$\n",
    "* $n$ is the current iteration index (or generation index), $n \\in \\mathbb{N}^*_+$\n",
    "\n",
    "---\n",
    "\n",
    "**Algorithm's parameters:**\n",
    "* $K > 0$,\n",
    "* $\\zeta \\geq 0$,\n",
    "* $\\lambda > \\mu > 0$\n",
    "\n",
    "---\n",
    "\n",
    "**Input:**\n",
    "* an initial parent population $\\boldsymbol{x}_{1,i} \\in \\mathbb{R}^d$\n",
    "* an initial scalar $\\sigma_{1,i} = 1$ with $i \\in \\{1, \\dots, \\mu \\}$\n",
    "\n",
    "---\n",
    "\n",
    "$n\\leftarrow 1$\n",
    "\n",
    "**while** (stop condition) **do**\n",
    "\n",
    "$\\quad$ Generate $\\lambda$ individuals $i_j$ independently with $j \\in \\{ 1, \\dots, \\lambda \\}$ using\n",
    "    \n",
    "\\begin{eqnarray}\n",
    "    \\sigma_j & = & \\sigma_{n, mod(j-1, \\mu) + 1} \\times \\exp\\left( \\frac{1}{2d} \\cal{N} \\right) \\\\\n",
    "    i_j      & = & \\boldsymbol{x}_{n, mod(j-1, \\mu) + 1} + \\sigma_j \\cal{N}.\n",
    "\\end{eqnarray}\n",
    "    \n",
    "$\\quad$ Evaluate each of them $\\lceil Kn^\\zeta \\rceil$ times and average their fitness values\n",
    "\n",
    "$\\quad$ Define $j_1, \\dots, j_{\\lambda}$ so that\n",
    "\n",
    "$$\n",
    "\\mathbb{E}_{\\lceil Kn^\\zeta \\rceil}[f(i_{j_1})]\\leq \\mathbb{E}_{\\lceil Kn^\\zeta \\rceil}[f(i_{j_2})] \\leq \\dots \\leq \\mathbb{E}_{\\lceil Kn^\\zeta \\rceil}[f(i_{j_{\\lambda}})]\n",
    "$$\n",
    "\n",
    "$\\quad$ where $\\mathbb{E}_m$ denotes a sample average over $m$ resamplings.\n",
    "\n",
    "$\\quad$ Update: compute $\\boldsymbol{x}_{n+1, k}$ and $\\sigma_{n+1, k}$ using\n",
    "\n",
    "\\begin{eqnarray}\n",
    "\\sigma_{n+1,k}   &=& \\sigma_{j_{k}}, \\quad k \\in \\{1, \\dots, \\mu\\}\\\\\n",
    "{\\boldsymbol{x}_{n+1,k}} &=& i_{j_{k}},      \\quad k \\in \\{1, \\dots, \\mu\\}\n",
    "\\end{eqnarray}\n",
    "\n",
    "$\\quad$ $n\\leftarrow n+1$\n",
    "\n",
    "**end while**"
   ]
  },
  {
   "cell_type": "markdown",
   "metadata": {},
   "source": [
    "For more information, see http://www.scholarpedia.org/article/Evolution_strategies."
   ]
  },
  {
   "cell_type": "markdown",
   "metadata": {},
   "source": [
    "## A Python inplementation"
   ]
  },
  {
   "cell_type": "markdown",
   "metadata": {},
   "source": [
    "The following implementation has been taken from there: https://github.com/jeremiedecock/pyai/blob/a61a866ead261e470785cc02c9d5aa6deeac80ee/pyai/optimization/standalone_implementations/saes/saes.py."
   ]
  },
  {
   "cell_type": "code",
   "execution_count": null,
   "metadata": {},
   "outputs": [],
   "source": [
    "#!/usr/bin/env python\n",
    "\n",
    "\"\"\"\n",
    "This is a simple Python implementation of the (mu/mu_I, lambda)-sigmaSA-ES\n",
    "as discussed in \n",
    "http://www.scholarpedia.org/article/Evolution_Strategies\n",
    "Based on\n",
    "https://homepages.fhv.at/hgb/downloads/mu_mu_I_lambda-ES.oct\n",
    "\"\"\"\n",
    "\n",
    "import math\n",
    "import numpy as np\n",
    "import random\n",
    "\n",
    "MU = 3                    # number of parents\n",
    "LAMBDA = 12               # number of offspring\n",
    "\n",
    "X_INIT = np.ones(2)       # initial parent vector\n",
    "SIGMA_INIT = 1            # initial global mutation strength sigma\n",
    "\n",
    "SIGMA_MIN = 1e-10         # ES stops when sigma is smaller than sigma_min\n",
    "\n",
    "###########################################################\n",
    "\n",
    "# Function to be optimized (sphere test function as an example)\n",
    "# individual: the individual to evaluate\n",
    "\n",
    "def fitness(individual):\n",
    "    return sum(individual.x**2)\n",
    "\n",
    "###########################################################\n",
    "\n",
    "# The individual class\n",
    "# x: the individual's value\n",
    "# sigma: the individual's sigma\n",
    "class Individual():\n",
    "    def __init__(self, x, sigma):\n",
    "        self.x = x\n",
    "        self.sigma = sigma\n",
    "        self.cost = fitness(self)\n",
    "\n",
    "    def __str__(self):\n",
    "        return \"{0} {1} {2}\".format(self.x, self.sigma, self.cost)\n",
    "\n",
    "###########################################################\n",
    "\n",
    "# This sorts the population according to the individuals' fitnesses\n",
    "# pop: a list of Individual objects\n",
    "def select_individuals(pop):\n",
    "    pop.sort(key=lambda indiv: indiv.cost, reverse=False)\n",
    "    return pop[:MU]\n",
    "\n",
    "# This performs intermediate (multi-) recombination\n",
    "# parents: a list of Individual objects\n",
    "def recombine_individuals(parents):\n",
    "    parents_y = np.array([indiv.x for indiv in parents])\n",
    "    parents_sigma = np.array([indiv.sigma for indiv in parents])\n",
    "    recombinant = Individual(parents_y.mean(axis=0), parents_sigma.mean())\n",
    "    return recombinant\n",
    "\n",
    "###########################################################\n",
    "\n",
    "# Initialization\n",
    "n = X_INIT.shape[0]         # determine search space dimensionality n   \n",
    "tau = 1. / math.sqrt(2.*n)  # self-adaptation learning rate\n",
    "\n",
    "# Initializing individual population\n",
    "parent_pop = [Individual(X_INIT, SIGMA_INIT) for i in range(MU)]\n",
    "\n",
    "# Evolution loop of the (mu/mu_I, lambda)-sigma-SA-ES\n",
    "while parent_pop[0].sigma > SIGMA_MIN:\n",
    "    offspring_pop = []\n",
    "    recombinant = recombine_individuals(parent_pop) # TODO: BUG ? this statement may be in the next line\n",
    "    for i in range(1, LAMBDA):\n",
    "        offspring_sigma = recombinant.sigma * math.exp(tau * random.normalvariate(0,1))\n",
    "        offspring_y = recombinant.x + offspring_sigma * np.random.normal(size=n)\n",
    "        offspring = Individual(offspring_y, offspring_sigma)\n",
    "        offspring_pop.append(offspring)\n",
    "    parent_pop = select_individuals(offspring_pop)\n",
    "    print(parent_pop[0])\n",
    "\n",
    "# Remark: Final approximation of the optimizer is in \"parent_pop[0].x\"\n",
    "#         corresponding fitness is in \"parent_pop[0].cost\" and the final \n",
    "#         mutation strength is in \"parent_pop[0].sigma\""
   ]
  },
  {
   "cell_type": "markdown",
   "metadata": {},
   "source": [
    "## Other inplementations"
   ]
  },
  {
   "cell_type": "markdown",
   "metadata": {},
   "source": [
    "### PyAI"
   ]
  },
  {
   "cell_type": "markdown",
   "metadata": {},
   "source": [
    "#### Import required modules"
   ]
  },
  {
   "cell_type": "code",
   "execution_count": null,
   "metadata": {
    "tags": [
     "hide"
    ]
   },
   "outputs": [],
   "source": [
    "# Init matplotlib\n",
    "\n",
    "%matplotlib inline\n",
    "\n",
    "import matplotlib\n",
    "matplotlib.rcParams['figure.figsize'] = (8, 8)"
   ]
  },
  {
   "cell_type": "code",
   "execution_count": null,
   "metadata": {
    "tags": [
     "hide"
    ]
   },
   "outputs": [],
   "source": [
    "# Setup PyAI\n",
    "import sys\n",
    "sys.path.insert(0, '/Users/jdecock/git/pub/jdhp/pyai')"
   ]
  },
  {
   "cell_type": "code",
   "execution_count": null,
   "metadata": {},
   "outputs": [],
   "source": [
    "import numpy as np\n",
    "import time\n",
    "\n",
    "from pyai.optimize import SAES"
   ]
  },
  {
   "cell_type": "code",
   "execution_count": null,
   "metadata": {},
   "outputs": [],
   "source": [
    "# Plot functions\n",
    "from pyai.optimize.utils import plot_contour_2d_solution_space\n",
    "from pyai.optimize.utils import plot_2d_solution_space\n",
    "\n",
    "from pyai.optimize.utils import array_list_to_array\n",
    "from pyai.optimize.utils import plot_fx_wt_iteration_number\n",
    "from pyai.optimize.utils import plot_err_wt_iteration_number\n",
    "from pyai.optimize.utils import plot_err_wt_execution_time\n",
    "from pyai.optimize.utils import plot_err_wt_num_feval"
   ]
  },
  {
   "cell_type": "markdown",
   "metadata": {},
   "source": [
    "#### Define the objective function"
   ]
  },
  {
   "cell_type": "code",
   "execution_count": null,
   "metadata": {
    "tags": [
     "hide"
    ]
   },
   "outputs": [],
   "source": [
    "## Objective function: Rosenbrock function (Scipy's implementation)\n",
    "#func = scipy.optimize.rosen"
   ]
  },
  {
   "cell_type": "code",
   "execution_count": null,
   "metadata": {},
   "outputs": [],
   "source": [
    "# Set the objective function\n",
    "#from pyai.optimize.functions import sphere as func\n",
    "from pyai.optimize.functions import sphere2d as func\n",
    "#from pyai.optimize.functions import additive_gaussian_noise as noise\n",
    "from pyai.optimize.functions import multiplicative_gaussian_noise as noise\n",
    "#from pyai.optimize.functions import additive_poisson_noise as noise\n",
    "\n",
    "func.noise = noise      # Comment this line to use a deterministic objective function\n",
    "\n",
    "xmin = func.bounds[0]   # TODO\n",
    "xmax = func.bounds[1]   # TODO"
   ]
  },
  {
   "cell_type": "code",
   "execution_count": null,
   "metadata": {},
   "outputs": [],
   "source": [
    "%%time\n",
    "\n",
    "saes = SAES()\n",
    "\n",
    "func.do_eval_logs = True\n",
    "func.reset_eval_counters()\n",
    "func.reset_eval_logs()\n",
    "\n",
    "res = saes.minimize(func)\n",
    "\n",
    "func.do_eval_logs = False\n",
    "\n",
    "eval_x_array = np.array(func.eval_logs_dict['x']).T\n",
    "eval_error_array = np.array(func.eval_logs_dict['fx']) - func(func.arg_min)"
   ]
  },
  {
   "cell_type": "code",
   "execution_count": null,
   "metadata": {},
   "outputs": [],
   "source": [
    "res"
   ]
  },
  {
   "cell_type": "code",
   "execution_count": null,
   "metadata": {},
   "outputs": [],
   "source": [
    "plot_contour_2d_solution_space(func,\n",
    "                               xmin=xmin,\n",
    "                               xmax=xmax,\n",
    "                               xstar=res,\n",
    "                               xvisited=eval_x_array,\n",
    "                               title=\"SAES\");"
   ]
  },
  {
   "cell_type": "code",
   "execution_count": null,
   "metadata": {},
   "outputs": [],
   "source": [
    "plot_err_wt_num_feval(eval_error_array, x_log=True, y_log=True)"
   ]
  },
  {
   "cell_type": "code",
   "execution_count": null,
   "metadata": {},
   "outputs": [],
   "source": [
    "%%time\n",
    "\n",
    "eval_error_array_list = []\n",
    "\n",
    "NUM_RUNS = 100\n",
    "\n",
    "for run_index in range(NUM_RUNS):\n",
    "    saes = SAES()\n",
    "\n",
    "    func.do_eval_logs = True\n",
    "    func.reset_eval_counters()\n",
    "    func.reset_eval_logs()\n",
    "\n",
    "    res = saes.minimize(func)\n",
    "\n",
    "    func.do_eval_logs = False\n",
    "\n",
    "    eval_error_array = np.array(func.eval_logs_dict['fx']) - func(func.arg_min)\n",
    "\n",
    "    print(\"x* =\", res)\n",
    "    \n",
    "    eval_error_array_list.append(eval_error_array);"
   ]
  },
  {
   "cell_type": "code",
   "execution_count": null,
   "metadata": {},
   "outputs": [],
   "source": [
    "plot_err_wt_num_feval(array_list_to_array(eval_error_array_list), x_log=True, y_log=True, plot_option=\"mean\")"
   ]
  },
  {
   "cell_type": "markdown",
   "metadata": {},
   "source": [
    "### Octave/Matlab\n",
    "\n",
    "An external Octave (Matlab) implementation is available there: https://homepages.fhv.at/hgb/downloads/mu_mu_I_lambda-ES.oct.\n",
    "\n",
    "### Mathematica\n",
    "\n",
    "An external Mathematica implementation is available there: https://homepages.fhv.at/hgb/downloads/mu_mu_I_lambda-ES.mat"
   ]
  }
 ],
 "metadata": {
  "anaconda-cloud": {},
  "celltoolbar": "Tags",
  "kernelspec": {
   "display_name": "Python [default]",
   "language": "python",
   "name": "python3"
  },
  "language_info": {
   "codemirror_mode": {
    "name": "ipython",
    "version": 3
   },
   "file_extension": ".py",
   "mimetype": "text/x-python",
   "name": "python",
   "nbconvert_exporter": "python",
   "pygments_lexer": "ipython3",
   "version": "3.5.3"
  }
 },
 "nbformat": 4,
 "nbformat_minor": 1
}
