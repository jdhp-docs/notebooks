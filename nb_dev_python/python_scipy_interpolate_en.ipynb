{
 "cells": [
  {
   "cell_type": "markdown",
   "metadata": {
    "tags": [
     "meta"
    ]
   },
   "source": [
    "# Interpolation with scipy"
   ]
  },
  {
   "cell_type": "code",
   "execution_count": null,
   "metadata": {
    "tags": [
     "hide"
    ]
   },
   "outputs": [],
   "source": [
    "%matplotlib inline"
   ]
  },
  {
   "cell_type": "markdown",
   "metadata": {},
   "source": [
    "Official documentation: https://docs.scipy.org/doc/scipy/reference/interpolate.html"
   ]
  },
  {
   "cell_type": "markdown",
   "metadata": {},
   "source": [
    "## Import modules and initialize data"
   ]
  },
  {
   "cell_type": "code",
   "execution_count": null,
   "metadata": {},
   "outputs": [],
   "source": [
    "import numpy as np\n",
    "import pandas as pd\n",
    "import scipy.interpolate\n",
    "import matplotlib.pyplot as plt"
   ]
  },
  {
   "cell_type": "code",
   "execution_count": null,
   "metadata": {},
   "outputs": [],
   "source": [
    "from mpl_toolkits.mplot3d import axes3d"
   ]
  },
  {
   "cell_type": "markdown",
   "metadata": {},
   "source": [
    "## Interpolate 1D functions"
   ]
  },
  {
   "cell_type": "markdown",
   "metadata": {},
   "source": [
    "In the following examples, we interpolate $f(x) \\mapsto \\sin(x)$"
   ]
  },
  {
   "cell_type": "code",
   "execution_count": null,
   "metadata": {},
   "outputs": [],
   "source": [
    "xmin, xmax = 0., 4*np.pi\n",
    "\n",
    "x = np.linspace(xmin, xmax, 10)\n",
    "y = np.sin(x)\n",
    "\n",
    "x2 = np.linspace(xmin, xmax, 100)"
   ]
  },
  {
   "cell_type": "markdown",
   "metadata": {},
   "source": [
    "### Linear interpolation"
   ]
  },
  {
   "cell_type": "code",
   "execution_count": null,
   "metadata": {},
   "outputs": [],
   "source": [
    "# Linear interpolation with extrapolation\n",
    "f = scipy.interpolate.interp1d(x, y,\n",
    "                               kind='linear',\n",
    "                               fill_value=\"extrapolate\")\n",
    "\n",
    "y2 = f(x2)\n",
    "\n",
    "plt.plot(x, y, \"o:b\", label=\"original\")\n",
    "plt.plot(x2, y2, \".-r\", label=\"interpolated\")\n",
    "plt.legend();"
   ]
  },
  {
   "cell_type": "markdown",
   "metadata": {},
   "source": [
    "### B-Splines interpolation"
   ]
  },
  {
   "cell_type": "markdown",
   "metadata": {},
   "source": [
    "https://docs.scipy.org/doc/scipy/reference/interpolate.html#d-splines"
   ]
  },
  {
   "cell_type": "code",
   "execution_count": null,
   "metadata": {},
   "outputs": [],
   "source": [
    "# https://docs.scipy.org/doc/scipy/reference/generated/scipy.interpolate.splrep.html#scipy.interpolate.splrep\n",
    "# https://docs.scipy.org/doc/scipy/reference/generated/scipy.interpolate.splprep.html#scipy.interpolate.splprep\n",
    "\n",
    "spl = scipy.interpolate.splrep(x, y)\n",
    "\n",
    "y2 = scipy.interpolate.splev(x2, spl)\n",
    "\n",
    "plt.plot(x, y, \"o:b\", label=\"original\")\n",
    "plt.plot(x2, y2, \".-r\", label=\"interpolated\")\n",
    "plt.legend();"
   ]
  },
  {
   "cell_type": "code",
   "execution_count": null,
   "metadata": {},
   "outputs": [],
   "source": [
    "spl = scipy.interpolate.splrep(x, y,\n",
    "                               xb=x[0], xe=x[-1],   # The interval to fit\n",
    "                               #s=0.,               # A smoothing factor\n",
    "                               k=1)                 # The degree fo the spline fit\n",
    "\n",
    "y2 = scipy.interpolate.splev(x2, spl)\n",
    "\n",
    "plt.plot(x, y, \"o:b\", label=\"original\")\n",
    "plt.plot(x2, y2, \".-r\", label=\"interpolated\")\n",
    "plt.legend();"
   ]
  },
  {
   "cell_type": "markdown",
   "metadata": {},
   "source": [
    "### Spline linear interpolation"
   ]
  },
  {
   "cell_type": "code",
   "execution_count": null,
   "metadata": {},
   "outputs": [],
   "source": [
    "# Spline linear interpolation with extrapolation (should be the same than spline1...)\n",
    "f = scipy.interpolate.interp1d(x, y,\n",
    "                               kind='slinear',\n",
    "                               fill_value=\"extrapolate\")\n",
    "\n",
    "y2 = f(x2)\n",
    "\n",
    "plt.plot(x, y, \"o:b\", label=\"original\")\n",
    "plt.plot(x2, y2, \".-r\", label=\"interpolated\")\n",
    "plt.legend();"
   ]
  },
  {
   "cell_type": "markdown",
   "metadata": {},
   "source": [
    "## Interpolate 2D functions"
   ]
  },
  {
   "cell_type": "markdown",
   "metadata": {},
   "source": [
    "In the following examples, we interpolate $f(x, y) \\mapsto \\sin(x) + \\sin(y)$"
   ]
  },
  {
   "cell_type": "code",
   "execution_count": null,
   "metadata": {},
   "outputs": [],
   "source": [
    "# Build data\n",
    "\n",
    "x = np.arange(-1*np.pi, 1*np.pi, np.pi/4)\n",
    "y = np.arange(-1*np.pi, 1*np.pi, np.pi/4)\n",
    "\n",
    "xx, yy = np.meshgrid(x, y)\n",
    "\n",
    "z = np.sin(xx) + np.sin(yy)"
   ]
  },
  {
   "cell_type": "code",
   "execution_count": null,
   "metadata": {},
   "outputs": [],
   "source": [
    "# Plot data\n",
    "\n",
    "fig = plt.figure(figsize=(12, 8))\n",
    "ax = axes3d.Axes3D(fig)\n",
    "\n",
    "#ax.plot_wireframe(xx, yy, z)\n",
    "\n",
    "surf = ax.plot_surface(xx,\n",
    "                       yy,\n",
    "                       z,\n",
    "                       cmap='gnuplot2', # 'jet' # 'gnuplot2'\n",
    "                       rstride=1,\n",
    "                       cstride=1,\n",
    "                       shade=False)\n",
    "\n",
    "plt.title(\"Original data\")\n",
    "plt.show();"
   ]
  },
  {
   "cell_type": "markdown",
   "metadata": {},
   "source": [
    "### Linear interpolation"
   ]
  },
  {
   "cell_type": "markdown",
   "metadata": {},
   "source": [
    "Documentation: https://docs.scipy.org/doc/scipy/reference/generated/scipy.interpolate.interp2d.html#scipy.interpolate.interp2d"
   ]
  },
  {
   "cell_type": "code",
   "execution_count": null,
   "metadata": {},
   "outputs": [],
   "source": [
    "f = scipy.interpolate.interp2d(x, y, z, kind='linear',\n",
    "                               bounds_error=True)     # Let 'f' raise an exception when the requested point is outside the range defined by x and y"
   ]
  },
  {
   "cell_type": "code",
   "execution_count": null,
   "metadata": {},
   "outputs": [],
   "source": [
    "# Build data\n",
    "\n",
    "x_hd = np.arange(-1*np.pi, 1*np.pi-np.pi/4, np.pi/32)\n",
    "y_hd = np.arange(-1*np.pi, 1*np.pi-np.pi/4, np.pi/32)\n",
    "\n",
    "xx_hd,yy_hd = np.meshgrid(x_hd, y_hd)\n",
    "\n",
    "z_hd = np.zeros(xx_hd.shape)\n",
    "\n",
    "for xi in range(z_hd.shape[0]):\n",
    "    for yi in range(z_hd.shape[1]):\n",
    "        z_hd[xi, yi] = f(x_hd[xi], y_hd[yi])"
   ]
  },
  {
   "cell_type": "code",
   "execution_count": null,
   "metadata": {},
   "outputs": [],
   "source": [
    "# Plot data\n",
    "\n",
    "fig = plt.figure(figsize=(12, 8))\n",
    "ax = axes3d.Axes3D(fig)\n",
    "\n",
    "surf = ax.plot_surface(xx_hd,\n",
    "                       yy_hd,\n",
    "                       z_hd,\n",
    "                       cmap='gnuplot2', # 'jet' # 'gnuplot2'\n",
    "                       rstride=1,\n",
    "                       cstride=1,\n",
    "                       shade=False)\n",
    "\n",
    "plt.show();"
   ]
  },
  {
   "cell_type": "markdown",
   "metadata": {},
   "source": [
    "### Non uniform grid data"
   ]
  },
  {
   "cell_type": "markdown",
   "metadata": {},
   "source": [
    "Documentation: https://docs.scipy.org/doc/scipy/reference/generated/scipy.interpolate.interp2d.html#scipy.interpolate.interp2d"
   ]
  },
  {
   "cell_type": "code",
   "execution_count": null,
   "metadata": {},
   "outputs": [],
   "source": [
    "# Build data\n",
    "\n",
    "x_nu = np.arange(-1*np.pi, 1*np.pi, np.pi/4)\n",
    "y_nu = np.arange(-1*np.pi, 1*np.pi, np.pi/4)\n",
    "\n",
    "x_nu = x_nu.tolist()\n",
    "y_nu = y_nu.tolist()\n",
    "\n",
    "del x_nu[2]\n",
    "del y_nu[2]\n",
    "\n",
    "xx, yy = np.meshgrid(x_nu, y_nu)\n",
    "\n",
    "z_nu = np.sin(xx) + np.sin(yy)"
   ]
  },
  {
   "cell_type": "code",
   "execution_count": null,
   "metadata": {},
   "outputs": [],
   "source": [
    "f = scipy.interpolate.interp2d(x_nu, y_nu, z_nu, kind='linear',\n",
    "                               bounds_error=True)     # Let 'f' raise an exception when the requested point is outside the range defined by x and y"
   ]
  },
  {
   "cell_type": "code",
   "execution_count": null,
   "metadata": {},
   "outputs": [],
   "source": [
    "# Build data\n",
    "\n",
    "x_nu_hd = np.arange(-1*np.pi, 1*np.pi-np.pi/4, np.pi/32)\n",
    "y_nu_hd = np.arange(-1*np.pi, 1*np.pi-np.pi/4, np.pi/32)\n",
    "\n",
    "xx_nu_hd,yy_nu_hd = np.meshgrid(x_nu_hd, y_nu_hd)\n",
    "\n",
    "z_nu_hd = np.zeros(xx_nu_hd.shape)\n",
    "\n",
    "for xi in range(z_nu_hd.shape[0]):\n",
    "    for yi in range(z_nu_hd.shape[1]):\n",
    "        z_nu_hd[xi, yi] = f(x_nu_hd[xi], y_nu_hd[yi])"
   ]
  },
  {
   "cell_type": "code",
   "execution_count": null,
   "metadata": {},
   "outputs": [],
   "source": [
    "# Plot data\n",
    "\n",
    "fig = plt.figure(figsize=(12, 8))\n",
    "ax = axes3d.Axes3D(fig)\n",
    "\n",
    "surf = ax.plot_surface(xx_nu_hd,\n",
    "                       yy_nu_hd,\n",
    "                       z_nu_hd,\n",
    "                       cmap='gnuplot2', # 'jet' # 'gnuplot2'\n",
    "                       rstride=1,\n",
    "                       cstride=1,\n",
    "                       shade=False)\n",
    "\n",
    "surf = ax.plot_surface(xx_hd,\n",
    "                       yy_hd,\n",
    "                       z_hd,\n",
    "                       cmap='gnuplot2', # 'jet' # 'gnuplot2'\n",
    "                       rstride=1,\n",
    "                       cstride=1,\n",
    "                       alpha=0.5,\n",
    "                       shade=False)\n",
    "\n",
    "plt.show();"
   ]
  },
  {
   "cell_type": "markdown",
   "metadata": {},
   "source": [
    "### Cubic splines"
   ]
  },
  {
   "cell_type": "code",
   "execution_count": null,
   "metadata": {},
   "outputs": [],
   "source": [
    "f = scipy.interpolate.interp2d(x, y, z, kind='cubic',\n",
    "                               bounds_error=True)     # Let 'f' raise an exception when the requested point is outside the range defined by x and y"
   ]
  },
  {
   "cell_type": "code",
   "execution_count": null,
   "metadata": {},
   "outputs": [],
   "source": [
    "# Build data\n",
    "\n",
    "x_hd = np.arange(-1*np.pi, 1*np.pi-np.pi/4, np.pi/32)\n",
    "y_hd = np.arange(-1*np.pi, 1*np.pi-np.pi/4, np.pi/32)\n",
    "\n",
    "xx_hd,yy_hd = np.meshgrid(x_hd, y_hd)\n",
    "\n",
    "z_hd = np.zeros(xx_hd.shape)\n",
    "\n",
    "for xi in range(z_hd.shape[0]):\n",
    "    for yi in range(z_hd.shape[1]):\n",
    "        z_hd[xi, yi] = f(x_hd[xi], y_hd[yi])"
   ]
  },
  {
   "cell_type": "code",
   "execution_count": null,
   "metadata": {},
   "outputs": [],
   "source": [
    "# Plot data\n",
    "\n",
    "fig = plt.figure(figsize=(12, 8))\n",
    "ax = axes3d.Axes3D(fig)\n",
    "\n",
    "surf = ax.plot_surface(xx_hd,\n",
    "                       yy_hd,\n",
    "                       z_hd,\n",
    "                       cmap='gnuplot2', # 'jet' # 'gnuplot2'\n",
    "                       rstride=1,\n",
    "                       cstride=1,\n",
    "                       shade=False)\n",
    "\n",
    "plt.show();"
   ]
  },
  {
   "cell_type": "markdown",
   "metadata": {},
   "source": [
    "### Interpolate unstructured D-dimensional data"
   ]
  },
  {
   "cell_type": "markdown",
   "metadata": {},
   "source": [
    "Documentation: https://docs.scipy.org/doc/scipy/reference/generated/scipy.interpolate.griddata.html"
   ]
  },
  {
   "cell_type": "markdown",
   "metadata": {},
   "source": [
    "#### Scipy official documentation example\n",
    "\n",
    "Example taken from https://docs.scipy.org/doc/scipy/reference/generated/scipy.interpolate.griddata.html"
   ]
  },
  {
   "cell_type": "code",
   "execution_count": null,
   "metadata": {},
   "outputs": [],
   "source": [
    "def func(x, y):\n",
    "    return x*(1-x)*np.cos(4*np.pi*x) * np.sin(4*np.pi*y**2)**2\n",
    "\n",
    "grid_x, grid_y = np.mgrid[0:1:100j, 0:1:200j]\n",
    "\n",
    "points = np.random.rand(1000, 2)\n",
    "values = func(points[:,0], points[:,1])\n",
    "\n",
    "grid_z0 = scipy.interpolate.griddata(points, values, (grid_x, grid_y), method='nearest')\n",
    "grid_z1 = scipy.interpolate.griddata(points, values, (grid_x, grid_y), method='linear')\n",
    "grid_z2 = scipy.interpolate.griddata(points, values, (grid_x, grid_y), method='cubic')\n",
    "\n",
    "plt.subplot(221)\n",
    "plt.imshow(func(grid_x, grid_y).T, extent=(0,1,0,1), origin='lower')\n",
    "plt.plot(points[:,0], points[:,1], 'k.', ms=1)\n",
    "plt.title('Original')\n",
    "plt.subplot(222)\n",
    "plt.imshow(grid_z0.T, extent=(0,1,0,1), origin='lower')\n",
    "plt.title('Nearest')\n",
    "plt.subplot(223)\n",
    "plt.imshow(grid_z1.T, extent=(0,1,0,1), origin='lower')\n",
    "plt.title('Linear')\n",
    "plt.subplot(224)\n",
    "plt.imshow(grid_z2.T, extent=(0,1,0,1), origin='lower')\n",
    "plt.title('Cubic')\n",
    "plt.gcf().set_size_inches(6, 6)\n",
    "plt.tight_layout()\n",
    "plt.show()"
   ]
  },
  {
   "cell_type": "markdown",
   "metadata": {},
   "source": [
    "#### Callable version"
   ]
  },
  {
   "cell_type": "code",
   "execution_count": null,
   "metadata": {},
   "outputs": [],
   "source": [
    "class InterpoledGridData:\n",
    "    \n",
    "    def __init__(self, x, y, z, interpolation_method='linear', fill_value=float('nan')):\n",
    "        self.x = x\n",
    "        self.y = y\n",
    "        self.z = z\n",
    "        self.fill_value = fill_value\n",
    "        self.interpolation_method = interpolation_method\n",
    "    \n",
    "    def __call__(self, x1_mesh, x2_mesh):\n",
    "        z = scipy.interpolate.griddata(points = (self.x, self.y),\n",
    "                                       values = self.z,\n",
    "                                       xi = (x1_mesh, x2_mesh),\n",
    "                                       fill_value=self.fill_value,\n",
    "                                       method = self.interpolation_method)\n",
    "        \n",
    "        if z.ndim == 0:\n",
    "            z = float(z)\n",
    "            \n",
    "        return z"
   ]
  },
  {
   "cell_type": "code",
   "execution_count": null,
   "metadata": {},
   "outputs": [],
   "source": [
    "x = np.random.rand(1000)\n",
    "y = np.random.rand(1000)\n",
    "z = func(x, y)\n",
    "\n",
    "f = InterpoledGridData(x, y, z, interpolation_method='cubic')"
   ]
  },
  {
   "cell_type": "code",
   "execution_count": null,
   "metadata": {},
   "outputs": [],
   "source": [
    "f(0.5, 0.5)"
   ]
  },
  {
   "cell_type": "code",
   "execution_count": null,
   "metadata": {},
   "outputs": [],
   "source": [
    "x_hd = np.linspace(x.min(),\n",
    "                   x.max(),\n",
    "                   100)\n",
    "y_hd = np.linspace(y.min(),\n",
    "                   y.max(),\n",
    "                   100)\n",
    "\n",
    "xx_hd, yy_hd = np.meshgrid(x_hd, y_hd)\n",
    "\n",
    "z_hd = f(xx_hd, yy_hd)"
   ]
  },
  {
   "cell_type": "code",
   "execution_count": null,
   "metadata": {},
   "outputs": [],
   "source": [
    "# Plot data\n",
    "\n",
    "fig = plt.figure(figsize=(12, 8))\n",
    "ax = axes3d.Axes3D(fig, azim=150, elev=30)\n",
    "\n",
    "surf = ax.plot_surface(xx_hd,\n",
    "                       yy_hd,\n",
    "                       z_hd,\n",
    "                       cmap='gnuplot2',\n",
    "                       rstride=1,\n",
    "                       cstride=1,\n",
    "                       vmin=np.nanmin(z_hd),\n",
    "                       vmax=np.nanmax(z_hd),\n",
    "                       shade=False)\n",
    "\n",
    "plt.show();"
   ]
  },
  {
   "cell_type": "code",
   "execution_count": null,
   "metadata": {},
   "outputs": [],
   "source": [
    "fig, ax = plt.subplots(figsize=(12, 8))\n",
    "\n",
    "im = ax.pcolormesh(xx_hd, yy_hd, z_hd,\n",
    "                   #shading='gouraud',\n",
    "                   cmap='gnuplot2')\n",
    "\n",
    "plt.colorbar(im, ax=ax)\n",
    "\n",
    "plt.show();"
   ]
  }
 ],
 "metadata": {
  "anaconda-cloud": {},
  "celltoolbar": "Tags",
  "kernelspec": {
   "display_name": "Python 3",
   "language": "python",
   "name": "python3"
  },
  "language_info": {
   "codemirror_mode": {
    "name": "ipython",
    "version": 3
   },
   "file_extension": ".py",
   "mimetype": "text/x-python",
   "name": "python",
   "nbconvert_exporter": "python",
   "pygments_lexer": "ipython3",
   "version": "3.7.4"
  }
 },
 "nbformat": 4,
 "nbformat_minor": 4
}
