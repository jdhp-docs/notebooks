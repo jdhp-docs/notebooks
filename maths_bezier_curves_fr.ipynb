{
 "cells": [
  {
   "cell_type": "markdown",
   "metadata": {
    "tags": [
     "meta",
     "draft"
    ]
   },
   "source": [
    "# Courbes de Bézier"
   ]
  },
  {
   "cell_type": "markdown",
   "metadata": {
    "tags": [
     "hide"
    ]
   },
   "source": [
    "**TODO**\n",
    "* https://fr.wikipedia.org/wiki/Courbe_de_B%C3%A9zier#Courbes_de_B.C3.A9zier_cubiques\n",
    "* https://gist.github.com/Juanlu001/7284462\n",
    "* https://www.johndcook.com/blog/2009/12/21/bezier-basics/\n",
    "* https://stackoverflow.com/questions/12643079/b%C3%A9zier-curve-fitting-with-scipy\n",
    "* Definition using the https://en.wikipedia.org/wiki/Bernstein_polynomial"
   ]
  },
  {
   "cell_type": "code",
   "execution_count": null,
   "metadata": {
    "tags": [
     "hide"
    ]
   },
   "outputs": [],
   "source": [
    "%matplotlib inline\n",
    "\n",
    "import ipywidgets\n",
    "from ipywidgets import interact"
   ]
  },
  {
   "cell_type": "markdown",
   "metadata": {
    "tags": [
     "hide"
    ]
   },
   "source": [
    "## Courbe de Bézier quadratique (degré 2)"
   ]
  },
  {
   "cell_type": "markdown",
   "metadata": {},
   "source": [
    "### Écriture paramétrique\n",
    "\n",
    "La forme *paramétrique* d'une courbe de Bézier quadratique s'écrit comme une combinaison affine de ses 3 points de contrôle $\\mathbf{P}_1$, $\\mathbf{P}_2$ et $\\mathbf{P}_3 \\in \\mathbb{R}^2$:\n",
    "$$\n",
    "\\begin{align}\n",
    "f: & \\mathbb{R} \\to \\mathbb{R}^2 \\\\\n",
    "   & \\mathbf{f}(t) \\mapsto\n",
    "       \\mathbf{P_1} (1-t)^2\n",
    "       + 2\\mathbf{P_2} t (1-t)\n",
    "       + \\mathbf{P_3} t^2\n",
    "\\end{align}\n",
    "$$\n",
    "pour $0 \\leq t \\leq 1$."
   ]
  },
  {
   "cell_type": "markdown",
   "metadata": {
    "tags": [
     "hide"
    ]
   },
   "source": [
    "TODO..."
   ]
  },
  {
   "cell_type": "markdown",
   "metadata": {},
   "source": [
    "## Courbe de Bézier cubique (degré 3)"
   ]
  },
  {
   "cell_type": "markdown",
   "metadata": {},
   "source": [
    "### Écriture paramétrique\n",
    "\n",
    "La forme *paramétrique* d'une courbe de Bézier cubique s'écrit comme une combinaison affine de ses 4 points de contrôle $\\mathbf{P}_1$, $\\mathbf{P}_2$, $\\mathbf{P}_3$ et $\\mathbf{P}_4 \\in \\mathbb{R}^2$:\n",
    "$$\n",
    "\\begin{align}\n",
    "f: & \\mathbb{R} \\to \\mathbb{R}^2 \\\\\n",
    "   & \\mathbf{f}(t) \\mapsto \\mathbf{P}_1 (1-t)^3 + 3 \\mathbf{P}_2 t(1-t)^2 + 3 \\mathbf{P}_3 t^2 (1-t) + \\mathbf{P}_4 t^3\n",
    "\\end{align}\n",
    "$$\n",
    "pour $0 \\leq t \\leq 1$."
   ]
  },
  {
   "cell_type": "code",
   "execution_count": null,
   "metadata": {},
   "outputs": [],
   "source": [
    "import numpy as np\n",
    "\n",
    "p1 = np.array([0, 0])\n",
    "p2 = np.array([0, 1])\n",
    "p3 = np.array([1, 1])\n",
    "p4 = np.array([1, 0])\n",
    "\n",
    "def f(t):\n",
    "    return p1 * (1.-t)**3 + 3. * p2 * t * (1.-t)**2 + 3. * p3 * t**2 * (1.-t) + p4 * t**3\n",
    "            \n",
    "plt.plot(*p1, \"xr\")\n",
    "plt.plot(*p2, \"xr\")\n",
    "plt.plot(*p3, \"xr\")\n",
    "plt.plot(*p4, \"xr\")\n",
    "\n",
    "offset = np.array([0.02, 0.02])\n",
    "\n",
    "plt.text(*(p1 + offset), r\"$P_1$\")\n",
    "plt.text(*(p2 + offset), r\"$P_2$\")\n",
    "plt.text(*(p3 + offset), r\"$P_3$\")\n",
    "plt.text(*(p4 + offset), r\"$P_4$\")\n",
    "\n",
    "XY = np.array([f(t) for t in np.linspace(0., 1., 100)])    # TODO: improve this\n",
    "\n",
    "plt.plot(*XY.T)\n",
    "\n",
    "plt.xlim(-0.1, 1.1)\n",
    "plt.ylim(-0.1, 1.1)\n",
    "\n",
    "plt.show()"
   ]
  },
  {
   "cell_type": "markdown",
   "metadata": {
    "tags": [
     "hide"
    ]
   },
   "source": [
    "### Écriture récursive\n",
    "\n",
    "Avantage: plus efficace en terme de calculs\n",
    "\n",
    "**TODO**:\n",
    "* https://en.wikipedia.org/wiki/B%C3%A9zier_curve#Recursive_definition\n",
    "* https://fr.wikipedia.org/wiki/Courbe_de_B%C3%A9zier#Courbes_de_B.C3.A9zier_cubiques"
   ]
  },
  {
   "cell_type": "code",
   "execution_count": null,
   "metadata": {
    "tags": [
     "hide"
    ]
   },
   "outputs": [],
   "source": [
    "# TODO"
   ]
  },
  {
   "cell_type": "markdown",
   "metadata": {},
   "source": [
    "### Exemple illustré"
   ]
  },
  {
   "cell_type": "code",
   "execution_count": null,
   "metadata": {},
   "outputs": [],
   "source": [
    "class CubicBezierCurve:\n",
    "    def __init__(self, p1, p2, p3, p4):\n",
    "        self.p1 = p1\n",
    "        self.p2 = p2\n",
    "        self.p3 = p3\n",
    "        self.p4 = p4\n",
    "        \n",
    "        self.color_deg1 = 'gray'\n",
    "        self.color_deg2 = 'g'\n",
    "        self.color_deg3 = 'b'\n",
    "    \n",
    "    def __call__(self, t):\n",
    "        return self.p1 * (1.-t)**3 \\\n",
    "               + 3. * self.p2 * t * (1.-t)**2 \\\n",
    "               + 3. * self.p3 * t**2 * (1.-t) \\\n",
    "               + self.p4 * t**3\n",
    "                \n",
    "    def init_plot(self, ax=None):\n",
    "        if ax is None:\n",
    "            fig, ax = plt.subplots()\n",
    "        \n",
    "        ax.plot(*np.array([self.p1, self.p2]).T, marker='x', color=self.color_deg1)\n",
    "        ax.plot(*np.array([self.p2, self.p3]).T, marker='x', color=self.color_deg1)\n",
    "        ax.plot(*np.array([self.p3, self.p4]).T, marker='x', color=self.color_deg1)\n",
    "\n",
    "        offset = np.array([0.02, 0.02])\n",
    "\n",
    "        ax.text(*(self.p1 + offset), r\"$P_1$\")\n",
    "        ax.text(*(self.p2 + offset), r\"$P_2$\")\n",
    "        ax.text(*(self.p3 + offset), r\"$P_3$\")\n",
    "        ax.text(*(self.p4 + offset), r\"$P_4$\")\n",
    "\n",
    "        T = np.linspace(0., 1., 100)\n",
    "        XY = np.array([self(t) for t in T])    # TODO: improve this\n",
    "\n",
    "        ax.plot(*XY.T, 'r:', alpha=0.5)\n",
    "\n",
    "        points = np.array([self.p1, self.p2, self.p3, self.p4])\n",
    "        ax.set_xlim(points[:,0].min() - 0.1, points[:,0].max() + 0.1)\n",
    "        ax.set_ylim(points[:,1].min() - 0.1, points[:,1].max() + 0.1)\n",
    "        \n",
    "        return ax\n",
    "    \n",
    "    def plot(self, t, ax=None):\n",
    "        if ax is None:\n",
    "            fig, ax = plt.subplots()\n",
    "            \n",
    "        p12 = self.p1 + t * (self.p2 - self.p1)\n",
    "        p23 = self.p2 + t * (self.p3 - self.p2)\n",
    "        p34 = self.p3 + t * (self.p4 - self.p3)\n",
    "        \n",
    "        p1223 = p12 + t * (p23 - p12)\n",
    "        p2334 = p23 + t * (p34 - p23)\n",
    "        \n",
    "        ax.plot(*np.array([p12, p23, p34]).T, marker='.', color=self.color_deg2)\n",
    "        ax.plot(*np.array([p1223, p2334]).T, marker='.', color=self.color_deg3)\n",
    "        \n",
    "        ax.plot(*self(t).T, 'or')\n",
    "\n",
    "p1 = np.array([0, 0])\n",
    "p2 = np.array([0, 1])\n",
    "p3 = np.array([1, 1])\n",
    "p4 = np.array([1, 0])\n",
    "f = CubicBezierCurve(p1, p2, p3, p4)\n",
    "\n",
    "ax = f.init_plot()\n",
    "f.plot(0.25, ax)\n",
    "\n",
    "plt.show();"
   ]
  },
  {
   "cell_type": "markdown",
   "metadata": {
    "tags": [
     "hide"
    ]
   },
   "source": [
    "### Exemple interactif"
   ]
  },
  {
   "cell_type": "code",
   "execution_count": null,
   "metadata": {
    "tags": [
     "hide"
    ]
   },
   "outputs": [],
   "source": [
    "@interact(t=(0., 1., 0.01))\n",
    "def square(t):\n",
    "    p1 = np.array([0, 0])\n",
    "    p2 = np.array([0, 1])\n",
    "    p3 = np.array([1, 1])\n",
    "    p4 = np.array([1, 0])\n",
    "    f = CubicBezierCurve(p1, p2, p3, p4)\n",
    "\n",
    "    ax = f.init_plot()\n",
    "    f.plot(t, ax)\n",
    "\n",
    "    plt.show();"
   ]
  },
  {
   "cell_type": "markdown",
   "metadata": {
    "tags": [
     "hide"
    ]
   },
   "source": [
    "## Courbes de Bézier quartique (degré 4)"
   ]
  },
  {
   "cell_type": "markdown",
   "metadata": {
    "tags": [
     "hide"
    ]
   },
   "source": [
    "TODO..."
   ]
  }
 ],
 "metadata": {
  "anaconda-cloud": {},
  "celltoolbar": "Tags",
  "kernelspec": {
   "display_name": "Python 3",
   "language": "python",
   "name": "python3"
  },
  "language_info": {
   "codemirror_mode": {
    "name": "ipython",
    "version": 3
   },
   "file_extension": ".py",
   "mimetype": "text/x-python",
   "name": "python",
   "nbconvert_exporter": "python",
   "pygments_lexer": "ipython3",
   "version": "3.6.5"
  }
 },
 "nbformat": 4,
 "nbformat_minor": 2
}
