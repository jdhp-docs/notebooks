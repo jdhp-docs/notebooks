{
 "cells": [
  {
   "cell_type": "markdown",
   "metadata": {},
   "source": [
    "# Perceptron"
   ]
  },
  {
   "cell_type": "markdown",
   "metadata": {},
   "source": [
    "Auteur: F. Rosenblatt\n",
    "\n",
    "Reference: F. Rosenblatt 1958 *The Perceptron: a Probabilistic Model for Information Storage and Organization in the Brain* Psychological Review, 65, 386-408\n",
    "\n",
    "Le modéle est constitué des éléments suivants:\n",
    "- des *unités sensitives (S-units)*: réagissent à un stimuli extérieur (lumière, son, touché, ...)\n",
    "    - retournent `0` ou `1`:\n",
    "        - `1` si le signal d'entrée dépasse un seuil $\\theta$\n",
    "        - `0` sinon\n",
    "- des *unités d'associations (A-units)*\n",
    "    - retournent `0` ou `1`:\n",
    "        - `1` si la somme des signaux d'entrée dépasse un seuil $\\theta$\n",
    "        - `0` sinon\n",
    "- des *unités de réponse (R-units)*: sortie du réseau\n",
    "    - retournent `1`, `-1` ou une valeur indéterminée:\n",
    "        - `1` si la somme des signaux d'entrée est positive\n",
    "        - `-1` si elle est négative\n",
    "        - une valeur indéterminée si elle est égale à 0\n",
    "- une *matrice d'intéractions*"
   ]
  },
  {
   "cell_type": "markdown",
   "metadata": {},
   "source": [
    "\n",
    "Calcul de $e_j$ :\n",
    "\n",
    "$$\n",
    "e_j = \\sum s_i w_{ij} = si1 . wij1 + si2 . wij2 + si3 . wij3 + si4 . wij4\n",
    "$$\n",
    "\n",
    "Calcul du nouveau poid $w$ :\n",
    "\n",
    "$$\n",
    "w_{ij}(t+1) = w_{ij}(t) + n (d_j - s_j) s_i\n",
    "$$"
   ]
  },
  {
   "cell_type": "markdown",
   "metadata": {},
   "source": [
    "Nombre de neurones associatifs (A-units) :\n",
    "    \n",
    "    Nombre d'unités sensitives : 4\n",
    "    \n",
    "    Entrez le pas d'apprentissage ƞ :\n",
    "ƞ : 1\n",
    "\n",
    "    Entrez les poids de depart des synapses du réseau :\n",
    "wij0 : \n",
    "    \n",
    "    Entrez le motif à apprendre :\n",
    "si1 : si2 : si3 : si4 : "
   ]
  },
  {
   "cell_type": "code",
   "execution_count": null,
   "metadata": {
    "collapsed": false
   },
   "outputs": [],
   "source": [
    "%matplotlib inline\n",
    "\n",
    "import numpy as np\n",
    "import matplotlib\n",
    "import matplotlib.pyplot as plt\n",
    "\n",
    "import matplotlib.patches as patches\n",
    "import matplotlib.lines as mlines\n",
    "import matplotlib.patches as mpatches\n",
    "\n",
    "import itertools"
   ]
  },
  {
   "cell_type": "code",
   "execution_count": null,
   "metadata": {
    "collapsed": false
   },
   "outputs": [],
   "source": [
    "# https://github.com/jeremiedecock/neural-network-figures.git\n",
    "import nnfigs.core as fig\n",
    "\n",
    "fig.draw_neural_network();"
   ]
  },
  {
   "cell_type": "code",
   "execution_count": null,
   "metadata": {
    "collapsed": true
   },
   "outputs": [],
   "source": [
    "# Init weights\n",
    "initial_weights = np.array([0., 0., 0., 0., 2.])\n",
    "\n",
    "# Set \"learning rate\" factor\n",
    "nu = 1."
   ]
  },
  {
   "cell_type": "code",
   "execution_count": null,
   "metadata": {
    "collapsed": true
   },
   "outputs": [],
   "source": [
    "def update_weights(w, x, yd):\n",
    "    s = np.sum(x * w)\n",
    "    yo = 1. if s >= 0. else 0.\n",
    "    w = w + nu * (yd - yo) * x\n",
    "    print(x, s, yo, yd, w)\n",
    "    return w\n",
    "\n",
    "def learn_examples(example_list, label_list, w, num_iterations):\n",
    "    for it in range(num_iterations):\n",
    "        print(it)\n",
    "        for x, yd in zip(example_list, label_list):\n",
    "            w = update_weights(w, np.array(x + (-1,)), yd)\n",
    "    return w"
   ]
  },
  {
   "cell_type": "code",
   "execution_count": null,
   "metadata": {
    "collapsed": false
   },
   "outputs": [],
   "source": [
    "example_list = tuple(reversed(tuple(itertools.product((0., 1.), repeat=4))))\n",
    "label_list = [1. if x == (1., 0., 0., 1.) else 0. for x in example_list]\n",
    "\n",
    "print(example_list)\n",
    "print(label_list)"
   ]
  },
  {
   "cell_type": "code",
   "execution_count": null,
   "metadata": {
    "collapsed": false
   },
   "outputs": [],
   "source": [
    "learn_examples(example_list, label_list, initial_weights, 4)"
   ]
  }
 ],
 "metadata": {
  "anaconda-cloud": {},
  "kernelspec": {
   "display_name": "Python [default]",
   "language": "python",
   "name": "python3"
  },
  "language_info": {
   "codemirror_mode": {
    "name": "ipython",
    "version": 3
   },
   "file_extension": ".py",
   "mimetype": "text/x-python",
   "name": "python",
   "nbconvert_exporter": "python",
   "pygments_lexer": "ipython3",
   "version": "3.5.2"
  }
 },
 "nbformat": 4,
 "nbformat_minor": 1
}
