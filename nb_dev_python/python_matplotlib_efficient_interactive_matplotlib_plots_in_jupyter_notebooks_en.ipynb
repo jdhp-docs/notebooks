{
 "cells": [
  {
   "cell_type": "markdown",
   "metadata": {
    "tags": [
     "meta"
    ]
   },
   "source": [
    "# Efficient interactive Matplotlib plots in Jupyter notebooks"
   ]
  },
  {
   "cell_type": "code",
   "execution_count": null,
   "metadata": {},
   "outputs": [],
   "source": [
    "%matplotlib notebook"
   ]
  },
  {
   "cell_type": "code",
   "execution_count": null,
   "metadata": {},
   "outputs": [],
   "source": [
    "%matplotlib notebook"
   ]
  },
  {
   "cell_type": "code",
   "execution_count": null,
   "metadata": {},
   "outputs": [],
   "source": [
    "import numpy as np\n",
    "import matplotlib.pyplot as plt\n",
    "\n",
    "import time\n",
    "\n",
    "import ipywidgets\n",
    "from ipywidgets import interact"
   ]
  },
  {
   "cell_type": "markdown",
   "metadata": {},
   "source": [
    "## The simplest and slowest solution"
   ]
  },
  {
   "cell_type": "markdown",
   "metadata": {},
   "source": [
    "This solution drop everything between each update."
   ]
  },
  {
   "cell_type": "code",
   "execution_count": null,
   "metadata": {},
   "outputs": [],
   "source": [
    "@interact(t=(0, 100, 1))\n",
    "def plot(t):\n",
    "    fig = plt.figure()\n",
    "    ax = plt.axes(xlim=(0, 2), ylim=(-2, 2))\n",
    "    \n",
    "    x = np.linspace(0, 2, 100)\n",
    "    y = np.sin(2. * np.pi * (x - 0.01 * t))\n",
    "    ax.plot(x, y, lw=2)"
   ]
  },
  {
   "cell_type": "markdown",
   "metadata": {},
   "source": [
    "## Better but still slow..."
   ]
  },
  {
   "cell_type": "markdown",
   "metadata": {},
   "source": [
    "In this solution, the figure is kept, only the Axes is dropped."
   ]
  },
  {
   "cell_type": "code",
   "execution_count": null,
   "metadata": {},
   "outputs": [],
   "source": [
    "fig = plt.figure()\n",
    "ax = plt.axes(xlim=(0, 2), ylim=(-2, 2))\n",
    "    \n",
    "@interact(t=(0, 100, 1))\n",
    "def plot(t):\n",
    "    plt.cla()\n",
    "    \n",
    "    x = np.linspace(0, 2, 100)\n",
    "    y = np.sin(2. * np.pi * (x - 0.01 * t))\n",
    "    ax.plot(x, y, lw=2)"
   ]
  },
  {
   "cell_type": "markdown",
   "metadata": {},
   "source": [
    "## The complicated but fastest solution"
   ]
  },
  {
   "cell_type": "markdown",
   "metadata": {},
   "source": [
    "In this solution, artists are kept (Line2d here), only their data is changed (like in Matplotlib animations)."
   ]
  },
  {
   "cell_type": "code",
   "execution_count": null,
   "metadata": {},
   "outputs": [],
   "source": [
    "fig = plt.figure()\n",
    "ax = plt.axes(xlim=(0, 2), ylim=(-2, 2))\n",
    "line, = ax.plot([], [], lw=2)\n",
    "\n",
    "def init():\n",
    "    line.set_data([], [])\n",
    "    return line,\n",
    "\n",
    "def update(frame):\n",
    "    x = np.linspace(0, 2, 100)\n",
    "    y = np.sin(2. * np.pi * (x - 0.01 * frame))\n",
    "    line.set_data(x, y)\n",
    "    return line,\n",
    "\n",
    "@interact(t=(0, 100, 1))\n",
    "def plot(t):\n",
    "    update(t)\n",
    "    \n",
    "    fig.canvas.draw()\n",
    "    fig.canvas.flush_events()"
   ]
  }
 ],
 "metadata": {
  "anaconda-cloud": {},
  "celltoolbar": "Tags",
  "kernelspec": {
   "display_name": "Python 3",
   "language": "python",
   "name": "python3"
  },
  "language_info": {
   "codemirror_mode": {
    "name": "ipython",
    "version": 3
   },
   "file_extension": ".py",
   "mimetype": "text/x-python",
   "name": "python",
   "nbconvert_exporter": "python",
   "pygments_lexer": "ipython3",
   "version": "3.6.4"
  }
 },
 "nbformat": 4,
 "nbformat_minor": 1
}
