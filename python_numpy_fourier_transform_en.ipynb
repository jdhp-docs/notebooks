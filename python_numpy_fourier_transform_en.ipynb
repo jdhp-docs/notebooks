{
 "cells": [
  {
   "cell_type": "code",
   "execution_count": null,
   "metadata": {},
   "outputs": [],
   "source": [
    "%matplotlib inline"
   ]
  },
  {
   "cell_type": "markdown",
   "metadata": {
    "slideshow": {
     "slide_type": "-"
    }
   },
   "source": [
    "# Fast Fourier Transform snippets\n",
    "\n",
    "## Documentation\n",
    "\n",
    "- Numpy implementation: http://docs.scipy.org/doc/numpy/reference/routines.fft.html\n",
    "- Scipy implementation: http://docs.scipy.org/doc/scipy/reference/fftpack.html"
   ]
  },
  {
   "cell_type": "markdown",
   "metadata": {},
   "source": [
    "## Import directives"
   ]
  },
  {
   "cell_type": "code",
   "execution_count": null,
   "metadata": {},
   "outputs": [],
   "source": [
    "import numpy as np\n",
    "import matplotlib.pyplot as plt\n",
    "from matplotlib import cm"
   ]
  },
  {
   "cell_type": "markdown",
   "metadata": {},
   "source": [
    "## Make data"
   ]
  },
  {
   "cell_type": "code",
   "execution_count": null,
   "metadata": {},
   "outputs": [],
   "source": [
    "pattern = np.zeros((4, 4))\n",
    "pattern[1:3,1:3] = 1"
   ]
  },
  {
   "cell_type": "code",
   "execution_count": null,
   "metadata": {},
   "outputs": [],
   "source": [
    "pattern"
   ]
  },
  {
   "cell_type": "code",
   "execution_count": null,
   "metadata": {},
   "outputs": [],
   "source": [
    "signal = np.tile(pattern, (2, 2))"
   ]
  },
  {
   "cell_type": "code",
   "execution_count": null,
   "metadata": {},
   "outputs": [],
   "source": [
    "fig = plt.figure(figsize=(16.0, 10.0))\n",
    "ax = fig.add_subplot(111)\n",
    "ax.imshow(signal, interpolation='nearest', cmap=cm.gray)"
   ]
  },
  {
   "cell_type": "markdown",
   "metadata": {},
   "source": [
    "## Fourier transform with Numpy\n",
    "\n",
    "### Do the fourier transform"
   ]
  },
  {
   "cell_type": "code",
   "execution_count": null,
   "metadata": {},
   "outputs": [],
   "source": [
    "transformed_signal = np.fft.fft2(signal)\n",
    "#transformed_signal"
   ]
  },
  {
   "cell_type": "code",
   "execution_count": null,
   "metadata": {},
   "outputs": [],
   "source": [
    "fig = plt.figure(figsize=(16.0, 10.0))\n",
    "ax = fig.add_subplot(111)\n",
    "ax.imshow(abs(transformed_signal), interpolation='nearest', cmap=cm.gray)"
   ]
  },
  {
   "cell_type": "markdown",
   "metadata": {},
   "source": [
    "### Filter"
   ]
  },
  {
   "cell_type": "code",
   "execution_count": null,
   "metadata": {},
   "outputs": [],
   "source": [
    "max_value = np.max(abs(transformed_signal))\n",
    "filtered_transformed_signal = transformed_signal * (abs(transformed_signal) > max_value*0.5)"
   ]
  },
  {
   "cell_type": "code",
   "execution_count": null,
   "metadata": {},
   "outputs": [],
   "source": [
    "#filtered_transformed_signal[6, 6] = 0\n",
    "#filtered_transformed_signal[2, 2] = 0\n",
    "#filtered_transformed_signal[2, 6] = 0\n",
    "#filtered_transformed_signal[6, 2] = 0\n",
    "#filtered_transformed_signal[1, 6] = 0\n",
    "#filtered_transformed_signal[6, 1] = 0\n",
    "#filtered_transformed_signal[1, 2] = 0\n",
    "#filtered_transformed_signal[2, 1] = 0\n",
    "\n",
    "#filtered_transformed_signal\n",
    "\n",
    "fig = plt.figure(figsize=(16.0, 10.0))\n",
    "ax = fig.add_subplot(111)\n",
    "ax.imshow(abs(filtered_transformed_signal), interpolation='nearest', cmap=cm.gray)"
   ]
  },
  {
   "cell_type": "markdown",
   "metadata": {},
   "source": [
    "### Do the reverse transform"
   ]
  },
  {
   "cell_type": "code",
   "execution_count": null,
   "metadata": {},
   "outputs": [],
   "source": [
    "filtered_signal = np.fft.ifft2(filtered_transformed_signal)\n",
    "#filtered_signal"
   ]
  },
  {
   "cell_type": "code",
   "execution_count": null,
   "metadata": {},
   "outputs": [],
   "source": [
    "fig = plt.figure(figsize=(16.0, 10.0))\n",
    "ax = fig.add_subplot(111)\n",
    "ax.imshow(abs(filtered_signal), interpolation='nearest', cmap=cm.gray)"
   ]
  },
  {
   "cell_type": "code",
   "execution_count": null,
   "metadata": {},
   "outputs": [],
   "source": [
    "#shifted_filtered_signal = np.fft.ifftshift(transformed_signal)\n",
    "#shifted_filtered_signal"
   ]
  },
  {
   "cell_type": "code",
   "execution_count": null,
   "metadata": {},
   "outputs": [],
   "source": [
    "#shifted_transformed_signal = np.fft.fftshift(transformed_signal)\n",
    "#shifted_transformed_signal"
   ]
  }
 ],
 "metadata": {
  "kernelspec": {
   "display_name": "Python [default]",
   "language": "python",
   "name": "python3"
  },
  "language_info": {
   "codemirror_mode": {
    "name": "ipython",
    "version": 3
   },
   "file_extension": ".py",
   "mimetype": "text/x-python",
   "name": "python",
   "nbconvert_exporter": "python",
   "pygments_lexer": "ipython3",
   "version": "3.5.3"
  }
 },
 "nbformat": 4,
 "nbformat_minor": 1
}
