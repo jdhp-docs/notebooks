{
 "cells": [
  {
   "cell_type": "code",
   "execution_count": null,
   "metadata": {
    "collapsed": true
   },
   "outputs": [],
   "source": [
    "import sympy as sp\n",
    "sp.init_printing()\n",
    "\n",
    "%matplotlib inline\n",
    "import numpy as np\n",
    "import matplotlib.pyplot as plt"
   ]
  },
  {
   "cell_type": "markdown",
   "metadata": {},
   "source": [
    "# Calcule d'int\u00e9grales"
   ]
  },
  {
   "cell_type": "markdown",
   "metadata": {},
   "source": [
    "## Approximation num\u00e9rique d'une surface avec la m\u00e9thode Monte-Carlo"
   ]
  },
  {
   "cell_type": "markdown",
   "metadata": {},
   "source": [
    "Pour calculer la surface $\\mathcal A_1$ d'un objet $O_1$ avec la methode Monte Carlo, il suffit:\n",
    "\n",
    "1. de placer cet objet $O_1$ enti\u00e8rement dans une figure g\u00e9om\u00e9trique $O_2$ dont on connait la surface $\\mathcal A_2$ (par exemple un carr\u00e9 ou un rectangle)\n",
    "2. tirer al\u00e9atoirement un grand nombre de points dans cette figure  $O_2$ (tirage uniforme)\n",
    "3. compter le nombre de points $N_1$ tomb\u00e9s dans l'objet  $O_1$ dont on veut calculer la surface\n",
    "4. calculer le rapport $\\frac{N_1}{N}$ o\u00f9 $N$ est le nombre total de points tir\u00e9 al\u00e9atoirement (en multipliant par 100 ce rapport on obtient le pourcentage de points tomb\u00e9s dans l'objet $O_1$)\n",
    "5. appliquer ce rapport \u00e0 la surface $\\mathcal A_2$ de figure englobante $O_2$ (le carr\u00e9, rectangle, ... dont on connait la surface) pour obtenir la surface $\\mathcal A_1$ recherch\u00e9e: $\\mathcal A_1 \\simeq \\frac{N_1}{N} \\mathcal A_2$\n",
    "\n",
    "Le m\u00eame principe peut \u00eatre appliqu\u00e9 pour calculer un volume.\n",
    "\n",
    "Cette methode suppose de pouvoir dire si un point est tomb\u00e9 dans l'objet $O_2$ ou non (c'est par exemple le cas pour calculer l'int\u00e9grale d'une fonction, i.e. la surface entre l'abscisse et la courbe d\u00e9crivant cette fonction)."
   ]
  },
  {
   "cell_type": "markdown",
   "metadata": {},
   "source": [
    "## Application au calcul d'int\u00e9grales"
   ]
  },
  {
   "cell_type": "markdown",
   "metadata": {},
   "source": [
    "Une integrale correspond a la surface entre la courbe et l'abscisse (positive quand f>0 et negative quand f<0)."
   ]
  },
  {
   "cell_type": "markdown",
   "metadata": {},
   "source": [
    "## Exemple written in Python"
   ]
  },
  {
   "cell_type": "markdown",
   "metadata": {},
   "source": [
    "### The function to integrate"
   ]
  },
  {
   "cell_type": "code",
   "execution_count": null,
   "metadata": {
    "collapsed": true
   },
   "outputs": [],
   "source": [
    "def f(x):\n",
    "    return -x**2 + 3."
   ]
  },
  {
   "cell_type": "markdown",
   "metadata": {},
   "source": [
    "### Random points"
   ]
  },
  {
   "cell_type": "code",
   "execution_count": null,
   "metadata": {
    "collapsed": false
   },
   "outputs": [],
   "source": [
    "N = 100000           # The number of random points\n",
    "\n",
    "x_lower_bound = -4.0\n",
    "x_upper_bound = 4.0\n",
    "y_lower_bound = -16.0\n",
    "y_upper_bound = 16.0\n",
    "\n",
    "random_points = np.array([np.random.uniform(low=x_lower_bound, high=x_upper_bound, size=N),\n",
    "                          np.random.uniform(low=y_lower_bound, high=y_upper_bound, size=N)]).T"
   ]
  },
  {
   "cell_type": "markdown",
   "metadata": {},
   "source": [
    "### Numerical computation of the integral with Monte-Carlo"
   ]
  },
  {
   "cell_type": "code",
   "execution_count": null,
   "metadata": {
    "collapsed": true
   },
   "outputs": [],
   "source": [
    "# Points between f and the abscissa\n",
    "random_points_in_pos = np.array([p for p in random_points if 0 <= p[1] <= f(p[0])])\n",
    "random_points_in_neg = np.array([p for p in random_points if 0 >  p[1] >= f(p[0])])"
   ]
  },
  {
   "cell_type": "code",
   "execution_count": null,
   "metadata": {
    "collapsed": false
   },
   "outputs": [],
   "source": [
    "ratio_pos = float(len(random_points_in_pos)) / float(N)\n",
    "ratio_neg = float(len(random_points_in_neg)) / float(N)\n",
    "print('Percentage of \"positive\" points between f and the abscissa: {:.2f}%'.format(ratio_pos * 100))\n",
    "print('Percentage of \"negative\" points between f and the abscissa: {:.2f}%'.format(ratio_neg * 100))\n",
    "\n",
    "s2 = (x_upper_bound - x_lower_bound) * (y_upper_bound - y_lower_bound)\n",
    "print(\"Box surface:\", s2)"
   ]
  },
  {
   "cell_type": "code",
   "execution_count": null,
   "metadata": {
    "collapsed": false
   },
   "outputs": [],
   "source": [
    "s1 = ratio_pos * s2 - ratio_neg * s2\n",
    "print(\"Function integral (numerical computation using Monte-Carlo):\", s1)"
   ]
  },
  {
   "cell_type": "markdown",
   "metadata": {},
   "source": [
    "### The actual integral value"
   ]
  },
  {
   "cell_type": "code",
   "execution_count": null,
   "metadata": {
    "collapsed": false
   },
   "outputs": [],
   "source": [
    "x = sp.symbols(\"x\")\n",
    "\n",
    "integ = sp.Integral(f(x), (x, x_lower_bound, x_upper_bound))\n",
    "sp.Eq(integ, integ.doit())"
   ]
  },
  {
   "cell_type": "markdown",
   "metadata": {},
   "source": [
    "### The error ratio"
   ]
  },
  {
   "cell_type": "code",
   "execution_count": null,
   "metadata": {
    "collapsed": false
   },
   "outputs": [],
   "source": [
    "actual_s1 = float(integ.doit())\n",
    "\n",
    "error = actual_s1 - s1\n",
    "print(\"Error ratio = {:.6f}%\".format(abs(error / actual_s1) * 100.))"
   ]
  },
  {
   "cell_type": "markdown",
   "metadata": {},
   "source": [
    "### Graphical illustration"
   ]
  },
  {
   "cell_type": "code",
   "execution_count": null,
   "metadata": {
    "collapsed": false
   },
   "outputs": [],
   "source": [
    "x_array = np.arange(x_lower_bound, x_upper_bound, 0.01)\n",
    "y_array = f(x_array)\n",
    "\n",
    "plt.plot(random_points[:,0], random_points[:,1], ',k')\n",
    "plt.plot(random_points_in_pos[:,0], random_points_in_pos[:,1], ',r')\n",
    "plt.plot(random_points_in_neg[:,0], random_points_in_neg[:,1], ',r')\n",
    "plt.hlines(y=0, xmin=x_lower_bound, xmax=x_upper_bound)\n",
    "plt.plot(x_array, y_array, '-r', linewidth=2)\n",
    "\n",
    "plt.show()"
   ]
  }
 ],
 "metadata": {
  "anaconda-cloud": {},
  "kernelspec": {
   "display_name": "Python [default]",
   "language": "python",
   "name": "python3"
  },
  "language_info": {
   "codemirror_mode": {
    "name": "ipython",
    "version": 3
   },
   "file_extension": ".py",
   "mimetype": "text/x-python",
   "name": "python",
   "nbconvert_exporter": "python",
   "pygments_lexer": "ipython3",
   "version": "3.5.2"
  }
 },
 "nbformat": 4,
 "nbformat_minor": 1
}