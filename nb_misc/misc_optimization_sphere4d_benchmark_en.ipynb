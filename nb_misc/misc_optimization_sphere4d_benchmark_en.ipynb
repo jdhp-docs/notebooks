{
 "cells": [
  {
   "cell_type": "markdown",
   "metadata": {
    "tags": [
     "meta",
     "toc_en",
     "draft_en"
    ]
   },
   "source": [
    "# Sphere 4D benchmark"
   ]
  },
  {
   "cell_type": "markdown",
   "metadata": {},
   "source": [
    "## Import required modules"
   ]
  },
  {
   "cell_type": "code",
   "execution_count": null,
   "metadata": {
    "tags": [
     "hide"
    ]
   },
   "outputs": [],
   "source": [
    "# Init matplotlib\n",
    "\n",
    "%matplotlib inline\n",
    "\n",
    "import matplotlib\n",
    "matplotlib.rcParams['figure.figsize'] = (8, 8)"
   ]
  },
  {
   "cell_type": "code",
   "execution_count": null,
   "metadata": {
    "tags": [
     "hide"
    ]
   },
   "outputs": [],
   "source": [
    "# Setup PyAI\n",
    "import sys\n",
    "sys.path.insert(0, '/Users/jdecock/git/pub/jdhp/pyai')"
   ]
  },
  {
   "cell_type": "code",
   "execution_count": null,
   "metadata": {},
   "outputs": [],
   "source": [
    "import numpy as np\n",
    "import time\n",
    "import warnings\n",
    "\n",
    "from scipy import optimize"
   ]
  },
  {
   "cell_type": "code",
   "execution_count": null,
   "metadata": {},
   "outputs": [],
   "source": [
    "# Plot functions\n",
    "from pyai.optimize.utils import array_list_to_array\n",
    "from pyai.optimize.utils import plot_err_wt_num_feval"
   ]
  },
  {
   "cell_type": "markdown",
   "metadata": {},
   "source": [
    "## Define the objective function"
   ]
  },
  {
   "cell_type": "code",
   "execution_count": null,
   "metadata": {
    "tags": [
     "hide"
    ]
   },
   "outputs": [],
   "source": [
    "## Objective function: Rosenbrock function (Scipy's implementation)\n",
    "#func = scipy.optimize.rosen"
   ]
  },
  {
   "cell_type": "code",
   "execution_count": null,
   "metadata": {},
   "outputs": [],
   "source": [
    "# Set the objective function\n",
    "#from pyai.optimize.functions import sphere as func\n",
    "from pyai.optimize.functions import Sphere\n",
    "#from pyai.optimize.functions import additive_gaussian_noise as noise\n",
    "from pyai.optimize.functions import multiplicative_gaussian_noise as noise\n",
    "#from pyai.optimize.functions import additive_poisson_noise as noise\n",
    "\n",
    "func = Sphere(ndim=4)\n",
    "\n",
    "func.noise = noise      # Comment this line to use a deterministic objective function"
   ]
  },
  {
   "cell_type": "code",
   "execution_count": null,
   "metadata": {
    "tags": [
     "hide"
    ]
   },
   "outputs": [],
   "source": [
    "print(func)\n",
    "print(func.bounds)\n",
    "print(func.ndim)\n",
    "print(func.arg_min)\n",
    "print(func(func.arg_min))"
   ]
  },
  {
   "cell_type": "markdown",
   "metadata": {},
   "source": [
    "## The \"basin-hopping\" algorithm (Scipy)"
   ]
  },
  {
   "cell_type": "code",
   "execution_count": null,
   "metadata": {},
   "outputs": [],
   "source": [
    "%%time\n",
    "\n",
    "bh_eval_error_array_list = []\n",
    "\n",
    "NUM_RUNS = 100\n",
    "\n",
    "for run_index in range(NUM_RUNS):\n",
    "    x_init = np.random.random(func.ndim)   # draw samples in [0.0, 1.0)\n",
    "    min_bounds = func.bounds[0]\n",
    "    max_bounds = func.bounds[1]\n",
    "    x_init *= (max_bounds - min_bounds)\n",
    "    x_init += min_bounds\n",
    "\n",
    "    func.do_eval_logs = True\n",
    "    func.reset_eval_counters()\n",
    "    func.reset_eval_logs()\n",
    "\n",
    "    init_time = time.time()\n",
    "\n",
    "    with warnings.catch_warnings():\n",
    "        warnings.simplefilter(\"ignore\")\n",
    "        res = optimize.basinhopping(func,\n",
    "                                    x_init,            # The initial point\n",
    "                                    niter=100,         # The number of basin hopping iterations\n",
    "                                    disp=False)        # Print status messages\n",
    "\n",
    "    func.do_eval_logs = False\n",
    "\n",
    "    eval_error_array = np.array(func.eval_logs_dict['fx']) - func(func.arg_min)\n",
    "\n",
    "    print(\"x* =\", res.x)\n",
    "    print(\"f(x*) =\", res.fun)\n",
    "    #print(\"Cause of the termination:\", \";\".join(res.message))\n",
    "    #print(\"Number of evaluations of the objective functions:\", res.nfev)\n",
    "    #print(\"Number of evaluations of the jacobian:\", res.njev)\n",
    "    #print(\"Number of iterations performed by the optimizer:\", res.nit)\n",
    "    \n",
    "    bh_eval_error_array_list.append(eval_error_array);"
   ]
  },
  {
   "cell_type": "markdown",
   "metadata": {},
   "source": [
    "## The \"Differential Evolution\" (DE) algorithm (Scipy)"
   ]
  },
  {
   "cell_type": "code",
   "execution_count": null,
   "metadata": {},
   "outputs": [],
   "source": [
    "%%time\n",
    "\n",
    "de_eval_error_array_list = []\n",
    "\n",
    "NUM_RUNS = 100\n",
    "\n",
    "for run_index in range(NUM_RUNS):\n",
    "    bounds = func.bounds.T.tolist()\n",
    "\n",
    "    func.do_eval_logs = True\n",
    "    func.reset_eval_counters()\n",
    "    func.reset_eval_logs()\n",
    "\n",
    "    init_time = time.time()\n",
    "\n",
    "    with warnings.catch_warnings():\n",
    "        warnings.simplefilter(\"ignore\")\n",
    "        res = optimize.differential_evolution(func,\n",
    "                                              bounds,              # The initial point\n",
    "                                              maxiter=100,         # The number of DE iterations\n",
    "                                              polish=False,\n",
    "                                              disp=False)          # Print status messages\n",
    "\n",
    "    func.do_eval_logs = False\n",
    "\n",
    "    eval_error_array = np.array(func.eval_logs_dict['fx']) - func(func.arg_min)\n",
    "\n",
    "    print(\"x* =\", res.x)\n",
    "    print(\"f(x*) =\", res.fun)\n",
    "    #print(\"Cause of the termination:\", \";\".join(res.message))\n",
    "    #print(\"Number of evaluations of the objective functions:\", res.nfev)\n",
    "    #print(\"Number of evaluations of the jacobian:\", res.njev)\n",
    "    #print(\"Number of iterations performed by the optimizer:\", res.nit)\n",
    "    \n",
    "    de_eval_error_array_list.append(eval_error_array);"
   ]
  },
  {
   "cell_type": "markdown",
   "metadata": {},
   "source": [
    "## SAES (PyAI)"
   ]
  },
  {
   "cell_type": "code",
   "execution_count": null,
   "metadata": {},
   "outputs": [],
   "source": [
    "from pyai.optimize import SAES"
   ]
  },
  {
   "cell_type": "code",
   "execution_count": null,
   "metadata": {},
   "outputs": [],
   "source": [
    "%%time\n",
    "\n",
    "saes_eval_error_array_list = []\n",
    "\n",
    "NUM_RUNS = 100\n",
    "\n",
    "for run_index in range(NUM_RUNS):\n",
    "    saes = SAES()\n",
    "\n",
    "    func.do_eval_logs = True\n",
    "    func.reset_eval_counters()\n",
    "    func.reset_eval_logs()\n",
    "\n",
    "    res = saes.minimize(func, init_pop_mu=0., init_pop_sigma=6., mu=3, lmb=6)\n",
    "\n",
    "    func.do_eval_logs = False\n",
    "\n",
    "    eval_error_array = np.array(func.eval_logs_dict['fx']) - func(func.arg_min)\n",
    "\n",
    "    print(\"x* =\", res)\n",
    "    \n",
    "    saes_eval_error_array_list.append(eval_error_array);"
   ]
  },
  {
   "cell_type": "code",
   "execution_count": null,
   "metadata": {},
   "outputs": [],
   "source": [
    "fig, ax = plt.subplots(figsize=(12, 8))\n",
    "\n",
    "#plot_err_wt_num_feval(array_list_to_array(bh_eval_error_array_list), x_log=True, y_log=True, ax=ax, label=\"Basin Hopping\", plot_option=\"mean\")\n",
    "plot_err_wt_num_feval(array_list_to_array(de_eval_error_array_list), x_log=True, y_log=True, ax=ax, label=\"Differential Evolution\", plot_option=\"mean\")\n",
    "plot_err_wt_num_feval(array_list_to_array(saes_eval_error_array_list), x_log=True, y_log=True, ax=ax, label=\"SAES\", plot_option=\"mean\")\n",
    "\n",
    "ax.legend(fontsize='x-large')\n",
    "\n",
    "plt.show()"
   ]
  }
 ],
 "metadata": {
  "anaconda-cloud": {},
  "celltoolbar": "Tags",
  "kernelspec": {
   "display_name": "Python [default]",
   "language": "python",
   "name": "python3"
  },
  "language_info": {
   "codemirror_mode": {
    "name": "ipython",
    "version": 3
   },
   "file_extension": ".py",
   "mimetype": "text/x-python",
   "name": "python",
   "nbconvert_exporter": "python",
   "pygments_lexer": "ipython3",
   "version": "3.5.3"
  }
 },
 "nbformat": 4,
 "nbformat_minor": 1
}
