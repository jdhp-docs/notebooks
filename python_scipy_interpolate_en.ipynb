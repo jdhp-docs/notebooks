{
 "cells": [
  {
   "cell_type": "markdown",
   "metadata": {
    "tags": [
     "meta",
     "draft"
    ]
   },
   "source": [
    "# Interpolation with scipy"
   ]
  },
  {
   "cell_type": "markdown",
   "metadata": {
    "tags": [
     "hide"
    ]
   },
   "source": [
    "**TODO**\n",
    "* ..."
   ]
  },
  {
   "cell_type": "code",
   "execution_count": null,
   "metadata": {
    "tags": [
     "hide"
    ]
   },
   "outputs": [],
   "source": [
    "%matplotlib inline"
   ]
  },
  {
   "cell_type": "markdown",
   "metadata": {},
   "source": [
    "Official documentation: https://docs.scipy.org/doc/scipy/reference/interpolate.html"
   ]
  },
  {
   "cell_type": "markdown",
   "metadata": {},
   "source": [
    "## Import modules and initialize data"
   ]
  },
  {
   "cell_type": "code",
   "execution_count": null,
   "metadata": {},
   "outputs": [],
   "source": [
    "import numpy as np\n",
    "import scipy.interpolate\n",
    "import matplotlib.pyplot as plt"
   ]
  },
  {
   "cell_type": "code",
   "execution_count": null,
   "metadata": {},
   "outputs": [],
   "source": [
    "xmin, xmax = 0., 4*np.pi\n",
    "\n",
    "x = np.linspace(xmin, xmax, 10)\n",
    "y = np.sin(x)\n",
    "\n",
    "x2 = np.linspace(xmin, xmax, 100)"
   ]
  },
  {
   "cell_type": "markdown",
   "metadata": {},
   "source": [
    "## Linear interpollation"
   ]
  },
  {
   "cell_type": "code",
   "execution_count": null,
   "metadata": {},
   "outputs": [],
   "source": [
    "# Linear interpolation with extrapolation\n",
    "f = scipy.interpolate.interp1d(x, y,\n",
    "                               kind='linear',\n",
    "                               fill_value=\"extrapolate\")\n",
    "\n",
    "y2 = f(x2)\n",
    "\n",
    "plt.plot(x, y, \":b\", label=\"original\")\n",
    "plt.plot(x2, y2, \"-r\", label=\"interpollated\")\n",
    "plt.legend();"
   ]
  },
  {
   "cell_type": "markdown",
   "metadata": {},
   "source": [
    "## 1-D Splines"
   ]
  },
  {
   "cell_type": "markdown",
   "metadata": {},
   "source": [
    "https://docs.scipy.org/doc/scipy/reference/interpolate.html#d-splines"
   ]
  },
  {
   "cell_type": "code",
   "execution_count": null,
   "metadata": {},
   "outputs": [],
   "source": [
    "# https://docs.scipy.org/doc/scipy/reference/generated/scipy.interpolate.splrep.html#scipy.interpolate.splrep\n",
    "# https://docs.scipy.org/doc/scipy/reference/generated/scipy.interpolate.splprep.html#scipy.interpolate.splprep\n",
    "\n",
    "spl = scipy.interpolate.splrep(x, y)\n",
    "\n",
    "y2 = scipy.interpolate.splev(x2, spl)\n",
    "\n",
    "plt.plot(x, y, \":b\", label=\"original\")\n",
    "plt.plot(x2, y2, \"-r\", label=\"interpollated\")\n",
    "plt.legend();"
   ]
  },
  {
   "cell_type": "code",
   "execution_count": null,
   "metadata": {},
   "outputs": [],
   "source": [
    "spl = scipy.interpolate.splrep(x, y,\n",
    "                               xb=x[0], xe=x[-1],   # The interval to fit\n",
    "                               #s=0.,               # A smoothing factor\n",
    "                               k=1)                 # The degree fo the spline fit\n",
    "\n",
    "y2 = scipy.interpolate.splev(x2, spl)\n",
    "\n",
    "plt.plot(x, y, \":b\", label=\"original\")\n",
    "plt.plot(x2, y2, \"-r\", label=\"interpollated\")\n",
    "plt.legend();"
   ]
  },
  {
   "cell_type": "markdown",
   "metadata": {},
   "source": [
    "## Spline linear interpolation"
   ]
  },
  {
   "cell_type": "code",
   "execution_count": null,
   "metadata": {},
   "outputs": [],
   "source": [
    "# Spline linear interpolation with extrapolation (should be the same than spline1...)\n",
    "f = scipy.interpolate.interp1d(x, y,\n",
    "                               kind='slinear',\n",
    "                               fill_value=\"extrapolate\")\n",
    "\n",
    "y2 = f(x2)\n",
    "\n",
    "plt.plot(x, y, \":b\", label=\"original\")\n",
    "plt.plot(x2, y2, \"-r\", label=\"interpollated\")\n",
    "plt.legend();"
   ]
  }
 ],
 "metadata": {
  "anaconda-cloud": {},
  "celltoolbar": "Tags",
  "kernelspec": {
   "display_name": "Python [default]",
   "language": "python",
   "name": "python3"
  },
  "language_info": {
   "codemirror_mode": {
    "name": "ipython",
    "version": 3
   },
   "file_extension": ".py",
   "mimetype": "text/x-python",
   "name": "python",
   "nbconvert_exporter": "python",
   "pygments_lexer": "ipython3",
   "version": "3.5.3"
  }
 },
 "nbformat": 4,
 "nbformat_minor": 1
}
