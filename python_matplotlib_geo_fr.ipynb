{
 "cells": [
  {
   "cell_type": "markdown",
   "metadata": {
    "collapsed": true,
    "tags": [
     "meta",
     "draft"
    ]
   },
   "source": [
    "# Cartographie avec Python et Matplotlib"
   ]
  },
  {
   "cell_type": "code",
   "execution_count": null,
   "metadata": {
    "collapsed": true,
    "tags": [
     "hide"
    ]
   },
   "outputs": [],
   "source": [
    "%matplotlib inline"
   ]
  },
  {
   "cell_type": "markdown",
   "metadata": {
    "tags": [
     "hide"
    ]
   },
   "source": [
    "**TODO**:\n",
    "- https://matplotlib.org/basemap/users/intro.html\n",
    "- http://scitools.org.uk/cartopy/docs/latest/gallery.html\n",
    "- https://waterprogramming.wordpress.com/2016/12/19/plotting-geographic-data-from-geojson-files-using-python/\n",
    "- http://maxberggren.se/2015/08/04/basemap/"
   ]
  },
  {
   "cell_type": "markdown",
   "metadata": {},
   "source": [
    "## La cartographie avec *basemap*"
   ]
  },
  {
   "cell_type": "markdown",
   "metadata": {},
   "source": [
    "### Références\n",
    "\n",
    "* *Python for Data Analysis* de Wes McKinney, ed. O'Reilly, 2013 (p.261)"
   ]
  },
  {
   "cell_type": "markdown",
   "metadata": {},
   "source": [
    "### Attention\n",
    "\n",
    "Le développement de Basemap a été stoppé et il est conseillé d'utiliser Cartopy à la place.\n",
    "\n",
    "    \"Starting in 2016, Basemap came under new management. The Cartopy project will replace Basemap, but it hasn’t yet implemented all of Basemap’s features. All new software development should try to use Cartopy whenever possible, and existing software should start the process of switching over to use Cartopy. All maintenance and development efforts should be focused on Cartopy.\" (http://matplotlib.org/basemap/users/intro.html)"
   ]
  },
  {
   "cell_type": "markdown",
   "metadata": {},
   "source": [
    "### Installation\n",
    "\n",
    "Basemap n'est pas installé par défaut avec Matplotlib.\n",
    "\n",
    "Pour l'installer avec `conda`:\n",
    "\n",
    "    conda install basemap"
   ]
  },
  {
   "cell_type": "markdown",
   "metadata": {},
   "source": [
    "### Exemple"
   ]
  },
  {
   "cell_type": "code",
   "execution_count": null,
   "metadata": {
    "collapsed": true
   },
   "outputs": [],
   "source": [
    "from mpl_toolkits.basemap import Basemap\n",
    "import matplotlib.pyplot as plt"
   ]
  },
  {
   "cell_type": "code",
   "execution_count": null,
   "metadata": {},
   "outputs": [],
   "source": [
    "fig, ax = plt.subplots()\n",
    "\n",
    "lllat = 41.0 # latitude of lower left hand corner of the desired map domain (degrees).\n",
    "urlat = 52.0 # latitude of upper right hand corner of the desired map domain (degrees).\n",
    "\n",
    "lllon = -5.0 # longitude of lower left hand corner of the desired map domain (degrees).\n",
    "urlon =  9.5 # longitude of upper right hand corner of the desired map domain (degrees).\n",
    "\n",
    "m = Basemap(ax=ax,\n",
    "            projection='stere',\n",
    "            lon_0=(urlon+lllon)/2.,\n",
    "            lat_0=(urlat+lllat)/2.,\n",
    "            llcrnrlat=lllat,\n",
    "            urcrnrlat=urlat,\n",
    "            llcrnrlon=lllon,\n",
    "            urcrnrlon=urlon,\n",
    "            resolution='l')    # Can be ``c`` (crude), ``l`` (low), ``i`` (intermediate), ``h`` (high), ``f`` (full) or None.\n",
    "\n",
    "m.drawcoastlines()\n",
    "m.drawstates()\n",
    "m.drawcountries()\n",
    "#m.drawrivers()\n",
    "#m.drawcounties()\n",
    "\n",
    "# Eiffel tower's coordinates\n",
    "pt_lat = 48.858223\n",
    "pt_lon = 2.2921653\n",
    "\n",
    "x, y = m(pt_lon, pt_lat)\n",
    "\n",
    "print(pt_lat, pt_lon)\n",
    "print(x, y)\n",
    "\n",
    "m.plot(x, y, 'ro');"
   ]
  },
  {
   "cell_type": "markdown",
   "metadata": {
    "tags": [
     "hide"
    ]
   },
   "source": [
    "## La cartographie avec *cartopy*"
   ]
  }
 ],
 "metadata": {
  "anaconda-cloud": {},
  "celltoolbar": "Tags",
  "kernelspec": {
   "display_name": "Python [default]",
   "language": "python",
   "name": "python3"
  },
  "language_info": {
   "codemirror_mode": {
    "name": "ipython",
    "version": 3
   },
   "file_extension": ".py",
   "mimetype": "text/x-python",
   "name": "python",
   "nbconvert_exporter": "python",
   "pygments_lexer": "ipython3",
   "version": "3.5.3"
  }
 },
 "nbformat": 4,
 "nbformat_minor": 1
}
