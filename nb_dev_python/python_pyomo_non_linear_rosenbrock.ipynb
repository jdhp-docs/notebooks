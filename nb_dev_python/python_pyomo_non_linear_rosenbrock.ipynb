{
 "cells": [
  {
   "cell_type": "markdown",
   "metadata": {},
   "source": [
    "# Pyomo - Getting started"
   ]
  },
  {
   "cell_type": "markdown",
   "metadata": {},
   "source": [
    "Pyomo installation: see http://www.pyomo.org/installation\n",
    "\n",
    "```\n",
    "pip install pyomo\n",
    "```"
   ]
  },
  {
   "cell_type": "markdown",
   "metadata": {},
   "source": [
    "See https://github.com/Pyomo/pyomo/blob/master/examples/doc/pyomobook/nonlinear-ch/rosen/rosenbrock.py"
   ]
  },
  {
   "cell_type": "code",
   "execution_count": null,
   "metadata": {},
   "outputs": [],
   "source": [
    "from pyomo.environ import *"
   ]
  },
  {
   "cell_type": "code",
   "execution_count": null,
   "metadata": {},
   "outputs": [],
   "source": [
    "model = ConcreteModel(name=\"Getting started\")\n",
    "\n",
    "model.x1 = Var(initialize=1.5)\n",
    "model.x2 = Var(initialize=1.5)\n",
    "\n",
    "def rosenbrock(model):\n",
    "    return (1.0 - model.x1)**2 + 100.0 * (model.x2 - model.x1**2)**2\n",
    "\n",
    "model.obj = Objective(rule=rosenbrock, sense=minimize)\n",
    "\n",
    "model.pprint()\n",
    "\n",
    "# @tail:\n",
    "print()\n",
    "print(\"-\" * 60)\n",
    "print()\n",
    "\n",
    "opt = SolverFactory('ipopt')\n",
    "\n",
    "results = opt.solve(model)\n",
    "\n",
    "model.display()\n",
    "\n",
    "print()\n",
    "print(\"Optimal solution: \", value(model.x1), value(model.x2))\n",
    "print(\"Gain of the optimal solution: \", value(model.obj))\n",
    "# @:tail"
   ]
  }
 ],
 "metadata": {
  "kernelspec": {
   "display_name": "Python 3",
   "language": "python",
   "name": "python3"
  },
  "language_info": {
   "codemirror_mode": {
    "name": "ipython",
    "version": 3
   },
   "file_extension": ".py",
   "mimetype": "text/x-python",
   "name": "python",
   "nbconvert_exporter": "python",
   "pygments_lexer": "ipython3",
   "version": "3.7.1"
  }
 },
 "nbformat": 4,
 "nbformat_minor": 2
}
