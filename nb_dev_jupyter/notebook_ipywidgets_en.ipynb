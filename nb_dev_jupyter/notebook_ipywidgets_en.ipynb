{
 "cells": [
  {
   "cell_type": "markdown",
   "metadata": {
    "slideshow": {
     "slide_type": "slide"
    },
    "tags": [
     "meta",
     "toc_en"
    ]
   },
   "source": [
    "# Interactive Jupyter notebooks\n",
    "\n",
    "2021-03-17 - Jérémie Decock"
   ]
  },
  {
   "cell_type": "markdown",
   "metadata": {
    "slideshow": {
     "slide_type": "slide"
    }
   },
   "source": [
    "**Goal:**\n",
    "\n",
    "Here we will see:\n",
    "- how to display interactive plots in Python in a notebook (with matplotlib/ipympl)\n",
    "- how to use widgets to make interactive interfaces in a notebook"
   ]
  },
  {
   "cell_type": "markdown",
   "metadata": {
    "slideshow": {
     "slide_type": "slide"
    }
   },
   "source": [
    "**Note:** using widgets/interactive plots is painful in JupyterLab 2, so this tutorial assumes either Jupyter Notebook or **JupyterLab 3** is installed.\n",
    "\n",
    "To install JupyterLab 3 in a dedicated conda environment: \n",
    "```\n",
    "conda create -n demo python numpy matplotlib\n",
    "conda activate demo\n",
    "pip install jupyterlab==3\n",
    "juypter lab\n",
    "```\n",
    "\n",
    "Or you can test this tutorial on Binder\n",
    "[![My Binder](https://mybinder.org/badge_logo.svg)](https://mybinder.org/v2/gh/jdhp-docs/notebooks/master?urlpath=lab/tree/nb_dev_jupyter/notebook_ipywidgets_en.ipynb)"
   ]
  },
  {
   "cell_type": "markdown",
   "metadata": {
    "slideshow": {
     "slide_type": "skip"
    }
   },
   "source": [
    "**Note**: This notebook can be seen in Slideshow mode using RISE (but it works on Jupyter Notebook only not Jupyter Lab)."
   ]
  },
  {
   "cell_type": "markdown",
   "metadata": {
    "slideshow": {
     "slide_type": "skip"
    }
   },
   "source": [
    "## Import directives"
   ]
  },
  {
   "cell_type": "code",
   "execution_count": null,
   "metadata": {
    "slideshow": {
     "slide_type": "skip"
    }
   },
   "outputs": [],
   "source": [
    "%matplotlib widget\n",
    "\n",
    "# To ignore warnings (http://stackoverflow.com/questions/9031783/hide-all-warnings-in-ipython)\n",
    "import warnings\n",
    "warnings.filterwarnings('ignore')\n",
    "\n",
    "import IPython\n",
    "\n",
    "import math\n",
    "import numpy as np\n",
    "import matplotlib\n",
    "import matplotlib.pyplot as plt\n",
    "from mpl_toolkits.mplot3d import axes3d\n",
    "import matplotlib.cm as cm"
   ]
  },
  {
   "cell_type": "markdown",
   "metadata": {
    "slideshow": {
     "slide_type": "slide"
    }
   },
   "source": [
    "## Interactive Matplotlib plots in Jupyter\n",
    "\n",
    "Interactive plots requires `ipympl` (c.f. https://github.com/matplotlib/ipympl).\n",
    "\n",
    "```\n",
    "pip install ipympl\n",
    "```\n",
    "\n",
    "Then simply insert the `%matplotlib widget` directive in a \"code\" cell at the begining of the notebook."
   ]
  },
  {
   "cell_type": "markdown",
   "metadata": {
    "slideshow": {
     "slide_type": "slide"
    }
   },
   "source": [
    "### Example: 2D plots"
   ]
  },
  {
   "cell_type": "code",
   "execution_count": null,
   "metadata": {},
   "outputs": [],
   "source": [
    "x = np.arange(-10, 10, 0.01)\n",
    "y = np.sin(2. * 2. * np.pi * x) * 1. / np.sqrt(2. * np.pi) * np.exp(-(x**2.)/2.)\n",
    "plt.plot(x, y);"
   ]
  },
  {
   "cell_type": "markdown",
   "metadata": {
    "slideshow": {
     "slide_type": "slide"
    }
   },
   "source": [
    "### Example: 3D plots"
   ]
  },
  {
   "cell_type": "code",
   "execution_count": null,
   "metadata": {},
   "outputs": [],
   "source": [
    "xx, yy = np.meshgrid(np.arange(-5, 5, 0.25), np.arange(-5, 5, 0.25))\n",
    "z = np.sin(np.sqrt(xx**2 + yy**2))\n",
    "\n",
    "fig = plt.figure()\n",
    "ax = axes3d.Axes3D(fig)\n",
    "ax.plot_surface(xx, yy, z, cmap=cm.jet, rstride=1, cstride=1, color='b', shade=True)\n",
    "plt.show()"
   ]
  },
  {
   "cell_type": "markdown",
   "metadata": {
    "slideshow": {
     "slide_type": "slide"
    }
   },
   "source": [
    "## Plotly"
   ]
  },
  {
   "cell_type": "markdown",
   "metadata": {
    "slideshow": {
     "slide_type": "slide"
    }
   },
   "source": [
    "\"The plotly Python library is an interactive, open-source plotting library that supports over 40 unique chart types covering a wide range of statistical, financial, geographic, scientific, and 3-dimensional use-cases.\n",
    "\n",
    "Built on top of the Plotly JavaScript library (plotly.js), plotly enables Python users to create beautiful interactive web-based visualizations that can be displayed in Jupyter notebooks, saved to standalone HTML files\"\n",
    "\n",
    "**Installation:**\n",
    "\n",
    "Plotly may be installed using pip:\n",
    "\n",
    "```\n",
    "pip install plotly\n",
    "```\n",
    "\n",
    "**Documentation:** https://plotly.com/python/getting-started/"
   ]
  },
  {
   "cell_type": "code",
   "execution_count": null,
   "metadata": {
    "scrolled": false,
    "slideshow": {
     "slide_type": "slide"
    }
   },
   "outputs": [],
   "source": [
    "import plotly.express as px\n",
    "df = px.data.iris()\n",
    "fig = px.scatter(df, x=\"sepal_width\", y=\"sepal_length\", color=\"species\")\n",
    "fig.show()"
   ]
  },
  {
   "cell_type": "code",
   "execution_count": null,
   "metadata": {
    "scrolled": false,
    "slideshow": {
     "slide_type": "slide"
    }
   },
   "outputs": [],
   "source": [
    "import plotly.express as px\n",
    "df = px.data.iris()\n",
    "fig = px.scatter_matrix(df, dimensions=[\"sepal_width\", \"sepal_length\", \"petal_width\", \"petal_length\"], color=\"species\")\n",
    "fig.show()"
   ]
  },
  {
   "cell_type": "code",
   "execution_count": null,
   "metadata": {
    "scrolled": false,
    "slideshow": {
     "slide_type": "slide"
    }
   },
   "outputs": [],
   "source": [
    "import plotly.express as px\n",
    "df = px.data.gapminder()\n",
    "fig = px.scatter(df, x=\"gdpPercap\", y=\"lifeExp\", animation_frame=\"year\", animation_group=\"country\",\n",
    "           size=\"pop\", color=\"continent\", hover_name=\"country\", facet_col=\"continent\",\n",
    "           log_x=True, size_max=45, range_x=[100,100000], range_y=[25,90])\n",
    "fig.show()"
   ]
  },
  {
   "cell_type": "code",
   "execution_count": null,
   "metadata": {
    "slideshow": {
     "slide_type": "slide"
    }
   },
   "outputs": [],
   "source": [
    "import plotly.express as px\n",
    "df = px.data.carshare()\n",
    "fig = px.scatter_mapbox(df, lat=\"centroid_lat\", lon=\"centroid_lon\", color=\"peak_hour\", size=\"car_hours\",\n",
    "                  color_continuous_scale=px.colors.cyclical.IceFire, size_max=15, zoom=10,\n",
    "                  mapbox_style=\"carto-positron\")\n",
    "fig.show()"
   ]
  },
  {
   "cell_type": "code",
   "execution_count": null,
   "metadata": {
    "slideshow": {
     "slide_type": "slide"
    }
   },
   "outputs": [],
   "source": [
    "# C.f. https://plotly.com/python/time-series/\n",
    "\n",
    "import pandas as pd\n",
    "import plotly.express as px\n",
    "import plotly.io as pio\n",
    "#pio.renderers.default = \"browser\"\n",
    "\n",
    "df = pd.read_csv(\"pvgis.csv.tar.gz\")\n",
    "df['time'] = pd.date_range(\"2005-01-01\", periods=len(df), freq='1h')\n",
    "\n",
    "fig = px.line(df,\n",
    "              x='time',\n",
    "              y=[\n",
    "                  'temperature',\n",
    "              ],\n",
    "              width=800,\n",
    "              height=400,\n",
    "              title='Ratios')\n",
    "\n",
    "fig.update_xaxes(\n",
    "    rangeslider_visible=True,\n",
    "    rangeselector=dict(\n",
    "        buttons=list([\n",
    "            dict(count=1, label=\"1d\", step=\"day\", stepmode=\"backward\"),\n",
    "            dict(count=7, label=\"1w\", step=\"day\", stepmode=\"backward\"),\n",
    "            dict(count=1, label=\"1m\", step=\"month\", stepmode=\"backward\"),\n",
    "            dict(count=1, label=\"1y\", step=\"year\", stepmode=\"backward\"),\n",
    "            dict(step=\"all\")\n",
    "        ])\n",
    "    )\n",
    ")\n",
    "fig.show()"
   ]
  },
  {
   "cell_type": "markdown",
   "metadata": {
    "slideshow": {
     "slide_type": "slide"
    }
   },
   "source": [
    "https://plotly.com/python/time-series/"
   ]
  },
  {
   "cell_type": "markdown",
   "metadata": {
    "slideshow": {
     "slide_type": "slide"
    }
   },
   "source": [
    "## Bokeh\n",
    "\n",
    "\"Bokeh is a Python library for creating interactive visualizations for modern web browsers. It helps you build beautiful graphics, ranging from simple plots to complex dashboards with streaming datasets. With Bokeh, you can create JavaScript-powered visualizations without writing any JavaScript yourself.\"\n",
    "\n",
    "**Installation:**\n",
    "\n",
    "```\n",
    "pip install bokeh\n",
    "```\n",
    "\n",
    "**Documentation:** https://bokeh.org/"
   ]
  },
  {
   "cell_type": "markdown",
   "metadata": {
    "slideshow": {
     "slide_type": "slide"
    }
   },
   "source": [
    "https://demo.bokeh.org/sliders"
   ]
  },
  {
   "cell_type": "markdown",
   "metadata": {
    "slideshow": {
     "slide_type": "slide"
    }
   },
   "source": [
    "https://demo.bokeh.org/selection_histogram"
   ]
  },
  {
   "cell_type": "markdown",
   "metadata": {
    "slideshow": {
     "slide_type": "slide"
    }
   },
   "source": [
    "https://demo.bokeh.org/stocks"
   ]
  },
  {
   "cell_type": "markdown",
   "metadata": {
    "slideshow": {
     "slide_type": "slide"
    }
   },
   "source": [
    "## Widgets in Jupyter with ipywidget"
   ]
  },
  {
   "cell_type": "markdown",
   "metadata": {},
   "source": [
    "ipywidgets are interactive HTML widgets for Jupyter notebooks.\n",
    "\n",
    "C.f. https://ipywidgets.readthedocs.io/en/latest/\n",
    "\n",
    "**What are widgets?**\n",
    "\n",
    "Widgets are eventful python objects that have a representation in the browser, often as a control like a button, slider, checkbox, textbox, etc.\n",
    "\n",
    "**What can they be used for?**\n",
    "\n",
    "You can use widgets to build interactive GUIs for your notebooks.\n",
    "\n",
    "**Installation**\n",
    "\n",
    "```\n",
    "pip install ipywidgets\n",
    "```\n",
    "\n",
    "**Import directives**"
   ]
  },
  {
   "cell_type": "code",
   "execution_count": null,
   "metadata": {},
   "outputs": [],
   "source": [
    "import ipywidgets\n",
    "from ipywidgets import interact"
   ]
  },
  {
   "cell_type": "markdown",
   "metadata": {
    "slideshow": {
     "slide_type": "slide"
    }
   },
   "source": [
    "### Make a first widget"
   ]
  },
  {
   "cell_type": "code",
   "execution_count": null,
   "metadata": {},
   "outputs": [],
   "source": [
    "%matplotlib inline\n",
    "\n",
    "from ipywidgets import IntSlider\n",
    "from IPython.display import display\n",
    "\n",
    "slider = IntSlider(min=1, max=10)  # make the widget\n",
    "display(slider)                    # display it"
   ]
  },
  {
   "cell_type": "markdown",
   "metadata": {},
   "source": [
    "Link the widget to a function"
   ]
  },
  {
   "cell_type": "code",
   "execution_count": null,
   "metadata": {},
   "outputs": [],
   "source": [
    "import ipywidgets\n",
    "\n",
    "slider = IntSlider(min=1, max=10, description='x')  # make the widget\n",
    "\n",
    "def f(x):\n",
    "    print(x**2)\n",
    "\n",
    "out = ipywidgets.interactive_output(f, {'x': slider})\n",
    "\n",
    "ipywidgets.HBox([ipywidgets.VBox([slider]), out])"
   ]
  },
  {
   "cell_type": "markdown",
   "metadata": {
    "slideshow": {
     "slide_type": "slide"
    }
   },
   "source": [
    "### Widget list\n",
    "\n",
    "A lot of widgets are available...\n",
    "\n",
    "C.f. https://ipywidgets.readthedocs.io/en/latest/examples/Widget%20List.html"
   ]
  },
  {
   "cell_type": "markdown",
   "metadata": {
    "slideshow": {
     "slide_type": "slide"
    }
   },
   "source": [
    "### The ipywidgets.interact class\n",
    "\n",
    "\"The interact function (ipywidgets.interact) automatically creates user interface (UI) controls for exploring code and data interactively.\n",
    "It is the easiest way to get started using IPython’s widgets.\"\n",
    "\n",
    "C.f. http://ipywidgets.readthedocs.io/en/latest/examples/Using%20Interact.html"
   ]
  },
  {
   "cell_type": "markdown",
   "metadata": {
    "slideshow": {
     "slide_type": "slide"
    }
   },
   "source": [
    "### Using interact as a function\n",
    "\n",
    "\"At the most basic level, interact autogenerates UI controls for function arguments, and then calls the function with those arguments when you manipulate the controls interactively. To use interact, you need to define a function that you want to explore. Here is a function that returns its only argument x.\""
   ]
  },
  {
   "cell_type": "code",
   "execution_count": null,
   "metadata": {},
   "outputs": [],
   "source": [
    "def f(x):\n",
    "    return x"
   ]
  },
  {
   "cell_type": "markdown",
   "metadata": {},
   "source": [
    "When you pass this function as the first argument to interact along with an integer keyword argument (x=5), a slider is generated and bound to the function parameter."
   ]
  },
  {
   "cell_type": "code",
   "execution_count": null,
   "metadata": {},
   "outputs": [],
   "source": [
    "from ipywidgets import interact\n",
    "\n",
    "interact(f, x=5);"
   ]
  },
  {
   "cell_type": "markdown",
   "metadata": {},
   "source": [
    "When you move the slider, the function is called, and its return value is printed."
   ]
  },
  {
   "cell_type": "markdown",
   "metadata": {
    "slideshow": {
     "slide_type": "slide"
    }
   },
   "source": [
    "#### Text"
   ]
  },
  {
   "cell_type": "markdown",
   "metadata": {},
   "source": [
    "`interact` choose the appropriate widget depending on the function argument type.\n",
    "\n",
    "For instance if `x` is a string then a text box widget is used."
   ]
  },
  {
   "cell_type": "code",
   "execution_count": null,
   "metadata": {},
   "outputs": [],
   "source": [
    "def f(x):\n",
    "    print(\"Hello {}\".format(x))\n",
    "    \n",
    "interact(f, x=\"IPython Widgets\");"
   ]
  },
  {
   "cell_type": "markdown",
   "metadata": {
    "slideshow": {
     "slide_type": "slide"
    }
   },
   "source": [
    "#### Integer (IntSlider)"
   ]
  },
  {
   "cell_type": "markdown",
   "metadata": {},
   "source": [
    "For integers a slider widget is used."
   ]
  },
  {
   "cell_type": "code",
   "execution_count": null,
   "metadata": {
    "slideshow": {
     "slide_type": "-"
    }
   },
   "outputs": [],
   "source": [
    "def square(num):\n",
    "    print(\"{} squared is {}\".format(num, num*num))\n",
    "\n",
    "interact(square, num=5);"
   ]
  },
  {
   "cell_type": "code",
   "execution_count": null,
   "metadata": {
    "slideshow": {
     "slide_type": "-"
    }
   },
   "outputs": [],
   "source": [
    "def square(num):\n",
    "    print(\"{} squared is {}\".format(num, num*num))\n",
    "\n",
    "interact(square, num=(0, 100));"
   ]
  },
  {
   "cell_type": "code",
   "execution_count": null,
   "metadata": {},
   "outputs": [],
   "source": [
    "def square(num):\n",
    "    print(\"{} squared is {}\".format(num, num*num))\n",
    "\n",
    "interact(square, num=(0, 100, 10));"
   ]
  },
  {
   "cell_type": "markdown",
   "metadata": {
    "slideshow": {
     "slide_type": "slide"
    }
   },
   "source": [
    "#### Example with Matplotlib"
   ]
  },
  {
   "cell_type": "code",
   "execution_count": null,
   "metadata": {
    "slideshow": {
     "slide_type": "slide"
    }
   },
   "outputs": [],
   "source": [
    "def plot(t):\n",
    "    fig = plt.figure()\n",
    "    ax = plt.axes(xlim=(0, 2), ylim=(-2, 2))\n",
    "    \n",
    "    x = np.linspace(0, 2, 100)\n",
    "    y = np.sin(2. * np.pi * (x - 0.01 * t))\n",
    "    ax.plot(x, y, lw=2)\n",
    "\n",
    "interact(plot, t=(0, 100, 1));"
   ]
  },
  {
   "cell_type": "code",
   "execution_count": null,
   "metadata": {
    "slideshow": {
     "slide_type": "slide"
    }
   },
   "outputs": [],
   "source": [
    "x = np.random.normal(size=1000)\n",
    "\n",
    "def plot(num):\n",
    "    plt.hist(x, bins=num)\n",
    "\n",
    "interact(plot, num=(10, 100));"
   ]
  },
  {
   "cell_type": "code",
   "execution_count": null,
   "metadata": {
    "slideshow": {
     "slide_type": "slide"
    }
   },
   "outputs": [],
   "source": [
    "x, y = np.random.normal(size=(2, 100000))\n",
    "\n",
    "def plot(num):\n",
    "    fig = plt.figure(figsize=(8.0, 8.0))\n",
    "    ax = fig.add_subplot(111)\n",
    "    im = ax.hexbin(x, y, gridsize=num)\n",
    "    fig.colorbar(im, ax=ax)\n",
    "\n",
    "interact(plot, num=(10, 60));"
   ]
  },
  {
   "cell_type": "markdown",
   "metadata": {
    "slideshow": {
     "slide_type": "slide"
    }
   },
   "source": [
    "#### Float (FloatSlider)"
   ]
  },
  {
   "cell_type": "markdown",
   "metadata": {},
   "source": [
    "The same for floats."
   ]
  },
  {
   "cell_type": "code",
   "execution_count": null,
   "metadata": {
    "slideshow": {
     "slide_type": "-"
    }
   },
   "outputs": [],
   "source": [
    "def square(num):\n",
    "    print(\"{} squared is {}\".format(num, num*num))\n",
    "\n",
    "interact(square, num=5.);"
   ]
  },
  {
   "cell_type": "code",
   "execution_count": null,
   "metadata": {
    "slideshow": {
     "slide_type": "-"
    }
   },
   "outputs": [],
   "source": [
    "def square(num):\n",
    "    print(\"{} squared is {}\".format(num, num*num))\n",
    "\n",
    "interact(square, num=(0., 10.));"
   ]
  },
  {
   "cell_type": "code",
   "execution_count": null,
   "metadata": {},
   "outputs": [],
   "source": [
    "def square(num):\n",
    "    print(\"{} squared is {}\".format(num, num*num))\n",
    "\n",
    "interact(square, num=(0., 10., 0.5));"
   ]
  },
  {
   "cell_type": "markdown",
   "metadata": {
    "slideshow": {
     "slide_type": "slide"
    }
   },
   "source": [
    "#### Boolean (Checkbox)"
   ]
  },
  {
   "cell_type": "markdown",
   "metadata": {},
   "source": [
    "A boolean generates a checkbox widget."
   ]
  },
  {
   "cell_type": "code",
   "execution_count": null,
   "metadata": {},
   "outputs": [],
   "source": [
    "def greeting(upper):\n",
    "    text = \"hello\"\n",
    "    if upper:\n",
    "        print(text.upper())\n",
    "    else:\n",
    "        print(text.lower())\n",
    "\n",
    "interact(greeting, upper=False);"
   ]
  },
  {
   "cell_type": "markdown",
   "metadata": {
    "slideshow": {
     "slide_type": "slide"
    }
   },
   "source": [
    "#### List (Dropdown)"
   ]
  },
  {
   "cell_type": "markdown",
   "metadata": {},
   "source": [
    "A list generates a dropdown widget."
   ]
  },
  {
   "cell_type": "code",
   "execution_count": null,
   "metadata": {},
   "outputs": [],
   "source": [
    "def greeting(name):\n",
    "    print(\"Hello {}\".format(name))\n",
    "\n",
    "interact(greeting, name=[\"John\", \"Bob\", \"Alice\"]);"
   ]
  },
  {
   "cell_type": "markdown",
   "metadata": {
    "slideshow": {
     "slide_type": "slide"
    }
   },
   "source": [
    "#### Dictionnary (Dropdown)"
   ]
  },
  {
   "cell_type": "markdown",
   "metadata": {},
   "source": [
    "The same for dictionaries."
   ]
  },
  {
   "cell_type": "code",
   "execution_count": null,
   "metadata": {},
   "outputs": [],
   "source": [
    "def translate(word):\n",
    "    print(word)\n",
    "\n",
    "interact(translate, word={\"One\": \"Un\", \"Two\": \"Deux\", \"Three\": \"Trois\"});"
   ]
  },
  {
   "cell_type": "code",
   "execution_count": null,
   "metadata": {
    "scrolled": true,
    "slideshow": {
     "slide_type": "slide"
    }
   },
   "outputs": [],
   "source": [
    "x = np.arange(-2 * np.pi, 2 * np.pi, 0.1)\n",
    "\n",
    "def plot(function):\n",
    "    y = function(x)\n",
    "    plt.plot(x, y)\n",
    "\n",
    "interact(plot, function={\"Sin\": np.sin, \"Cos\": np.cos});"
   ]
  },
  {
   "cell_type": "markdown",
   "metadata": {
    "slideshow": {
     "slide_type": "slide"
    }
   },
   "source": [
    "### Example of using multiple widgets on one function\n",
    "\n",
    "A widget is made for each argument of the target function."
   ]
  },
  {
   "cell_type": "code",
   "execution_count": null,
   "metadata": {},
   "outputs": [],
   "source": [
    "def greeting(upper, name):\n",
    "    text = \"hello {}\".format(name)\n",
    "    if upper:\n",
    "        print(text.upper())\n",
    "    else:\n",
    "        print(text.lower())\n",
    "\n",
    "interact(greeting, upper=False, name=[\"john\", \"bob\", \"alice\"]);"
   ]
  },
  {
   "cell_type": "markdown",
   "metadata": {
    "slideshow": {
     "slide_type": "slide"
    }
   },
   "source": [
    "### Using interact as a decorator with named parameters\n",
    "\n",
    "As an alternative syntax, Python *decorators* can be used to bind the widget and the target function."
   ]
  },
  {
   "cell_type": "markdown",
   "metadata": {
    "slideshow": {
     "slide_type": "slide"
    }
   },
   "source": [
    "#### Text"
   ]
  },
  {
   "cell_type": "code",
   "execution_count": null,
   "metadata": {},
   "outputs": [],
   "source": [
    "@interact(text=\"IPython Widgets\")\n",
    "def greeting(text):\n",
    "    print(\"Hello {}\".format(text))"
   ]
  },
  {
   "cell_type": "markdown",
   "metadata": {
    "slideshow": {
     "slide_type": "slide"
    }
   },
   "source": [
    "#### Integer (IntSlider)"
   ]
  },
  {
   "cell_type": "code",
   "execution_count": null,
   "metadata": {
    "slideshow": {
     "slide_type": "-"
    }
   },
   "outputs": [],
   "source": [
    "@interact(num=5)\n",
    "def square(num):\n",
    "    print(\"{} squared is {}\".format(num, num*num))"
   ]
  },
  {
   "cell_type": "code",
   "execution_count": null,
   "metadata": {
    "slideshow": {
     "slide_type": "-"
    }
   },
   "outputs": [],
   "source": [
    "@interact(num=(0, 100))\n",
    "def square(num):\n",
    "    print(\"{} squared is {}\".format(num, num*num))"
   ]
  },
  {
   "cell_type": "code",
   "execution_count": null,
   "metadata": {
    "slideshow": {
     "slide_type": "-"
    }
   },
   "outputs": [],
   "source": [
    "@interact(num=(0, 100, 10))\n",
    "def square(num):\n",
    "    print(\"{} squared is {}\".format(num, num*num))"
   ]
  },
  {
   "cell_type": "markdown",
   "metadata": {
    "slideshow": {
     "slide_type": "slide"
    }
   },
   "source": [
    "#### Float (FloatSlider)"
   ]
  },
  {
   "cell_type": "code",
   "execution_count": null,
   "metadata": {
    "slideshow": {
     "slide_type": "-"
    }
   },
   "outputs": [],
   "source": [
    "@interact(num=5.)\n",
    "def square(num):\n",
    "    print(\"{} squared is {}\".format(num, num*num))"
   ]
  },
  {
   "cell_type": "code",
   "execution_count": null,
   "metadata": {
    "slideshow": {
     "slide_type": "-"
    }
   },
   "outputs": [],
   "source": [
    "@interact(num=(0., 10.))\n",
    "def square(num):\n",
    "    print(\"{} squared is {}\".format(num, num*num))"
   ]
  },
  {
   "cell_type": "code",
   "execution_count": null,
   "metadata": {
    "slideshow": {
     "slide_type": "-"
    }
   },
   "outputs": [],
   "source": [
    "@interact(num=(0., 10., 0.5))\n",
    "def square(num):\n",
    "    print(\"{} squared is {}\".format(num, num*num))"
   ]
  },
  {
   "cell_type": "markdown",
   "metadata": {
    "slideshow": {
     "slide_type": "slide"
    }
   },
   "source": [
    "#### Boolean (Checkbox)"
   ]
  },
  {
   "cell_type": "code",
   "execution_count": null,
   "metadata": {
    "slideshow": {
     "slide_type": "-"
    }
   },
   "outputs": [],
   "source": [
    "@interact(upper=False)\n",
    "def greeting(upper):\n",
    "    text = \"hello\"\n",
    "    if upper:\n",
    "        print(text.upper())\n",
    "    else:\n",
    "        print(text.lower())"
   ]
  },
  {
   "cell_type": "markdown",
   "metadata": {
    "slideshow": {
     "slide_type": "slide"
    }
   },
   "source": [
    "#### List (Dropdown)"
   ]
  },
  {
   "cell_type": "code",
   "execution_count": null,
   "metadata": {
    "slideshow": {
     "slide_type": "-"
    }
   },
   "outputs": [],
   "source": [
    "@interact(name=[\"John\", \"Bob\", \"Alice\"])\n",
    "def greeting(name):\n",
    "    print(\"Hello {}\".format(name))"
   ]
  },
  {
   "cell_type": "markdown",
   "metadata": {
    "slideshow": {
     "slide_type": "slide"
    }
   },
   "source": [
    "#### Dictionnary (Dropdown)"
   ]
  },
  {
   "cell_type": "code",
   "execution_count": null,
   "metadata": {
    "slideshow": {
     "slide_type": "-"
    }
   },
   "outputs": [],
   "source": [
    "@interact(word={\"One\": \"Un\", \"Two\": \"Deux\", \"Three\": \"Trois\"})\n",
    "def translate(word):\n",
    "    print(word)"
   ]
  },
  {
   "cell_type": "code",
   "execution_count": null,
   "metadata": {
    "slideshow": {
     "slide_type": "-"
    }
   },
   "outputs": [],
   "source": [
    "x = np.arange(-2 * np.pi, 2 * np.pi, 0.1)\n",
    "\n",
    "@interact(function={\"Sin\": np.sin, \"Cos\": np.cos})\n",
    "def plot(function):\n",
    "    y = function(x)\n",
    "    plt.plot(x, y)"
   ]
  },
  {
   "cell_type": "markdown",
   "metadata": {
    "slideshow": {
     "slide_type": "slide"
    }
   },
   "source": [
    "### Using interact as a decorator without parameter\n",
    "\n",
    "As an alternative, widgets parameters can be set in the function parameters."
   ]
  },
  {
   "cell_type": "markdown",
   "metadata": {
    "slideshow": {
     "slide_type": "slide"
    }
   },
   "source": [
    "#### Example"
   ]
  },
  {
   "cell_type": "code",
   "execution_count": null,
   "metadata": {
    "slideshow": {
     "slide_type": "-"
    }
   },
   "outputs": [],
   "source": [
    "@interact\n",
    "def square(num=2):\n",
    "    print(\"{} squared is {}\".format(num, num*num))"
   ]
  },
  {
   "cell_type": "code",
   "execution_count": null,
   "metadata": {
    "slideshow": {
     "slide_type": "-"
    }
   },
   "outputs": [],
   "source": [
    "@interact\n",
    "def square(num=(0, 100)):\n",
    "    print(\"{} squared is {}\".format(num, num*num))"
   ]
  },
  {
   "cell_type": "code",
   "execution_count": null,
   "metadata": {
    "slideshow": {
     "slide_type": "-"
    }
   },
   "outputs": [],
   "source": [
    "@interact\n",
    "def square(num=(0, 100, 10)):\n",
    "    print(\"{} squared is {}\".format(num, num*num))"
   ]
  },
  {
   "cell_type": "markdown",
   "metadata": {
    "slideshow": {
     "slide_type": "slide"
    }
   },
   "source": [
    "### The ipywidgets.interactive class\n",
    "\n",
    "\"In addition to `interact`, IPython provides another function, `interactive`, that is *useful when you want to reuse the widgets* that are produced or *access the data that is bound* to the UI controls.\n",
    "\n",
    "Note that unlike interact, the return value of the function will not be displayed automatically, but you can display a value inside the function with IPython.display.display.\"\n",
    "\n",
    "**Documentation**: https://ipywidgets.readthedocs.io/en/latest/examples/Using%20Interact.html#interactive"
   ]
  },
  {
   "cell_type": "code",
   "execution_count": null,
   "metadata": {
    "slideshow": {
     "slide_type": "slide"
    }
   },
   "outputs": [],
   "source": [
    "from ipywidgets import interactive\n",
    "\n",
    "def f(a, b):\n",
    "    display(a + b)\n",
    "    return a+b\n",
    "\n",
    "w = interactive(f, a=10, b=20)\n",
    "\n",
    "display(w)"
   ]
  },
  {
   "cell_type": "code",
   "execution_count": null,
   "metadata": {},
   "outputs": [],
   "source": [
    "w.kwargs"
   ]
  },
  {
   "cell_type": "code",
   "execution_count": null,
   "metadata": {},
   "outputs": [],
   "source": [
    "w.result"
   ]
  },
  {
   "cell_type": "markdown",
   "metadata": {
    "slideshow": {
     "slide_type": "slide"
    }
   },
   "source": [
    "### Layouts\n",
    "\n",
    "C.f. https://ipywidgets.readthedocs.io/en/latest/examples/Layout%20Templates.html and https://ipywidgets.readthedocs.io/en/latest/examples/Widget%20Styling.html"
   ]
  },
  {
   "cell_type": "markdown",
   "metadata": {
    "slideshow": {
     "slide_type": "slide"
    }
   },
   "source": [
    "### Ipywidgets usage examples"
   ]
  },
  {
   "cell_type": "markdown",
   "metadata": {
    "slideshow": {
     "slide_type": "slide"
    }
   },
   "source": [
    "#### Plots"
   ]
  },
  {
   "cell_type": "code",
   "execution_count": null,
   "metadata": {},
   "outputs": [],
   "source": [
    "x = np.random.normal(size=1000)\n",
    "\n",
    "def plot(num):\n",
    "    x = np.arange(-5, 5, 0.25)\n",
    "    y = np.arange(-5, 5, 0.25)\n",
    "    xx,yy = np.meshgrid(x, y)\n",
    "    z = np.sin(np.sqrt(xx**2 + yy**2) + num)\n",
    "\n",
    "    fig = plt.figure()\n",
    "    ax = axes3d.Axes3D(fig)\n",
    "    ax.set_title(\"sin(sqrt(x² + y²) + {:0.2f})\".format(num))\n",
    "    ax.plot_wireframe(xx, yy, z)"
   ]
  },
  {
   "cell_type": "code",
   "execution_count": null,
   "metadata": {
    "slideshow": {
     "slide_type": "slide"
    }
   },
   "outputs": [],
   "source": [
    "interact(plot, num=(10., 25., 0.1));"
   ]
  },
  {
   "cell_type": "markdown",
   "metadata": {
    "slideshow": {
     "slide_type": "slide"
    }
   },
   "source": [
    "#### Flickering and jumping output\n",
    "\n",
    "\"On occasion, you may notice interact output flickering and jumping, causing the notebook scroll position to change as the output is updated. The interactive control has a layout, so we can set its height to an appropriate value (currently chosen manually) so that it will not change size as it is updated.\"\n",
    "\n",
    "https://ipywidgets.readthedocs.io/en/latest/examples/Using%20Interact.html#Flickering-and-jumping-output"
   ]
  },
  {
   "cell_type": "code",
   "execution_count": null,
   "metadata": {},
   "outputs": [],
   "source": [
    "interactive_plot = interactive(plot, num=(10., 25., 0.1))\n",
    "output = interactive_plot.children[-1]\n",
    "output.layout.height = '350px'\n",
    "interactive_plot"
   ]
  },
  {
   "cell_type": "markdown",
   "metadata": {
    "slideshow": {
     "slide_type": "slide"
    }
   },
   "source": [
    "#### Dataviz"
   ]
  },
  {
   "cell_type": "code",
   "execution_count": null,
   "metadata": {},
   "outputs": [],
   "source": [
    "from matplotlib.ticker import FuncFormatter\n",
    "\n",
    "X, Y = np.random.normal(size=(2, 100000))\n",
    "\n",
    "def plot(num, name):\n",
    "    fig = plt.figure(figsize=(8.0, 8.0))\n",
    "    ax = fig.add_subplot(111)\n",
    "    \n",
    "    x = np.log10(X) if name in (\"xlog\", \"loglog\") else X\n",
    "    y = np.log10(Y) if name in (\"ylog\", \"loglog\") else Y\n",
    "\n",
    "    im = ax.hexbin(x, y, gridsize=num)\n",
    "    fig.colorbar(im, ax=ax)\n",
    "\n",
    "    # Use \"10^n\" instead \"n\" as ticks label\n",
    "    func_formatter = lambda x, pos: r'$10^{{{}}}$'.format(int(x))\n",
    "    ax.xaxis.set_major_formatter(FuncFormatter(func_formatter))\n",
    "    ax.yaxis.set_major_formatter(FuncFormatter(func_formatter))\n",
    "\n",
    "    ax.set_title(name)"
   ]
  },
  {
   "cell_type": "code",
   "execution_count": null,
   "metadata": {
    "slideshow": {
     "slide_type": "slide"
    }
   },
   "outputs": [],
   "source": [
    "interact(plot, num=(10, 60), name=[\"linear\", \"xlog\", \"ylog\", \"loglog\"]);"
   ]
  },
  {
   "cell_type": "markdown",
   "metadata": {
    "slideshow": {
     "slide_type": "slide"
    }
   },
   "source": [
    "#### Contour line"
   ]
  },
  {
   "cell_type": "code",
   "execution_count": null,
   "metadata": {
    "slideshow": {
     "slide_type": "skip"
    }
   },
   "outputs": [],
   "source": [
    "import scipy.optimize\n",
    "\n",
    "xmin = [-4., -5.]\n",
    "xmax = [4., 10.]\n",
    "f = scipy.optimize.rosen\n",
    "\n",
    "def plot(cl1, cl2):\n",
    "    \n",
    "    # Setup\n",
    "    \n",
    "    x1_space = np.linspace(xmin[0], xmax[0], 100)\n",
    "    x2_space = np.linspace(xmin[1], xmax[1], 100)\n",
    "\n",
    "    x1_mesh, x2_mesh = np.meshgrid(x1_space, x2_space)\n",
    "\n",
    "    z = [f([x, y]) for x, y in zip(x1_mesh.ravel(), x2_mesh.ravel())]\n",
    "\n",
    "    zz = np.array(z).reshape(x1_mesh.shape)\n",
    "\n",
    "    # Plot\n",
    "    \n",
    "    fig, ax = plt.subplots(figsize=(15, 7))\n",
    "\n",
    "    im = ax.pcolormesh(x1_mesh, x2_mesh, zz,\n",
    "                       shading='gouraud',\n",
    "                       norm=matplotlib.colors.LogNorm(), # TODO\n",
    "                       cmap='gnuplot2') # 'jet' # 'gnuplot2'\n",
    "\n",
    "    plt.colorbar(im, ax=ax)\n",
    "\n",
    "    levels = (cl1, cl2)          # TODO\n",
    "\n",
    "    cs = plt.contour(x1_mesh, x2_mesh, zz, levels,\n",
    "                     linewidths=(2, 3),\n",
    "                     linestyles=('dashed', 'solid'),  # 'dotted', '-.', \n",
    "                     alpha=0.5,\n",
    "                     colors='red')\n",
    "\n",
    "    ax.clabel(cs, inline=False, fontsize=12)"
   ]
  },
  {
   "cell_type": "code",
   "execution_count": null,
   "metadata": {},
   "outputs": [],
   "source": [
    "#interact(plot, cl1=(0.1, 10., 0.1), cl2=(0.1, 100., 0.1));\n",
    "interactive_plot = interactive(plot, cl1=(1., 99., 0.1), cl2=(100., 10000., 0.1))\n",
    "output = interactive_plot.children[-1]\n",
    "output.layout.height = '500px'\n",
    "interactive_plot"
   ]
  },
  {
   "cell_type": "markdown",
   "metadata": {
    "slideshow": {
     "slide_type": "slide"
    }
   },
   "source": [
    "#### Time series exploration"
   ]
  },
  {
   "cell_type": "code",
   "execution_count": null,
   "metadata": {},
   "outputs": [],
   "source": [
    "import statsmodels.api as sm\n",
    "\n",
    "# https://www.statsmodels.org/devel/datasets/index.html\n",
    "data = sm.datasets.elnino.load_pandas()\n",
    "df = data.data\n",
    "df.index = df.YEAR\n",
    "df = df.drop(['YEAR'], axis=1)\n",
    "\n",
    "def plot(year):\n",
    "    ax = df.loc[year,:].plot()\n",
    "    ax.set_ylim(15, 30)\n",
    "    ax.set_title(\"El Nino - Sea Surface Temperatures\")"
   ]
  },
  {
   "cell_type": "code",
   "execution_count": null,
   "metadata": {
    "slideshow": {
     "slide_type": "slide"
    }
   },
   "outputs": [],
   "source": [
    "interact(plot, year=(1950, 2010));"
   ]
  },
  {
   "cell_type": "markdown",
   "metadata": {
    "slideshow": {
     "slide_type": "slide"
    }
   },
   "source": [
    "#### Understand algorithms: neural networks"
   ]
  },
  {
   "cell_type": "code",
   "execution_count": null,
   "metadata": {
    "slideshow": {
     "slide_type": "skip"
    }
   },
   "outputs": [],
   "source": [
    "# Activation functions ########################################################\n",
    "\n",
    "def identity(x):\n",
    "    return x\n",
    "\n",
    "def tanh(x):\n",
    "    return np.tanh(x)\n",
    "\n",
    "def relu(x):\n",
    "    x_and_zeros = np.array([x, np.zeros(x.shape)])\n",
    "    return np.max(x_and_zeros, axis=0)\n",
    "\n",
    "# Dense Multi-Layer Neural Network ############################################\n",
    "\n",
    "IN_SIZE = 2\n",
    "OUT_SIZE = 1\n",
    "H_SIZE = 4   # H_SIZE = number of neurons on the hidden layer\n",
    "\n",
    "# Set the neural network activation functions (one function per layer)\n",
    "activation_functions = (relu, tanh)\n",
    "\n",
    "# Make a neural network with 1 hidden layer of `H_SIZE` units\n",
    "weights = (np.random.random(size=[IN_SIZE + 1, H_SIZE]),\n",
    "           np.random.random(size=[H_SIZE + 1, OUT_SIZE]))\n",
    "\n",
    "def feed_forward(inputs, weights, activation_functions, verbose=False):\n",
    "\n",
    "    x = inputs.copy()\n",
    "    for layer_weights, layer_activation_fn in zip(weights, activation_functions):\n",
    "\n",
    "        y = np.dot(x, layer_weights[1:])\n",
    "        y += layer_weights[0]\n",
    "        \n",
    "        layer_output = layer_activation_fn(y)\n",
    "\n",
    "        if verbose:\n",
    "            print(\"x\", x)\n",
    "            print(\"bias\", layer_weights[0])\n",
    "            print(\"W\", layer_weights[1:])\n",
    "            print(\"y\", y)\n",
    "            print(\"z\", layer_output)\n",
    "\n",
    "        x = layer_output\n",
    "\n",
    "    return layer_output"
   ]
  },
  {
   "cell_type": "code",
   "execution_count": null,
   "metadata": {
    "slideshow": {
     "slide_type": "slide"
    }
   },
   "outputs": [],
   "source": [
    "xmin, xmax = -10., 10.\n",
    "res = 100\n",
    "\n",
    "def plot(w11, w12, w13, w14, w21, w22, w23, w24, w31, w32, w33, w34, wo1, wo2, wo3, wo4, wo5):\n",
    "\n",
    "    weights = (np.array([[w11, w12, w13, w14],\n",
    "                      [w21, w22, w23, w24],\n",
    "                      [w31, w32, w33, w34]]),\n",
    "               np.array([[wo1],\n",
    "                      [wo2],\n",
    "                      [wo3],\n",
    "                      [wo4],\n",
    "                      [wo5]]))\n",
    "    \n",
    "    x1_space = np.linspace(xmin, xmax, res)\n",
    "    x2_space = np.linspace(xmin, xmax, res)\n",
    "\n",
    "    x1_mesh, x2_mesh = np.meshgrid(x1_space, x2_space)\n",
    "\n",
    "    z = [feed_forward(inputs=[x, y],\n",
    "                      weights=weights,\n",
    "                      activation_functions=activation_functions) for x, y in zip(x1_mesh.ravel(), x2_mesh.ravel())]\n",
    "\n",
    "    zz = np.array(z).reshape(x1_mesh.shape)\n",
    "    \n",
    "    fig, ax = plt.subplots(figsize=(8, 8))\n",
    "\n",
    "    im = ax.pcolormesh(x1_mesh, x2_mesh, zz,\n",
    "                       shading='gouraud',\n",
    "                       #norm=matplotlib.colors.LogNorm(), # TODO\n",
    "                       cmap='magma') # 'jet' # 'gnuplot2'\n",
    "\n",
    "    plt.colorbar(im, ax=ax)"
   ]
  },
  {
   "cell_type": "code",
   "execution_count": null,
   "metadata": {
    "slideshow": {
     "slide_type": "slide"
    }
   },
   "outputs": [],
   "source": [
    "from ipywidgets import GridspecLayout, FloatSlider, Layout\n",
    "import random\n",
    "\n",
    "grid = GridspecLayout(5, 4)\n",
    "\n",
    "for i in range(5):\n",
    "    for j in range(4):\n",
    "        grid[i, j] = FloatSlider(value=random.random(), min=-5., max=5., step=0.1, description=\"w{}{}\".format(i, j), layout=Layout(width='75%'))\n",
    "\n",
    "out = ipywidgets.interactive_output(plot, {'w11': grid[0, 0], 'w12': grid[1, 0], 'w13': grid[2, 0], 'w14': grid[3, 0],\n",
    "                                           'w21': grid[0, 1], 'w22': grid[1, 1], 'w23': grid[2, 1], 'w24': grid[3, 1],\n",
    "                                           'w31': grid[0, 2], 'w32': grid[1, 2], 'w33': grid[2, 2], 'w34': grid[3, 2],\n",
    "                                           'wo1': grid[0, 3], 'wo2': grid[1, 3], 'wo3': grid[2, 3], 'wo4': grid[3, 3], 'wo5': grid[4, 3]})\n",
    "\n",
    "#display(grid, out)\n",
    "ipywidgets.VBox([grid, out])"
   ]
  }
 ],
 "metadata": {
  "anaconda-cloud": {},
  "celltoolbar": "Diaporama",
  "kernelspec": {
   "display_name": "Python 3",
   "language": "python",
   "name": "python3"
  },
  "language_info": {
   "codemirror_mode": {
    "name": "ipython",
    "version": 3
   },
   "file_extension": ".py",
   "mimetype": "text/x-python",
   "name": "python",
   "nbconvert_exporter": "python",
   "pygments_lexer": "ipython3",
   "version": "3.9.2"
  },
  "toc-autonumbering": true,
  "toc-showcode": false,
  "toc-showmarkdowntxt": false,
  "toc-showtags": false
 },
 "nbformat": 4,
 "nbformat_minor": 4
}
