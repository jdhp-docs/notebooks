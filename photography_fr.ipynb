{
 "cells": [
  {
   "cell_type": "markdown",
   "metadata": {
    "tags": [
     "meta",
     "draft"
    ]
   },
   "source": [
    "# Photographie"
   ]
  },
  {
   "cell_type": "markdown",
   "metadata": {
    "tags": [
     "hide"
    ]
   },
   "source": [
    "**TODO**\n",
    "* ..."
   ]
  },
  {
   "cell_type": "code",
   "execution_count": null,
   "metadata": {
    "tags": [
     "hide"
    ]
   },
   "outputs": [],
   "source": [
    "%matplotlib inline\n",
    "import math\n",
    "import numpy as np\n",
    "import matplotlib.pyplot as plt\n",
    "\n",
    "import ipywidgets\n",
    "from ipywidgets import interact"
   ]
  },
  {
   "cell_type": "markdown",
   "metadata": {},
   "source": [
    "## Constantes"
   ]
  },
  {
   "cell_type": "markdown",
   "metadata": {},
   "source": [
    "Sources:\n",
    "* *Obtenez le maximum du Canon EOS 80D*, Vincent Burgeon, ed. Dunod, p.14"
   ]
  },
  {
   "cell_type": "code",
   "execution_count": null,
   "metadata": {},
   "outputs": [],
   "source": [
    "CAPTEUR_DICT = {\"APS-C Canon (15x23 mm)\": (14.9, 22.3),\n",
    "                \"Full frame (24x36 mm)\": (24, 36)}"
   ]
  },
  {
   "cell_type": "markdown",
   "metadata": {},
   "source": [
    "## Angle de champ"
   ]
  },
  {
   "cell_type": "markdown",
   "metadata": {},
   "source": [
    "$$\\text{angle} = 2 \\arctan \\left( \\frac{\\frac{D}{2}}{f} \\right) = 2 \\arctan \\left( \\frac{D}{2f} \\right)$$\n",
    "\n",
    "avec $D$ la dimension (horizontale, verticale ou diagonale) du capteur et $f$ la focale de l'objectif."
   ]
  },
  {
   "cell_type": "markdown",
   "metadata": {},
   "source": [
    "Sources:\n",
    "* *Tous photographes !*, Jacques Croizer, ed. Dunod, p.247"
   ]
  },
  {
   "cell_type": "code",
   "execution_count": null,
   "metadata": {},
   "outputs": [],
   "source": [
    "def angle(focale, capteur):\n",
    "    angle = 2. * math.atan(float(capteur)/(2. * focale))\n",
    "    return angle"
   ]
  },
  {
   "cell_type": "code",
   "execution_count": null,
   "metadata": {},
   "outputs": [],
   "source": [
    "@interact(focale=(8, 300, 1), capteur=CAPTEUR_DICT)\n",
    "def square(focale, capteur):\n",
    "    print(\"Capteur: {}x{} mm\".format(capteur[0], capteur[1]))\n",
    "    print(\"Focale: {} mm\".format(focale))\n",
    "    angle_verticale = round(math.degrees(angle(focale, capteur[0])), 1)\n",
    "    angle_horizontale = round(math.degrees(angle(focale, capteur[1])), 1)\n",
    "    print(\"Angle horizontale: {}°\".format(angle_horizontale))\n",
    "    print(\"Angle verticale: {}°\".format(angle_verticale))"
   ]
  },
  {
   "cell_type": "markdown",
   "metadata": {},
   "source": [
    "## Distance au sujet"
   ]
  },
  {
   "cell_type": "markdown",
   "metadata": {},
   "source": [
    "**TODO**\n",
    "\n",
    "taille_horizontale_sujet\n",
    "taille_verticale_sujet\n",
    "focale\n",
    "capteur\n",
    "\n",
    "return: distance"
   ]
  },
  {
   "cell_type": "markdown",
   "metadata": {},
   "source": [
    "## Profondeur de champ"
   ]
  },
  {
   "cell_type": "markdown",
   "metadata": {},
   "source": [
    "TODO"
   ]
  }
 ],
 "metadata": {
  "anaconda-cloud": {},
  "celltoolbar": "Tags",
  "kernelspec": {
   "display_name": "Python 3",
   "language": "python",
   "name": "python3"
  },
  "language_info": {
   "codemirror_mode": {
    "name": "ipython",
    "version": 3
   },
   "file_extension": ".py",
   "mimetype": "text/x-python",
   "name": "python",
   "nbconvert_exporter": "python",
   "pygments_lexer": "ipython3",
   "version": "3.6.3"
  }
 },
 "nbformat": 4,
 "nbformat_minor": 1
}
