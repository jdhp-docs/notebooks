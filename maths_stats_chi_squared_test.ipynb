{
 "cells": [
  {
   "cell_type": "markdown",
   "metadata": {},
   "source": [
    "# Chi-squared test"
   ]
  },
  {
   "cell_type": "markdown",
   "metadata": {},
   "source": [
    "See:\n",
    "- http://hamelg.blogspot.fr/2015/11/python-for-data-analysis-part-25-chi.html\n",
    "- https://docs.scipy.org/doc/numpy/reference/generated/numpy.random.chisquare.html\n",
    "- https://docs.scipy.org/doc/scipy-0.19.0/reference/generated/scipy.stats.chisquare.html\n",
    "- https://docs.scipy.org/doc/scipy-0.19.0/reference/generated/scipy.stats.chi2.html\n",
    "\n",
    "- https://stats.stackexchange.com/questions/202617/implementing-chi-square-in-python-and-testing-on-scipys-poisson-and-norm-variat\n",
    "- https://python4mpia.github.io/fitting_data/least-squares-fitting.html\n",
    "- http://www.xavierdupre.fr/app/ensae_teaching_cs/helpsphinx2/notebooks/tableau_contingence.html\n",
    "- http://astropython.blogspot.fr/2012/02/computing-chi-squared-and-reduced-chi.html\n",
    "- http://connor-johnson.com/2014/12/31/the-pearson-chi-squared-test-with-python-and-r/\n",
    "- http://machinelearningmastery.com/feature-selection-machine-learning-python/\n",
    "- http://glowingpython.blogspot.fr/2014/02/terms-selection-with-chi-square.html"
   ]
  },
  {
   "cell_type": "markdown",
   "metadata": {},
   "source": [
    "- https://stackoverflow.com/questions/22177576/python-minimizing-chi-squared\n",
    "- https://stackoverflow.com/questions/39486270/scipy-optimize-minimize-chi-squared-python\n",
    "- https://stats.stackexchange.com/questions/139108/optimizing-parameter-estimates-by-minimizing-chi2-in-iterative-procedure\n",
    "- https://lmfit.github.io/lmfit-py/fitting.html\n",
    "- https://www.youtube.com/watch?v=Awv_DqwEIxY"
   ]
  },
  {
   "cell_type": "markdown",
   "metadata": {},
   "source": [
    "TODO:\n",
    "- examples on how to minimize chi-squared to find distribution parameters"
   ]
  }
 ],
 "metadata": {
  "kernelspec": {
   "display_name": "Python [default]",
   "language": "python",
   "name": "python3"
  },
  "language_info": {
   "codemirror_mode": {
    "name": "ipython",
    "version": 3
   },
   "file_extension": ".py",
   "mimetype": "text/x-python",
   "name": "python",
   "nbconvert_exporter": "python",
   "pygments_lexer": "ipython3",
   "version": "3.5.3"
  }
 },
 "nbformat": 4,
 "nbformat_minor": 2
}
