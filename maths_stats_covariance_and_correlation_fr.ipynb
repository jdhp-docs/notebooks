{
 "cells": [
  {
   "cell_type": "code",
   "execution_count": null,
   "metadata": {},
   "outputs": [],
   "source": [
    "%matplotlib inline"
   ]
  },
  {
   "cell_type": "code",
   "execution_count": null,
   "metadata": {},
   "outputs": [],
   "source": [
    "import numpy as np\n",
    "\n",
    "mu = np.full(2, 0.25)\n",
    "cov = np.array([[1.07, 0.63],\n",
    "                [0.63, 0.64]])\n",
    "\n",
    "# Make samples ########################################\n",
    "\n",
    "X = np.random.multivariate_normal(mean=mu, cov=cov, size=[100])\n",
    "#print(\"X:\", X)\n",
    "\n",
    "X_means = X.mean(axis=0)\n",
    "print(x_means)\n",
    "\n",
    "# Plot ################################################\n",
    "\n",
    "MIN = -2.5\n",
    "\n",
    "fig, ax = plt.subplots(figsize=(8, 8))\n",
    "\n",
    "i = 0\n",
    "cx = 0\n",
    "while cx > -0.25:\n",
    "    x = X[i]\n",
    "    cx = (x[0] - X_means[0]) * (x[1] - X_means[1])\n",
    "    i += 1\n",
    "    print(x, cx)\n",
    "\n",
    "ax.plot(*X.T, '.k', alpha=0.25)\n",
    "\n",
    "ax.axvline(X_means[0])\n",
    "ax.axhline(X_means[1])\n",
    "\n",
    "ax.text(MIN-0.5, X_means[1]-0.05, r\"$\\mathbb{E}(x)$\", fontsize=18, color=\"C0\")\n",
    "ax.text(X_means[0]-0.15, MIN-0.2, r\"$\\mathbb{E}(y)$\", fontsize=18, color=\"C0\")\n",
    "\n",
    "ax.text(MIN-0.5, x[1]-0.05, r\"$x$\", fontsize=18)\n",
    "ax.text(x[0]-0.15, MIN-0.2, r\"$y$\", fontsize=18)\n",
    "\n",
    "ax.text(x[0]-1., x[1]-0.25, r\"$[x -\\mathbb{E}(x)] [y - \\mathbb{E}(y)] = $\" + \"{:0.2}\".format(cx), fontsize=14, color=\"k\")\n",
    "\n",
    "ax.plot([x[0], x[0]],\n",
    "        [x[1], MIN], \":k\", alpha=0.5)\n",
    "ax.plot([x[0], MIN],\n",
    "        [x[1], x[1]], \":k\", alpha=0.5)\n",
    "\n",
    "ax.plot([x[0], x[0]],\n",
    "        [x[1], X_means[1]], \"--C1\")\n",
    "ax.plot([x[0], X_means[0]],\n",
    "        [x[1], x[1]], \"--C2\")\n",
    "\n",
    "ax.plot(*x, '.r')\n",
    "\n",
    "ax.set_xlim(MIN, -MIN)\n",
    "ax.set_ylim(MIN, -MIN)\n",
    "\n",
    "#ax.axis('equal');"
   ]
  },
  {
   "cell_type": "code",
   "execution_count": null,
   "metadata": {},
   "outputs": [],
   "source": []
  }
 ],
 "metadata": {
  "kernelspec": {
   "display_name": "Python [default]",
   "language": "python",
   "name": "python3"
  },
  "language_info": {
   "codemirror_mode": {
    "name": "ipython",
    "version": 3
   },
   "file_extension": ".py",
   "mimetype": "text/x-python",
   "name": "python",
   "nbconvert_exporter": "python",
   "pygments_lexer": "ipython3",
   "version": "3.5.3"
  }
 },
 "nbformat": 4,
 "nbformat_minor": 2
}
