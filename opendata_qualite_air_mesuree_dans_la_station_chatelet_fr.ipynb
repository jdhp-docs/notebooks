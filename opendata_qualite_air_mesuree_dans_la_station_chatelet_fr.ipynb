{
 "cells": [
  {
   "cell_type": "markdown",
   "metadata": {},
   "source": [
    "# Qualit\u00e9 de l'air mesur\u00e9e dans la station Ch\u00e2telet"
   ]
  },
  {
   "cell_type": "markdown",
   "metadata": {},
   "source": [
    "Source de donn\u00e9es utilis\u00e9e (fichiers CSV en open data): https://data.iledefrance.fr/explore/dataset/qualite-de-lair-mesuree-dans-la-station-chatelet/"
   ]
  },
  {
   "cell_type": "markdown",
   "metadata": {},
   "source": [
    "**TODO**: l'index du *dataframe* devrait \u00eatre constitu\u00e9 de la fusion des deux premi\u00e8res colonnes avec le bon *dtype* (un *datetime* Pandas)."
   ]
  },
  {
   "cell_type": "markdown",
   "metadata": {},
   "source": [
    "## R\u00e9cup\u00e9ration des donn\u00e9es"
   ]
  },
  {
   "cell_type": "code",
   "execution_count": null,
   "metadata": {
    "collapsed": true
   },
   "outputs": [],
   "source": [
    "%matplotlib inline\n",
    "#%matplotlib notebook\n",
    "\n",
    "import matplotlib\n",
    "matplotlib.rcParams['figure.figsize'] = (9, 9)\n",
    "\n",
    "import pandas as pd"
   ]
  },
  {
   "cell_type": "code",
   "execution_count": null,
   "metadata": {
    "collapsed": true
   },
   "outputs": [],
   "source": [
    "def conv_func(s):\n",
    "    s = s.replace('<', '')\n",
    "    if s == 'ND':\n",
    "        return np.nan\n",
    "    elif s.strip() == '':\n",
    "        return np.nan\n",
    "    else:\n",
    "        return float(s)"
   ]
  },
  {
   "cell_type": "code",
   "execution_count": null,
   "metadata": {
    "scrolled": false
   },
   "outputs": [],
   "source": [
    "url = \"https://data.iledefrance.fr/explore/dataset/qualite-de-lair-mesuree-dans-la-station-chatelet/download/?format=csv&timezone=Europe/Berlin&use_labels_for_header=true\"\n",
    "\n",
    "dtype_dict = {'NO': np.float64,\n",
    "              'NO2': np.float64,\n",
    "              'PM10': np.float64,\n",
    "              'CO2': np.float64,\n",
    "              'TEMP': np.float64,\n",
    "              'HUMI': np.float64}\n",
    "\n",
    "converter_dict = {'NO': conv_func,\n",
    "                  'NO2': conv_func,\n",
    "                  'PM10': conv_func,\n",
    "                  'CO2': conv_func,\n",
    "                  'TEMP': conv_func,\n",
    "                  'HUMI': conv_func}\n",
    "\n",
    "df = pd.read_csv(url,\n",
    "                 #encoding='iso-8859-1',\n",
    "                 sep=';',\n",
    "                 decimal=',',\n",
    "                 #dtype=dtype_dict,\n",
    "                 #na_values='ND',\n",
    "                 converters=converter_dict)\n",
    "\n",
    "df.astype(dtype_dict)"
   ]
  },
  {
   "cell_type": "code",
   "execution_count": null,
   "metadata": {
    "scrolled": false
   },
   "outputs": [],
   "source": [
    "df"
   ]
  },
  {
   "cell_type": "code",
   "execution_count": null,
   "metadata": {
    "scrolled": false
   },
   "outputs": [],
   "source": [
    "df.columns"
   ]
  },
  {
   "cell_type": "code",
   "execution_count": null,
   "metadata": {
    "scrolled": false
   },
   "outputs": [],
   "source": [
    "df.loc[:,['PM10', 'CO2']].plot(figsize=(16,6))"
   ]
  },
  {
   "cell_type": "code",
   "execution_count": null,
   "metadata": {
    "scrolled": false
   },
   "outputs": [],
   "source": [
    "df.loc[:,['NO', 'NO2']].plot(figsize=(16,6))"
   ]
  },
  {
   "cell_type": "code",
   "execution_count": null,
   "metadata": {
    "scrolled": false
   },
   "outputs": [],
   "source": [
    "df.loc[:,['TEMP', 'HUMI']].plot(figsize=(16,6))"
   ]
  }
 ],
 "metadata": {
  "kernelspec": {
   "display_name": "Python [default]",
   "language": "python",
   "name": "python3"
  },
  "language_info": {
   "codemirror_mode": {
    "name": "ipython",
    "version": 3
   },
   "file_extension": ".py",
   "mimetype": "text/x-python",
   "name": "python",
   "nbconvert_exporter": "python",
   "pygments_lexer": "ipython3",
   "version": "3.5.3"
  }
 },
 "nbformat": 4,
 "nbformat_minor": 2
}