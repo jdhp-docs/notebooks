{
 "cells": [
  {
   "cell_type": "markdown",
   "metadata": {
    "tags": [
     "meta",
     "toc_en"
    ]
   },
   "source": [
    "# Pandas"
   ]
  },
  {
   "cell_type": "markdown",
   "metadata": {},
   "source": [
    "Official documentation: http://pandas.pydata.org/pandas-docs/stable/"
   ]
  },
  {
   "cell_type": "markdown",
   "metadata": {},
   "source": [
    "## Import directives"
   ]
  },
  {
   "cell_type": "code",
   "execution_count": null,
   "metadata": {
    "collapsed": true
   },
   "outputs": [],
   "source": [
    "%matplotlib inline\n",
    "#%matplotlib notebook\n",
    "\n",
    "from IPython.display import display\n",
    "\n",
    "import matplotlib\n",
    "matplotlib.rcParams['figure.figsize'] = (9, 9)\n",
    "\n",
    "import pandas as pd\n",
    "import numpy as np"
   ]
  },
  {
   "cell_type": "markdown",
   "metadata": {},
   "source": [
    "## Make data"
   ]
  },
  {
   "cell_type": "markdown",
   "metadata": {},
   "source": [
    "### Series (1D data)"
   ]
  },
  {
   "cell_type": "markdown",
   "metadata": {},
   "source": [
    "#### With automatic indices"
   ]
  },
  {
   "cell_type": "code",
   "execution_count": null,
   "metadata": {
    "collapsed": true
   },
   "outputs": [],
   "source": [
    "data_list = [1, 3, np.nan, 7]\n",
    "serie = pd.Series(data_list)\n",
    "serie"
   ]
  },
  {
   "cell_type": "code",
   "execution_count": null,
   "metadata": {
    "collapsed": true
   },
   "outputs": [],
   "source": [
    "data_array = np.array(data_list)\n",
    "serie = pd.Series(data_array)\n",
    "serie"
   ]
  },
  {
   "cell_type": "markdown",
   "metadata": {},
   "source": [
    "#### With defined indices"
   ]
  },
  {
   "cell_type": "code",
   "execution_count": null,
   "metadata": {
    "collapsed": true
   },
   "outputs": [],
   "source": [
    "indices = pd.Series([1, 3, 5, 7])\n",
    "serie = pd.Series([10, 30, 50, 70], index=indices)\n",
    "serie"
   ]
  },
  {
   "cell_type": "code",
   "execution_count": null,
   "metadata": {
    "collapsed": true
   },
   "outputs": [],
   "source": [
    "indices = pd.Series(['A', 'B', 'C', 'D'])\n",
    "serie = pd.Series([10, 30, 50, 70], index=indices)\n",
    "serie"
   ]
  },
  {
   "cell_type": "markdown",
   "metadata": {},
   "source": [
    "### Frames (2D data)"
   ]
  },
  {
   "cell_type": "markdown",
   "metadata": {},
   "source": [
    "#### With automatic indices and columns"
   ]
  },
  {
   "cell_type": "code",
   "execution_count": null,
   "metadata": {
    "collapsed": true
   },
   "outputs": [],
   "source": [
    "data_array = np.array([[1, 2, 3], [4, 5, 6]])\n",
    "df = pd.DataFrame(data_array)\n",
    "df"
   ]
  },
  {
   "cell_type": "markdown",
   "metadata": {},
   "source": [
    "#### With defined indices and columns"
   ]
  },
  {
   "cell_type": "markdown",
   "metadata": {},
   "source": [
    "Using lists:"
   ]
  },
  {
   "cell_type": "code",
   "execution_count": null,
   "metadata": {
    "collapsed": true
   },
   "outputs": [],
   "source": [
    "data_array = np.array([[1, 2, 3], [4, 5, 6]])\n",
    "df = pd.DataFrame(data_array, index=[10, 20], columns=[100, 200, 300])\n",
    "df"
   ]
  },
  {
   "cell_type": "markdown",
   "metadata": {},
   "source": [
    "Using numpy `arrays`:"
   ]
  },
  {
   "cell_type": "code",
   "execution_count": null,
   "metadata": {
    "collapsed": true
   },
   "outputs": [],
   "source": [
    "data_array = np.array([[1, 2, 3], [4, 5, 6]])\n",
    "index_array = np.array([10, 20])\n",
    "columns_array = np.array([100, 200, 300])\n",
    "df = pd.DataFrame(data_array, index=index_array, columns=columns_array)\n",
    "df"
   ]
  },
  {
   "cell_type": "markdown",
   "metadata": {},
   "source": [
    "Using `Series`:"
   ]
  },
  {
   "cell_type": "code",
   "execution_count": null,
   "metadata": {
    "collapsed": true
   },
   "outputs": [],
   "source": [
    "data_array = np.array([[1, 2, 3], [4, 5, 6]])\n",
    "index_series = pd.Series([10, 20])\n",
    "columns_series = pd.Series([100, 200, 300])\n",
    "df = pd.DataFrame(data_array, index=index_series, columns=columns_series)\n",
    "df"
   ]
  },
  {
   "cell_type": "markdown",
   "metadata": {},
   "source": [
    "#### With columns from dict"
   ]
  },
  {
   "cell_type": "markdown",
   "metadata": {},
   "source": [
    "Dictionary keys define **columns** label."
   ]
  },
  {
   "cell_type": "code",
   "execution_count": null,
   "metadata": {
    "collapsed": true
   },
   "outputs": [],
   "source": [
    "data_dict = {'A': 'foo',\n",
    "             'B': [10, 20, 30],\n",
    "             'C': 3}\n",
    "df = pd.DataFrame(data_dict)\n",
    "df"
   ]
  },
  {
   "cell_type": "markdown",
   "metadata": {},
   "source": [
    "To define index as well:"
   ]
  },
  {
   "cell_type": "code",
   "execution_count": null,
   "metadata": {
    "collapsed": true
   },
   "outputs": [],
   "source": [
    "data_dict = {'A': 'foo',\n",
    "             'B': [10, 20, 30],\n",
    "             'C': 3}\n",
    "df = pd.DataFrame(data_dict, index=[10, 20, 30])\n",
    "df"
   ]
  },
  {
   "cell_type": "markdown",
   "metadata": {},
   "source": [
    "### Panels (3D data)"
   ]
  },
  {
   "cell_type": "markdown",
   "metadata": {},
   "source": [
    "Panels are **deprecated**.\n",
    "\n",
    "Pandas now focuses on 1D (`Series`) and 2D (`DataFrame`) data structures.\n",
    "\n",
    "The recommended alternative to work with 3-dimensional data is the [xarray](http://xarray.pydata.org/en/stable/) python library.\n",
    "\n",
    "An other workaround: one can simply use a [MultiIndex](https://pandas.pydata.org/pandas-docs/stable/generated/pandas.MultiIndex.html) `DataFrame` for easily working with higher dimensional data.\n",
    "\n",
    "See http://pandas.pydata.org/pandas-docs/stable/dsintro.html#deprecate-panel."
   ]
  },
  {
   "cell_type": "markdown",
   "metadata": {},
   "source": [
    "### Panel4D and PanelND (ND data)"
   ]
  },
  {
   "cell_type": "markdown",
   "metadata": {},
   "source": [
    "`Panel4D` and `PanelND` are **deprecated**.\n",
    "\n",
    "Pandas now focuses on 1D (`Series`) and 2D (`DataFrame`) data structures.\n",
    "\n",
    "The recommended alternative to work with n-dimensional data is the [xarray](http://xarray.pydata.org/en/stable/) python library.\n",
    "\n",
    "An other workaround: one can simply use a [MultiIndex](https://pandas.pydata.org/pandas-docs/stable/generated/pandas.MultiIndex.html) `DataFrame` for easily working with higher dimensional data.\n",
    "\n",
    "See http://pandas.pydata.org/pandas-docs/stable/dsintro.html#panel4d-and-panelnd-deprecated."
   ]
  },
  {
   "cell_type": "markdown",
   "metadata": {},
   "source": [
    "## Export/import data (write/read files)"
   ]
  },
  {
   "cell_type": "markdown",
   "metadata": {},
   "source": [
    "See http://pandas.pydata.org/pandas-docs/stable/io.html"
   ]
  },
  {
   "cell_type": "markdown",
   "metadata": {},
   "source": [
    "Reader functions are accessibles from the top level `pd` object."
   ]
  },
  {
   "cell_type": "markdown",
   "metadata": {},
   "source": [
    "Writer functions are accessibles from data objects (i.e. `Series`, `DataFrame` or `Panel` objects)."
   ]
  },
  {
   "cell_type": "code",
   "execution_count": null,
   "metadata": {
    "collapsed": true
   },
   "outputs": [],
   "source": [
    "data_array = np.array([[1, 2, 3], [4, 5, 6]])\n",
    "df = pd.DataFrame(data_array, index=[10, 20], columns=[100, 200, 300])\n",
    "df"
   ]
  },
  {
   "cell_type": "markdown",
   "metadata": {},
   "source": [
    "### CSV files"
   ]
  },
  {
   "cell_type": "markdown",
   "metadata": {},
   "source": [
    "See http://pandas.pydata.org/pandas-docs/stable/io.html#csv-text-files"
   ]
  },
  {
   "cell_type": "markdown",
   "metadata": {},
   "source": [
    "#### Write CSV files"
   ]
  },
  {
   "cell_type": "markdown",
   "metadata": {},
   "source": [
    "See http://pandas.pydata.org/pandas-docs/stable/io.html#io-store-in-csv"
   ]
  },
  {
   "cell_type": "markdown",
   "metadata": {},
   "source": [
    "Simplest version:"
   ]
  },
  {
   "cell_type": "code",
   "execution_count": null,
   "metadata": {
    "collapsed": true
   },
   "outputs": [],
   "source": [
    "df.to_csv(path_or_buf=\"python_pandas_io_test.csv\")"
   ]
  },
  {
   "cell_type": "code",
   "execution_count": null,
   "metadata": {
    "collapsed": true
   },
   "outputs": [],
   "source": [
    "!cat python_pandas_io_test.csv"
   ]
  },
  {
   "cell_type": "markdown",
   "metadata": {},
   "source": [
    "Setting more options:"
   ]
  },
  {
   "cell_type": "code",
   "execution_count": null,
   "metadata": {
    "collapsed": true
   },
   "outputs": [],
   "source": [
    "# FYI, many other options are available\n",
    "df.to_csv(path_or_buf=\"python_pandas_io_test.csv\",\n",
    "          sep=',',\n",
    "          columns=None,\n",
    "          header=True,\n",
    "          index=True,\n",
    "          index_label=None,\n",
    "          compression=None,  # allowed values are 'gzip', 'bz2' or 'xz'\n",
    "          date_format=None)"
   ]
  },
  {
   "cell_type": "code",
   "execution_count": null,
   "metadata": {
    "collapsed": true
   },
   "outputs": [],
   "source": [
    "!cat python_pandas_io_test.csv"
   ]
  },
  {
   "cell_type": "markdown",
   "metadata": {},
   "source": [
    "#### Read CSV files"
   ]
  },
  {
   "cell_type": "markdown",
   "metadata": {},
   "source": [
    "See http://pandas.pydata.org/pandas-docs/stable/io.html#io-read-csv-table"
   ]
  },
  {
   "cell_type": "markdown",
   "metadata": {},
   "source": [
    "Simplest version:"
   ]
  },
  {
   "cell_type": "code",
   "execution_count": null,
   "metadata": {
    "collapsed": true
   },
   "outputs": [],
   "source": [
    "df = pd.read_csv(\"python_pandas_io_test.csv\")\n",
    "df"
   ]
  },
  {
   "cell_type": "markdown",
   "metadata": {},
   "source": [
    "Setting more options:"
   ]
  },
  {
   "cell_type": "code",
   "execution_count": null,
   "metadata": {
    "collapsed": true
   },
   "outputs": [],
   "source": [
    "df = pd.read_csv(\"python_pandas_io_test.csv\",\n",
    "                 sep=',',\n",
    "                 delimiter=None,\n",
    "                 header='infer',\n",
    "                 names=None,\n",
    "                 index_col=0,\n",
    "                 usecols=None,\n",
    "                 squeeze=False,\n",
    "                 prefix=None,\n",
    "                 mangle_dupe_cols=True,\n",
    "                 dtype=None,\n",
    "                 engine=None,\n",
    "                 converters=None,\n",
    "                 true_values=None,\n",
    "                 false_values=None,\n",
    "                 skipinitialspace=False,\n",
    "                 skiprows=None,\n",
    "                 nrows=None,\n",
    "                 na_values=None,\n",
    "                 keep_default_na=True,\n",
    "                 na_filter=True,\n",
    "                 verbose=False,\n",
    "                 skip_blank_lines=True,\n",
    "                 parse_dates=False,\n",
    "                 infer_datetime_format=False,\n",
    "                 keep_date_col=False,\n",
    "                 date_parser=None,\n",
    "                 dayfirst=False,\n",
    "                 iterator=False,\n",
    "                 chunksize=None,\n",
    "                 compression='infer',\n",
    "                 thousands=None,\n",
    "                 decimal=b'.',\n",
    "                 lineterminator=None,\n",
    "                 quotechar='\"',\n",
    "                 quoting=0,\n",
    "                 escapechar=None,\n",
    "                 comment=None,\n",
    "                 encoding=None,\n",
    "                 dialect=None,\n",
    "                 tupleize_cols=False,\n",
    "                 error_bad_lines=True,\n",
    "                 warn_bad_lines=True,\n",
    "                 skipfooter=0,\n",
    "                 skip_footer=0,\n",
    "                 doublequote=True,\n",
    "                 delim_whitespace=False,\n",
    "                 as_recarray=False,\n",
    "                 compact_ints=False,\n",
    "                 use_unsigned=False,\n",
    "                 low_memory=True,\n",
    "                 buffer_lines=None,\n",
    "                 memory_map=False,\n",
    "                 float_precision=None)\n",
    "df"
   ]
  },
  {
   "cell_type": "code",
   "execution_count": null,
   "metadata": {
    "collapsed": true
   },
   "outputs": [],
   "source": [
    "!rm python_pandas_io_test.csv"
   ]
  },
  {
   "cell_type": "markdown",
   "metadata": {},
   "source": [
    "### JSON files"
   ]
  },
  {
   "cell_type": "markdown",
   "metadata": {},
   "source": [
    "See http://pandas.pydata.org/pandas-docs/stable/io.html#json"
   ]
  },
  {
   "cell_type": "code",
   "execution_count": null,
   "metadata": {
    "collapsed": true
   },
   "outputs": [],
   "source": [
    "import io"
   ]
  },
  {
   "cell_type": "markdown",
   "metadata": {},
   "source": [
    "#### Write JSON files"
   ]
  },
  {
   "cell_type": "markdown",
   "metadata": {},
   "source": [
    "See http://pandas.pydata.org/pandas-docs/stable/io.html#io-json-writer"
   ]
  },
  {
   "cell_type": "markdown",
   "metadata": {},
   "source": [
    "##### Simplest version"
   ]
  },
  {
   "cell_type": "code",
   "execution_count": null,
   "metadata": {
    "collapsed": true
   },
   "outputs": [],
   "source": [
    "df.to_json(path_or_buf=\"python_pandas_io_test.json\")"
   ]
  },
  {
   "cell_type": "code",
   "execution_count": null,
   "metadata": {
    "collapsed": true
   },
   "outputs": [],
   "source": [
    "!cat python_pandas_io_test.json"
   ]
  },
  {
   "cell_type": "markdown",
   "metadata": {},
   "source": [
    "##### Setting `orient`=\"split\""
   ]
  },
  {
   "cell_type": "code",
   "execution_count": null,
   "metadata": {
    "collapsed": true
   },
   "outputs": [],
   "source": [
    "df.to_json(path_or_buf=\"python_pandas_io_test_split.json\",\n",
    "           orient=\"split\")"
   ]
  },
  {
   "cell_type": "code",
   "execution_count": null,
   "metadata": {
    "collapsed": true
   },
   "outputs": [],
   "source": [
    "!cat python_pandas_io_test_split.json"
   ]
  },
  {
   "cell_type": "markdown",
   "metadata": {},
   "source": [
    "##### Setting `orient`=\"records\""
   ]
  },
  {
   "cell_type": "code",
   "execution_count": null,
   "metadata": {
    "collapsed": true
   },
   "outputs": [],
   "source": [
    "df.to_json(path_or_buf=\"python_pandas_io_test_records.json\",\n",
    "           orient=\"records\")"
   ]
  },
  {
   "cell_type": "code",
   "execution_count": null,
   "metadata": {
    "collapsed": true
   },
   "outputs": [],
   "source": [
    "!cat python_pandas_io_test_records.json"
   ]
  },
  {
   "cell_type": "markdown",
   "metadata": {},
   "source": [
    "##### Setting `orient`=\"index\" (the default option for `Series`)"
   ]
  },
  {
   "cell_type": "code",
   "execution_count": null,
   "metadata": {
    "collapsed": true
   },
   "outputs": [],
   "source": [
    "df.to_json(path_or_buf=\"python_pandas_io_test_index.json\",\n",
    "           orient=\"index\")"
   ]
  },
  {
   "cell_type": "code",
   "execution_count": null,
   "metadata": {
    "collapsed": true
   },
   "outputs": [],
   "source": [
    "!cat python_pandas_io_test_index.json"
   ]
  },
  {
   "cell_type": "markdown",
   "metadata": {},
   "source": [
    "##### Setting `orient`=\"columns\" (the default option for `DataFrame`) (for `DataFrame` only)"
   ]
  },
  {
   "cell_type": "code",
   "execution_count": null,
   "metadata": {
    "collapsed": true
   },
   "outputs": [],
   "source": [
    "df.to_json(path_or_buf=\"python_pandas_io_test_columns.json\",\n",
    "           orient=\"columns\")"
   ]
  },
  {
   "cell_type": "code",
   "execution_count": null,
   "metadata": {
    "collapsed": true
   },
   "outputs": [],
   "source": [
    "!cat python_pandas_io_test_columns.json"
   ]
  },
  {
   "cell_type": "markdown",
   "metadata": {},
   "source": [
    "##### Setting `orient`=\"values\" (for `DataFrame` only)"
   ]
  },
  {
   "cell_type": "code",
   "execution_count": null,
   "metadata": {
    "collapsed": true
   },
   "outputs": [],
   "source": [
    "df.to_json(path_or_buf=\"python_pandas_io_test_values.json\",\n",
    "           orient=\"values\")"
   ]
  },
  {
   "cell_type": "code",
   "execution_count": null,
   "metadata": {
    "collapsed": true
   },
   "outputs": [],
   "source": [
    "!cat python_pandas_io_test_values.json"
   ]
  },
  {
   "cell_type": "markdown",
   "metadata": {},
   "source": [
    "##### Setting more options"
   ]
  },
  {
   "cell_type": "code",
   "execution_count": null,
   "metadata": {
    "collapsed": true
   },
   "outputs": [],
   "source": [
    "# FYI, many other options are available\n",
    "df.to_json(path_or_buf=\"python_pandas_io_test.json\",\n",
    "           orient='columns',     # For DataFrame: 'split','records','index','columns' or 'values'\n",
    "           date_format=None,     # None, 'epoch' or 'iso'\n",
    "           double_precision=10,\n",
    "           force_ascii=True,\n",
    "           date_unit='ms')"
   ]
  },
  {
   "cell_type": "code",
   "execution_count": null,
   "metadata": {
    "collapsed": true,
    "scrolled": true
   },
   "outputs": [],
   "source": [
    "!cat python_pandas_io_test.json"
   ]
  },
  {
   "cell_type": "markdown",
   "metadata": {},
   "source": [
    "#### Read JSON files"
   ]
  },
  {
   "cell_type": "markdown",
   "metadata": {},
   "source": [
    "See http://pandas.pydata.org/pandas-docs/stable/io.html#io-json-reader"
   ]
  },
  {
   "cell_type": "markdown",
   "metadata": {},
   "source": [
    "##### Using `orient`=\"split\""
   ]
  },
  {
   "cell_type": "markdown",
   "metadata": {},
   "source": [
    "Dict like data ``{index -> [index], columns -> [columns], data -> [values]}``"
   ]
  },
  {
   "cell_type": "code",
   "execution_count": null,
   "metadata": {
    "collapsed": true
   },
   "outputs": [],
   "source": [
    "!cat python_pandas_io_test_split.json"
   ]
  },
  {
   "cell_type": "code",
   "execution_count": null,
   "metadata": {
    "collapsed": true
   },
   "outputs": [],
   "source": [
    "df = pd.read_json(\"python_pandas_io_test_split.json\",\n",
    "                  orient=\"split\")\n",
    "df"
   ]
  },
  {
   "cell_type": "markdown",
   "metadata": {},
   "source": [
    "##### Using `orient`=\"records\""
   ]
  },
  {
   "cell_type": "markdown",
   "metadata": {},
   "source": [
    "List like ``[{column -> value}, ... , {column -> value}]``"
   ]
  },
  {
   "cell_type": "code",
   "execution_count": null,
   "metadata": {
    "collapsed": true
   },
   "outputs": [],
   "source": [
    "!cat python_pandas_io_test_records.json"
   ]
  },
  {
   "cell_type": "code",
   "execution_count": null,
   "metadata": {
    "collapsed": true
   },
   "outputs": [],
   "source": [
    "df = pd.read_json(\"python_pandas_io_test_records.json\",\n",
    "                  orient=\"records\")\n",
    "df"
   ]
  },
  {
   "cell_type": "markdown",
   "metadata": {},
   "source": [
    "##### Using `orient`=\"index\""
   ]
  },
  {
   "cell_type": "markdown",
   "metadata": {},
   "source": [
    "Dict like ``{index -> {column -> value}}``"
   ]
  },
  {
   "cell_type": "code",
   "execution_count": null,
   "metadata": {
    "collapsed": true
   },
   "outputs": [],
   "source": [
    "!cat python_pandas_io_test_index.json"
   ]
  },
  {
   "cell_type": "code",
   "execution_count": null,
   "metadata": {
    "collapsed": true
   },
   "outputs": [],
   "source": [
    "df = pd.read_json(\"python_pandas_io_test_index.json\",\n",
    "                  orient=\"index\")\n",
    "df"
   ]
  },
  {
   "cell_type": "markdown",
   "metadata": {},
   "source": [
    "##### Using `orient`=\"columns\""
   ]
  },
  {
   "cell_type": "markdown",
   "metadata": {},
   "source": [
    "Dict like ``{column -> {index -> value}}``"
   ]
  },
  {
   "cell_type": "code",
   "execution_count": null,
   "metadata": {
    "collapsed": true
   },
   "outputs": [],
   "source": [
    "!cat python_pandas_io_test_columns.json"
   ]
  },
  {
   "cell_type": "code",
   "execution_count": null,
   "metadata": {
    "collapsed": true
   },
   "outputs": [],
   "source": [
    "df = pd.read_json(\"python_pandas_io_test_columns.json\",\n",
    "                  orient=\"columns\")\n",
    "df"
   ]
  },
  {
   "cell_type": "markdown",
   "metadata": {},
   "source": [
    "##### Using `orient`=\"values\" (for `DataFrame` only)"
   ]
  },
  {
   "cell_type": "markdown",
   "metadata": {},
   "source": [
    "Just the values array"
   ]
  },
  {
   "cell_type": "code",
   "execution_count": null,
   "metadata": {
    "collapsed": true
   },
   "outputs": [],
   "source": [
    "!cat python_pandas_io_test_values.json"
   ]
  },
  {
   "cell_type": "code",
   "execution_count": null,
   "metadata": {
    "collapsed": true
   },
   "outputs": [],
   "source": [
    "df = pd.read_json(\"python_pandas_io_test_values.json\",\n",
    "                  orient=\"values\")\n",
    "df"
   ]
  },
  {
   "cell_type": "markdown",
   "metadata": {},
   "source": [
    "##### Setting more options"
   ]
  },
  {
   "cell_type": "code",
   "execution_count": null,
   "metadata": {
    "collapsed": true,
    "scrolled": true
   },
   "outputs": [],
   "source": [
    "df = pd.read_json(\"python_pandas_io_test.json\",\n",
    "                  orient=None,\n",
    "                  typ='frame',\n",
    "                  dtype=True,\n",
    "                  convert_axes=True,\n",
    "                  convert_dates=True,\n",
    "                  keep_default_dates=True,\n",
    "                  numpy=False,\n",
    "                  precise_float=False,\n",
    "                  date_unit=None,\n",
    "                  encoding=None,\n",
    "                  lines=False)\n",
    "df"
   ]
  },
  {
   "cell_type": "code",
   "execution_count": null,
   "metadata": {
    "collapsed": true
   },
   "outputs": [],
   "source": [
    "!rm python_pandas_io_test*.json"
   ]
  },
  {
   "cell_type": "markdown",
   "metadata": {},
   "source": [
    "### Other file formats"
   ]
  },
  {
   "cell_type": "markdown",
   "metadata": {},
   "source": [
    "Many other file formats can be used to import or export data with JSON.\n",
    "\n",
    "See the following link for more information: http://pandas.pydata.org/pandas-docs/stable/io.html"
   ]
  },
  {
   "cell_type": "markdown",
   "metadata": {},
   "source": [
    "## Select columns"
   ]
  },
  {
   "cell_type": "code",
   "execution_count": null,
   "metadata": {
    "collapsed": true
   },
   "outputs": [],
   "source": [
    "data_array = np.array([np.arange(1, 10, 1), np.arange(10, 100, 10), np.arange(100, 1000, 100)]).T\n",
    "df = pd.DataFrame(data_array,\n",
    "                  index=np.arange(1, 10, 1),\n",
    "                  columns=['A', 'B', 'C'])\n",
    "df"
   ]
  },
  {
   "cell_type": "code",
   "execution_count": null,
   "metadata": {
    "collapsed": true
   },
   "outputs": [],
   "source": [
    "df.B"
   ]
  },
  {
   "cell_type": "code",
   "execution_count": null,
   "metadata": {
    "collapsed": true
   },
   "outputs": [],
   "source": [
    "df[\"B\"]"
   ]
  },
  {
   "cell_type": "code",
   "execution_count": null,
   "metadata": {
    "collapsed": true
   },
   "outputs": [],
   "source": [
    "df.loc[:,\"B\"]"
   ]
  },
  {
   "cell_type": "code",
   "execution_count": null,
   "metadata": {
    "collapsed": true
   },
   "outputs": [],
   "source": [
    "df.loc[:,['A','B']]"
   ]
  },
  {
   "cell_type": "markdown",
   "metadata": {},
   "source": [
    "## Select rows"
   ]
  },
  {
   "cell_type": "code",
   "execution_count": null,
   "metadata": {
    "collapsed": true,
    "scrolled": true
   },
   "outputs": [],
   "source": [
    "data_array = np.array([np.arange(1, 10, 1), np.arange(10, 100, 10), np.arange(100, 1000, 100)]).T\n",
    "df = pd.DataFrame(data_array,\n",
    "                  index=np.arange(1, 10, 1),\n",
    "                  columns=['A', 'B', 'C'])\n",
    "df"
   ]
  },
  {
   "cell_type": "code",
   "execution_count": null,
   "metadata": {
    "collapsed": true
   },
   "outputs": [],
   "source": [
    "df.B < 50."
   ]
  },
  {
   "cell_type": "code",
   "execution_count": null,
   "metadata": {
    "collapsed": true
   },
   "outputs": [],
   "source": [
    "df[df.B < 50.]"
   ]
  },
  {
   "cell_type": "markdown",
   "metadata": {},
   "source": [
    "### Select over index: select the 5 first rows"
   ]
  },
  {
   "cell_type": "code",
   "execution_count": null,
   "metadata": {
    "collapsed": true
   },
   "outputs": [],
   "source": [
    "df.iloc[:5]"
   ]
  },
  {
   "cell_type": "markdown",
   "metadata": {},
   "source": [
    "## Select rows and columns"
   ]
  },
  {
   "cell_type": "code",
   "execution_count": null,
   "metadata": {
    "collapsed": true
   },
   "outputs": [],
   "source": [
    "data_array = np.array([np.arange(1, 10, 1), np.arange(10, 100, 10), np.arange(100, 1000, 100)]).T\n",
    "df = pd.DataFrame(data_array,\n",
    "                  index=np.arange(1, 10, 1),\n",
    "                  columns=['A', 'B', 'C'])\n",
    "df"
   ]
  },
  {
   "cell_type": "code",
   "execution_count": null,
   "metadata": {
    "collapsed": true
   },
   "outputs": [],
   "source": [
    "df[df.B < 50][df.A >= 2].loc[:,['A','B']]"
   ]
  },
  {
   "cell_type": "markdown",
   "metadata": {},
   "source": [
    "## Apply a function to selected colunms values"
   ]
  },
  {
   "cell_type": "code",
   "execution_count": null,
   "metadata": {
    "collapsed": true
   },
   "outputs": [],
   "source": [
    "data_array = np.array([np.arange(1, 10, 1), np.arange(10, 100, 10), np.arange(100, 1000, 100)]).T\n",
    "df = pd.DataFrame(data_array,\n",
    "                  index=np.arange(1, 10, 1),\n",
    "                  columns=['A', 'B', 'C'])\n",
    "df"
   ]
  },
  {
   "cell_type": "code",
   "execution_count": null,
   "metadata": {
    "collapsed": true
   },
   "outputs": [],
   "source": [
    "df.B *= 2.\n",
    "df"
   ]
  },
  {
   "cell_type": "code",
   "execution_count": null,
   "metadata": {
    "collapsed": true
   },
   "outputs": [],
   "source": [
    "df.B = pow(df.B, 2)\n",
    "df"
   ]
  },
  {
   "cell_type": "markdown",
   "metadata": {},
   "source": [
    "## Apply a function to selected rows values"
   ]
  },
  {
   "cell_type": "code",
   "execution_count": null,
   "metadata": {
    "collapsed": true
   },
   "outputs": [],
   "source": [
    "data_array = np.array([np.arange(1, 10, 1), np.arange(10, 100, 10), np.arange(100, 1000, 100)]).T\n",
    "df = pd.DataFrame(data_array,\n",
    "                  index=np.arange(1, 10, 1),\n",
    "                  columns=['A', 'B', 'C'])\n",
    "df"
   ]
  },
  {
   "cell_type": "code",
   "execution_count": null,
   "metadata": {
    "collapsed": true
   },
   "outputs": [],
   "source": [
    "df[df.B < 50.] *= -1.\n",
    "df"
   ]
  },
  {
   "cell_type": "code",
   "execution_count": null,
   "metadata": {
    "collapsed": true,
    "scrolled": true
   },
   "outputs": [],
   "source": [
    "df[df.B < 50.] = pow(df[df.B < 50.], 2)\n",
    "df"
   ]
  },
  {
   "cell_type": "markdown",
   "metadata": {},
   "source": [
    "## Merge"
   ]
  },
  {
   "cell_type": "markdown",
   "metadata": {},
   "source": [
    "See: http://pandas.pydata.org/pandas-docs/stable/generated/pandas.merge.html#pandas.merge"
   ]
  },
  {
   "cell_type": "code",
   "execution_count": null,
   "metadata": {
    "collapsed": true,
    "scrolled": false
   },
   "outputs": [],
   "source": [
    "a1 = np.array([np.arange(1, 5, 1), np.arange(10, 50, 10), np.arange(100, 500, 100)]).T\n",
    "df1 = pd.DataFrame(a1,\n",
    "                   columns=['ID', 'B', 'C'])\n",
    "\n",
    "a2 = np.array([np.arange(1, 5, 1), np.arange(1000, 5000, 1000), np.arange(10000, 50000, 10000)]).T\n",
    "df2 = pd.DataFrame(a2,\n",
    "                   columns=['ID', 'B', 'C'])\n",
    "\n",
    "display(df1)\n",
    "display(df2)\n",
    "\n",
    "df = pd.merge(df1, df2, on=\"ID\", suffixes=('_1', '_2'))  #.dropna(how='any')\n",
    "\n",
    "display(df)"
   ]
  },
  {
   "cell_type": "markdown",
   "metadata": {},
   "source": [
    "### Merge with NaN"
   ]
  },
  {
   "cell_type": "code",
   "execution_count": null,
   "metadata": {
    "collapsed": true
   },
   "outputs": [],
   "source": [
    "a1 = np.array([np.arange(1, 5, 1), np.arange(10, 50, 10), np.arange(100, 500, 100)]).T\n",
    "df1 = pd.DataFrame(a1,\n",
    "                   columns=['ID', 'B', 'C'])\n",
    "\n",
    "a2 = np.array([np.arange(1, 5, 1), np.arange(1000, 5000, 1000), np.arange(10000, 50000, 10000)]).T\n",
    "df2 = pd.DataFrame(a2,\n",
    "                   columns=['ID', 'B', 'C'])\n",
    "\n",
    "df1.iloc[0,2] = np.nan\n",
    "df1.iloc[1,1] = np.nan\n",
    "df1.iloc[2,2] = np.nan\n",
    "df1.iloc[3,1] = np.nan\n",
    "\n",
    "df2.iloc[0,1] = np.nan\n",
    "df2.iloc[1,2] = np.nan\n",
    "df2.iloc[2,1] = np.nan\n",
    "df2.iloc[3,2] = np.nan\n",
    "\n",
    "df = pd.merge(df1, df2, on=\"ID\", suffixes=('_1', '_2'))  #.dropna(how='any')\n",
    "\n",
    "display(df1)\n",
    "display(df2)\n",
    "display(df)"
   ]
  },
  {
   "cell_type": "markdown",
   "metadata": {},
   "source": [
    "### Merge with missing rows"
   ]
  },
  {
   "cell_type": "code",
   "execution_count": null,
   "metadata": {
    "collapsed": true
   },
   "outputs": [],
   "source": [
    "a1 = np.array([np.arange(1, 5, 1), np.arange(10, 50, 10), np.arange(100, 500, 100)]).T\n",
    "df1 = pd.DataFrame(a1,\n",
    "                   columns=['ID', 'B', 'C'])\n",
    "\n",
    "a2 = np.array([np.arange(1, 3, 1), np.arange(1000, 3000, 1000), np.arange(10000, 30000, 10000)]).T\n",
    "df2 = pd.DataFrame(a2,\n",
    "                   columns=['ID', 'B', 'C'])\n",
    "\n",
    "display(df1)\n",
    "display(df2)\n",
    "\n",
    "print(\"Left: use only keys from left frame (SQL: left outer join)\")\n",
    "df = pd.merge(df1, df2, on=\"ID\", how=\"left\", suffixes=('_1', '_2'))  #.dropna(how='any')\n",
    "display(df)\n",
    "\n",
    "print(\"Right: use only keys from right frame (SQL: right outer join)\")\n",
    "df = pd.merge(df1, df2, on=\"ID\", how=\"right\", suffixes=('_1', '_2'))  #.dropna(how='any')\n",
    "display(df)\n",
    "\n",
    "print(\"Inner: use intersection of keys from both frames (SQL: inner join) [DEFAULT]\")\n",
    "df = pd.merge(df1, df2, on=\"ID\", how=\"inner\", suffixes=('_1', '_2'))  #.dropna(how='any')\n",
    "display(df)\n",
    "\n",
    "print(\"Outer: use union of keys from both frames (SQL: full outer join)\")\n",
    "df = pd.merge(df1, df2, on=\"ID\", how=\"outer\", suffixes=('_1', '_2'))  #.dropna(how='any')\n",
    "display(df)"
   ]
  },
  {
   "cell_type": "markdown",
   "metadata": {},
   "source": [
    "## GroupBy"
   ]
  },
  {
   "cell_type": "markdown",
   "metadata": {},
   "source": [
    "See: http://pandas.pydata.org/pandas-docs/stable/groupby.html"
   ]
  },
  {
   "cell_type": "code",
   "execution_count": null,
   "metadata": {
    "collapsed": true
   },
   "outputs": [],
   "source": [
    "a = np.array([[3, 5, 5, 5, 7, 7, 7, 7],\n",
    "              [2, 4, 4, 3, 1, 3, 3, 2],\n",
    "              [3, 4, 5, 6, 1, 8, 9, 8]]).T\n",
    "df = pd.DataFrame(a,\n",
    "                  columns=['A', 'B', 'C'])\n",
    "\n",
    "df"
   ]
  },
  {
   "cell_type": "markdown",
   "metadata": {},
   "source": [
    "### GroupBy with single key"
   ]
  },
  {
   "cell_type": "code",
   "execution_count": null,
   "metadata": {
    "collapsed": true,
    "scrolled": false
   },
   "outputs": [],
   "source": [
    "df.groupby([\"A\"]).count()"
   ]
  },
  {
   "cell_type": "code",
   "execution_count": null,
   "metadata": {
    "collapsed": true
   },
   "outputs": [],
   "source": [
    "df.groupby([\"A\"]).sum().B"
   ]
  },
  {
   "cell_type": "code",
   "execution_count": null,
   "metadata": {
    "collapsed": true
   },
   "outputs": [],
   "source": [
    "df.groupby([\"A\"]).mean().B"
   ]
  },
  {
   "cell_type": "markdown",
   "metadata": {},
   "source": [
    "### GroupBy with multiple keys"
   ]
  },
  {
   "cell_type": "code",
   "execution_count": null,
   "metadata": {
    "collapsed": true,
    "scrolled": false
   },
   "outputs": [],
   "source": [
    "df.groupby([\"A\",\"B\"]).count()"
   ]
  },
  {
   "cell_type": "markdown",
   "metadata": {},
   "source": [
    "## Count the number of occurrences of a column value"
   ]
  },
  {
   "cell_type": "code",
   "execution_count": null,
   "metadata": {
    "collapsed": true
   },
   "outputs": [],
   "source": [
    "df.A.value_counts()"
   ]
  },
  {
   "cell_type": "code",
   "execution_count": null,
   "metadata": {
    "collapsed": true
   },
   "outputs": [],
   "source": [
    "df.A.value_counts().plot.bar()"
   ]
  },
  {
   "cell_type": "markdown",
   "metadata": {},
   "source": [
    "## Count the number of NaN values in a column"
   ]
  },
  {
   "cell_type": "code",
   "execution_count": null,
   "metadata": {
    "collapsed": true
   },
   "outputs": [],
   "source": [
    "a = np.array([[3, np.nan, 5, np.nan, 7, 7, 7, 7],\n",
    "              [2, 4, 4, 3, 1, 3, 3, 2],\n",
    "              [3, 4, 5, 6, 1, 8, 9, 8]]).T\n",
    "df = pd.DataFrame(a,\n",
    "                  columns=['A', 'B', 'C'])\n",
    "\n",
    "df"
   ]
  },
  {
   "cell_type": "code",
   "execution_count": null,
   "metadata": {
    "collapsed": true
   },
   "outputs": [],
   "source": [
    "df.A.isnull().sum()"
   ]
  },
  {
   "cell_type": "markdown",
   "metadata": {},
   "source": [
    "## Plot"
   ]
  },
  {
   "cell_type": "markdown",
   "metadata": {},
   "source": [
    "See https://pandas.pydata.org/pandas-docs/stable/visualization.html"
   ]
  },
  {
   "cell_type": "code",
   "execution_count": null,
   "metadata": {
    "collapsed": true,
    "scrolled": false
   },
   "outputs": [],
   "source": [
    "#help(df.plot)"
   ]
  },
  {
   "cell_type": "markdown",
   "metadata": {},
   "source": [
    "### Line plot"
   ]
  },
  {
   "cell_type": "code",
   "execution_count": null,
   "metadata": {
    "collapsed": true
   },
   "outputs": [],
   "source": [
    "x = np.arange(0, 6, 0.1)\n",
    "y1 = np.cos(x)\n",
    "y2 = np.sin(x)\n",
    "Y = np.array([y1, y2]).T\n",
    "\n",
    "df = pd.DataFrame(Y,\n",
    "                  columns=['cos(x)', 'sin(x)'],\n",
    "                  index=x)\n",
    "df.iloc[:10]"
   ]
  },
  {
   "cell_type": "code",
   "execution_count": null,
   "metadata": {
    "collapsed": true,
    "scrolled": false
   },
   "outputs": [],
   "source": [
    "df.plot(legend=True)"
   ]
  },
  {
   "cell_type": "markdown",
   "metadata": {},
   "source": [
    "or"
   ]
  },
  {
   "cell_type": "code",
   "execution_count": null,
   "metadata": {
    "collapsed": true,
    "scrolled": false
   },
   "outputs": [],
   "source": [
    "df.plot.line(legend=True)"
   ]
  },
  {
   "cell_type": "markdown",
   "metadata": {},
   "source": [
    "### Bar plot"
   ]
  },
  {
   "cell_type": "code",
   "execution_count": null,
   "metadata": {
    "collapsed": true
   },
   "outputs": [],
   "source": [
    "x = np.arange(0, 6, 0.5)\n",
    "y1 = np.cos(x)\n",
    "y2 = np.sin(x)\n",
    "Y = np.array([y1, y2]).T\n",
    "\n",
    "df = pd.DataFrame(Y,\n",
    "                  columns=['cos(x)', 'sin(x)'],\n",
    "                  index=x)\n",
    "df"
   ]
  },
  {
   "cell_type": "markdown",
   "metadata": {},
   "source": [
    "#### Vertical"
   ]
  },
  {
   "cell_type": "code",
   "execution_count": null,
   "metadata": {
    "collapsed": true
   },
   "outputs": [],
   "source": [
    "df.plot.bar(legend=True)"
   ]
  },
  {
   "cell_type": "code",
   "execution_count": null,
   "metadata": {
    "collapsed": true
   },
   "outputs": [],
   "source": [
    "df.plot.bar(legend=True, stacked=True)"
   ]
  },
  {
   "cell_type": "markdown",
   "metadata": {},
   "source": [
    "#### Horizontal"
   ]
  },
  {
   "cell_type": "code",
   "execution_count": null,
   "metadata": {
    "collapsed": true,
    "scrolled": false
   },
   "outputs": [],
   "source": [
    "df.plot.barh(legend=True)"
   ]
  },
  {
   "cell_type": "markdown",
   "metadata": {},
   "source": [
    "### Histogram"
   ]
  },
  {
   "cell_type": "code",
   "execution_count": null,
   "metadata": {
    "collapsed": true
   },
   "outputs": [],
   "source": [
    "x1 = np.random.normal(size=(10000))\n",
    "x2 = np.random.normal(loc=3, scale=2, size=(10000))\n",
    "X = np.array([x1, x2]).T\n",
    "\n",
    "df = pd.DataFrame(X, columns=[r'$\\mathcal{N}(0,1)$', r'$\\mathcal{N}(3,2)$'])\n",
    "\n",
    "df.plot.hist(alpha=0.2, bins=100, legend=True)"
   ]
  },
  {
   "cell_type": "markdown",
   "metadata": {},
   "source": [
    "### Box plot"
   ]
  },
  {
   "cell_type": "code",
   "execution_count": null,
   "metadata": {
    "collapsed": true
   },
   "outputs": [],
   "source": [
    "x1 = np.random.normal(size=(10000))\n",
    "x2 = np.random.normal(loc=3, scale=2, size=(10000))\n",
    "X = np.array([x1, x2]).T\n",
    "\n",
    "df = pd.DataFrame(X, columns=[r'$\\mathcal{N}(0,1)$', r'$\\mathcal{N}(3,2)$'])\n",
    "\n",
    "df.plot.box()"
   ]
  },
  {
   "cell_type": "markdown",
   "metadata": {},
   "source": [
    "### Hexbin plot"
   ]
  },
  {
   "cell_type": "code",
   "execution_count": null,
   "metadata": {
    "collapsed": true
   },
   "outputs": [],
   "source": [
    "df = pd.DataFrame(np.random.randn(1000, 2), columns=['a', 'b'])\n",
    "df['b'] = df['b'] + np.arange(1000)\n",
    "df.plot.hexbin(x='a', y='b', gridsize=25)"
   ]
  },
  {
   "cell_type": "markdown",
   "metadata": {},
   "source": [
    "### Kernel Density Estimation (KDE) plot"
   ]
  },
  {
   "cell_type": "code",
   "execution_count": null,
   "metadata": {
    "collapsed": true,
    "scrolled": false
   },
   "outputs": [],
   "source": [
    "x1 = np.random.normal(size=(10000))\n",
    "x2 = np.random.normal(loc=3, scale=2, size=(10000))\n",
    "X = np.array([x1, x2]).T\n",
    "\n",
    "df = pd.DataFrame(X, columns=[r'$\\mathcal{N}(0,1)$', r'$\\mathcal{N}(3,2)$'])\n",
    "\n",
    "df.plot.kde()"
   ]
  },
  {
   "cell_type": "markdown",
   "metadata": {},
   "source": [
    "### Area plot"
   ]
  },
  {
   "cell_type": "code",
   "execution_count": null,
   "metadata": {
    "collapsed": true
   },
   "outputs": [],
   "source": [
    "df = pd.DataFrame(np.random.rand(10, 4), columns=['a', 'b', 'c', 'd'])\n",
    "\n",
    "df.plot.area()"
   ]
  },
  {
   "cell_type": "markdown",
   "metadata": {},
   "source": [
    "### Pie chart"
   ]
  },
  {
   "cell_type": "code",
   "execution_count": null,
   "metadata": {
    "collapsed": true
   },
   "outputs": [],
   "source": [
    "x = np.random.randint(low=0, high=6, size=(50))\n",
    "\n",
    "df = pd.DataFrame(x, columns=[\"A\"])\n",
    "df.A.value_counts()"
   ]
  },
  {
   "cell_type": "code",
   "execution_count": null,
   "metadata": {
    "collapsed": true
   },
   "outputs": [],
   "source": [
    "df.A.value_counts().plot.pie(y=\"A\")"
   ]
  },
  {
   "cell_type": "markdown",
   "metadata": {},
   "source": [
    "### Scatter plot"
   ]
  },
  {
   "cell_type": "code",
   "execution_count": null,
   "metadata": {
    "collapsed": true,
    "scrolled": false
   },
   "outputs": [],
   "source": [
    "x1 = np.random.normal(size=(10000))\n",
    "x2 = np.random.normal(loc=3, scale=2, size=(10000))\n",
    "X = np.array([x1, x2]).T\n",
    "\n",
    "df = pd.DataFrame(X, columns=[r'$\\mathcal{N}(0,1)$', r'$\\mathcal{N}(3,2)$'])\n",
    "\n",
    "df.plot.scatter(x=r'$\\mathcal{N}(0,1)$',\n",
    "                y=r'$\\mathcal{N}(3,2)$',\n",
    "                alpha=0.2)"
   ]
  }
 ],
 "metadata": {
  "anaconda-cloud": {},
  "celltoolbar": "Tags",
  "kernelspec": {
   "display_name": "Python [default]",
   "language": "python",
   "name": "python3"
  },
  "language_info": {
   "codemirror_mode": {
    "name": "ipython",
    "version": 3
   },
   "file_extension": ".py",
   "mimetype": "text/x-python",
   "name": "python",
   "nbconvert_exporter": "python",
   "pygments_lexer": "ipython3",
   "version": "3.5.3"
  }
 },
 "nbformat": 4,
 "nbformat_minor": 1
}
