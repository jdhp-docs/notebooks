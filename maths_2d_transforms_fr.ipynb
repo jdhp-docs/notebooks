{
 "cells": [
  {
   "cell_type": "code",
   "execution_count": null,
   "metadata": {},
   "outputs": [],
   "source": [
    "%matplotlib inline"
   ]
  },
  {
   "cell_type": "code",
   "execution_count": null,
   "metadata": {},
   "outputs": [],
   "source": [
    "import math\n",
    "import numpy as np\n",
    "import matplotlib.pyplot as plt"
   ]
  },
  {
   "cell_type": "markdown",
   "metadata": {},
   "source": [
    "* https://en.wikipedia.org/wiki/Transformation_matrix#Examples_in_2D_computer_graphics\n",
    "* https://en.wikipedia.org/wiki/Rotation_matrix"
   ]
  },
  {
   "cell_type": "markdown",
   "metadata": {},
   "source": [
    "## On 2D vectors"
   ]
  },
  {
   "cell_type": "markdown",
   "metadata": {},
   "source": [
    "### Rotation matrix\n",
    "\n",
    "$$\n",
    "R = \n",
    "\\begin{pmatrix}\n",
    "cos(\\theta) & -sin(\\theta) \\\\\n",
    "sin(\\theta) &  cos(\\theta) \\\\\n",
    "\\end{pmatrix}\n",
    "$$"
   ]
  },
  {
   "cell_type": "code",
   "execution_count": null,
   "metadata": {},
   "outputs": [],
   "source": [
    "X = np.random.randint(10, size=[5,2])\n",
    "X"
   ]
  },
  {
   "cell_type": "code",
   "execution_count": null,
   "metadata": {},
   "outputs": [],
   "source": [
    "plt.plot(X[:,0], X[:,1]);"
   ]
  },
  {
   "cell_type": "code",
   "execution_count": null,
   "metadata": {},
   "outputs": [],
   "source": [
    "angle = math.radians(180)\n",
    "\n",
    "R = np.array([[math.cos(angle), -math.sin(angle)],\n",
    "              [math.sin(angle), math.cos(angle)]])"
   ]
  },
  {
   "cell_type": "code",
   "execution_count": null,
   "metadata": {},
   "outputs": [],
   "source": [
    "Xr = np.dot(R, X.T).T"
   ]
  },
  {
   "cell_type": "code",
   "execution_count": null,
   "metadata": {},
   "outputs": [],
   "source": [
    "Xr"
   ]
  },
  {
   "cell_type": "code",
   "execution_count": null,
   "metadata": {},
   "outputs": [],
   "source": [
    "plt.plot(X[:,0], X[:,1])\n",
    "plt.plot(Xr[:,0], Xr[:,1]);"
   ]
  },
  {
   "cell_type": "markdown",
   "metadata": {},
   "source": [
    "### Rotate and shear\n",
    "\n",
    "https://github.com/cta-observatory/ctapipe/blob/master/ctapipe/image/geometry_converter.py#L44\n",
    "\n",
    "The correction on the pixel position r can be described by a rotation R around\n",
    "one angle and a sheer S along a certain axis:\n",
    "\n",
    "$$r' = S \\cdot R \\cdot r$$\n",
    "\n",
    "$$\n",
    "\\begin{pmatrix}\n",
    "    x' \\\\\n",
    "    y'\n",
    "\\end{pmatrix}\n",
    "=\n",
    "\\begin{pmatrix}\n",
    "    1        &  0 \\\\\n",
    "    -1/\\tan  &  1\n",
    "\\end{pmatrix}\n",
    "\\cdot\n",
    "\\begin{pmatrix}\n",
    "    \\cos  & -\\sin \\\\\n",
    "    \\sin  &  \\cos\n",
    "\\end{pmatrix}\n",
    "\\cdot\n",
    "\\begin{pmatrix}\n",
    "    x \\\\\n",
    "    y\n",
    "\\end{pmatrix}\n",
    "$$\n",
    "\n",
    "$$\n",
    "\\begin{pmatrix}\n",
    "    x' \\\\\n",
    "    y'\n",
    "\\end{pmatrix}\n",
    "=\n",
    "\\begin{pmatrix}\n",
    "         \\cos      &     -\\sin      \\\\\n",
    "    \\sin-\\cos/\\tan & \\sin/\\tan+\\cos\n",
    "\\end{pmatrix}\n",
    "\\cdot\n",
    "\\begin{pmatrix}\n",
    "    x \\\\\n",
    "    y\n",
    "\\end{pmatrix}\n",
    "$$\n",
    "\n",
    "\n",
    "To revert the rotation, we need to find matrices $S'$ and $R'$ with $S' \\cdot S = 1$ and $R' \\cdot R = 1$ so that $r = R' \\cdot S' \\cdot S \\cdot R \\cdot r = R' \\cdot S' \\cdot  r'$:\n",
    "\n",
    "$$\n",
    "\\begin{pmatrix}\n",
    "    x \\\\\n",
    "    y\n",
    "\\end{pmatrix}\n",
    "=\n",
    "\\begin{pmatrix}\n",
    "    \\cos  &  \\sin \\\\\n",
    "    -\\sin &  \\cos\n",
    "\\end{pmatrix}\n",
    "\\cdot\n",
    "\\begin{pmatrix}\n",
    "    1       &  0 \\\\\n",
    "    1/\\tan  &  1\n",
    "\\end{pmatrix}\n",
    "\\cdot\n",
    "\\begin{pmatrix}\n",
    "    x' \\\\\n",
    "    y'\n",
    "\\end{pmatrix}\n",
    "$$\n",
    "$$\n",
    "\\begin{pmatrix}\n",
    "    x \\\\\n",
    "    y\n",
    "\\end{pmatrix}\n",
    "=\n",
    "\\begin{pmatrix}\n",
    "    \\cos+\\sin/\\tan  &  \\sin \\\\\n",
    "    \\cos/\\tan-\\sin  &  \\cos\n",
    "\\end{pmatrix}\n",
    "\\cdot\n",
    "\\begin{pmatrix}\n",
    "    x' \\\\\n",
    "    y'\n",
    "\\end{pmatrix}\n",
    "$$"
   ]
  },
  {
   "cell_type": "markdown",
   "metadata": {},
   "source": [
    "## On 3D vectors"
   ]
  },
  {
   "cell_type": "markdown",
   "metadata": {},
   "source": [
    "### Along the $z$ axis"
   ]
  },
  {
   "cell_type": "markdown",
   "metadata": {},
   "source": [
    "Source:\n",
    "* *Programmation des jeux 3D*, André Lamotte, John Ratcliff, Mark Seminatore, Denise Tyler (Simon & Schuster Macmillan, 1995)\n",
    "* https://en.wikipedia.org/wiki/Rotation_matrix\n",
    "\n",
    "#### Translation matrix\n",
    "\n",
    "$$\n",
    "T = \n",
    "\\begin{pmatrix}\n",
    "1   & 0   & 0 \\\\\n",
    "0   & 1   & 0 \\\\\n",
    "t_x & t_y & 1 \\\\\n",
    "\\end{pmatrix}\n",
    "$$\n",
    "\n",
    "#### Scale matrix\n",
    "\n",
    "$$\n",
    "S = \n",
    "\\begin{pmatrix}\n",
    "s_x  & 0   & 0 \\\\\n",
    "0    & s_x & 0 \\\\\n",
    "0    & 0   & 1 \\\\\n",
    "\\end{pmatrix}\n",
    "$$\n",
    "\n",
    "#### Rotation matrix\n",
    "\n",
    "$$\n",
    "R = \n",
    "\\begin{pmatrix}\n",
    "cos(\\theta) & -sin(\\theta) & 0 \\\\\n",
    "sin(\\theta) &  cos(\\theta) & 0 \\\\\n",
    "0           &  0           & 1 \\\\\n",
    "\\end{pmatrix}\n",
    "$$\n",
    "\n",
    "#### General transformation matrix\n",
    "\n",
    "$$\n",
    "R = \n",
    "\\begin{pmatrix}\n",
    "s_x . cos(\\theta) & s_x . -sin(\\theta) & 0 \\\\\n",
    "s_y sin(\\theta)   & s_y cos(\\theta)    & 0 \\\\\n",
    "t_x               &  t_y               & 1 \\\\\n",
    "\\end{pmatrix}\n",
    "$$"
   ]
  }
 ],
 "metadata": {
  "kernelspec": {
   "display_name": "Python [default]",
   "language": "python",
   "name": "python3"
  },
  "language_info": {
   "codemirror_mode": {
    "name": "ipython",
    "version": 3
   },
   "file_extension": ".py",
   "mimetype": "text/x-python",
   "name": "python",
   "nbconvert_exporter": "python",
   "pygments_lexer": "ipython3",
   "version": "3.5.3"
  }
 },
 "nbformat": 4,
 "nbformat_minor": 1
}
