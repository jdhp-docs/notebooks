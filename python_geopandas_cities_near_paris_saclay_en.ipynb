{
 "cells": [
  {
   "cell_type": "markdown",
   "metadata": {
    "tags": [
     "meta",
     "draft"
    ]
   },
   "source": [
    "# Titre"
   ]
  },
  {
   "cell_type": "markdown",
   "metadata": {
    "tags": [
     "hide"
    ]
   },
   "source": [
    "http://geopandas.org/gallery/plotting_basemap_background.html#adding-a-background-map-to-plots\n"
   ]
  },
  {
   "cell_type": "markdown",
   "metadata": {},
   "source": [
    "https://www.data.gouv.fr/fr/datasets/contours-des-departements-francais-issus-d-openstreetmap/"
   ]
  },
  {
   "cell_type": "code",
   "execution_count": null,
   "metadata": {},
   "outputs": [],
   "source": [
    "!wget http://osm13.openstreetmap.fr/~cquest/openfla/export/communes-20180101-shp.zip"
   ]
  },
  {
   "cell_type": "code",
   "execution_count": null,
   "metadata": {},
   "outputs": [],
   "source": [
    "!unzip -u communes-20180101-shp.zip"
   ]
  },
  {
   "cell_type": "code",
   "execution_count": null,
   "metadata": {
    "tags": [
     "hide"
    ]
   },
   "outputs": [],
   "source": [
    "import geopandas"
   ]
  },
  {
   "cell_type": "markdown",
   "metadata": {},
   "source": [
    "- https://fr.wikipedia.org/wiki/Canton_de_Maurepas\n",
    "- https://fr.wikipedia.org/wiki/Communaut%C3%A9_de_communes_du_pays_de_Limours\n",
    "- https://fr.wikipedia.org/wiki/Canton_de_Versailles-Sud\n",
    "- https://fr.wikipedia.org/wiki/Arrondissement_de_Palaiseau\n",
    "- https://fr.wikipedia.org/wiki/Canton_de_Gif-sur-Yvette\n",
    "- https://fr.wikipedia.org/wiki/Canton_de_Palaiseau\n",
    "- https://fr.wikipedia.org/wiki/Canton_des_Ulis\n",
    "- https://fr.wikipedia.org/wiki/Canton_de_Villebon-sur-Yvette\n",
    "- https://fr.wikipedia.org/wiki/Canton_de_Longjumeau\n",
    "- https://fr.wikipedia.org/wiki/Canton_de_Rambouillet"
   ]
  },
  {
   "cell_type": "code",
   "execution_count": null,
   "metadata": {},
   "outputs": [],
   "source": [
    "df = geopandas.read_file(\"communes-20181110.shp\")\n",
    "#df = df.loc[df.insee == \"78575\"]             # OK\n",
    "\n",
    "communes_list = [\n",
    "    \"78423\", # Montigny-le-Bretonneux\n",
    "    \"78297\", # Guyancourt\n",
    "    \"78117\", # Buc\n",
    "    \"78343\", # Les Loges-en-Josas\n",
    "    \"78322\", # Jouy-en-Josas\n",
    "    \"91377\", # Massy\n",
    "    \"92002\", # Antony\n",
    "    \"91689\", # Wissous\n",
    "    \"91161\", # Chilly-Mazarin\n",
    "]\n",
    "\n",
    "# https://fr.wikipedia.org/wiki/Communaut%C3%A9_de_communes_du_pays_de_Limours\n",
    "communes_pays_limours = [\n",
    "    \"91111\", # Briis-sous-Forges\n",
    "    \"91017\", # Angervilliers\n",
    "    \"91093\", # Boullay-les-Troux\n",
    "    \"91186\", # Courson-Monteloup\n",
    "    \"91243\", # Fontenay-lès-Briis\n",
    "    \"91249\", # Forges-les-Bains\n",
    "    \"91274\", # Gometz-la-Ville\n",
    "    \"91319\", # Janvry\n",
    "    \"91411\", # Les Molières\n",
    "    \"91338\", # Limours\n",
    "    \"91482\", # Pecqueuse\n",
    "    \"91560\", # Saint-Jean-de-Beauregard\n",
    "    \"91568\", # Saint-Maurice-Montcouronne\n",
    "    \"91634\", # Vaugrigneuse\n",
    "]\n",
    "\n",
    "# https://fr.wikipedia.org/wiki/Canton_de_Maurepas\n",
    "canton_maurepas = [\n",
    "    \"78383\", # Maurepas\n",
    "    \"78143\", # Châteaufort\n",
    "    \"78160\", # Chevreuse\n",
    "    \"78162\", # Choisel\n",
    "    \"78168\", # Coignières\n",
    "    \"78193\", # Dampierre-en-Yvelines\n",
    "    \"78334\", # Lévis-Saint-Nom\n",
    "    \"78356\", # Magny-les-Hameaux\n",
    "    \"78397\", # Le Mesnil-Saint-Denis\n",
    "    \"78406\", # Milon-la-Chapelle\n",
    "    \"78548\", # Saint-Forget\n",
    "    \"78561\", # Saint-Lambert\n",
    "    \"78575\", # Saint-Rémy-lès-Chevreuse\n",
    "    \"78590\", # Senlisse\n",
    "    \"78620\", # Toussus-le-Noble\n",
    "    \"78688\", # Voisins-le-Bretonneux\n",
    "]\n",
    "\n",
    "# https://fr.wikipedia.org/wiki/Canton_de_Gif-sur-Yvette\n",
    "canton_gif = [\n",
    "    \"91272\", # Gif-sur-Yvette\n",
    "    \"91064\", # Bièvres\n",
    "    \"91093\", # Boullay-les-Troux\n",
    "    \"91122\", # Bures-sur-Yvette\n",
    "    \"91274\", # Gometz-la-Ville\n",
    "    \"91411\", # Les Molières\n",
    "    \"91482\", # Pecqueuse\n",
    "    \"91534\", # Saclay\n",
    "    \"91538\", # Saint-Aubin\n",
    "    \"91635\", # Vauhallan\n",
    "    \"91645\", # Verrières-le-Buisson\n",
    "    \"91679\", # Villiers-le-Bâcle\n",
    "]\n",
    "\n",
    "# https://fr.wikipedia.org/wiki/Canton_de_Palaiseau\n",
    "canton_palaiseau = [\n",
    "    \"91477\", # Palaiseau\n",
    "    \"91312\", # Igny\n",
    "    \"91471\", # Orsay\n",
    "]\n",
    "\n",
    "# https://fr.wikipedia.org/wiki/Canton_des_Ulis\n",
    "canton_les_ulis = [\n",
    "    \"91692\", # Les Ulis\n",
    "    \"91275\", # Gometz-le-Châtel\n",
    "    \"91363\", # Marcoussis\n",
    "    \"91458\", # Nozay\n",
    "    \"91560\", # Saint-Jean-de-Beauregard\n",
    "    \"91661\", # Villebon-sur-Yvette\n",
    "    \"91666\", # Villejust\n",
    "]\n",
    "\n",
    "# https://fr.wikipedia.org/wiki/Canton_de_Longjumeau\n",
    "canton_longjumeau = [\n",
    "    \"91345\", # Longjumeau\n",
    "    \"91044\", # Ballainvilliers\n",
    "    \"91136\", # Champlan\n",
    "    \"91216\", # Épinay-sur-Orge\n",
    "    \"91339\", # Linas\n",
    "    \"91425\", # Montlhéry\n",
    "    \"91587\", # Saulx-les-Chartreux\n",
    "    \"91665\", # La Ville-du-Bois\n",
    "]\n",
    "\n",
    "# https://fr.wikipedia.org/wiki/Canton_de_Rambouillet\n",
    "canton_rambouillet = [\n",
    "    \"78517\", # Rambouillet\n",
    "    \"78003\", # Ablis\n",
    "    \"78009\", # Allainville\n",
    "    \"78030\", # Auffargis\n",
    "    \"78071\", # Boinville-le-Gaillard\n",
    "    \"78077\", # La Boissière-École\n",
    "    \"78087\", # Bonnelles\n",
    "    \"78108\", # Les Bréviaires\n",
    "    \"78120\", # Bullion\n",
    "    \"78125\", # La Celle-les-Bordes\n",
    "    \"78128\", # Cernay-la-Ville\n",
    "    \"78164\", # Clairefontaine-en-Yvelines\n",
    "    \"78209\", # Émancé\n",
    "    \"78220\", # Les Essarts-le-Roi\n",
    "    \"78264\", # Gambaiseuil\n",
    "    \"78269\", # Gazeran\n",
    "    \"78307\", # Hermeray\n",
    "    \"78349\", # Longvilliers\n",
    "    \"78407\", # Mittainville\n",
    "    \"78464\", # Orcemont\n",
    "    \"78470\", # Orphin\n",
    "    \"78472\", # Orsonville\n",
    "    \"78478\", # Paray-Douaville\n",
    "    \"78486\", # Le Perray-en-Yvelines\n",
    "    \"78497\", # Poigny-la-Forêt\n",
    "    \"78499\", # Ponthévrard\n",
    "    \"78506\", # Prunay-en-Yvelines\n",
    "    \"78516\", # Raizeux\n",
    "    \"78522\", # Rochefort-en-Yvelines\n",
    "    \"78537\", # Saint-Arnoult-en-Yvelines\n",
    "    \"78557\", # Saint-Hilarion\n",
    "    \"78562\", # Saint-Léger-en-Yvelines\n",
    "    \"78564\", # Saint-Martin-de-Bréthencourt\n",
    "    \"78569\", # Sainte-Mesme\n",
    "    \"78601\", # Sonchamp\n",
    "    \"78655\", # Vieille-Église-en-Yvelines\n",
    "]\n",
    "\n",
    "communes_list += communes_pays_limours\n",
    "communes_list += canton_maurepas\n",
    "communes_list += canton_gif\n",
    "communes_list += canton_palaiseau\n",
    "communes_list += canton_les_ulis\n",
    "communes_list += canton_longjumeau\n",
    "#communes_list += canton_rambouillet\n",
    "\n",
    "df = df.loc[df.insee.isin(communes_list)]   # OK"
   ]
  },
  {
   "cell_type": "code",
   "execution_count": null,
   "metadata": {},
   "outputs": [],
   "source": [
    "df"
   ]
  },
  {
   "cell_type": "code",
   "execution_count": null,
   "metadata": {},
   "outputs": [],
   "source": [
    "ax = df.plot(figsize=(10, 10), alpha=0.5, edgecolor='k')"
   ]
  },
  {
   "cell_type": "markdown",
   "metadata": {},
   "source": [
    "## Convert the data to Web Mercator"
   ]
  },
  {
   "cell_type": "code",
   "execution_count": null,
   "metadata": {},
   "outputs": [],
   "source": [
    "df2 = df.to_crs(epsg=3857)"
   ]
  },
  {
   "cell_type": "code",
   "execution_count": null,
   "metadata": {},
   "outputs": [],
   "source": [
    "df2"
   ]
  },
  {
   "cell_type": "code",
   "execution_count": null,
   "metadata": {},
   "outputs": [],
   "source": [
    "ax = df2.plot(figsize=(10, 10), alpha=0.5, edgecolor='k')"
   ]
  },
  {
   "cell_type": "markdown",
   "metadata": {},
   "source": [
    "## Contextily helper function"
   ]
  },
  {
   "cell_type": "code",
   "execution_count": null,
   "metadata": {},
   "outputs": [],
   "source": [
    "import contextily as ctx\n",
    "\n",
    "def add_basemap(ax, zoom, url='http://tile.stamen.com/terrain/tileZ/tileX/tileY.png'):\n",
    "    xmin, xmax, ymin, ymax = ax.axis()\n",
    "    basemap, extent = ctx.bounds2img(xmin, ymin, xmax, ymax, zoom=zoom, url=url)\n",
    "    ax.imshow(basemap, extent=extent, interpolation='bilinear')\n",
    "    # restore original x/y limits\n",
    "    ax.axis((xmin, xmax, ymin, ymax))"
   ]
  },
  {
   "cell_type": "markdown",
   "metadata": {},
   "source": [
    "## Add background tiles to plot"
   ]
  },
  {
   "cell_type": "code",
   "execution_count": null,
   "metadata": {},
   "outputs": [],
   "source": [
    "ax = df2.plot(figsize=(16, 16), alpha=0.5, edgecolor='k')\n",
    "#add_basemap(ax, zoom=13, url=ctx.sources.ST_TONER_LITE)\n",
    "add_basemap(ax, zoom=12)\n",
    "ax.set_axis_off()"
   ]
  },
  {
   "cell_type": "markdown",
   "metadata": {},
   "source": [
    "## Save selected departments into a GeoJSON file"
   ]
  },
  {
   "cell_type": "code",
   "execution_count": null,
   "metadata": {},
   "outputs": [],
   "source": [
    "import fiona\n",
    "fiona.supported_drivers"
   ]
  },
  {
   "cell_type": "code",
   "execution_count": null,
   "metadata": {},
   "outputs": [],
   "source": [
    "df.to_file(\"communes.geojson\", driver=\"GeoJSON\")"
   ]
  },
  {
   "cell_type": "code",
   "execution_count": null,
   "metadata": {},
   "outputs": [],
   "source": [
    "!ls -lh communes.geojson"
   ]
  },
  {
   "cell_type": "code",
   "execution_count": null,
   "metadata": {},
   "outputs": [],
   "source": [
    "df = geopandas.read_file(\"communes.geojson\")"
   ]
  },
  {
   "cell_type": "code",
   "execution_count": null,
   "metadata": {},
   "outputs": [],
   "source": [
    "df"
   ]
  },
  {
   "cell_type": "code",
   "execution_count": null,
   "metadata": {},
   "outputs": [],
   "source": [
    "ax = df.plot(figsize=(10, 10), alpha=0.5, edgecolor='k')"
   ]
  }
 ],
 "metadata": {
  "anaconda-cloud": {},
  "celltoolbar": "Tags",
  "kernelspec": {
   "display_name": "Python 3",
   "language": "python",
   "name": "python3"
  },
  "language_info": {
   "codemirror_mode": {
    "name": "ipython",
    "version": 3
   },
   "file_extension": ".py",
   "mimetype": "text/x-python",
   "name": "python",
   "nbconvert_exporter": "python",
   "pygments_lexer": "ipython3",
   "version": "3.6.6"
  }
 },
 "nbformat": 4,
 "nbformat_minor": 2
}
