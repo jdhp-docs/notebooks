{
 "cells": [
  {
   "cell_type": "markdown",
   "metadata": {},
   "source": [
    "## Inverse transform sampling with spline interpolation"
   ]
  },
  {
   "cell_type": "markdown",
   "metadata": {},
   "source": [
    "But: construire une distribution à partir d'un modèle empirique (\"inverse transform sampling\").\n",
    "\n",
    "Implémentation en Python:\n",
    "* http://www.astroml.org/book_figures/chapter3/fig_clone_distribution.html\n",
    "* https://github.com/astroML/astroML/blob/master/astroML/density_estimation/empirical.py\n",
    "* https://github.com/astroML/astroML/blob/0287fe00c429b28b3ddf52435a32543f43246349/astroML/density_estimation/tests/test_empirical.py\n",
    "* http://www.astroml.org/modules/generated/astroML.density_estimation.EmpiricalDistribution.html#astroML.density_estimation.EmpiricalDistribution\n",
    "* https://docs.scipy.org/doc/scipy/reference/generated/scipy.interpolate.splprep.html\n",
    "* https://docs.scipy.org/doc/scipy/reference/interpolate.html\n",
    "\n",
    "* https://en.wikipedia.org/wiki/Inverse_transform_sampling\n",
    "\n",
    "\n",
    "Mon implémentation:\n",
    "\n",
    "* Ne pas garder tous les points comme ils le font dans astroml (j'ai plusieurs centaines de millions se samples...)\n",
    "* A la place, utiliser np.histogram pour faire un CDF avec un nombre de bins choisi\n",
    "* Stocker ce CDF dans un fichier\n",
    "* Ecrire une classe pour générer des echantillons: charger et interpoller (avec des splines) le CDF dans __init__\n",
    "        interpolate.splrep(y, data)\n",
    "* Fonction rvs qui génère un echantillon\n",
    "        interpolate.splev(y, self._tck)"
   ]
  },
  {
   "cell_type": "markdown",
   "metadata": {},
   "source": [
    "### Test"
   ]
  },
  {
   "cell_type": "code",
   "execution_count": null,
   "metadata": {},
   "outputs": [],
   "source": [
    "with open(\"astri_inaf_cdf.json\", \"r\") as fd:\n",
    "    cdf = json.load(fd)"
   ]
  },
  {
   "cell_type": "code",
   "execution_count": null,
   "metadata": {},
   "outputs": [],
   "source": [
    "x_list = cdf['cdf_x']\n",
    "y_list = cdf['cdf_y']\n",
    "\n",
    "filtered_x_list = []\n",
    "filtered_y_list = []\n",
    "\n",
    "# Dirty hack to stightly improve the spline interpolation at the border of the range\n",
    "filtered_x_list.append(x_list[1] + x_list[1] - x_list[0])\n",
    "filtered_y_list.append(0.)\n",
    "\n",
    "# \"Clean\" data to have an actual inverse CDF (i.e. lets the CDF be *strictly* increasing)\n",
    "for i, (xip, xi, yip, yi) in enumerate(zip(x_list[0:-1], x_list[1:], y_list[0:-1], y_list[1:])):\n",
    "    if yi <= yip:\n",
    "        print(\"Error at index {}: cdf({}) = cdf({}) = {}. Removing this point.\".format(i, xip, xi, yi))\n",
    "    else:\n",
    "        filtered_x_list.append(x_list[i])\n",
    "        filtered_y_list.append(y_list[i])\n",
    "\n",
    "# Dirty hack to stightly improve the spline interpolation at the border of the range\n",
    "filtered_x_list.append(x_list[-1] + x_list[-1] - x_list[-2])\n",
    "filtered_y_list.append(1.)"
   ]
  },
  {
   "cell_type": "code",
   "execution_count": null,
   "metadata": {},
   "outputs": [],
   "source": [
    "x = np.array(filtered_x_list)\n",
    "y = np.array(filtered_y_list)"
   ]
  },
  {
   "cell_type": "code",
   "execution_count": null,
   "metadata": {},
   "outputs": [],
   "source": [
    "plt.plot(x, y)\n",
    "plt.title(\"CDF\")"
   ]
  },
  {
   "cell_type": "code",
   "execution_count": null,
   "metadata": {},
   "outputs": [],
   "source": [
    "plt.plot(y, x)\n",
    "plt.title(r\"$CDF^{-1}$\")"
   ]
  },
  {
   "cell_type": "code",
   "execution_count": null,
   "metadata": {},
   "outputs": [],
   "source": [
    "spl = scipy.interpolate.splrep(y, x)"
   ]
  },
  {
   "cell_type": "code",
   "execution_count": null,
   "metadata": {},
   "outputs": [],
   "source": [
    "y2 = np.linspace(0., 1., 200)\n",
    "x2 = scipy.interpolate.splev(y2, spl)\n",
    "\n",
    "plt.plot(y2, x2, \"-r\")\n",
    "plt.plot(y, x, \":b\")"
   ]
  },
  {
   "cell_type": "code",
   "execution_count": null,
   "metadata": {},
   "outputs": [],
   "source": [
    "def rvs(size):\n",
    "    y = np.random.random(size)\n",
    "    return scipy.interpolate.splev(y, spl)"
   ]
  },
  {
   "cell_type": "code",
   "execution_count": null,
   "metadata": {},
   "outputs": [],
   "source": [
    "samples = rvs(MAX_NUM_SAMPLES)\n",
    "\n",
    "n, bins, patches = plt.hist(samples, bins=100,)\n",
    "\n",
    "cdf_x = np.array(cdf['cdf_x'])\n",
    "cdf_y = np.array(cdf['cdf_y'])\n",
    "\n",
    "plt.plot(cdf_x[1:], np.diff(cdf_y) / np.diff(cdf_y).max() * n.max());"
   ]
  },
  {
   "cell_type": "markdown",
   "metadata": {},
   "source": [
    "### Implementation"
   ]
  },
  {
   "cell_type": "code",
   "execution_count": null,
   "metadata": {},
   "outputs": [],
   "source": [
    "%matplotlib inline\n",
    "\n",
    "import matplotlib\n",
    "matplotlib.rcParams['figure.figsize'] = (12, 12)"
   ]
  },
  {
   "cell_type": "code",
   "execution_count": null,
   "metadata": {},
   "outputs": [],
   "source": [
    "import numpy as np\n",
    "import scipy.interpolate\n",
    "import json\n",
    "\n",
    "INTERPOLATION_METH = 'spline1'\n",
    "\n",
    "class EmpiricalDistribution:\n",
    "    def __init__(self, cdf_json_file_path):\n",
    "        with open(cdf_json_file_path, \"r\") as fd:\n",
    "            cdf = json.load(fd)\n",
    "            \n",
    "        # Get the CDF\n",
    "\n",
    "        self.cdf_x = np.array(cdf['cdf_x'])\n",
    "        self.cdf_y = np.array(cdf['cdf_y'])\n",
    "\n",
    "        # \"Clean\" data to have an actual inverse CDF (i.e. lets the CDF be *strictly* increasing)\n",
    "        \n",
    "        filtered_x_list = []\n",
    "        filtered_y_list = []\n",
    "        for i, (xip, xi, yip, yi) in enumerate(zip(self.cdf_x[0:-1], self.cdf_x[1:], self.cdf_y[0:-1], self.cdf_y[1:])):\n",
    "            if yi <= yip:\n",
    "                print(\"Error at index {}: cdf({}) = cdf({}) = {}. Removing this point.\".format(i, xip, xi, yi))\n",
    "            else:\n",
    "                filtered_x_list.append(self.cdf_x[i])\n",
    "                filtered_y_list.append(self.cdf_y[i])\n",
    "\n",
    "        filtered_x_array = np.array(filtered_x_list)\n",
    "        filtered_y_array = np.array(filtered_y_list)\n",
    "        \n",
    "        # Interpolate CDF^{-1}\n",
    "\n",
    "        if INTERPOLATION_METH == 'spline1':\n",
    "            # Spline interpolation\n",
    "            self.spl = scipy.interpolate.splrep(filtered_y_array, filtered_x_array,\n",
    "                                                xb=0., xe=1.,   # The interval to fit\n",
    "                                                #s=0.,          # A smoothing factor\n",
    "                                                k=1)            # The degree fo the spline fit\n",
    "        elif INTERPOLATION_METH == 'linear':\n",
    "            # Linear interpolation with extrapolation\n",
    "            self.inv_cdf = scipy.interpolate.interp1d(filtered_y_array, filtered_x_array,\n",
    "                                                      kind='linear',\n",
    "                                                      fill_value=\"extrapolate\")\n",
    "        elif INTERPOLATION_METH == 'slinear':\n",
    "            # Spline linear interpolation with extrapolation (should be the same than spline1...)\n",
    "            self.inv_cdf = scipy.interpolate.interp1d(filtered_y_array, filtered_x_array,\n",
    "                                                      kind='slinear',\n",
    "                                                      fill_value=\"extrapolate\")\n",
    "        else:\n",
    "            raise Exception(\"Unknown interpolation method\", INTERPOLATION_METH)\n",
    "\n",
    "    def rvs(self, size):\n",
    "        x = np.random.random(size)\n",
    "        \n",
    "        if INTERPOLATION_METH == 'spline1':\n",
    "            return scipy.interpolate.splev(x, self.spl)\n",
    "        elif INTERPOLATION_METH in ('linear', 'slinear'):\n",
    "            return self.inv_cdf(x)\n",
    "        else:\n",
    "            raise Exception(\"Unknown interpolation method\", INTERPOLATION_METH)"
   ]
  },
  {
   "cell_type": "code",
   "execution_count": null,
   "metadata": {},
   "outputs": [],
   "source": [
    "dist = EmpiricalDistribution(\"astri_inaf_cdf.json\")\n",
    "samples = dist.rvs(MAX_NUM_SAMPLES)\n",
    "\n",
    "n, bins, patches = plt.hist(samples, bins=100,)\n",
    "\n",
    "cdf_x = dist.cdf_x\n",
    "cdf_y = dist.cdf_y\n",
    "\n",
    "plt.plot(cdf_x[1:], np.diff(cdf_y) / np.diff(cdf_y).max() * n.max());"
   ]
  },
  {
   "cell_type": "code",
   "execution_count": null,
   "metadata": {},
   "outputs": [],
   "source": [
    "dist = EmpiricalDistribution(\"astri_konrad_cdf.json\")\n",
    "samples = dist.rvs(MAX_NUM_SAMPLES)\n",
    "\n",
    "n, bins, patches = plt.hist(samples, bins=100,)\n",
    "\n",
    "cdf_x = dist.cdf_x\n",
    "cdf_y = dist.cdf_y\n",
    "\n",
    "plt.plot(cdf_x[1:], np.diff(cdf_y) / np.diff(cdf_y).max() * n.max());"
   ]
  },
  {
   "cell_type": "code",
   "execution_count": null,
   "metadata": {},
   "outputs": [],
   "source": [
    "dist = EmpiricalDistribution(\"flashcam_inaf_cdf.json\")\n",
    "samples = dist.rvs(MAX_NUM_SAMPLES)\n",
    "\n",
    "n, bins, patches = plt.hist(samples, bins=100,)\n",
    "\n",
    "cdf_x = dist.cdf_x\n",
    "cdf_y = dist.cdf_y\n",
    "\n",
    "plt.plot(cdf_x[1:], np.diff(cdf_y) / np.diff(cdf_y).max() * n.max());"
   ]
  },
  {
   "cell_type": "code",
   "execution_count": null,
   "metadata": {},
   "outputs": [],
   "source": [
    "dist = EmpiricalDistribution(\"flashcam_grid_prod3b_north_cdf.json\")\n",
    "samples = dist.rvs(MAX_NUM_SAMPLES)\n",
    "\n",
    "n, bins, patches = plt.hist(samples, bins=100,)\n",
    "\n",
    "cdf_x = dist.cdf_x\n",
    "cdf_y = dist.cdf_y\n",
    "\n",
    "plt.plot(cdf_x[1:], np.diff(cdf_y) / np.diff(cdf_y).max() * n.max());"
   ]
  },
  {
   "cell_type": "code",
   "execution_count": null,
   "metadata": {},
   "outputs": [],
   "source": [
    "dist = EmpiricalDistribution(\"lstcam_grid_prod3b_north_cdf.json\")\n",
    "samples = dist.rvs(MAX_NUM_SAMPLES)\n",
    "\n",
    "n, bins, patches = plt.hist(samples, bins=100,)\n",
    "\n",
    "cdf_x = dist.cdf_x\n",
    "cdf_y = dist.cdf_y\n",
    "\n",
    "plt.plot(cdf_x[1:], np.diff(cdf_y) / np.diff(cdf_y).max() * n.max());"
   ]
  },
  {
   "cell_type": "code",
   "execution_count": null,
   "metadata": {},
   "outputs": [],
   "source": [
    "dist = EmpiricalDistribution(\"nectarcam_grid_prod3b_north_cdf.json\")\n",
    "samples = dist.rvs(MAX_NUM_SAMPLES)\n",
    "\n",
    "n, bins, patches = plt.hist(samples, bins=100,)\n",
    "\n",
    "cdf_x = dist.cdf_x\n",
    "cdf_y = dist.cdf_y\n",
    "\n",
    "plt.plot(cdf_x[1:], np.diff(cdf_y) / np.diff(cdf_y).max() * n.max());"
   ]
  }
 ],
 "metadata": {
  "anaconda-cloud": {},
  "kernelspec": {
   "display_name": "Python [conda env:cta]",
   "language": "python",
   "name": "conda-env-cta-py"
  },
  "language_info": {
   "codemirror_mode": {
    "name": "ipython",
    "version": 3
   },
   "file_extension": ".py",
   "mimetype": "text/x-python",
   "name": "python",
   "nbconvert_exporter": "python",
   "pygments_lexer": "ipython3",
   "version": "3.5.1"
  }
 },
 "nbformat": 4,
 "nbformat_minor": 1
}
