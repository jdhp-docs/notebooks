{
 "cells": [
  {
   "cell_type": "markdown",
   "metadata": {
    "tags": [
     "meta",
     "draft"
    ]
   },
   "source": [
    "# Transformée en ondelettes"
   ]
  },
  {
   "cell_type": "markdown",
   "metadata": {
    "tags": [
     "hide"
    ]
   },
   "source": [
    "**TODO**:\n",
    "- ajouter notation simplifiée\n",
    "    - wavelet-transform-slides\n",
    "    - slides de Bologne\n",
    "- ajouter notation JL"
   ]
  },
  {
   "cell_type": "code",
   "execution_count": null,
   "metadata": {
    "collapsed": true,
    "tags": [
     "hide"
    ]
   },
   "outputs": [],
   "source": [
    "%matplotlib inline\n",
    "from astropy.io import fits\n",
    "import numpy as np\n",
    "import matplotlib.pyplot as plt"
   ]
  },
  {
   "cell_type": "code",
   "execution_count": null,
   "metadata": {
    "collapsed": true,
    "tags": [
     "hide"
    ]
   },
   "outputs": [],
   "source": [
    "# Tool functions\n",
    "\n",
    "def read_fits_file(file_path):\n",
    "    hdu_list = fits.open(file_path) # Open the FITS file\n",
    "    data = hdu_list[0].data\n",
    "    hdu_list.close()                # Close the FITS file\n",
    "    return data\n",
    "\n",
    "def plot(data, title=\"\"):\n",
    "    fig = plt.figure()\n",
    "    ax = fig.add_subplot(111)\n",
    "\n",
    "    im = ax.imshow(data, interpolation='nearest', origin='lower', cmap=\"gnuplot2\")   # cmap=cm.inferno and cmap=\"inferno\" are both valid\n",
    "    ax.set_title(title)\n",
    "    \n",
    "    plt.colorbar(im) # draw the colorbar\n",
    "    plt.show()"
   ]
  },
  {
   "cell_type": "markdown",
   "metadata": {},
   "source": [
    "## Transformée en ondelettes \"À trous\""
   ]
  },
  {
   "cell_type": "markdown",
   "metadata": {},
   "source": [
    "### Une implementation Python"
   ]
  },
  {
   "cell_type": "code",
   "execution_count": null,
   "metadata": {
    "collapsed": true
   },
   "outputs": [],
   "source": [
    "# %load /Users/jdecock/git/pub/jdhp/snippets/science/wavelet_transform/bspline_wavelet_transform.py\n",
    "\n",
    "def get_pixel_value(image, x, y, type_border):\n",
    "    if type_border == 0:\n",
    "        try:\n",
    "            pixel_value = image[x, y]\n",
    "            return pixel_value\n",
    "        except IndexError as e:\n",
    "            return 0\n",
    "    elif type_border == 1:\n",
    "        num_lines, num_col = image.shape    # TODO\n",
    "        x = x % num_lines\n",
    "        y = y % num_col\n",
    "        pixel_value = image[x, y]\n",
    "        return pixel_value\n",
    "    elif type_border == 2:\n",
    "        num_lines, num_col = image.shape    # TODO\n",
    "\n",
    "        if x >= num_lines:\n",
    "            x = num_lines - 2 - x\n",
    "        elif x < 0:\n",
    "            x = abs(x)\n",
    "\n",
    "        if y >= num_col:\n",
    "            y = num_col - 2 - y\n",
    "        elif y < 0:\n",
    "            y = abs(y)\n",
    "\n",
    "        pixel_value = image[x, y]\n",
    "        return pixel_value\n",
    "    elif type_border == 3:\n",
    "        num_lines, num_col = image.shape    # TODO\n",
    "\n",
    "        if x >= num_lines:\n",
    "            x = num_lines - 1 - x\n",
    "        elif x < 0:\n",
    "            x = abs(x) - 1\n",
    "\n",
    "        if y >= num_col:\n",
    "            y = num_col - 1 - y\n",
    "        elif y < 0:\n",
    "            y = abs(y) - 1\n",
    "\n",
    "        pixel_value = image[x, y]\n",
    "        return pixel_value\n",
    "    else:\n",
    "        raise ValueError()"
   ]
  },
  {
   "cell_type": "code",
   "execution_count": null,
   "metadata": {
    "collapsed": true
   },
   "outputs": [],
   "source": [
    "def smooth_bspline(input_image, type_border, step_trou):\n",
    "#    int num_lines = img_in.nl();  // num lines in the image\n",
    "#    int num_col = img_in.nc();  // num columns in the image\n",
    "#\n",
    "#    int i, j, step;\n",
    "#\n",
    "#    float coeff_h0 = 3. / 8.;\n",
    "#    float coeff_h1 = 1. / 4.;\n",
    "#    float coeff_h2 = 1. / 16.;\n",
    "#\n",
    "#    Ifloat buff(num_lines, num_col, \"buff smooth_bspline\");\n",
    "#\n",
    "#    step = (int)(pow((double)2., (double) step_trou) + 0.5);\n",
    "#\n",
    "#    for (i = 0; i < num_lines; i ++)\n",
    "#    for (j = 0; j < num_col; j ++)\n",
    "#       buff(i,j) = coeff_h0 * img_in(i,j)\n",
    "#                 + coeff_h1 * (  img_in(i, j-step, type_border)\n",
    "#                               + img_in(i, j+step, type_border))\n",
    "#                 + coeff_h2 * (  img_in(i, j-2*step, type_border)\n",
    "#                               + img_in(i, j+2*step, type_border));\n",
    "#\n",
    "#    for (i = 0; i < num_lines; i ++)\n",
    "#    for (j = 0; j < num_col; j ++)\n",
    "#       img_out(i,j) = coeff_h0 * buff(i,j)\n",
    "#                    + coeff_h1 * (  buff(i-step, j, type_border)\n",
    "#                                  + buff(i+step, j, type_border))\n",
    "#                    + coeff_h2 * (  buff(i-2*step, j, type_border)\n",
    "#                                  + buff(i+2*step, j, type_border));\n",
    "    \n",
    "    input_image = input_image.astype('float64', copy=True)\n",
    "\n",
    "    coeff_h0 = 3. / 8.\n",
    "    coeff_h1 = 1. / 4.\n",
    "    coeff_h2 = 1. / 16.\n",
    "\n",
    "    num_lines, num_col = input_image.shape    # TODO\n",
    "\n",
    "    buff = np.zeros(input_image.shape, dtype='float64')\n",
    "    img_out = np.zeros(input_image.shape, dtype='float64')\n",
    "\n",
    "    step = int(pow(2., step_trou) + 0.5)\n",
    "\n",
    "    print(\"step =\", step)\n",
    "\n",
    "    for i in range(num_lines):\n",
    "        for j in range(num_col):\n",
    "            buff[i,j]  = coeff_h0 *    get_pixel_value(input_image, i, j,        type_border) \n",
    "            buff[i,j] += coeff_h1 * (  get_pixel_value(input_image, i, j-step,   type_border) \\\n",
    "                                     + get_pixel_value(input_image, i, j+step,   type_border))\n",
    "            buff[i,j] += coeff_h2 * (  get_pixel_value(input_image, i, j-2*step, type_border) \\\n",
    "                                     + get_pixel_value(input_image, i, j+2*step, type_border))\n",
    "\n",
    "#    for (i = 0; i < num_lines; i ++)\n",
    "#    for (j = 0; j < num_col; j ++)\n",
    "#       img_out(i,j) = coeff_h0 * buff(i,j)\n",
    "#                    + coeff_h1 * (  buff(i-step, j, type_border)\n",
    "#                                  + buff(i+step, j, type_border))\n",
    "#                    + coeff_h2 * (  buff(i-2*step, j, type_border)\n",
    "#                                  + buff(i+2*step, j, type_border));\n",
    "    for i in range(num_lines):\n",
    "        for j in range(num_col):\n",
    "            img_out[i,j]  = coeff_h0 *    get_pixel_value(buff, i,        j, type_border) \n",
    "            img_out[i,j] += coeff_h1 * (  get_pixel_value(buff, i-step,   j, type_border) \\\n",
    "                                        + get_pixel_value(buff, i+step,   j, type_border))\n",
    "            img_out[i,j] += coeff_h2 * (  get_pixel_value(buff, i-2*step, j, type_border) \\\n",
    "                                        + get_pixel_value(buff, i+2*step, j, type_border))\n",
    "\n",
    "    return img_out"
   ]
  },
  {
   "cell_type": "code",
   "execution_count": null,
   "metadata": {
    "collapsed": true
   },
   "outputs": [],
   "source": [
    "def transform(image, num_scales):\n",
    "    # MR_Transf.band(0) = Image;\n",
    "    # for (s = 0; s < Nbr_Plan -1; s++)\n",
    "    # {\n",
    "    #     smooth_bspline (MR_Transf.band(s),MR_Transf.band(s+1),Border,s);\n",
    "    #     if  (Details == True) MR_Transf.band(s) -= MR_Transf.band(s+1);\n",
    "    # }\n",
    "\n",
    "    image = image.astype('float64', copy=True)\n",
    "\n",
    "    scale_list = []\n",
    "    scale_list.append(image)\n",
    "\n",
    "    for scale_index in range(num_scales - 1):\n",
    "        previous_scale = scale_list[scale_index]\n",
    "\n",
    "        next_scale = smooth_bspline(previous_scale, 3, scale_index)\n",
    "\n",
    "        previous_scale -= next_scale\n",
    "\n",
    "        scale_list.append(next_scale)\n",
    "\n",
    "    return scale_list"
   ]
  },
  {
   "cell_type": "code",
   "execution_count": null,
   "metadata": {
    "collapsed": true
   },
   "outputs": [],
   "source": [
    "file_path = \"/Users/jdecock/git/pub/jdhp/snippets/science/wavelet_transform/test.fits\"\n",
    "\n",
    "# Read data\n",
    "data = read_fits_file(file_path)\n",
    "\n",
    "num_scales = 4\n",
    "transformed_image = transform(data, num_scales)\n",
    "\n",
    "#print(transformed_image)\n",
    "\n",
    "# Write data\n",
    "for scale_index, scale in enumerate(transformed_image):\n",
    "    plot(scale, \"Scale {}\".format(scale_index))"
   ]
  }
 ],
 "metadata": {
  "anaconda-cloud": {},
  "celltoolbar": "Tags",
  "kernelspec": {
   "display_name": "Python [default]",
   "language": "python",
   "name": "python3"
  },
  "language_info": {
   "codemirror_mode": {
    "name": "ipython",
    "version": 3
   },
   "file_extension": ".py",
   "mimetype": "text/x-python",
   "name": "python",
   "nbconvert_exporter": "python",
   "pygments_lexer": "ipython3",
   "version": "3.5.3"
  }
 },
 "nbformat": 4,
 "nbformat_minor": 1
}
