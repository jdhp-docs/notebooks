{
 "cells": [
  {
   "cell_type": "markdown",
   "metadata": {
    "tags": [
     "meta"
    ]
   },
   "source": [
    "# L'ensemble de Mandelbrot"
   ]
  },
  {
   "cell_type": "markdown",
   "metadata": {
    "tags": [
     "hide"
    ]
   },
   "source": [
    "**TODO**\n",
    "* dans la definition, ajouter le developpement sur une dizaine d'itérations de 2 ou 3 points comme exemple illustratif du calcul (ecrire z_i ou |z_i| ou les 2 ?)\n",
    "* dans la definition, ajouter une representation graphique (code source caché) pour un niveau d'itération donné (ex. 50) pour avoir un exemple binaire, plus coherent avec la definition: soit un point est dans l'ensemble, soit il ne l'est pas\n",
    "* tweet \"Faire des maths (et du Python) en s'amusant: l'ensemble de Mandelbrot\"\n",
    "* à la fin du document, ajouter une section exploration ou on incite le lecteur a explorer en zoomant sur la representation graphique, en donnant des exemples illustrés et en rappelant la propriete autoreplicative a toute echelle des fractales (ne pas oublier d'introduire en rappelant que l'ens de Mandelbrot est une fractale...)"
   ]
  },
  {
   "cell_type": "code",
   "execution_count": null,
   "metadata": {
    "collapsed": true,
    "tags": [
     "hide"
    ]
   },
   "outputs": [],
   "source": [
    "%matplotlib inline\n",
    "\n",
    "import matplotlib\n",
    "matplotlib.rcParams['figure.figsize'] = (10, 10)"
   ]
  },
  {
   "cell_type": "markdown",
   "metadata": {},
   "source": [
    "## Définition"
   ]
  },
  {
   "cell_type": "markdown",
   "metadata": {},
   "source": [
    "Soit la suite $\\{z_i\\}$ de nombres complexes définie par\n",
    "\n",
    "$$\n",
    "z_{i+1} = z^2_i + c\n",
    "$$\n",
    "\n",
    "avec $z_0 = 0$ et avec $c \\in \\mathbb C$ une constante fixée.\n",
    "\n",
    "L'ensemble de Mandelbrot est l'ensemble de tous les nombres $c$ pour lesquels cette suite converge ;\n",
    "la suite tend vers l'infini pour les nombres $c$ n'appartenant pas à l'ensemble de Mandelbrot (i.e. $\\lim_{i \\to +\\infty}{|z_i|} = +\\infty$ où $|z_i|$ est le module de $z_i$).\n",
    "\n",
    "Ci-dessous, l'ensemble de Mandelbrot est représenté graphiquement dans le plan complexe.\n",
    "\n",
    "Référence: *Toutes les mathématiques et les bases de l'informatique*, H. Stöcker, Dunod, p.696"
   ]
  },
  {
   "cell_type": "code",
   "execution_count": null,
   "metadata": {
    "collapsed": true,
    "tags": [
     "hide_code"
    ]
   },
   "outputs": [],
   "source": [
    "import numpy as np\n",
    "import matplotlib.pyplot as plt\n",
    "from mpl_toolkits.mplot3d import axes3d\n",
    "from matplotlib import cm\n",
    "\n",
    "EPSILON_MAX = 2.\n",
    "NUM_IT_MAX = 64\n",
    "Z_INIT = complex(0, 0)\n",
    "\n",
    "def mandelbrot_version1(x, y):\n",
    "    it = 0\n",
    "    z = Z_INIT\n",
    "    c = complex(x, y)\n",
    "\n",
    "    # Rem: abs(z) = |z| = math.sqrt(pow(z.imag,2) + pow(z.real,2))\n",
    "    while it < NUM_IT_MAX and abs(z) <= EPSILON_MAX:\n",
    "        z = z**2 + c\n",
    "        it += 1\n",
    "\n",
    "    return 1 if it == NUM_IT_MAX else 0\n",
    "\n",
    "REAL_RANGE = np.linspace(-2.0, 1.0, 800).tolist()\n",
    "IMAG_RANGE = np.linspace(-1.2, 1.2, 800).tolist()\n",
    "\n",
    "# Définie un ensemble de points c et vérifie leur appartenance à l'ensemble de Mandelbrot\n",
    "xgrid, ygrid = np.meshgrid(REAL_RANGE, IMAG_RANGE)\n",
    "data = np.array([mandelbrot_version1(x, y) for y in IMAG_RANGE for x in REAL_RANGE]).reshape(len(IMAG_RANGE), len(REAL_RANGE))\n",
    "\n",
    "# Génère l'image\n",
    "# (cmap alternatifs: summer, magma, gist_gray, gist_yarg, gist_heat, Blues, coolwarm, copper)\n",
    "fig, ax = plt.subplots()\n",
    "ax.imshow(data, extent=[xgrid.min(), xgrid.max(), ygrid.min(), ygrid.max()], interpolation=\"none\", cmap=cm.gray_r)\n",
    "\n",
    "ax.set_axis_off()\n",
    "\n",
    "# Ajoute un titre à l'image et nome les axes\n",
    "ax.set_title(\"Ensemble de Mandelbrot\")\n",
    "\n",
    "plt.show()"
   ]
  },
  {
   "cell_type": "markdown",
   "metadata": {},
   "source": [
    "## Une implémentation Python"
   ]
  },
  {
   "cell_type": "markdown",
   "metadata": {},
   "source": [
    "Note: ce script Python peut également être téléchargé [ici](https://raw.githubusercontent.com/jeremiedecock/snippets/master/python/matplotlib/mandelbrot/mandelbrot.py)."
   ]
  },
  {
   "cell_type": "markdown",
   "metadata": {},
   "source": [
    "Commençons par importer les paquets requis :"
   ]
  },
  {
   "cell_type": "code",
   "execution_count": null,
   "metadata": {
    "collapsed": true
   },
   "outputs": [],
   "source": [
    "import numpy as np\n",
    "import matplotlib.pyplot as plt\n",
    "from mpl_toolkits.mplot3d import axes3d\n",
    "from matplotlib import cm"
   ]
  },
  {
   "cell_type": "markdown",
   "metadata": {},
   "source": [
    "Puis définissons l'ensemble de Mandelbrot par itérations successives :"
   ]
  },
  {
   "cell_type": "code",
   "execution_count": null,
   "metadata": {
    "collapsed": true
   },
   "outputs": [],
   "source": [
    "EPSILON_MAX = 2.\n",
    "NUM_IT_MAX = 32\n",
    "Z_INIT = complex(0, 0)\n",
    "\n",
    "def mandelbrot_version1(x, y):\n",
    "    it = 0\n",
    "    z = Z_INIT\n",
    "    c = complex(x, y)\n",
    "\n",
    "    # Rem: abs(z) = |z| = math.sqrt(pow(z.imag,2) + pow(z.real,2))\n",
    "    while it < NUM_IT_MAX and abs(z) <= EPSILON_MAX:\n",
    "        z = z**2 + c\n",
    "        it += 1\n",
    "\n",
    "    return 1 if it == NUM_IT_MAX else 0\n",
    "\n",
    "def mandelbrot_version2(x, y):\n",
    "    it = 0\n",
    "    z = Z_INIT\n",
    "    c = complex(x, y)\n",
    "\n",
    "    # Rem: abs(z) = |z| = math.sqrt(pow(z.imag,2) + pow(z.real,2))\n",
    "    while it < NUM_IT_MAX and abs(z) <= EPSILON_MAX:\n",
    "        z = z**2 + c\n",
    "        it += 1\n",
    "\n",
    "    return it"
   ]
  },
  {
   "cell_type": "markdown",
   "metadata": {},
   "source": [
    "`mandelbrot_version1` définie l'ensemble de Mandelbrot ; `mandelbrot_version2` est une fonction alternative qui permet de voir à quelle vitesse la suite diverge (la fonction retroune une valeur d'autant plus petite que le nombre complexe $c = x + yi$ fait diverger la suite rapidement).\n",
    "\n",
    "Nous pouvons maintenant représenter graphiquement l'ensemble de Mandelbrot dans le plan complexe (plus la suite diverge vite plus le point image du nombre complexe $c=x+yi$ est claire) :"
   ]
  },
  {
   "cell_type": "code",
   "execution_count": null,
   "metadata": {
    "collapsed": true
   },
   "outputs": [],
   "source": [
    "REAL_RANGE = np.linspace(-2.0, 1.0, 800).tolist()\n",
    "IMAG_RANGE = np.linspace(-1.2, 1.2, 800).tolist()\n",
    "\n",
    "# Définie un ensemble de points c et vérifie leur appartenance à l'ensemble de Mandelbrot\n",
    "xgrid, ygrid = np.meshgrid(REAL_RANGE, IMAG_RANGE)\n",
    "data = np.array([mandelbrot_version2(x, y) for y in IMAG_RANGE for x in REAL_RANGE]).reshape(len(IMAG_RANGE), len(REAL_RANGE))\n",
    "\n",
    "# Génère l'image\n",
    "fig, ax = plt.subplots()\n",
    "ax.imshow(data, extent=[xgrid.min(), xgrid.max(), ygrid.min(), ygrid.max()], interpolation=\"bicubic\", cmap=cm.Blues)\n",
    "\n",
    "# Ajoute un titre à l'image et nome les axes\n",
    "ax.set_title(\"Ensemble de Mandelbrot\")\n",
    "ax.set_xlabel(\"Re(c)\")\n",
    "ax.set_ylabel(\"Im(c)\")\n",
    "\n",
    "plt.show()"
   ]
  },
  {
   "cell_type": "markdown",
   "metadata": {},
   "source": [
    "Nous pouvons aussi représenter cet ensemble en 3 dimensions pour mieux mettre en évidence l'aspect itératif du processus de construction de l'ensemble de Mandelbrot."
   ]
  },
  {
   "cell_type": "code",
   "execution_count": null,
   "metadata": {
    "collapsed": true
   },
   "outputs": [],
   "source": [
    "REAL_RANGE = np.arange(-2.0, 1.0, 0.05).tolist()\n",
    "IMAG_RANGE = np.arange(-1.2, 1.2, 0.05).tolist()\n",
    "\n",
    "# Définie un ensemble de points c et vérifie leur appartenance à l'ensemble de Mandelbrot\n",
    "xgrid, ygrid = np.meshgrid(REAL_RANGE, IMAG_RANGE)\n",
    "data = np.array([mandelbrot_version2(x, y) for y in IMAG_RANGE for x in REAL_RANGE]).reshape(len(IMAG_RANGE), len(REAL_RANGE))\n",
    "\n",
    "# Génère la figure\n",
    "fig = plt.figure()\n",
    "ax = axes3d.Axes3D(fig)\n",
    "ax.plot_surface(xgrid, ygrid, data, cmap=cm.jet, rstride=1, cstride=1, color='b', shade=True)\n",
    "\n",
    "# Ajoute un titre à l'image et nome les axes\n",
    "plt.title(\"Ensemble de Mandelbrot\")\n",
    "ax.set_xlabel(\"Re(c)\")\n",
    "ax.set_ylabel(\"Im(c)\")\n",
    "ax.set_zlabel(\"Itérations\")\n",
    "\n",
    "plt.show()"
   ]
  }
 ],
 "metadata": {
  "anaconda-cloud": {},
  "celltoolbar": "Tags",
  "kernelspec": {
   "display_name": "Python [default]",
   "language": "python",
   "name": "python3"
  },
  "language_info": {
   "codemirror_mode": {
    "name": "ipython",
    "version": 3
   },
   "file_extension": ".py",
   "mimetype": "text/x-python",
   "name": "python",
   "nbconvert_exporter": "python",
   "pygments_lexer": "ipython3",
   "version": "3.5.3"
  }
 },
 "nbformat": 4,
 "nbformat_minor": 1
}
