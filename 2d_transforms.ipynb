{
 "metadata": {
  "name": "",
  "signature": "sha256:fb5baf6ebec4893b769054b7a6c61c27620a6555c143d1bc2566897f2ff8ca0c"
 },
 "nbformat": 3,
 "nbformat_minor": 0,
 "worksheets": [
  {
   "cells": [
    {
     "cell_type": "markdown",
     "metadata": {},
     "source": [
      "Source:\n",
      "* *Programmation des jeux 3D*, Andr\u00e9 Lamotte, John Ratcliff, Mark Seminatore, Denise Tyler (Simon & Schuster Macmillan, 1995)\n",
      "\n",
      "###\u00a0Translation matrix\n",
      "\n",
      "$$\n",
      "T = \n",
      "\\begin{pmatrix}\n",
      "1   & 0   & 0 \\\\\n",
      "0   & 1   & 0 \\\\\n",
      "t_x & t_y & 1 \\\\\n",
      "\\end{pmatrix}\n",
      "$$\n",
      "\n",
      "### Scale matrix\n",
      "\n",
      "$$\n",
      "S = \n",
      "\\begin{pmatrix}\n",
      "s_x  & 0   & 0 \\\\\n",
      "0    & s_x & 0 \\\\\n",
      "0    & 0   & 1 \\\\\n",
      "\\end{pmatrix}\n",
      "$$\n",
      "\n",
      "### Rotation matrix\n",
      "\n",
      "$$\n",
      "R = \n",
      "\\begin{pmatrix}\n",
      "cos(\\theta) & -sin(\\theta) & 0 \\\\\n",
      "sin(\\theta) &  cos(\\theta) & 0 \\\\\n",
      "0           &  0           & 1 \\\\\n",
      "\\end{pmatrix}\n",
      "$$\n",
      "\n",
      "### General transformation matrix\n",
      "\n",
      "$$\n",
      "R = \n",
      "\\begin{pmatrix}\n",
      "s_x . cos(\\theta) & s_x . -sin(\\theta) & 0 \\\\\n",
      "s_y sin(\\theta)   & s_y cos(\\theta)    & 0 \\\\\n",
      "t_x               &  t_y               & 1 \\\\\n",
      "\\end{pmatrix}\n",
      "$$"
     ]
    }
   ],
   "metadata": {}
  }
 ]
}