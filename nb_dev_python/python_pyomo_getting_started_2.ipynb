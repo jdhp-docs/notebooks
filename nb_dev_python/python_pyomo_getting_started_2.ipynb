{
 "cells": [
  {
   "cell_type": "markdown",
   "metadata": {},
   "source": [
    "# Pyomo - Getting started"
   ]
  },
  {
   "cell_type": "markdown",
   "metadata": {},
   "source": [
    "Pyomo installation: see http://www.pyomo.org/installation\n",
    "\n",
    "```\n",
    "pip install pyomo\n",
    "```"
   ]
  },
  {
   "cell_type": "code",
   "execution_count": null,
   "metadata": {},
   "outputs": [],
   "source": [
    "from pyomo.environ import *"
   ]
  },
  {
   "cell_type": "markdown",
   "metadata": {},
   "source": [
    "## Definition of the problem"
   ]
  },
  {
   "cell_type": "markdown",
   "metadata": {},
   "source": [
    "$$\n",
    "\\begin{align}\n",
    "    \\min_{x_0,x_1} & \\quad -x_0 + 4 x_1 \\\\\n",
    "    \\text{s.t.}    & \\quad -3 x_0 + x_1 \\leq 6 \\\\\n",
    "                   & \\quad -x_0 - 2 x_1 \\geq -4 \\\\\n",
    "                   & \\quad  x_1 \\geq -3\n",
    "\\end{align}\n",
    "$$"
   ]
  },
  {
   "cell_type": "markdown",
   "metadata": {},
   "source": [
    "## Solution"
   ]
  },
  {
   "cell_type": "markdown",
   "metadata": {},
   "source": [
    "### Version 1: naive implementation"
   ]
  },
  {
   "cell_type": "code",
   "execution_count": null,
   "metadata": {},
   "outputs": [],
   "source": [
    "model = ConcreteModel(name=\"Getting started\", )\n",
    "\n",
    "c = [-1, 4]\n",
    "b = [ 6, 4, 3]\n",
    "A = [[-3,  1],\n",
    "     [ 1,  2],\n",
    "     [ 0, -1]]\n",
    "\n",
    "N = list(range(len(c)))    # num decision variables\n",
    "M = list(range(len(A)))    # num constraints\n",
    "\n",
    "model.x = Var(N)\n",
    "\n",
    "model.obj = Objective(expr = sum(c[n] * model.x[n] for n in N) )\n",
    "\n",
    "m = 0\n",
    "model.const_0 = Constraint(expr = sum(A[m][n] * model.x[n] for n in N) <= b[m] )\n",
    "m = 1\n",
    "model.const_1 = Constraint(expr = sum(A[m][n] * model.x[n] for n in N) <= b[m] )\n",
    "m = 2\n",
    "model.const_2 = Constraint(expr = sum(A[m][n] * model.x[n] for n in N) <= b[m] )\n",
    "\n",
    "model.pprint()\n",
    "\n",
    "# @tail:\n",
    "print()\n",
    "print(\"-\" * 60)\n",
    "print()\n",
    "\n",
    "opt = SolverFactory('glpk')\n",
    "\n",
    "results = opt.solve(model)\n",
    "\n",
    "model.display()\n",
    "\n",
    "print()\n",
    "print(\"Optimal solution: \", [value(model.x[n]) for n in N])\n",
    "print(\"Gain of the optimal solution: \", value(model.obj))\n",
    "# @:tail"
   ]
  },
  {
   "cell_type": "markdown",
   "metadata": {},
   "source": [
    "### Version 2: without construction rules"
   ]
  },
  {
   "cell_type": "code",
   "execution_count": null,
   "metadata": {},
   "outputs": [],
   "source": [
    "model = ConcreteModel(name=\"Getting started\", )\n",
    "\n",
    "c = [-1, 4]\n",
    "b = [ 6, 4, 3]\n",
    "A = [[-3,  1],\n",
    "     [ 1,  2],\n",
    "     [ 0, -1]]\n",
    "\n",
    "N = list(range(len(c)))    # num decision variables\n",
    "M = list(range(len(A)))    # num constraints\n",
    "\n",
    "model.x = Var(N)\n",
    "\n",
    "model.obj = Objective(expr = sum(c[n] * model.x[n] for n in N) )\n",
    "\n",
    "for m in M:\n",
    "    name = \"const_{}\".format(m)\n",
    "    val = Constraint(expr = sum(A[m][n] * model.x[n] for n in N) <= b[m])\n",
    "    model.add_component(name=name, val=val)\n",
    "\n",
    "model.pprint()\n",
    "\n",
    "# @tail:\n",
    "print()\n",
    "print(\"-\" * 60)\n",
    "print()\n",
    "\n",
    "opt = SolverFactory('glpk')\n",
    "\n",
    "results = opt.solve(model)\n",
    "\n",
    "model.display()\n",
    "\n",
    "print()\n",
    "print(\"Optimal solution: \", [value(model.x[n]) for n in N])\n",
    "print(\"Gain of the optimal solution: \", value(model.obj))\n",
    "# @:tail"
   ]
  },
  {
   "cell_type": "markdown",
   "metadata": {},
   "source": [
    "### Version 3: with construction rules"
   ]
  },
  {
   "cell_type": "code",
   "execution_count": null,
   "metadata": {},
   "outputs": [],
   "source": [
    "model = ConcreteModel(name=\"Getting started\", )\n",
    "\n",
    "c = [-1, 4]\n",
    "b = [ 6, 4, 3]\n",
    "A = [[-3,  1],\n",
    "     [ 1,  2],\n",
    "     [ 0, -1]]\n",
    "\n",
    "N = list(range(len(c)))    # num decision variables\n",
    "M = list(range(len(A)))    # num constraints\n",
    "\n",
    "model.x = Var(N)\n",
    "\n",
    "model.obj = Objective(expr = sum(c[n] * model.x[n] for n in N) )\n",
    "\n",
    "def constraint_fn(model, m):\n",
    "    return sum(A[m][n] * model.x[n] for n in N) <= b[m]\n",
    "\n",
    "model.constraint = Constraint(M, rule=constraint_fn)\n",
    "\n",
    "model.pprint()\n",
    "\n",
    "# @tail:\n",
    "print()\n",
    "print(\"-\" * 60)\n",
    "print()\n",
    "\n",
    "opt = SolverFactory('glpk')\n",
    "\n",
    "results = opt.solve(model)\n",
    "\n",
    "model.display()\n",
    "\n",
    "print()\n",
    "print(\"Optimal solution: \", [value(model.x[n]) for n in N])\n",
    "print(\"Gain of the optimal solution: \", value(model.obj))\n",
    "# @:tail"
   ]
  },
  {
   "cell_type": "markdown",
   "metadata": {},
   "source": [
    "### Version 4: construction rules on Objective too"
   ]
  },
  {
   "cell_type": "code",
   "execution_count": null,
   "metadata": {},
   "outputs": [],
   "source": [
    "model = ConcreteModel(name=\"Getting started\", )\n",
    "\n",
    "c = [-1, 4]\n",
    "b = [ 6, 4, 3]\n",
    "A = [[-3,  1],\n",
    "     [ 1,  2],\n",
    "     [ 0, -1]]\n",
    "\n",
    "N = list(range(len(c)))    # num decision variables\n",
    "M = list(range(len(A)))    # num constraints\n",
    "\n",
    "model.x = Var(N)\n",
    "\n",
    "\n",
    "def objective_fn(model):\n",
    "    return sum(c[n] * model.x[n] for n in N)\n",
    "\n",
    "model.obj = Objective(rule=objective_fn)\n",
    "\n",
    "\n",
    "def constraint_fn(model, m):\n",
    "    return sum(A[m][n] * model.x[n] for n in N) <= b[m]\n",
    "\n",
    "model.constraint = Constraint(M, rule=constraint_fn)\n",
    "\n",
    "\n",
    "model.pprint()\n",
    "\n",
    "# @tail:\n",
    "print()\n",
    "print(\"-\" * 60)\n",
    "print()\n",
    "\n",
    "opt = SolverFactory('glpk')\n",
    "\n",
    "results = opt.solve(model)\n",
    "\n",
    "model.display()\n",
    "\n",
    "print()\n",
    "print(\"Optimal solution: \", [value(model.x[n]) for n in N])\n",
    "print(\"Gain of the optimal solution: \", value(model.obj))\n",
    "# @:tail"
   ]
  }
 ],
 "metadata": {
  "kernelspec": {
   "display_name": "Python 3",
   "language": "python",
   "name": "python3"
  },
  "language_info": {
   "codemirror_mode": {
    "name": "ipython",
    "version": 3
   },
   "file_extension": ".py",
   "mimetype": "text/x-python",
   "name": "python",
   "nbconvert_exporter": "python",
   "pygments_lexer": "ipython3",
   "version": "3.7.1"
  }
 },
 "nbformat": 4,
 "nbformat_minor": 2
}
