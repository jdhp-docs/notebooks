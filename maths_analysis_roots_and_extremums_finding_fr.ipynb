{
 "cells": [
  {
   "cell_type": "markdown",
   "metadata": {},
   "source": [
    "## Polynômes du premier degré (fonctions affines)"
   ]
  },
  {
   "cell_type": "markdown",
   "metadata": {},
   "source": [
    "Solution de l'équation affine $ax + b = 0$:\n",
    "\n",
    "* si $a \\neq 0$, alors un nombre réel unique est solution : $$S = \\left\\{ - ~ \\frac{b}{a} \\right\\}$$\n",
    "* si $a \\neq 0$, alors aucun nombre réel n'est solution : $$S = \\emptyset$$\n",
    "* si $a = 0$ et $b = 0$, alors tout nombre réel est solution : $$S = \\mathbb{R}$$"
   ]
  },
  {
   "cell_type": "markdown",
   "metadata": {},
   "source": [
    "## Polynômes du second degré (fonctions quadratiques)"
   ]
  },
  {
   "cell_type": "markdown",
   "metadata": {},
   "source": [
    "Solution de l'équation du second degré $ax^2 + bx + c = 0$:\n",
    "\n",
    "$$\n",
    "\\begin{array}{|c|c|c|c|}\n",
    "\\hline\n",
    "& \\text{Si } \\Delta < 0 & \\text{Si } \\Delta = 0 & \\text{Si } \\Delta > 0 \\\\\n",
    "\\hline\n",
    "\\text{Racines} & - & x_0 = \\frac{-b}{2a} & x_1 = \\frac{-b - \\sqrt{\\Delta}}{2a} ~ ; ~ x_2 = \\frac{-b + \\sqrt{\\Delta}}{2a} \\\\\n",
    "\\hline\n",
    "\\text{Factorisation} & - & f(x) = a (x - x_0)^2 & f(x) = a(x - x_1)(x - x_2) \\\\\n",
    "\\hline\n",
    "\\end{array}\n",
    "$$\n",
    "\n",
    "avec $\\Delta = b^2 - 4ac$ le **discriminant** du polynome $ax^2 + bx + c$.\n",
    "\n",
    "Extrémum du polynome $ax^2 + bx + c$:\n",
    "\n",
    "$$x^* = - ~ \\frac{b}{2a}$$\n",
    "\n",
    "$$f(x^*) = - ~ \\frac{\\Delta}{4a}$$\n",
    "\n",
    "Explication: $x^*$ est la valeur qui vérifie $f'(x) = 0$, i.e. $x^*$ est la solution de l'équation $2ax + b = 0$."
   ]
  },
  {
   "cell_type": "markdown",
   "metadata": {},
   "source": [
    "## Polynômes du troisième degré (fonctions cubiques)"
   ]
  },
  {
   "cell_type": "markdown",
   "metadata": {},
   "source": [
    "..."
   ]
  }
 ],
 "metadata": {
  "kernelspec": {
   "display_name": "Python [default]",
   "language": "python",
   "name": "python3"
  },
  "language_info": {
   "codemirror_mode": {
    "name": "ipython",
    "version": 3
   },
   "file_extension": ".py",
   "mimetype": "text/x-python",
   "name": "python",
   "nbconvert_exporter": "python",
   "pygments_lexer": "ipython3",
   "version": "3.5.3"
  }
 },
 "nbformat": 4,
 "nbformat_minor": 2
}
