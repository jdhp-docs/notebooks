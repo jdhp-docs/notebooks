{
 "cells": [
  {
   "cell_type": "markdown",
   "metadata": {},
   "source": [
    "# Qualité de l'air mesurée dans la station Châtelet"
   ]
  },
  {
   "cell_type": "markdown",
   "metadata": {},
   "source": [
    "Source de données utilisée (fichiers CSV en open data): https://data.iledefrance.fr/explore/dataset/qualite-de-lair-mesuree-dans-la-station-chatelet/"
   ]
  },
  {
   "cell_type": "markdown",
   "metadata": {},
   "source": [
    "**TODO**: l'index du *dataframe* devrait être constitué de la fusion des deux premières colonnes avec le bon *dtype* (un *datetime* Pandas)."
   ]
  },
  {
   "cell_type": "markdown",
   "metadata": {},
   "source": [
    "## Récupération des données"
   ]
  },
  {
   "cell_type": "code",
   "execution_count": null,
   "metadata": {},
   "outputs": [],
   "source": [
    "%matplotlib inline\n",
    "#%matplotlib notebook\n",
    "\n",
    "import matplotlib\n",
    "matplotlib.rcParams['figure.figsize'] = (9, 9)\n",
    "\n",
    "import pandas as pd"
   ]
  },
  {
   "cell_type": "code",
   "execution_count": null,
   "metadata": {},
   "outputs": [],
   "source": [
    "def conv_func(s):\n",
    "    s = s.replace('<', '')\n",
    "    if s == 'ND':\n",
    "        return np.nan\n",
    "    elif s.strip() == '':\n",
    "        return np.nan\n",
    "    else:\n",
    "        return float(s)"
   ]
  },
  {
   "cell_type": "code",
   "execution_count": null,
   "metadata": {},
   "outputs": [],
   "source": [
    "url = \"https://data.iledefrance.fr/explore/dataset/qualite-de-lair-mesuree-dans-la-station-chatelet/download/?format=csv&timezone=Europe/Berlin&use_labels_for_header=true\"\n",
    "\n",
    "#dtype_dict = {'NO': np.float64,\n",
    "#              'NO2': np.float64,\n",
    "#              'PM10': np.float64,\n",
    "#              'CO2': np.float64,\n",
    "#              'TEMP': np.float64,\n",
    "#              'HUMI': np.float64}\n",
    "\n",
    "converter_dict = {'NO': conv_func,\n",
    "                  'NO2': conv_func,\n",
    "                  'PM10': conv_func,\n",
    "                  'CO2': conv_func,\n",
    "                  'TEMP': conv_func,\n",
    "                  'HUMI': conv_func}\n",
    "\n",
    "df = pd.read_csv(url,\n",
    "                 #encoding='iso-8859-1',\n",
    "                 index_col=0,\n",
    "                 sep=';',\n",
    "                 decimal=',',\n",
    "                 parse_dates=[\"DATE/HEURE\"],\n",
    "                 #dtype=dtype_dict,\n",
    "                 #na_values='ND',\n",
    "                 converters=converter_dict)\n",
    "\n",
    "#df.astype(dtype_dict)\n",
    "df"
   ]
  },
  {
   "cell_type": "code",
   "execution_count": null,
   "metadata": {},
   "outputs": [],
   "source": [
    "df = df.sort_index()"
   ]
  },
  {
   "cell_type": "code",
   "execution_count": null,
   "metadata": {},
   "outputs": [],
   "source": [
    "df.index"
   ]
  },
  {
   "cell_type": "code",
   "execution_count": null,
   "metadata": {},
   "outputs": [],
   "source": [
    "df.dtypes"
   ]
  },
  {
   "cell_type": "code",
   "execution_count": null,
   "metadata": {},
   "outputs": [],
   "source": [
    "df.columns"
   ]
  },
  {
   "cell_type": "code",
   "execution_count": null,
   "metadata": {},
   "outputs": [],
   "source": [
    "df.loc[:,['PM10', 'CO2']].plot(figsize=(16,6))"
   ]
  },
  {
   "cell_type": "code",
   "execution_count": null,
   "metadata": {},
   "outputs": [],
   "source": [
    "df.PM10.plot(figsize=(18,6))"
   ]
  },
  {
   "cell_type": "code",
   "execution_count": null,
   "metadata": {},
   "outputs": [],
   "source": [
    "df.PM10.resample('1D').mean().plot(figsize=(18,6))"
   ]
  },
  {
   "cell_type": "code",
   "execution_count": null,
   "metadata": {},
   "outputs": [],
   "source": [
    "df.PM10.rolling('7D').mean().plot(figsize=(18,6))"
   ]
  },
  {
   "cell_type": "code",
   "execution_count": null,
   "metadata": {},
   "outputs": [],
   "source": [
    "df.PM10.resample('1M').mean().plot(figsize=(18,6))"
   ]
  },
  {
   "cell_type": "code",
   "execution_count": null,
   "metadata": {},
   "outputs": [],
   "source": [
    "ax = df.PM10.groupby(df.index.time).mean().plot(figsize=(18,6), color=\"blue\")\n",
    "\n",
    "ax.set_xlabel(\"Time\")\n",
    "\n",
    "ax2 = ax.twinx()\n",
    "df.TEMP.groupby(df.index.time).mean().plot(ax=ax2, color=\"red\")\n",
    "\n",
    "ax.legend(loc='upper left')\n",
    "ax2.legend(loc='upper right');"
   ]
  },
  {
   "cell_type": "code",
   "execution_count": null,
   "metadata": {},
   "outputs": [],
   "source": [
    "ax = df.PM10.groupby(df.index.weekday).mean().plot(figsize=(18,6), color=\"blue\")\n",
    "\n",
    "ax.set_xlabel(\"Weekday\")\n",
    "\n",
    "ax2 = ax.twinx()\n",
    "df.TEMP.groupby(df.index.weekday).mean().plot(ax=ax2, color=\"red\")\n",
    "\n",
    "ax.legend(loc='upper left')\n",
    "ax2.legend(loc='upper right');"
   ]
  },
  {
   "cell_type": "code",
   "execution_count": null,
   "metadata": {},
   "outputs": [],
   "source": [
    "ax = df.PM10.groupby(df.index.month).mean().plot(figsize=(18,6), color=\"blue\")\n",
    "\n",
    "ax.set_xlabel(\"Month\")\n",
    "\n",
    "ax2 = ax.twinx()\n",
    "df.TEMP.groupby(df.index.month).mean().plot(ax=ax2, color=\"red\")\n",
    "\n",
    "ax.legend(loc='upper left')\n",
    "ax2.legend(loc='upper right');"
   ]
  },
  {
   "cell_type": "code",
   "execution_count": null,
   "metadata": {},
   "outputs": [],
   "source": [
    "df.loc[:,['NO', 'NO2']].plot(figsize=(16,6))"
   ]
  },
  {
   "cell_type": "code",
   "execution_count": null,
   "metadata": {},
   "outputs": [],
   "source": [
    "df.loc[:,['TEMP', 'HUMI']].plot(figsize=(16,6))"
   ]
  }
 ],
 "metadata": {
  "kernelspec": {
   "display_name": "Python 3",
   "language": "python",
   "name": "python3"
  },
  "language_info": {
   "codemirror_mode": {
    "name": "ipython",
    "version": 3
   },
   "file_extension": ".py",
   "mimetype": "text/x-python",
   "name": "python",
   "nbconvert_exporter": "python",
   "pygments_lexer": "ipython3",
   "version": "3.6.5"
  }
 },
 "nbformat": 4,
 "nbformat_minor": 2
}
