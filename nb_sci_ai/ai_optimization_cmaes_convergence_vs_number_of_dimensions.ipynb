{
 "cells": [
  {
   "cell_type": "markdown",
   "metadata": {},
   "source": [
    "# PyCMA"
   ]
  },
  {
   "cell_type": "code",
   "execution_count": null,
   "metadata": {},
   "outputs": [],
   "source": [
    "%matplotlib inline\n",
    "\n",
    "import cma\n",
    "import pandas as pd\n",
    "import seaborn as sns\n",
    "import matplotlib\n",
    "import matplotlib.pyplot as plt"
   ]
  },
  {
   "cell_type": "code",
   "execution_count": null,
   "metadata": {},
   "outputs": [],
   "source": [
    "sns.set_context(\"talk\")\n",
    "plt.rcParams['figure.figsize'] = 20,10"
   ]
  },
  {
   "cell_type": "code",
   "execution_count": null,
   "metadata": {},
   "outputs": [],
   "source": [
    "init_lower_bound = -10.\n",
    "init_higher_bound = 10.\n",
    "\n",
    "NUM_RUNS = 1000\n",
    "DIMS = (2, 3, 4, 5, 6)\n",
    "F_TARGET = 1e-30\n",
    "\n",
    "fitness = cma.ff.sphere\n",
    "fitness_name = \"Sphere\"\n",
    "\n",
    "fitness = cma.ff.rastrigin\n",
    "fitness_name = \"Rastrigin\"\n",
    "\n",
    "fitness = cma.ff.rosen\n",
    "fitness_name = \"Rosenbrock\""
   ]
  },
  {
   "cell_type": "code",
   "execution_count": null,
   "metadata": {},
   "outputs": [],
   "source": [
    "solutions_list = []\n",
    "run_id = 0\n",
    "num_dim = None\n",
    "dim_index_list = []\n",
    "\n",
    "def callback_function(es):\n",
    "    global gen_id\n",
    "    global eval_id\n",
    "    global num_dim\n",
    "    \n",
    "    gen_id += 1\n",
    "    \n",
    "    indiv_dict = {\n",
    "        \"gen\": gen_id,\n",
    "        \"run\": run_id,\n",
    "        \"num_dim\": num_dim,\n",
    "        #\"best_x\": es.best.x,\n",
    "        \"best_f\": es.best.f,\n",
    "        \"best_evals\": es.best.evals,\n",
    "        \"sigma\": es.sigma,\n",
    "    }\n",
    "    \n",
    "    solutions_list.append(indiv_dict)\n",
    "\n",
    "for ndim in DIMS:\n",
    "    for run in range(1, NUM_RUNS):\n",
    "        run_id = run\n",
    "        num_dim = ndim\n",
    "        gen_id = 0\n",
    "        \n",
    "        print(\"{}D run {}\".format(ndim, run))\n",
    "\n",
    "        x0 = np.random.uniform(low=init_lower_bound, high=init_higher_bound, size=num_dim)    # initial solution\n",
    "        sigma0 = np.random.uniform(0., 1.)                                                    # initial standard deviation\n",
    "\n",
    "        x_optimal, es = cma.fmin2(fitness, x0, sigma0,\n",
    "                                  callback=callback_function,\n",
    "                                  options={'verbose': -9, 'ftarget': F_TARGET, 'maxfevals': 8000})    # See last example of http://cma.gforge.inria.fr/apidocs-pycma/cma.evolution_strategy.html#fmin\n",
    "\n",
    "df = pd.DataFrame(solutions_list)"
   ]
  },
  {
   "cell_type": "code",
   "execution_count": null,
   "metadata": {},
   "outputs": [],
   "source": [
    "ALPHA = 0.2\n",
    "\n",
    "ax = sns.lineplot(x=\"gen\", y=\"best_f\",\n",
    "                  estimator=None, units=\"run\", alpha=ALPHA,\n",
    "                  data=df.loc[df.num_dim == DIMS[0]])\n",
    "\n",
    "for dim in DIMS[1:]:\n",
    "    sns.lineplot(x=\"gen\", y=\"best_f\",\n",
    "                estimator=None, units=\"run\", alpha=ALPHA,\n",
    "                data=df.loc[df.num_dim == dim],\n",
    "                ax=ax)\n",
    "\n",
    "ax.set_yscale(\"log\")\n",
    "\n",
    "plt.grid()\n",
    "\n",
    "plt.title(\"Best fitness ({} runs)\".format(NUM_RUNS))\n",
    "\n",
    "plt.ylabel(\"Best fitness\")\n",
    "plt.xlabel(\"Number of generations\")\n",
    "\n",
    "legend_lines = []\n",
    "legend_str = []\n",
    "for dim in DIMS:\n",
    "    legend_lines.append(ax.get_lines()[(dim-1) * (NUM_RUNS-1) - 1])\n",
    "    legend_str.append(\"{} {}D\".format(fitness_name, dim))\n",
    "plt.legend(legend_lines, legend_str)\n",
    "\n",
    "plt.savefig(fitness_name.lower() + \".png\");"
   ]
  },
  {
   "cell_type": "code",
   "execution_count": null,
   "metadata": {},
   "outputs": [],
   "source": [
    "ax = sns.lineplot(x=\"gen\", y=\"best_f\",\n",
    "                  #estimator=None, units=\"run\", alpha=0.5,\n",
    "                  data=df.loc[df.num_dim == DIMS[0]],\n",
    "                  label=\"{} {}D\".format(fitness_name, DIMS[0]))\n",
    "\n",
    "for dim in DIMS[1:]:\n",
    "    sns.lineplot(x=\"gen\", y=\"best_f\",\n",
    "                 #estimator=None, units=\"run\", alpha=0.5,\n",
    "                 data=df.loc[df.num_dim == dim],\n",
    "                 label=\"{} {}D\".format(fitness_name, dim))\n",
    "\n",
    "ax.set_yscale(\"log\")\n",
    "\n",
    "plt.grid()\n",
    "\n",
    "plt.title(\"Mean of best fitness\")\n",
    "\n",
    "plt.ylabel(\"Mean of best fitness\")\n",
    "plt.xlabel(\"Number of generations\")\n",
    "\n",
    "plt.savefig(fitness_name.lower() + \"_avg.png\");"
   ]
  },
  {
   "cell_type": "code",
   "execution_count": null,
   "metadata": {},
   "outputs": [],
   "source": [
    "ax = sns.lineplot(x=\"gen\", y=\"best_f\",\n",
    "                  estimator=np.median,\n",
    "                  data=df.loc[df.num_dim == DIMS[0]],\n",
    "                  label=\"{} {}D\".format(fitness_name, DIMS[0]))\n",
    "\n",
    "for dim in DIMS[1:]:\n",
    "    sns.lineplot(x=\"gen\", y=\"best_f\",\n",
    "                 estimator=np.median,\n",
    "                 data=df.loc[df.num_dim == dim],\n",
    "                 label= \"{} {}D\".format(fitness_name, dim))\n",
    "\n",
    "ax.set_yscale(\"log\")\n",
    "\n",
    "plt.grid()\n",
    "\n",
    "plt.title(\"Median of best fitness\")\n",
    "\n",
    "plt.ylabel(\"Median of best fitness\")\n",
    "plt.xlabel(\"Number of generations\")\n",
    "\n",
    "plt.savefig(fitness_name.lower() + \"_med.png\");"
   ]
  },
  {
   "cell_type": "code",
   "execution_count": null,
   "metadata": {},
   "outputs": [],
   "source": [
    "df.to_csv(fitness_name.lower() + \".csv\")"
   ]
  }
 ],
 "metadata": {
  "anaconda-cloud": {},
  "celltoolbar": "Tags",
  "kernelspec": {
   "display_name": "Python 3",
   "language": "python",
   "name": "python3"
  },
  "language_info": {
   "codemirror_mode": {
    "name": "ipython",
    "version": 3
   },
   "file_extension": ".py",
   "mimetype": "text/x-python",
   "name": "python",
   "nbconvert_exporter": "python",
   "pygments_lexer": "ipython3",
   "version": "3.7.1"
  }
 },
 "nbformat": 4,
 "nbformat_minor": 2
}
