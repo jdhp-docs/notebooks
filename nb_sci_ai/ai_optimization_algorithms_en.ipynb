{
 "cells": [
  {
   "cell_type": "markdown",
   "metadata": {
    "tags": [
     "meta",
     "draft"
    ]
   },
   "source": [
    "# List of optimization methods"
   ]
  },
  {
   "cell_type": "markdown",
   "metadata": {
    "tags": [
     "hide"
    ]
   },
   "source": [
    "**TODO**\n",
    "* https://en.wikipedia.org/wiki/Mathematical_optimization#Computational_optimization_techniques\n",
    "\n",
    "Matlab doc:\n",
    "* https://www.mathworks.com/examples/global-optimization/mw/globaloptim-ex14506760-optimization-of-stochastic-objective-function\n",
    "* https://fr.mathworks.com/products/global-optimization/code-examples.html\n",
    "* https://fr.mathworks.com/help/gads/examples/optimization-of-stochastic-objective-function.html\n",
    "\n",
    "Pour chaque algorithme, faire un tableau résumant ses propriétés (local/global, pour les pb continu/discrets, pour les pb differentiable ou non, pour les pb multistage ou non, stochastic/deterministe, etc.), convergences connues, conseils, l'article de ref (+ auteurs et date), ...\n",
    "\n",
    "Rediriger pour chaque algo, vers mes implémentations pyai, l'implémentation de ref., ..."
   ]
  },
  {
   "cell_type": "markdown",
   "metadata": {},
   "source": [
    "## Local optimization"
   ]
  },
  {
   "cell_type": "markdown",
   "metadata": {
    "tags": [
     "hide"
    ]
   },
   "source": [
    "**TODO**\n",
    "* https://docs.scipy.org/doc/scipy/reference/optimize.html#local-optimization"
   ]
  },
  {
   "cell_type": "markdown",
   "metadata": {},
   "source": [
    "* Gradient algorithm\n",
    "* Conjugate gradient algorithm\n",
    "* Newton method\n",
    "* Quasi-Newton method\n",
    "  * [Wikipedia](https://en.wikipedia.org/wiki/Quasi-Newton_methods)\n",
    "* Broyden–Fletcher–Goldfarb–Shanno (BFGS)\n",
    "  * [Wikipedia](https://en.wikipedia.org/wiki/Broyden%E2%80%93Fletcher%E2%80%93Goldfarb%E2%80%93Shanno_algorithm)\n",
    "* L-BFGS\n",
    "  * [Wikipedia](https://en.wikipedia.org/wiki/L-BFGS)\n",
    "* L-BFGS-B\n",
    "* Powells' method\n",
    "  * [Wikipedia](https://en.wikipedia.org/wiki/Powell%27s_method)\n",
    "* NEWUOA\n",
    "  * [Wikipedia](https://en.wikipedia.org/wiki/NEWUOA)\n",
    "* Nelder-Mead\n",
    "  * [Wikipedia](https://en.wikipedia.org/wiki/Nelder%E2%80%93Mead_method)\n",
    "* Relaxed methods\n",
    "* Pattern search\n",
    "  * [Wikipedia](https://en.wikipedia.org/wiki/Pattern_search)"
   ]
  },
  {
   "cell_type": "markdown",
   "metadata": {},
   "source": [
    "## Global optimization"
   ]
  },
  {
   "cell_type": "markdown",
   "metadata": {
    "tags": [
     "hide"
    ]
   },
   "source": [
    "**TODO**\n",
    "* [Evolutionary algorithms](https://en.wikipedia.org/wiki/Evolutionary_algorithm)\n",
    "* [Algorithme_Evolutionnistes](https://fr.wikipedia.org/wiki/Algorithme_%C3%A9volutionniste)\n",
    "* http://www.scholarpedia.org/article/Metaheuristic_Optimization\n",
    "* http://www.scholarpedia.org/article/Metaheuristics"
   ]
  },
  {
   "cell_type": "markdown",
   "metadata": {},
   "source": [
    "* EDA\n",
    "  * [Dedicated notebook](http://www.jdhp.org/docs/notebook/ai_optimization_eda_en.html)\n",
    "* Basin-Hopping\n",
    "  * [Main web site](http://www-wales.ch.cam.ac.uk/)\n",
    "  * [Scipy's implementation](https://docs.scipy.org/doc/scipy/reference/generated/scipy.optimize.basinhopping.html#scipy.optimize.basinhopping)\n",
    "* Simulated Annealing\n",
    "  * [Scipy's implementation](https://docs.scipy.org/doc/scipy-0.14.0/reference/generated/scipy.optimize.anneal.html)\n",
    "  * [Scholarpedia](http://www.scholarpedia.org/article/Metaheuristic_Optimization#Simulated_Annealing)\n",
    "* Tabu search\n",
    "  * [Wikipedia](https://en.wikipedia.org/wiki/Tabu_search)\n",
    "  * [Scholarpedia](http://www.scholarpedia.org/article/Metaheuristic_Optimization#Tabu_Search)\n",
    "* Particle swarm\n",
    "  * [Wikipedia](https://en.wikipedia.org/wiki/Particle_swarm_optimization)\n",
    "  * [Scholarpedia](http://www.scholarpedia.org/article/Particle_swarm_optimization)\n",
    "* Ant colony optimization algorithms\n",
    "  * [Wikipedia](https://en.wikipedia.org/wiki/Ant_colony_optimization_algorithms)\n",
    "  * [Scholarpedia](http://www.scholarpedia.org/article/Ant_colony_optimization)\n",
    "* Bee algorithms\n",
    "  * [Wikipedia](https://en.wikipedia.org/wiki/Bees_algorithm)\n",
    "  * [Scholarpedia](http://www.scholarpedia.org/article/Artificial_bee_colony_algorithm)\n",
    "\n",
    "[Evolutionary algorithms](https://en.wikipedia.org/wiki/Evolutionary_algorithm):\n",
    "* CMA-ES\n",
    "  * [Dedicated notebook](http://www.jdhp.org/docs/notebook/ai_optimization_cmaes_en.html)\n",
    "* SAES\n",
    "  * [Dedicated notebook](http://www.jdhp.org/docs/notebook/ai_optimization_saes_en.html)\n",
    "* Differential Evolution\n",
    "  * [Dedicated notebook](http://www.jdhp.org/docs/notebook/ai_optimization_differential_evolution_en.html)"
   ]
  }
 ],
 "metadata": {
  "anaconda-cloud": {},
  "celltoolbar": "Tags",
  "kernelspec": {
   "display_name": "Python 3",
   "language": "python",
   "name": "python3"
  },
  "language_info": {
   "codemirror_mode": {
    "name": "ipython",
    "version": 3
   },
   "file_extension": ".py",
   "mimetype": "text/x-python",
   "name": "python",
   "nbconvert_exporter": "python",
   "pygments_lexer": "ipython3",
   "version": "3.6.3"
  }
 },
 "nbformat": 4,
 "nbformat_minor": 1
}
