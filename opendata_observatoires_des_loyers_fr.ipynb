{
 "cells": [
  {
   "cell_type": "markdown",
   "metadata": {},
   "source": [
    "# Observatoire des loyers"
   ]
  },
  {
   "cell_type": "markdown",
   "metadata": {},
   "source": [
    "Donn\u00e9es de l'observatoire des loyers (https://www.observatoires-des-loyers.org/):\n",
    "- source de donn\u00e9es utilis\u00e9e (fichiers CSV en open data): https://www.data.gouv.fr/fr/datasets/resultats-nationaux-des-observatoires-locaux-des-loyers/\n",
    "- exemple d'utilisation: https://www.miximum.fr/blog/premiers-tests-avec-le-machine-learning/"
   ]
  },
  {
   "cell_type": "markdown",
   "metadata": {},
   "source": [
    "## Remarque\n",
    "\n",
    "Ce jeu de donn\u00e9es a un gros d\u00e9faut: les statistiques au niveau des communes (ou des arrondissements) sont disponible que sur https://www.observatoires-des-loyers.org/ mais ont \u00e9t\u00e9 retir\u00e9es des fichiers CSV..."
   ]
  },
  {
   "cell_type": "markdown",
   "metadata": {},
   "source": [
    "## R\u00e9cup\u00e9ration des donn\u00e9es"
   ]
  },
  {
   "cell_type": "code",
   "execution_count": null,
   "metadata": {
    "collapsed": true
   },
   "outputs": [],
   "source": [
    "%matplotlib inline\n",
    "#%matplotlib notebook\n",
    "\n",
    "import matplotlib\n",
    "matplotlib.rcParams['figure.figsize'] = (9, 9)\n",
    "\n",
    "import pandas as pd"
   ]
  },
  {
   "cell_type": "code",
   "execution_count": null,
   "metadata": {
    "scrolled": false
   },
   "outputs": [],
   "source": [
    "url = \"https://www.data.gouv.fr/fr/datasets/r/1fee314d-c278-424f-a029-a74d877eb185\"\n",
    "df2016 = pd.read_csv(url,\n",
    "                     encoding='iso-8859-1',\n",
    "                     sep=';',\n",
    "                     decimal=',')"
   ]
  },
  {
   "cell_type": "code",
   "execution_count": null,
   "metadata": {
    "scrolled": false
   },
   "outputs": [],
   "source": [
    "url = \"https://www.data.gouv.fr/fr/datasets/r/15d902ed-4dc3-457d-9c5d-bfe1151cb573\"\n",
    "df2015 = pd.read_csv(url,\n",
    "                     encoding='iso-8859-1',\n",
    "                     sep=';',\n",
    "                     decimal=',')"
   ]
  },
  {
   "cell_type": "code",
   "execution_count": null,
   "metadata": {
    "scrolled": false
   },
   "outputs": [],
   "source": [
    "url = \"https://www.data.gouv.fr/fr/datasets/r/42aaf838-46c9-4434-95a9-00173c6d4627\"\n",
    "df2014 = pd.read_csv(url,\n",
    "                     encoding='iso-8859-1',\n",
    "                     sep=';', \n",
    "                     decimal=',')"
   ]
  },
  {
   "cell_type": "code",
   "execution_count": null,
   "metadata": {
    "collapsed": true
   },
   "outputs": [],
   "source": [
    "frames = [df2014, df2015, df2016]\n",
    "df = pd.concat(frames, ignore_index=True)"
   ]
  },
  {
   "cell_type": "markdown",
   "metadata": {},
   "source": [
    "## Informations utiles sur les donn\u00e9es"
   ]
  },
  {
   "cell_type": "code",
   "execution_count": null,
   "metadata": {
    "scrolled": false
   },
   "outputs": [],
   "source": [
    "df.shape"
   ]
  },
  {
   "cell_type": "code",
   "execution_count": null,
   "metadata": {
    "scrolled": true
   },
   "outputs": [],
   "source": [
    "df.columns"
   ]
  },
  {
   "cell_type": "markdown",
   "metadata": {},
   "source": [
    "## Donn\u00e9es par agglom\u00e9ration"
   ]
  },
  {
   "cell_type": "code",
   "execution_count": null,
   "metadata": {
    "scrolled": false
   },
   "outputs": [],
   "source": [
    "#df.Observatory.value_counts().plot.barh()"
   ]
  },
  {
   "cell_type": "code",
   "execution_count": null,
   "metadata": {
    "scrolled": false
   },
   "outputs": [],
   "source": [
    "df.agglomeration.value_counts().plot.barh()"
   ]
  },
  {
   "cell_type": "markdown",
   "metadata": {},
   "source": [
    "## Paris intra-muros"
   ]
  },
  {
   "cell_type": "code",
   "execution_count": null,
   "metadata": {
    "collapsed": true
   },
   "outputs": [],
   "source": [
    "dfp = df[df.agglomeration == \"Paris intra-muros\"]"
   ]
  },
  {
   "cell_type": "code",
   "execution_count": null,
   "metadata": {},
   "outputs": [],
   "source": [
    "fig, (ax1, ax2) = plt.subplots(ncols=2, nrows=1, figsize=(10, 5))\n",
    "\n",
    "dfp[dfp.Data_year == 2014].Type_habitat.value_counts().plot.pie(y=\"Type_habitat\", ax=ax1)\n",
    "dfp[dfp.Data_year == 2015].Type_habitat.value_counts().plot.pie(y=\"Type_habitat\", ax=ax2)\n",
    "#dfp[dfp.Data_year == 2016].Type_habitat.value_counts().plot.pie(y=\"Type_habitat\", ax=ax3)"
   ]
  },
  {
   "cell_type": "code",
   "execution_count": null,
   "metadata": {},
   "outputs": [],
   "source": [
    "dfp[dfp.Data_year == 2014].plot.scatter(x=\"moyenne_loyer_mensuel\",\n",
    "                                        y=\"surface_moyenne\",\n",
    "                                        s=dfp[dfp.Data_year == 2014].nombre_obsservations,\n",
    "                                        alpha=0.1)"
   ]
  },
  {
   "cell_type": "code",
   "execution_count": null,
   "metadata": {
    "scrolled": false
   },
   "outputs": [],
   "source": [
    "dfp[dfp.Data_year == 2015].plot.scatter(x=\"moyenne_loyer_mensuel\",\n",
    "                                        y=\"surface_moyenne\",\n",
    "                                        #s=dfp[dfp.Data_year == 2015].nombre_obsservations,\n",
    "                                        #c=\"blue\",\n",
    "                                        alpha=0.5)"
   ]
  },
  {
   "cell_type": "markdown",
   "metadata": {},
   "source": [
    "**Remarque**: pourquoi cette grosse diff\u00e9rence avec l'ann\u00e9e pr\u00e9c\u00e9dente ?"
   ]
  },
  {
   "cell_type": "markdown",
   "metadata": {},
   "source": [
    "## R\u00e9gion Parisienne"
   ]
  },
  {
   "cell_type": "code",
   "execution_count": null,
   "metadata": {},
   "outputs": [],
   "source": [
    "dfp = df[df.agglomeration == \"Agglom\u00e9ration parisienne\"]"
   ]
  },
  {
   "cell_type": "code",
   "execution_count": null,
   "metadata": {},
   "outputs": [],
   "source": [
    "fig, (ax1, ax2) = plt.subplots(ncols=2, nrows=1, figsize=(10, 5))\n",
    "\n",
    "dfp[dfp.Data_year == 2014].Type_habitat.value_counts().plot.pie(y=\"Type_habitat\", ax=ax1)\n",
    "dfp[dfp.Data_year == 2015].Type_habitat.value_counts().plot.pie(y=\"Type_habitat\", ax=ax2)"
   ]
  },
  {
   "cell_type": "code",
   "execution_count": null,
   "metadata": {},
   "outputs": [],
   "source": [
    "dfp[dfp.Data_year == 2014].plot.scatter(x=\"moyenne_loyer_mensuel\",\n",
    "                                        y=\"surface_moyenne\",\n",
    "                                        #c=dfp[dfp.Data_year == 2014].nombre_obsservations,\n",
    "                                        alpha=0.5)\n",
    "                                        #cmap=\"Blues\")"
   ]
  },
  {
   "cell_type": "code",
   "execution_count": null,
   "metadata": {},
   "outputs": [],
   "source": [
    "dfp[dfp.Data_year == 2015].plot.scatter(x=\"moyenne_loyer_mensuel\",\n",
    "                                        y=\"surface_moyenne\",\n",
    "                                        #s=dfp[dfp.Data_year == 2015].nombre_obsservations,\n",
    "                                        #c=\"blue\",\n",
    "                                        alpha=0.5)"
   ]
  },
  {
   "cell_type": "markdown",
   "metadata": {},
   "source": [
    "## R\u00e9gion Parisienne"
   ]
  },
  {
   "cell_type": "code",
   "execution_count": null,
   "metadata": {
    "collapsed": true
   },
   "outputs": [],
   "source": [
    "dfp = df[df.agglomeration == \"Agglom\u00e9ration parisienne (hors Paris)\"]"
   ]
  },
  {
   "cell_type": "code",
   "execution_count": null,
   "metadata": {},
   "outputs": [],
   "source": [
    "fig, (ax1, ax2) = plt.subplots(ncols=2, nrows=1, figsize=(10, 5))\n",
    "\n",
    "dfp[dfp.Data_year == 2014].Type_habitat.value_counts().plot.pie(y=\"Type_habitat\", ax=ax1)\n",
    "dfp[dfp.Data_year == 2015].Type_habitat.value_counts().plot.pie(y=\"Type_habitat\", ax=ax2)"
   ]
  },
  {
   "cell_type": "code",
   "execution_count": null,
   "metadata": {},
   "outputs": [],
   "source": [
    "dfp[dfp.Data_year == 2014].plot.scatter(x=\"moyenne_loyer_mensuel\",\n",
    "                                        y=\"surface_moyenne\",\n",
    "                                        #c=dfp[dfp.Data_year == 2014].nombre_obsservations,\n",
    "                                        alpha=0.5)\n",
    "                                        #cmap=\"Blues\")"
   ]
  },
  {
   "cell_type": "code",
   "execution_count": null,
   "metadata": {},
   "outputs": [],
   "source": [
    "dfp[dfp.Data_year == 2015].plot.scatter(x=\"moyenne_loyer_mensuel\",\n",
    "                                        y=\"surface_moyenne\",\n",
    "                                        #s=dfp[dfp.Data_year == 2015].nombre_obsservations,\n",
    "                                        #c=\"blue\",\n",
    "                                        alpha=0.5)"
   ]
  }
 ],
 "metadata": {
  "kernelspec": {
   "display_name": "Python [default]",
   "language": "python",
   "name": "python3"
  },
  "language_info": {
   "codemirror_mode": {
    "name": "ipython",
    "version": 3
   },
   "file_extension": ".py",
   "mimetype": "text/x-python",
   "name": "python",
   "nbconvert_exporter": "python",
   "pygments_lexer": "ipython3",
   "version": "3.5.3"
  }
 },
 "nbformat": 4,
 "nbformat_minor": 2
}