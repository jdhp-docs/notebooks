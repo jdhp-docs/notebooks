{
 "cells": [
  {
   "cell_type": "markdown",
   "metadata": {},
   "source": [
    "# Perceptron Multicouche"
   ]
  },
  {
   "cell_type": "markdown",
   "metadata": {},
   "source": [
    "## Principales impl\u00e9mentations en Python"
   ]
  },
  {
   "cell_type": "markdown",
   "metadata": {},
   "source": [
    "- Scikit-learn: http://scikit-learn.org/stable/modules/neural_networks_supervised.html\n",
    "- ..."
   ]
  },
  {
   "cell_type": "markdown",
   "metadata": {},
   "source": [
    "## Notes du livre Dunod"
   ]
  },
  {
   "cell_type": "markdown",
   "metadata": {},
   "source": [
    "### Notations"
   ]
  },
  {
   "cell_type": "markdown",
   "metadata": {},
   "source": [
    "Les notations suivantes sont d\u00e9taill\u00e9es au fil du document:"
   ]
  },
  {
   "cell_type": "markdown",
   "metadata": {},
   "source": [
    "$\\newcommand{\\cur}{i}$\n",
    "$\\cur$: couche courante\n",
    "\n",
    "$\\newcommand{\\prev}{j}$\n",
    "$\\newcommand{\\prevcur}{{\\cur\\prev}}$\n",
    "$\\prev$: couche imm\u00e9diatement en amont de la courche courrante (i.e. vers la couche d'entr\u00e9e du r\u00e9seau)\n",
    "\n",
    "$\\newcommand{\\next}{k}$\n",
    "$\\newcommand{\\curnext}{{\\next\\cur}}$\n",
    "$\\next$: couche imm\u00e9diatement en aval de la courche courrante (i.e. vers la couche de sortie du r\u00e9seau)\n",
    "\n",
    "$\\newcommand{\\ex}{\\eta}$\n",
    "$\\ex$: exemple (*sample* ou *feature*) courant (i.e. le vecteur des entr\u00e9es courantes du r\u00e9seau)\n",
    "\n",
    "$\\newcommand{\\pot}{x}$\n",
    "$\\pot_\\cur$: *Potentiel d'activation* du neurone $i$ pour l'exemple courant\n",
    "\n",
    "$\\newcommand{\\weight}{w}$\n",
    "$\\newcommand{\\wcur}{{\\weight_{\\cur\\prev}}}$\n",
    "$\\wcur$: Poids de la connexion entre le neurone $j$ et le neurone $i$\n",
    "\n",
    "$\\newcommand{\\activthres}{\\theta}$\n",
    "$\\activthres_\\cur$: *Seuil d'activation* du neurone $i$\n",
    "\n",
    "$\\newcommand{\\activfunc}{f}$\n",
    "$\\activfunc_\\cur$: *Fonction d'activation* du neurone $i$\n",
    "\n",
    "$\\newcommand{\\errfunc}{E}$\n",
    "$\\errfunc$: *Fonction objectif* ou *fonction d'erreur*\n",
    "\n",
    "$\\newcommand{\\learnrate}{\\epsilon}$\n",
    "$\\learnrate$: *Pas d'apprentissage* ou *Taux d'apprentissage*\n",
    "\n",
    "$\\newcommand{\\learnit}{n}$\n",
    "$\\learnit$: Num\u00e9ro d'it\u00e9ration (ou cycle ou \u00e9poque) du processus d'apprentissage\n",
    "\n",
    "$\\newcommand{\\sigout}{y}$\n",
    "$\\sigout_\\cur$: Signal de sortie du neurone $i$ pour l'exemple courant\n",
    "\n",
    "$\\newcommand{\\sigoutdes}{d}$\n",
    "$\\sigoutdes_\\cur$: Sortie d\u00e9sir\u00e9e (*\u00e9tiquette*) du neurone $i$ pour l'exemple courant\n",
    "\n",
    "$\\newcommand{\\weights}{\\boldsymbol{W}}$\n",
    "$\\weights$: Matrice des poids du r\u00e9seau (en r\u00e9alit\u00e9 il y a une matrice de taille potentiellement diff\u00e9rente par couche)\n",
    "\n",
    "$\\newcommand{\\errsig}{\\Delta}$\n",
    "$\\errsig_i$: *Signal d'erreur* du neurone $i$ pour l'exemple courant"
   ]
  },
  {
   "cell_type": "code",
   "execution_count": null,
   "metadata": {
    "collapsed": true
   },
   "outputs": [],
   "source": [
    "STR_CUR = r\"i\"       # Couche courante\n",
    "STR_PREV = r\"j\"      # Couche imm\u00e9diatement en amont de la courche courrante (i.e. vers la couche d'entr\u00e9e du r\u00e9seau)\n",
    "STR_NEXT = r\"k\"      # Couche imm\u00e9diatement en aval de la courche courrante (i.e. vers la couche de sortie du r\u00e9seau)\n",
    "STR_EX = r\"\\eta\"     # Exemple (*sample* ou *feature*) courant (i.e. le vecteur des entr\u00e9es courantes du r\u00e9seau)\n",
    "STR_POT = r\"x\"       # *Potentiel d'activation* du neurone $i$ pour l'exemple $\\ex$\n",
    "STR_POT_CUR = r\"x_i\"       # *Potentiel d'activation* du neurone $i$ pour l'exemple $\\ex$\n",
    "STR_WEIGHT = r\"w\"\n",
    "STR_WEIGHT_CUR = r\"w_{ij}\"  # Poids de la connexion entre le neurone $j$ et le neurone $i$\n",
    "STR_ACTIVTHRES = r\"\\theta\"  # *Seuil d'activation* du neurone $i$\n",
    "STR_ACTIVFUNC = r\"f\"        # *Fonction d'activation* du neurone $i$\n",
    "STR_ERRFUNC = r\"E\"          # *Fonction objectif* ou *fonction d'erreur*\n",
    "STR_LEARNRATE = r\"\\epsilon\" # *Pas d'apprentissage* ou *Taux d'apprentissage*\n",
    "STR_LEARNIT = r\"n\"          # Num\u00e9ro d'it\u00e9ration (ou cycle ou \u00e9poque) du processus d'apprentissage\n",
    "STR_SIGOUT = r\"y\"           # Signal de sortie du neurone $i$ pour l'exemple $\\ex$\n",
    "STR_SIGOUT_CUR = r\"y_i\"\n",
    "STR_SIGOUT_PREV = r\"y_j\"\n",
    "STR_SIGOUT_DES = r\"d\"           # Sortie d\u00e9sir\u00e9e (*\u00e9tiquette*) du neurone $i$ pour l'exemple $\\ex$\n",
    "STR_SIGOUT_DES_CUR = r\"d_i\"\n",
    "STR_WEIGHTS = r\"W\"              # Matrice des poids du r\u00e9seau (en r\u00e9alit\u00e9 il y a une matrice de taille potentiellement diff\u00e9rente par couche)\n",
    "STR_ERRSIG = r\"\\Delta\"          # *Signal d'erreur* du neurone $i$ pour l'exemple $\\ex$\n",
    "\n",
    "def tex(tex_str):\n",
    "    return r\"$\" + tex_str + r\"$\""
   ]
  },
  {
   "cell_type": "code",
   "execution_count": null,
   "metadata": {
    "scrolled": false
   },
   "outputs": [],
   "source": [
    "%matplotlib inline\n",
    "\n",
    "import nnfigs\n",
    "\n",
    "# https://github.com/jeremiedecock/neural-network-figures.git\n",
    "import nnfigs.core as nnfig\n",
    "import matplotlib.pyplot as plt\n",
    "\n",
    "fig, ax = nnfig.init_figure(size_x=8, size_y=4)\n",
    "\n",
    "nnfig.draw_synapse(ax, (0, -6), (10, 0))\n",
    "nnfig.draw_synapse(ax, (0, -2), (10, 0))\n",
    "nnfig.draw_synapse(ax, (0, 2),  (10, 0))\n",
    "nnfig.draw_synapse(ax, (0, 6),  (10, 0), label=tex(STR_WEIGHT_CUR), label_position=0.5, fontsize=14)\n",
    "\n",
    "nnfig.draw_synapse(ax, (10, 0), (12, 0))\n",
    "\n",
    "nnfig.draw_neuron(ax, (0, -6), 0.5, empty=True)\n",
    "nnfig.draw_neuron(ax, (0, -2), 0.5, empty=True)\n",
    "nnfig.draw_neuron(ax, (0, 2),  0.5, empty=True)\n",
    "nnfig.draw_neuron(ax, (0, 6),  0.5, empty=True)\n",
    "plt.text(x=0,    y=7.5,  s=tex(STR_PREV),        fontsize=14)\n",
    "plt.text(x=10,   y=1.5,  s=tex(STR_CUR),         fontsize=14)\n",
    "plt.text(x=0,    y=0,    s=r\"$\\vdots$\",          fontsize=14)\n",
    "plt.text(x=-2.5, y=0,    s=tex(STR_SIGOUT_PREV), fontsize=14)\n",
    "plt.text(x=13,   y=0,    s=tex(STR_SIGOUT_CUR),  fontsize=14)\n",
    "plt.text(x=9.2,  y=-1.8, s=tex(STR_POT_CUR),     fontsize=14)\n",
    "\n",
    "nnfig.draw_neuron(ax, (10, 0), 1, ag_func=\"sum\", tr_func=\"sigmoid\")\n",
    "\n",
    "plt.show()"
   ]
  },
  {
   "cell_type": "markdown",
   "metadata": {},
   "source": [
    "$$\n",
    "\\pot_\\cur = \\sum_\\prev \\wcur \\sigoutprev\n",
    "$$\n",
    "\n",
    "$$\n",
    "\\sigoutcur = \\activfunc(\\pot_\\cur)\n",
    "$$\n",
    "\n",
    "$$\n",
    "\\weights = \\begin{pmatrix}\n",
    "    \\weight_{11} & \\cdots & \\weight_{1m} \\\\\n",
    "    \\vdots       & \\ddots & \\vdots       \\\\\n",
    "    \\weight_{n1} & \\cdots & \\weight_{nm}\n",
    "\\end{pmatrix}\n",
    "$$"
   ]
  },
  {
   "cell_type": "markdown",
   "metadata": {},
   "source": [
    "### Divers"
   ]
  },
  {
   "cell_type": "markdown",
   "metadata": {},
   "source": [
    "Le PMC peut approximer n'importe quelle fonction **continue** avec une pr\u00e9cision arbitraire suivant le nombre de neurones pr\u00e9sents sur la couche cach\u00e9e."
   ]
  },
  {
   "cell_type": "markdown",
   "metadata": {},
   "source": [
    "Initialisation des poids: g\u00e9n\u00e9ralement des petites valeurs al\u00e9atoires"
   ]
  },
  {
   "cell_type": "markdown",
   "metadata": {},
   "source": [
    "TODO: quelle diff\u00e9rence entre:\n",
    "* r\u00e9seau boucl\u00e9\n",
    "* r\u00e9seau r\u00e9curent"
   ]
  },
  {
   "cell_type": "markdown",
   "metadata": {},
   "source": [
    "### Fonction objectif (ou fonction d'erreur)"
   ]
  },
  {
   "cell_type": "markdown",
   "metadata": {},
   "source": [
    "Fonction objectif: $\\errfunc \\left( \\weights \\left( \\learnit \\right) \\right)$\n",
    "\n",
    "$\\learnit$: it\u00e9ration courante de l'apprentissage $(1, 2, ...)$"
   ]
  },
  {
   "cell_type": "markdown",
   "metadata": {},
   "source": [
    "Typiquement, la fonction objectif (fonction d'erreur) est la somme du carr\u00e9 de l'erreur de chaque neurone de sortie."
   ]
  },
  {
   "cell_type": "markdown",
   "metadata": {},
   "source": [
    "$$\n",
    "\\errfunc = \\frac12 \\sum_{\\cur \\in \\Omega} \\left[ \\sigout_\\cur - \\sigoutdes_\\cur \\right]^2\n",
    "$$\n",
    "\n",
    "$\\Omega$: l'ensemble des neurones de sortie\n",
    "\n",
    "Le $\\frac12$, c'est juste pour simplifier les calculs de la d\u00e9riv\u00e9e ?"
   ]
  },
  {
   "cell_type": "code",
   "execution_count": null,
   "metadata": {},
   "outputs": [],
   "source": [
    "%matplotlib inline\n",
    "\n",
    "import nnfigs\n",
    "\n",
    "# https://github.com/jeremiedecock/neural-network-figures.git\n",
    "import nnfigs.core as nnfig\n",
    "import matplotlib.pyplot as plt\n",
    "\n",
    "fig, ax = nnfig.init_figure(size_x=8, size_y=4)\n",
    "\n",
    "nnfig.draw_synapse(ax, (0, -6), (10, 0))\n",
    "nnfig.draw_synapse(ax, (0, -2), (10, 0))\n",
    "nnfig.draw_synapse(ax, (0, 2),  (10, 0))\n",
    "nnfig.draw_synapse(ax, (0, 6),  (10, 0))\n",
    "\n",
    "nnfig.draw_synapse(ax, (0, -6), (10, -4))\n",
    "nnfig.draw_synapse(ax, (0, -2), (10, -4))\n",
    "nnfig.draw_synapse(ax, (0, 2),  (10, -4))\n",
    "nnfig.draw_synapse(ax, (0, 6),  (10, -4))\n",
    "\n",
    "nnfig.draw_synapse(ax, (0, -6), (10, 4))\n",
    "nnfig.draw_synapse(ax, (0, -2), (10, 4))\n",
    "nnfig.draw_synapse(ax, (0, 2),  (10, 4))\n",
    "nnfig.draw_synapse(ax, (0, 6),  (10, 4))\n",
    "\n",
    "nnfig.draw_synapse(ax, (10, -4), (12, -4))\n",
    "nnfig.draw_synapse(ax, (10, 0), (12, 0))\n",
    "nnfig.draw_synapse(ax, (10, 4), (12, 4))\n",
    "\n",
    "nnfig.draw_neuron(ax, (0, -6), 0.5, empty=True)\n",
    "nnfig.draw_neuron(ax, (0, -2), 0.5, empty=True)\n",
    "nnfig.draw_neuron(ax, (0, 2),  0.5, empty=True)\n",
    "nnfig.draw_neuron(ax, (0, 6),  0.5, empty=True)\n",
    "\n",
    "nnfig.draw_neuron(ax, (10, -4), 1, ag_func=\"sum\", tr_func=\"sigmoid\")\n",
    "nnfig.draw_neuron(ax, (10, 0),  1, ag_func=\"sum\", tr_func=\"sigmoid\")\n",
    "nnfig.draw_neuron(ax, (10, 4),  1, ag_func=\"sum\", tr_func=\"sigmoid\")\n",
    "\n",
    "plt.text(x=0, y=7.5, s=tex(STR_PREV), fontsize=14)\n",
    "plt.text(x=10, y=7.5, s=tex(STR_CUR), fontsize=14)\n",
    "\n",
    "plt.text(x=0,   y=0,    s=r\"$\\vdots$\", fontsize=14)\n",
    "plt.text(x=9.7, y=-6.1, s=r\"$\\vdots$\", fontsize=14)\n",
    "plt.text(x=9.7, y=5.8,  s=r\"$\\vdots$\", fontsize=14)\n",
    "\n",
    "plt.text(x=12.5, y=4,  s=tex(STR_SIGOUT + \"_1\"), fontsize=14)\n",
    "plt.text(x=12.5, y=0,  s=tex(STR_SIGOUT + \"_2\"), fontsize=14)\n",
    "plt.text(x=12.5, y=-4, s=tex(STR_SIGOUT + \"_3\"), fontsize=14)\n",
    "\n",
    "plt.text(x=16, y=4,  s=tex(STR_ERRFUNC + \"_1 = \" + STR_SIGOUT + \"_1 - \" + STR_SIGOUT_DES + \"_1\"), fontsize=14)\n",
    "plt.text(x=16, y=0,  s=tex(STR_ERRFUNC + \"_2 = \" + STR_SIGOUT + \"_2 - \" + STR_SIGOUT_DES + \"_2\"), fontsize=14)\n",
    "plt.text(x=16, y=-4, s=tex(STR_ERRFUNC + \"_3 = \" + STR_SIGOUT + \"_3 - \" + STR_SIGOUT_DES + \"_3\"), fontsize=14)\n",
    "\n",
    "plt.text(x=16, y=-8, s=tex(STR_ERRFUNC + \" = 1/2 ( \" + STR_ERRFUNC + \"^2_1 + \" + STR_ERRFUNC + \"^2_2 + \" + STR_ERRFUNC + \"^2_3 + \\dots )\"), fontsize=14)\n",
    "\n",
    "plt.show()"
   ]
  },
  {
   "cell_type": "markdown",
   "metadata": {},
   "source": [
    "### Apprentissage"
   ]
  },
  {
   "cell_type": "markdown",
   "metadata": {},
   "source": [
    "#### Mise \u00e0 jours des poids"
   ]
  },
  {
   "cell_type": "markdown",
   "metadata": {},
   "source": [
    "$$\n",
    "\\weights(\\learnit + 1) = \\weights(\\learnit) \\underbrace{- \\learnrate \\nabla \\errfunc \\left( \\weights(\\learnit) \\right)}\n",
    "$$\n",
    "\n",
    "$- \\learnrate \\nabla \\errfunc \\left( \\weights(\\learnit) \\right)$: descend dans la direction oppos\u00e9e au gradient (plus forte pente)\n",
    "\n",
    "avec $\\nabla \\errfunc \\left( \\weights(\\learnit) \\right)$: gradient de la fonction objectif au point $\\weights$\n",
    "\n",
    "$\\learnrate > 0$: pas (ou taux) d'apprentissage\n",
    "\n",
    "$$\n",
    "\\begin{align}\n",
    "\\delta_{\\wcur} & = \\wcur(\\learnit + 1) - \\wcur(\\learnit) \\\\\n",
    "               & = - \\learnrate \\frac{\\partial \\errfunc}{\\partial \\wcur}\n",
    "\\end{align}\n",
    "$$\n",
    "\n",
    "$$\n",
    "\\Leftrightarrow \\wcur(\\learnit + 1) = \\wcur(\\learnit) - \\learnrate \\frac{\\partial \\errfunc}{\\partial \\wcur}\n",
    "$$"
   ]
  },
  {
   "cell_type": "markdown",
   "metadata": {},
   "source": [
    "Chaque pr\u00e9sentation de l'ensemble des exemples = un *cycle* (ou une *\u00e9poque*) d'apprentissage\n",
    "\n",
    "Crit\u00e8re d'arr\u00eat de l'apprentissage: quand la valeur de la fonction objectif se stabilise (ou que le probl\u00e8me est r\u00e9solu avec la pr\u00e9cision souhait\u00e9e)\n",
    "\n",
    "- \"g\u00e9n\u00e9ralement il n'y a qu'un seul minimum local\" (preuve ???)\n",
    "- \"dans le cas contraire, le plus simple est de recommencer plusieurs fois l'apprentissage avec des poids initiaux diff\u00e9rents et de conserver la meilleure matrice $\\weights$ (celle qui minimise $\\errfunc$)\""
   ]
  },
  {
   "cell_type": "code",
   "execution_count": null,
   "metadata": {},
   "outputs": [],
   "source": [
    "fig, ax = plt.subplots(nrows=1, ncols=1, figsize=(4, 4))\n",
    "\n",
    "x = np.arange(10, 30, 0.1)\n",
    "y = (x - 20)**2 + 2\n",
    "\n",
    "ax.set_xlabel(r\"Poids $\" + STR_WEIGHTS + \"$\", fontsize=14)\n",
    "ax.set_ylabel(r\"Fonction objectif $\" + STR_ERRFUNC + \"$\", fontsize=14)\n",
    "\n",
    "# See http://matplotlib.org/api/axes_api.html#matplotlib.axes.Axes.tick_params\n",
    "ax.tick_params(axis='both',       # changes apply to the x and y axis\n",
    "               which='both',      # both major and minor ticks are affected\n",
    "               bottom='on',       # ticks along the bottom edge are on\n",
    "               top='off',         # ticks along the top edge are off\n",
    "               left='on',         # ticks along the left edge are on\n",
    "               right='off',       # ticks along the right edge are off\n",
    "               labelbottom='off', # labels along the bottom edge are off\n",
    "               labelleft='off')   # labels along the lefleft are off\n",
    "\n",
    "ax.set_xlim(left=10, right=25)\n",
    "ax.set_ylim(bottom=0, top=5)\n",
    "\n",
    "ax.plot(x, y);"
   ]
  },
  {
   "cell_type": "markdown",
   "metadata": {},
   "source": [
    "*Apprentissage incr\u00e9mentiel* (ou *partiel*) (ang. *incremental learning*):\n",
    "on ajuste les poids $\\weights$ apr\u00e8s la pr\u00e9sentation d'un seul exemple\n",
    "(\"ce n'est pas une v\u00e9ritable descente de gradient\").\n",
    "C'est mieux pour \u00e9viter les minimums locaux, surtout si les exemples sont\n",
    "m\u00e9lang\u00e9s au d\u00e9but de chaque it\u00e9ration\n",
    "\n",
    "*Apprentissage diff\u00e9r\u00e9* (ang. *batch learning*):\n",
    "**TODO...**\n",
    "Est-ce que la fonction objectif $\\errfunc$ est une fonction multivari\u00e9e\n",
    "ou est-ce une aggr\u00e9gation des erreurs de chaque exemple ?"
   ]
  },
  {
   "cell_type": "markdown",
   "metadata": {},
   "source": [
    "### R\u00e9tropropagation du gradient"
   ]
  },
  {
   "cell_type": "markdown",
   "metadata": {},
   "source": [
    "*R\u00e9tropropagation du gradient*:\n",
    "une m\u00e9thode pour calculer efficacement le gradient de la fonction objectif $\\errfunc$\n",
    "\n",
    "Principe:\n",
    "on modifie les poids \u00e0 l'aide des *signaux d'erreur* $\\errsig$.\n",
    "\n",
    "$$\n",
    "\\wcur(\\learnit + 1) = \\wcur(\\learnit) \\underbrace{- \\learnrate \\frac{\\partial \\errfunc}{\\partial \\wcur(\\learnit)}}_{\\delta_\\prevcur}\n",
    "$$\n",
    "\n",
    "$$\n",
    "\\begin{align}\n",
    "\\delta_\\prevcur & = - \\learnrate \\frac{\\partial \\errfunc}{\\partial \\wcur(\\learnit)} \\\\\n",
    "                & = - \\learnrate \\errsig_\\cur \\sigout\\prev\n",
    "\\end{align}\n",
    "$$\n",
    "\n",
    "- Dans le cas de *l'apprentissage diff\u00e9r\u00e9* (*batch*), on calcule pour chaque exemple l'erreur correspondante. Leur contribution individuelle aux modifications des poids sont additionn\u00e9es\n",
    "- L'apprentissage suppervis\u00e9 fonctionne mieux avec des neurones de sortie lin\u00e9aires (fonction d'activation $\\activfunc$ = fonction identit\u00e9e) \"car les signaux d'erreurs se transmettent mieux\".\n",
    "- Des donn\u00e9es d'entr\u00e9e binaires doivent \u00eatre choisies dans $\\{-1,1\\}$ plut\u00f4t que $\\{0,1\\}$ car un signal nul ne contribu pas \u00e0 l'apprentissage.\n",
    "\n",
    "Voc:\n",
    "- *erreur marginale*: **TODO**"
   ]
  },
  {
   "cell_type": "markdown",
   "metadata": {},
   "source": [
    "### Signaux d'erreur $\\errsig_\\cur$ pour les neurones de sortie $(\\cur \\in \\Omega)$"
   ]
  },
  {
   "cell_type": "markdown",
   "metadata": {},
   "source": [
    "$$\n",
    "\\errsig_\\cur = \\activfunc'(\\pot_\\cur)[\\sigout_\\cur - \\sigoutdes_\\cur]\n",
    "$$"
   ]
  },
  {
   "cell_type": "markdown",
   "metadata": {},
   "source": [
    "### Signaux d'erreur $\\errsig_\\cur$ pour les neurones cach\u00e9s $(\\cur \\not\\in \\Omega)$"
   ]
  },
  {
   "cell_type": "markdown",
   "metadata": {},
   "source": [
    "$$\n",
    "\\errsig_\\cur = \\activfunc'(\\pot_\\cur) \\sum_\\next \\weight_\\curnext \\errsig_\\next\n",
    "$$"
   ]
  },
  {
   "cell_type": "code",
   "execution_count": null,
   "metadata": {
    "scrolled": false
   },
   "outputs": [],
   "source": [
    "%matplotlib inline\n",
    "\n",
    "import nnfigs\n",
    "\n",
    "# https://github.com/jeremiedecock/neural-network-figures.git\n",
    "import nnfigs.core as nnfig\n",
    "import matplotlib.pyplot as plt\n",
    "\n",
    "fig, ax = nnfig.init_figure(size_x=8, size_y=4)\n",
    "\n",
    "nnfig.draw_synapse(ax, (0, -2), (10, 0))\n",
    "nnfig.draw_synapse(ax, (0, 2),  (10, 0), label=tex(STR_WEIGHT + \"_{\" + STR_NEXT + STR_CUR + \"}\"), label_position=0.5, fontsize=14)\n",
    "\n",
    "nnfig.draw_synapse(ax, (10, 0), (12, 0))\n",
    "\n",
    "nnfig.draw_neuron(ax, (0, -2), 0.5, empty=True)\n",
    "nnfig.draw_neuron(ax, (0, 2),  0.5, empty=True)\n",
    "\n",
    "plt.text(x=0, y=3.5, s=tex(STR_CUR), fontsize=14)\n",
    "plt.text(x=10, y=3.5, s=tex(STR_NEXT), fontsize=14)\n",
    "plt.text(x=0, y=-0.2, s=r\"$\\vdots$\", fontsize=14)\n",
    "\n",
    "nnfig.draw_neuron(ax, (10, 0), 1, ag_func=\"sum\", tr_func=\"sigmoid\")\n",
    "\n",
    "plt.show()"
   ]
  },
  {
   "cell_type": "markdown",
   "metadata": {},
   "source": [
    "### Plus de d\u00e9tail : calcul de $\\errsig_\\cur$"
   ]
  },
  {
   "cell_type": "markdown",
   "metadata": {},
   "source": [
    "Dans l'exemple suivant on ne s'int\u00e9resse qu'aux poids $\\weight_1$, $\\weight_2$, $\\weight_3$, $\\weight_4$ et $\\weight_5$ pour simplifier la demonstration."
   ]
  },
  {
   "cell_type": "code",
   "execution_count": null,
   "metadata": {},
   "outputs": [],
   "source": [
    "%matplotlib inline\n",
    "\n",
    "import nnfigs\n",
    "\n",
    "# https://github.com/jeremiedecock/neural-network-figures.git\n",
    "import nnfigs.core as nnfig\n",
    "import matplotlib.pyplot as plt\n",
    "\n",
    "fig, ax = nnfig.init_figure(size_x=8, size_y=4)\n",
    "\n",
    "HSPACE = 6\n",
    "VSPACE = 4\n",
    "\n",
    "# Synapse #####################################\n",
    "\n",
    "# Layer 1-2\n",
    "nnfig.draw_synapse(ax, (0,  VSPACE), (HSPACE,  VSPACE), label=tex(STR_WEIGHT + \"_1\"), label_position=0.4)\n",
    "nnfig.draw_synapse(ax, (0, -VSPACE), (HSPACE,  VSPACE), color=\"lightgray\")\n",
    "\n",
    "nnfig.draw_synapse(ax, (0,  VSPACE), (HSPACE, -VSPACE), color=\"lightgray\")\n",
    "nnfig.draw_synapse(ax, (0, -VSPACE), (HSPACE, -VSPACE), color=\"lightgray\")\n",
    "\n",
    "# Layer 2-3\n",
    "nnfig.draw_synapse(ax, (HSPACE,  VSPACE), (2*HSPACE,  VSPACE), label=tex(STR_WEIGHT + \"_2\"), label_position=0.4)\n",
    "nnfig.draw_synapse(ax, (HSPACE, -VSPACE), (2*HSPACE,  VSPACE), color=\"lightgray\")\n",
    "\n",
    "nnfig.draw_synapse(ax, (HSPACE,  VSPACE), (2*HSPACE, -VSPACE), label=tex(STR_WEIGHT + \"_3\"), label_position=0.4)\n",
    "nnfig.draw_synapse(ax, (HSPACE, -VSPACE), (2*HSPACE, -VSPACE), color=\"lightgray\")\n",
    "\n",
    "# Layer 3-4\n",
    "nnfig.draw_synapse(ax, (2*HSPACE,  VSPACE), (3*HSPACE, 0), label=tex(STR_WEIGHT + \"_4\"), label_position=0.4)\n",
    "nnfig.draw_synapse(ax, (2*HSPACE, -VSPACE), (3*HSPACE, 0), label=tex(STR_WEIGHT + \"_5\"), label_position=0.4, label_offset_y=-0.8)\n",
    "\n",
    "# Neuron ######################################\n",
    "\n",
    "# Layer 1 (input)\n",
    "nnfig.draw_neuron(ax, (0,  VSPACE), 0.5, empty=True)\n",
    "nnfig.draw_neuron(ax, (0, -VSPACE), 0.5, empty=True, line_color=\"lightgray\")\n",
    "\n",
    "# Layer 2\n",
    "nnfig.draw_neuron(ax, (HSPACE,  VSPACE), 1, ag_func=\"sum\", tr_func=\"sigmoid\")\n",
    "nnfig.draw_neuron(ax, (HSPACE, -VSPACE), 1, ag_func=\"sum\", tr_func=\"sigmoid\", line_color=\"lightgray\")\n",
    "\n",
    "# Layer 3\n",
    "nnfig.draw_neuron(ax, (2*HSPACE,  VSPACE), 1, ag_func=\"sum\", tr_func=\"sigmoid\")\n",
    "nnfig.draw_neuron(ax, (2*HSPACE, -VSPACE), 1, ag_func=\"sum\", tr_func=\"sigmoid\")\n",
    "\n",
    "# Layer 4\n",
    "nnfig.draw_neuron(ax, (3*HSPACE, 0), 1, ag_func=\"sum\", tr_func=\"sigmoid\")\n",
    "\n",
    "# Text ########################################\n",
    "\n",
    "# Layer 1 (input)\n",
    "plt.text(x=0.5, y=VSPACE+1, s=tex(STR_SIGOUT + \"_i\"), fontsize=12)\n",
    "\n",
    "# Layer 2\n",
    "plt.text(x=HSPACE-1.25, y=VSPACE+1.5, s=tex(STR_POT + \"_1\"), fontsize=12)\n",
    "plt.text(x=HSPACE+0.4,  y=VSPACE+1.5, s=tex(STR_SIGOUT + \"_1\"), fontsize=12)\n",
    "\n",
    "# Layer 3\n",
    "plt.text(x=2*HSPACE-1.25, y=VSPACE+1.5, s=tex(STR_POT + \"_2\"), fontsize=12)\n",
    "plt.text(x=2*HSPACE+0.4,  y=VSPACE+1.5, s=tex(STR_SIGOUT + \"_2\"), fontsize=12)\n",
    "\n",
    "plt.text(x=2*HSPACE-1.25, y=-VSPACE-1.8, s=tex(STR_POT + \"_3\"), fontsize=12)\n",
    "plt.text(x=2*HSPACE+0.4,  y=-VSPACE-1.8, s=tex(STR_SIGOUT + \"_3\"), fontsize=12)\n",
    "\n",
    "# Layer 4\n",
    "plt.text(x=3*HSPACE-1.25, y=1.5, s=tex(STR_POT + \"_o\"), fontsize=12)\n",
    "plt.text(x=3*HSPACE+0.4,  y=1.5, s=tex(STR_SIGOUT + \"_o\"), fontsize=12)\n",
    "\n",
    "plt.text(x=3*HSPACE+2,  y=-0.3,\n",
    "         s=tex(STR_ERRFUNC + \" = (\" + STR_SIGOUT + \"_o - \" + STR_SIGOUT_DES + \"_o)^2/2\"),\n",
    "         fontsize=12)\n",
    "\n",
    "plt.show()"
   ]
  },
  {
   "cell_type": "markdown",
   "metadata": {},
   "source": [
    "**Attention**: $\\weight_1$ influe $\\pot_2$ **et** $\\pot_3$ en plus de $\\pot_1$ et $\\pot_o$."
   ]
  },
  {
   "cell_type": "markdown",
   "metadata": {},
   "source": [
    "#### Calcul de $\\frac{\\partial \\errfunc}{\\partial \\weight_4}$"
   ]
  },
  {
   "cell_type": "markdown",
   "metadata": {},
   "source": [
    "rappel:"
   ]
  },
  {
   "cell_type": "markdown",
   "metadata": {},
   "source": [
    "$$\n",
    "\\begin{align}\n",
    "\\errfunc  &= \\frac12 \\left( \\sigout_o - \\sigoutdes_o \\right)^2 \\tag{1} \\\\\n",
    "\\sigout_o &= \\activfunc(\\pot_o)  \\tag{2} \\\\\n",
    "\\pot_o    &= \\sigout_2 \\weight_4 + \\sigout_3 \\weight_5  \\tag{3} \\\\\n",
    "\\end{align}\n",
    "$$"
   ]
  },
  {
   "cell_type": "markdown",
   "metadata": {},
   "source": [
    "c'est \u00e0 dire:"
   ]
  },
  {
   "cell_type": "markdown",
   "metadata": {},
   "source": [
    "$$\n",
    "\\errfunc = \\frac12 \\left( \\activfunc \\left( \\sigout_2 \\weight_4 + \\sigout_3 \\weight_5 \\right) - \\sigoutdes_o \\right)^2\n",
    "$$"
   ]
  },
  {
   "cell_type": "markdown",
   "metadata": {},
   "source": [
    "donc, en appliquant les r\u00e8gles de derivation de fonctions compos\u00e9es, on a:"
   ]
  },
  {
   "cell_type": "markdown",
   "metadata": {},
   "source": [
    "$$\n",
    "\\frac{\\partial \\errfunc}{\\partial \\weight_4} =\n",
    "\\frac{\\partial \\pot_o}{\\partial \\weight_4}\n",
    "\\underbrace{\n",
    "\\frac{\\partial \\sigout_o}{\\partial \\pot_o}\n",
    "\\frac{\\partial \\errfunc}{\\partial \\sigout_o}\n",
    "}_{\\errsig_o}\n",
    "$$"
   ]
  },
  {
   "cell_type": "markdown",
   "metadata": {},
   "source": [
    "de (1), (2) et (3) on d\u00e9duit:"
   ]
  },
  {
   "cell_type": "markdown",
   "metadata": {},
   "source": [
    "$$\n",
    "\\begin{align}\n",
    "\\frac{\\partial \\pot_o}{\\partial \\weight_4}   &= \\sigout_2 \\\\\n",
    "\\frac{\\partial \\sigout_o}{\\partial \\pot_o}   &= \\activfunc'(\\pot_o) \\\\\n",
    "\\frac{\\partial \\errfunc}{\\partial \\sigout_o} &= \\sigout_o - \\sigoutdes_o \\\\\n",
    "\\end{align}\n",
    "$$"
   ]
  },
  {
   "cell_type": "markdown",
   "metadata": {},
   "source": [
    "le signal d'erreur s'\u00e9crit donc:"
   ]
  },
  {
   "cell_type": "markdown",
   "metadata": {},
   "source": [
    "$$\n",
    "\\begin{align}\n",
    "\\errsig_o &=\n",
    "\\frac{\\partial \\sigout_o}{\\partial \\pot_o}\n",
    "\\frac{\\partial \\errfunc}{\\partial \\sigout_o} \\\\\n",
    "&= \\activfunc'(\\pot_o) [\\sigout_o - \\sigoutdes_o]\n",
    "\\end{align}\n",
    "$$"
   ]
  },
  {
   "cell_type": "markdown",
   "metadata": {},
   "source": [
    "#### Calcul de $\\frac{\\partial \\errfunc}{\\partial \\weight_5}$"
   ]
  },
  {
   "cell_type": "markdown",
   "metadata": {},
   "source": [
    "$$\n",
    "\\frac{\\partial \\errfunc}{\\partial \\weight_5} =\n",
    "\\frac{\\partial \\pot_o}{\\partial \\weight_5}\n",
    "\\underbrace{\n",
    "\\frac{\\partial \\sigout_o}{\\partial \\pot_o}\n",
    "\\frac{\\partial \\errfunc}{\\partial \\sigout_o}\n",
    "}_{\\errsig_o}\n",
    "$$"
   ]
  },
  {
   "cell_type": "markdown",
   "metadata": {},
   "source": [
    "avec:"
   ]
  },
  {
   "cell_type": "markdown",
   "metadata": {},
   "source": [
    "$$\n",
    "\\begin{align}\n",
    "\\frac{\\partial \\pot_o}{\\partial \\weight_5}   &= \\sigout_3 \\\\\n",
    "\\frac{\\partial \\sigout_o}{\\partial \\pot_o}   &= \\activfunc'(\\pot_o) \\\\\n",
    "\\frac{\\partial \\errfunc}{\\partial \\sigout_o} &= \\sigout_o - \\sigoutdes_o \\\\\n",
    "\\errsig_o &=\n",
    "\\frac{\\partial \\sigout_o}{\\partial \\pot_o}\n",
    "\\frac{\\partial \\errfunc}{\\partial \\sigout_o} \\\\\n",
    "&= \\activfunc'(\\pot_o) [\\sigout_o - \\sigoutdes_o]\n",
    "\\end{align}\n",
    "$$"
   ]
  },
  {
   "cell_type": "markdown",
   "metadata": {},
   "source": [
    "#### Calcul de $\\frac{\\partial \\errfunc}{\\partial \\weight_2}$"
   ]
  },
  {
   "cell_type": "markdown",
   "metadata": {},
   "source": [
    "$$\n",
    "\\frac{\\partial \\errfunc}{\\partial \\weight_2} =\n",
    "\\frac{\\partial \\pot_2}{\\partial \\weight_2}\n",
    "%\n",
    "\\underbrace{\n",
    " \\frac{\\partial \\sigout_2}{\\partial \\pot_2}\n",
    " \\frac{\\partial \\pot_o}{\\partial \\sigout_2}\n",
    " \\underbrace{\n",
    "  \\frac{\\partial \\sigout_o}{\\partial \\pot_o}\n",
    "  \\frac{\\partial \\errfunc}{\\partial \\sigout_o}\n",
    " }_{\\errsig_o}\n",
    "}_{\\errsig_2}\n",
    "$$"
   ]
  },
  {
   "cell_type": "markdown",
   "metadata": {},
   "source": [
    "avec:"
   ]
  },
  {
   "cell_type": "markdown",
   "metadata": {},
   "source": [
    "$$\n",
    "\\begin{align}\n",
    "\\frac{\\partial \\pot_2}{\\partial \\weight_2} &= \\sigout_1 \\\\\n",
    "\\frac{\\partial \\sigout_2}{\\partial \\pot_2} &= \\activfunc'(\\pot_2) \\\\\n",
    "\\frac{\\partial \\pot_o}{\\partial \\sigout_2} &= \\weight_4 \\\\\n",
    "\\errsig_2 &=\n",
    "\\frac{\\partial \\sigout_2}{\\partial \\pot_2}\n",
    "\\frac{\\partial \\pot_o}{\\partial \\sigout_2}\n",
    "\\errsig_o \\\\\n",
    "&= \\activfunc'(\\pot_2) \\weight_4 \\errsig_o\n",
    "\\end{align}\n",
    "$$"
   ]
  },
  {
   "cell_type": "markdown",
   "metadata": {},
   "source": [
    "#### Calcul de $\\frac{\\partial \\errfunc}{\\partial \\weight_3}$"
   ]
  },
  {
   "cell_type": "markdown",
   "metadata": {},
   "source": [
    "$$\n",
    "\\frac{\\partial \\errfunc}{\\partial \\weight_3} =\n",
    "\\frac{\\partial \\pot_3}{\\partial \\weight_3}\n",
    "%\n",
    "\\underbrace{\n",
    " \\frac{\\partial \\sigout_3}{\\partial \\pot_3}\n",
    " \\frac{\\partial \\pot_o}{\\partial \\sigout_3}\n",
    " \\underbrace{\n",
    "  \\frac{\\partial \\sigout_o}{\\partial \\pot_o}\n",
    "  \\frac{\\partial \\errfunc}{\\partial \\sigout_o}\n",
    " }_{\\errsig_o}\n",
    "}_{\\errsig_3}\n",
    "$$"
   ]
  },
  {
   "cell_type": "markdown",
   "metadata": {},
   "source": [
    "avec:"
   ]
  },
  {
   "cell_type": "markdown",
   "metadata": {},
   "source": [
    "$$\n",
    "\\begin{align}\n",
    "\\frac{\\partial \\pot_3}{\\partial \\weight_3} &= \\sigout_1 \\\\\n",
    "\\frac{\\partial \\sigout_3}{\\partial \\pot_3} &= \\activfunc'(\\pot_3) \\\\\n",
    "\\frac{\\partial \\pot_o}{\\partial \\sigout_3} &= \\weight_5 \\\\\n",
    "\\errsig_3 &= \n",
    "\\frac{\\partial \\sigout_3}{\\partial \\pot_3}\n",
    "\\frac{\\partial \\pot_o}{\\partial \\sigout_3}\n",
    "\\errsig_o \\\\\n",
    "&= \\activfunc'(\\pot_3) \\weight_5 \\errsig_o\n",
    "\\end{align}\n",
    "$$"
   ]
  },
  {
   "cell_type": "markdown",
   "metadata": {},
   "source": [
    "#### Calcul de $\\frac{\\partial \\errfunc}{\\partial \\weight_1}$"
   ]
  },
  {
   "cell_type": "markdown",
   "metadata": {},
   "source": [
    "$$\n",
    "\\frac{\\partial \\errfunc}{\\partial \\weight_1} =\n",
    "\\frac{\\partial \\pot_1}{\\partial \\weight_1}\n",
    "%\n",
    "\\underbrace{\n",
    " \\frac{\\partial \\sigout_1}{\\partial \\pot_1}\n",
    " \\left(\n",
    "  \\frac{\\partial \\pot_2}{\\partial \\sigout_1} % err?\n",
    "  \\underbrace{\n",
    "   \\frac{\\partial \\sigout_2}{\\partial \\pot_2}\n",
    "   \\frac{\\partial \\pot_o}{\\partial \\sigout_2}\n",
    "   \\underbrace{\n",
    "    \\frac{\\partial \\sigout_o}{\\partial \\pot_o}\n",
    "    \\frac{\\partial \\errfunc}{\\partial \\sigout_o}\n",
    "   }_{\\errsig_o}\n",
    "  }_{\\errsig_2}\n",
    "  +\n",
    "  \\frac{\\partial \\pot_3}{\\partial \\sigout_1} % err?\n",
    "  \\underbrace{\n",
    "   \\frac{\\partial \\sigout_3}{\\partial \\pot_3}\n",
    "   \\frac{\\partial \\pot_o}{\\partial \\sigout_3}\n",
    "   \\underbrace{\n",
    "    \\frac{\\partial \\sigout_o}{\\partial \\pot_o}\n",
    "    \\frac{\\partial \\errfunc}{\\partial \\sigout_o}\n",
    "   }_{\\errsig_o}\n",
    "  }_{\\errsig_3}\n",
    " \\right)\n",
    "}_{\\errsig_1}\n",
    "$$"
   ]
  },
  {
   "cell_type": "markdown",
   "metadata": {},
   "source": [
    "avec:"
   ]
  },
  {
   "cell_type": "markdown",
   "metadata": {},
   "source": [
    "$$\n",
    "\\begin{align}\n",
    "\\frac{\\partial \\pot_1}{\\partial \\weight_1} &= \\sigout_i \\\\\n",
    "\\frac{\\partial \\sigout_1}{\\partial \\pot_1} &= \\activfunc'(\\pot_1) \\\\\n",
    "\\frac{\\partial \\pot_2}{\\partial \\sigout_1} &= \\weight_2 \\\\\n",
    "\\frac{\\partial \\pot_3}{\\partial \\sigout_1} &= \\weight_3 \\\\\n",
    "\\errsig_1 &=\n",
    "\\frac{\\partial \\sigout_1}{\\partial \\pot_1}\n",
    "\\left(\n",
    "\\frac{\\partial \\pot_2}{\\partial \\sigout_1}\n",
    "\\errsig_2\n",
    "+\n",
    "\\frac{\\partial \\pot_3}{\\partial \\sigout_1}\n",
    "\\errsig_3\n",
    "\\right) \\\\\n",
    "&= \n",
    "\\activfunc'(\\pot_1) \\left( \\weight_2 \\errsig_2 + \\weight_3 \\errsig_3 \\right)\n",
    "\\end{align}\n",
    "$$"
   ]
  },
  {
   "cell_type": "markdown",
   "metadata": {},
   "source": [
    "## Fonctions d'activation : fonctions sigmoides (en forme de \"S\")"
   ]
  },
  {
   "cell_type": "markdown",
   "metadata": {},
   "source": [
    "La fonction sigmo\u00efde (en forme de \"S\") est d\u00e9finie par :\n",
    "\n",
    "$$f(x) = \\frac{1}{1 + e^{-x}}$$\n",
    "\n",
    "pour tout r\u00e9el $x$.\n",
    "\n",
    "On peut la g\u00e9n\u00e9raliser \u00e0 toute fonction dont l'expression est :\n",
    "\n",
    "$$f(x) = \\frac{1}{1 + e^{-\\lambda x}}$$"
   ]
  },
  {
   "cell_type": "code",
   "execution_count": null,
   "metadata": {
    "collapsed": true,
    "scrolled": true
   },
   "outputs": [],
   "source": [
    "def sigmoid(x, _lambda=1.):\n",
    "    y = 1. / (1. + np.exp(-_lambda * x))\n",
    "    return y"
   ]
  },
  {
   "cell_type": "code",
   "execution_count": null,
   "metadata": {
    "scrolled": true
   },
   "outputs": [],
   "source": [
    "%matplotlib inline\n",
    "\n",
    "x = np.linspace(-5, 5, 300)\n",
    "\n",
    "y1 = sigmoid(x, 1.)\n",
    "y2 = sigmoid(x, 5.)\n",
    "y3 = sigmoid(x, 0.5)\n",
    "\n",
    "plt.plot(x, y1, label=r\"$\\lambda=1$\")\n",
    "plt.plot(x, y2, label=r\"$\\lambda=5$\")\n",
    "plt.plot(x, y3, label=r\"$\\lambda=0.5$\")\n",
    "\n",
    "plt.hlines(y=0, xmin=-5, xmax=5, color='gray', linestyles='dotted')\n",
    "plt.vlines(x=0, ymin=-2, ymax=2, color='gray', linestyles='dotted')\n",
    "\n",
    "plt.legend()\n",
    "\n",
    "plt.title(\"Fonction sigmo\u00efde\")\n",
    "plt.axis([-5, 5, -0.5, 2]);"
   ]
  },
  {
   "cell_type": "markdown",
   "metadata": {},
   "source": [
    "Fonction d\u00e9riv\u00e9e :\n",
    "\n",
    "$$\n",
    "f'(x) = \\frac{\\lambda e^{-\\lambda x}}{(1+e^{-\\lambda x})^{2}}\n",
    "$$\n",
    "\n",
    "qui peut aussi \u00eatre d\u00e9fini par\n",
    "\n",
    "$$\n",
    "\\frac{\\mathrm{d} y}{\\mathrm{d} x} = \\lambda y (1-y)\n",
    "$$\n",
    "\n",
    "o\u00f9 $y$ varie de 0 \u00e0 1."
   ]
  },
  {
   "cell_type": "code",
   "execution_count": null,
   "metadata": {
    "collapsed": true
   },
   "outputs": [],
   "source": [
    "def d_sigmoid(x, _lambda=1.):\n",
    "    e = np.exp(-_lambda * x)\n",
    "    y = _lambda * e / np.power(1 + e, 2)\n",
    "    return y"
   ]
  },
  {
   "cell_type": "code",
   "execution_count": null,
   "metadata": {
    "scrolled": true
   },
   "outputs": [],
   "source": [
    "%matplotlib inline\n",
    "\n",
    "x = np.linspace(-5, 5, 300)\n",
    "\n",
    "y1 = d_sigmoid(x, 1.)\n",
    "y2 = d_sigmoid(x, 5.)\n",
    "y3 = d_sigmoid(x, 0.5)\n",
    "\n",
    "plt.plot(x, y1, label=r\"$\\lambda=1$\")\n",
    "plt.plot(x, y2, label=r\"$\\lambda=5$\")\n",
    "plt.plot(x, y3, label=r\"$\\lambda=0.5$\")\n",
    "\n",
    "plt.hlines(y=0, xmin=-5, xmax=5, color='gray', linestyles='dotted')\n",
    "plt.vlines(x=0, ymin=-2, ymax=2, color='gray', linestyles='dotted')\n",
    "\n",
    "plt.legend()\n",
    "\n",
    "plt.title(\"Fonction d\u00e9riv\u00e9e de la sigmo\u00efde\")\n",
    "plt.axis([-5, 5, -0.5, 2]);"
   ]
  },
  {
   "cell_type": "markdown",
   "metadata": {},
   "source": [
    "### Tangente hyperbolique"
   ]
  },
  {
   "cell_type": "code",
   "execution_count": null,
   "metadata": {
    "collapsed": true,
    "scrolled": true
   },
   "outputs": [],
   "source": [
    "def tanh(x):\n",
    "    y = np.tanh(x)\n",
    "    return y"
   ]
  },
  {
   "cell_type": "code",
   "execution_count": null,
   "metadata": {},
   "outputs": [],
   "source": [
    "x = np.linspace(-5, 5, 300)\n",
    "y = tanh(x)\n",
    "\n",
    "plt.plot(x, y)\n",
    "\n",
    "plt.hlines(y=0, xmin=-5, xmax=5, color='gray', linestyles='dotted')\n",
    "plt.vlines(x=0, ymin=-2, ymax=2, color='gray', linestyles='dotted')\n",
    "\n",
    "plt.title(\"Fonction tangente hyperbolique\")\n",
    "plt.axis([-5, 5, -2, 2]);"
   ]
  },
  {
   "cell_type": "markdown",
   "metadata": {},
   "source": [
    "D\u00e9riv\u00e9e :\n",
    "\n",
    "$$\n",
    "\\tanh '= \\frac{1}{\\cosh^{2}} = 1-\\tanh^{2}\n",
    "$$"
   ]
  },
  {
   "cell_type": "code",
   "execution_count": null,
   "metadata": {
    "collapsed": true,
    "scrolled": true
   },
   "outputs": [],
   "source": [
    "def d_tanh(x):\n",
    "    y = 1. - np.power(np.tanh(x), 2)\n",
    "    return y"
   ]
  },
  {
   "cell_type": "code",
   "execution_count": null,
   "metadata": {},
   "outputs": [],
   "source": [
    "x = np.linspace(-5, 5, 300)\n",
    "y = d_tanh(x)\n",
    "\n",
    "plt.plot(x, y)\n",
    "\n",
    "plt.hlines(y=0, xmin=-5, xmax=5, color='gray', linestyles='dotted')\n",
    "plt.vlines(x=0, ymin=-2, ymax=2, color='gray', linestyles='dotted')\n",
    "\n",
    "plt.title(\"Fonction d\u00e9riv\u00e9e de la tangente hyperbolique\")\n",
    "plt.axis([-5, 5, -2, 2]);"
   ]
  },
  {
   "cell_type": "markdown",
   "metadata": {},
   "source": [
    "### Fonction logistique"
   ]
  },
  {
   "cell_type": "markdown",
   "metadata": {},
   "source": [
    "Fonctions ayant pour expression\n",
    "\n",
    "$$\n",
    "f(t) = K \\frac{1}{1+ae^{-rt}}\n",
    "$$\n",
    "\n",
    "o\u00f9 $K$ et $r$ sont des r\u00e9els positifs et $a$ un r\u00e9el quelconque.\n",
    "\n",
    "Les fonctions sigmo\u00efdes sont un cas particulier de fonctions logistique avec $a > 0$."
   ]
  },
  {
   "cell_type": "markdown",
   "metadata": {},
   "source": [
    "## Python implementation"
   ]
  },
  {
   "cell_type": "code",
   "execution_count": null,
   "metadata": {
    "collapsed": true
   },
   "outputs": [],
   "source": [
    "# Define the activation function and its derivative\n",
    "activation_function = tanh\n",
    "d_activation_function = d_tanh"
   ]
  },
  {
   "cell_type": "code",
   "execution_count": null,
   "metadata": {
    "collapsed": true
   },
   "outputs": [],
   "source": [
    "def init_weights(num_input_cells, num_output_cells, num_cell_per_hidden_layer, num_hidden_layers=1):\n",
    "    \"\"\"\n",
    "    The returned `weights` object is a list of weight matrices,\n",
    "    where weight matrix at index $i$ represents the weights between\n",
    "    layer $i$ and layer $i+1$.\n",
    "    \n",
    "    Numpy array shapes for e.g. num_input_cells=2, num_output_cells=2,\n",
    "    num_cell_per_hidden_layer=3 (without taking account bias):\n",
    "    - in:        (2,)\n",
    "    - in+bias:   (3,)\n",
    "    - w[0]:      (3,3)\n",
    "    - w[0]+bias: (3,4)\n",
    "    - w[1]:      (3,2)\n",
    "    - w[1]+bias: (4,2)\n",
    "    - out:       (2,)\n",
    "    \"\"\"\n",
    "    \n",
    "    # TODO:\n",
    "    # - faut-il que wij soit positif ?\n",
    "    # - loi normale plus appropri\u00e9e que loi uniforme ?\n",
    "    # - quel sigma conseill\u00e9 ?\n",
    "    \n",
    "    W = []\n",
    "    \n",
    "    # Weights between the input layer and the first hidden layer\n",
    "    W.append(np.random.uniform(low=0., high=1., size=(num_input_cells + 1, num_cell_per_hidden_layer + 1)))\n",
    "    \n",
    "    # Weights between hidden layers (if there are more than one hidden layer)\n",
    "    for layer in range(num_hidden_layers - 1):\n",
    "        W.append(np.random.uniform(low=0., high=1., size=(num_cell_per_hidden_layer + 1, num_cell_per_hidden_layer + 1)))\n",
    "    \n",
    "    # Weights between the last hidden layer and the output layer\n",
    "    W.append(np.random.uniform(low=0., high=1., size=(num_cell_per_hidden_layer + 1, num_output_cells)))\n",
    "    \n",
    "    return W"
   ]
  },
  {
   "cell_type": "code",
   "execution_count": null,
   "metadata": {
    "collapsed": true
   },
   "outputs": [],
   "source": [
    "def evaluate_network(weights, input_signal):      # TODO: find a better name\n",
    "    \n",
    "    # Add the bias on the input layer\n",
    "    input_signal = np.concatenate([input_signal, [-1]])\n",
    "    \n",
    "    assert input_signal.ndim == 1\n",
    "    assert input_signal.shape[0] == weights[0].shape[0]\n",
    "    \n",
    "    # Compute the output of the first hidden layer\n",
    "    p = np.dot(input_signal, weights[0])\n",
    "    output_hidden_layer = activation_function(p)\n",
    "    \n",
    "    # Compute the output of the intermediate hidden layers\n",
    "    # TODO: check this\n",
    "    num_layers = len(weights)\n",
    "    for n in range(num_layers - 2):\n",
    "        p = np.dot(output_hidden_layer, weights[n + 1])\n",
    "        output_hidden_layer = activation_function(p)\n",
    "    \n",
    "    # Compute the output of the output layer\n",
    "    p = np.dot(output_hidden_layer, weights[-1])\n",
    "    output_signal = activation_function(p)\n",
    "    \n",
    "    return output_signal"
   ]
  },
  {
   "cell_type": "code",
   "execution_count": null,
   "metadata": {
    "collapsed": true
   },
   "outputs": [],
   "source": [
    "def compute_gradient():\n",
    "    # TODO\n",
    "    pass"
   ]
  },
  {
   "cell_type": "code",
   "execution_count": null,
   "metadata": {},
   "outputs": [],
   "source": [
    "weights = init_weights(num_input_cells=2, num_output_cells=2, num_cell_per_hidden_layer=3, num_hidden_layers=1)\n",
    "print(weights)\n",
    "#print(weights[0].shape)\n",
    "#print(weights[1].shape)"
   ]
  },
  {
   "cell_type": "code",
   "execution_count": null,
   "metadata": {},
   "outputs": [],
   "source": [
    "input_signal = np.array([.1, .2])\n",
    "input_signal"
   ]
  },
  {
   "cell_type": "code",
   "execution_count": null,
   "metadata": {
    "scrolled": true
   },
   "outputs": [],
   "source": [
    "evaluate_network(weights, input_signal)"
   ]
  },
  {
   "cell_type": "markdown",
   "metadata": {},
   "source": [
    "## Notes de la documentation sklearn"
   ]
  },
  {
   "cell_type": "markdown",
   "metadata": {},
   "source": [
    "- *features* : les donn\u00e9es d'entr\u00e9e du r\u00e9seau (i.e. les entr\u00e9es de la 1ere couche du r\u00e9seau)\n",
    "  - \"nombre de features\" =  taille du vecteur d'entr\u00e9es\n",
    "- *loss function*: fonction objectif (ou fonction d'erreur)\n",
    "- *fitting*: processus d'apprentissage (training)\n",
    "- *sample*: exemple"
   ]
  },
  {
   "cell_type": "markdown",
   "metadata": {},
   "source": [
    "Les biais sont stock\u00e9s dans une liste de vecteurs plut\u00f4t qu'une liste de scalaires... pourquoi ???"
   ]
  },
  {
   "cell_type": "markdown",
   "metadata": {},
   "source": [
    "Avantages des PMC:\n",
    "- capables d'apprendre des mod\u00e8les non lin\u00e9aires\n",
    "- capables d'apprendre des mod\u00e8les en temps r\u00e9el (apprentissage *on-line*)\n",
    "\n",
    "Inconvenients des PMC:\n",
    "- les PMC avec une ou plusieurs couches cach\u00e9es ont une fonction objectif non-convexe avec des minimas locaux. Par cons\u00e9quent, le r\u00e9sultat du processus d'apprentissage peut varier d'une execution \u00e0 l'autre suivant la valeur des poids initiaux et l'obtention d'un r\u00e9seau optimal n'est pas garanti\n",
    "- pour obtenir un r\u00e9sultat satisfaisant, il est souvant n\u00e9cessaire de r\u00e9gler (plus ou moins empiriquement) de nombreux meta-param\u00e8tres (nombres de couches cach\u00e9es, nombre de neurones sur les couches cach\u00e9es, nombres d'it\u00e9rations, ...)\n",
    "- une  mauvaise normalisation des donn\u00e9es d'entr\u00e9e a un impact tr\u00e8s n\u00e9gatif sur la qualit\u00e9 du r\u00e9sultat (\"mal conditionn\u00e9\" ???)"
   ]
  },
  {
   "cell_type": "markdown",
   "metadata": {},
   "source": [
    "*Cross-Entropy Loss Function*: ...\n",
    "\n",
    "*Softmax*: ...\n",
    "\n",
    "*Multi-label classification*: ... mod\u00e8le de classifieur qui permet a un exemple d'appartenir \u00e0 plusieurs classes"
   ]
  },
  {
   "cell_type": "markdown",
   "metadata": {},
   "source": [
    "## Notes du livre de Jean-Philippe Rennard"
   ]
  },
  {
   "cell_type": "code",
   "execution_count": null,
   "metadata": {
    "collapsed": true
   },
   "outputs": [],
   "source": []
  },
  {
   "cell_type": "markdown",
   "metadata": {
    "collapsed": true
   },
   "source": [
    "## Shallow et Deep learning: \u00e0 lire"
   ]
  },
  {
   "cell_type": "markdown",
   "metadata": {},
   "source": [
    "- https://www.miximum.fr/blog/introduction-au-deep-learning-2/\n",
    "- https://sciencetonnante.wordpress.com/2016/04/08/le-deep-learning/\n",
    "- https://www.technologies-ebusiness.com/enjeux-et-tendances/le-deep-learning-pas-a-pas\n",
    "- http://scholar.google.fr/scholar_url?url=https://arxiv.org/pdf/1404.7828&hl=fr&sa=X&scisig=AAGBfm07Y2UDlPpbninerh4gxHUj2SJfDQ&nossl=1&oi=scholarr&sqi=2&ved=0ahUKEwjfxMu7jKnUAhUoCsAKHR_RDlkQgAMIKygAMAA"
   ]
  }
 ],
 "metadata": {
  "anaconda-cloud": {},
  "kernelspec": {
   "display_name": "Python [default]",
   "language": "python",
   "name": "python3"
  },
  "language_info": {
   "codemirror_mode": {
    "name": "ipython",
    "version": 3
   },
   "file_extension": ".py",
   "mimetype": "text/x-python",
   "name": "python",
   "nbconvert_exporter": "python",
   "pygments_lexer": "ipython3",
   "version": "3.5.3"
  }
 },
 "nbformat": 4,
 "nbformat_minor": 1
}