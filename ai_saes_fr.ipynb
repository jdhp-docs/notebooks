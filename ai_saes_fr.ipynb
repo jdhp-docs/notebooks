{
 "cells": [
  {
   "cell_type": "markdown",
   "metadata": {
    "tags": [
     "meta"
    ]
   },
   "source": [
    "# Self-adaptive Evolution Strategy (SAES)"
   ]
  },
  {
   "cell_type": "markdown",
   "metadata": {
    "collapsed": true,
    "tags": [
     "hide"
    ]
   },
   "source": [
    "$\\newcommand{\\R}{\\mathbb{R}}$\n",
    "$\\newcommand{\\E}{\\mathbb{E}}$\n",
    "\n",
    "$\\newcommand{\\vs}[1]{\\boldsymbol{#1}}$\n",
    "$\\newcommand{\\ms}[1]{\\boldsymbol{#1}}$"
   ]
  },
  {
   "cell_type": "markdown",
   "metadata": {},
   "source": [
    "## Algorithm"
   ]
  },
  {
   "cell_type": "markdown",
   "metadata": {},
   "source": [
    "---\n",
    "\n",
    "Self-adaptive Evolution Strategy (SAES) with revaluations. ${\\cal{N}}$ denotes some independent standard Gaussian random variable, with dimension as required in equations above.\n",
    "\n",
    "---\n",
    "\n",
    "**Parameters:**\n",
    "$K>0$,\n",
    "$\\zeta\\geq 0$,\n",
    "$\\lambda>\\mu>0$\n",
    "and a dimension $d>0$.\n",
    "\n",
    "**Input:**\n",
    "an initial parent population $x_{1,i} \\in \\R^d$\n",
    "and an initial $\\sigma_{1,i} = 1$ with $i \\in \\{1, \\dots, \\mu \\}$.\n",
    "\n",
    "---\n",
    "\n",
    "$n\\leftarrow 1$\n",
    "\n",
    "**while** (stop condition) **do**\n",
    "\n",
    "$\\quad$ Generate $\\lambda$ individuals $i_j$ independently with $j \\in \\{ 1, \\dots, \\lambda \\}$ using\n",
    "    \n",
    "\\begin{eqnarray}\n",
    "    \\sigma_j & = & \\sigma_{n, mod(j-1, \\mu) + 1} \\times \\exp\\left( \\frac{1}{2d} \\cal{N} \\right) \\\\\n",
    "    i_j      & = & \\vs{x}_{n, mod(j-1, \\mu) + 1} + \\sigma_j \\cal{N}.\n",
    "\\end{eqnarray}\n",
    "    \n",
    "$\\quad$ Evaluate each of them $\\lceil Kn^\\zeta \\rceil$ times and average their fitness values\n",
    "\n",
    "$\\quad$ Define $j_1, \\dots, j_{\\lambda}$ so that\n",
    "\n",
    "$$\n",
    "\\E_{\\lceil Kn^\\zeta \\rceil}[f(i_{j_1})]\\leq \\E_{\\lceil Kn^\\zeta \\rceil}[f(i_{j_2})] \\leq \\dots \\leq \\E_{\\lceil Kn^\\zeta \\rceil}[f(i_{j_{\\lambda}})]\n",
    "$$\n",
    "\n",
    "$\\quad$ where $\\E_m$ denotes a sample average over $m$ resamplings.\n",
    "\n",
    "$\\quad$ Update: compute $\\vs{x}_{n+1, k}$ and $\\sigma_{n+1, k}$ using\n",
    "\n",
    "\\begin{eqnarray}\n",
    "\\sigma_{n+1,k}   &=& \\sigma_{j_{k}}, \\quad k \\in \\{1, \\dots, \\mu\\}\\\\\n",
    "{\\vs{x}_{n+1,k}} &=& i_{j_{k}},      \\quad k \\in \\{1, \\dots, \\mu\\}\n",
    "\\end{eqnarray}\n",
    "\n",
    "$\\quad$ $n\\leftarrow n+1$\n",
    "\n",
    "**end while**"
   ]
  },
  {
   "cell_type": "markdown",
   "metadata": {},
   "source": [
    "## A Python inplementation (draft)"
   ]
  },
  {
   "cell_type": "markdown",
   "metadata": {},
   "source": [
    "* http://www.scholarpedia.org/article/Evolution_strategies\n",
    "* https://homepages.fhv.at/hgb/downloads/mu_mu_I_lambda-ES.oct"
   ]
  },
  {
   "cell_type": "code",
   "execution_count": null,
   "metadata": {
    "collapsed": true
   },
   "outputs": [],
   "source": [
    "\"\"\"Individual class\n",
    "\n",
    "- x: the individual's value\n",
    "- sigma: the individual's sigma\n",
    "\"\"\"\n",
    "class Individual():\n",
    "    def __init__(self, x, sigma, y):\n",
    "        self.x = x\n",
    "        self.sigma = sigma\n",
    "        self.y = y           # cost or reward\n",
    "\n",
    "    def __str__(self):\n",
    "        return \"{0} {1} {2}\".format(self.x, self.sigma, self.y)\n",
    "    \n",
    "\n",
    "mu = 3                # number of parents\n",
    "lambda_ = 12          # number of offspring\n",
    "x_init = None         # initial parent vector\n",
    "sigma_init = 1        # initial global mutation strength sigma\n",
    "sigma_min = 1e-5      # ES stops when sigma is smaller than sigma_min\n",
    "num_evals_func = None # How many times noisy objective functions should be called for each evaluation (considere the average value of these calls)\n",
    "\n",
    "log.data[\"x\"] = []\n",
    "log.data[\"sigma\"] = []\n",
    "log.data[\"y\"] = []\n",
    "\n",
    "\n",
    "def select_individuals(pop):\n",
    "    \"\"\"Sort the population according to the individuals' fitnesses.\n",
    "    \n",
    "    - pop: a list of Individual objects\n",
    "    \"\"\"\n",
    "    pop.sort(key=lambda indiv: indiv.y, reverse=False)\n",
    "    return pop[:mu]\n",
    "\n",
    "\n",
    "def recombine_individuals(parents):\n",
    "    \"\"\"Perform intermediate (multi-)recombination.\n",
    "    \n",
    "    - parents: a list of Individual objects\n",
    "    \"\"\"\n",
    "    parents_y = np.array([indiv.x for indiv in parents])\n",
    "    parents_sigma = np.array([indiv.sigma for indiv in parents])\n",
    "    recombinant = Individual(parents_y.mean(axis=0), parents_sigma.mean(), 0) # TODO\n",
    "    return recombinant\n",
    "\n",
    "\n",
    "def optimize(objective_function, num_gen=50):\n",
    "\n",
    "    #if x_init is None:\n",
    "    #    x_init = np.random.random(objective_function.ndim)\n",
    "    #    x_init -= (objective_function.domain_min + objective_function.domain_max) / 2.  # TODO\n",
    "    #    x_init *= (objective_function.domain_max - objective_function.domain_min)       # TODO\n",
    "    #else:\n",
    "    assert x_init.ndim == 1\n",
    "    assert x_init.shape[0] == objective_function.ndim\n",
    "\n",
    "    # Initialization\n",
    "    n = x_init.shape[0]         # determine search space dimensionality n\n",
    "    tau = 1. / math.sqrt(2.*n)       # self-adaptation learning rate\n",
    "\n",
    "    # Initializing individual population\n",
    "    y = objective_function(x_init)\n",
    "    parent_pop = [Individual(x_init, sigma_init, y) for i in range(mu)]\n",
    "\n",
    "    gen_index = 0\n",
    "\n",
    "    # Evolution loop of the (mu/mu_I, lambda)-sigma-SA-ES\n",
    "    while parent_pop[0].sigma > sigma_min and gen_index < num_gen:\n",
    "        offspring_pop = []\n",
    "        recombinant = recombine_individuals(parent_pop) # TODO: BUG ? this statement may be in the next line\n",
    "        for offspring_index in range(1, lambda_):\n",
    "            offspring_sigma = recombinant.sigma * math.exp(tau * random.normalvariate(0,1))\n",
    "            offspring_x = recombinant.x + offspring_sigma * np.random.normal(size=n)\n",
    "\n",
    "            if num_evals_func is None:\n",
    "                # If the objective function is deterministic\n",
    "                offspring_y = objective_function(offspring_x)\n",
    "            else:\n",
    "                # If the objective function is stochastic\n",
    "                # TODO: move this in function or in optimizer (?) class so that it is available for all optimiser implementations...\n",
    "                num_evals = num_evals_func(gen_index)\n",
    "                offspring_y_list = np.zeros(num_evals)\n",
    "                for eval_index in range(num_evals):\n",
    "                    offspring_y_list[eval_index] = float(objective_function(offspring_x))\n",
    "                offspring_y = np.mean(offspring_y_list)\n",
    "                # TODO: generate the confidence bounds of offspring_y and plot it\n",
    "\n",
    "            offspring = Individual(offspring_x, offspring_sigma, offspring_y)\n",
    "            offspring_pop.append(offspring)\n",
    "        parent_pop = select_individuals(offspring_pop)\n",
    "        #parent_pop = select_individuals(parent_pop + offspring_pop)\n",
    "\n",
    "        gen_index += 1\n",
    "\n",
    "        log.data[\"x\"].append(parent_pop[0].x)  # TODO use a \"log\" object instead\n",
    "        log.data[\"y\"].append(parent_pop[0].y)  # TODO\n",
    "        print(parent_pop[0])\n",
    "\n",
    "    plotSamples(np.array(log.data[\"x\"]), np.array(log.data[\"y\"]), objective_function=objective_function)\n",
    "    plotCosts(np.array(log.data[\"y\"]))\n",
    "\n",
    "    return parent_pop[0].x"
   ]
  }
 ],
 "metadata": {
  "anaconda-cloud": {},
  "celltoolbar": "Tags",
  "kernelspec": {
   "display_name": "Python [default]",
   "language": "python",
   "name": "python3"
  },
  "language_info": {
   "codemirror_mode": {
    "name": "ipython",
    "version": 3
   },
   "file_extension": ".py",
   "mimetype": "text/x-python",
   "name": "python",
   "nbconvert_exporter": "python",
   "pygments_lexer": "ipython3",
   "version": "3.5.3"
  }
 },
 "nbformat": 4,
 "nbformat_minor": 1
}
