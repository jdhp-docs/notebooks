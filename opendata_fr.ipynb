{
 "cells": [
  {
   "cell_type": "markdown",
   "metadata": {},
   "source": [
    "# L'Open Data"
   ]
  },
  {
   "cell_type": "markdown",
   "metadata": {},
   "source": [
    "Cette page répertorie une liste de liens vers des bases de données ouvertes."
   ]
  },
  {
   "cell_type": "markdown",
   "metadata": {},
   "source": [
    "## Monde\n",
    "\n",
    "- http://data.un.org/\n",
    "- http://data.worldbank.org/\n",
    "- https://index.okfn.org/dataset/"
   ]
  },
  {
   "cell_type": "markdown",
   "metadata": {},
   "source": [
    "## Europe\n",
    "\n",
    "- http://open-data.europa.eu/"
   ]
  },
  {
   "cell_type": "markdown",
   "metadata": {},
   "source": [
    "## France\n",
    "\n",
    "- Le portail *open data* du gouvernement: https://www.data.gouv.fr/\n",
    "- https://index.okfn.org/place/fr/\n",
    "- http://global.census.okfn.org/place/fr\n",
    "- Base de données régionales et départementales sur l'environnement, l'énergie, le transport, le logement et la construction:\n",
    "    - http://www.stats.environnement.developpement-durable.gouv.fr/Eider/series.do\n",
    "    - http://social-sante.gouv.fr/sante-et-environnement/eaux/article/qualite-de-l-eau-potable\n",
    "\n",
    "### Qualité de l'air\n",
    "\n",
    "- http://www.stats.environnement.developpement-durable.go\n",
    "\n",
    "### Qualité de l'eau\n",
    "\n",
    "- Bases régionales et départementales: http://www.stats.environnement.developpement-durable.go\n",
    "- Qualité de l'eau potable par ville: http://social-sante.gouv.fr/sante-et-environnement/eaux\n",
    "\n",
    "### Météo\n",
    "\n",
    "- ARPEGE Atmospheric global forecast model up to 102H: https://donneespubliques.meteofrance.fr/?fond=produit&id_produit=130&id_rubrique=51\n",
    "- AROME forecast model containing all required characteristics: https://donneespubliques.meteofrance.fr/?fond=produit&id_produit=131&id_rubrique=51\n",
    "\n",
    "### Géolocalisation des adresses postales\n",
    "\n",
    "- La base nationale des adresses (sources: IGN et La Poste): https://adresse.data.gouv.fr/\n",
    "\n",
    "### Enseignement supérieur et recherche\n",
    "\n",
    "- https://data.enseignementsup-recherche.gouv.fr/explore/?sort=modified\n",
    "\n",
    "### Transports\n",
    "\n",
    "- https://data.sncf.com/\n",
    "\n",
    "### Entreprises\n",
    "\n",
    "- Base *Sirene*: http://www.sirene.fr/sirene/public/accueil\n",
    "- Base *Infogreffe*: https://www.infogreffe.fr/societes\n",
    "- https://www.data.gouv.fr/fr/datasets/base-sirene-des-en"
   ]
  },
  {
   "cell_type": "markdown",
   "metadata": {},
   "source": [
    "## Ile-de-France\n",
    "\n",
    "- https://data.iledefrance.fr/"
   ]
  },
  {
   "cell_type": "markdown",
   "metadata": {},
   "source": [
    "## Paris\n",
    "\n",
    "- https://opendata.paris.fr/explore/"
   ]
  },
  {
   "cell_type": "markdown",
   "metadata": {},
   "source": [
    "## Liens utiles\n",
    "\n",
    "- https://okfn.org/projects/\n",
    "- http://www.etalab.gouv.fr/\n",
    "- https://schoolofdata.org/courses/"
   ]
  }
 ],
 "metadata": {
  "kernelspec": {
   "display_name": "Python [default]",
   "language": "python",
   "name": "python3"
  },
  "language_info": {
   "codemirror_mode": {
    "name": "ipython",
    "version": 3
   },
   "file_extension": ".py",
   "mimetype": "text/x-python",
   "name": "python",
   "nbconvert_exporter": "python",
   "pygments_lexer": "ipython3",
   "version": "3.5.3"
  }
 },
 "nbformat": 4,
 "nbformat_minor": 2
}
