{
 "cells": [
  {
   "cell_type": "markdown",
   "metadata": {
    "tags": [
     "meta",
     "draft"
    ]
   },
   "source": [
    "# Courbes de Bézier"
   ]
  },
  {
   "cell_type": "markdown",
   "metadata": {
    "tags": [
     "hide"
    ]
   },
   "source": [
    "**TODO**\n",
    "* https://fr.wikipedia.org/wiki/Courbe_de_B%C3%A9zier#Courbes_de_B.C3.A9zier_cubiques\n",
    "* https://gist.github.com/Juanlu001/7284462\n",
    "* https://www.johndcook.com/blog/2009/12/21/bezier-basics/\n",
    "* https://stackoverflow.com/questions/12643079/b%C3%A9zier-curve-fitting-with-scipy"
   ]
  },
  {
   "cell_type": "code",
   "execution_count": null,
   "metadata": {
    "tags": [
     "hide"
    ]
   },
   "outputs": [],
   "source": [
    "%matplotlib inline"
   ]
  },
  {
   "cell_type": "markdown",
   "metadata": {},
   "source": [
    "## Courbe de Bézier cubique"
   ]
  },
  {
   "cell_type": "markdown",
   "metadata": {},
   "source": [
    "### Écriture paramétrique\n",
    "\n",
    "La forme *paramétrique* d'une courbe de Bézier cubique s'écrit comme une combinaison affine de ses 4 points de contrôle $\\mathbf{P}_0$, $\\mathbf{P}_1$, $\\mathbf{P}_2$ et $\\mathbf{P}_3 \\in \\mathbb{R}^2$:\n",
    "$$\n",
    "\\begin{align}\n",
    "f: & \\mathbb{R} \\to \\mathbb{R}^2 \\\\\n",
    "   & \\mathbf{f}(t) \\mapsto \\mathbf{P}_0 (1-t)^3 + 3 \\mathbf{P}_1 t(1-t)^2 + 3 \\mathbf{P}_2 t^2 (1-t) + \\mathbf{P}_3 t^3\n",
    "\\end{align}\n",
    "$$\n",
    "pour $0 \\leq t \\leq 1$."
   ]
  },
  {
   "cell_type": "code",
   "execution_count": null,
   "metadata": {},
   "outputs": [],
   "source": [
    "import numpy as np\n",
    "\n",
    "p0 = np.array([0, 0])\n",
    "p1 = np.array([0, 1])\n",
    "p2 = np.array([1, 1])\n",
    "p3 = np.array([1, 0])\n",
    "\n",
    "def f(t):\n",
    "    return p0 * (1.-t)**3 + 3. * p1 * t * (1.-t)**2 + 3. * p2 * t**2 * (1.-t) + p3 * t**3\n",
    "            \n",
    "plt.plot(*p0, \"xr\")\n",
    "plt.plot(*p1, \"xr\")\n",
    "plt.plot(*p2, \"xr\")\n",
    "plt.plot(*p3, \"xr\")\n",
    "\n",
    "offset = np.array([0.02, 0.02])\n",
    "\n",
    "plt.text(*(p0 + offset), r\"$P_0$\")\n",
    "plt.text(*(p1 + offset), r\"$P_1$\")\n",
    "plt.text(*(p2 + offset), r\"$P_2$\")\n",
    "plt.text(*(p3 + offset), r\"$P_3$\")\n",
    "\n",
    "XY = np.array([f(t) for t in np.linspace(0., 1., 100)])    # TODO: improve this\n",
    "\n",
    "plt.plot(*XY.T)\n",
    "\n",
    "plt.xlim(-0.1, 1.1)\n",
    "plt.ylim(-0.1, 1.1)\n",
    "\n",
    "plt.show()"
   ]
  },
  {
   "cell_type": "markdown",
   "metadata": {
    "tags": [
     "hide"
    ]
   },
   "source": [
    "### Écriture récursive\n",
    "\n",
    "Avantage: plus efficace en terme de calculs\n",
    "\n",
    "**TODO**: c.f. https://fr.wikipedia.org/wiki/Courbe_de_B%C3%A9zier#Courbes_de_B.C3.A9zier_cubiques"
   ]
  }
 ],
 "metadata": {
  "anaconda-cloud": {},
  "celltoolbar": "Tags",
  "kernelspec": {
   "display_name": "Python [default]",
   "language": "python",
   "name": "python3"
  },
  "language_info": {
   "codemirror_mode": {
    "name": "ipython",
    "version": 3
   },
   "file_extension": ".py",
   "mimetype": "text/x-python",
   "name": "python",
   "nbconvert_exporter": "python",
   "pygments_lexer": "ipython3",
   "version": "3.5.3"
  }
 },
 "nbformat": 4,
 "nbformat_minor": 1
}
