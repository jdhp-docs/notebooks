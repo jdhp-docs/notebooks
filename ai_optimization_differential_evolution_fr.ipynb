{
 "cells": [
  {
   "cell_type": "markdown",
   "metadata": {
    "tags": [
     "meta",
     "draft"
    ]
   },
   "source": [
    "#  L'Évolution Différentielle"
   ]
  },
  {
   "cell_type": "markdown",
   "metadata": {
    "tags": [
     "hide"
    ]
   },
   "source": [
    "**TODO**\n",
    "* Livre metaheuristiques p.165\n",
    "* [Scipy's implementation](https://docs.scipy.org/doc/scipy/reference/generated/scipy.optimize.differential_evolution.html#scipy.optimize.differential_evolution)\n",
    "* https://en.wikipedia.org/wiki/Differential_evolution\n",
    "* http://www.scholarpedia.org/article/Metaheuristic_Optimization#Differential_Evolution\n",
    "* [Practical advises](http://www1.icsi.berkeley.edu/~storn/code.html#prac)"
   ]
  },
  {
   "cell_type": "markdown",
   "metadata": {},
   "source": [
    "L'Évolution Différentielle (*Differential Evolution* ou DE en anglais) est une méthode d'optimisation pour des problèmes continus développée par R. Storn et K. Price en 1995 [Storn95] [Storn97].\n",
    "\n",
    "* **[Storn95]**: Storn, R., & Price, K. (1995). *Differential evolution - a simple and efficient adaptive scheme for global optimization over continuous spaces*. Technical Report TR95-012, International Computer Science Institute, Berkeley, California. [PDF document](ftp://ftp.icsi.berkeley.edu/pub/techreports/1995/tr-95-012.pdf).\n",
    "* **[Storn97]**: Storn, R., & Price, K. (1997). *Differential evolution - a simple and efficient heuristic for global optimization over continuous spaces*. Journal of global optimization, 11(4), 341-359."
   ]
  },
  {
   "cell_type": "markdown",
   "metadata": {},
   "source": [
    "## L'algorithme"
   ]
  },
  {
   "cell_type": "markdown",
   "metadata": {},
   "source": [
    "### Notation simplifiée"
   ]
  },
  {
   "cell_type": "markdown",
   "metadata": {},
   "source": [
    "À chaque génération,\n",
    "\n",
    "$\\quad$ Pour tous les individus $i$ de la population\n",
    "\n",
    "$\\quad\\quad$ 1. **MUTATION**: \n",
    "\n",
    "$\\quad\\quad\\quad$ 1.1 on choisi 3 individus différents au hasard $\\boldsymbol{x}_{r1}$, $\\boldsymbol{x}_{r2}$ et $\\boldsymbol{x}_{r3}$\n",
    "\n",
    "$\\quad\\quad\\quad\\quad$ $\\boldsymbol{x}_{r2}$ et $\\boldsymbol{x}_{r3}$ vont permettre de déterminer automatiquement la direction et l'amplitude le la mutation\n",
    "\n",
    "$\\quad\\quad\\quad\\quad$ (i.e. la direction de recherche et son amplitude)\n",
    "\n",
    "$\\quad\\quad\\quad$ 1.2 on calcule un mutant $\\boldsymbol{v}_{i} \\leftarrow \\boldsymbol{x}_{r1} + F . (\\boldsymbol{x}_{r2} - \\boldsymbol{x}_{r3})$\n",
    "\n",
    "$\\quad\\quad$ 2. **CROISEMENT**:\n",
    "\n",
    "$\\quad\\quad\\quad$ on crée un individu \"test\" dont les composantes sont aléatoirement prises soit dans $\\boldsymbol{x}_i$ soit dans $\\boldsymbol{v}_i$\n",
    "\n",
    "$\\quad\\quad$ 3. **SELECTION**:\n",
    "\n",
    "$\\quad\\quad\\quad$ si $\\boldsymbol{v}_{i}$ est meilleur que $\\boldsymbol{x}_{i}$, il le remplace à la génération suivante."
   ]
  },
  {
   "cell_type": "markdown",
   "metadata": {},
   "source": [
    "### Notation plus formelle"
   ]
  },
  {
   "cell_type": "markdown",
   "metadata": {},
   "source": [
    "Ci-dessous une écriture plus formelle de l'algorithme."
   ]
  },
  {
   "cell_type": "markdown",
   "metadata": {},
   "source": [
    "**Notations**:\n",
    "* $D$ : the dimension of input vectors, $D \\in \\mathbb{N}^*_+$.\n",
    "* $t$ : the current iteration index (or generation index), $t \\in \\mathbb{N}^*_+$.\n",
    "* $T$ : the total number of iteration (or generation), $T \\in \\mathbb{N}^*_+$.\n",
    "* $N$ : the size of the population, $N > 3$.\n",
    "* $F$ : the *differential weight*. In principle, $F \\in [0,2]$, but in practice, a scheme with $F \\in [0,1]$ is more efficient and stable ([scholarpedia](http://www.scholarpedia.org/article/Metaheuristic_Optimization#Differential_Evolution)).\n",
    "* $Cr$ : the crossover probability parameter, $Cr \\in [0,1]$. \n",
    "\n",
    "---\n",
    "\n",
    "**Algorithm's parameters:** $N$, $Cr$ and $F$\n",
    "\n",
    "---\n",
    "\n",
    "**Input:**\n",
    "* An initial population $(\\boldsymbol{x}_{1,1}, \\boldsymbol{x}_{2,1}, \\dots, \\boldsymbol{x}_{N,1})$ with $\\boldsymbol{x}_{0,i} \\in \\mathbb{R}^D$\n",
    "\n",
    "---\n",
    "\n",
    "**pour chaque** generation $t = 1, \\dots, T$\n",
    "\n",
    "$\\quad$ **pour chaque** individu $i = 1, \\dots, N$\n",
    "\n",
    "$\\quad\\quad$ **1. MUTATION:**\n",
    "\n",
    "$\\quad\\quad\\quad$ Choisi aléatoirement 3 individus différents $\\boldsymbol{x}_{r1,t}$, $\\boldsymbol{x}_{r2,t}$ et $\\boldsymbol{x}_{r3,t}$ dans la population\n",
    "\n",
    "$\\quad\\quad\\quad$ Construit un individu mutant $\\boldsymbol{v}_{i,t} \\leftarrow \\boldsymbol{x}_{r1,t} + F (\\boldsymbol{x}_{r2,t} - \\boldsymbol{x}_{r3,t})$\n",
    "\n",
    "$\\quad\\quad\\quad$ où $F$ est un \"facteur d'amplification\" de la mutation.\n",
    "\n",
    "$\\quad\\quad\\quad$ L'algorithme extrait des informations de direction et de distance à produire pour sa composante aléatoire à partir des deux individus $\\boldsymbol{x}_{r2,t}$ et $\\boldsymbol{x}_{r3,t}$.\n",
    "\n",
    "\n",
    "$\\quad\\quad$ **2. CROISEMENT:** l'individu $\\boldsymbol{x}_{i,t}$ est \"mélangé\" avec le mutant $\\boldsymbol{v}_{i,t}$ pour former un individu test $\\boldsymbol{u}_{i,t}$ \n",
    "\n",
    "$\\quad\\quad\\quad$ Choisi aléatoirement une dimension $d_{r,i}$.\n",
    "\n",
    "$\\quad\\quad\\quad$ La $d^{ieme}$ composante $v_{d,i,t}$ de $\\boldsymbol{v}_{i,t}$ sera toujours transmise à $\\boldsymbol{u}_{i,t}$ afin de s'assurer qu'il obtienne au moins un élément de $\\boldsymbol{v}_{i,t}$.\n",
    "\n",
    "$\\quad\\quad\\quad$ **pour chaque** dimension $d = 1, \\dots, D$\n",
    "\n",
    "$$\n",
    "u_{d,i,t} \\leftarrow\n",
    "\\left\\{\n",
    "\\begin{align}\n",
    "v_{d,i,t} \\quad & \\text{ si } \\mathcal{B}(Cr) = 1 \\text{ ou si } d = d_{r,i}\\\\\n",
    "x_{d,i,t} \\quad & \\text{ sinon.}\n",
    "\\end{align}\n",
    "\\right.\n",
    "$$\n",
    "\n",
    "$\\quad\\quad\\quad\\quad$  où $\\mathcal{B}(Cr)$ est une variable aléatoire suivant une loi de Bernoulli de paramètre $Cr$\n",
    "\n",
    "$\\quad\\quad\\quad\\quad$ et ou $u_{d,i,t}$, $v_{d,i,t}$ et $x_{d,i,t}$ sont respectivement les $d^{ieme}$ composantes de $\\boldsymbol{u}_{i,t}$, $\\boldsymbol{v}_{i,t}$ et $\\boldsymbol{x}_{i,t}$\n",
    "\n",
    "$\\quad\\quad$ **3. SELECTION:**\n",
    "\n",
    "$\\quad\\quad\\quad$ **si** $f(\\boldsymbol{u}_{i,t}) < f(\\boldsymbol{x}_{i,t})$\n",
    "\n",
    "$\\quad\\quad\\quad\\quad \\boldsymbol{x}_{i,t+1} \\leftarrow \\boldsymbol{u}_{i,t}$\n",
    "\n",
    "$\\quad\\quad\\quad$ **sinon**\n",
    "\n",
    "$\\quad\\quad\\quad\\quad \\boldsymbol{x}_{i,t+1} \\leftarrow \\boldsymbol{x}_{i,t}$\n",
    "\n",
    "$\\quad$ **fin pour**\n",
    "\n",
    "**fin pour**"
   ]
  },
  {
   "cell_type": "code",
   "execution_count": null,
   "metadata": {
    "tags": [
     "hide"
    ]
   },
   "outputs": [],
   "source": [
    "# import python packages here..."
   ]
  }
 ],
 "metadata": {
  "anaconda-cloud": {},
  "celltoolbar": "Tags",
  "kernelspec": {
   "display_name": "Python [default]",
   "language": "python",
   "name": "python3"
  },
  "language_info": {
   "codemirror_mode": {
    "name": "ipython",
    "version": 3
   },
   "file_extension": ".py",
   "mimetype": "text/x-python",
   "name": "python",
   "nbconvert_exporter": "python",
   "pygments_lexer": "ipython3",
   "version": "3.5.3"
  }
 },
 "nbformat": 4,
 "nbformat_minor": 1
}
