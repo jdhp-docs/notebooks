{
 "cells": [
  {
   "cell_type": "markdown",
   "metadata": {},
   "source": [
    "# Python string format snippets"
   ]
  },
  {
   "cell_type": "markdown",
   "metadata": {},
   "source": [
    "## About"
   ]
  },
  {
   "cell_type": "markdown",
   "metadata": {},
   "source": [
    "Most comments in this notebook are taken from https://docs.python.org/3/library/string.html#format-specification-mini-language."
   ]
  },
  {
   "cell_type": "markdown",
   "metadata": {},
   "source": [
    "## Documentation"
   ]
  },
  {
   "cell_type": "markdown",
   "metadata": {},
   "source": [
    "* https://docs.python.org/3/library/string.html#format-specification-mini-language"
   ]
  },
  {
   "cell_type": "markdown",
   "metadata": {},
   "source": [
    "## Import directives"
   ]
  },
  {
   "cell_type": "code",
   "execution_count": null,
   "metadata": {
    "collapsed": true
   },
   "outputs": [],
   "source": [
    "import math"
   ]
  },
  {
   "cell_type": "markdown",
   "metadata": {},
   "source": [
    "## Short documentation"
   ]
  },
  {
   "cell_type": "markdown",
   "metadata": {},
   "source": [
    "```\n",
    "\"{field_name:format_spec}\".format(...)\n",
    " \n",
    "format_spec ::=  [[fill]align][sign][#][0][width][,][.precision][type]\n",
    " \n",
    "fill        ::=  <any character>\n",
    "align       ::=  \"<\" | \">\" | \"=\" | \"^\"\n",
    "sign        ::=  \"+\" | \"-\" | \" \"\n",
    "width       ::=  integer\n",
    "precision   ::=  integer\n",
    "type        ::=  \"b\" | \"c\" | \"d\" | \"e\" | \"E\" | \"f\" | \"F\" | \"g\" | \"G\" | \"n\" | \"o\" | \"s\" | \"x\" | \"X\" | \"%\"\n",
    "``` \n",
    "\n",
    "* The '#' option:\n",
    "    - Is only valid for integers, and only for binary, octal, or hexadecimal output.\n",
    "    - If present, it specifies that the output will be prefixed by '0b', '0o', or '0x\n",
    "* The ',' option:\n",
    "    - Signals the use of a comma for a thousands separator.\n",
    "    - For a locale aware separator, use the 'n' integer presentation type instead."
   ]
  },
  {
   "cell_type": "markdown",
   "metadata": {
    "collapsed": false
   },
   "source": [
    "## Fill and align"
   ]
  },
  {
   "cell_type": "markdown",
   "metadata": {},
   "source": [
    "- '<' : Forces the field to be left-aligned within the available space (this is the default for most objects).\n",
    "- '>' : Forces the field to be right-aligned within the available space (this is the default for numbers).\n",
    "- '=' : Forces the padding to be placed after the sign (if any) but before the digits. This is used for printing fields in the form \u2018+000000120\u2019. This alignment option is only valid for numeric types.\n",
    "- '^' : Forces the field to be centered within the available space."
   ]
  },
  {
   "cell_type": "code",
   "execution_count": null,
   "metadata": {
    "collapsed": false
   },
   "outputs": [],
   "source": [
    "\"{:03}\".format(1)"
   ]
  },
  {
   "cell_type": "code",
   "execution_count": null,
   "metadata": {
    "collapsed": false
   },
   "outputs": [],
   "source": [
    "\"{:.<9}\".format(3)"
   ]
  },
  {
   "cell_type": "code",
   "execution_count": null,
   "metadata": {
    "collapsed": false
   },
   "outputs": [],
   "source": [
    "\"{:.<9}\".format(11)"
   ]
  },
  {
   "cell_type": "code",
   "execution_count": null,
   "metadata": {
    "collapsed": false
   },
   "outputs": [],
   "source": [
    "\"{:.>9}\".format(3)"
   ]
  },
  {
   "cell_type": "code",
   "execution_count": null,
   "metadata": {
    "collapsed": false
   },
   "outputs": [],
   "source": [
    "\"{:.>9}\".format(11)"
   ]
  },
  {
   "cell_type": "code",
   "execution_count": null,
   "metadata": {
    "collapsed": false
   },
   "outputs": [],
   "source": [
    "\"{:.=9}\".format(3)"
   ]
  },
  {
   "cell_type": "code",
   "execution_count": null,
   "metadata": {
    "collapsed": false
   },
   "outputs": [],
   "source": [
    "\"{:.=9}\".format(11)"
   ]
  },
  {
   "cell_type": "code",
   "execution_count": null,
   "metadata": {
    "collapsed": false
   },
   "outputs": [],
   "source": [
    "\"{:.^9}\".format(3)"
   ]
  },
  {
   "cell_type": "code",
   "execution_count": null,
   "metadata": {
    "collapsed": false
   },
   "outputs": [],
   "source": [
    "\"{:.^9}\".format(11)"
   ]
  },
  {
   "cell_type": "markdown",
   "metadata": {},
   "source": [
    "# Sign"
   ]
  },
  {
   "cell_type": "markdown",
   "metadata": {},
   "source": [
    "- '+'   : indicates that a sign should be used for both positive as well as negative numbers.\n",
    "- '-'   : indicates that a sign should be used only for negative numbers (this is the default behavior).\n",
    "- space : indicates that a leading space should be used on positive numbers, and a minus sign on negative numbers."
   ]
  },
  {
   "cell_type": "code",
   "execution_count": null,
   "metadata": {
    "collapsed": false
   },
   "outputs": [],
   "source": [
    "\"{:+}\".format(3)"
   ]
  },
  {
   "cell_type": "code",
   "execution_count": null,
   "metadata": {
    "collapsed": false
   },
   "outputs": [],
   "source": [
    "\"{:+}\".format(-3)"
   ]
  },
  {
   "cell_type": "code",
   "execution_count": null,
   "metadata": {
    "collapsed": false
   },
   "outputs": [],
   "source": [
    "\"{:-}\".format(3)"
   ]
  },
  {
   "cell_type": "code",
   "execution_count": null,
   "metadata": {
    "collapsed": false
   },
   "outputs": [],
   "source": [
    "\"{:-}\".format(-3)"
   ]
  },
  {
   "cell_type": "code",
   "execution_count": null,
   "metadata": {
    "collapsed": false
   },
   "outputs": [],
   "source": [
    "\"{: }\".format(3)"
   ]
  },
  {
   "cell_type": "code",
   "execution_count": null,
   "metadata": {
    "collapsed": false
   },
   "outputs": [],
   "source": [
    "\"{: }\".format(-3)"
   ]
  },
  {
   "cell_type": "markdown",
   "metadata": {},
   "source": [
    "## Width"
   ]
  },
  {
   "cell_type": "code",
   "execution_count": null,
   "metadata": {
    "collapsed": false
   },
   "outputs": [],
   "source": [
    "\"{:3}\".format(3)"
   ]
  },
  {
   "cell_type": "code",
   "execution_count": null,
   "metadata": {
    "collapsed": false
   },
   "outputs": [],
   "source": [
    "\"{:3}\".format(11)"
   ]
  },
  {
   "cell_type": "markdown",
   "metadata": {},
   "source": [
    "## Precision"
   ]
  },
  {
   "cell_type": "code",
   "execution_count": null,
   "metadata": {
    "collapsed": false
   },
   "outputs": [],
   "source": [
    "\"{}\".format(math.pi)"
   ]
  },
  {
   "cell_type": "code",
   "execution_count": null,
   "metadata": {
    "collapsed": false
   },
   "outputs": [],
   "source": [
    "\"{:.2f}\".format(math.pi)"
   ]
  },
  {
   "cell_type": "markdown",
   "metadata": {},
   "source": [
    "## Width + Precision"
   ]
  },
  {
   "cell_type": "markdown",
   "metadata": {},
   "source": [
    "In the following examples, 9 is the **total** space for the number (i.e. including dot and decimals) thus the following example has 4 characters for decimals, one character for the dot and 4 remaining characters for integers."
   ]
  },
  {
   "cell_type": "code",
   "execution_count": null,
   "metadata": {
    "collapsed": false
   },
   "outputs": [],
   "source": [
    "\"{:9.4f}\".format(math.pi)"
   ]
  },
  {
   "cell_type": "code",
   "execution_count": null,
   "metadata": {
    "collapsed": false
   },
   "outputs": [],
   "source": [
    "\"{:9.4f}\".format(12.123456789)"
   ]
  },
  {
   "cell_type": "markdown",
   "metadata": {},
   "source": [
    "## Type"
   ]
  },
  {
   "cell_type": "markdown",
   "metadata": {},
   "source": [
    "### Iteger"
   ]
  },
  {
   "cell_type": "markdown",
   "metadata": {},
   "source": [
    "The available integer presentation types are:\n",
    "- 'b'  : Binary format. Outputs the number in base 2.\n",
    "- 'c'  : Character. Converts the integer to the corresponding unicode character before printing.\n",
    "- 'd'  : Decimal Integer. Outputs the number in base 10.\n",
    "- 'o'  : Octal format. Outputs the number in base 8.\n",
    "- 'x'  : Hex format. Outputs the number in base 16, using lower- case letters for the digits above 9.\n",
    "- 'X'  : Hex format. Outputs the number in base 16, using upper- case letters for the digits above 9.\n",
    "- 'n'  : Number. This is the same as 'd', except that it uses the current locale setting to insert the appropriate number separator characters.\n",
    "- None : The same as 'd'."
   ]
  },
  {
   "cell_type": "code",
   "execution_count": null,
   "metadata": {
    "collapsed": false
   },
   "outputs": [],
   "source": [
    "\"{:}\".format(21)"
   ]
  },
  {
   "cell_type": "code",
   "execution_count": null,
   "metadata": {
    "collapsed": false
   },
   "outputs": [],
   "source": [
    "\"{:b}\".format(21)"
   ]
  },
  {
   "cell_type": "code",
   "execution_count": null,
   "metadata": {
    "collapsed": false
   },
   "outputs": [],
   "source": [
    "\"{:#b}\".format(21)"
   ]
  },
  {
   "cell_type": "code",
   "execution_count": null,
   "metadata": {
    "collapsed": false
   },
   "outputs": [],
   "source": [
    "\"{:c}\".format(21)"
   ]
  },
  {
   "cell_type": "code",
   "execution_count": null,
   "metadata": {
    "collapsed": false
   },
   "outputs": [],
   "source": [
    "\"{:d}\".format(21)"
   ]
  },
  {
   "cell_type": "code",
   "execution_count": null,
   "metadata": {
    "collapsed": false
   },
   "outputs": [],
   "source": [
    "\"{:o}\".format(21)"
   ]
  },
  {
   "cell_type": "code",
   "execution_count": null,
   "metadata": {
    "collapsed": false
   },
   "outputs": [],
   "source": [
    "\"{:#o}\".format(21)"
   ]
  },
  {
   "cell_type": "code",
   "execution_count": null,
   "metadata": {
    "collapsed": false
   },
   "outputs": [],
   "source": [
    "\"{:x}\".format(21)"
   ]
  },
  {
   "cell_type": "code",
   "execution_count": null,
   "metadata": {
    "collapsed": false
   },
   "outputs": [],
   "source": [
    "\"{:X}\".format(21)"
   ]
  },
  {
   "cell_type": "code",
   "execution_count": null,
   "metadata": {
    "collapsed": false
   },
   "outputs": [],
   "source": [
    "\"{:#x}\".format(21)"
   ]
  },
  {
   "cell_type": "code",
   "execution_count": null,
   "metadata": {
    "collapsed": false
   },
   "outputs": [],
   "source": [
    "\"{:#X}\".format(21)"
   ]
  },
  {
   "cell_type": "code",
   "execution_count": null,
   "metadata": {
    "collapsed": false
   },
   "outputs": [],
   "source": [
    "\"{:n}\".format(21)"
   ]
  },
  {
   "cell_type": "markdown",
   "metadata": {},
   "source": [
    "### Float"
   ]
  },
  {
   "cell_type": "markdown",
   "metadata": {},
   "source": [
    "The available presentation types for floating point and decimal values are:\n",
    "- 'e'  : Exponent notation. Prints the number in scientific notation using the letter \u2018e\u2019 to indicate the exponent. The default precision is 6.\n",
    "- 'E'  : Exponent notation. Same as 'e' except it uses an upper case \u2018E\u2019 as the separator character.\n",
    "- 'f'  : Fixed point. Displays the number as a fixed-point number. The default precision is 6.\n",
    "- 'F'  : Fixed point. Same as 'f'.\n",
    "- 'g'  : General format.\n",
    "    - For a given precision p >= 1, this rounds the number to p significant digits and then formats the result in either fixed-point format or in scientific notation, depending on its magnitude.\n",
    "    - The precise rules are as follows:\n",
    "        - Suppose that the result formatted with presentation type 'e' and precision p-1 would have exponent exp. Then if -4 <= exp < p, the number is formatted with presentation type 'f' and precision p-1-exp. Otherwise, the number is formatted with presentation type 'e' and precision p-1.\n",
    "        - In both cases insignificant trailing zeros are removed from the significand, and the decimal point is also removed if there are no remaining digits following it.\n",
    "    - Positive and negative infinity, positive and negative zero, and nans, are formatted as inf, -inf, 0, -0 and nan respectively, regardless of the precision.\n",
    "    - A precision of 0 is treated as equivalent to a precision of 1.\n",
    "    - The default precision is 6.\n",
    "- 'G'  : General format. Same as 'g' except switches to 'E' if the number gets too large. The representations of infinity and NaN are uppercased, too.\n",
    "- 'n'  : Number. This is the same as 'g', except that it uses the current locale setting to insert the appropriate number separator characters.\n",
    "- '%'  : Percentage. Multiplies the number by 100 and displays in fixed ('f') format, followed by a percent sign.\n",
    "- None : The same as 'g'."
   ]
  },
  {
   "cell_type": "code",
   "execution_count": null,
   "metadata": {
    "collapsed": false
   },
   "outputs": [],
   "source": [
    "\"{}\".format(math.pi)"
   ]
  },
  {
   "cell_type": "code",
   "execution_count": null,
   "metadata": {
    "collapsed": false
   },
   "outputs": [],
   "source": [
    "\"{:e}\".format(math.pi)"
   ]
  },
  {
   "cell_type": "code",
   "execution_count": null,
   "metadata": {
    "collapsed": false
   },
   "outputs": [],
   "source": [
    "\"{:E}\".format(math.pi)"
   ]
  },
  {
   "cell_type": "code",
   "execution_count": null,
   "metadata": {
    "collapsed": false
   },
   "outputs": [],
   "source": [
    "\"{:f}\".format(math.pi)"
   ]
  },
  {
   "cell_type": "code",
   "execution_count": null,
   "metadata": {
    "collapsed": false
   },
   "outputs": [],
   "source": [
    "\"{:F}\".format(math.pi)"
   ]
  },
  {
   "cell_type": "code",
   "execution_count": null,
   "metadata": {
    "collapsed": false
   },
   "outputs": [],
   "source": [
    "\"{:g}\".format(math.pi)"
   ]
  },
  {
   "cell_type": "code",
   "execution_count": null,
   "metadata": {
    "collapsed": false
   },
   "outputs": [],
   "source": [
    "\"{:G}\".format(math.pi)"
   ]
  },
  {
   "cell_type": "code",
   "execution_count": null,
   "metadata": {
    "collapsed": false
   },
   "outputs": [],
   "source": [
    "\"{:n}\".format(math.pi)"
   ]
  },
  {
   "cell_type": "code",
   "execution_count": null,
   "metadata": {
    "collapsed": false
   },
   "outputs": [],
   "source": [
    "\"{:%}\".format(math.pi)"
   ]
  },
  {
   "cell_type": "markdown",
   "metadata": {},
   "source": [
    "#### Comparison between {:f}, {:e} and {:g}"
   ]
  },
  {
   "cell_type": "code",
   "execution_count": null,
   "metadata": {
    "collapsed": false
   },
   "outputs": [],
   "source": [
    "numbers = [1000000, 100000, 10000, 1000, 100, 10, 1, 0.1, 0.01, 0.001, 0.0001, 0.00001]\n",
    "for number in numbers:\n",
    "    print(\"{:f}\".format(number), end=\"\\t\")\n",
    "    print(\"{:e}\".format(number), end=\"\\t\")\n",
    "    print(\"{:g}\".format(number))"
   ]
  },
  {
   "cell_type": "markdown",
   "metadata": {},
   "source": [
    "#### Comparison between {:f}, {:e} and {:g} with a precision of 2"
   ]
  },
  {
   "cell_type": "code",
   "execution_count": null,
   "metadata": {
    "collapsed": false
   },
   "outputs": [],
   "source": [
    "numbers = [1000, 100, 10, 1, 0.1, 0.01, 0.001, 0.0001, 0.00001]\n",
    "for number in numbers:\n",
    "    print(\"{:.2f}\".format(number), end=\"\\t\\t\")\n",
    "    print(\"{:.2e}\".format(number), end=\"\\t\")\n",
    "    print(\"{:.2g}\".format(number))"
   ]
  },
  {
   "cell_type": "markdown",
   "metadata": {},
   "source": [
    "#### More examples with {:g}"
   ]
  },
  {
   "cell_type": "code",
   "execution_count": null,
   "metadata": {
    "collapsed": false
   },
   "outputs": [],
   "source": [
    "numbers = [1000, 100, 10, 1, 0.1, 0.01, 0.001, 0.0001, 0.00001]\n",
    "for number in numbers:\n",
    "    print(\"{:g}\".format(number), end=\"\\t\")\n",
    "    print(\"{:.3g}\".format(number), end=\"\\t\")\n",
    "    print(\"{:.2g}\".format(number), end=\"\\t\")\n",
    "    print(\"{:.1g}\".format(number), end=\"\\t\")\n",
    "    print(\"{:.0g}\".format(number))"
   ]
  },
  {
   "cell_type": "code",
   "execution_count": null,
   "metadata": {
    "collapsed": false
   },
   "outputs": [],
   "source": [
    "numbers = [1234000, 123400, 12340, 1234, 123.4, 12.34, 1.234, 0.1234, 0.01234, 0.001234, 0.0001234, 0.00001234]\n",
    "for number in numbers:\n",
    "    print(\"{:<10g}\".format(number), end=\"\\t\")\n",
    "    print(\"{:<10.6g}\".format(number), end=\"\\t\")\n",
    "    print(\"{:<10.5g}\".format(number), end=\"\\t\")\n",
    "    print(\"{:<10.4g}\".format(number), end=\"\\t\")\n",
    "    print(\"{:<10.3g}\".format(number), end=\"\\t\")\n",
    "    print(\"{:<10.2g}\".format(number), end=\"\\t\")\n",
    "    print(\"{:<10.1g}\".format(number))"
   ]
  },
  {
   "cell_type": "code",
   "execution_count": null,
   "metadata": {
    "collapsed": true
   },
   "outputs": [],
   "source": []
  }
 ],
 "metadata": {
  "anaconda-cloud": {},
  "kernelspec": {
   "display_name": "Python [default]",
   "language": "python",
   "name": "python3"
  },
  "language_info": {
   "codemirror_mode": {
    "name": "ipython",
    "version": 3
   },
   "file_extension": ".py",
   "mimetype": "text/x-python",
   "name": "python",
   "nbconvert_exporter": "python",
   "pygments_lexer": "ipython3",
   "version": "3.5.2"
  }
 },
 "nbformat": 4,
 "nbformat_minor": 0
}