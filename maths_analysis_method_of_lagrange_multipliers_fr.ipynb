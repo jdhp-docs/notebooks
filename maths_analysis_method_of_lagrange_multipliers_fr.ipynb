{
 "cells": [
  {
   "cell_type": "markdown",
   "metadata": {
    "tags": [
     "draft",
     "meta"
    ]
   },
   "source": [
    "# La méthode des multiplicateurs de Lagrange"
   ]
  },
  {
   "cell_type": "markdown",
   "metadata": {
    "tags": [
     "hide"
    ]
   },
   "source": [
    "**TODO**:\n",
    "* https://www.google.fr/webhp?ie=utf-8&oe=utf-8&client=firefox-b&gfe_rd=cr&ei=kutIWYeiKoXS8Afc25yQBQ#safe=active&q=m%C3%A9thode+des+multiplicateurs+de+lagrange"
   ]
  },
  {
   "cell_type": "markdown",
   "metadata": {},
   "source": [
    "## À quoi ça sert ?\n",
    "\n",
    "À trouver les extremums (minimums, maximums) d'une fonction $f$ d'une ou plusieurs variables $x_1, \\dots, x_n$, sous réserve que l'ensemble solution respecte un contrainte d'égalité: $g(x_1, \\dots, x_n) = 0$.\n",
    "Autrement dit la méthode des multiplicateurs de Lagrange va permettre de résoudre certains problèmes d'*optimisation sous contraintes*.\n",
    "\n",
    "Exemple: maximiser $f(x_1,x_2)$ soumise aux contraintes $g(x_1,x_2)=0$."
   ]
  },
  {
   "cell_type": "markdown",
   "metadata": {},
   "source": [
    "## Cas d'une fonction à une variable"
   ]
  },
  {
   "cell_type": "markdown",
   "metadata": {},
   "source": [
    "Dans ce cas, on écrit simplement $x := x_1$."
   ]
  },
  {
   "cell_type": "markdown",
   "metadata": {},
   "source": [
    "On pose la fonction:\n",
    "\n",
    "$$\n",
    "\\mathcal{L}(x, \\lambda) = f(x) + \\lambda g(x)\n",
    "$$\n",
    "\n",
    "$\\lambda$ est ce qu'on appelle un *multiplicateur de Lagrange* ; sa valeur n'est pas connue à priori."
   ]
  },
  {
   "cell_type": "markdown",
   "metadata": {},
   "source": [
    "Pour maximiser $\\mathcal{L}$,\n",
    "on annule ses dérivées partielles (condition nécessaire du premier ordre). Le problème initial revient à résoudre le système d'équations à deux inconnues suivant:\n",
    "\n",
    "$$\n",
    "\\left\\{\n",
    "\\begin{array}{rcl}\n",
    "    {\\large \\frac{\\partial\\mathcal{L}(x,\\lambda)}{\\partial x}} & = & 0 \\\\\n",
    "    {\\large \\frac{\\partial\\mathcal{L}(x,\\lambda)}{\\partial \\lambda}} & = & 0\n",
    "\\end{array} \\right.\n",
    "$$"
   ]
  },
  {
   "cell_type": "markdown",
   "metadata": {},
   "source": [
    "### Exemple"
   ]
  },
  {
   "cell_type": "markdown",
   "metadata": {},
   "source": [
    "On cherche à résoudre le problème d'optimisation suivant:\n",
    "\n",
    "$$\n",
    "\\begin{align}\n",
    "    \\max        & \\quad f(x) = a x^2  + b x  + c \\\\\n",
    "    \\text{s.t.} & \\quad g(x) = a' x^2 + b' x + c' = 0\n",
    "\\end{align}\n",
    "$$\n",
    "\n",
    "avec par exemple\n",
    "\n",
    "$a = -\\frac12$,\n",
    "$b = 0$,\n",
    "$c = 20$,\n",
    "$a' = 1$,\n",
    "$b' = 2$ et\n",
    "$c' = -10$\n",
    "\n",
    "soit\n",
    "\n",
    "$$\n",
    "\\begin{align}\n",
    "    \\max        & \\quad f(x) = -\\frac12 x^2 + 20 \\\\\n",
    "    \\text{s.t.} & \\quad g(x) = x^2 + 2 x - 10 = 0\n",
    "\\end{align}\n",
    "$$\n",
    "\n",
    "avec:\n",
    "\n",
    "* $f(x) = -\\frac12 x^2 + 20$ la fonction à maximiser\n",
    "* $g(x) = x^2 + 2 x - 10 = 0$ la contrainte à respecter\n",
    "\n",
    "La fonction de Lagrange correspondant à ce problème est:\n",
    "\n",
    "$$\n",
    "\\begin{align}\n",
    "\\mathcal{L}(x,\\lambda) & = f(x) + \\lambda g(x) \\\\\n",
    "                       & = -\\frac12 x^2 + 20 + \\lambda (x^2 + 2 x - 10) \\\\\n",
    "                       & = -\\frac12 x^2 + 20 + \\lambda x^2 + 2 \\lambda x - 10 \\lambda \\\\\n",
    "                       & = (-\\frac12 + \\lambda) x^2 + 2 \\lambda x + 20 - 10 \\lambda\n",
    "\\end{align}\n",
    "$$\n",
    "\n",
    "Les conditions du premier ordre (annulation des dérivées premières) sont données par:\n",
    "\n",
    "$$\n",
    "\\begin{align}\n",
    "\\left\\{\n",
    "\\begin{array}{rcl}\n",
    "    {\\large \\frac{\\partial\\mathcal{L}(x,\\lambda)}{\\partial x}} & = & 0 \\\\\n",
    "    {\\large \\frac{\\partial\\mathcal{L}(x,\\lambda)}{\\partial \\lambda}} & = & 0\n",
    "\\end{array} \\right.\n",
    "& \\Leftrightarrow\n",
    "\\left\\{\n",
    "\\begin{array}{rcl}\n",
    "    2 (-\\frac12 + \\lambda) x + 2 \\lambda & = & 0 \\\\\n",
    "    x^2 + 2 x - 10 & = & 0\n",
    "\\end{array} \\right. \\\\\n",
    "& \\\\\n",
    "& \\Leftrightarrow\n",
    "\\left\\{\n",
    "\\begin{array}{rcl}\n",
    "    -x + 2 \\lambda x + 2 \\lambda & = & 0 \\\\\n",
    "    x & = & -\\sqrt{11} - 1 \\quad \\text{ou} \\quad x = \\sqrt{11} - 1  \n",
    "\\end{array} \\right. \\\\\n",
    "& \\\\\n",
    "& \\Leftrightarrow\n",
    "\\left\\{\n",
    "\\begin{array}{rcl}\n",
    "    2 \\lambda x + 2 \\lambda & = & x \\\\\n",
    "    x & = & -\\sqrt{11} - 1 \\quad \\text{ou} \\quad x = \\sqrt{11} - 1\n",
    "\\end{array} \\right. \\\\\n",
    "& \\\\\n",
    "& \\Leftrightarrow\n",
    "\\left\\{\n",
    "\\begin{array}{rcl}\n",
    "    \\lambda & = & \\frac{x}{2x + 2} \\\\\n",
    "    x & = & -\\sqrt{11} - 1 \\quad \\text{ou} \\quad x = \\sqrt{11} - 1\n",
    "\\end{array} \\right. \\\\\n",
    "& \\\\\n",
    "& \\Leftrightarrow\n",
    "\\left\\{\n",
    "\\begin{array}{rcl}\n",
    "    \\lambda & = & \\frac{-\\sqrt{11} - 1}{2(-\\sqrt{11} - 1) + 2} \\\\\n",
    "    x & = & -\\sqrt{11} - 1\n",
    "\\end{array} \\right.\n",
    "\\quad \\text{ou} \\quad\n",
    "\\left\\{\n",
    "\\begin{array}{rcl}\n",
    "    \\lambda & = & \\frac{\\sqrt{11} - 1}{2(\\sqrt{11} - 1) + 2} \\\\\n",
    "    x & = & \\sqrt{11} - 1\n",
    "\\end{array} \\right. \\\\\n",
    "& \\\\\n",
    "& \\Leftrightarrow\n",
    "\\left\\{\n",
    "\\begin{array}{rcl}\n",
    "    \\lambda & = & \\frac{\\sqrt{11} + 1}{2 \\sqrt{11}} \\\\\n",
    "    x & = & -\\sqrt{11} - 1\n",
    "\\end{array} \\right.\n",
    "\\quad \\text{ou} \\quad\n",
    "\\left\\{\n",
    "\\begin{array}{rcl}\n",
    "    \\lambda & = & \\frac{\\sqrt{11} - 1}{2 \\sqrt{11}} \\\\\n",
    "    x & = & \\sqrt{11} - 1\n",
    "\\end{array} \\right.\n",
    "\\end{align}\n",
    "$$"
   ]
  },
  {
   "cell_type": "code",
   "execution_count": null,
   "metadata": {
    "collapsed": true,
    "tags": [
     "hide"
    ]
   },
   "outputs": [],
   "source": [
    "# Check results\n",
    "\n",
    "#def deriv_partielle_x(x, _lambda):\n",
    "#    return 2. * (-0.5 + _lambda) * x + 2. * _lambda\n",
    "\n",
    "#def deriv_partielle_lambda(x, _lambda):\n",
    "#    return x**2. + 2. * x - 10.\n",
    "\n",
    "#print((math.sqrt(11.) + 1.)/(2. * math.sqrt(11)))\n",
    "#print((math.sqrt(11.) - 1.)/(2. * math.sqrt(11)))\n",
    "\n",
    "#print(-math.sqrt(11.) -1.)\n",
    "#print(math.sqrt(11.) - 1.)\n",
    "\n",
    "#print(g_roots, lambda_roots)\n",
    "\n",
    "#print(deriv_partielle_x(g_roots[0], lambda_roots[0]))      # ERR  TODO\n",
    "#print(deriv_partielle_lambda(g_roots[0], lambda_roots[0])) # OK\n",
    "\n",
    "#print(deriv_partielle_x(g_roots[1], lambda_roots[1]))      # ERR  TODO\n",
    "#print(deriv_partielle_lambda(g_roots[1], lambda_roots[1])) # OK\n",
    "\n",
    "# TODO: REVOIR LES CALCULS POUR DERIV_LAMBDA ET LAMBDA_ROOTS, LES RESULTATS NE VERIFIENT PAS LE SYSTEME..."
   ]
  },
  {
   "cell_type": "markdown",
   "metadata": {
    "tags": [
     "hide"
    ]
   },
   "source": [
    "TODO\n",
    "\n",
    "Bon, ok, l'exemple 1D est un peu particulier... On se retrouve à devoir choisir entre 2 solutions, les 2 racines de $g$ et on pouvait très bien faire ça dés le début sans avoir recours aux multiplicateurs de Lagrange...\n",
    "\n",
    "Cet exemple illustratif - dont la motivation initiale était de pouvoir représenter la fonction $\\mathcal{L}$ et ses points stationnaires - n'est peut-être pas très pertinent du coup...\n",
    "Sauf à montrer en quoi les multiplicateurs de Lagrange deviennent réellement utiles en 2D et plus...\n",
    "\n",
    "TODO: ajouter un exemple 2D : $\\max f(x) = -x^2 + 10$ s.t. $g(x) = x_1^2 + 2 x_2^2 - 1 = 0$ : une ellipse centrée sur 0 (intersection entre f et un plan (incliné))."
   ]
  },
  {
   "cell_type": "code",
   "execution_count": null,
   "metadata": {
    "collapsed": true,
    "tags": [
     "hide"
    ]
   },
   "outputs": [],
   "source": [
    "#%matplotlib notebook\n",
    "%matplotlib inline\n",
    "\n",
    "import numpy as np\n",
    "import matplotlib.pyplot as plt\n",
    "\n",
    "def f(x):\n",
    "    a = -0.5\n",
    "    b = 0.\n",
    "    c = 20.\n",
    "    return a * x**2 + b * x + c\n",
    "    \n",
    "class ConstraintFunction:\n",
    "    def __init__(self):\n",
    "        self.a = 1.\n",
    "        self.b = 2.\n",
    "        self.c = -10.\n",
    "        \n",
    "    def __call__(self, x):\n",
    "        return self.a * x**2 + self.b * x + self.c\n",
    "    \n",
    "    def delta(self):\n",
    "        return self.b ** 2. - 4 * self.a * self.c\n",
    "    \n",
    "    def roots(self):\n",
    "        return np.array([\n",
    "                         (-g.b + math.sqrt(g.delta()))/(2. * g.a),\n",
    "                         (-g.b - math.sqrt(g.delta()))/(2. * g.a)\n",
    "                        ])\n",
    "\n",
    "g = ConstraintFunction()\n",
    "lambda_roots = np.array([\n",
    "                         (math.sqrt(11.) + 1.)/(2. * math.sqrt(11.)),\n",
    "                         (math.sqrt(11.) - 1.)/(2. * math.sqrt(11.))\n",
    "                        ])\n",
    "\n",
    "g_roots = g.roots()\n",
    "\n",
    "x_min = -10.\n",
    "x_max = 10.\n",
    "\n",
    "lambda_min = -3.       # TODO\n",
    "lambda_max = 3.        # TODO"
   ]
  },
  {
   "cell_type": "code",
   "execution_count": null,
   "metadata": {
    "collapsed": true,
    "scrolled": false,
    "tags": [
     "hide_code"
    ]
   },
   "outputs": [],
   "source": [
    "# Build datas ###############\n",
    "\n",
    "x = np.linspace(x_min, x_max, 200)\n",
    "\n",
    "fx = f(x)\n",
    "gx = g(x)\n",
    "\n",
    "lambda_ = 1.\n",
    "lx = fx + lambda_ * gx\n",
    "\n",
    "# Plot data #################\n",
    "\n",
    "fig = plt.figure(figsize=(8.0, 8.0))\n",
    "ax = fig.add_subplot(111)\n",
    "\n",
    "ax.plot(x, fx, \"-b\", label=r\"$f(x)$\")\n",
    "ax.plot(x, gx, \"-r\", label=r\"$g(x)$\")\n",
    "ax.plot(x, lx, \"--k\", label=r\"$\\mathcal{L}(x)$\")\n",
    "\n",
    "ax.plot(np.array([g_roots, g_roots, np.zeros(len(g_roots))]),\n",
    "        np.array([np.zeros(len(g_roots)), f(g_roots), f(g_roots)]), \n",
    "        \".:r\",\n",
    "        lw=1)\n",
    "        #label=r\"$g(x) = 0$\")\n",
    "\n",
    "ax.hlines(y=0, xmin=x[0], xmax=x[-1], colors='k')\n",
    "ax.vlines(x=0, ymin=f(x[0]), ymax=g(x[-1]), colors='k')\n",
    "\n",
    "# Set title and labels ######\n",
    "\n",
    "ax.set_title(r\"Graphical representation of $f$, $g$ and $\\mathcal{L}$\", fontsize=18)\n",
    "ax.set_xlabel(r\"$x$\", fontsize=18)\n",
    "#ax.set_ylabel(r\"$f(x)$\", fontsize=18)\n",
    "\n",
    "# Set legend ################\n",
    "\n",
    "ax.legend(loc='upper right', fontsize=18)\n",
    "\n",
    "# Plot ######################\n",
    "\n",
    "plt.show()"
   ]
  },
  {
   "cell_type": "code",
   "execution_count": null,
   "metadata": {
    "collapsed": true,
    "scrolled": false,
    "tags": [
     "hide_code"
    ]
   },
   "outputs": [],
   "source": [
    "from mpl_toolkits.mplot3d import axes3d\n",
    "from matplotlib import cm\n",
    "#from matplotlib.colors import LightSource\n",
    "\n",
    "# Build datas ###############\n",
    "\n",
    "N = 100\n",
    "\n",
    "x = np.linspace(x_min, x_max, N)\n",
    "lambda_ = np.linspace(lambda_min, lambda_max, N)\n",
    "\n",
    "xx,ll = np.meshgrid(x, lambda_)\n",
    "\n",
    "fx = f(x)\n",
    "gx = g(x)\n",
    "\n",
    "z = fx + ll * gx\n",
    "\n",
    "# Plot data #################\n",
    "\n",
    "fig = plt.figure(figsize=(10.0, 10.0))\n",
    "\n",
    "ax = axes3d.Axes3D(fig)\n",
    "#surf = ax.plot_surface(xx, ll, z, cmap=cm.jet, rstride=1, cstride=1, color='b', shade=False, alpha=1.)\n",
    "#fig.colorbar(surf, shrink=0.5, aspect=5)\n",
    "\n",
    "#ax = fig.gca(projection='3d')\n",
    "#ax.plot_surface(xx, ll, z, rstride=5, cstride=5, alpha=0.3)\n",
    "#cset = ax.contourf(xx, ll, z, zdir='z', offset=0, cmap=cm.coolwarm)\n",
    "\n",
    "#ax = axes3d.Axes3D(fig)\n",
    "#ax.plot_wireframe(xx, ll, z, color='k', alpha=0.3, cstride=0, rstride=1)\n",
    "ax.plot_wireframe(xx, ll, z, color='k', alpha=0.3, cstride=0, rstride=2)\n",
    "#ax.plot_wireframe(xx, ll, z, color='k', alpha=0.3, cstride=1, rstride=0)\n",
    "\n",
    "\n",
    "lambda_0 = [0]\n",
    "xx,ll0 = np.meshgrid(x, lambda_0)\n",
    "z0 = fx + ll0 * gx\n",
    "ax.plot_wireframe(xx, ll0, z0, color='r', alpha=1., cstride=0, rstride=1)\n",
    "\n",
    "\n",
    "#x0 = np.array([root1])\n",
    "#fx0 = f(x0)\n",
    "#gx0 = g(x0)\n",
    "#xx0,ll = np.meshgrid(x0, lambda_)\n",
    "#z0 = fx0 + ll * gx0\n",
    "#ax.plot_wireframe(xx0, ll, z0, color='g', alpha=1., cstride=1, rstride=0)\n",
    "\n",
    "\n",
    "x0 = np.array(g_roots)\n",
    "fx0 = f(x0)\n",
    "gx0 = g(x0)\n",
    "xx0,ll = np.meshgrid(x0, lambda_)\n",
    "z0 = fx0 + ll * gx0\n",
    "ax.plot_wireframe(xx0, ll, z0, color='g', alpha=1., cstride=1, rstride=0)\n",
    "\n",
    "ax.scatter(g_roots,                                # x\n",
    "           lambda_roots,                           # y\n",
    "           f(g_roots) + lambda_roots * g(g_roots), #z\n",
    "           label=\"points stationnaires\")\n",
    "\n",
    "ax.legend(loc='upper right', fontsize=14)\n",
    "\n",
    "#fig, ax = plt.subplots(figsize=(10.0, 10.0), subplot_kw=dict(projection='3d'))\n",
    "#ls = LightSource(270, 45)\n",
    "## To use a custom hillshading mode, override the built-in shading and pass\n",
    "## in the rgb colors of the shaded surface calculated from \"shade\".\n",
    "#rgb = ls.shade(z, cmap=cm.gist_earth, vert_exag=0.1, blend_mode='soft')\n",
    "#surf = ax.plot_surface(xx, ll, z, rstride=1, cstride=1, facecolors=rgb,\n",
    "#                       linewidth=0, antialiased=False, shade=True)\n",
    "\n",
    "\n",
    "ax.set_xlabel(r'$x$')\n",
    "ax.set_ylabel(r'$\\lambda$')\n",
    "ax.set_zlabel(r'$\\mathcal{L}(x)$');"
   ]
  },
  {
   "cell_type": "markdown",
   "metadata": {},
   "source": [
    "Les points stationnaires de $\\mathcal{L}$ sont quelquepart sur les droites vertes..."
   ]
  },
  {
   "cell_type": "markdown",
   "metadata": {},
   "source": [
    "## Cas d'une fonction à deux variables"
   ]
  },
  {
   "cell_type": "markdown",
   "metadata": {
    "tags": [
     "hide"
    ]
   },
   "source": [
    "**TODO**: reécrire cette partie"
   ]
  },
  {
   "cell_type": "markdown",
   "metadata": {},
   "source": [
    "|                                                  |                                                  |\n",
    "| ------------------------------------------------ | ------------------------------------------------ |\n",
    "| <img src=\"https://upload.wikimedia.org/wikipedia/commons/5/55/LagrangeMultipliers3D.png\" width=\"90%\"></img> | <img src=\"https://upload.wikimedia.org/wikipedia/commons/thumb/b/bf/LagrangeMultipliers2D.svg/1000px-LagrangeMultipliers2D.svg.png\" width=\"90%\"></img> |"
   ]
  },
  {
   "cell_type": "markdown",
   "metadata": {},
   "source": [
    "On pose la fonction:\n",
    "\n",
    "$$\n",
    "\\mathcal{L}(x_1,x_2,\\lambda) = f(x_1,x_2) + \\lambda g(x_1,x_2)\n",
    "$$\n",
    "\n",
    "$\\lambda$ est ce qu'on appelle un *multiplicateur de Lagrange* ; sa valeur n'est pas connue à priori."
   ]
  },
  {
   "cell_type": "markdown",
   "metadata": {},
   "source": [
    "Pour maximiser $\\mathcal{L}$,\n",
    "on annule ses dérivées partielles (condition nécessaire du premier ordre). Le problème initial revient à résoudre le système d'équations à trois inconnues suivant:\n",
    "\n",
    "$$\n",
    "\\left\\{\n",
    "\\begin{array}{rcl}\n",
    "    {\\large \\frac{\\partial\\mathcal{L}(x_1,x_2,\\lambda)}{\\partial x_1}} & = & 0 \\\\\n",
    "    {\\large \\frac{\\partial\\mathcal{L}(x_1,x_2,\\lambda)}{\\partial x_2}} & = & 0 \\\\\n",
    "    {\\large \\frac{\\partial\\mathcal{L}(x_1,x_2,\\lambda)}{\\partial \\lambda}} & = & 0\n",
    "\\end{array} \\right.\n",
    "$$"
   ]
  },
  {
   "cell_type": "markdown",
   "metadata": {},
   "source": [
    "### Exemple\n",
    "\n",
    "On cherche le rectangle d'aire maximum et de périmètre constant $P$.\n",
    "\n",
    "Plus formellement, on cherche à résoudre le problème d'optimisation suivant:\n",
    "\n",
    "$$\n",
    "\\begin{align}\n",
    "    \\max        & \\quad f(x_1,x_2) = x_1 x_2          \\\\\n",
    "    \\text{s.t.} & \\quad g(x_1,x_2) = 2x_1 + 2x_2 - P = 0\n",
    "\\end{align}\n",
    "$$\n",
    "\n",
    "avec:\n",
    "\n",
    "* $x_1$ et $x_2$ les dimensions du rectangle (respectivement la largeur et la hauteur)\n",
    "* $f(x_1,x_2) = x_1 x_2$ l'aire du rectangle (la fonction à maximiser)\n",
    "* $g(x_1,x_2) = 2x_1 + 2x_2 - P = 0$ la contrainte sur le périmètre du rectangle ($2x_1 + 2x_2 = P$)\n",
    "\n",
    "La fonction de Lagrange correspondant à ce problème est:\n",
    "\n",
    "$$\n",
    "\\mathcal{L}(x_1,x_2,\\lambda) = x_1 x_2 + \\lambda (2x_1 + 2x_2 - P)\n",
    "$$\n",
    "\n",
    "Les conditions du premier ordre (annulation des dérivées premières) sont données par:\n",
    "\n",
    "$$\n",
    "\\begin{align}\n",
    "\\left\\{\n",
    "\\begin{array}{rcl}\n",
    "    {\\large \\frac{\\partial\\mathcal{L}(x_1,x_2,\\lambda)}{\\partial x_1}} & = & 0 \\\\\n",
    "    {\\large \\frac{\\partial\\mathcal{L}(x_1,x_2,\\lambda)}{\\partial x_2}} & = & 0 \\\\\n",
    "    {\\large \\frac{\\partial\\mathcal{L}(x_1,x_2,\\lambda)}{\\partial \\lambda}} & = & 0\n",
    "\\end{array} \\right.\n",
    "& \\Leftrightarrow\n",
    "\\left\\{\n",
    "\\begin{array}{rcl}\n",
    "    x_2 + 2 \\lambda & = & 0 \\\\\n",
    "    x_1 + 2 \\lambda & = & 0 \\\\\n",
    "    2x_1 + 2x_2 - P & = & 0\n",
    "\\end{array} \\right. \\\\\n",
    "& \\\\\n",
    "& \\Leftrightarrow\n",
    "\\left\\{\n",
    "\\begin{array}{rcl}\n",
    "    \\color{red} \\lambda & \\color{red} = & {\\color{red} {\\large \\frac{-x_2}{2}}} \\\\\n",
    "    \\color{red} \\lambda & \\color{red} = & {\\color{red} {\\large \\frac{-x_1}{2}}} \\\\\n",
    "    2x_1 + 2x_2 - P & = & 0\n",
    "\\end{array} \\right. \\\\\n",
    "& \\\\\n",
    "& \\Leftrightarrow\n",
    "\\left\\{\n",
    "\\begin{array}{rcl}\n",
    "    x_1 & = & x_2 \\\\\n",
    "    2x_1 + 2x_2 - P & = & 0\n",
    "\\end{array} \\right. \\\\\n",
    "& \\\\\n",
    "& \\Leftrightarrow\n",
    "\\left\\{\n",
    "\\begin{array}{rcl}\n",
    "    x_1 & = & x_2 \\\\\n",
    "      P & = & 2x_1 + 2x_1 = 4x_1 = 4x_2\n",
    "\\end{array} \\right.\n",
    "\\end{align}\n",
    "$$"
   ]
  },
  {
   "cell_type": "markdown",
   "metadata": {},
   "source": [
    "On a donc ${\\large \\frac{-x_2}{2}} = {\\large \\frac{-x_1}{2}}$ c'est à dire $x_1 = x_2$.\n",
    "Ainsi, le carré ($x_1 = x_2$) est le rectangle d'aire maximum pour un périmètre donné $P$."
   ]
  },
  {
   "cell_type": "markdown",
   "metadata": {},
   "source": [
    "Remarque: il est préférable d'éliminer $\\lambda$ dés le début des calculs car c'est une variable auxiliaire dont la valeur n'est pas utile."
   ]
  },
  {
   "cell_type": "code",
   "execution_count": null,
   "metadata": {
    "collapsed": true,
    "tags": [
     "hide_code"
    ]
   },
   "outputs": [],
   "source": [
    "#%matplotlib notebook\n",
    "%matplotlib inline\n",
    "\n",
    "import numpy as np\n",
    "import matplotlib.pyplot as plt\n",
    "\n",
    "# Build datas ###############\n",
    "\n",
    "P = 10\n",
    "x = np.linspace(0., 5.0, 50)\n",
    "y = np.linspace(0., 5.0, 50)\n",
    "X, Y = np.meshgrid(x, y)\n",
    "\n",
    "Z1 = X * Y\n",
    "Z2 = 2 * X + 2 * Y\n",
    "\n",
    "# Plot data #################\n",
    "\n",
    "fig, ax = plt.subplots(figsize=(8,8))\n",
    "\n",
    "# SURFACE ###################\n",
    "\n",
    "ax.imshow(Z1,\n",
    "          origin='lower',\n",
    "          extent=(0,5,0,5),\n",
    "          alpha=0.5,\n",
    "          cmap='Blues_r')\n",
    "\n",
    "max_value = np.max(Z1)\n",
    "levels = np.array([0.1*max_value, 0.3*max_value, 0.6*max_value])\n",
    "\n",
    "cs = plt.contour(x, y, Z1, levels,\n",
    "                 linewidths=(2, 2, 3), linestyles=('dotted', 'dashed', 'solid'),\n",
    "                 alpha=0.5, colors='blue')\n",
    "ax.clabel(cs, inline=False, fontsize=12)\n",
    "\n",
    "# Set legend ################\n",
    "\n",
    "lines = [ cs.collections[0]]\n",
    "labels = ['surface']\n",
    "\n",
    "# PERIMETRE #################\n",
    "\n",
    "levels = np.array([P])\n",
    "\n",
    "cs = plt.contour(x, y, Z2, levels,\n",
    "                 linewidths=(2, 2, 3), linestyles=('dotted', 'dashed', 'solid'),\n",
    "                 alpha=0.5, colors='red')\n",
    "ax.clabel(cs, inline=False, fontsize=12)\n",
    "\n",
    "# Set title and labels ######\n",
    "\n",
    "ax.axis('equal')              # <- SAME SCALE ON X AND Y\n",
    "ax.set_title(\"Example for P = \" + str(P), fontsize=20)\n",
    "ax.set_xlabel(r\"$X_1$\", fontsize=20)\n",
    "ax.set_ylabel(r\"$X_2$\", fontsize=20)\n",
    "\n",
    "# Set legend ################\n",
    "\n",
    "lines.append(cs.collections[0])\n",
    "labels.append('périmètre P = ' + str(P))\n",
    "\n",
    "ax.legend(lines, labels, prop={'size': 14}, loc='best', fancybox=True, framealpha=0.5)\n",
    "\n",
    "# The optimal point #########\n",
    "\n",
    "ax.plot([0, 5], [0, 5], \":k\", alpha=0.5)\n",
    "ax.plot([2.5], [2.5], \"xk\")\n",
    "ax.text(2.4, 2.2, r\"$x^*$\", fontsize=14)\n",
    "\n",
    "# Plot ######################\n",
    "\n",
    "plt.grid()\n",
    "plt.show()"
   ]
  },
  {
   "cell_type": "markdown",
   "metadata": {
    "tags": [
     "hide"
    ]
   },
   "source": [
    "## Cas générale"
   ]
  },
  {
   "cell_type": "markdown",
   "metadata": {
    "tags": [
     "hide"
    ]
   },
   "source": [
    "**TODO**"
   ]
  },
  {
   "cell_type": "markdown",
   "metadata": {},
   "source": [
    "## Bibliographie"
   ]
  },
  {
   "cell_type": "markdown",
   "metadata": {},
   "source": [
    "Quelques livres sur le sujet:\n",
    "\n",
    "- *Optimisation et contrôle des systèmes linéaires* (chapitre 3) de Maïtine Bergounioux aux editions Dunod\n",
    "- *Toutes les mathématiques et les bases de l'informatique* (p. 566-567) de Horst Stöcker aux editions Dunod"
   ]
  },
  {
   "cell_type": "markdown",
   "metadata": {},
   "source": [
    "Quelques liens intéressants:\n",
    "\n",
    "- https://fr.wikipedia.org/wiki/Multiplicateur_de_Lagrange\n",
    "- https://en.wikipedia.org/wiki/Lagrange_multiplier\n",
    "\n",
    "\n",
    "- http://www.unicaen.fr/ufr/eco/espaceprof/script1/script2/identification/valognes_fabrice/MicroL3/ch02.pdf (bien pour une première approche)\n",
    "- https://economix.fr/docs/1041/Rappels%20Lagrange.pdf (facile d'accès, vu sous l'angle des science économiques)\n",
    "- https://quantique.u-strasbg.fr/lib/exe/fetch.php?media=fr:pageperso:vr:fichiers:multiplicateur-lagrange.pdf\n",
    "- https://ufr-segmi.parisnanterre.fr/servlet/com.univ.collaboratif.utils.LectureFichiergw?ID_FICHIER=1348818743690\n",
    "- http://nlp.cs.berkeley.edu/tutorials/lagrange-multipliers.pdf\n",
    "- http://res-nlp.univ-lemans.fr/NLP_C_M03_G03/co/Contenu_601.html (vu sous l'angle de la pyhsique)"
   ]
  }
 ],
 "metadata": {
  "celltoolbar": "Tags",
  "kernelspec": {
   "display_name": "Python [default]",
   "language": "python",
   "name": "python3"
  },
  "language_info": {
   "codemirror_mode": {
    "name": "ipython",
    "version": 3
   },
   "file_extension": ".py",
   "mimetype": "text/x-python",
   "name": "python",
   "nbconvert_exporter": "python",
   "pygments_lexer": "ipython3",
   "version": "3.5.3"
  }
 },
 "nbformat": 4,
 "nbformat_minor": 2
}
