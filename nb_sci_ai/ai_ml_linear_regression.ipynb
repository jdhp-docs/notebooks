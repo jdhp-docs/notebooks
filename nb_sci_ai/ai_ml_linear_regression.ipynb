{
 "cells": [
  {
   "cell_type": "code",
   "execution_count": null,
   "metadata": {},
   "outputs": [],
   "source": [
    "%matplotlib inline\n",
    "\n",
    "import pandas as pd\n",
    "import seaborn as sns\n",
    "\n",
    "sns.set_context(\"talk\")"
   ]
  },
  {
   "cell_type": "code",
   "execution_count": null,
   "metadata": {},
   "outputs": [],
   "source": [
    "import matplotlib\n",
    "matplotlib.rcParams['figure.figsize'] = (20, 10)"
   ]
  },
  {
   "cell_type": "code",
   "execution_count": null,
   "metadata": {},
   "outputs": [],
   "source": [
    "N_SAMPLES = 1000\n",
    "THETA = np.array([2., 4.])\n",
    "\n",
    "df_x_train = np.random.uniform(low=-100, high=100, size=(N_SAMPLES, 2))\n",
    "df_x_test = np.random.uniform(low=-100, high=100, size=(N_SAMPLES, 2))\n",
    "\n",
    "df_y_train = np.dot(df_x_train, THETA) + np.random.normal(scale=10., size=N_SAMPLES)\n",
    "df_y_test = np.dot(df_x_test, THETA)   + np.random.normal(scale=10., size=N_SAMPLES)"
   ]
  },
  {
   "cell_type": "code",
   "execution_count": null,
   "metadata": {},
   "outputs": [],
   "source": [
    "theta = np.dot(np.linalg.inv(np.dot(df_x_train.T, df_x_train)),\n",
    "               np.dot(df_x_train.T, df_y_train))\n",
    "theta"
   ]
  },
  {
   "cell_type": "code",
   "execution_count": null,
   "metadata": {},
   "outputs": [],
   "source": [
    "df_y_pred = np.dot(df_x_test, theta)\n",
    "#df_y_pred"
   ]
  },
  {
   "cell_type": "code",
   "execution_count": null,
   "metadata": {},
   "outputs": [],
   "source": [
    "plt.scatter(df_y_test, df_y_pred);"
   ]
  }
 ],
 "metadata": {
  "kernelspec": {
   "display_name": "Python 3",
   "language": "python",
   "name": "python3"
  },
  "language_info": {
   "codemirror_mode": {
    "name": "ipython",
    "version": 3
   },
   "file_extension": ".py",
   "mimetype": "text/x-python",
   "name": "python",
   "nbconvert_exporter": "python",
   "pygments_lexer": "ipython3",
   "version": "3.7.4"
  }
 },
 "nbformat": 4,
 "nbformat_minor": 4
}
