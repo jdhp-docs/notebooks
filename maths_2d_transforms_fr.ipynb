{
 "cells": [
  {
   "cell_type": "markdown",
   "metadata": {},
   "source": [
    "Source:\n",
    "* *Programmation des jeux 3D*, André Lamotte, John Ratcliff, Mark Seminatore, Denise Tyler (Simon & Schuster Macmillan, 1995)\n",
    "\n",
    "### Translation matrix\n",
    "\n",
    "$$\n",
    "T = \n",
    "\\begin{pmatrix}\n",
    "1   & 0   & 0 \\\\\n",
    "0   & 1   & 0 \\\\\n",
    "t_x & t_y & 1 \\\\\n",
    "\\end{pmatrix}\n",
    "$$\n",
    "\n",
    "### Scale matrix\n",
    "\n",
    "$$\n",
    "S = \n",
    "\\begin{pmatrix}\n",
    "s_x  & 0   & 0 \\\\\n",
    "0    & s_x & 0 \\\\\n",
    "0    & 0   & 1 \\\\\n",
    "\\end{pmatrix}\n",
    "$$\n",
    "\n",
    "### Rotation matrix\n",
    "\n",
    "$$\n",
    "R = \n",
    "\\begin{pmatrix}\n",
    "cos(\\theta) & -sin(\\theta) & 0 \\\\\n",
    "sin(\\theta) &  cos(\\theta) & 0 \\\\\n",
    "0           &  0           & 1 \\\\\n",
    "\\end{pmatrix}\n",
    "$$\n",
    "\n",
    "### General transformation matrix\n",
    "\n",
    "$$\n",
    "R = \n",
    "\\begin{pmatrix}\n",
    "s_x . cos(\\theta) & s_x . -sin(\\theta) & 0 \\\\\n",
    "s_y sin(\\theta)   & s_y cos(\\theta)    & 0 \\\\\n",
    "t_x               &  t_y               & 1 \\\\\n",
    "\\end{pmatrix}\n",
    "$$"
   ]
  }
 ],
 "metadata": {
  "kernelspec": {
   "display_name": "Python [default]",
   "language": "python",
   "name": "python3"
  },
  "language_info": {
   "codemirror_mode": {
    "name": "ipython",
    "version": 3
   },
   "file_extension": ".py",
   "mimetype": "text/x-python",
   "name": "python",
   "nbconvert_exporter": "python",
   "pygments_lexer": "ipython3",
   "version": "3.5.3"
  }
 },
 "nbformat": 4,
 "nbformat_minor": 1
}
