{
 "cells": [
  {
   "cell_type": "code",
   "execution_count": null,
   "metadata": {},
   "outputs": [],
   "source": [
    "from bokeh.io import push_notebook, output_notebook, show\n",
    "from bokeh.plotting import figure"
   ]
  },
  {
   "cell_type": "code",
   "execution_count": null,
   "metadata": {},
   "outputs": [],
   "source": [
    "import ipywidgets\n",
    "from ipywidgets import interact"
   ]
  },
  {
   "cell_type": "code",
   "execution_count": null,
   "metadata": {},
   "outputs": [],
   "source": [
    "import numpy as np"
   ]
  },
  {
   "cell_type": "code",
   "execution_count": null,
   "metadata": {},
   "outputs": [],
   "source": [
    "def get_points(a, b, c, bounds=np.array([-10, 10])):\n",
    "    \n",
    "    # Check arguments #############\n",
    "    \n",
    "    assert bounds.shape == (2,)\n",
    "    assert bounds[0] < bounds[1]\n",
    "    \n",
    "    xp1, xp2 = bounds            # horizontal axis limits\n",
    "    \n",
    "    if b != 0:\n",
    "        yp1 = (c - a * xp1) / b\n",
    "        yp2 = (c - a * xp2) / b\n",
    "    else:\n",
    "        if a != 0:\n",
    "            xp1, xp2 = c/a, c/a\n",
    "            yp1, yp2 = bounds\n",
    "        else:\n",
    "            xp1, xp2 = 0, 0\n",
    "            yp1, yp2 = 0, 0\n",
    "    \n",
    "    title = r\"{:0.1f} x + {:0.1f} y = {:0.1f}\".format(a, b, c)\n",
    "    \n",
    "    return xp1, xp2, yp1, yp2, title"
   ]
  },
  {
   "cell_type": "code",
   "execution_count": null,
   "metadata": {},
   "outputs": [],
   "source": [
    "# prepare some data\n",
    "xp1, xp2, yp1, yp2, title = get_points(1, 2, 3)\n",
    "x = np.array([xp1, xp2])\n",
    "y = np.array([yp1, yp2])\n",
    "\n",
    "output_notebook()\n",
    "\n",
    "# create a new plot with a title and axis labels\n",
    "p = figure(title=title,\n",
    "           x_axis_label='x',\n",
    "           y_axis_label='y',\n",
    "           x_range=(-10, 10),\n",
    "           y_range=(-10, 10))\n",
    "\n",
    "# add a line renderer with legend and line thickness\n",
    "l = p.line(x, y, line_width=2)\n",
    "\n",
    "# show the results\n",
    "h = show(p, notebook_handle=True)"
   ]
  },
  {
   "cell_type": "code",
   "execution_count": null,
   "metadata": {},
   "outputs": [],
   "source": [
    "@interact(a=(-10., 10., 0.1), b=(-10., 10., 0.1), c=(-10., 10., 0.1))\n",
    "def update_plot(a, b, c):\n",
    "    xp1, xp2, yp1, yp2, title = get_points(a, b, c)\n",
    "    x = np.array([xp1, xp2])\n",
    "    y = np.array([yp1, yp2])\n",
    "    \n",
    "    l.data_source.data['x'] = x\n",
    "    l.data_source.data['y'] = y\n",
    "    \n",
    "    push_notebook(handle=h)"
   ]
  }
 ],
 "metadata": {
  "kernelspec": {
   "display_name": "Python 3",
   "language": "python",
   "name": "python3"
  },
  "language_info": {
   "codemirror_mode": {
    "name": "ipython",
    "version": 3
   },
   "file_extension": ".py",
   "mimetype": "text/x-python",
   "name": "python",
   "nbconvert_exporter": "python",
   "pygments_lexer": "ipython3",
   "version": "3.6.5"
  }
 },
 "nbformat": 4,
 "nbformat_minor": 2
}
