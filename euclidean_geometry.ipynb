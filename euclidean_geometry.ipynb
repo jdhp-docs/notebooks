{
 "cells": [
  {
   "cell_type": "markdown",
   "metadata": {},
   "source": [
    "# Euclidean geometry"
   ]
  },
  {
   "cell_type": "markdown",
   "metadata": {},
   "source": [
    "## Import directive"
   ]
  },
  {
   "cell_type": "code",
   "execution_count": null,
   "metadata": {
    "collapsed": true
   },
   "outputs": [],
   "source": [
    "%matplotlib inline\n",
    "import math\n",
    "import numpy as np\n",
    "import matplotlib.pyplot as plt"
   ]
  },
  {
   "cell_type": "markdown",
   "metadata": {
    "collapsed": true
   },
   "source": [
    "## Distance from a point to a line"
   ]
  },
  {
   "cell_type": "markdown",
   "metadata": {},
   "source": [
    "### Line defined by an equation"
   ]
  },
  {
   "cell_type": "markdown",
   "metadata": {},
   "source": [
    "In the case of a line in the plane given by the equation $ax + by + c = 0$, where $a$, $b$ and $c$ are real constants with $a$ and $b$ not both zero, the distance from the line to a point $(x_0,y_0)$ is\n",
    "$$\\operatorname{distance}(ax+by+c=0, (x_0, y_0)) = \\frac{|ax_0+by_0+c|}{\\sqrt{a^2+b^2}}.$$\n",
    "\n",
    "The point on this line which is closest to $(x_0,y_0)$ has coordinates:\n",
    "$$x = \\frac{b(bx_0 - ay_0)-ac}{a^2 + b^2}$$\n",
    "and\n",
    "$$y = \\frac{a(-bx_0 + ay_0) - bc}{a^2+b^2}.$$\n",
    "\n",
    "For mor information, see https://en.wikipedia.org/wiki/Distance_from_a_point_to_a_line."
   ]
  },
  {
   "cell_type": "code",
   "execution_count": null,
   "metadata": {
    "collapsed": false
   },
   "outputs": [],
   "source": [
    "# Setup the plot\n",
    "\n",
    "def plot(a, b, c, p, p2):\n",
    "    plt.axis('equal')\n",
    "    plt.axis([-5, 5, -5, 5])\n",
    "    plt.xticks(np.arange(-5,5,1))\n",
    "    plt.yticks(np.arange(-5,5,1))\n",
    "    plt.axhline(y=0, color='k')\n",
    "    plt.axvline(x=0, color='k')\n",
    "\n",
    "    x = np.array([-10., 10.])\n",
    "    f = lambda x: a/(-b) * x + c/(-b)\n",
    "    \n",
    "    plt.plot(x, f(x))\n",
    "    plt.scatter(*p)\n",
    "\n",
    "    # Plot the projection point\n",
    "\n",
    "    plt.scatter(*p2)\n",
    "    plt.plot((p2[0], p[0]), (p2[1], p[1]))\n",
    "    #plt.arrow(*p2, *p) # TODO: doesn't work...\n",
    "\n",
    "    plt.grid()\n",
    "\n",
    "# Define the distance and projection functions\n",
    "\n",
    "def distance(a, b, c, p):\n",
    "    d1 = (a*p[0] + b*p[1] + c)\n",
    "    d2 = math.sqrt(math.pow(a, 2.) + math.pow(b, 2.))\n",
    "    d = abs(d1)/d2\n",
    "    return d\n",
    "\n",
    "def projection(a, b, c, p):\n",
    "    p2 = ((b*(b*p[0] - a*p[1]) - a*c)/(math.pow(a,2.)+math.pow(b,2.)),\n",
    "          (a*(-b*p[0] + a*p[1]) - b*c)/(math.pow(a,2.)+math.pow(b,2.)))\n",
    "    return p2\n",
    "\n",
    "# Define the line and the point\n",
    "\n",
    "a = 2.\n",
    "b = 1.\n",
    "c = -2.\n",
    "\n",
    "p = (-4., 2.)\n",
    "\n",
    "# Compute the distance and the projection point on the line\n",
    "\n",
    "d = distance(a, b, c, p)\n",
    "p2 = projection(a, b, c, p)\n",
    "\n",
    "print(\"Distance:\", d)\n",
    "print(\"Projection point:\", p2)\n",
    "\n",
    "# Plot the line and the point\n",
    "\n",
    "plot(a, b, c, p, p2)"
   ]
  },
  {
   "cell_type": "markdown",
   "metadata": {},
   "source": [
    "### Line defined by two points"
   ]
  },
  {
   "cell_type": "markdown",
   "metadata": {},
   "source": [
    "If the line passes through two points $P_1 = (x_1, y_1)$ and $P_2 = (x_2, y_2)$ then the distance of $(x_0, y_0)$ from the line is:\n",
    "\n",
    "$$\\operatorname{distance}(P_1, P_2, (x_0, y_0)) = \\frac{|(y_2-y_1)x_0-(x_2-x_1)y_0+x_2 y_1-y_2 x_1|}{\\sqrt{(y_2-y_1)^2+(x_2-x_1)^2}}.$$\n",
    "\n",
    "The denominator of this expression is the distance between $P_1$ and $P_2$.\n",
    "The numerator is twice the area of the triangle with its vertices at the three points, $(x_0, y_0)$, $P_1$ and $P_2$.\n",
    "\n",
    "The expression is equivalent to $h=\\frac{2A}{b}$, which can be obtained by rearranging the standard formula for the area of a triangle: $A = \\frac{1}{2} bh$, where $b$ is the length of a side, and $h$ is the perpendicular height from the opposite vertex."
   ]
  },
  {
   "cell_type": "code",
   "execution_count": null,
   "metadata": {
    "collapsed": true
   },
   "outputs": [],
   "source": [
    "# TODO..."
   ]
  },
  {
   "cell_type": "markdown",
   "metadata": {},
   "source": [
    "### Line defined by a point and an angle"
   ]
  },
  {
   "cell_type": "code",
   "execution_count": null,
   "metadata": {
    "collapsed": false
   },
   "outputs": [],
   "source": [
    "def angle_point_to_equation(angle_degree, p):\n",
    "    angle_radian = math.radians(angle_degree)\n",
    "    \n",
    "    a = math.tan(angle_radian)\n",
    "    b = -1\n",
    "    c = -math.tan(angle_radian) * p[0] + p[1]\n",
    "    \n",
    "    return a, b, c\n",
    "\n",
    "angle_degree = 30\n",
    "p0 = (3, 2)\n",
    "\n",
    "a, b, c = angle_point_to_equation(angle_degree, p0)\n",
    "\n",
    "p = (-4., 2.)\n",
    "\n",
    "# Compute the distance and the projection point on the line\n",
    "\n",
    "d = distance(a, b, c, p)\n",
    "p2 = projection(a, b, c, p)\n",
    "\n",
    "print(\"Distance:\", d)\n",
    "print(\"Projection point:\", p2)\n",
    "\n",
    "# Plot the line and the point\n",
    "\n",
    "plot(a, b, c, p, p2)\n",
    "plt.scatter(*p0)"
   ]
  },
  {
   "cell_type": "code",
   "execution_count": null,
   "metadata": {
    "collapsed": true
   },
   "outputs": [],
   "source": []
  }
 ],
 "metadata": {
  "anaconda-cloud": {},
  "kernelspec": {
   "display_name": "Python [default]",
   "language": "python",
   "name": "python3"
  },
  "language_info": {
   "codemirror_mode": {
    "name": "ipython",
    "version": 3
   },
   "file_extension": ".py",
   "mimetype": "text/x-python",
   "name": "python",
   "nbconvert_exporter": "python",
   "pygments_lexer": "ipython3",
   "version": "3.5.2"
  }
 },
 "nbformat": 4,
 "nbformat_minor": 1
}