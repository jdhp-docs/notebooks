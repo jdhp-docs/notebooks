{
 "cells": [
  {
   "cell_type": "markdown",
   "metadata": {},
   "source": [
    "# Pandas"
   ]
  },
  {
   "cell_type": "code",
   "execution_count": null,
   "metadata": {
    "collapsed": false
   },
   "outputs": [],
   "source": [
    "%%html\n",
    "<div id=\"toc\"></div>"
   ]
  },
  {
   "cell_type": "code",
   "execution_count": null,
   "metadata": {
    "collapsed": false
   },
   "outputs": [],
   "source": [
    "%%javascript\n",
    "var toc = document.getElementById(\"toc\");\n",
    "toc.innerHTML = \"<b>Table of contents:</b>\";\n",
    "toc.innerHTML += \"<ol>\"\n",
    "\n",
    "var h2_list = document.getElementsByTagName(\"h2\");\n",
    "for (var i = 0; i < h2_list.length; i++) {\n",
    "    var h2 = h2_list[i];\n",
    "    var h2_str = h2.textContent.slice(0, -1);  // \"slice(0, -1)\" remove the last character \n",
    "    toc.innerHTML += \"<li><a href=\\\"#\" + h2_str.replace(/\\s+/g, '-') + \"\\\">\" + h2_str + \"</a></li>\";\n",
    "}\n",
    "\n",
    "toc.innerHTML += \"</ol>\""
   ]
  },
  {
   "cell_type": "markdown",
   "metadata": {},
   "source": [
    "## Import directives"
   ]
  },
  {
   "cell_type": "code",
   "execution_count": null,
   "metadata": {
    "collapsed": true
   },
   "outputs": [],
   "source": [
    "%matplotlib notebook\n",
    "#%matplotlib inline\n",
    "\n",
    "from IPython.display import display\n",
    "\n",
    "import matplotlib\n",
    "matplotlib.rcParams['figure.figsize'] = (9, 9)\n",
    "\n",
    "import pandas as pd\n",
    "import numpy as np"
   ]
  },
  {
   "cell_type": "markdown",
   "metadata": {},
   "source": [
    "## Make data"
   ]
  },
  {
   "cell_type": "markdown",
   "metadata": {},
   "source": [
    "### Series (1D data)"
   ]
  },
  {
   "cell_type": "markdown",
   "metadata": {},
   "source": [
    "#### With automatic indices"
   ]
  },
  {
   "cell_type": "code",
   "execution_count": null,
   "metadata": {
    "collapsed": false
   },
   "outputs": [],
   "source": [
    "data_list = [1, 3, np.nan, 7]\n",
    "serie = pd.Series(data_list)\n",
    "serie"
   ]
  },
  {
   "cell_type": "code",
   "execution_count": null,
   "metadata": {
    "collapsed": false
   },
   "outputs": [],
   "source": [
    "data_array = np.array(data_list)\n",
    "serie = pd.Series(data_array)\n",
    "serie"
   ]
  },
  {
   "cell_type": "markdown",
   "metadata": {},
   "source": [
    "#### With defined indices"
   ]
  },
  {
   "cell_type": "code",
   "execution_count": null,
   "metadata": {
    "collapsed": false
   },
   "outputs": [],
   "source": [
    "indices = pd.Series([1, 3, 5, 7])\n",
    "serie = pd.Series([10, 30, 50, 70], index=indices)\n",
    "serie"
   ]
  },
  {
   "cell_type": "code",
   "execution_count": null,
   "metadata": {
    "collapsed": false
   },
   "outputs": [],
   "source": [
    "indices = pd.Series(['A', 'B', 'C', 'D'])\n",
    "serie = pd.Series([10, 30, 50, 70], index=indices)\n",
    "serie"
   ]
  },
  {
   "cell_type": "markdown",
   "metadata": {},
   "source": [
    "### Frames (2D data)"
   ]
  },
  {
   "cell_type": "markdown",
   "metadata": {},
   "source": [
    "#### With automatic indices and columns"
   ]
  },
  {
   "cell_type": "code",
   "execution_count": null,
   "metadata": {
    "collapsed": false
   },
   "outputs": [],
   "source": [
    "data_array = np.array([[1, 2, 3], [4, 5, 6]])\n",
    "df = pd.DataFrame(data_array)\n",
    "df"
   ]
  },
  {
   "cell_type": "markdown",
   "metadata": {},
   "source": [
    "#### With defined indices and columns"
   ]
  },
  {
   "cell_type": "code",
   "execution_count": null,
   "metadata": {
    "collapsed": false
   },
   "outputs": [],
   "source": [
    "data_array = np.array([[1, 2, 3], [4, 5, 6]])\n",
    "df = pd.DataFrame(data_array, index=[10, 20], columns=[100, 200, 300])\n",
    "df"
   ]
  },
  {
   "cell_type": "markdown",
   "metadata": {},
   "source": [
    "#### With columns from dict"
   ]
  },
  {
   "cell_type": "code",
   "execution_count": null,
   "metadata": {
    "collapsed": false
   },
   "outputs": [],
   "source": [
    "data_dict = {'A': 'foo',\n",
    "             'B': [10, 20, 30],\n",
    "             'C': 3}\n",
    "df = pd.DataFrame(data_dict)\n",
    "df"
   ]
  },
  {
   "cell_type": "markdown",
   "metadata": {},
   "source": [
    "## Select columns"
   ]
  },
  {
   "cell_type": "code",
   "execution_count": null,
   "metadata": {
    "collapsed": false
   },
   "outputs": [],
   "source": [
    "data_array = np.array([np.arange(1, 10, 1), np.arange(10, 100, 10), np.arange(100, 1000, 100)]).T\n",
    "df = pd.DataFrame(data_array,\n",
    "                  index=np.arange(1, 10, 1),\n",
    "                  columns=['A', 'B', 'C'])\n",
    "df"
   ]
  },
  {
   "cell_type": "code",
   "execution_count": null,
   "metadata": {
    "collapsed": false
   },
   "outputs": [],
   "source": [
    "df.B"
   ]
  },
  {
   "cell_type": "code",
   "execution_count": null,
   "metadata": {
    "collapsed": false
   },
   "outputs": [],
   "source": [
    "df[\"B\"]"
   ]
  },
  {
   "cell_type": "code",
   "execution_count": null,
   "metadata": {
    "collapsed": false
   },
   "outputs": [],
   "source": [
    "df.loc[:,\"B\"]"
   ]
  },
  {
   "cell_type": "markdown",
   "metadata": {},
   "source": [
    "## Select rows"
   ]
  },
  {
   "cell_type": "code",
   "execution_count": null,
   "metadata": {
    "collapsed": false
   },
   "outputs": [],
   "source": [
    "data_array = np.array([np.arange(1, 10, 1), np.arange(10, 100, 10), np.arange(100, 1000, 100)]).T\n",
    "df = pd.DataFrame(data_array,\n",
    "                  index=np.arange(1, 10, 1),\n",
    "                  columns=['A', 'B', 'C'])\n",
    "df"
   ]
  },
  {
   "cell_type": "code",
   "execution_count": null,
   "metadata": {
    "collapsed": false
   },
   "outputs": [],
   "source": [
    "df.B < 50."
   ]
  },
  {
   "cell_type": "code",
   "execution_count": null,
   "metadata": {
    "collapsed": false
   },
   "outputs": [],
   "source": [
    "df[df.B < 50.]"
   ]
  },
  {
   "cell_type": "markdown",
   "metadata": {},
   "source": [
    "## Apply a function to selected colunms values"
   ]
  },
  {
   "cell_type": "code",
   "execution_count": null,
   "metadata": {
    "collapsed": false
   },
   "outputs": [],
   "source": [
    "data_array = np.array([np.arange(1, 10, 1), np.arange(10, 100, 10), np.arange(100, 1000, 100)]).T\n",
    "df = pd.DataFrame(data_array,\n",
    "                  index=np.arange(1, 10, 1),\n",
    "                  columns=['A', 'B', 'C'])\n",
    "df"
   ]
  },
  {
   "cell_type": "code",
   "execution_count": null,
   "metadata": {
    "collapsed": false
   },
   "outputs": [],
   "source": [
    "df.B *= 2.\n",
    "df"
   ]
  },
  {
   "cell_type": "code",
   "execution_count": null,
   "metadata": {
    "collapsed": false
   },
   "outputs": [],
   "source": [
    "df.B = pow(df.B, 2)\n",
    "df"
   ]
  },
  {
   "cell_type": "markdown",
   "metadata": {},
   "source": [
    "## Apply a function to selected rows values"
   ]
  },
  {
   "cell_type": "code",
   "execution_count": null,
   "metadata": {
    "collapsed": false
   },
   "outputs": [],
   "source": [
    "data_array = np.array([np.arange(1, 10, 1), np.arange(10, 100, 10), np.arange(100, 1000, 100)]).T\n",
    "df = pd.DataFrame(data_array,\n",
    "                  index=np.arange(1, 10, 1),\n",
    "                  columns=['A', 'B', 'C'])\n",
    "df"
   ]
  },
  {
   "cell_type": "code",
   "execution_count": null,
   "metadata": {
    "collapsed": false
   },
   "outputs": [],
   "source": [
    "df[df.B < 50.] *= -1.\n",
    "df"
   ]
  },
  {
   "cell_type": "code",
   "execution_count": null,
   "metadata": {
    "collapsed": false,
    "scrolled": true
   },
   "outputs": [],
   "source": [
    "df[df.B < 50.] = pow(df[df.B < 50.], 2)\n",
    "df"
   ]
  },
  {
   "cell_type": "markdown",
   "metadata": {},
   "source": [
    "## Merge"
   ]
  },
  {
   "cell_type": "markdown",
   "metadata": {},
   "source": [
    "See: http://pandas.pydata.org/pandas-docs/stable/generated/pandas.merge.html#pandas.merge"
   ]
  },
  {
   "cell_type": "code",
   "execution_count": null,
   "metadata": {
    "collapsed": false,
    "scrolled": false
   },
   "outputs": [],
   "source": [
    "a1 = np.array([np.arange(1, 5, 1), np.arange(10, 50, 10), np.arange(100, 500, 100)]).T\n",
    "df1 = pd.DataFrame(a1,\n",
    "                   columns=['ID', 'B', 'C'])\n",
    "\n",
    "a2 = np.array([np.arange(1, 5, 1), np.arange(1000, 5000, 1000), np.arange(10000, 50000, 10000)]).T\n",
    "df2 = pd.DataFrame(a2,\n",
    "                   columns=['ID', 'B', 'C'])\n",
    "\n",
    "display(df1)\n",
    "display(df2)\n",
    "\n",
    "df = pd.merge(df1, df2, on=\"ID\", suffixes=('_1', '_2'))  #.dropna(how='any')\n",
    "\n",
    "display(df)"
   ]
  },
  {
   "cell_type": "markdown",
   "metadata": {},
   "source": [
    "### Merge with NaN"
   ]
  },
  {
   "cell_type": "code",
   "execution_count": null,
   "metadata": {
    "collapsed": false
   },
   "outputs": [],
   "source": [
    "a1 = np.array([np.arange(1, 5, 1), np.arange(10, 50, 10), np.arange(100, 500, 100)]).T\n",
    "df1 = pd.DataFrame(a1,\n",
    "                   columns=['ID', 'B', 'C'])\n",
    "\n",
    "a2 = np.array([np.arange(1, 5, 1), np.arange(1000, 5000, 1000), np.arange(10000, 50000, 10000)]).T\n",
    "df2 = pd.DataFrame(a2,\n",
    "                   columns=['ID', 'B', 'C'])\n",
    "\n",
    "df1.iloc[0,2] = np.nan\n",
    "df1.iloc[1,1] = np.nan\n",
    "df1.iloc[2,2] = np.nan\n",
    "df1.iloc[3,1] = np.nan\n",
    "\n",
    "df2.iloc[0,1] = np.nan\n",
    "df2.iloc[1,2] = np.nan\n",
    "df2.iloc[2,1] = np.nan\n",
    "df2.iloc[3,2] = np.nan\n",
    "\n",
    "df = pd.merge(df1, df2, on=\"ID\", suffixes=('_1', '_2'))  #.dropna(how='any')\n",
    "\n",
    "display(df1)\n",
    "display(df2)\n",
    "display(df)"
   ]
  },
  {
   "cell_type": "markdown",
   "metadata": {},
   "source": [
    "### Merge with missing rows"
   ]
  },
  {
   "cell_type": "code",
   "execution_count": null,
   "metadata": {
    "collapsed": false
   },
   "outputs": [],
   "source": [
    "a1 = np.array([np.arange(1, 5, 1), np.arange(10, 50, 10), np.arange(100, 500, 100)]).T\n",
    "df1 = pd.DataFrame(a1,\n",
    "                   columns=['ID', 'B', 'C'])\n",
    "\n",
    "a2 = np.array([np.arange(1, 3, 1), np.arange(1000, 3000, 1000), np.arange(10000, 30000, 10000)]).T\n",
    "df2 = pd.DataFrame(a2,\n",
    "                   columns=['ID', 'B', 'C'])\n",
    "\n",
    "display(df1)\n",
    "display(df2)\n",
    "\n",
    "print(\"Left: use only keys from left frame (SQL: left outer join)\")\n",
    "df = pd.merge(df1, df2, on=\"ID\", how=\"left\", suffixes=('_1', '_2'))  #.dropna(how='any')\n",
    "display(df)\n",
    "\n",
    "print(\"Right: use only keys from right frame (SQL: right outer join)\")\n",
    "df = pd.merge(df1, df2, on=\"ID\", how=\"right\", suffixes=('_1', '_2'))  #.dropna(how='any')\n",
    "display(df)\n",
    "\n",
    "print(\"Inner: use intersection of keys from both frames (SQL: inner join) [DEFAULT]\")\n",
    "df = pd.merge(df1, df2, on=\"ID\", how=\"inner\", suffixes=('_1', '_2'))  #.dropna(how='any')\n",
    "display(df)\n",
    "\n",
    "print(\"Outer: use union of keys from both frames (SQL: full outer join)\")\n",
    "df = pd.merge(df1, df2, on=\"ID\", how=\"outer\", suffixes=('_1', '_2'))  #.dropna(how='any')\n",
    "display(df)"
   ]
  },
  {
   "cell_type": "markdown",
   "metadata": {},
   "source": [
    "## GroupBy"
   ]
  },
  {
   "cell_type": "markdown",
   "metadata": {},
   "source": [
    "See: http://pandas.pydata.org/pandas-docs/stable/groupby.html"
   ]
  },
  {
   "cell_type": "code",
   "execution_count": null,
   "metadata": {
    "collapsed": false
   },
   "outputs": [],
   "source": [
    "a = np.array([[3, 5, 5, 5, 7, 7, 7, 7],\n",
    "              [2, 4, 4, 3, 1, 3, 3, 2],\n",
    "              [3, 4, 5, 6, 1, 8, 9, 8]]).T\n",
    "df = pd.DataFrame(a,\n",
    "                  columns=['A', 'B', 'C'])\n",
    "\n",
    "df"
   ]
  },
  {
   "cell_type": "markdown",
   "metadata": {},
   "source": [
    "### GroupBy with single key"
   ]
  },
  {
   "cell_type": "code",
   "execution_count": null,
   "metadata": {
    "collapsed": false,
    "scrolled": false
   },
   "outputs": [],
   "source": [
    "df.groupby([\"A\"]).count()"
   ]
  },
  {
   "cell_type": "markdown",
   "metadata": {},
   "source": [
    "### GroupBy with multiple keys"
   ]
  },
  {
   "cell_type": "code",
   "execution_count": null,
   "metadata": {
    "collapsed": false,
    "scrolled": false
   },
   "outputs": [],
   "source": [
    "df.groupby([\"A\",\"B\"]).count()"
   ]
  },
  {
   "cell_type": "markdown",
   "metadata": {},
   "source": [
    "## Save and read a CSV file"
   ]
  },
  {
   "cell_type": "code",
   "execution_count": null,
   "metadata": {
    "collapsed": true
   },
   "outputs": [],
   "source": [
    "#gam = pd.read_csv(\"foo.csv.gz\").groupby('JSON input file')"
   ]
  },
  {
   "cell_type": "markdown",
   "metadata": {},
   "source": [
    "## Plot"
   ]
  },
  {
   "cell_type": "code",
   "execution_count": null,
   "metadata": {
    "collapsed": true
   },
   "outputs": [],
   "source": [
    "#gam['e_shape'].plot.hist(alpha=0.2, bins=100, legend=True)"
   ]
  }
 ],
 "metadata": {
  "anaconda-cloud": {},
  "kernelspec": {
   "display_name": "Python [default]",
   "language": "python",
   "name": "python3"
  },
  "language_info": {
   "codemirror_mode": {
    "name": "ipython",
    "version": 3
   },
   "file_extension": ".py",
   "mimetype": "text/x-python",
   "name": "python",
   "nbconvert_exporter": "python",
   "pygments_lexer": "ipython3",
   "version": "3.5.2"
  }
 },
 "nbformat": 4,
 "nbformat_minor": 1
}
