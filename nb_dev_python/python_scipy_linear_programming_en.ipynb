{
 "cells": [
  {
   "cell_type": "markdown",
   "metadata": {},
   "source": [
    "# Linear programming with scipy"
   ]
  },
  {
   "cell_type": "markdown",
   "metadata": {},
   "source": [
    "See https://docs.scipy.org/doc/scipy/reference/generated/scipy.optimize.linprog.html"
   ]
  },
  {
   "cell_type": "code",
   "execution_count": null,
   "metadata": {},
   "outputs": [],
   "source": [
    "import scipy.optimize"
   ]
  },
  {
   "cell_type": "markdown",
   "metadata": {},
   "source": [
    "Problem examples:\n",
    "- http://people.brunel.ac.uk/~mastjjb/jeb/or/morelp.html"
   ]
  },
  {
   "cell_type": "markdown",
   "metadata": {},
   "source": [
    "## Scipy's syntax\n",
    "\n",
    "Example for a problem of 2 dimensions:"
   ]
  },
  {
   "cell_type": "markdown",
   "metadata": {},
   "source": [
    "$$\n",
    "\\begin{align}\n",
    "    \\min_{x_1,x_2} & \\quad \\color{\\red}{c_1} x_1 + \\color{\\red}{c_2} x_2 \\\\\n",
    "    \\text{s.t.}    & \\quad \\color{\\orange}{A_{1,1}} x_1 + \\color{\\orange}{A_{1,2}} x_2 \\leq \\color{\\green}{b_1} \\\\\n",
    "                   & \\quad \\color{\\orange}{A_{2,1}} x_1 + \\color{\\orange}{A_{2,2}} x_2 \\leq \\color{\\green}{b_2} \\\\\n",
    "                   & \\quad \\color{\\purple}{B_{1,1}} \\geq x_1 \\geq \\color{\\purple}{B_{1,2}} \\\\\n",
    "                   & \\quad \\color{\\purple}{B_{2,1}} \\geq x_2 \\geq \\color{\\purple}{B_{2,2}} \\\\\n",
    "\\end{align}\n",
    "$$"
   ]
  },
  {
   "cell_type": "markdown",
   "metadata": {},
   "source": [
    " "
   ]
  },
  {
   "cell_type": "markdown",
   "metadata": {},
   "source": [
    "$$\n",
    "\\color{\\red}{\n",
    "\\boldsymbol{c} = \\begin{pmatrix}\n",
    "    c_1 \\\\\n",
    "    c_2\n",
    "\\end{pmatrix}\n",
    "}\n",
    "\\quad\n",
    "\\color{\\orange}{\n",
    "\\boldsymbol{A} = \\begin{pmatrix}\n",
    "    A_{1,1} & A_{1,2} \\\\\n",
    "    A_{2,1} & A_{2,2}\n",
    "\\end{pmatrix}\n",
    "}\n",
    "\\quad\n",
    "\\color{\\green}{\n",
    "\\boldsymbol{b} = \\begin{pmatrix}\n",
    "    b_1 \\\\\n",
    "    b_2\n",
    "\\end{pmatrix}\n",
    "}\n",
    "\\quad\n",
    "\\color{\\purple}{\n",
    "\\boldsymbol{B} = \\begin{pmatrix}\n",
    "    B_{1,1} & B_{1,2} \\\\\n",
    "    B_{2,1} & B_{2,2}\n",
    "\\end{pmatrix}\n",
    "}\n",
    "$$"
   ]
  },
  {
   "cell_type": "markdown",
   "metadata": {},
   "source": [
    " "
   ]
  },
  {
   "cell_type": "markdown",
   "metadata": {},
   "source": [
    "$$\n",
    "\\text{scipy.optimize.linprog}(\\color{\\red}{\\boldsymbol{c}}, ~ \\color{\\orange}{\\boldsymbol{A}}, ~ \\color{\\green}{\\boldsymbol{b}}, ~ \\color{\\purple}{\\boldsymbol{B}})\n",
    "$$"
   ]
  },
  {
   "cell_type": "markdown",
   "metadata": {},
   "source": [
    "## Example 1"
   ]
  },
  {
   "cell_type": "markdown",
   "metadata": {},
   "source": [
    "$$\n",
    "\\begin{align}\n",
    "    \\min_{x_0,x_1} & \\quad -x_0 + 4 x_1 \\\\\n",
    "    \\text{s.t.}    & \\quad -3 x_0 + x_1 \\leq 6 \\\\\n",
    "                   & \\quad -x_0 - 2 x_1 \\geq -4 \\\\\n",
    "                   & \\quad  x_1 \\geq -3\n",
    "\\end{align}\n",
    "$$"
   ]
  },
  {
   "cell_type": "code",
   "execution_count": null,
   "metadata": {},
   "outputs": [],
   "source": [
    "# Coefficients of the linear objective function to be minimized\n",
    "c = [-1, 4]\n",
    "\n",
    "# 2-D array which, when matrix-multiplied by x, gives the values of the upper-bound inequality constraints at x.\n",
    "A = [[-3, 1],\n",
    "     [ 1, 2]]\n",
    "\n",
    "# 1-D array of values representing the upper-bound of each inequality constraint (row) in A.\n",
    "b = [6, 4]\n",
    "\n",
    "# Sequence of (min, max) pairs for each element in x, defining the bounds on that parameter.\n",
    "# Use None for one of min or max when there is no bound in that direction.\n",
    "# By default bounds are (0, None) (non-negative).\n",
    "# If a sequence containing a single tuple is provided, then min and max will be applied to all variables in the problem.\n",
    "x0_bounds = (None, None)\n",
    "x1_bounds = (-3, None)\n",
    "bounds = (x0_bounds,x1_bounds)\n",
    "\n",
    "scipy.optimize.linprog(c, A_ub=A, b_ub=b, bounds=bounds)"
   ]
  },
  {
   "cell_type": "markdown",
   "metadata": {},
   "source": [
    "## The carpenter problem"
   ]
  },
  {
   "cell_type": "code",
   "execution_count": null,
   "metadata": {},
   "outputs": [],
   "source": [
    "# Coefficients of the linear objective function to be minimized\n",
    "c = np.array([3, 5])\n",
    "\n",
    "# 2-D array which, when matrix-multiplied by x, gives the values of the upper-bound inequality constraints at x.\n",
    "A_ub = np.array([[3, 2],\n",
    "                 [1, 2],\n",
    "                 [5, 4]])\n",
    "\n",
    "# 1-D array of values representing the upper-bound of each inequality constraint (row) in A_ub.\n",
    "b_ub = np.array([700, 500, 1500])\n",
    "\n",
    "# Sequence of (min, max) pairs for each element in x, defining the bounds on that parameter.\n",
    "# Use None for one of min or max when there is no bound in that direction.\n",
    "# By default bounds are (0, None) (non-negative).\n",
    "# If a sequence containing a single tuple is provided, then min and max will be applied to all variables in the problem.\n",
    "bounds = ((0, None), (0, None))\n",
    "\n",
    "scipy.optimize.linprog(-c, A_ub=A_ub, b_ub=b_ub, bounds=bounds)"
   ]
  },
  {
   "cell_type": "markdown",
   "metadata": {},
   "source": [
    "The optimal solution is obtain for $x_1=100$ and $x_2=200$ with a gain of 1300."
   ]
  }
 ],
 "metadata": {
  "kernelspec": {
   "display_name": "Python 3",
   "language": "python",
   "name": "python3"
  },
  "language_info": {
   "codemirror_mode": {
    "name": "ipython",
    "version": 3
   },
   "file_extension": ".py",
   "mimetype": "text/x-python",
   "name": "python",
   "nbconvert_exporter": "python",
   "pygments_lexer": "ipython3",
   "version": "3.7.1"
  }
 },
 "nbformat": 4,
 "nbformat_minor": 2
}
