{
 "cells": [
  {
   "cell_type": "markdown",
   "metadata": {
    "tags": [
     "meta",
     "toc_en",
     "draft_en"
    ]
   },
   "source": [
    "# The \"Differential Evolution\" optimization algorithm with Scipy"
   ]
  },
  {
   "cell_type": "markdown",
   "metadata": {},
   "source": [
    "Differential Evolution is a **stochastic** algorithm which attempts to find the **global** minimum of a function.\n",
    "\n",
    "Official documentation:\n",
    "* https://docs.scipy.org/doc/scipy/reference/generated/scipy.optimize.differential_evolution.html#scipy.optimize.differential_evolution"
   ]
  },
  {
   "cell_type": "code",
   "execution_count": null,
   "metadata": {
    "collapsed": true,
    "tags": [
     "hide"
    ]
   },
   "outputs": [],
   "source": [
    "%matplotlib inline"
   ]
  },
  {
   "cell_type": "code",
   "execution_count": null,
   "metadata": {
    "collapsed": true
   },
   "outputs": [],
   "source": [
    "import numpy as np\n",
    "import scipy\n",
    "from scipy import optimize\n",
    "import matplotlib.pyplot as plt"
   ]
  },
  {
   "cell_type": "markdown",
   "metadata": {
    "tags": [
     "hide"
    ]
   },
   "source": [
    "**TODO**:\n",
    "* Plots:\n",
    "    * Les solutions visités dnas l'espace des solutions (2D avec pcolormesh et contour)\n",
    "    * average (+ error bar or box plot) f(x*) w.t. iteration number\n",
    "    * average (+ error bar or box plot) error w.t. iteration number => + fit to have a clear view of the convergence rate ?\n",
    "    * average (+ error bar or box plot) error w.t. execution time"
   ]
  },
  {
   "cell_type": "code",
   "execution_count": null,
   "metadata": {
    "scrolled": false
   },
   "outputs": [],
   "source": [
    "%%time\n",
    "\n",
    "NDIM = 2\n",
    "\n",
    "func = scipy.optimize.rosen\n",
    "bounds = [(-10, 10) for d in range(NDIM)]\n",
    "\n",
    "x_list = []\n",
    "fx_list = []\n",
    "\n",
    "def callback(xk, convergence):\n",
    "    x_list.append(xk)\n",
    "    fx_list.append(func(xk))\n",
    "    print(len(x_list), xk, fx_list[-1], convergence)\n",
    "\n",
    "res = optimize.differential_evolution(func,\n",
    "                                      bounds,              # The initial point\n",
    "                                      maxiter=100,         # The number of basin hopping iterations\n",
    "                                      callback=callback,\n",
    "                                      #polish=False,\n",
    "                                      disp=False)          # Print status messages\n",
    "\n",
    "print(\"x* =\", res.x)\n",
    "print(\"f(x*) =\", res.fun)\n",
    "print(\"Cause of the termination:\", res.message)\n",
    "print(\"Number of evaluations of the objective functions:\", res.nfev)\n",
    "print(\"Number of iterations performed by the optimizer:\", res.nit)"
   ]
  },
  {
   "cell_type": "code",
   "execution_count": null,
   "metadata": {},
   "outputs": [],
   "source": [
    "res"
   ]
  }
 ],
 "metadata": {
  "anaconda-cloud": {},
  "celltoolbar": "Tags",
  "kernelspec": {
   "display_name": "Python [default]",
   "language": "python",
   "name": "python3"
  },
  "language_info": {
   "codemirror_mode": {
    "name": "ipython",
    "version": 3
   },
   "file_extension": ".py",
   "mimetype": "text/x-python",
   "name": "python",
   "nbconvert_exporter": "python",
   "pygments_lexer": "ipython3",
   "version": "3.5.3"
  }
 },
 "nbformat": 4,
 "nbformat_minor": 1
}
