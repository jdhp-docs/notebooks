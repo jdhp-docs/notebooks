{
 "cells": [
  {
   "cell_type": "code",
   "execution_count": null,
   "metadata": {},
   "outputs": [],
   "source": [
    "%matplotlib inline"
   ]
  },
  {
   "cell_type": "code",
   "execution_count": null,
   "metadata": {},
   "outputs": [],
   "source": [
    "from ailib.ml.datasets.regression_toy_problems import gen_1d_polynomial_samples"
   ]
  },
  {
   "cell_type": "markdown",
   "metadata": {
    "tags": [
     "meta",
     "draft"
    ]
   },
   "source": [
    "# Basic 1D non-linear regression with Keras"
   ]
  },
  {
   "cell_type": "markdown",
   "metadata": {},
   "source": [
    "**TODO**: see https://stackoverflow.com/questions/44998910/keras-model-to-fit-polynomial"
   ]
  },
  {
   "cell_type": "markdown",
   "metadata": {},
   "source": [
    "## Install Keras\n",
    "\n",
    "https://keras.io/#installation\n",
    "\n",
    "### Install dependencies\n",
    "\n",
    "Install TensorFlow backend: https://www.tensorflow.org/install/\n",
    "\n",
    "```\n",
    "pip install tensorflow\n",
    "```\n",
    "\n",
    "Insall h5py (required if you plan on saving Keras models to disk): http://docs.h5py.org/en/latest/build.html#wheels\n",
    "\n",
    "```\n",
    "pip install h5py\n",
    "```\n",
    "\n",
    "Install pydot (used by visualization utilities to plot model graphs): https://github.com/pydot/pydot#installation\n",
    "\n",
    "```\n",
    "pip install pydot\n",
    "```\n",
    "\n",
    "### Install Keras\n",
    "\n",
    "```\n",
    "pip install keras\n",
    "```"
   ]
  },
  {
   "cell_type": "markdown",
   "metadata": {},
   "source": [
    "## Import packages and check versions"
   ]
  },
  {
   "cell_type": "code",
   "execution_count": null,
   "metadata": {},
   "outputs": [],
   "source": [
    "import tensorflow as tf\n",
    "tf.__version__"
   ]
  },
  {
   "cell_type": "code",
   "execution_count": null,
   "metadata": {},
   "outputs": [],
   "source": [
    "import keras\n",
    "keras.__version__"
   ]
  },
  {
   "cell_type": "code",
   "execution_count": null,
   "metadata": {},
   "outputs": [],
   "source": [
    "import h5py\n",
    "h5py.__version__"
   ]
  },
  {
   "cell_type": "code",
   "execution_count": null,
   "metadata": {},
   "outputs": [],
   "source": [
    "import pydot\n",
    "pydot.__version__"
   ]
  },
  {
   "cell_type": "markdown",
   "metadata": {},
   "source": [
    "## Make the dataset"
   ]
  },
  {
   "cell_type": "code",
   "execution_count": null,
   "metadata": {},
   "outputs": [],
   "source": [
    "df_train = gen_1d_polynomial_samples(n_samples=100, noise_std=0.05)\n",
    "\n",
    "x_train = df_train.x.values\n",
    "y_train = df_train.y.values\n",
    "\n",
    "plt.plot(x_train, y_train, \".k\");"
   ]
  },
  {
   "cell_type": "code",
   "execution_count": null,
   "metadata": {},
   "outputs": [],
   "source": [
    "df_test = gen_1d_polynomial_samples(n_samples=100, noise_std=None)\n",
    "\n",
    "x_test = df_test.x.values\n",
    "y_test = df_test.y.values\n",
    "\n",
    "plt.plot(x_test, y_test, \".k\");"
   ]
  },
  {
   "cell_type": "markdown",
   "metadata": {},
   "source": [
    "## Make the regressor"
   ]
  },
  {
   "cell_type": "code",
   "execution_count": null,
   "metadata": {},
   "outputs": [],
   "source": [
    "model = keras.models.Sequential()\n",
    "\n",
    "#model.add(keras.layers.Dense(units=1000, activation='relu', input_dim=1))\n",
    "#model.add(keras.layers.Dense(units=1))\n",
    "#model.add(keras.layers.Dense(units=1000, activation='relu'))\n",
    "#model.add(keras.layers.Dense(units=1))\n",
    "\n",
    "model.add(keras.layers.Dense(units=5, activation='relu', input_dim=1))\n",
    "model.add(keras.layers.Dense(units=1))\n",
    "model.add(keras.layers.Dense(units=5, activation='relu'))\n",
    "model.add(keras.layers.Dense(units=1))\n",
    "model.add(keras.layers.Dense(units=5, activation='relu'))\n",
    "model.add(keras.layers.Dense(units=1))\n",
    "\n",
    "model.compile(loss='mse',\n",
    "              optimizer='adam')\n",
    "\n",
    "model.summary()"
   ]
  },
  {
   "cell_type": "code",
   "execution_count": null,
   "metadata": {},
   "outputs": [],
   "source": [
    "hist = model.fit(x_train, y_train, batch_size=100, epochs=3000, verbose=None)"
   ]
  },
  {
   "cell_type": "code",
   "execution_count": null,
   "metadata": {},
   "outputs": [],
   "source": [
    "plt.plot(hist.history['loss']);"
   ]
  },
  {
   "cell_type": "code",
   "execution_count": null,
   "metadata": {},
   "outputs": [],
   "source": [
    "model.evaluate(x_test, y_test)"
   ]
  },
  {
   "cell_type": "code",
   "execution_count": null,
   "metadata": {},
   "outputs": [],
   "source": [
    "y_predicted = model.predict(x_test)"
   ]
  },
  {
   "cell_type": "code",
   "execution_count": null,
   "metadata": {},
   "outputs": [],
   "source": [
    "plt.plot(x_test, y_test, \".r\")\n",
    "plt.plot(x_test, y_predicted, \".k\");"
   ]
  }
 ],
 "metadata": {
  "anaconda-cloud": {},
  "celltoolbar": "Tags",
  "kernelspec": {
   "display_name": "Python 3",
   "language": "python",
   "name": "python3"
  },
  "language_info": {
   "codemirror_mode": {
    "name": "ipython",
    "version": 3
   },
   "file_extension": ".py",
   "mimetype": "text/x-python",
   "name": "python",
   "nbconvert_exporter": "python",
   "pygments_lexer": "ipython3",
   "version": "3.7.1"
  }
 },
 "nbformat": 4,
 "nbformat_minor": 2
}
