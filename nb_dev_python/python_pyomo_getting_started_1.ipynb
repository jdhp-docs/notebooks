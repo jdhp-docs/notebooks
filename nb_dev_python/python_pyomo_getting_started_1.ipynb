{
 "cells": [
  {
   "cell_type": "markdown",
   "metadata": {},
   "source": [
    "# Pyomo - Getting started"
   ]
  },
  {
   "cell_type": "markdown",
   "metadata": {},
   "source": [
    "Pyomo installation: see http://www.pyomo.org/installation\n",
    "\n",
    "```\n",
    "pip install pyomo\n",
    "```"
   ]
  },
  {
   "cell_type": "markdown",
   "metadata": {},
   "source": [
    "See also these excellent tutorials that details how to install Pyomo and several solvers (GLPK, COIN-OR CBC, COIN-OR Ipopt, ...):\n",
    "- https://nbviewer.jupyter.org/github/jckantor/ND-Pyomo-Cookbook/blob/master/notebooks/01.01-Installing-Pyomo.ipynb\n",
    "- https://nbviewer.jupyter.org/github/jckantor/ND-Pyomo-Cookbook/blob/master/notebooks/01.02-Running-Pyomo-on-Google-Colab.ipynb\n",
    "- https://nbviewer.jupyter.org/github/jckantor/ND-Pyomo-Cookbook/blob/master/notebooks/01.04-Cross-Platform-Installation-of-Pyomo-and-Solvers.ipynb"
   ]
  },
  {
   "cell_type": "code",
   "execution_count": null,
   "metadata": {},
   "outputs": [],
   "source": [
    "from pyomo.environ import *"
   ]
  },
  {
   "cell_type": "markdown",
   "metadata": {},
   "source": [
    "## Example 1"
   ]
  },
  {
   "cell_type": "code",
   "execution_count": null,
   "metadata": {},
   "outputs": [],
   "source": [
    "model = ConcreteModel(name=\"Getting started\")\n",
    "\n",
    "model.x = Var(bounds=(-10, 10))\n",
    "\n",
    "model.obj = Objective(expr=model.x)\n",
    "\n",
    "model.const_1 = Constraint(expr=model.x >= 5)\n",
    "\n",
    "# @tail:\n",
    "opt = SolverFactory('glpk')  # \"glpk\" or \"cbc\"\n",
    "\n",
    "res = opt.solve(model)    # solves and updates instance\n",
    "\n",
    "model.display()\n",
    "\n",
    "print()\n",
    "print(\"Optimal solution: \", value(model.x))\n",
    "print(\"Cost of the optimal solution: \", value(model.obj))\n",
    "# @:tail"
   ]
  },
  {
   "cell_type": "markdown",
   "metadata": {},
   "source": [
    "## Example 2"
   ]
  },
  {
   "cell_type": "markdown",
   "metadata": {},
   "source": [
    "$$\n",
    "\\begin{align}\n",
    "    \\max_{x_1,x_2} & \\quad 4 x_1 + 3 x_2 \\\\\n",
    "    \\text{s.t.}    & \\quad   x_1 +   x_2 \\leq 100 \\\\\n",
    "                   & \\quad 2 x_1 +   x_2 \\leq 150 \\\\\n",
    "                   & \\quad 3 x_1 + 4 x_2 \\leq 360 \\\\\n",
    "                   & \\quad x_1, x_2 \\geq 0\n",
    "\\end{align}\n",
    "$$"
   ]
  },
  {
   "cell_type": "markdown",
   "metadata": {},
   "source": [
    "```\n",
    "Optimal total cost is:  350.0\n",
    "\n",
    "x_1 = 50.\n",
    "x_2 = 50.\n",
    "```"
   ]
  },
  {
   "cell_type": "code",
   "execution_count": null,
   "metadata": {},
   "outputs": [],
   "source": [
    "model = ConcreteModel(name=\"Getting started\")\n",
    "\n",
    "model.x1 = Var(within=NonNegativeReals)\n",
    "model.x2 = Var(within=NonNegativeReals)\n",
    "\n",
    "model.obj = Objective(expr=4. * model.x1 + 3. * model.x2, sense=maximize)\n",
    "\n",
    "model.ineq_const_1 = Constraint(expr=model.x1 + model.x2 <= 100)\n",
    "model.ineq_const_2 = Constraint(expr=2. * model.x1 + model.x2 <= 150)\n",
    "model.ineq_const_3 = Constraint(expr=3. * model.x1 + 4. * model.x2 <= 360)\n",
    "\n",
    "# @tail:\n",
    "opt = SolverFactory('glpk')  # \"glpk\" or \"cbc\"\n",
    "\n",
    "results = opt.solve(model)    # solves and updates instance\n",
    "\n",
    "model.display()\n",
    "\n",
    "print()\n",
    "print(\"Optimal solution: ({}, {})\".format(value(model.x1), value(model.x2)))\n",
    "print(\"Gain of the optimal solution: \", value(model.obj))\n",
    "# @:tail"
   ]
  }
 ],
 "metadata": {
  "kernelspec": {
   "display_name": "Python 3",
   "language": "python",
   "name": "python3"
  },
  "language_info": {
   "codemirror_mode": {
    "name": "ipython",
    "version": 3
   },
   "file_extension": ".py",
   "mimetype": "text/x-python",
   "name": "python",
   "nbconvert_exporter": "python",
   "pygments_lexer": "ipython3",
   "version": "3.7.4"
  }
 },
 "nbformat": 4,
 "nbformat_minor": 4
}
