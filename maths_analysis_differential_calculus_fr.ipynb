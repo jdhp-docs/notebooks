{
 "cells": [
  {
   "cell_type": "markdown",
   "metadata": {},
   "source": [
    "# Bases du calcul différentiel"
   ]
  },
  {
   "cell_type": "markdown",
   "metadata": {},
   "source": [
    "## Notations\n",
    "\n",
    "La valeur de la dérivée au point $x=x_0$ est notée:\n",
    "\n",
    "$$\n",
    "\\left. \\frac{df}{dx} \\right|_{x=x_0}\n",
    "$$\n",
    "\n",
    "Exemple:\n",
    "\n",
    "$$\n",
    "\\left. \\frac{dx^2}{dx} \\right|_{x=0} = 0\n",
    "$$"
   ]
  },
  {
   "cell_type": "markdown",
   "metadata": {},
   "source": [
    "## Bibliographie"
   ]
  },
  {
   "cell_type": "markdown",
   "metadata": {},
   "source": [
    "Quelques livres sur le sujet:\n",
    "\n",
    "- *Toutes les mathématiques et les bases de l'informatique* (p. 566-567) de Horst Stöcker aux editions Dunod"
   ]
  },
  {
   "cell_type": "markdown",
   "metadata": {},
   "source": [
    "Quelques liens intéressants:\n",
    "\n",
    "- http://www.unicaen.fr/ufr/eco/espaceprof/script1/script2/identification/valognes_fabrice/MicroL3/ch02.pdf"
   ]
  }
 ],
 "metadata": {
  "kernelspec": {
   "display_name": "Python [default]",
   "language": "python",
   "name": "python3"
  },
  "language_info": {
   "codemirror_mode": {
    "name": "ipython",
    "version": 3
   },
   "file_extension": ".py",
   "mimetype": "text/x-python",
   "name": "python",
   "nbconvert_exporter": "python",
   "pygments_lexer": "ipython3",
   "version": "3.5.3"
  }
 },
 "nbformat": 4,
 "nbformat_minor": 2
}
