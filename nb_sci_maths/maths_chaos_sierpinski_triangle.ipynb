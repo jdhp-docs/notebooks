{
 "cells": [
  {
   "cell_type": "markdown",
   "metadata": {},
   "source": [
    "# The chaos game and the Sierpinski triangle\n",
    "\n",
    "Source: https://www.johndcook.com/blog/2017/07/08/the-chaos-game-and-the-sierpinski-triangle/\n",
    "\n",
    "TODO: https://twitter.com/franssoa/status/1102223543897636865"
   ]
  },
  {
   "cell_type": "code",
   "execution_count": null,
   "metadata": {},
   "outputs": [],
   "source": [
    "from scipy import sqrt, zeros\n",
    "import matplotlib.pyplot as plt\n",
    "from random import random, randint"
   ]
  },
  {
   "cell_type": "code",
   "execution_count": null,
   "metadata": {},
   "outputs": [],
   "source": [
    "def midpoint(p, q):\n",
    "    return (0.5*(p[0] + q[0]), 0.5*(p[1] + q[1]))"
   ]
  },
  {
   "cell_type": "code",
   "execution_count": null,
   "metadata": {},
   "outputs": [],
   "source": [
    "# Three corners of an equilateral triangle\n",
    "corner = [(0, 0), (0.5, sqrt(3)/2), (1, 0)]\n",
    "\n",
    "N = 1000\n",
    "x = zeros(N)\n",
    "y = zeros(N)\n",
    "\n",
    "x[0] = random()\n",
    "y[0] = random()\n",
    "for i in range(1, N):\n",
    "    k = randint(0, 2) # random triangle vertex\n",
    "    x[i], y[i] = midpoint( corner[k], (x[i-1], y[i-1]) )"
   ]
  },
  {
   "cell_type": "code",
   "execution_count": null,
   "metadata": {},
   "outputs": [],
   "source": [
    "plt.scatter(x, y)\n",
    "plt.show()"
   ]
  }
 ],
 "metadata": {
  "kernelspec": {
   "display_name": "Python 3",
   "language": "python",
   "name": "python3"
  },
  "language_info": {
   "codemirror_mode": {
    "name": "ipython",
    "version": 3
   },
   "file_extension": ".py",
   "mimetype": "text/x-python",
   "name": "python",
   "nbconvert_exporter": "python",
   "pygments_lexer": "ipython3",
   "version": "3.7.1"
  }
 },
 "nbformat": 4,
 "nbformat_minor": 2
}
