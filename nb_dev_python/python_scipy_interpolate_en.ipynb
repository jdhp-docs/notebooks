{
 "cells": [
  {
   "cell_type": "markdown",
   "metadata": {
    "tags": [
     "meta"
    ]
   },
   "source": [
    "# Interpolation with scipy"
   ]
  },
  {
   "cell_type": "code",
   "execution_count": null,
   "metadata": {
    "tags": [
     "hide"
    ]
   },
   "outputs": [],
   "source": [
    "%matplotlib inline"
   ]
  },
  {
   "cell_type": "markdown",
   "metadata": {},
   "source": [
    "Official documentation: https://docs.scipy.org/doc/scipy/reference/interpolate.html"
   ]
  },
  {
   "cell_type": "markdown",
   "metadata": {},
   "source": [
    "## Import modules and initialize data"
   ]
  },
  {
   "cell_type": "code",
   "execution_count": null,
   "metadata": {},
   "outputs": [],
   "source": [
    "import numpy as np\n",
    "import pandas as pd\n",
    "import scipy.interpolate\n",
    "import matplotlib.pyplot as plt"
   ]
  },
  {
   "cell_type": "code",
   "execution_count": null,
   "metadata": {},
   "outputs": [],
   "source": [
    "from mpl_toolkits.mplot3d import axes3d"
   ]
  },
  {
   "cell_type": "markdown",
   "metadata": {},
   "source": [
    "## Interpolate 1D functions"
   ]
  },
  {
   "cell_type": "code",
   "execution_count": null,
   "metadata": {},
   "outputs": [],
   "source": [
    "xmin, xmax = 0., 4*np.pi\n",
    "\n",
    "x = np.linspace(xmin, xmax, 10)\n",
    "y = np.sin(x)\n",
    "\n",
    "x2 = np.linspace(xmin, xmax, 100)"
   ]
  },
  {
   "cell_type": "markdown",
   "metadata": {},
   "source": [
    "### Linear interpollation"
   ]
  },
  {
   "cell_type": "code",
   "execution_count": null,
   "metadata": {},
   "outputs": [],
   "source": [
    "# Linear interpolation with extrapolation\n",
    "f = scipy.interpolate.interp1d(x, y,\n",
    "                               kind='linear',\n",
    "                               fill_value=\"extrapolate\")\n",
    "\n",
    "y2 = f(x2)\n",
    "\n",
    "plt.plot(x, y, \"o:b\", label=\"original\")\n",
    "plt.plot(x2, y2, \".-r\", label=\"interpollated\")\n",
    "plt.legend();"
   ]
  },
  {
   "cell_type": "markdown",
   "metadata": {},
   "source": [
    "### B-Splines"
   ]
  },
  {
   "cell_type": "markdown",
   "metadata": {},
   "source": [
    "https://docs.scipy.org/doc/scipy/reference/interpolate.html#d-splines"
   ]
  },
  {
   "cell_type": "code",
   "execution_count": null,
   "metadata": {},
   "outputs": [],
   "source": [
    "# https://docs.scipy.org/doc/scipy/reference/generated/scipy.interpolate.splrep.html#scipy.interpolate.splrep\n",
    "# https://docs.scipy.org/doc/scipy/reference/generated/scipy.interpolate.splprep.html#scipy.interpolate.splprep\n",
    "\n",
    "spl = scipy.interpolate.splrep(x, y)\n",
    "\n",
    "y2 = scipy.interpolate.splev(x2, spl)\n",
    "\n",
    "plt.plot(x, y, \"o:b\", label=\"original\")\n",
    "plt.plot(x2, y2, \".-r\", label=\"interpollated\")\n",
    "plt.legend();"
   ]
  },
  {
   "cell_type": "code",
   "execution_count": null,
   "metadata": {},
   "outputs": [],
   "source": [
    "spl = scipy.interpolate.splrep(x, y,\n",
    "                               xb=x[0], xe=x[-1],   # The interval to fit\n",
    "                               #s=0.,               # A smoothing factor\n",
    "                               k=1)                 # The degree fo the spline fit\n",
    "\n",
    "y2 = scipy.interpolate.splev(x2, spl)\n",
    "\n",
    "plt.plot(x, y, \"o:b\", label=\"original\")\n",
    "plt.plot(x2, y2, \".-r\", label=\"interpollated\")\n",
    "plt.legend();"
   ]
  },
  {
   "cell_type": "markdown",
   "metadata": {},
   "source": [
    "### Spline linear interpolation"
   ]
  },
  {
   "cell_type": "code",
   "execution_count": null,
   "metadata": {},
   "outputs": [],
   "source": [
    "# Spline linear interpolation with extrapolation (should be the same than spline1...)\n",
    "f = scipy.interpolate.interp1d(x, y,\n",
    "                               kind='slinear',\n",
    "                               fill_value=\"extrapolate\")\n",
    "\n",
    "y2 = f(x2)\n",
    "\n",
    "plt.plot(x, y, \"o:b\", label=\"original\")\n",
    "plt.plot(x2, y2, \".-r\", label=\"interpollated\")\n",
    "plt.legend();"
   ]
  },
  {
   "cell_type": "markdown",
   "metadata": {},
   "source": [
    "## Interpolate 2D functions"
   ]
  },
  {
   "cell_type": "code",
   "execution_count": null,
   "metadata": {},
   "outputs": [],
   "source": [
    "# Build data\n",
    "\n",
    "x = np.arange(-1*np.pi, 1*np.pi, np.pi/4)\n",
    "y = np.arange(-1*np.pi, 1*np.pi, np.pi/4)\n",
    "\n",
    "xx, yy = np.meshgrid(x, y)\n",
    "\n",
    "z = np.sin(xx) + np.sin(yy)"
   ]
  },
  {
   "cell_type": "code",
   "execution_count": null,
   "metadata": {},
   "outputs": [],
   "source": [
    "# Plot data\n",
    "\n",
    "fig = plt.figure(figsize=(12, 8))\n",
    "ax = axes3d.Axes3D(fig)\n",
    "\n",
    "#ax.plot_wireframe(xx, yy, z)\n",
    "\n",
    "surf = ax.plot_surface(xx,\n",
    "                       yy,\n",
    "                       z,\n",
    "                       cmap='gnuplot2', # 'jet' # 'gnuplot2'\n",
    "                       rstride=1,\n",
    "                       cstride=1,\n",
    "                       shade=False)\n",
    "\n",
    "plt.show();"
   ]
  },
  {
   "cell_type": "markdown",
   "metadata": {},
   "source": [
    "### Linear interpollation"
   ]
  },
  {
   "cell_type": "markdown",
   "metadata": {},
   "source": [
    "Documentation: https://docs.scipy.org/doc/scipy/reference/generated/scipy.interpolate.interp2d.html#scipy.interpolate.interp2d"
   ]
  },
  {
   "cell_type": "code",
   "execution_count": null,
   "metadata": {},
   "outputs": [],
   "source": [
    "f = scipy.interpolate.interp2d(x, y, z, kind='linear',\n",
    "                               bounds_error=True)     # Let 'f' raise an exception when the requested point is outside the range defined by x and y"
   ]
  },
  {
   "cell_type": "code",
   "execution_count": null,
   "metadata": {},
   "outputs": [],
   "source": [
    "# Build data\n",
    "\n",
    "x_hd = np.arange(-1*np.pi, 1*np.pi-np.pi/4, np.pi/32)\n",
    "y_hd = np.arange(-1*np.pi, 1*np.pi-np.pi/4, np.pi/32)\n",
    "\n",
    "xx_hd,yy_hd = np.meshgrid(x_hd, y_hd)\n",
    "\n",
    "z_hd = np.zeros(xx_hd.shape)\n",
    "\n",
    "for xi in range(z_hd.shape[0]):\n",
    "    for yi in range(z_hd.shape[1]):\n",
    "        z_hd[xi, yi] = f(x_hd[xi], y_hd[yi])"
   ]
  },
  {
   "cell_type": "code",
   "execution_count": null,
   "metadata": {},
   "outputs": [],
   "source": [
    "# Plot data\n",
    "\n",
    "fig = plt.figure(figsize=(12, 8))\n",
    "ax = axes3d.Axes3D(fig)\n",
    "\n",
    "surf = ax.plot_surface(xx_hd,\n",
    "                       yy_hd,\n",
    "                       z_hd,\n",
    "                       cmap='gnuplot2', # 'jet' # 'gnuplot2'\n",
    "                       rstride=1,\n",
    "                       cstride=1,\n",
    "                       shade=False)\n",
    "\n",
    "plt.show();"
   ]
  },
  {
   "cell_type": "markdown",
   "metadata": {},
   "source": [
    "### Cubic splines"
   ]
  },
  {
   "cell_type": "code",
   "execution_count": null,
   "metadata": {},
   "outputs": [],
   "source": [
    "f = scipy.interpolate.interp2d(x, y, z, kind='cubic',\n",
    "                               bounds_error=True)     # Let 'f' raise an exception when the requested point is outside the range defined by x and y"
   ]
  },
  {
   "cell_type": "code",
   "execution_count": null,
   "metadata": {},
   "outputs": [],
   "source": [
    "# Build data\n",
    "\n",
    "x_hd = np.arange(-1*np.pi, 1*np.pi-np.pi/4, np.pi/32)\n",
    "y_hd = np.arange(-1*np.pi, 1*np.pi-np.pi/4, np.pi/32)\n",
    "\n",
    "xx_hd,yy_hd = np.meshgrid(x_hd, y_hd)\n",
    "\n",
    "z_hd = np.zeros(xx_hd.shape)\n",
    "\n",
    "for xi in range(z_hd.shape[0]):\n",
    "    for yi in range(z_hd.shape[1]):\n",
    "        z_hd[xi, yi] = f(x_hd[xi], y_hd[yi])"
   ]
  },
  {
   "cell_type": "code",
   "execution_count": null,
   "metadata": {},
   "outputs": [],
   "source": [
    "# Plot data\n",
    "\n",
    "fig = plt.figure(figsize=(12, 8))\n",
    "ax = axes3d.Axes3D(fig)\n",
    "\n",
    "surf = ax.plot_surface(xx_hd,\n",
    "                       yy_hd,\n",
    "                       z_hd,\n",
    "                       cmap='gnuplot2', # 'jet' # 'gnuplot2'\n",
    "                       rstride=1,\n",
    "                       cstride=1,\n",
    "                       shade=False)\n",
    "\n",
    "plt.show();"
   ]
  }
 ],
 "metadata": {
  "anaconda-cloud": {},
  "celltoolbar": "Tags",
  "kernelspec": {
   "display_name": "Python 3",
   "language": "python",
   "name": "python3"
  },
  "language_info": {
   "codemirror_mode": {
    "name": "ipython",
    "version": 3
   },
   "file_extension": ".py",
   "mimetype": "text/x-python",
   "name": "python",
   "nbconvert_exporter": "python",
   "pygments_lexer": "ipython3",
   "version": "3.7.4"
  }
 },
 "nbformat": 4,
 "nbformat_minor": 4
}
