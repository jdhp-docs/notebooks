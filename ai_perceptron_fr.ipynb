{
 "cells": [
  {
   "cell_type": "markdown",
   "metadata": {
    "tags": [
     "meta",
     "draft"
    ]
   },
   "source": [
    "# Perceptron"
   ]
  },
  {
   "cell_type": "markdown",
   "metadata": {
    "tags": [
     "hide"
    ]
   },
   "source": [
    "### TODO\n",
    "\n",
    "- **[ok]** Ajouter dans le code la fonction d'évaluation du réseau\n",
    "- **[ok]** Plot de $\\sum |E|$ par itération (i.e. num updates par itération)\n",
    "- Critere d'arrêt + générale\n",
    "- Lire l'article de rérérence\n",
    "- Ajouter la preuve de convergence\n",
    "- Ajouter notations et explications\n",
    "- Tester l'autre version de la règle de mise à jours de $w$: if err then ...\n",
    "- **[ok]** Décrire et illustrer les deux fonctions de transfert: signe et heaviside\n",
    "- Plot de l'evolution de la courbe de niveau ($x_1 w_1 + x_2 w_2 + ... = 0$) dans l'espace des entrées: illustration avec 2 entrées seulement ou faire un graph de projection de type *scatter plot matrix*\n",
    "- Plot de l'evolution de $w$ dans l'espace des $w$ illustration avec 2 entrées seulement ou faire un graph de projection de type *scatter plot matrix*\n",
    "- Ajouter \"Les limites du Perceptron\""
   ]
  },
  {
   "cell_type": "markdown",
   "metadata": {
    "tags": [
     "hide_output"
    ]
   },
   "source": [
    "Définition des macros LaTeX...\n",
    "\n",
    "$$\n",
    "\\newcommand{\\activthres}{\\theta}\n",
    "\\newcommand{\\activfunc}{f}\n",
    "\\newcommand{\\pot}{p}\n",
    "\\newcommand{\\learnrate}{\\eta}\n",
    "\\newcommand{\\it}{t}\n",
    "\\newcommand{\\sigin}{s_i}\n",
    "\\newcommand{\\sigout}{s_j}\n",
    "\\newcommand{\\sigoutdes}{d_j}\n",
    "\\newcommand{\\wij}{w_{ij}}\n",
    "$$"
   ]
  },
  {
   "cell_type": "markdown",
   "metadata": {},
   "source": [
    "Auteur: F. Rosenblatt\n",
    "\n",
    "Reference: F. Rosenblatt 1958 *The Perceptron: a Probabilistic Model for Information Storage and Organization in the Brain* Psychological Review, 65, 386-408\n",
    "\n",
    "Le modéle est constitué des éléments suivants:\n",
    "- des *unités sensitives (S-units)*: réagissent à un stimuli extérieur (lumière, son, touché, ...)\n",
    "    - retournent `0` ou `1`:\n",
    "        - `1` si le signal d'entrée dépasse un seuil $\\activthres$\n",
    "        - `0` sinon\n",
    "- des *unités d'associations (A-units)*\n",
    "    - retournent `0` ou `1`:\n",
    "        - `1` si la somme des signaux d'entrée dépasse un seuil $\\activthres$\n",
    "        - `0` sinon\n",
    "- des *unités de réponse (R-units)*: sortie du réseau\n",
    "    - retournent `1`, `-1` ou une valeur indéterminée:\n",
    "        - `1` si la somme des signaux d'entrée est positive\n",
    "        - `-1` si elle est négative\n",
    "        - une valeur indéterminée si elle est égale à 0\n",
    "- une *matrice d'intéractions*"
   ]
  },
  {
   "cell_type": "markdown",
   "metadata": {},
   "source": [
    "Evaluation de la fonction:\n",
    "$$\n",
    "\\pot = \\sum \\sigin \\wij\n",
    "$$\n",
    "\n",
    "$$\n",
    "\\sigout = \\activfunc(\\pot - \\activthres)\n",
    "$$\n",
    "\n",
    "Fonction de transfert: signe et heaviside"
   ]
  },
  {
   "cell_type": "code",
   "execution_count": null,
   "metadata": {
    "collapsed": true,
    "tags": [
     "hide_code"
    ]
   },
   "outputs": [],
   "source": [
    "%matplotlib inline\n",
    "\n",
    "#x = np.linspace(-5, 5, 300)\n",
    "#y = np.array([-1 if xi < 0 else 1 for xi in x])\n",
    "#plt.plot(x, y)\n",
    "\n",
    "plt.hlines(y=-1, xmin=-5, xmax=0, color='red')\n",
    "plt.hlines(y=1, xmin=0, xmax=5, color='red')\n",
    "\n",
    "plt.hlines(y=0, xmin=-5, xmax=5, color='gray', linestyles='dotted')\n",
    "plt.vlines(x=0, ymin=-2, ymax=2, color='gray', linestyles='dotted')\n",
    "\n",
    "plt.title(\"Fonction signe\")\n",
    "plt.axis([-5, 5, -2, 2])"
   ]
  },
  {
   "cell_type": "code",
   "execution_count": null,
   "metadata": {
    "collapsed": true,
    "tags": [
     "hide_code"
    ]
   },
   "outputs": [],
   "source": [
    "#x = np.linspace(-5, 5, 300)\n",
    "#y = (x > 0).astype('float')\n",
    "#plt.plot(x, y)\n",
    "\n",
    "plt.hlines(y=0, xmin=-5, xmax=0, color='red')\n",
    "plt.hlines(y=1, xmin=0, xmax=5, color='red')\n",
    "\n",
    "plt.hlines(y=0, xmin=-5, xmax=5, color='gray', linestyles='dotted')\n",
    "plt.vlines(x=0, ymin=-2, ymax=2, color='gray', linestyles='dotted')\n",
    "\n",
    "plt.title(\"Fonction heaviside\")\n",
    "plt.axis([-5, 5, -2, 2])"
   ]
  },
  {
   "cell_type": "markdown",
   "metadata": {},
   "source": [
    "Règle du Perceptron (mise à jour des poid $\\wij$):\n",
    "\n",
    "$$\n",
    "\\wij(\\it + 1) = \\wij(\\it) + \\learnrate (\\sigoutdes - \\sigout) \\sigin\n",
    "$$"
   ]
  },
  {
   "cell_type": "markdown",
   "metadata": {},
   "source": [
    "* $\\learnrate$: pas d'apprentissage, $\\learnrate \\in [0, 1]$. Géneralement, on lui donne une valeur proche de 1 au début de l'apprentissage et on diminue sa valeur à chaque itération.\n",
    "\n",
    "Poids de depart des synapses du réseau\n",
    "Nombre de neurones associatifs (A-units)\n",
    "Nombre d'unités sensitives\n",
    "Motif à apprendre"
   ]
  },
  {
   "cell_type": "code",
   "execution_count": null,
   "metadata": {
    "collapsed": true
   },
   "outputs": [],
   "source": [
    "%matplotlib inline\n",
    "\n",
    "import numpy as np\n",
    "import matplotlib\n",
    "import matplotlib.pyplot as plt\n",
    "\n",
    "import matplotlib.patches as patches\n",
    "import matplotlib.lines as mlines\n",
    "import matplotlib.patches as mpatches\n",
    "\n",
    "import itertools"
   ]
  },
  {
   "cell_type": "code",
   "execution_count": null,
   "metadata": {
    "collapsed": true,
    "tags": [
     "hide_code"
    ]
   },
   "outputs": [],
   "source": [
    "# https://github.com/jeremiedecock/neural-network-figures.git\n",
    "import nnfigs.core as fig\n",
    "\n",
    "fig.draw_neural_network();"
   ]
  },
  {
   "cell_type": "code",
   "execution_count": null,
   "metadata": {
    "collapsed": true
   },
   "outputs": [],
   "source": [
    "# Poids de depart des synapses du réseau\n",
    "initial_weights = np.array([0., 0., 0., 0., 2.])\n",
    "\n",
    "# Pas d'apprentissage eta=1\n",
    "learning_rate = 1."
   ]
  },
  {
   "cell_type": "code",
   "execution_count": null,
   "metadata": {
    "collapsed": true
   },
   "outputs": [],
   "source": [
    "class Log:\n",
    "    def __init__(self):\n",
    "        self.input_signal = []\n",
    "        self.output_signal = []\n",
    "        self.desired_output_signal = []\n",
    "        self.error = []\n",
    "        self.weights = []\n",
    "        self.iteration = []\n",
    "        self.current_iteration = 0\n",
    "        \n",
    "    def log(self, input_signal, output_signal, desired_output_signal, error, weights):\n",
    "        self.input_signal.append(input_signal)\n",
    "        self.output_signal.append(output_signal)\n",
    "        self.desired_output_signal.append(desired_output_signal)\n",
    "        self.error.append(error)\n",
    "        self.weights.append(weights)\n",
    "        self.iteration.append(self.current_iteration)\n",
    "        \n",
    "log = Log()"
   ]
  },
  {
   "cell_type": "code",
   "execution_count": null,
   "metadata": {
    "collapsed": true
   },
   "outputs": [],
   "source": [
    "def sign_function(x):\n",
    "    y = 1. if x >= 0. else -1.\n",
    "    return y\n",
    "\n",
    "def heaviside_function(x):\n",
    "    y = 1. if x >= 0. else 0.\n",
    "    return y"
   ]
  },
  {
   "cell_type": "code",
   "execution_count": null,
   "metadata": {
    "collapsed": true
   },
   "outputs": [],
   "source": [
    "def activation_function(p):\n",
    "    return heaviside_function(p)\n",
    "\n",
    "def evaluate_network(weights, input_signal):      # TODO: find a better name\n",
    "    p = np.sum(input_signal * weights)\n",
    "    output_signal = activation_function(p)\n",
    "    return output_signal\n",
    "\n",
    "def update_weights(weights, input_signal, desired_output_signal):\n",
    "    output_signal = evaluate_network(weights, input_signal)\n",
    "    error = desired_output_signal - output_signal\n",
    "    weights = weights + learning_rate * error * input_signal\n",
    "    log.log(input_signal, output_signal, desired_output_signal, error, weights)\n",
    "    return weights\n",
    "\n",
    "def learn_examples(example_list, label_list, weights, num_iterations):\n",
    "    for it in range(num_iterations):\n",
    "        log.current_iteration = it\n",
    "        for input_signal, desired_output_signal in zip(example_list, label_list):\n",
    "            weights = update_weights(weights, np.array(input_signal + (-1,)), desired_output_signal)\n",
    "    return weights"
   ]
  },
  {
   "cell_type": "markdown",
   "metadata": {},
   "source": [
    "Rappel: $\\sigin \\in \\{0, 1\\}$"
   ]
  },
  {
   "cell_type": "code",
   "execution_count": null,
   "metadata": {
    "collapsed": true
   },
   "outputs": [],
   "source": [
    "example_list = tuple(reversed(tuple(itertools.product((0., 1.), repeat=4))))\n",
    "\n",
    "# Motif à apprendre: (1 0 0 1)\n",
    "label_list = [1. if x == (1., 0., 0., 1.) else 0. for x in example_list]\n",
    "\n",
    "print(example_list)\n",
    "print(label_list)"
   ]
  },
  {
   "cell_type": "code",
   "execution_count": null,
   "metadata": {
    "collapsed": true
   },
   "outputs": [],
   "source": [
    "weights = learn_examples(example_list, label_list, initial_weights, 5)\n",
    "weights"
   ]
  },
  {
   "cell_type": "code",
   "execution_count": null,
   "metadata": {
    "collapsed": true
   },
   "outputs": [],
   "source": [
    "for input_signal, output_signal, desired_output_signal, error, weights, iteration in zip(log.input_signal, log.output_signal, log.desired_output_signal, log.error, log.weights, log.iteration):\n",
    "    print(iteration, input_signal, output_signal, desired_output_signal, error, weights)"
   ]
  },
  {
   "cell_type": "code",
   "execution_count": null,
   "metadata": {
    "collapsed": true
   },
   "outputs": [],
   "source": [
    "plt.plot(log.error)"
   ]
  },
  {
   "cell_type": "code",
   "execution_count": null,
   "metadata": {
    "collapsed": true
   },
   "outputs": [],
   "source": [
    "import pandas as pd\n",
    "\n",
    "df = pd.DataFrame(np.array([log.iteration, log.error]).T, columns=[\"Iteration\", \"Error\"])\n",
    "abs_err_per_it = abs(df).groupby([\"Iteration\"]).sum()\n",
    "abs_err_per_it.plot(title=\"Sum of absolute errors per iteration\")"
   ]
  }
 ],
 "metadata": {
  "anaconda-cloud": {},
  "celltoolbar": "Tags",
  "kernelspec": {
   "display_name": "Python [default]",
   "language": "python",
   "name": "python3"
  },
  "language_info": {
   "codemirror_mode": {
    "name": "ipython",
    "version": 3
   },
   "file_extension": ".py",
   "mimetype": "text/x-python",
   "name": "python",
   "nbconvert_exporter": "python",
   "pygments_lexer": "ipython3",
   "version": "3.5.3"
  }
 },
 "nbformat": 4,
 "nbformat_minor": 1
}
