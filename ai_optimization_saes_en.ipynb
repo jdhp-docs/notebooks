{
 "cells": [
  {
   "cell_type": "markdown",
   "metadata": {
    "tags": [
     "meta",
     "draft"
    ]
   },
   "source": [
    "# Self-Adaptive Evolution Strategy (SAES)"
   ]
  },
  {
   "cell_type": "markdown",
   "metadata": {},
   "source": [
    "## The ($\\mu$/$\\rho$ , $\\lambda$)-SA-ES and ($\\mu$/$\\rho$ + $\\lambda$)-SA-ES algorithms"
   ]
  },
  {
   "cell_type": "markdown",
   "metadata": {
    "tags": [
     "hide"
    ]
   },
   "source": [
    "Init pop\n",
    "\n",
    "$\\forall$ gen\n",
    "\n",
    "$\\quad$ $\\forall$ child\n",
    "\n",
    "$\\quad\\quad$ 1. select $\\rho$ parents\n",
    "\n",
    "$\\quad\\quad$ 2. recombination of selected parents (if $\\rho > 1$)\n",
    "\n",
    "$\\quad\\quad$ 3. mutation of $\\sigma$ (individual strategy) : $\\sigma \\leftarrow \\sigma ~ e^{\\tau \\mathcal{N}(0,1)}$\n",
    "\n",
    "$\\quad\\quad$ 4. mutation of $\\boldsymbol{x}$ (objective param) : $\\boldsymbol{x} \\leftarrow \\boldsymbol{x} + \\sigma ~ \\mathcal{N}(0,1)$\n",
    "\n",
    "$\\quad\\quad$ 5. eval $f(\\boldsymbol{x})$\n",
    "    \n",
    "$\\quad$ Select next gen individuals"
   ]
  },
  {
   "cell_type": "markdown",
   "metadata": {},
   "source": [
    "## A Python inplementation"
   ]
  },
  {
   "cell_type": "code",
   "execution_count": null,
   "metadata": {
    "tags": [
     "hide"
    ]
   },
   "outputs": [],
   "source": [
    "%matplotlib inline\n",
    "\n",
    "import numpy as np\n",
    "import pandas as pd\n",
    "import math\n",
    "\n",
    "import matplotlib\n",
    "import matplotlib.pyplot as plt\n",
    "from matplotlib import cm\n",
    "from matplotlib import colors\n",
    "\n",
    "from IPython.display import display"
   ]
  },
  {
   "cell_type": "code",
   "execution_count": null,
   "metadata": {},
   "outputs": [],
   "source": [
    "# Set the objective function\n",
    "#from ailib.optimize.functions import sphere as func\n",
    "from ailib.optimize.functions import sphere2d as func\n",
    "#from ailib.optimize.functions import additive_gaussian_noise as noise\n",
    "from ailib.optimize.functions import multiplicative_gaussian_noise as noise\n",
    "#from ailib.optimize.functions import additive_poisson_noise as noise\n",
    "\n",
    "#func.noise = noise      # Comment this line to use a deterministic objective function\n",
    "\n",
    "xmin = func.bounds[0]   # TODO\n",
    "xmax = func.bounds[1]   # TODO"
   ]
  },
  {
   "cell_type": "code",
   "execution_count": null,
   "metadata": {},
   "outputs": [],
   "source": [
    "# Set the objective function\n",
    "\n",
    "from ailib.optimize.functions import sphere2d as func\n",
    "#from ailib.optimize.functions import rosen2d as func\n",
    "#from ailib.optimize.functions import himmelblau2d as func\n",
    "#from ailib.optimize.functions import rastrigin2d as func\n",
    "#from ailib.optimize.functions import easom2d as func\n",
    "#from ailib.optimize.functions import crossintray2d as func   # <- ERROR\n",
    "#from ailib.optimize.functions import holder2d as func        # <- ERROR\n",
    "\n",
    "#from ailib.optimize.functions import additive_gaussian_noise as noise\n",
    "#from ailib.optimize.functions import multiplicative_gaussian_noise as noise\n",
    "#from ailib.optimize.functions import additive_poisson_noise as noise\n",
    "\n",
    "func.translation_vector = np.ones(shape=func.ndim) * 3.\n",
    "\n",
    "#func.noise = noise      # Comment this line to use a deterministic objective function\n",
    "\n",
    "xmin = func.bounds[0]   # TODO\n",
    "xmax = func.bounds[1]   # TODO"
   ]
  },
  {
   "cell_type": "markdown",
   "metadata": {},
   "source": [
    "## ($\\mu$/1+$\\lambda$)-$\\sigma$-Self-Adaptation-ES"
   ]
  },
  {
   "cell_type": "code",
   "execution_count": null,
   "metadata": {},
   "outputs": [],
   "source": [
    "\"\"\"\n",
    "This is a simple Python implementation of the (mu/1 +, lambda)-sigmaSA-ES\n",
    "\"\"\"\n",
    "\n",
    "mu = 3    # mu: the number of parents\n",
    "lmb = 12  # lambda: the number of children\n",
    "rho = 1   # rho: number of parents per child\n",
    "selection_operator = '+'\n",
    "isotropic_mutation = True        # TODO\n",
    "\n",
    "assert selection_operator in (',', '+')\n",
    "\n",
    "d = 2    # number of dimension of the solution space\n",
    "\n",
    "num_gen = 20\n",
    "\n",
    "tau = 1./math.sqrt(2.*d)          # self-adaptation learning rate\n",
    "\n",
    "# Init the population ##########################\n",
    "\n",
    "# \"pop\" array layout:\n",
    "# - the first mu lines contain parents\n",
    "# - the next lambda lines contain children\n",
    "# - the first column contains the individual's strategy (sigma)\n",
    "# - the last column contains the individual's assess (f(x))\n",
    "# - the other columns contain the individual value (x)\n",
    "\n",
    "sigma_col_label = \"sigma\"\n",
    "y_col_label = \"y\"\n",
    "\n",
    "pop = pd.DataFrame(np.full([mu+lmb, d+2], np.nan),\n",
    "                   columns=[sigma_col_label] + [\"x\" + str(d) for d in range(d)] + [y_col_label])  # TODO: ajouter colonnes \"set\" ou \"is_parent\", \"parents\" (?) et \"gen\"\n",
    "\n",
    "all_indices = slice(None, None)\n",
    "parent_indices = slice(0, mu)\n",
    "children_indices = slice(mu, None)\n",
    "\n",
    "sigma_col = 0\n",
    "x_cols = slice(1, -1)\n",
    "y_col = -1\n",
    "\n",
    "pop.iloc[parent_indices, sigma_col] = 1.                                    # init the parents strategy to 1.0\n",
    "#pop.iloc[parent_indices, x_cols] = np.random.normal(0., 1., size=[mu, d])   # init the parents value\n",
    "pop.iloc[parent_indices, x_cols] = np.random.uniform(low=-10., high=10., size=[mu, d])   # init the parents value\n",
    "pop.iloc[parent_indices, y_col] = func(pop.iloc[parent_indices, x_cols].values.T)  # evaluate parents\n",
    "\n",
    "#print(\"Init\")\n",
    "#display(pop)\n",
    "\n",
    "cmap = cm.gnuplot2 # magma\n",
    "\n",
    "fig, (ax1, ax2, ax3) = plt.subplots(ncols=3, figsize=(20, 6))\n",
    "ax3.set_xlabel('gen')\n",
    "ax3.set_ylabel('y')\n",
    "#pop.plot.scatter(x=\"x0\", y=\"x1\", c=matplotlib.colors.rgb2hex(cmap(0.)), ax=ax1)\n",
    "#pop.plot.scatter(x=0, y=\"y\", c=matplotlib.colors.rgb2hex(cmap(0.)), loglog=True, ax=ax2)\n",
    "\n",
    "for gen in range(num_gen):\n",
    "    \n",
    "    # Parent selection #############################\n",
    "    \n",
    "    if rho == 1:\n",
    "        \n",
    "        # Each child is made from one randomly selected parent\n",
    "        selected_parent_indices = np.random.randint(mu, size=lmb)\n",
    "    \n",
    "    elif rho == mu:\n",
    "    \n",
    "        # Recombine all parents for each child\n",
    "        raise NotImplemented() # TODO\n",
    "    \n",
    "    elif 1 < rho < mu:\n",
    "    \n",
    "        # Recombine rho randomly selected parents for each child\n",
    "        raise NotImplemented() # TODO\n",
    "    \n",
    "    else:\n",
    "    \n",
    "        raise ValueError()\n",
    "        \n",
    "    #print(\"Parent selection\")\n",
    "    #display(selected_parent_indices)\n",
    "    \n",
    "    # Recombination ################################\n",
    "\n",
    "    if rho == 1:\n",
    "        \n",
    "        # Each child is made from one randomly selected parent\n",
    "        pop.iloc[children_indices] = pop.iloc[selected_parent_indices].values\n",
    "        \n",
    "    elif rho == mu:\n",
    "        \n",
    "        # Recombine all parents for each child\n",
    "        raise NotImplemented() # TODO\n",
    "        \n",
    "    elif 1 < rho < mu:\n",
    "        \n",
    "        # Recombine rho randomly selected parents for each child\n",
    "        raise NotImplemented() # TODO\n",
    "        \n",
    "    else:\n",
    "        \n",
    "        raise ValueError()\n",
    "    \n",
    "    pop.iloc[children_indices, y_col] = np.nan\n",
    "    \n",
    "    #print(\"Recombination\")\n",
    "    #display(pop)\n",
    "    \n",
    "    # Mutate children's sigma ######################\n",
    "    \n",
    "    pop.iloc[children_indices, sigma_col] *= np.exp(tau * np.random.normal(size=lmb))\n",
    "    \n",
    "    #print(\"Mutate children's sigma\")\n",
    "    #display(pop)\n",
    "\n",
    "    # Mutate children's value ######################\n",
    "    \n",
    "    sigma_array = np.tile(pop.iloc[children_indices, sigma_col], [d,1]).T    # TODO: <- CHECK THIS !!!\n",
    "    random_array = np.random.normal(size=[lmb,d])\n",
    "    pop.iloc[children_indices, x_cols] += sigma_array * random_array\n",
    "\n",
    "    #print(\"Mutate children's value\")\n",
    "    #display(pop)\n",
    "    \n",
    "    # Evaluate children ############################\n",
    "    \n",
    "    pop.iloc[children_indices, y_col] = func(pop.iloc[children_indices, x_cols].values.T)\n",
    "\n",
    "    #print(\"Evaluate children\")\n",
    "    #display(pop)\n",
    "    \n",
    "    # SAVES SHOULD BE DONE HERE...\n",
    "    color_str = matplotlib.colors.rgb2hex(cmap(float(gen) / num_gen))\n",
    "    pop.plot.scatter(x=\"x0\", y=\"x1\", c=color_str, ax=ax1)\n",
    "    pop.plot.scatter(x=\"sigma\", y=\"y\", c=color_str, loglog=True, ax=ax2)\n",
    "    ax3.semilogy(np.full(shape=pop.y.shape, fill_value=gen), pop.y, '.', color=color_str)\n",
    "\n",
    "    # Select the best individuals ##################\n",
    "    \n",
    "    if selection_operator == ',':\n",
    "        pop.iloc[parent_indices] = np.nan\n",
    "    \n",
    "    pop = pop.sort_values(by=[y_col_label], na_position='last').reset_index(drop=True)\n",
    "    \n",
    "    pop.iloc[children_indices] = np.nan\n",
    "    \n",
    "    #print(\"Select the best individuals\")\n",
    "    #display(pop)\n",
    "\n",
    "print(\"Result\")\n",
    "display(pop.iloc[parent_indices])"
   ]
  },
  {
   "cell_type": "markdown",
   "metadata": {},
   "source": [
    "### Some explanations about $\\sigma$ and $\\tau$"
   ]
  },
  {
   "cell_type": "code",
   "execution_count": null,
   "metadata": {},
   "outputs": [],
   "source": [
    "d = np.arange(1, 30)\n",
    "y = 1./np.sqrt(2. * d)\n",
    "\n",
    "plt.plot(d, y)\n",
    "plt.xlabel(\"d (number of dimensions)\", fontsize=18)\n",
    "plt.ylabel(r\"$\\tau$ (self-adaptation learning rate)\", fontsize=18);"
   ]
  },
  {
   "cell_type": "code",
   "execution_count": null,
   "metadata": {},
   "outputs": [],
   "source": [
    "tau"
   ]
  },
  {
   "cell_type": "code",
   "execution_count": null,
   "metadata": {},
   "outputs": [],
   "source": [
    "d = 2."
   ]
  },
  {
   "cell_type": "code",
   "execution_count": null,
   "metadata": {},
   "outputs": [],
   "source": [
    "import random\n",
    "\n",
    "sigma_list = [1.]\n",
    "\n",
    "for i in range(1000):\n",
    "    sigma_list.append(sigma_list[-1] * math.exp(tau * random.normalvariate(0., 1.)))         # mutate sigma\n",
    "\n",
    "#sigma = sigma * exp(tau*randn)         # mutate sigma\n",
    "\n",
    "plt.loglog(sigma_list);"
   ]
  },
  {
   "cell_type": "code",
   "execution_count": null,
   "metadata": {},
   "outputs": [],
   "source": [
    "x = np.linspace(-4, 4, 100)\n",
    "y1 = np.exp(1./math.sqrt(1.*d) * x)\n",
    "y2 = np.exp(1./math.sqrt(2.*d) * x)\n",
    "y3 = np.exp(1./math.sqrt(3.*d) * x)\n",
    "y4 = np.exp(1./(2.*d) * x)\n",
    "\n",
    "plt.plot(x, y1, label=\"tau1\")\n",
    "plt.plot(x, y2, label=\"tau2\")\n",
    "plt.plot(x, y3, label=\"tau3\")\n",
    "plt.plot(x, y4, label=\"tau4\")\n",
    "\n",
    "plt.legend();"
   ]
  },
  {
   "cell_type": "code",
   "execution_count": null,
   "metadata": {},
   "outputs": [],
   "source": [
    "tau1 = 1./math.sqrt(1.*d)\n",
    "tau2 = 1./math.sqrt(2.*d)\n",
    "tau3 = 1./math.sqrt(3.*d)\n",
    "tau4 = 1./(2.*d)\n",
    "\n",
    "x1 = np.exp(tau1 * np.random.normal(size=[100000]))\n",
    "x2 = np.exp(tau2 * np.random.normal(size=[100000]))\n",
    "x3 = np.exp(tau3 * np.random.normal(size=[100000]))\n",
    "x4 = np.exp(tau4 * np.random.normal(size=[100000]))\n",
    "\n",
    "bins = np.linspace(0, 10, 100)\n",
    "plt.hist(x1, bins=bins, alpha=0.5, label=r\"$\\exp\\left(\\frac{1}{\\sqrt{d}} \\mathcal{N}(0,1)\\right)$\", lw=2, histtype='step')\n",
    "plt.hist(x2, bins=bins, alpha=0.5, label=r\"$\\exp\\left(\\frac{1}{\\sqrt{2d}} \\mathcal{N}(0,1)\\right)$\", lw=2, histtype='step')\n",
    "plt.hist(x3, bins=bins, alpha=0.5, label=r\"$\\exp\\left(\\frac{1}{\\sqrt{3d}} \\mathcal{N}(0,1)\\right)$\", lw=2, histtype='step')\n",
    "plt.hist(x4, bins=bins, alpha=0.5, label=r\"$\\exp\\left(\\frac{1}{2d} \\mathcal{N}(0,1)\\right)$\", lw=2, histtype='step')\n",
    "\n",
    "plt.xlim(-0.25, 7)\n",
    "\n",
    "plt.axvline(1, color='k', linestyle='dotted')\n",
    "\n",
    "plt.xlabel(\"mutation factor\", fontsize=18)\n",
    "plt.ylabel(r\"counts\", fontsize=18)\n",
    "\n",
    "plt.legend(fontsize='x-large');"
   ]
  },
  {
   "cell_type": "markdown",
   "metadata": {},
   "source": [
    "## Other inplementations"
   ]
  },
  {
   "cell_type": "markdown",
   "metadata": {},
   "source": [
    "### AILib"
   ]
  },
  {
   "cell_type": "markdown",
   "metadata": {},
   "source": [
    "#### Import required modules"
   ]
  },
  {
   "cell_type": "code",
   "execution_count": null,
   "metadata": {
    "tags": [
     "hide"
    ]
   },
   "outputs": [],
   "source": [
    "# Init matplotlib\n",
    "\n",
    "%matplotlib inline\n",
    "\n",
    "import matplotlib\n",
    "matplotlib.rcParams['figure.figsize'] = (8, 8)"
   ]
  },
  {
   "cell_type": "code",
   "execution_count": null,
   "metadata": {},
   "outputs": [],
   "source": [
    "import numpy as np\n",
    "import time\n",
    "\n",
    "from ailib.optimize import SAES"
   ]
  },
  {
   "cell_type": "code",
   "execution_count": null,
   "metadata": {},
   "outputs": [],
   "source": [
    "# Plot functions\n",
    "from ailib.optimize.utils import plot_contour_2d_solution_space\n",
    "from ailib.optimize.utils import plot_2d_solution_space\n",
    "\n",
    "from ailib.optimize.utils import array_list_to_array\n",
    "from ailib.optimize.utils import plot_fx_wt_iteration_number\n",
    "from ailib.optimize.utils import plot_err_wt_iteration_number\n",
    "from ailib.optimize.utils import plot_err_wt_execution_time\n",
    "from ailib.optimize.utils import plot_err_wt_num_feval"
   ]
  },
  {
   "cell_type": "markdown",
   "metadata": {},
   "source": [
    "#### Define the objective function"
   ]
  },
  {
   "cell_type": "code",
   "execution_count": null,
   "metadata": {
    "tags": [
     "hide"
    ]
   },
   "outputs": [],
   "source": [
    "## Objective function: Rosenbrock function (Scipy's implementation)\n",
    "#func = scipy.optimize.rosen"
   ]
  },
  {
   "cell_type": "code",
   "execution_count": null,
   "metadata": {},
   "outputs": [],
   "source": [
    "# Set the objective function\n",
    "\n",
    "from ailib.optimize.functions import sphere2d as func\n",
    "#from ailib.optimize.functions import rosen2d as func\n",
    "#from ailib.optimize.functions import himmelblau2d as func\n",
    "#from ailib.optimize.functions import rastrigin2d as func\n",
    "#from ailib.optimize.functions import easom2d as func\n",
    "#from ailib.optimize.functions import crossintray2d as func   # <- ERROR\n",
    "#from ailib.optimize.functions import holder2d as func        # <- ERROR\n",
    "\n",
    "#from ailib.optimize.functions import additive_gaussian_noise as noise\n",
    "#from ailib.optimize.functions import multiplicative_gaussian_noise as noise\n",
    "#from ailib.optimize.functions import additive_poisson_noise as noise\n",
    "\n",
    "func.translation_vector = np.ones(shape=func.ndim) * 3.\n",
    "\n",
    "#func.noise = noise      # Comment this line to use a deterministic objective function\n",
    "\n",
    "xmin = func.bounds[0]   # TODO\n",
    "xmax = func.bounds[1]   # TODO"
   ]
  },
  {
   "cell_type": "code",
   "execution_count": null,
   "metadata": {},
   "outputs": [],
   "source": [
    "#%%time\n",
    "\n",
    "saes = SAES()\n",
    "\n",
    "func.do_eval_logs = True\n",
    "func.reset_eval_counters()\n",
    "func.reset_eval_logs()\n",
    "\n",
    "res = saes.minimize(func, init_pop_mean=0., init_pop_std=10., polt=True)\n",
    "\n",
    "func.do_eval_logs = False\n",
    "\n",
    "eval_x_array = np.array(func.eval_logs_dict['x']).T\n",
    "eval_error_array = np.array(func.eval_logs_dict['fx']) - func(func.arg_min)"
   ]
  },
  {
   "cell_type": "code",
   "execution_count": null,
   "metadata": {},
   "outputs": [],
   "source": [
    "res"
   ]
  },
  {
   "cell_type": "code",
   "execution_count": null,
   "metadata": {},
   "outputs": [],
   "source": [
    "#eval_x_array"
   ]
  },
  {
   "cell_type": "code",
   "execution_count": null,
   "metadata": {},
   "outputs": [],
   "source": [
    "plot_contour_2d_solution_space(func,\n",
    "                               xmin=xmin,\n",
    "                               xmax=xmax,\n",
    "                               xstar=res,\n",
    "                               xvisited=eval_x_array,\n",
    "                               title=\"SAES\");"
   ]
  },
  {
   "cell_type": "code",
   "execution_count": null,
   "metadata": {},
   "outputs": [],
   "source": [
    "plot_err_wt_num_feval(eval_error_array, x_log=True, y_log=True)"
   ]
  },
  {
   "cell_type": "code",
   "execution_count": null,
   "metadata": {},
   "outputs": [],
   "source": [
    "%%time\n",
    "\n",
    "eval_error_array_list = []\n",
    "\n",
    "NUM_RUNS = 100\n",
    "\n",
    "for run_index in range(NUM_RUNS):\n",
    "    saes = SAES()\n",
    "\n",
    "    func.do_eval_logs = True\n",
    "    func.reset_eval_counters()\n",
    "    func.reset_eval_logs()\n",
    "\n",
    "    res = saes.minimize(func, init_pop_mean=0., init_pop_std=1., lmb=6)\n",
    "\n",
    "    func.do_eval_logs = False\n",
    "\n",
    "    eval_error_array = np.array(func.eval_logs_dict['fx']) - func(func.arg_min)\n",
    "\n",
    "    print(\"x* =\", res)\n",
    "    \n",
    "    eval_error_array_list.append(eval_error_array);"
   ]
  },
  {
   "cell_type": "code",
   "execution_count": null,
   "metadata": {},
   "outputs": [],
   "source": [
    "plot_err_wt_num_feval(array_list_to_array(eval_error_array_list), x_log=True, y_log=False, plot_option=\"mean\")"
   ]
  },
  {
   "cell_type": "markdown",
   "metadata": {},
   "source": [
    "### Octave/Matlab\n",
    "\n",
    "An external Octave (Matlab) implementation is available there: https://homepages.fhv.at/hgb/downloads/mu_mu_I_lambda-ES.oct.\n",
    "\n",
    "### Mathematica\n",
    "\n",
    "An external Mathematica implementation is available there: https://homepages.fhv.at/hgb/downloads/mu_mu_I_lambda-ES.mat"
   ]
  }
 ],
 "metadata": {
  "anaconda-cloud": {},
  "celltoolbar": "Tags",
  "kernelspec": {
   "display_name": "Python 3",
   "language": "python",
   "name": "python3"
  },
  "language_info": {
   "codemirror_mode": {
    "name": "ipython",
    "version": 3
   },
   "file_extension": ".py",
   "mimetype": "text/x-python",
   "name": "python",
   "nbconvert_exporter": "python",
   "pygments_lexer": "ipython3",
   "version": "3.7.1"
  }
 },
 "nbformat": 4,
 "nbformat_minor": 2
}
