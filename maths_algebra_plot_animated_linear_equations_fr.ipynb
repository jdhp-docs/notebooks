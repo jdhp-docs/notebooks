{
 "cells": [
  {
   "cell_type": "markdown",
   "metadata": {},
   "source": [
    "This notebook can be useful to make a graphical representation of linear systems of 2 variables."
   ]
  },
  {
   "cell_type": "code",
   "execution_count": null,
   "metadata": {},
   "outputs": [],
   "source": [
    "# Init matplotlib\n",
    "\n",
    "%matplotlib inline\n",
    "\n",
    "import matplotlib\n",
    "from IPython.display import Image"
   ]
  },
  {
   "cell_type": "code",
   "execution_count": null,
   "metadata": {},
   "outputs": [],
   "source": [
    "FIG_SIZE = 5\n",
    "\n",
    "def plot_linear_function(a, b, c, bounds=None, ax=None, color='r', alpha=1):\n",
    "    \"\"\"Plot the linear system defined by the extended matrix `Ab`.\"\"\"\n",
    "    \n",
    "    # Check arguments #############\n",
    "    \n",
    "    if bounds is None:\n",
    "        if ax is None:\n",
    "            bounds = np.array([[-10, 10],\n",
    "                               [-10, 10]])\n",
    "        else:\n",
    "            bounds = np.array(ax.axis()).reshape([2,2])\n",
    "    \n",
    "    assert bounds.ndim == 2\n",
    "    assert bounds.shape == (2, 2)\n",
    "    assert bounds[0,0] < bounds[0,1]\n",
    "    assert bounds[1,0] < bounds[1,1]\n",
    "    \n",
    "    # Setup the plot ##############\n",
    "    \n",
    "    if ax is None:\n",
    "        fig, ax = plt.subplots(figsize=(FIG_SIZE, FIG_SIZE))\n",
    "        \n",
    "    ax.axis('equal')\n",
    "\n",
    "    ax.axis(bounds.flatten())\n",
    "    ax.set_xticks(np.arange(*bounds[0], 1))\n",
    "    ax.set_yticks(np.arange(*bounds[0], 1))\n",
    "\n",
    "    ax.axhline(y=0, color='k')\n",
    "    ax.axvline(x=0, color='k')\n",
    "    \n",
    "    # Plot ########################\n",
    "    \n",
    "    x = bounds[0]            # horizontal axis limits\n",
    "    \n",
    "    if b != 0:\n",
    "        yp1 = (c - a * x[0]) / b\n",
    "        yp2 = (c - a * x[1]) / b\n",
    "        plt.plot(x, np.array([yp1, yp2]), \"-{}\".format(color), alpha=alpha)\n",
    "    else:\n",
    "        plt.axvline(c / a, color=color, alpha=alpha)\n",
    "    \n",
    "    # TODO: add label (e.g. \"2x + 3y = 1\")\n",
    "    plt.title(r\"{:0.1f} $x_1$ + {:0.1f} $x_2$ = {:0.1f}\".format(a, b, c))\n",
    "\n",
    "    plt.grid(True)\n",
    "    \n",
    "    return ax"
   ]
  },
  {
   "cell_type": "code",
   "execution_count": null,
   "metadata": {},
   "outputs": [],
   "source": [
    "plot_linear_function(1, 2, 3);"
   ]
  },
  {
   "cell_type": "markdown",
   "metadata": {},
   "source": [
    "## Make an animation for $a$"
   ]
  },
  {
   "cell_type": "code",
   "execution_count": null,
   "metadata": {},
   "outputs": [],
   "source": [
    "a_array = np.concatenate((np.linspace(0., 3., 31), np.linspace(3., -3., 61), np.linspace(-3., 0., 31)))\n",
    "a_array"
   ]
  },
  {
   "cell_type": "code",
   "execution_count": null,
   "metadata": {},
   "outputs": [],
   "source": [
    "for i, a in enumerate(a_array):\n",
    "    ax = plot_linear_function(a, 2, 3)\n",
    "    plt.savefig(\"img_{:04d}.png\".format(i))\n",
    "    plt.close()                            # <- to don't show the plot"
   ]
  },
  {
   "cell_type": "code",
   "execution_count": null,
   "metadata": {},
   "outputs": [],
   "source": [
    "!convert img_*.png imga.gif"
   ]
  },
  {
   "cell_type": "code",
   "execution_count": null,
   "metadata": {},
   "outputs": [],
   "source": [
    "Image(\"imga.gif\")"
   ]
  },
  {
   "cell_type": "markdown",
   "metadata": {},
   "source": [
    "## Make an animation for $b$"
   ]
  },
  {
   "cell_type": "code",
   "execution_count": null,
   "metadata": {},
   "outputs": [],
   "source": [
    "b_array = np.concatenate((np.linspace(0., 3., 31), np.linspace(3., -3., 61), np.linspace(-3., 0., 31)))\n",
    "b_array"
   ]
  },
  {
   "cell_type": "code",
   "execution_count": null,
   "metadata": {},
   "outputs": [],
   "source": [
    "for i, b in enumerate(b_array):\n",
    "    ax = plot_linear_function(1, b, 3)\n",
    "    plt.savefig(\"img_{:04d}.png\".format(i))\n",
    "    plt.close()                            # <- to don't show the plot"
   ]
  },
  {
   "cell_type": "code",
   "execution_count": null,
   "metadata": {},
   "outputs": [],
   "source": [
    "!convert img_*.png imgb.gif"
   ]
  },
  {
   "cell_type": "code",
   "execution_count": null,
   "metadata": {},
   "outputs": [],
   "source": [
    "Image(\"imgb.gif\")"
   ]
  },
  {
   "cell_type": "markdown",
   "metadata": {},
   "source": [
    "## Make an animation for $c$"
   ]
  },
  {
   "cell_type": "code",
   "execution_count": null,
   "metadata": {},
   "outputs": [],
   "source": [
    "c_array = np.concatenate((np.linspace(0., 3., 31), np.linspace(3., -3., 61), np.linspace(-3., 0., 31)))\n",
    "c_array"
   ]
  },
  {
   "cell_type": "code",
   "execution_count": null,
   "metadata": {},
   "outputs": [],
   "source": [
    "for i, c in enumerate(c_array):\n",
    "    ax = plot_linear_function(1, 2, c)\n",
    "    plt.savefig(\"img_{:04d}.png\".format(i))\n",
    "    plt.close()                            # <- to don't show the plot"
   ]
  },
  {
   "cell_type": "code",
   "execution_count": null,
   "metadata": {},
   "outputs": [],
   "source": [
    "!convert img_*.png imgc.gif"
   ]
  },
  {
   "cell_type": "code",
   "execution_count": null,
   "metadata": {},
   "outputs": [],
   "source": [
    "Image(\"imgc.gif\")"
   ]
  }
 ],
 "metadata": {
  "kernelspec": {
   "display_name": "Python 3",
   "language": "python",
   "name": "python3"
  },
  "language_info": {
   "codemirror_mode": {
    "name": "ipython",
    "version": 3
   },
   "file_extension": ".py",
   "mimetype": "text/x-python",
   "name": "python",
   "nbconvert_exporter": "python",
   "pygments_lexer": "ipython3",
   "version": "3.6.5"
  }
 },
 "nbformat": 4,
 "nbformat_minor": 2
}
