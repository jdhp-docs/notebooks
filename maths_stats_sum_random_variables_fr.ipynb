{
 "cells": [
  {
   "cell_type": "markdown",
   "metadata": {
    "tags": [
     "draft"
    ]
   },
   "source": [
    "# Somme de variables aléatoires"
   ]
  },
  {
   "cell_type": "code",
   "execution_count": null,
   "metadata": {
    "tags": [
     "hide"
    ]
   },
   "outputs": [],
   "source": [
    "%matplotlib inline"
   ]
  },
  {
   "cell_type": "code",
   "execution_count": null,
   "metadata": {
    "tags": [
     "hide"
    ]
   },
   "outputs": [],
   "source": [
    "import numpy as np\n",
    "import matplotlib.pyplot as plt\n",
    "import scipy.stats"
   ]
  },
  {
   "cell_type": "markdown",
   "metadata": {},
   "source": [
    "## Somme de deux v.a. discrètes: cas général"
   ]
  },
  {
   "cell_type": "markdown",
   "metadata": {},
   "source": [
    "Soit $X$ et $Y$ deux v.a. discrètes de lois respectives $\\{(x_i,p_i) ; i \\in I\\}$ et $\\{(y_j,q_j) ; j \\in J\\}$.\n",
    "La v.a. $Z=X+Y$ est aussi une v.a. discrète dont la loi de probabilité est définie par l'ensemble des valeurs possibles $\\{(x_i + y_j) ; i \\in I, j \\in J\\}$ et par les probabilités associées:\n",
    "\n",
    "$$\n",
    "P(Z=z_k) = \\sum\\left\\{ \\frac{P(X=x_i,Y=y_j)}{x_i+y_j} = z_k \\right\\}\n",
    "$$\n",
    "\n",
    "ce qui suppose de connaitre la loi du couple $(X,Y)$."
   ]
  },
  {
   "cell_type": "markdown",
   "metadata": {
    "tags": [
     "hide"
    ]
   },
   "source": [
    "**TODO**: clarifier la notation précédente"
   ]
  },
  {
   "cell_type": "markdown",
   "metadata": {
    "tags": [
     "hide"
    ]
   },
   "source": [
    "**TODO**: exemple"
   ]
  },
  {
   "cell_type": "markdown",
   "metadata": {},
   "source": [
    "## Somme de deux v.a. discrètes indépendantes"
   ]
  },
  {
   "cell_type": "markdown",
   "metadata": {},
   "source": [
    "Soit $X$ et $Y$ deux v.a. discrètes **indépendantes** de lois respectives $\\{(x_i,p_i) ; i \\in I\\}$ et $\\{(y_j,q_j) ; j \\in J\\}$.\n",
    "La v.a. $Z=X+Y$ est aussi une v.a. discrète dont la loi de probabilité est définie par l'ensemble des valeurs possibles $\\{(x_i + y_j) ; i \\in I, j \\in J\\}$ et par les probabilités associées:\n",
    "\n",
    "$$\n",
    "\\begin{eqnarray}\n",
    "P(Z=z_k) & = \\sum_{i \\in I} P(X=x_i)P(Y=z_k-x_i) \\\\\n",
    "         & = \\sum_{j \\in J} P(Y=y_j)P(X=z_k-y_j)\n",
    "\\end{eqnarray}\n",
    "$$"
   ]
  },
  {
   "cell_type": "markdown",
   "metadata": {
    "tags": [
     "hide"
    ]
   },
   "source": [
    "**TODO**: clarifier la notation précédente"
   ]
  },
  {
   "cell_type": "markdown",
   "metadata": {
    "tags": [
     "hide"
    ]
   },
   "source": [
    "**TODO**: exemple"
   ]
  },
  {
   "cell_type": "markdown",
   "metadata": {},
   "source": [
    "## Somme de deux v.a. suivant une loi de Bernoulli"
   ]
  },
  {
   "cell_type": "markdown",
   "metadata": {},
   "source": [
    "La somme de deux v.a. suivant une loi de Bernoulli est juste un cas particulier de la section suivante (somme de deux v.a. suivant une loi binomiale).\n",
    "\n",
    "Soit\n",
    "$X_1 \\sim \\mathcal{B}(1, p_1)$\n",
    "et\n",
    "$X_2 \\sim \\mathcal{B}(1, p_2)$ deux v.a. indépendantes suivant une loi de Bernoulli.\n",
    "\n",
    "Si $p_1 = p_2$ alors la somme de ces deux v.a. suit une loi binomiale de paramètre $n = 1 + 1 = 2$ et $p$ : $X_1 + X_2 \\sim \\mathcal{B}(2, p)$. Exemple intuitif: imaginer une planche de Galton de $1$ rangée à laquelle on ajouterais une seconde rangée...\n",
    "\n",
    "Si $p_1 \\neq p_2$ alors la somme de ces deux v.a. ne suit plus une loi *binomiale* mais une loi [*poisson binomiale*](https://fr.wikipedia.org/wiki/Loi_Poisson_binomiale) (loi de probabilité discrète de la somme d'épreuves de Bernoulli indépendantes de paramètre $p$ différents)."
   ]
  },
  {
   "cell_type": "markdown",
   "metadata": {
    "tags": [
     "hide"
    ]
   },
   "source": [
    "C.f. https://math.stackexchange.com/questions/1153576/addition-of-two-binomial-distribution."
   ]
  },
  {
   "cell_type": "markdown",
   "metadata": {},
   "source": [
    "## Somme de deux v.a. suivant une loi binomiale"
   ]
  },
  {
   "cell_type": "markdown",
   "metadata": {},
   "source": [
    "Soit $X_1 \\sim \\mathcal{B}(n_1, p_1)$\n",
    "et\n",
    "$X_2 \\sim \\mathcal{B}(n_2, p_2)$ deux v.a. indépendantes suivant une loi binomiale.\n",
    "\n",
    "Si $p_1 = p_2$ alors la somme de ces deux v.a. suit une loi binomiale de paramètre $n = n_1 + n_2$ et $p$ : $X_1 + X_2 \\sim \\mathcal{B}(n_1 + n_2, p)$. Exemple intuitif: imaginer une planche de Galton de $n_1$ rangées à laquelle on ajouterais $n_2$ rangées:\n",
    "* $X_1$ donne le nombre de \"succès\" sur $n_1$ expériences de Bernoulli $\\mathcal{B}(p)$ e.g. le nombre de fois que la bille est allée à droite dans une planche de Galton de $n_1$ lignes.\n",
    "* $X_2$ donne le nombre de \"succès\" sur $n_2$ expériences de Bernoulli $\\mathcal{B}(p)$ e.g. le nombre de fois que la bille est allée à droite dans une planche de Galton de $n_2$ lignes.\n",
    "* Donc la somme de $X_1$ et $X_2$ donne le nombre de \"succès\" sur $n_1 + n_2$ expériences de Bernoulli $\\mathcal{B}(p)$ e.g. le nombre de fois que la bille est allée à droite dans une planche de Galton de $n_1 + n_2$ lignes.\n",
    "\n",
    "Si $p_1 \\neq p_2$ alors la somme de ces deux v.a. ne suit plus une loi *binomiale* mais une loi [*poisson binomiale*](https://fr.wikipedia.org/wiki/Loi_Poisson_binomiale) (loi de probabilité discrète de la somme d'épreuves de Bernoulli indépendantes de paramètre $p$ différents)."
   ]
  },
  {
   "cell_type": "markdown",
   "metadata": {
    "tags": [
     "hide"
    ]
   },
   "source": [
    "C.f. https://math.stackexchange.com/questions/1153576/addition-of-two-binomial-distribution."
   ]
  },
  {
   "cell_type": "markdown",
   "metadata": {},
   "source": [
    "### Paramètre $p$ identique"
   ]
  },
  {
   "cell_type": "markdown",
   "metadata": {},
   "source": [
    "$X_1 \\sim \\mathcal{B}(n_1, p_1)$\n",
    "\n",
    "$X_2 \\sim \\mathcal{B}(n_2, p_2)$\n",
    "\n",
    "$X_1 + X_2 \\sim \\mathcal{B}(n_1 + n_2, p)$ si $X_1$ et $X_2$ sont indépendantes."
   ]
  },
  {
   "cell_type": "code",
   "execution_count": null,
   "metadata": {
    "tags": [
     "hide_code"
    ]
   },
   "outputs": [],
   "source": [
    "p = 0.5\n",
    "n1 = 5\n",
    "n2 = 8\n",
    "\n",
    "# Empirical distribution\n",
    "\n",
    "num_samples = 1000000\n",
    "\n",
    "x1 = np.random.binomial(n=n1, p=p, size=num_samples)\n",
    "x2 = np.random.binomial(n=n2, p=p, size=num_samples)\n",
    "x3 = np.random.binomial(n=n1+n2, p=p, size=num_samples)\n",
    "x1x2 = x1 + x2\n",
    "\n",
    "# Probability mass function\n",
    "\n",
    "xmin = 0\n",
    "xmax = n1 + n2\n",
    "\n",
    "x = np.arange(xmin, xmax, 1)\n",
    "\n",
    "dist1 = scipy.stats.binom(n=n1, p=p)\n",
    "dist2 = scipy.stats.binom(n=n2, p=p)\n",
    "dist3 = scipy.stats.binom(n=n1+n2, p=p)\n",
    "\n",
    "y1 = dist1.pmf(x)\n",
    "y2 = dist2.pmf(x)\n",
    "y3 = dist3.pmf(x)\n",
    "\n",
    "# Plots\n",
    "\n",
    "fig, ax = plt.subplots(nrows=1, ncols=1, figsize=(12, 12))\n",
    "\n",
    "ax.hist(x1,   bins=list(range(n1+2)),    label=r\"$X1 \\sim \\mathcal{B}(n_1, p)$\",       alpha=0.5, normed=True, color=\"blue\")\n",
    "ax.hist(x2,   bins=list(range(n2+2)),    label=r\"$X2 \\sim \\mathcal{B}(n_2, p)$\",       alpha=0.5, normed=True, color=\"red\")\n",
    "ax.hist(x3,   bins=list(range(n1+n2+2)), label=r\"$X3 \\sim \\mathcal{B}(n_1 + n_2, p)$\", alpha=0.5, normed=True, color=\"green\")\n",
    "ax.hist(x1x2, bins=list(range(n1+n2+2)), label=r\"$X1 + X2$\", alpha=0.5, normed=True, color=\"black\", histtype=\"step\", linewidth=2)\n",
    "\n",
    "ax.plot(x, y1, 'b.', label=r\"PMF $\\mathcal{B}(n_1, p)$\")\n",
    "ax.plot(x, y2, 'r.', label=r\"PMF $\\mathcal{B}(n_2, p)$\")\n",
    "ax.plot(x, y3, 'g.', label=r\"PMF $\\mathcal{B}(n_1+n_2, p)$\")\n",
    "\n",
    "ax.legend(prop={'size': 18}, loc='best', fancybox=True, framealpha=0.5);"
   ]
  },
  {
   "cell_type": "markdown",
   "metadata": {},
   "source": [
    "### Paramètre $p$ différent **(TODO)**"
   ]
  },
  {
   "cell_type": "markdown",
   "metadata": {},
   "source": [
    "**TODO**:\n",
    "\n",
    "$X_1 \\sim \\mathcal{B}(n, p_1)$\n",
    "\n",
    "$X_2 \\sim \\mathcal{B}(n, p_2)$\n",
    "\n",
    "$X_1 + X_2 \\sim ...$ si $X_1$ et $X_2$ sont indépendantes.\n",
    "\n",
    "$E(X_1 + X_2) = n p_1 + n p_2$\n",
    "\n",
    "$Var(X_1 + X_2) = n p_1 (1 − p_1) + n p_2 (1 − p_2)$\n",
    "\n",
    "The characteristic function is $(p_1 e^{it} + 1 − p_1)^n (p_2 e^{it} + 1 − p_2)^n$"
   ]
  },
  {
   "cell_type": "code",
   "execution_count": null,
   "metadata": {
    "tags": [
     "hide_code"
    ]
   },
   "outputs": [],
   "source": [
    "p1 = 0.5\n",
    "p2 = 0.8\n",
    "n = 10\n",
    "\n",
    "# Empirical distribution\n",
    "\n",
    "num_samples = 1000000\n",
    "\n",
    "x1 = np.random.binomial(n=n, p=p1,    size=num_samples)\n",
    "x2 = np.random.binomial(n=n, p=p2,    size=num_samples)\n",
    "x3 = np.random.binomial(n=2*n, p=p1*p2, size=num_samples)\n",
    "x1x2 = x1 + x2\n",
    "\n",
    "# Probability mass function\n",
    "\n",
    "xmin = 0\n",
    "xmax = 2 * n\n",
    "\n",
    "x = np.arange(xmin, xmax, 1)\n",
    "\n",
    "dist1 = scipy.stats.binom(n=n, p=p1)\n",
    "dist2 = scipy.stats.binom(n=n, p=p2)\n",
    "\n",
    "y1 = dist1.pmf(x)\n",
    "y2 = dist2.pmf(x)\n",
    "#y3 = (p1 * e^{it} + 1. − p1)**n * (p2 * e^{it} + 1. − p2)**n\n",
    "\n",
    "# Plots\n",
    "\n",
    "fig, ax = plt.subplots(nrows=1, ncols=1, figsize=(12, 12))\n",
    "\n",
    "ax.hist(x1,   bins=list(range(n+2)),   label=r\"$X1 \\sim \\mathcal{B}(n, p_1)$\",      alpha=0.5, normed=True, color=\"blue\")\n",
    "ax.hist(x2,   bins=list(range(n+2)),   label=r\"$X2 \\sim \\mathcal{B}(n, p_2)$\",      alpha=0.5, normed=True, color=\"red\")\n",
    "ax.hist(x1x2, bins=list(range(2*n+2)), label=r\"$X1 + X2$\", alpha=0.5, normed=True, color=\"black\", histtype=\"step\", linewidth=2)\n",
    "\n",
    "ax.plot(x, y1, 'b.', label=r\"PMF $\\mathcal{B}(n, p_1)$\")\n",
    "ax.plot(x, y2, 'r.', label=r\"PMF $\\mathcal{B}(n, p_2)$\")\n",
    "\n",
    "ax.legend(prop={'size': 18}, loc='best', fancybox=True, framealpha=0.5)\n",
    "\n",
    "print(\"E(X_1 + X_2) = \", x1x2.mean())\n",
    "print(\"n p_1 + n p_2 = \", n * p1 + n * p2)\n",
    "\n",
    "print()\n",
    "\n",
    "print(\"Var(X_1 + X_2) = \", x1x2.var())\n",
    "print(\"n p_1 (1 − p_1) + n p_2 (1 − p_2) =\", n * p1 * (1-p1) + n * p2 * (1-p2))"
   ]
  },
  {
   "cell_type": "markdown",
   "metadata": {},
   "source": [
    "## Somme de deux v.a. suivant une loi de poisson"
   ]
  },
  {
   "cell_type": "markdown",
   "metadata": {},
   "source": [
    "Si $X_1 \\sim \\mathcal{P}(\\lambda_1)$ et $X_2 \\sim \\mathcal{P}(\\lambda_2)$ sont indépendantes, alors $X_1 + X_2 \\sim \\mathcal{P}(\\lambda_1 + \\lambda_2)$.\n",
    "\n",
    "C.f. https://fr.wikipedia.org/wiki/Loi_de_Poisson#Stabilit.C3.A9_de_la_loi_de_Poisson_par_la_somme."
   ]
  },
  {
   "cell_type": "code",
   "execution_count": null,
   "metadata": {
    "tags": [
     "hide_code"
    ]
   },
   "outputs": [],
   "source": [
    "lambda1 = 3\n",
    "lambda2 = 8\n",
    "\n",
    "# Empirical distribution\n",
    "\n",
    "num_samples = 1000000\n",
    "\n",
    "x1 = np.random.poisson(lam=lambda1, size=num_samples)\n",
    "x2 = np.random.poisson(lam=lambda2, size=num_samples)\n",
    "x3 = np.random.poisson(lam=lambda1+lambda2, size=num_samples)\n",
    "x1x2 = x1 + x2\n",
    "\n",
    "# Probability mass function\n",
    "\n",
    "xmin = 0\n",
    "xmax = 30  # TODO\n",
    "\n",
    "x = np.arange(xmin, xmax, 1)\n",
    "\n",
    "dist1 = scipy.stats.poisson(lambda1)\n",
    "dist2 = scipy.stats.poisson(lambda2)\n",
    "dist3 = scipy.stats.poisson(lambda1+lambda2)\n",
    "\n",
    "y1 = dist1.pmf(x)\n",
    "y2 = dist2.pmf(x)\n",
    "y3 = dist3.pmf(x)\n",
    "\n",
    "# Plots\n",
    "\n",
    "fig, ax = plt.subplots(nrows=1, ncols=1, figsize=(12, 12))\n",
    "\n",
    "ax.hist(x1,   bins=list(range(xmax+2)), label=r\"$X1 \\sim \\mathcal{P}(\\lambda_1)$\",       alpha=0.5, normed=True, color=\"blue\")\n",
    "ax.hist(x2,   bins=list(range(xmax+2)), label=r\"$X2 \\sim \\mathcal{P}(\\lambda_2)$\",       alpha=0.5, normed=True, color=\"red\")\n",
    "ax.hist(x3,   bins=list(range(xmax+2)), label=r\"$X3 \\sim \\mathcal{P}(\\lambda_1 + \\lambda_2)$\", alpha=0.5, normed=True, color=\"green\")\n",
    "ax.hist(x1x2, bins=list(range(xmax+2)), label=r\"$X1 + X2$\", alpha=0.5, normed=True, color=\"black\", histtype=\"step\", linewidth=2)\n",
    "\n",
    "ax.plot(x, y1, 'b.', label=r\"PMF $\\mathcal{P}(\\lambda_1)$\")\n",
    "ax.plot(x, y2, 'r.', label=r\"PMF $\\mathcal{P}(\\lambda_2)$\")\n",
    "ax.plot(x, y3, 'g.', label=r\"PMF $\\mathcal{P}(\\lambda_1 + \\lambda_2)$\")\n",
    "\n",
    "ax.legend(prop={'size': 18}, loc='best', fancybox=True, framealpha=0.5);"
   ]
  },
  {
   "cell_type": "markdown",
   "metadata": {},
   "source": [
    "## Somme de deux v.a. suivant une loi normale (convolution de lois normales)"
   ]
  },
  {
   "cell_type": "markdown",
   "metadata": {},
   "source": [
    "La convolution (somme) de deux lois normales indépendantes forme une loi normale.\n",
    "\n",
    "Soit\n",
    "$X_1 \\sim \\mathcal{N}(\\mu_1, \\sigma_1)$\n",
    "et\n",
    "$X_2 \\sim \\mathcal{N}(\\mu_2, \\sigma_2)$ deux v.a. indépendantes suivant une loi Normale.\n",
    "\n",
    "$X_1 + X_2 \\sim \\mathcal{N}\\left(\\mu_1 + \\mu_2, \\sqrt{\\sigma_1^2 + \\sigma_2^2}\\right)$."
   ]
  },
  {
   "cell_type": "code",
   "execution_count": null,
   "metadata": {
    "tags": [
     "hide_code"
    ]
   },
   "outputs": [],
   "source": [
    "mu_1 = 1\n",
    "mu_2 = 15\n",
    "sigma_1 =2.5\n",
    "sigma_2 = 1.5\n",
    "\n",
    "# Empirical distribution\n",
    "\n",
    "num_samples = 1000000\n",
    "\n",
    "x1 = np.random.normal(loc=mu_1, scale=sigma_1, size=num_samples)\n",
    "x2 = np.random.normal(loc=mu_2, scale=sigma_2, size=num_samples)\n",
    "x3 = np.random.normal(loc=mu_1+mu_2, scale=math.sqrt(sigma_1**2 + sigma_2**2), size=num_samples)\n",
    "x1x2 = x1 + x2\n",
    "\n",
    "# Probability mass function\n",
    "\n",
    "xmin = -10\n",
    "xmax = 30\n",
    "\n",
    "x = np.arange(xmin, xmax, 0.01)\n",
    "\n",
    "dist1 = scipy.stats.norm(loc=mu_1, scale=sigma_1)\n",
    "dist2 = scipy.stats.norm(loc=mu_2, scale=sigma_2)\n",
    "dist3 = scipy.stats.norm(loc=mu_1+mu_2, scale=math.sqrt(sigma_1**2 + sigma_2**2))\n",
    "\n",
    "y1 = dist1.pdf(x)\n",
    "y2 = dist2.pdf(x)\n",
    "y3 = dist3.pdf(x)\n",
    "\n",
    "# Plots\n",
    "\n",
    "fig, ax = plt.subplots(nrows=1, ncols=1, figsize=(12, 12))\n",
    "\n",
    "bins = np.arange(xmin, xmax, 0.5)\n",
    "\n",
    "ax.hist(x1,   bins=bins, label=r\"$X1 \\sim \\mathcal{N}(\\mu_1, \\sigma_1)$\",       alpha=0.5, normed=True, color=\"blue\")\n",
    "ax.hist(x2,   bins=bins, label=r\"$X2 \\sim \\mathcal{N}(\\mu_2, \\sigma_2)$\",       alpha=0.5, normed=True, color=\"red\")\n",
    "ax.hist(x3,   bins=bins, label=r\"$X3 \\sim \\mathcal{N}(\\mu_1 + \\mu_2, \\sqrt{\\sigma_1^2 + \\sigma_2^2})$\", alpha=0.5, normed=True, color=\"green\")\n",
    "ax.hist(x1x2, bins=bins, label=r\"$X1 + X2$\", alpha=0.5, normed=True, color=\"black\", histtype=\"step\", linewidth=2)\n",
    "\n",
    "ax.plot(x, y1, 'b', label=r\"PDF $\\mathcal{N}(\\mu_1, \\sigma_1)$\")\n",
    "ax.plot(x, y2, 'r', label=r\"PDF $\\mathcal{N}(\\mu_2, \\sigma_2)$\")\n",
    "ax.plot(x, y3, 'g', label=r\"PDF $\\mathcal{N}(\\mu_1 + \\mu_2, \\sqrt{\\sigma_1^2 + \\sigma_2^2})$\")\n",
    "\n",
    "ax.legend(prop={'size': 18}, loc='best', fancybox=True, framealpha=0.5);"
   ]
  },
  {
   "cell_type": "markdown",
   "metadata": {
    "tags": [
     "hide"
    ]
   },
   "source": [
    "## Somme d'une loi de poisson (loi discrète) et d'une loi normale (loi continue)"
   ]
  },
  {
   "cell_type": "markdown",
   "metadata": {
    "tags": [
     "hide"
    ]
   },
   "source": [
    "Soit\n",
    "$X \\sim \\mathcal{P}(\\lambda)$,\n",
    "$Y \\sim \\mathcal{N}(\\mu, \\sigma)$ deux v.a. indépendantes suivant respectivement une loi de poisson et une loi normale\n",
    "et $Z$ la somme de ces deux v.a.:\n",
    "$Z = X + Y$.\n",
    "\n",
    "$X_1 + X_2 \\sim \\dots$  **TODO**\n",
    "\n",
    "**TODO** $$PDF_Z(z) = \\sum_{x=0}^{x=\\infty} PMF_X(x) PDF_Y(z-x)$$\n",
    "\n",
    "\n",
    "\n",
    "$E(Z) = $\n",
    "\n",
    "$V(Z) = $\n",
    "\n",
    "If X ~ Poisson(lambda), Y ~ N(mu,sigma^2), X, Y independent and Z=X+Y, then the cdf of Z is given by\n",
    "\n",
    "$$P(Z \\leq z) = \\sum_{k=0}^{k=\\infty} P(X=k) P(Y \\leq z-k)$$\n",
    "\n",
    "avec\n",
    "\n",
    "$$P(X=k) = \\frac{\\lambda^k}{k!} e^{-\\lambda}$$\n",
    "\n",
    "et\n",
    "\n",
    "$$P(Y \\leq z-k) = 0.5 * \\left(1 + \\text{erf}\\left(\\frac{z - k - \\mu}{\\sqrt{(2 * \\sigma^2)}}\\right)\\right)$$ (erf: error function)\n",
    "\n",
    "If needed, you can get the pdf of Z by differentiating the sum with respect to z."
   ]
  },
  {
   "cell_type": "markdown",
   "metadata": {
    "tags": [
     "hide"
    ]
   },
   "source": [
    "* https://math.stackexchange.com/questions/455624/sum-of-poisson-and-gaussian-random-variable\n",
    "* https://fr.mathworks.com/matlabcentral/answers/287934-adding-two-different-distributions-example-gaussian-and-poisson-distribution?requestedDomain=www.mathworks.com\n",
    "\n",
    "HS mais intéressant quand même:\n",
    "* https://stats.stackexchange.com/questions/86402/variance-of-the-sum-of-a-poisson-distributed-random-number-of-normally-distribu\n",
    "* https://en.wikipedia.org/wiki/Compound_Poisson_distribution"
   ]
  },
  {
   "cell_type": "code",
   "execution_count": null,
   "metadata": {
    "tags": [
     "hide"
    ]
   },
   "outputs": [],
   "source": [
    "k = 2     # lambda\n",
    "mu = 5\n",
    "sigma = 0.5\n",
    "\n",
    "# Empirical distribution\n",
    "\n",
    "num_samples = 10000000\n",
    "\n",
    "x1 = np.random.poisson(lam=k, size=num_samples)\n",
    "x2 = np.random.normal(loc=mu, scale=sigma, size=num_samples)\n",
    "x1x2 = x1 + x2\n",
    "\n",
    "# Probability mass function\n",
    "\n",
    "dist1 = scipy.stats.poisson(k)\n",
    "dist2 = scipy.stats.norm(loc=mu, scale=sigma)\n",
    "\n",
    "xmin = -30\n",
    "xmax = 30\n",
    "\n",
    "x_poisson = np.arange(0, xmax, 1)\n",
    "x_normal = np.arange(xmin, xmax, 0.01)\n",
    "\n",
    "y1 = dist1.pmf(x_poisson)\n",
    "y2 = dist2.pdf(x_normal)"
   ]
  },
  {
   "cell_type": "code",
   "execution_count": null,
   "metadata": {
    "tags": [
     "hide_code",
     "hide"
    ]
   },
   "outputs": [],
   "source": [
    "# Plots\n",
    "\n",
    "fig, ax = plt.subplots(nrows=1, ncols=1, figsize=(12, 12))\n",
    "\n",
    "bins1 = np.arange(xmin, xmax, 1)\n",
    "bins2 = np.arange(xmin, xmax, 0.1)\n",
    "\n",
    "ax.hist(x1,   bins=list(range(xmax+2)), label=r\"$X1 \\sim \\mathcal{P}(\\lambda)$\",       alpha=0.5, normed=True, color=\"blue\")\n",
    "ax.hist(x2,   bins=bins2, label=r\"$X2 \\sim \\mathcal{N}(\\mu, \\sigma)$\",       alpha=0.5, normed=True, color=\"red\")\n",
    "ax.hist(x1x2, bins=bins2, label=r\"$X1 + X2$\", alpha=0.5, normed=True, color=\"black\", histtype=\"step\", linewidth=2)\n",
    "\n",
    "ax.plot(x_poisson, y1, 'b.', label=r\"PMF $\\mathcal{P}(\\lambda)$\")\n",
    "ax.plot(x_normal, y2, 'r',  label=r\"PDF $\\mathcal{N}(\\mu, \\sigma)$\")\n",
    "\n",
    "ax.legend(prop={'size': 18}, loc='best', fancybox=True, framealpha=0.5)"
   ]
  },
  {
   "cell_type": "code",
   "execution_count": null,
   "metadata": {
    "tags": [
     "hide"
    ]
   },
   "outputs": [],
   "source": [
    "class PoissonGaussian:\n",
    "    def __init__(self, lambda_, mu, sigma):\n",
    "        self.lambda_ = lambda_\n",
    "        self.mu = mu\n",
    "        self.sigma = sigma\n",
    "\n",
    "    def pdf(self, x):\n",
    "        pdf = 0.\n",
    "        \n",
    "        norm_dist = scipy.stats.norm(self.mu, self.sigma)\n",
    "        \n",
    "        poisson_dist = scipy.stats.poisson(self.lambda_)\n",
    "        x_poisson = 0\n",
    "        while poisson_dist.cdf(x_poisson) < 0.999:  # iterate over the X r.v. (Poisson distribution)\n",
    "            pdf += poisson_dist.pmf(x_poisson) * norm_dist.pdf(x-x_poisson)\n",
    "            x_poisson += 1\n",
    "        \n",
    "        return pdf"
   ]
  },
  {
   "cell_type": "code",
   "execution_count": null,
   "metadata": {
    "tags": [
     "hide"
    ]
   },
   "outputs": [],
   "source": [
    "dist = PoissonGaussian(k, mu, sigma)\n",
    "\n",
    "y4 = np.array([dist.pdf(x) for x in x_normal])"
   ]
  },
  {
   "cell_type": "code",
   "execution_count": null,
   "metadata": {
    "tags": [
     "hide_code"
    ]
   },
   "outputs": [],
   "source": [
    "fig, ax = plt.subplots(nrows=1, ncols=1, figsize=(12, 12))\n",
    "\n",
    "ax.hist(x1x2, bins=bins2, label=r\"$X1 + X2$\", alpha=0.5, normed=True, color=\"black\", histtype=\"step\", linewidth=2)\n",
    "\n",
    "#ax.plot(x_normal, y4_cum, 'g');  # Print the CDF\n",
    "ax.plot(x_normal, y4, 'g');  # Print the PDF"
   ]
  },
  {
   "cell_type": "code",
   "execution_count": null,
   "metadata": {
    "tags": [
     "hide"
    ]
   },
   "outputs": [],
   "source": [
    "# Approximation by a Normal distribution\n",
    "\n",
    "print(\"X1+X2 mean =\", x1x2.mean())\n",
    "print(\"mu + lambda =\", mu + k)\n",
    "print()\n",
    "\n",
    "print(\"X1+X2 std =\", x1x2.std())\n",
    "\n",
    "fig, ax = plt.subplots(nrows=1, ncols=1, figsize=(12, 12))\n",
    "\n",
    "ax.hist(x1x2, bins=bins2, label=r\"$X1 + X2$\", alpha=0.5, normed=True, color=\"black\", histtype=\"step\", linewidth=2)\n",
    "\n",
    "dist3 = scipy.stats.norm(loc=x1x2.mean(), scale=x1x2.std())\n",
    "y3 = dist3.pdf(x_normal)\n",
    "\n",
    "ax.plot(x_normal, y3, 'g');"
   ]
  },
  {
   "cell_type": "code",
   "execution_count": null,
   "metadata": {
    "tags": [
     "hide_code",
     "hide"
    ]
   },
   "outputs": [],
   "source": [
    "#np.diff(y4_cum) / (x_normal[1] - x_normal[0])"
   ]
  },
  {
   "cell_type": "markdown",
   "metadata": {},
   "source": [
    "## Références\n",
    "\n",
    "- *Statistique et Pobabilités* de Jean-Pierre Lecoutre, 2006 Dunod, 3e édition p.154"
   ]
  }
 ],
 "metadata": {
  "celltoolbar": "Tags",
  "kernelspec": {
   "display_name": "Python [default]",
   "language": "python",
   "name": "python3"
  },
  "language_info": {
   "codemirror_mode": {
    "name": "ipython",
    "version": 3
   },
   "file_extension": ".py",
   "mimetype": "text/x-python",
   "name": "python",
   "nbconvert_exporter": "python",
   "pygments_lexer": "ipython3",
   "version": "3.5.3"
  }
 },
 "nbformat": 4,
 "nbformat_minor": 2
}
