{
 "cells": [
  {
   "cell_type": "markdown",
   "metadata": {},
   "source": [
    "# Pyomo - Getting started"
   ]
  },
  {
   "cell_type": "markdown",
   "metadata": {},
   "source": [
    "Pyomo installation: see http://www.pyomo.org/installation\n",
    "\n",
    "```\n",
    "pip install pyomo\n",
    "```"
   ]
  },
  {
   "cell_type": "code",
   "execution_count": null,
   "metadata": {},
   "outputs": [],
   "source": [
    "from pyomo.environ import *"
   ]
  },
  {
   "cell_type": "markdown",
   "metadata": {},
   "source": [
    "## Ice cream example"
   ]
  },
  {
   "cell_type": "markdown",
   "metadata": {},
   "source": [
    "This example is taken from the following book: *Pyomo - Optimization Modeling in Python* by W. E. Hart & al. , Second Edition, Springer (p.19)"
   ]
  },
  {
   "cell_type": "markdown",
   "metadata": {},
   "source": [
    "$$\n",
    "\\begin{align}\n",
    "    \\max_{x}     & \\quad \\sum_{i \\in \\mathcal{A}} h_i (1 - u/d_i^2) x_i \\\\\n",
    "    \\text{s.t.}  & \\quad \\sum_{i \\in \\mathcal{A}} c_i x_i \\leq b \\\\\n",
    "                 & \\quad 0 \\leq x_i \\leq u_i, \\quad i \\in \\mathcal{A}\n",
    "\\end{align}\n",
    "$$"
   ]
  },
  {
   "cell_type": "markdown",
   "metadata": {},
   "source": [
    "### Concrete Model"
   ]
  },
  {
   "cell_type": "markdown",
   "metadata": {},
   "source": [
    "`ConcHLinScript.py` in https://github.com/Pyomo/pyomo/tree/master/examples/doc/pyomobook/optimization-ch"
   ]
  },
  {
   "cell_type": "code",
   "execution_count": null,
   "metadata": {},
   "outputs": [],
   "source": [
    "instance = ConcreteModel(name=\"Linear (H)\")\n",
    "\n",
    "A = ['I_C_Scoops', 'Peanuts']\n",
    "h = {'I_C_Scoops': 1,    'Peanuts': 0.1}\n",
    "d = {'I_C_Scoops': 5,    'Peanuts': 27}\n",
    "c = {'I_C_Scoops': 3.14, 'Peanuts': 0.2718}\n",
    "b = 12\n",
    "u = {'I_C_Scoops': 100,  'Peanuts': 40.6}\n",
    "\n",
    "def x_bounds(m, i):\n",
    "    return (0,u[i])\n",
    "\n",
    "instance.x = Var(A, bounds=x_bounds)\n",
    "\n",
    "def obj_rule(instance):\n",
    "    return sum(h[i]*(1 - u[i]/d[i]**2) * instance.x[i] for i in A)\n",
    "\n",
    "instance.z = Objective(rule=obj_rule, sense=maximize)\n",
    "\n",
    "instance.budgetconstr = Constraint(expr = sum(c[i] * instance.x[i] for i in A) <= b)\n",
    "\n",
    "# @tail:\n",
    "opt = SolverFactory('glpk')\n",
    "\n",
    "results = opt.solve(instance)    # solves and updates instance\n",
    "\n",
    "instance.display()\n",
    "# @:tail"
   ]
  },
  {
   "cell_type": "markdown",
   "metadata": {},
   "source": [
    "### Abstract Model"
   ]
  },
  {
   "cell_type": "markdown",
   "metadata": {},
   "source": [
    "`AbstHLinScript.py` in https://github.com/Pyomo/pyomo/tree/master/examples/doc/pyomobook/optimization-ch"
   ]
  },
  {
   "cell_type": "code",
   "execution_count": null,
   "metadata": {},
   "outputs": [],
   "source": [
    "DATA_STR = \"\"\"# Pyomo data file for AbstractH.py\n",
    "set A := I_C_Scoops Peanuts ;\n",
    "param h := I_C_Scoops 1 Peanuts 0.1 ;\n",
    "param d := \n",
    "  I_C_Scoops 5\n",
    "  Peanuts 27 ;\n",
    "param c := I_C_Scoops 3.14 Peanuts 0.2718 ;\n",
    "param b := 12 ;\n",
    "param u := I_C_Scoops 100 Peanuts 40.6 ;\n",
    "\"\"\"\n",
    "\n",
    "with open(\"AbstractH.dat\", \"w\") as fd:\n",
    "    print(DATA_STR, file=fd)"
   ]
  },
  {
   "cell_type": "code",
   "execution_count": null,
   "metadata": {},
   "outputs": [],
   "source": [
    "!cat AbstractH.dat"
   ]
  },
  {
   "cell_type": "code",
   "execution_count": null,
   "metadata": {},
   "outputs": [],
   "source": [
    "model = AbstractModel(name=\"Simple Linear (H)\")\n",
    "\n",
    "model.A = Set()\n",
    "\n",
    "model.h = Param(model.A)\n",
    "model.d = Param(model.A)\n",
    "model.c = Param(model.A)\n",
    "model.b = Param()\n",
    "model.u = Param(model.A)\n",
    "\n",
    "def xbounds_rule(model, i):\n",
    "    return (0, model.u[i])\n",
    "model.x = Var(model.A, bounds=xbounds_rule)\n",
    "\n",
    "def obj_rule(model):\n",
    "    return sum(model.h[i] * (1 - model.u[i]/model.d[i]**2) * model.x[i] for i in model.A)\n",
    "\n",
    "model.z = Objective(rule=obj_rule, sense=maximize)\n",
    "\n",
    "def budget_rule(model):\n",
    "    return summation(model.c, model.x) <= model.b\n",
    "\n",
    "model.budgetconstr = Constraint(rule=budget_rule)\n",
    "\n",
    "# @tail:\n",
    "opt = SolverFactory('glpk')\n",
    "\n",
    "instance = model.create_instance(\"AbstractH.dat\")\n",
    "results = opt.solve(instance)     # solves and updates instance\n",
    "\n",
    "instance.display()\n",
    "# @:tail"
   ]
  }
 ],
 "metadata": {
  "kernelspec": {
   "display_name": "Python 3",
   "language": "python",
   "name": "python3"
  },
  "language_info": {
   "codemirror_mode": {
    "name": "ipython",
    "version": 3
   },
   "file_extension": ".py",
   "mimetype": "text/x-python",
   "name": "python",
   "nbconvert_exporter": "python",
   "pygments_lexer": "ipython3",
   "version": "3.7.1"
  }
 },
 "nbformat": 4,
 "nbformat_minor": 2
}
