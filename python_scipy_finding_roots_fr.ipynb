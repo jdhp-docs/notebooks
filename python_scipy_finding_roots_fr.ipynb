{
 "cells": [
  {
   "cell_type": "code",
   "execution_count": null,
   "metadata": {
    "collapsed": true
   },
   "outputs": [],
   "source": [
    "import scipy\n",
    "import scipy.optimize\n",
    "\n",
    "def f(x):\n",
    "    return x**2 - 10"
   ]
  },
  {
   "cell_type": "code",
   "execution_count": null,
   "metadata": {},
   "outputs": [],
   "source": [
    "print(scipy.optimize.brentq(f, -10, 0))\n",
    "print(scipy.optimize.brentq(f, 10, 0))"
   ]
  },
  {
   "cell_type": "code",
   "execution_count": null,
   "metadata": {
    "collapsed": true
   },
   "outputs": [],
   "source": [
    "# Find f roots\n",
    "#scipy.optimize.fixed_point\n",
    "#scipy.optimize.brentq\n",
    "#scipy.optimize.brenth\n",
    "#scipy.optimize.ridder\n",
    "#scipy.optimize.bisect\n",
    "#scipy.optimize.newton"
   ]
  }
 ],
 "metadata": {
  "kernelspec": {
   "display_name": "Python [default]",
   "language": "python",
   "name": "python3"
  },
  "language_info": {
   "codemirror_mode": {
    "name": "ipython",
    "version": 3
   },
   "file_extension": ".py",
   "mimetype": "text/x-python",
   "name": "python",
   "nbconvert_exporter": "python",
   "pygments_lexer": "ipython3",
   "version": "3.5.3"
  }
 },
 "nbformat": 4,
 "nbformat_minor": 2
}
