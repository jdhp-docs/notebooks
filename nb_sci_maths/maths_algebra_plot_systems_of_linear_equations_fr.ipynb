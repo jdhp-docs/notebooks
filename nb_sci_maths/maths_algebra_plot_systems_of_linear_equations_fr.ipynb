{
 "cells": [
  {
   "cell_type": "markdown",
   "metadata": {},
   "source": [
    "This notebook can be useful to make a graphical representation of linear systems of 2 variables."
   ]
  },
  {
   "cell_type": "code",
   "execution_count": null,
   "metadata": {},
   "outputs": [],
   "source": [
    "# Init matplotlib\n",
    "\n",
    "%matplotlib inline\n",
    "\n",
    "import matplotlib"
   ]
  },
  {
   "cell_type": "code",
   "execution_count": null,
   "metadata": {},
   "outputs": [],
   "source": [
    "FIG_SIZE = 4\n",
    "\n",
    "def plot_linear_system(Ab, bounds=None, ax=None, color='r', alpha=1):\n",
    "    \"\"\"Plot the linear system defined by the extended matrix `Ab`.\"\"\"\n",
    "    \n",
    "    # Check arguments #############\n",
    "    \n",
    "    assert Ab.ndim == 2\n",
    "    assert Ab.shape[1] == 3\n",
    "    \n",
    "    if bounds is None:\n",
    "        if ax is None:\n",
    "            bounds = np.array([[-10, 10],\n",
    "                               [-10, 10]])\n",
    "        else:\n",
    "            bounds = np.array(ax.axis()).reshape([2,2])\n",
    "    \n",
    "    assert bounds.ndim == 2\n",
    "    assert bounds.shape == (2, 2)\n",
    "    assert bounds[0,0] < bounds[0,1]\n",
    "    assert bounds[1,0] < bounds[1,1]\n",
    "    \n",
    "    # Setup the plot ##############\n",
    "    \n",
    "    if ax is None:\n",
    "        fig, ax = plt.subplots(figsize=(FIG_SIZE, FIG_SIZE))\n",
    "        \n",
    "    ax.axis('equal')\n",
    "\n",
    "    ax.axis(bounds.flatten())\n",
    "    ax.set_xticks(np.arange(*bounds[0], 1))\n",
    "    ax.set_yticks(np.arange(*bounds[0], 1))\n",
    "\n",
    "    ax.axhline(y=0, color='k')\n",
    "    ax.axvline(x=0, color='k')\n",
    "\n",
    "    # Compute points to plot ######\n",
    "\n",
    "    x = bounds[0]            # horizontal axis limits\n",
    "    \n",
    "    Abnv = Ab[Ab[:,1] != 0]  # linear equations having a non-null x_2 coefficient (i.e. non-vertical line)\n",
    "    Abv = Ab[Ab[:,1] == 0]   # linear equations having a null x_2 coefficient (i.e. vertical line)\n",
    "    \n",
    "    # Plot non-vertical lines #####\n",
    "    \n",
    "    yp1 = (Abnv[:,2] - Abnv[:,0] * x[0]) / Abnv[:,1]\n",
    "    yp2 = (Abnv[:,2] - Abnv[:,0] * x[1]) / Abnv[:,1]\n",
    "    plt.plot(x, np.array([yp1, yp2]), \"-{}\".format(color), alpha=alpha)\n",
    "    \n",
    "    # Plot vertical lines #########\n",
    "    \n",
    "    for ab in Abv:\n",
    "        plt.axvline(ab[2] / ab[0], color=color, alpha=alpha)\n",
    "    \n",
    "    # TODO: add label (e.g. \"2x + 3y = 1\")\n",
    "\n",
    "    plt.grid(True)\n",
    "    \n",
    "    return ax"
   ]
  },
  {
   "cell_type": "code",
   "execution_count": null,
   "metadata": {},
   "outputs": [],
   "source": [
    "Ab = np.array([[0, 1, 1],\n",
    "               [1, 0, 1],\n",
    "               [1, 1, 2]])\n",
    "\n",
    "plot_linear_system(Ab);"
   ]
  },
  {
   "cell_type": "code",
   "execution_count": null,
   "metadata": {},
   "outputs": [],
   "source": [
    "Ab = np.array([[-3, 9, 9],\n",
    "               [1, 1, 5]])\n",
    "\n",
    "bounds = np.array([[-2, 6], [-2, 6]])\n",
    "\n",
    "plot_linear_system(Ab, bounds=bounds);\n",
    "\n",
    "Ab = np.array([[-1., 3., 3.],\n",
    "               [-1., 7., 11.]])\n",
    "\n",
    "Ab[0] = Ab[0] + -0.2 * Ab[1]\n",
    "\n",
    "print(Ab)\n",
    "\n",
    "plot_linear_system(Ab, bounds=bounds);\n",
    "\n",
    "Ab = np.array([[1, 0, 3],\n",
    "               [0, 1, 2]])\n",
    "\n",
    "plot_linear_system(Ab, bounds=bounds);"
   ]
  },
  {
   "cell_type": "code",
   "execution_count": null,
   "metadata": {},
   "outputs": [],
   "source": [
    "Ab = np.array([[-2, 4, -4],\n",
    "               [ 6, 7, 11]])\n",
    "\n",
    "ax = plot_linear_system(Ab, bounds=np.array([[-5, 5], [-5, 5]]), alpha=0.5);\n",
    "\n",
    "Ab = np.array([[-2,  4, -4],\n",
    "               [ 0, 19, -1]])\n",
    "\n",
    "plot_linear_system(Ab, ax=ax, color='g', alpha=0.5);"
   ]
  }
 ],
 "metadata": {
  "kernelspec": {
   "display_name": "Python 3",
   "language": "python",
   "name": "python3"
  },
  "language_info": {
   "codemirror_mode": {
    "name": "ipython",
    "version": 3
   },
   "file_extension": ".py",
   "mimetype": "text/x-python",
   "name": "python",
   "nbconvert_exporter": "python",
   "pygments_lexer": "ipython3",
   "version": "3.6.5"
  }
 },
 "nbformat": 4,
 "nbformat_minor": 2
}
