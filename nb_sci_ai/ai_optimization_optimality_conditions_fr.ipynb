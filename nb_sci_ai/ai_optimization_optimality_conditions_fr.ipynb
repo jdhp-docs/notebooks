{
 "cells": [
  {
   "cell_type": "markdown",
   "metadata": {
    "tags": [
     "meta",
     "draft"
    ]
   },
   "source": [
    "# Conditions d'optimalité"
   ]
  },
  {
   "cell_type": "markdown",
   "metadata": {
    "tags": [
     "hide"
    ]
   },
   "source": [
    "**TODO**\n",
    "* ..."
   ]
  },
  {
   "cell_type": "code",
   "execution_count": null,
   "metadata": {
    "tags": [
     "hide"
    ]
   },
   "outputs": [],
   "source": [
    "%matplotlib inline\n",
    "import numpy as np\n",
    "import matplotlib.pyplot as plt"
   ]
  },
  {
   "cell_type": "code",
   "execution_count": null,
   "metadata": {
    "tags": [
     "hide_code"
    ]
   },
   "outputs": [],
   "source": [
    "fig, (ax1, ax2, ax3) = plt.subplots(ncols=3, figsize=(12, 4))\n",
    "\n",
    "x = np.linspace(-10, 10, 100)\n",
    "y1 = x**2\n",
    "y2 = -x**2\n",
    "y3 = x**3\n",
    "\n",
    "ax1.plot(x, y1, \"-k\", alpha=0.5)\n",
    "ax1.plot([0], [0], \"or\")\n",
    "ax1.set_ylim(bottom=-100)\n",
    "ax1.axhline(0, color=\"r\")\n",
    "ax1.set_axis_off()\n",
    "\n",
    "ax2.plot(x, y2, \"-k\", alpha=0.5)\n",
    "ax2.plot([0], [0], \"or\")\n",
    "ax2.set_ylim(top=100)\n",
    "ax2.axhline(0, color=\"r\")\n",
    "ax2.set_axis_off()\n",
    "\n",
    "ax3.plot(x, y3, \"-k\", alpha=0.5)\n",
    "ax3.plot([0], [0], \"or\")\n",
    "ax3.axhline(0, color=\"r\")\n",
    "ax3.set_axis_off()\n",
    "\n",
    "plt.show()"
   ]
  },
  {
   "cell_type": "code",
   "execution_count": null,
   "metadata": {},
   "outputs": [],
   "source": []
  }
 ],
 "metadata": {
  "anaconda-cloud": {},
  "celltoolbar": "Tags",
  "kernelspec": {
   "display_name": "Python [default]",
   "language": "python",
   "name": "python3"
  },
  "language_info": {
   "codemirror_mode": {
    "name": "ipython",
    "version": 3
   },
   "file_extension": ".py",
   "mimetype": "text/x-python",
   "name": "python",
   "nbconvert_exporter": "python",
   "pygments_lexer": "ipython3",
   "version": "3.5.3"
  }
 },
 "nbformat": 4,
 "nbformat_minor": 1
}
