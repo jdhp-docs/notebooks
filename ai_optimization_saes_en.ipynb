{
 "cells": [
  {
   "cell_type": "markdown",
   "metadata": {
    "tags": [
     "meta"
    ]
   },
   "source": [
    "# Self-adaptive Evolution Strategy (SAES)"
   ]
  },
  {
   "cell_type": "markdown",
   "metadata": {
    "tags": [
     "hide"
    ]
   },
   "source": [
    "$\\newcommand{\\R}{\\mathbb{R}}$\n",
    "$\\newcommand{\\E}{\\mathbb{E}}$\n",
    "\n",
    "$\\newcommand{\\vs}[1]{\\boldsymbol{#1}}$\n",
    "$\\newcommand{\\ms}[1]{\\boldsymbol{#1}}$"
   ]
  },
  {
   "cell_type": "markdown",
   "metadata": {},
   "source": [
    "## The SAES algorithm"
   ]
  },
  {
   "cell_type": "markdown",
   "metadata": {},
   "source": [
    "In the following algorithm ${\\cal{N}}$ denotes some independent standard Gaussian random variable, with dimension as required in equations above.\n",
    "\n",
    "---\n",
    "\n",
    "**Parameters:**\n",
    "$K>0$,\n",
    "$\\zeta\\geq 0$,\n",
    "$\\lambda>\\mu>0$\n",
    "and a dimension $d>0$.\n",
    "\n",
    "**Input:**\n",
    "an initial parent population $x_{1,i} \\in \\R^d$\n",
    "and an initial $\\sigma_{1,i} = 1$ with $i \\in \\{1, \\dots, \\mu \\}$.\n",
    "\n",
    "---\n",
    "\n",
    "$n\\leftarrow 1$\n",
    "\n",
    "**while** (stop condition) **do**\n",
    "\n",
    "$\\quad$ Generate $\\lambda$ individuals $i_j$ independently with $j \\in \\{ 1, \\dots, \\lambda \\}$ using\n",
    "    \n",
    "\\begin{eqnarray}\n",
    "    \\sigma_j & = & \\sigma_{n, mod(j-1, \\mu) + 1} \\times \\exp\\left( \\frac{1}{2d} \\cal{N} \\right) \\\\\n",
    "    i_j      & = & \\vs{x}_{n, mod(j-1, \\mu) + 1} + \\sigma_j \\cal{N}.\n",
    "\\end{eqnarray}\n",
    "    \n",
    "$\\quad$ Evaluate each of them $\\lceil Kn^\\zeta \\rceil$ times and average their fitness values\n",
    "\n",
    "$\\quad$ Define $j_1, \\dots, j_{\\lambda}$ so that\n",
    "\n",
    "$$\n",
    "\\E_{\\lceil Kn^\\zeta \\rceil}[f(i_{j_1})]\\leq \\E_{\\lceil Kn^\\zeta \\rceil}[f(i_{j_2})] \\leq \\dots \\leq \\E_{\\lceil Kn^\\zeta \\rceil}[f(i_{j_{\\lambda}})]\n",
    "$$\n",
    "\n",
    "$\\quad$ where $\\E_m$ denotes a sample average over $m$ resamplings.\n",
    "\n",
    "$\\quad$ Update: compute $\\vs{x}_{n+1, k}$ and $\\sigma_{n+1, k}$ using\n",
    "\n",
    "\\begin{eqnarray}\n",
    "\\sigma_{n+1,k}   &=& \\sigma_{j_{k}}, \\quad k \\in \\{1, \\dots, \\mu\\}\\\\\n",
    "{\\vs{x}_{n+1,k}} &=& i_{j_{k}},      \\quad k \\in \\{1, \\dots, \\mu\\}\n",
    "\\end{eqnarray}\n",
    "\n",
    "$\\quad$ $n\\leftarrow n+1$\n",
    "\n",
    "**end while**"
   ]
  },
  {
   "cell_type": "markdown",
   "metadata": {},
   "source": [
    "For more information, see http://www.scholarpedia.org/article/Evolution_strategies."
   ]
  },
  {
   "cell_type": "markdown",
   "metadata": {},
   "source": [
    "## A Python inplementation"
   ]
  },
  {
   "cell_type": "markdown",
   "metadata": {},
   "source": [
    "The following implementation has been taken from there: https://github.com/jeremiedecock/pyai/blob/a61a866ead261e470785cc02c9d5aa6deeac80ee/pyai/optimization/standalone_implementations/saes/saes.py."
   ]
  },
  {
   "cell_type": "code",
   "execution_count": null,
   "metadata": {},
   "outputs": [],
   "source": [
    "#!/usr/bin/env python\n",
    "\n",
    "\"\"\"\n",
    "This is a simple Python implementation of the (mu/mu_I, lambda)-sigmaSA-ES\n",
    "as discussed in \n",
    "http://www.scholarpedia.org/article/Evolution_Strategies\n",
    "Based on\n",
    "https://homepages.fhv.at/hgb/downloads/mu_mu_I_lambda-ES.oct\n",
    "\"\"\"\n",
    "\n",
    "import math\n",
    "import numpy as np\n",
    "import random\n",
    "\n",
    "MU = 3                    # number of parents\n",
    "LAMBDA = 12               # number of offspring\n",
    "\n",
    "X_INIT = np.ones(2)       # initial parent vector\n",
    "SIGMA_INIT = 1            # initial global mutation strength sigma\n",
    "\n",
    "SIGMA_MIN = 1e-10         # ES stops when sigma is smaller than sigma_min\n",
    "\n",
    "###########################################################\n",
    "\n",
    "# Function to be optimized (sphere test function as an example)\n",
    "# individual: the individual to evaluate\n",
    "\n",
    "def fitness(individual):\n",
    "    return sum(individual.x**2)\n",
    "\n",
    "###########################################################\n",
    "\n",
    "# The individual class\n",
    "# x: the individual's value\n",
    "# sigma: the individual's sigma\n",
    "class Individual():\n",
    "    def __init__(self, x, sigma):\n",
    "        self.x = x\n",
    "        self.sigma = sigma\n",
    "        self.cost = fitness(self)\n",
    "\n",
    "    def __str__(self):\n",
    "        return \"{0} {1} {2}\".format(self.x, self.sigma, self.cost)\n",
    "\n",
    "###########################################################\n",
    "\n",
    "# This sorts the population according to the individuals' fitnesses\n",
    "# pop: a list of Individual objects\n",
    "def select_individuals(pop):\n",
    "    pop.sort(key=lambda indiv: indiv.cost, reverse=False)\n",
    "    return pop[:MU]\n",
    "\n",
    "# This performs intermediate (multi-) recombination\n",
    "# parents: a list of Individual objects\n",
    "def recombine_individuals(parents):\n",
    "    parents_y = np.array([indiv.x for indiv in parents])\n",
    "    parents_sigma = np.array([indiv.sigma for indiv in parents])\n",
    "    recombinant = Individual(parents_y.mean(axis=0), parents_sigma.mean())\n",
    "    return recombinant\n",
    "\n",
    "###########################################################\n",
    "\n",
    "# Initialization\n",
    "n = X_INIT.shape[0]         # determine search space dimensionality n   \n",
    "tau = 1. / math.sqrt(2.*n)  # self-adaptation learning rate\n",
    "\n",
    "# Initializing individual population\n",
    "parent_pop = [Individual(X_INIT, SIGMA_INIT) for i in range(MU)]\n",
    "\n",
    "# Evolution loop of the (mu/mu_I, lambda)-sigma-SA-ES\n",
    "while parent_pop[0].sigma > SIGMA_MIN:\n",
    "    offspring_pop = []\n",
    "    recombinant = recombine_individuals(parent_pop) # TODO: BUG ? this statement may be in the next line\n",
    "    for i in range(1, LAMBDA):\n",
    "        offspring_sigma = recombinant.sigma * math.exp(tau * random.normalvariate(0,1))\n",
    "        offspring_y = recombinant.x + offspring_sigma * np.random.normal(size=n)\n",
    "        offspring = Individual(offspring_y, offspring_sigma)\n",
    "        offspring_pop.append(offspring)\n",
    "    parent_pop = select_individuals(offspring_pop)\n",
    "    print(parent_pop[0])\n",
    "\n",
    "# Remark: Final approximation of the optimizer is in \"parent_pop[0].x\"\n",
    "#         corresponding fitness is in \"parent_pop[0].cost\" and the final \n",
    "#         mutation strength is in \"parent_pop[0].sigma\""
   ]
  },
  {
   "cell_type": "markdown",
   "metadata": {},
   "source": [
    "## Other inplementations"
   ]
  },
  {
   "cell_type": "markdown",
   "metadata": {},
   "source": [
    "### PyAI"
   ]
  },
  {
   "cell_type": "markdown",
   "metadata": {},
   "source": [
    "#### Import required modules"
   ]
  },
  {
   "cell_type": "code",
   "execution_count": null,
   "metadata": {
    "tags": [
     "hide"
    ]
   },
   "outputs": [],
   "source": [
    "# Init matplotlib\n",
    "\n",
    "%matplotlib inline\n",
    "\n",
    "import matplotlib\n",
    "matplotlib.rcParams['figure.figsize'] = (8, 8)"
   ]
  },
  {
   "cell_type": "code",
   "execution_count": null,
   "metadata": {
    "tags": [
     "hide"
    ]
   },
   "outputs": [],
   "source": [
    "# Setup PyAI\n",
    "import sys\n",
    "sys.path.insert(0, '/Users/jdecock/git/pub/jdhp/pyai')"
   ]
  },
  {
   "cell_type": "code",
   "execution_count": null,
   "metadata": {},
   "outputs": [],
   "source": [
    "import numpy as np\n",
    "import time\n",
    "\n",
    "from pyai.optimize import SAES"
   ]
  },
  {
   "cell_type": "code",
   "execution_count": null,
   "metadata": {},
   "outputs": [],
   "source": [
    "# Plot functions\n",
    "from pyai.optimize.utils import plot_contour_2d_solution_space\n",
    "from pyai.optimize.utils import plot_2d_solution_space\n",
    "\n",
    "from pyai.optimize.utils import plot_fx_wt_iteration_number\n",
    "from pyai.optimize.utils import plot_err_wt_iteration_number\n",
    "from pyai.optimize.utils import plot_err_wt_execution_time\n",
    "from pyai.optimize.utils import plot_err_wt_num_feval"
   ]
  },
  {
   "cell_type": "markdown",
   "metadata": {},
   "source": [
    "#### Define the objective function"
   ]
  },
  {
   "cell_type": "code",
   "execution_count": null,
   "metadata": {
    "tags": [
     "hide"
    ]
   },
   "outputs": [],
   "source": [
    "## Objective function: Rosenbrock function (Scipy's implementation)\n",
    "#func = scipy.optimize.rosen"
   ]
  },
  {
   "cell_type": "code",
   "execution_count": null,
   "metadata": {},
   "outputs": [],
   "source": [
    "# Set the objective function\n",
    "#from pyai.optimize.functions import sphere as func\n",
    "from pyai.optimize.functions import sphere2d as func"
   ]
  },
  {
   "cell_type": "code",
   "execution_count": null,
   "metadata": {},
   "outputs": [],
   "source": [
    "saes = SAES()\n",
    "res = saes.minimize(func)"
   ]
  },
  {
   "cell_type": "markdown",
   "metadata": {},
   "source": [
    "### Octave/Matlab"
   ]
  },
  {
   "cell_type": "markdown",
   "metadata": {},
   "source": [
    "An external Octave (Matlab) implementation is available there: https://homepages.fhv.at/hgb/downloads/mu_mu_I_lambda-ES.oct."
   ]
  }
 ],
 "metadata": {
  "anaconda-cloud": {},
  "celltoolbar": "Tags",
  "kernelspec": {
   "display_name": "Python [default]",
   "language": "python",
   "name": "python3"
  },
  "language_info": {
   "codemirror_mode": {
    "name": "ipython",
    "version": 3
   },
   "file_extension": ".py",
   "mimetype": "text/x-python",
   "name": "python",
   "nbconvert_exporter": "python",
   "pygments_lexer": "ipython3",
   "version": "3.5.3"
  }
 },
 "nbformat": 4,
 "nbformat_minor": 1
}
