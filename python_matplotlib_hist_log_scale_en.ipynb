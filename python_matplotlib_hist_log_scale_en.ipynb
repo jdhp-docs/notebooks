{
 "cells": [
  {
   "cell_type": "markdown",
   "metadata": {},
   "source": [
    "# Matplotlib logarithmic scale on histograms"
   ]
  },
  {
   "cell_type": "markdown",
   "metadata": {},
   "source": [
    "## Import directive"
   ]
  },
  {
   "cell_type": "code",
   "execution_count": null,
   "metadata": {
    "collapsed": true
   },
   "outputs": [],
   "source": [
    "%matplotlib inline\n",
    "import numpy as np\n",
    "import matplotlib.pyplot as plt"
   ]
  },
  {
   "cell_type": "markdown",
   "metadata": {},
   "source": [
    "## Plot function"
   ]
  },
  {
   "cell_type": "code",
   "execution_count": null,
   "metadata": {
    "collapsed": true
   },
   "outputs": [],
   "source": [
    "def plot(data,\n",
    "         bins=None,\n",
    "         num_bins=30,\n",
    "         logx=False,\n",
    "         logy=False,\n",
    "         linear_xlabel_style=None,   # 'sci'\n",
    "         linear_ylabel_style=None):  # 'sci'\n",
    "    \n",
    "    fig, axis = plt.subplots()\n",
    "\n",
    "    if logx:\n",
    "        # Setup the logarithmic scale on the X axis\n",
    "        vmin = np.log10(min(data))\n",
    "        vmax = np.log10(max(data))\n",
    "        \n",
    "        # Make a range from 10**vmin to 10**vmax\n",
    "        bins = np.logspace(vmin, vmax, num_bins if num_bins is not None else 50)\n",
    "    elif num_bins is not None:\n",
    "        bins = np.linspace(min(data), max(data), num_bins)\n",
    "    else:\n",
    "        # bins=[0, 1, 2, 3] make the following bins: [0,1[, [1,2[ and [2,3]\n",
    "        # For more information, see:\n",
    "        # - https://docs.scipy.org/doc/numpy/reference/generated/numpy.histogram.html\n",
    "        # - http://stackoverflow.com/questions/15177203/how-is-the-pyplot-histogram-bins-interpreted\n",
    "        bins = list(range(math.floor(min(data)), math.floor(max(data)) + 2))\n",
    "    \n",
    "    axis.hist(data,\n",
    "              bins,\n",
    "              log=logy)\n",
    "    \n",
    "    #axis.plot([0, 70000], [0, 70000], 'r--')\n",
    "    \n",
    "    if logy:\n",
    "        # Don't put 0 otherwise bins at 1 will be invisible\n",
    "        axis.set_ylim(ymin=0.1)\n",
    "    else:\n",
    "        axis.set_ylim(ymin=0)\n",
    "    \n",
    "    # Log scale and tick label format\n",
    "    if logx:\n",
    "        axis.set_xscale(\"log\")               # Activate log scale on X axis\n",
    "    elif linear_xlabel_style == 'sci':\n",
    "        axis.ticklabel_format(style='sci', axis='x', scilimits=(0,0))\n",
    "\n",
    "    if (not logy) and (linear_ylabel_style == 'sci'):\n",
    "        axis.ticklabel_format(style='sci', axis='y', scilimits=(0,0))\n",
    "        \n",
    "    plt.show()"
   ]
  },
  {
   "cell_type": "markdown",
   "metadata": {},
   "source": [
    "### Power distribution"
   ]
  },
  {
   "cell_type": "code",
   "execution_count": null,
   "metadata": {
    "collapsed": true
   },
   "outputs": [],
   "source": [
    "data = np.random.power(a=2.0, size=1000000) * 70000"
   ]
  },
  {
   "cell_type": "code",
   "execution_count": null,
   "metadata": {
    "collapsed": false
   },
   "outputs": [],
   "source": [
    "plot(data)"
   ]
  },
  {
   "cell_type": "code",
   "execution_count": null,
   "metadata": {
    "collapsed": false
   },
   "outputs": [],
   "source": [
    "plot(data,\n",
    "     logx=True)"
   ]
  },
  {
   "cell_type": "code",
   "execution_count": null,
   "metadata": {
    "collapsed": false
   },
   "outputs": [],
   "source": [
    "plot(data,\n",
    "     logy=True)"
   ]
  },
  {
   "cell_type": "code",
   "execution_count": null,
   "metadata": {
    "collapsed": false
   },
   "outputs": [],
   "source": [
    "plot(data,\n",
    "     logx=True,\n",
    "     logy=True)"
   ]
  }
 ],
 "metadata": {
  "anaconda-cloud": {},
  "kernelspec": {
   "display_name": "Python [default]",
   "language": "python",
   "name": "python3"
  },
  "language_info": {
   "codemirror_mode": {
    "name": "ipython",
    "version": 3
   },
   "file_extension": ".py",
   "mimetype": "text/x-python",
   "name": "python",
   "nbconvert_exporter": "python",
   "pygments_lexer": "ipython3",
   "version": "3.5.2"
  }
 },
 "nbformat": 4,
 "nbformat_minor": 1
}
