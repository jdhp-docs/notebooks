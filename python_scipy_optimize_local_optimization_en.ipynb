{
 "cells": [
  {
   "cell_type": "markdown",
   "metadata": {
    "tags": [
     "meta",
     "toc_en",
     "draft_en"
    ]
   },
   "source": [
    "# Unconstrained local optimization with Scipy"
   ]
  },
  {
   "cell_type": "markdown",
   "metadata": {},
   "source": [
    "https://docs.scipy.org/doc/scipy/reference/optimize.html#local-optimization\n",
    "\n",
    "* minimize(method=’Nelder-Mead’)\n",
    "* minimize(method=’Powell’)\n",
    "* minimize(method=’CG’)\n",
    "* minimize(method=’BFGS’)\n",
    "* minimize(method=’Newton-CG’)\n",
    "* minimize(method=’L-BFGS-B’)\n",
    "* minimize(method=’TNC’)\n",
    "* minimize(method=’COBYLA’)\n",
    "* minimize(method=’SLSQP’)\n",
    "* minimize(method=’dogleg’)\n",
    "* minimize(method=’trust-ncg’)\n",
    "\n",
    "General-purpose multivariate methods:\n",
    "* fmin(func, x0[, args, xtol, ftol, maxiter, ...]) \tMinimize a function using the downhill simplex algorithm.\n",
    "* fmin_powell(func, x0[, args, xtol, ftol, ...]) \tMinimize a function using modified Powell’s method.\n",
    "* fmin_cg(f, x0[, fprime, args, gtol, norm, ...]) \tMinimize a function using a nonlinear conjugate gradient algorithm.\n",
    "* fmin_bfgs(f, x0[, fprime, args, gtol, norm, ...]) \tMinimize a function using the BFGS algorithm.\n",
    "* fmin_ncg(f, x0, fprime[, fhess_p, fhess, ...]) \tUnconstrained minimization of a function using the Newton-CG method.\n",
    "\n",
    "**Constrained** multivariate methods: => **A mettre dans un autre notebook \"..._constrained_local_optimization_...\" !**\n",
    "* fmin_l_bfgs_b(func, x0[, fprime, args, ...]) \tMinimize a function func using the L-BFGS-B algorithm.\n",
    "* fmin_tnc(func, x0[, fprime, args, ...]) \tMinimize a function with variables subject to bounds, using gradient information in a truncated Newton algorithm.\n",
    "* fmin_cobyla(func, x0, cons[, args, ...]) \tMinimize a function using the Constrained Optimization BY Linear Approximation (COBYLA) method.\n",
    "* fmin_slsqp(func, x0[, eqcons, f_eqcons, ...]) \tMinimize a function using Sequential Least SQuares Programming\n",
    "* differential_evolution(func, bounds[, args, ...]) \tFinds the global minimum of a multivariate function.\n",
    "\n",
    "Univariate (scalar) minimization methods:\n",
    "* fminbound(func, x1, x2[, args, xtol, ...]) \tBounded minimization for scalar functions.\n",
    "* brent(func[, args, brack, tol, full_output, ...]) \tGiven a function of one-variable and a possible bracketing interval, return the minimum of the function isolated to a fractional precision of tol.\n",
    "* golden(func[, args, brack, tol, ...]) \tReturn the minimum of a function of one variable."
   ]
  }
 ],
 "metadata": {
  "anaconda-cloud": {},
  "celltoolbar": "Tags",
  "kernelspec": {
   "display_name": "Python [default]",
   "language": "python",
   "name": "python3"
  },
  "language_info": {
   "codemirror_mode": {
    "name": "ipython",
    "version": 3
   },
   "file_extension": ".py",
   "mimetype": "text/x-python",
   "name": "python",
   "nbconvert_exporter": "python",
   "pygments_lexer": "ipython3",
   "version": "3.5.3"
  }
 },
 "nbformat": 4,
 "nbformat_minor": 1
}
