{
 "cells": [
  {
   "cell_type": "markdown",
   "metadata": {
    "tags": [
     "meta",
     "toc_en"
    ]
   },
   "source": [
    "# Optimization problems, objective functions and optimization benchmarks"
   ]
  },
  {
   "cell_type": "code",
   "execution_count": null,
   "metadata": {
    "collapsed": true,
    "tags": [
     "hide"
    ]
   },
   "outputs": [],
   "source": [
    "%matplotlib inline\n",
    "\n",
    "import numpy as np\n",
    "\n",
    "import matplotlib\n",
    "matplotlib.rcParams['figure.figsize'] = (8, 8)\n",
    "\n",
    "import math\n",
    "\n",
    "import matplotlib.pyplot as plt\n",
    "import matplotlib.colors as colors\n",
    "from mpl_toolkits.mplot3d import axes3d\n",
    "from matplotlib import cm\n",
    "\n",
    "import scipy.optimize"
   ]
  },
  {
   "cell_type": "code",
   "execution_count": null,
   "metadata": {
    "collapsed": true,
    "tags": [
     "hide"
    ]
   },
   "outputs": [],
   "source": [
    "def plot_2d_contour_solution_space(func, xmin=-np.ones(2), xmax=np.ones(2), xstar=np.ones(2), title=\"\"):\n",
    "    fig, ax = plt.subplots(figsize=(12, 8))\n",
    "\n",
    "    x1_space = np.linspace(xmin[0], xmax[0], 200)\n",
    "    x2_space = np.linspace(xmin[1], xmax[1], 200)\n",
    "    \n",
    "    x1_mesh, x2_mesh = np.meshgrid(x1_space, x2_space)\n",
    "\n",
    "    zz = func(np.array([x1_mesh.ravel(), x2_mesh.ravel()])).reshape(x1_mesh.shape)\n",
    "    \n",
    "    ############################\n",
    "    \n",
    "    min_value = func(xstar)\n",
    "    max_value = zz.max()\n",
    "    \n",
    "    levels = np.logspace(0.1, 3., 5)          # TODO\n",
    "\n",
    "    im = ax.pcolormesh(x1_mesh, x2_mesh, zz,\n",
    "                       vmin=0.1,              # TODO\n",
    "                       vmax=max_value,\n",
    "                       norm=colors.LogNorm(), # TODO\n",
    "                       shading='gouraud',\n",
    "                       cmap='gnuplot2') # 'jet' # 'gnuplot2'\n",
    "\n",
    "    plt.colorbar(im, ax=ax)\n",
    "\n",
    "    cs = plt.contour(x1_mesh, x2_mesh, zz, levels,\n",
    "                     linewidths=(2, 2, 2, 2, 3),\n",
    "                     linestyles=('dotted', '-.', 'dashed', 'solid', 'solid'),\n",
    "                     alpha=0.5,\n",
    "                     colors='white')\n",
    "    ax.clabel(cs, inline=False, fontsize=12)\n",
    "\n",
    "    ############################\n",
    "\n",
    "    ax.scatter(xstar[0],\n",
    "               xstar[1],\n",
    "               c='red',\n",
    "               label=\"$x^*$\")\n",
    "\n",
    "    ax.set_title(title)\n",
    "\n",
    "    ax.set_xlabel(r\"$x_1$\")\n",
    "    ax.set_ylabel(r\"$x_2$\")\n",
    "\n",
    "    ax.legend(fontsize=12)\n",
    "\n",
    "    plt.show()"
   ]
  },
  {
   "cell_type": "code",
   "execution_count": null,
   "metadata": {
    "collapsed": true,
    "tags": [
     "hide"
    ]
   },
   "outputs": [],
   "source": [
    "def plot_2d_solution_space(func, xmin=-np.ones(2), xmax=np.ones(2), xstar=np.ones(2), angle_view=None, title=\"\"):\n",
    "    fig = plt.figure(figsize=(12, 8))\n",
    "    ax = axes3d.Axes3D(fig)\n",
    "    \n",
    "    if angle_view is not None:\n",
    "        ax.view_init(angle_view[0], angle_view[1])\n",
    "\n",
    "    x1_space = np.linspace(xmin[0], xmax[0], 100)\n",
    "    x2_space = np.linspace(xmin[1], xmax[1], 100)\n",
    "    \n",
    "    x1_mesh, x2_mesh = np.meshgrid(x1_space, x2_space)\n",
    "\n",
    "    zz = func(np.array([x1_mesh.ravel(), x2_mesh.ravel()])).reshape(x1_mesh.shape)   # TODO\n",
    "\n",
    "    ############################\n",
    "        \n",
    "    surf = ax.plot_surface(x1_mesh,\n",
    "                           x2_mesh,\n",
    "                           zz,\n",
    "                           cmap='gnuplot2', # 'jet' # 'gnuplot2'\n",
    "                           norm=colors.LogNorm(),   # TODO\n",
    "                           rstride=1,\n",
    "                           cstride=1,\n",
    "                           #color='b',\n",
    "                           shade=False)\n",
    "\n",
    "    ax.set_zlabel(r\"$f(x_1, x_2)$\")\n",
    "\n",
    "    fig.colorbar(surf, shrink=0.5, aspect=5)\n",
    "\n",
    "    ############################\n",
    "\n",
    "    ax.scatter(xstar[0],\n",
    "               xstar[1],\n",
    "               func(xstar),\n",
    "               s=50,          # TODO\n",
    "               c='red',\n",
    "               alpha=1,\n",
    "               label=\"$x^*$\")\n",
    "    \n",
    "    ax.set_title(title)\n",
    "    \n",
    "    ax.set_xlabel(r\"$x_1$\")\n",
    "    ax.set_ylabel(r\"$x_2$\")\n",
    "\n",
    "    ax.legend(fontsize=12)\n",
    "    \n",
    "    plt.show()"
   ]
  },
  {
   "cell_type": "markdown",
   "metadata": {},
   "source": [
    "## Type of optimization problems"
   ]
  },
  {
   "cell_type": "markdown",
   "metadata": {},
   "source": [
    "* **continuous** vs **discrete** problems (possibly **combinatorial** if the set of solutions is discrete and very big)\n",
    "* **unconstrained** vs **constrained** problems\n",
    "* **deterministic** vs **stochastic** problems\n",
    "* **convex** vs **non-convex** problems\n",
    "* **unimodal** vs **multimodal** problems\n",
    "* **single-objective** vs **multi-objective** problems\n",
    "* **differentiable** vs **nondifferentiable** problems\n",
    "* **linear** vs **nonlinear** problems\n",
    "* **quadratic** vs **nonquadratic** problems\n",
    "* **derivative-free** problems\n",
    "* **multistage** problems"
   ]
  },
  {
   "cell_type": "markdown",
   "metadata": {
    "tags": [
     "hide"
    ]
   },
   "source": [
    "Linear Programming (LP)\n",
    "Mixed Integer Nonlinear Programming (MINLP)\n",
    "Quadratically Constrained Quadratic Programming (QCQP)\n",
    "Quadratic Programming (QP)"
   ]
  },
  {
   "cell_type": "markdown",
   "metadata": {
    "tags": [
     "hide"
    ]
   },
   "source": [
    "https://neos-guide.org/content/optimization-tree-alphabetical\n",
    "\n",
    "https://en.wikipedia.org/wiki/Derivative-free_optimization\n",
    "\n",
    "https://en.wikipedia.org/wiki/List_of_types_of_functions"
   ]
  },
  {
   "cell_type": "markdown",
   "metadata": {},
   "source": [
    "## Benchmarks"
   ]
  },
  {
   "cell_type": "markdown",
   "metadata": {},
   "source": [
    "Here are some famous benchmarks:\n",
    "\n",
    "* [COCO (COmparing Continuous Optimisers)](http://coco.gforge.inria.fr/)\n",
    "* [B-BOB](http://deap.readthedocs.io/en/master/tutorials/advanced/benchmarking.html) (see also its [github repository](https://github.com/DEAP/deap))"
   ]
  },
  {
   "cell_type": "markdown",
   "metadata": {},
   "source": [
    "## Test functions for optimization"
   ]
  },
  {
   "cell_type": "markdown",
   "metadata": {},
   "source": [
    "The following pages contain a lot of test functions for optimization:\n",
    "* https://en.wikipedia.org/wiki/Test_functions_for_optimization\n",
    "* http://www-optima.amp.i.kyoto-u.ac.jp/member/student/hedar/Hedar_files/TestGO.htm\n",
    "* https://www.cs.cmu.edu/afs/cs/project/jair/pub/volume24/ortizboyer05a-html/node6.html"
   ]
  },
  {
   "cell_type": "markdown",
   "metadata": {
    "tags": [
     "hide"
    ]
   },
   "source": [
    "### Test functions for convex deterministic unconstrained continuous single-objective optimization"
   ]
  },
  {
   "cell_type": "markdown",
   "metadata": {
    "tags": [
     "hide"
    ]
   },
   "source": [
    "#### The sphere function"
   ]
  },
  {
   "cell_type": "markdown",
   "metadata": {
    "tags": [
     "hide"
    ]
   },
   "source": [
    "..."
   ]
  },
  {
   "cell_type": "markdown",
   "metadata": {},
   "source": [
    "### Test functions for non-convex deterministic unconstrained continuous single-objective optimization"
   ]
  },
  {
   "cell_type": "markdown",
   "metadata": {},
   "source": [
    "#### The (extended) Rosenbrock function"
   ]
  },
  {
   "cell_type": "markdown",
   "metadata": {},
   "source": [
    "The Rosenbrock function is a famous **non-convex** function used to test the performance of optimization algorithms. The classical two-dimensional version of this function is **unimodal** but its *extended* $n$-dimensional version (with $n \\geq 4$) is **multimodal** [[ref.](http://www.mitpressjournals.org/doi/abs/10.1162/evco.2006.14.1.119)].\n",
    "\n",
    "$$\n",
    "f(\\boldsymbol{x}) = \\sum_{i=1}^{n-1} \\left[100 \\left( x_{i+1} - x_{i}^{2} \\right)^{2} + \\left( x_{i} - 1 \\right)^2 \\right]\n",
    "$$\n",
    "\n",
    "Global minimum:\n",
    "$$\n",
    "\\min =\n",
    "\\begin{cases}\n",
    "    n = 2 & \\rightarrow \\quad f(1,1) = 0, \\\\\n",
    "    n = 3 & \\rightarrow \\quad f(1,1,1) = 0, \\\\\n",
    "    n > 3 & \\rightarrow \\quad f(\\underbrace{1,\\dots,1}_{n{\\text{ times}}}) = 0 \\\\\n",
    "\\end{cases}\n",
    "$$\n",
    "\n",
    "Search domain:\n",
    "$$\n",
    "x \\in \\mathbb{R}^n\n",
    "$$"
   ]
  },
  {
   "cell_type": "markdown",
   "metadata": {
    "tags": [
     "hide"
    ]
   },
   "source": [
    "The Rosenbrock has exactly one (global) minimum $(\\underbrace{1, \\dots, 1}_{n{\\text{ times}}})^\\top$ for $n \\leq 3$ and an additional *local* minimum for $n \\geq 4$ near $(-1, 1, 1, \\dots, 1)^\\top$.\n",
    "\n",
    "See http://www.mitpressjournals.org/doi/abs/10.1162/evco.2006.14.1.119 (freely available at http://dl.acm.org/citation.cfm?id=1118014) and https://en.wikipedia.org/wiki/Rosenbrock_function#Multidimensional_generalisations for more information."
   ]
  },
  {
   "cell_type": "markdown",
   "metadata": {
    "tags": [
     "hide"
    ]
   },
   "source": [
    "**TODO** read and check the above article and get the exact value of the local minimum if it exists."
   ]
  },
  {
   "cell_type": "markdown",
   "metadata": {},
   "source": [
    "See https://en.wikipedia.org/wiki/Rosenbrock_function and http://mathworld.wolfram.com/RosenbrockFunction.html for more information.\n",
    "\n",
    "The Rosenbrock function, its derivative (i.e. gradient) and its hessian matrix are also implemented in Scipy\n",
    "([scipy.optimize.rosen](https://docs.scipy.org/doc/scipy/reference/generated/scipy.optimize.rosen.html#scipy.optimize.rosen),\n",
    "[scipy.optimize.rosen_der](https://docs.scipy.org/doc/scipy/reference/generated/scipy.optimize.rosen_der.html#scipy.optimize.rosen_der),\n",
    "[scipy.optimize.rosen_hess](https://docs.scipy.org/doc/scipy/reference/generated/scipy.optimize.rosen_hess.html#scipy.optimize.rosen_hess) and \n",
    "[scipy.optimize.rosen_hess_prod](https://docs.scipy.org/doc/scipy/reference/generated/scipy.optimize.rosen_hess_prod.html#scipy.optimize.rosen_hess_prod)).\n",
    "See [Scipy documentation](https://docs.scipy.org/doc/scipy/reference/optimize.html#rosenbrock-function) for more information."
   ]
  },
  {
   "cell_type": "code",
   "execution_count": null,
   "metadata": {
    "collapsed": true
   },
   "outputs": [],
   "source": [
    "def rosen(x):\n",
    "    r\"\"\"The Rosenbrock function.\n",
    "    \n",
    "    Example: single 2D point\n",
    "    ------------------------\n",
    "    \n",
    "    To evaluate $x = \\begin{pmatrix} 0 \\\\ 0 \\end{pmatrix}$:\n",
    "    \n",
    "    >>> rosen( np.array([0, 0]) )\n",
    "    1.0\n",
    "    \n",
    "    The result should be $f(x) = 1$.\n",
    "    \n",
    "    Example: single 3D point\n",
    "    ------------------------\n",
    "    \n",
    "    To evaluate $x = \\begin{pmatrix} 1 \\\\ 1 \\\\ 1 \\end{pmatrix}$:\n",
    "    \n",
    "    >>> rosen( np.array([1, 1, 1]) )\n",
    "    0.0\n",
    "    \n",
    "    The result should be $f(x) = 0$.\n",
    "    \n",
    "    Example: multiple 2D points\n",
    "    ---------------------------\n",
    "    \n",
    "    To evaluate $x_1 = \\begin{pmatrix} 0 \\\\ 0 \\end{pmatrix}$,\n",
    "    $x_2 = \\begin{pmatrix} 1 \\\\ 1 \\end{pmatrix}$ and\n",
    "    $x_3 = \\begin{pmatrix} 2 \\\\ 2 \\end{pmatrix}$ at once:\n",
    "    \n",
    "    >>> rosen( np.array([[0, 1, 2], [0, 1, 2]]) )\n",
    "    array([   1.,    0.,  401.])\n",
    "    \n",
    "    The result should be $f(x_1) = 1$, $f(x_2) = 0$ and $f(x_3) = 401$.\n",
    "    \n",
    "    Parameters\n",
    "    ----------\n",
    "    x : array_like\n",
    "        One dimension Numpy array of the point at which the Rosenbrock function is to be computed\n",
    "        or a two dimension Numpy array of points at which the Rosenbrock function is to be computed.\n",
    "\n",
    "    Returns\n",
    "    -------\n",
    "    float or array_like\n",
    "        The value(s) of the Rosenbrock function for the given point(s) `x`.\n",
    "    \"\"\"\n",
    "    return sum(100.0*(x[1:] - x[:-1]**2.0)**2.0 + (1 - x[:-1])**2.0)"
   ]
  },
  {
   "cell_type": "code",
   "execution_count": null,
   "metadata": {
    "tags": [
     "hide"
    ]
   },
   "outputs": [],
   "source": [
    "scipy.optimize.rosen(np.array([1, 1, 1, 1]))"
   ]
  },
  {
   "cell_type": "code",
   "execution_count": null,
   "metadata": {
    "tags": [
     "hide"
    ]
   },
   "outputs": [],
   "source": [
    "scipy.optimize.rosen_der(np.array([1, 1, 1, 1]))"
   ]
  },
  {
   "cell_type": "code",
   "execution_count": null,
   "metadata": {
    "scrolled": false,
    "tags": [
     "hide_code"
    ]
   },
   "outputs": [],
   "source": [
    "plot_2d_solution_space(scipy.optimize.rosen,\n",
    "                       xmin=-2*np.ones(2),\n",
    "                       xmax=2*np.ones(2),\n",
    "                       xstar=np.ones(2),\n",
    "                       angle_view=(30, 45),\n",
    "                       title=\"Rosenbrock function\")"
   ]
  },
  {
   "cell_type": "code",
   "execution_count": null,
   "metadata": {
    "scrolled": false,
    "tags": [
     "hide_code"
    ]
   },
   "outputs": [],
   "source": [
    "plot_2d_contour_solution_space(scipy.optimize.rosen,\n",
    "                                 xmin=-2*np.ones(2),\n",
    "                                 xmax=2*np.ones(2),\n",
    "                                 xstar=np.ones(2),\n",
    "                                 title=\"Rosenbrock function\")"
   ]
  },
  {
   "cell_type": "markdown",
   "metadata": {},
   "source": [
    "#### The Himmelblau's function"
   ]
  },
  {
   "cell_type": "markdown",
   "metadata": {},
   "source": [
    "The Himmelblau's function is a two-dimensional **multimodal** function.\n",
    "\n",
    "$$\n",
    "f(x_1, x_2) = (x_1^2 + x_2 - 11)^2 + (x_1 + x_2^2 - 7)^2\n",
    "$$\n",
    "\n",
    "The function has four global minima:\n",
    "$$\n",
    "\\begin{eqnarray}\n",
    "    f(3, 2) = 0 \\\\\n",
    "    f(-2.805118, 3.131312) = 0 \\\\\n",
    "    f(-3.779310, -3.283186) = 0 \\\\\n",
    "    f(3.584428, -1.848126) = 0\n",
    "\\end{eqnarray}\n",
    "$$\n",
    "\n",
    "Search domain:\n",
    "$$\n",
    "x \\in \\mathbb{R}^n\n",
    "$$\n",
    "\n",
    "It also has one local maximum at $f(-0.270845, -0.923039) = 181.617$.\n",
    "\n",
    "The locations of all the minima can be found analytically (roots of cubic polynomials) but expressions are somewhat complicated.\n",
    "\n",
    "The function is named after David Mautner Himmelblau, who introduced it in *Applied Nonlinear Programming* (1972), McGraw-Hill, ISBN 0-07-028921-2."
   ]
  },
  {
   "cell_type": "markdown",
   "metadata": {},
   "source": [
    "See https://en.wikipedia.org/wiki/Himmelblau%27s_function for more information."
   ]
  },
  {
   "cell_type": "code",
   "execution_count": null,
   "metadata": {
    "collapsed": true
   },
   "outputs": [],
   "source": [
    "def himmelblau(x):\n",
    "    r\"\"\"The Himmelblau's function.\n",
    "    \n",
    "    Example: single point\n",
    "    ---------------------\n",
    "    \n",
    "    To evaluate $x = \\begin{pmatrix} 3 \\\\ 2 \\end{pmatrix}$:\n",
    "    \n",
    "    >>> himmelblau( np.array([3, 2]) )\n",
    "    0.0\n",
    "    \n",
    "    The result should be $f(x) = 1$.\n",
    "    \n",
    "    Example: multiple points\n",
    "    ------------------------\n",
    "    \n",
    "    To evaluate $x_1 = \\begin{pmatrix} 0 \\\\ 0 \\end{pmatrix}$,\n",
    "    $x_2 = \\begin{pmatrix} 1 \\\\ 1 \\end{pmatrix}$ and\n",
    "    $x_3 = \\begin{pmatrix} 2 \\\\ 2 \\end{pmatrix}$ at once:\n",
    "    \n",
    "    >>> himmelblau( np.array([[0, 1, 2], [0, 1, 2]]) )\n",
    "    array([ 170.,  106.,   26.])\n",
    "    \n",
    "    The result should be $f(x_1) = 170$, $f(x_2) = 106$ and $f(x_3) = 26$.\n",
    "    \n",
    "    Parameters\n",
    "    ----------\n",
    "    x : array_like\n",
    "        One dimension Numpy array of the point at which the Himmelblau's function is to be computed\n",
    "        or a two dimension Numpy array of points at which the Himmelblau's function is to be computed.\n",
    "\n",
    "    Returns\n",
    "    -------\n",
    "    float or array_like\n",
    "        The value(s) of the Himmelblau's function for the given point(s) `x`.\n",
    "    \"\"\"\n",
    "    assert x.shape[0] == 2, x.shape\n",
    "    if x.ndim == 1:\n",
    "        return (x[0]**2 + x[1] - 11.)**2 + (x[0] + x[1]**2 - 7.)**2\n",
    "    else:\n",
    "        return (x[0,:]**2 + x[1,:] - 11.)**2 + (x[0,:] + x[1,:]**2 - 7.)**2"
   ]
  },
  {
   "cell_type": "code",
   "execution_count": null,
   "metadata": {
    "tags": [
     "hide"
    ]
   },
   "outputs": [],
   "source": [
    "himmelblau( np.array([[0, 1, 2], [0, 1, 2]]) )"
   ]
  },
  {
   "cell_type": "code",
   "execution_count": null,
   "metadata": {
    "tags": [
     "hide"
    ]
   },
   "outputs": [],
   "source": [
    "himmelblau(np.array([[3., 2.], [-2.805118, 3.131312]]).T)"
   ]
  },
  {
   "cell_type": "code",
   "execution_count": null,
   "metadata": {
    "scrolled": false,
    "tags": [
     "hide_code"
    ]
   },
   "outputs": [],
   "source": [
    "plot_2d_solution_space(himmelblau,\n",
    "                       xmin=-5*np.ones(2),\n",
    "                       xmax=5*np.ones(2),\n",
    "                       xstar=np.array([[3., 2.], [-2.805118, 3.131312], [-3.779310, -3.283186], [3.584428, -1.848126]]).T,\n",
    "                       angle_view=(55, -25),\n",
    "                       title=\"The Himmelblau's function\")"
   ]
  },
  {
   "cell_type": "code",
   "execution_count": null,
   "metadata": {
    "scrolled": false,
    "tags": [
     "hide_code"
    ]
   },
   "outputs": [],
   "source": [
    "plot_2d_contour_solution_space(himmelblau,\n",
    "                               xmin=-5*np.ones(2),\n",
    "                               xmax=5*np.ones(2),\n",
    "                               xstar=np.array([[3., 2.], [-2.805118, 3.131312], [-3.779310, -3.283186], [3.584428, -1.848126]]).T,\n",
    "                               title=\"The Himmelblau's function\")"
   ]
  },
  {
   "cell_type": "markdown",
   "metadata": {
    "tags": [
     "hide"
    ]
   },
   "source": [
    "#### The Rastrigin function"
   ]
  },
  {
   "cell_type": "markdown",
   "metadata": {
    "tags": [
     "hide"
    ]
   },
   "source": [
    "The Rosenbrock function is a famous **non-convex** function. The classical two-dimensional version of this function is **unimodal** but its *extended* $n$-dimensional version (with $n \\geq 4$) is **multimodal** [[ref.](http://www.mitpressjournals.org/doi/abs/10.1162/evco.2006.14.1.119)].\n",
    "\n",
    "$$\n",
    "f(\\boldsymbol{x}) = \n",
    "$$\n",
    "\n",
    "Global minimum:\n",
    "$$\n",
    "\\min =\n",
    "$$\n",
    "\n",
    "Search domain:\n",
    "$$\n",
    "x \\in \\mathbb{R}^n\n",
    "$$"
   ]
  },
  {
   "cell_type": "markdown",
   "metadata": {
    "tags": [
     "hide"
    ]
   },
   "source": [
    "See https://en.wikipedia.org/wiki/Rastrigin_function for more information."
   ]
  },
  {
   "cell_type": "code",
   "execution_count": null,
   "metadata": {
    "collapsed": true,
    "tags": [
     "hide"
    ]
   },
   "outputs": [],
   "source": [
    "def rastrigin(x):\n",
    "    r\"\"\"The Rastrigin function.\n",
    "    \n",
    "    Example: single 2D point\n",
    "    ------------------------\n",
    "    \n",
    "    To evaluate $x = \\begin{pmatrix} 0 \\\\ 0 \\end{pmatrix}$:\n",
    "    \n",
    "    >>> rosen( np.array([0, 0]) )\n",
    "    1.0\n",
    "    \n",
    "    The result should be $f(x) = 1$.\n",
    "    \n",
    "    Example: single 3D point\n",
    "    ------------------------\n",
    "    \n",
    "    To evaluate $x = \\begin{pmatrix} 1 \\\\ 1 \\\\ 1 \\end{pmatrix}$:\n",
    "    \n",
    "    >>> rosen( np.array([1, 1, 1]) )\n",
    "    0.0\n",
    "    \n",
    "    The result should be $f(x) = 0$.\n",
    "    \n",
    "    Example: multiple 2D points\n",
    "    ---------------------------\n",
    "    \n",
    "    To evaluate $x_1 = \\begin{pmatrix} 0 \\\\ 0 \\end{pmatrix}$,\n",
    "    $x_2 = \\begin{pmatrix} 1 \\\\ 1 \\end{pmatrix}$ and\n",
    "    $x_3 = \\begin{pmatrix} 2 \\\\ 2 \\end{pmatrix}$ at once:\n",
    "    \n",
    "    >>> rosen( np.array([[0, 1, 2], [0, 1, 2]]) )\n",
    "    array([   1.,    0.,  401.])\n",
    "    \n",
    "    The result should be $f(x_1) = 1$, $f(x_2) = 0$ and $f(x_3) = 401$.\n",
    "    \n",
    "    Parameters\n",
    "    ----------\n",
    "    x : array_like\n",
    "        One dimension Numpy array of the point at which the Rastrigin function is to be computed\n",
    "        or a two dimension Numpy array of points at which the Rastrigin function is to be computed.\n",
    "\n",
    "    Returns\n",
    "    -------\n",
    "    float or array_like\n",
    "        The value(s) of the Rastrigin function for the given point(s) `x`.\n",
    "    \"\"\"\n",
    "    return sum(100.0*(x[1:] - x[:-1]**2.0)**2.0 + (1 - x[:-1])**2.0)"
   ]
  },
  {
   "cell_type": "code",
   "execution_count": null,
   "metadata": {
    "collapsed": true,
    "scrolled": false,
    "tags": [
     "hide_code",
     "hide"
    ]
   },
   "outputs": [],
   "source": [
    "plot_2d_solution_space(rastrigin,\n",
    "                       xmin=-2*np.ones(2),\n",
    "                       xmax=2*np.ones(2),\n",
    "                       xstar=np.ones(2),\n",
    "                       title=\"Rastrigin function\")"
   ]
  },
  {
   "cell_type": "code",
   "execution_count": null,
   "metadata": {
    "collapsed": true,
    "scrolled": false,
    "tags": [
     "hide_code",
     "hide"
    ]
   },
   "outputs": [],
   "source": [
    "plot_2d_contour_solution_space(rastrigin,\n",
    "                               xmin=-2*np.ones(2),\n",
    "                               xmax=2*np.ones(2),\n",
    "                               xstar=np.ones(2),\n",
    "                               title=\"Rastrigin function\")"
   ]
  },
  {
   "cell_type": "markdown",
   "metadata": {
    "tags": [
     "Hide"
    ]
   },
   "source": [
    "#### Shekel function"
   ]
  },
  {
   "cell_type": "markdown",
   "metadata": {
    "tags": [
     "hide"
    ]
   },
   "source": [
    "https://en.wikipedia.org/wiki/Shekel_function"
   ]
  },
  {
   "cell_type": "markdown",
   "metadata": {
    "tags": [
     "hide"
    ]
   },
   "source": [
    "#### Easom function"
   ]
  },
  {
   "cell_type": "markdown",
   "metadata": {
    "tags": [
     "hide"
    ]
   },
   "source": [
    "#### Cross-in-tray function"
   ]
  },
  {
   "cell_type": "markdown",
   "metadata": {
    "tags": [
     "hide"
    ]
   },
   "source": [
    "#### Hölder table function"
   ]
  },
  {
   "cell_type": "markdown",
   "metadata": {
    "tags": [
     "hide"
    ]
   },
   "source": [
    "### Test functions for constrained optimization"
   ]
  },
  {
   "cell_type": "markdown",
   "metadata": {
    "tags": [
     "hide"
    ]
   },
   "source": [
    "### Test functions for multi-objective optimization"
   ]
  },
  {
   "cell_type": "markdown",
   "metadata": {},
   "source": [
    "## Combinatorial problems"
   ]
  },
  {
   "cell_type": "markdown",
   "metadata": {},
   "source": [
    "Here is a list of some famous combinatorial problems:\n",
    "* The [travelling salesman problem (\"TSP\")](https://en.wikipedia.org/wiki/Traveling_salesman_problem)\n",
    "* The [minimum spanning tree problem (\"MST\")](https://en.wikipedia.org/wiki/Minimum_spanning_tree)\n",
    "* The [knapsack problem](https://en.wikipedia.org/wiki/Knapsack_problem)\n",
    "* The [Boolean satisfiability problem (\"SAT\")](https://en.wikipedia.org/wiki/Boolean_satisfiability_problem)"
   ]
  },
  {
   "cell_type": "markdown",
   "metadata": {
    "tags": [
     "hide"
    ]
   },
   "source": [
    "https://en.wikipedia.org/wiki/Combinatorial_optimization"
   ]
  }
 ],
 "metadata": {
  "celltoolbar": "Tags",
  "kernelspec": {
   "display_name": "Python [default]",
   "language": "python",
   "name": "python3"
  },
  "language_info": {
   "codemirror_mode": {
    "name": "ipython",
    "version": 3
   },
   "file_extension": ".py",
   "mimetype": "text/x-python",
   "name": "python",
   "nbconvert_exporter": "python",
   "pygments_lexer": "ipython3",
   "version": "3.5.3"
  }
 },
 "nbformat": 4,
 "nbformat_minor": 2
}
