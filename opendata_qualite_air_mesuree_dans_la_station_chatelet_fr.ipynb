{
 "cells": [
  {
   "cell_type": "markdown",
   "metadata": {},
   "source": [
    "# Qualité de l'air mesurée dans la station Châtelet"
   ]
  },
  {
   "cell_type": "markdown",
   "metadata": {},
   "source": [
    "Source de données utilisée (fichiers CSV en open data): https://data.iledefrance.fr/explore/dataset/qualite-de-lair-mesuree-dans-la-station-chatelet/"
   ]
  },
  {
   "cell_type": "markdown",
   "metadata": {},
   "source": [
    "## Récupération des données"
   ]
  },
  {
   "cell_type": "code",
   "execution_count": null,
   "metadata": {},
   "outputs": [],
   "source": [
    "%matplotlib inline\n",
    "#%matplotlib notebook\n",
    "\n",
    "import matplotlib\n",
    "matplotlib.rcParams['figure.figsize'] = (9, 9)\n",
    "\n",
    "import pandas as pd"
   ]
  },
  {
   "cell_type": "code",
   "execution_count": null,
   "metadata": {},
   "outputs": [],
   "source": [
    "def conv_func(s):\n",
    "    s = s.replace('<', '')\n",
    "    if s == 'ND':\n",
    "        return np.nan\n",
    "    elif s.strip() == '':\n",
    "        return np.nan\n",
    "    else:\n",
    "        return float(s)"
   ]
  },
  {
   "cell_type": "code",
   "execution_count": null,
   "metadata": {},
   "outputs": [],
   "source": [
    "url = \"https://data.iledefrance.fr/explore/dataset/qualite-de-lair-mesuree-dans-la-station-chatelet/download/?format=csv&timezone=Europe/Berlin&use_labels_for_header=true\"\n",
    "\n",
    "#dtype_dict = {'NO': np.float64,\n",
    "#              'NO2': np.float64,\n",
    "#              'PM10': np.float64,\n",
    "#              'CO2': np.float64,\n",
    "#              'TEMP': np.float64,\n",
    "#              'HUMI': np.float64}\n",
    "\n",
    "converter_dict = {'NO': conv_func,\n",
    "                  'NO2': conv_func,\n",
    "                  'PM10': conv_func,\n",
    "                  'CO2': conv_func,\n",
    "                  'TEMP': conv_func,\n",
    "                  'HUMI': conv_func}\n",
    "\n",
    "df = pd.read_csv(url,\n",
    "                 #encoding='iso-8859-1',\n",
    "                 index_col=0,\n",
    "                 sep=';',\n",
    "                 decimal=',',\n",
    "                 parse_dates=[\"DATE/HEURE\"],\n",
    "                 #dtype=dtype_dict,\n",
    "                 #na_values='ND',\n",
    "                 converters=converter_dict)"
   ]
  },
  {
   "cell_type": "code",
   "execution_count": null,
   "metadata": {},
   "outputs": [],
   "source": [
    "df = df.sort_index()"
   ]
  },
  {
   "cell_type": "markdown",
   "metadata": {},
   "source": [
    "## Infos diverses sur le DataFrame"
   ]
  },
  {
   "cell_type": "code",
   "execution_count": null,
   "metadata": {},
   "outputs": [],
   "source": [
    "df.head()"
   ]
  },
  {
   "cell_type": "code",
   "execution_count": null,
   "metadata": {},
   "outputs": [],
   "source": [
    "df.columns"
   ]
  },
  {
   "cell_type": "code",
   "execution_count": null,
   "metadata": {},
   "outputs": [],
   "source": [
    "df.dtypes"
   ]
  },
  {
   "cell_type": "code",
   "execution_count": null,
   "metadata": {},
   "outputs": [],
   "source": [
    "df.index"
   ]
  },
  {
   "cell_type": "markdown",
   "metadata": {},
   "source": [
    "## Analyse de la concentration en particules fines (PM10)"
   ]
  },
  {
   "cell_type": "code",
   "execution_count": null,
   "metadata": {},
   "outputs": [],
   "source": [
    "df.PM10.plot(figsize=(18,6));"
   ]
  },
  {
   "cell_type": "code",
   "execution_count": null,
   "metadata": {},
   "outputs": [],
   "source": [
    "df.PM10.resample('7D').mean().plot(figsize=(18,6));"
   ]
  },
  {
   "cell_type": "code",
   "execution_count": null,
   "metadata": {},
   "outputs": [],
   "source": [
    "df.PM10.rolling('7D').mean().plot(figsize=(18,6));"
   ]
  },
  {
   "cell_type": "code",
   "execution_count": null,
   "metadata": {},
   "outputs": [],
   "source": [
    "df.PM10.resample('1M').mean().plot(figsize=(18,6));"
   ]
  },
  {
   "cell_type": "code",
   "execution_count": null,
   "metadata": {},
   "outputs": [],
   "source": [
    "ts = df.PM10\n",
    "\n",
    "# https://jakevdp.github.io/PythonDataScienceHandbook/03.11-working-with-time-series.html#Digging-into-the-data\n",
    "\n",
    "ts_mean = ts.groupby(ts.index.time).mean()\n",
    "ts_median = ts.groupby(ts.index.time).median()\n",
    "ts_quartile_1 = ts.groupby(ts.index.time).quantile(0.25)\n",
    "ts_quartile_3 = ts.groupby(ts.index.time).quantile(0.75)\n",
    "ts_percentile_5 = ts.groupby(ts.index.time).quantile(0.05)\n",
    "ts_percentile_95 = ts.groupby(ts.index.time).quantile(0.95)\n",
    "ts_min = ts.groupby(ts.index.time).min()\n",
    "ts_max = ts.groupby(ts.index.time).max()\n",
    "\n",
    "color = \"blue\"\n",
    "ax = ts_mean.plot(y='duration', figsize=(18, 12), color=color, label=\"mean\", alpha=0.75)\n",
    "ts_median.plot(ax=ax, color=color, label=\"median\", style=\"--\", alpha=0.75)\n",
    "ts_quartile_1.plot(ax=ax, color=color, alpha=0.5, style=\"-.\", label=\"1st quartile\")\n",
    "ts_quartile_3.plot(ax=ax, color=color, alpha=0.5, style=\"-.\", label=\"3rd quartile\")\n",
    "ts_percentile_5.plot(ax=ax, color=color, alpha=0.25, style=\":\", label=\"5th percentile\")\n",
    "ts_percentile_95.plot(ax=ax, color=color, alpha=0.25, style=\":\", label=\"95th percentile\")\n",
    "ts_min.plot(ax=ax, color=color, alpha=0.2, style=\":\", label=\"min\")\n",
    "ts_max.plot(ax=ax, color=color, alpha=0.2, style=\":\", label=\"max\")\n",
    "\n",
    "plt.fill_between(ts_percentile_5.index, ts_percentile_5.values, ts_percentile_95.values, facecolor=color, alpha=0.1)\n",
    "plt.fill_between(ts_quartile_1.index, ts_quartile_1.values, ts_quartile_3.values, facecolor=color, alpha=0.1)\n",
    "\n",
    "ts = df.TEMP\n",
    "ax2 = ax.twinx()\n",
    "\n",
    "# https://jakevdp.github.io/PythonDataScienceHandbook/03.11-working-with-time-series.html#Digging-into-the-data\n",
    "\n",
    "ts_mean = ts.groupby(ts.index.time).mean()\n",
    "ts_median = ts.groupby(ts.index.time).median()\n",
    "ts_quartile_1 = ts.groupby(ts.index.time).quantile(0.25)\n",
    "ts_quartile_3 = ts.groupby(ts.index.time).quantile(0.75)\n",
    "ts_percentile_5 = ts.groupby(ts.index.time).quantile(0.05)\n",
    "ts_percentile_95 = ts.groupby(ts.index.time).quantile(0.95)\n",
    "ts_min = ts.groupby(ts.index.time).min()\n",
    "ts_max = ts.groupby(ts.index.time).max()\n",
    "\n",
    "color = \"red\"\n",
    "ax2 = ts_mean.plot(y='duration', figsize=(18, 12), color=color, label=\"mean\", alpha=0.75)\n",
    "ts_median.plot(ax=ax2, color=color, label=\"median\", style=\"--\", alpha=0.75)\n",
    "ts_quartile_1.plot(ax=ax2, color=color, alpha=0.5, style=\"-.\", label=\"1st quartile\")\n",
    "ts_quartile_3.plot(ax=ax2, color=color, alpha=0.5, style=\"-.\", label=\"3rd quartile\")\n",
    "ts_percentile_5.plot(ax=ax2, color=color, alpha=0.25, style=\":\", label=\"5th percentile\")\n",
    "ts_percentile_95.plot(ax=ax2, color=color, alpha=0.25, style=\":\", label=\"95th percentile\")\n",
    "ts_min.plot(ax=ax2, color=color, alpha=0.2, style=\":\", label=\"min\")\n",
    "ts_max.plot(ax=ax2, color=color, alpha=0.2, style=\":\", label=\"max\")\n",
    "\n",
    "plt.fill_between(ts_percentile_5.index, ts_percentile_5.values, ts_percentile_95.values, facecolor=color, alpha=0.1)\n",
    "plt.fill_between(ts_quartile_1.index, ts_quartile_1.values, ts_quartile_3.values, facecolor=color, alpha=0.1)\n",
    "\n",
    "ax.legend(loc='upper left')\n",
    "ax2.legend(loc='upper right');\n",
    "\n",
    "ax.set_xlabel('Time')\n",
    "ax.set_ylabel('PM10');\n",
    "ax2.set_ylabel('Temperature');"
   ]
  },
  {
   "cell_type": "code",
   "execution_count": null,
   "metadata": {},
   "outputs": [],
   "source": [
    "ax = df.PM10.groupby(df.index.time).mean().plot(figsize=(18,6), color=\"blue\")\n",
    "\n",
    "ax.set_xlabel(\"Time\")\n",
    "\n",
    "ax2 = ax.twinx()\n",
    "df.TEMP.groupby(df.index.time).mean().plot(ax=ax2, color=\"red\")\n",
    "\n",
    "ax.legend(loc='upper left')\n",
    "ax2.legend(loc='upper right');"
   ]
  },
  {
   "cell_type": "code",
   "execution_count": null,
   "metadata": {},
   "outputs": [],
   "source": [
    "ax = df.PM10.groupby(df.index.weekday).mean().plot(figsize=(18,6), color=\"blue\")\n",
    "\n",
    "ax.set_xlabel(\"Weekday\")\n",
    "\n",
    "ax2 = ax.twinx()\n",
    "df.TEMP.groupby(df.index.weekday).mean().plot(ax=ax2, color=\"red\")\n",
    "\n",
    "ax.legend(loc='upper left')\n",
    "ax2.legend(loc='upper right');"
   ]
  },
  {
   "cell_type": "code",
   "execution_count": null,
   "metadata": {},
   "outputs": [],
   "source": [
    "ax = df.PM10.groupby(df.index.month).mean().plot(figsize=(18,6), color=\"blue\")\n",
    "\n",
    "ax.set_xlabel(\"Month\")\n",
    "\n",
    "ax2 = ax.twinx()\n",
    "df.TEMP.groupby(df.index.month).mean().plot(ax=ax2, color=\"red\")\n",
    "\n",
    "ax.legend(loc='upper left')\n",
    "ax2.legend(loc='upper right');"
   ]
  }
 ],
 "metadata": {
  "kernelspec": {
   "display_name": "Python 3",
   "language": "python",
   "name": "python3"
  },
  "language_info": {
   "codemirror_mode": {
    "name": "ipython",
    "version": 3
   },
   "file_extension": ".py",
   "mimetype": "text/x-python",
   "name": "python",
   "nbconvert_exporter": "python",
   "pygments_lexer": "ipython3",
   "version": "3.6.5"
  }
 },
 "nbformat": 4,
 "nbformat_minor": 2
}
