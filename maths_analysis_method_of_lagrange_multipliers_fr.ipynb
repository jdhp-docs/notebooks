{
 "cells": [
  {
   "cell_type": "markdown",
   "metadata": {},
   "source": [
    "# La méthode des multiplicateurs de Lagrange"
   ]
  },
  {
   "cell_type": "markdown",
   "metadata": {},
   "source": [
    "## À quoi ça sert ?\n",
    "\n",
    "À trouver les extremums (minimums, maximums) d'une fonction $f$ d'une ou plusieurs variables $x_1, \\dots, x_n$, sous réserve que l'ensemble solution respecte un contrainte d'égalité: $g(x_1, \\dots, x_n) = 0$.\n",
    "Autrement dit la méthode des multiplicateurs de Lagrange va permettre de résoudre certains problèmes d'*optimisation sous contraintes*.\n",
    "\n",
    "Exemple: maximiser $f(x_1,x_2)$ soumise aux contraintes $g(x_1,x_2)=0$."
   ]
  },
  {
   "cell_type": "markdown",
   "metadata": {},
   "source": [
    "## Cas d'une fonction à deux variables"
   ]
  },
  {
   "cell_type": "markdown",
   "metadata": {},
   "source": [
    "**TODO**: reécrire cette partie"
   ]
  },
  {
   "cell_type": "markdown",
   "metadata": {},
   "source": [
    "|                                                  |                                                  |\n",
    "| ------------------------------------------------ | ------------------------------------------------ |\n",
    "| <img src=\"https://upload.wikimedia.org/wikipedia/commons/5/55/LagrangeMultipliers3D.png\" width=\"90%\"></img> | <img src=\"https://upload.wikimedia.org/wikipedia/commons/thumb/b/bf/LagrangeMultipliers2D.svg/1000px-LagrangeMultipliers2D.svg.png\" width=\"90%\"></img> |"
   ]
  },
  {
   "cell_type": "markdown",
   "metadata": {},
   "source": [
    "On pose la fonction:\n",
    "\n",
    "$$\n",
    "\\mathcal{L}(x_1,x_2,\\lambda) = f(x_1,x_2) + \\lambda g(x_1,x_2)\n",
    "$$\n",
    "\n",
    "$\\lambda$ est ce qu'on appelle un *multiplicateur de Lagrange* ; sa valeur n'est pas connue à priori."
   ]
  },
  {
   "cell_type": "markdown",
   "metadata": {},
   "source": [
    "Pour maximiser $\\mathcal{L}$,\n",
    "on annule ses dérivées partielles (condition nécessaire du premier ordre). Le problème initial revient à résoudre le système d'équations à trois inconnues suivant:\n",
    "\n",
    "$$\n",
    "\\left\\{\n",
    "\\begin{array}{rcl}\n",
    "    {\\large \\frac{\\partial\\mathcal{L}(x_1,x_2,\\lambda)}{\\partial x_1}} & = & 0 \\\\\n",
    "    {\\large \\frac{\\partial\\mathcal{L}(x_1,x_2,\\lambda)}{\\partial x_2}} & = & 0 \\\\\n",
    "    {\\large \\frac{\\partial\\mathcal{L}(x_1,x_2,\\lambda)}{\\partial \\lambda}} & = & 0\n",
    "\\end{array} \\right.\n",
    "$$"
   ]
  },
  {
   "cell_type": "markdown",
   "metadata": {},
   "source": [
    "### Exemple\n",
    "\n",
    "On cherche le rectangle d'aire maximum et de périmètre constant $U$.\n",
    "\n",
    "Plus formellement, on cherche à résoudre le problème d'optimisation suivant:\n",
    "\n",
    "$$\n",
    "\\begin{align}\n",
    "    \\max        & \\quad f(x_1,x_2) = x_1 x_2          \\\\\n",
    "    \\text{s.t.} & \\quad g(x_1,x_2) = 2x_1 + 2x_2 - U = 0\n",
    "\\end{align}\n",
    "$$\n",
    "\n",
    "avec:\n",
    "\n",
    "* $x_1$ et $x_2$ les dimensions du rectangle (respectivement la largeur et la hauteur)\n",
    "* $f(x_1,x_2) = x_1 x_2$ l'aire du rectangle (la fonction à maximiser)\n",
    "* $g(x_1,x_2) = 2x_1 + 2x_2 - U = 0$ la contrainte sur le périmètre du rectangle ($2x_1 + 2x_2 = U$)\n",
    "\n",
    "La fonction de Lagrange correspondant à ce problème est:\n",
    "\n",
    "$$\n",
    "\\mathcal{L}(x_1,x_2,\\lambda) = x_1 x_2 + \\lambda (2x_1 + 2x_2 - U)\n",
    "$$\n",
    "\n",
    "Les conditions du premier ordre (annulation des dérivées premières) sont données par:\n",
    "\n",
    "$$\n",
    "\\begin{align}\n",
    "\\left\\{\n",
    "\\begin{array}{rcl}\n",
    "    {\\large \\frac{\\partial\\mathcal{L}(x_1,x_2,\\lambda)}{\\partial x_1}} & = & 0 \\\\\n",
    "    {\\large \\frac{\\partial\\mathcal{L}(x_1,x_2,\\lambda)}{\\partial x_2}} & = & 0 \\\\\n",
    "    {\\large \\frac{\\partial\\mathcal{L}(x_1,x_2,\\lambda)}{\\partial \\lambda}} & = & 0\n",
    "\\end{array} \\right.\n",
    "& \\Leftrightarrow\n",
    "\\left\\{\n",
    "\\begin{array}{rcl}\n",
    "    x_2 + 2 \\lambda & = & 0 \\\\\n",
    "    x_1 + 2 \\lambda & = & 0 \\\\\n",
    "    2x_1 + 2x_2 - U & = & 0\n",
    "\\end{array} \\right. \\\\\n",
    "& \\\\\n",
    "& \\Leftrightarrow\n",
    "\\left\\{\n",
    "\\begin{array}{rcl}\n",
    "    \\lambda & = & {\\large \\frac{-x_2}{2}} \\\\\n",
    "    \\lambda & = & {\\large \\frac{-x_1}{2}} \\\\\n",
    "    2x_1 + 2x_2 - U & = & 0\n",
    "\\end{array} \\right. \\\\\n",
    "& \\\\\n",
    "& \\Leftrightarrow\n",
    "\\left\\{\n",
    "\\begin{array}{rcl}\n",
    "    x_1 & = & x_2 \\\\\n",
    "    2x_1 + 2x_2 - U & = & 0\n",
    "\\end{array} \\right. \\\\\n",
    "& \\\\\n",
    "& \\Leftrightarrow\n",
    "\\left\\{\n",
    "\\begin{array}{rcl}\n",
    "    x_1 & = & x_2 \\\\\n",
    "      U & = & 2x_1 + 2x_1 = 4x_1 = 4x_2\n",
    "\\end{array} \\right.\n",
    "\\end{align}\n",
    "$$"
   ]
  },
  {
   "cell_type": "markdown",
   "metadata": {},
   "source": [
    "Remarque: il est préférable d'éliminer $\\lambda$ dés le début des calculs car c'est une variable auxiliaire dont la valeur n'est pas utile."
   ]
  },
  {
   "cell_type": "markdown",
   "metadata": {},
   "source": [
    "Ainsi, le carré ($x_1 = x_2$) est le rectangle d'aire maximum pour un périmètre donné $U$."
   ]
  },
  {
   "cell_type": "markdown",
   "metadata": {},
   "source": [
    "## Cas générale"
   ]
  },
  {
   "cell_type": "markdown",
   "metadata": {},
   "source": [
    "**TODO**"
   ]
  },
  {
   "cell_type": "markdown",
   "metadata": {},
   "source": [
    "## Bibliographie"
   ]
  },
  {
   "cell_type": "markdown",
   "metadata": {},
   "source": [
    "Quelques livres sur le sujet:\n",
    "\n",
    "- *Optimisation et contrôle des systèmes linéaires* (chapitre 3) de Maïtine Bergounioux aux editions Dunod\n",
    "- *Toutes les mathématiques et les bases de l'informatique* (p. 566-567) de Horst Stöcker aux editions Dunod"
   ]
  },
  {
   "cell_type": "markdown",
   "metadata": {},
   "source": [
    "Quelques liens intéressants:\n",
    "\n",
    "- https://fr.wikipedia.org/wiki/Multiplicateur_de_Lagrange\n",
    "- https://en.wikipedia.org/wiki/Lagrange_multiplier\n",
    "\n",
    "\n",
    "- http://www.unicaen.fr/ufr/eco/espaceprof/script1/script2/identification/valognes_fabrice/MicroL3/ch02.pdf (bien pour une première approche)\n",
    "- https://economix.fr/docs/1041/Rappels%20Lagrange.pdf (facile d'accès, vu sous l'angle des science économiques)\n",
    "- https://quantique.u-strasbg.fr/lib/exe/fetch.php?media=fr:pageperso:vr:fichiers:multiplicateur-lagrange.pdf\n",
    "- https://ufr-segmi.parisnanterre.fr/servlet/com.univ.collaboratif.utils.LectureFichiergw?ID_FICHIER=1348818743690\n",
    "- http://nlp.cs.berkeley.edu/tutorials/lagrange-multipliers.pdf\n",
    "- http://res-nlp.univ-lemans.fr/NLP_C_M03_G03/co/Contenu_601.html (vu sous l'angle de la pyhsique)"
   ]
  },
  {
   "cell_type": "markdown",
   "metadata": {},
   "source": [
    "**TODO**: hide this cell\n",
    "\n",
    "https://www.google.fr/webhp?ie=utf-8&oe=utf-8&client=firefox-b&gfe_rd=cr&ei=kutIWYeiKoXS8Afc25yQBQ#safe=active&q=m%C3%A9thode+des+multiplicateurs+de+lagrange"
   ]
  }
 ],
 "metadata": {
  "kernelspec": {
   "display_name": "Python [default]",
   "language": "python",
   "name": "python3"
  },
  "language_info": {
   "codemirror_mode": {
    "name": "ipython",
    "version": 3
   },
   "file_extension": ".py",
   "mimetype": "text/x-python",
   "name": "python",
   "nbconvert_exporter": "python",
   "pygments_lexer": "ipython3",
   "version": "3.5.3"
  }
 },
 "nbformat": 4,
 "nbformat_minor": 2
}
