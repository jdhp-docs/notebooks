{
 "cells": [
  {
   "cell_type": "code",
   "execution_count": null,
   "metadata": {},
   "outputs": [],
   "source": [
    "# Init matplotlib\n",
    "\n",
    "%matplotlib inline\n",
    "\n",
    "import matplotlib"
   ]
  },
  {
   "cell_type": "code",
   "execution_count": null,
   "metadata": {},
   "outputs": [],
   "source": [
    "FIG_SIZE = 4\n",
    "\n",
    "def plot_linear_system(Ab, bounds=None, ax=None, color='r', alpha=1):\n",
    "    \"\"\"Plot the linear system defined by the extended matrix `Ab`.\"\"\"\n",
    "    \n",
    "    # Check arguments #############\n",
    "    \n",
    "    assert Ab.ndim == 2\n",
    "    assert Ab.shape[1] == 3\n",
    "    \n",
    "    if bounds is None:\n",
    "        if ax is None:\n",
    "            bounds = np.array([[-10, 10],\n",
    "                               [-10, 10]])\n",
    "        else:\n",
    "            bounds = np.array(ax.axis()).reshape([2,2])\n",
    "    \n",
    "    assert bounds.ndim == 2\n",
    "    assert bounds.shape == (2, 2)\n",
    "    assert bounds[0,0] < bounds[0,1]\n",
    "    assert bounds[1,0] < bounds[1,1]\n",
    "    \n",
    "    # Setup the plot ##############\n",
    "    \n",
    "    if ax is None:\n",
    "        fig, ax = plt.subplots(figsize=(FIG_SIZE, FIG_SIZE))\n",
    "        \n",
    "    ax.axis('equal')\n",
    "\n",
    "    ax.axis(bounds.flatten())\n",
    "    ax.set_xticks(np.arange(*bounds[0], 1))\n",
    "    ax.set_yticks(np.arange(*bounds[0], 1))\n",
    "\n",
    "    ax.axhline(y=0, color='k')\n",
    "    ax.axvline(x=0, color='k')\n",
    "\n",
    "    # Compute points to plot ######\n",
    "\n",
    "    x = bounds[0]            # horizontal axis limits\n",
    "    \n",
    "    Abnv = Ab[Ab[:,1] != 0]  # linear equations having a non-null x_2 coefficient (i.e. non-vertical line)\n",
    "    Abv = Ab[Ab[:,1] == 0]   # linear equations having a null x_2 coefficient (i.e. vertical line)\n",
    "    \n",
    "    # Plot non-vertical lines #####\n",
    "    \n",
    "    yp1 = (Abnv[:,2] - Abnv[:,0] * x[0]) / Abnv[:,1]\n",
    "    yp2 = (Abnv[:,2] - Abnv[:,0] * x[1]) / Abnv[:,1]\n",
    "    plt.plot(x, np.array([yp1, yp2]), \"-{}\".format(color), alpha=alpha)\n",
    "    \n",
    "    # Plot vertical lines #########\n",
    "    \n",
    "    for ab in Abv:\n",
    "        plt.axvline(ab[2] / ab[0], color=color, alpha=alpha)\n",
    "    \n",
    "    # TODO: add label (e.g. \"2x + 3y = 1\")\n",
    "\n",
    "    plt.grid(True)\n",
    "    \n",
    "    return ax"
   ]
  },
  {
   "cell_type": "code",
   "execution_count": null,
   "metadata": {},
   "outputs": [],
   "source": [
    "pre_str1 = r\"\"\"\n",
    "$\n",
    "\\left\\{\n",
    "\\begin{align}\n",
    "\"\"\"\n",
    "\n",
    "post_str1 = r\"\"\"\\end{align}\n",
    "\\right.\n",
    "$\n",
    "\"\"\"\n",
    "\n",
    "pre_str2 = r\"\"\"\n",
    "$\n",
    "\\begin{pmatrix}\n",
    "\"\"\"\n",
    "\n",
    "post_str2 = r\"\"\"\\end{pmatrix}\n",
    "$\n",
    "\"\"\"\n",
    "\n",
    "def complete_matrix_to_latex(Ab):\n",
    "    #6 x_1 + 7 x_2 &  = 11\n",
    "\n",
    "    sys_str = \"\"\n",
    "    \n",
    "    for eq in Ab:\n",
    "        \n",
    "        eq_str = \"\"\n",
    "        \n",
    "        for coef_index, coef in enumerate(eq[:-1]):\n",
    "            \n",
    "            if coef != 0:\n",
    "                if len(eq_str) > 0:\n",
    "                    eq_str += \"+ \"\n",
    "                if coef == 1:\n",
    "                    eq_str += \"x_{\" + str(coef_index + 1) + \"} \"\n",
    "                elif coef == -1:\n",
    "                    eq_str += \"-x_{\" + str(coef_index + 1) + \"} \"\n",
    "                else:\n",
    "                    eq_str += str(coef) + \" x_{\" + str(coef_index + 1) + \"} \"\n",
    "                        \n",
    "        eq_str = eq_str.replace(\"+ -\", \"- \")\n",
    "        eq_str += \"& = {} \\\\\\\\\\n\".format(eq[-1])\n",
    "        sys_str += eq_str\n",
    "        \n",
    "    sys_str = pre_str1 + sys_str + post_str1\n",
    "    \n",
    "    \n",
    "    \n",
    "    mat_str = \"\"\n",
    "    \n",
    "    for eq in Ab:\n",
    "        \n",
    "        eq_str = \"\"\n",
    "        \n",
    "        for coef_index, coef in enumerate(eq):\n",
    "            \n",
    "            if len(eq_str) > 0:\n",
    "                eq_str += \" & \"\n",
    "            eq_str += str(coef)\n",
    "                        \n",
    "        eq_str += \"\\\\\\\\\\n\"\n",
    "        mat_str += eq_str\n",
    "        \n",
    "    mat_str = pre_str2 + mat_str + post_str2\n",
    "    \n",
    "    return sys_str + \"\\n\" + mat_str\n"
   ]
  },
  {
   "cell_type": "markdown",
   "metadata": {},
   "source": [
    "## Méthode par élimination (ou combinaison)"
   ]
  },
  {
   "cell_type": "markdown",
   "metadata": {},
   "source": [
    "### Exemple 1"
   ]
  },
  {
   "cell_type": "code",
   "execution_count": null,
   "metadata": {},
   "outputs": [],
   "source": [
    "Ab = np.array([[ 1,  5,  7],\n",
    "               [-2, -7, -5]])\n",
    "\n",
    "print(complete_matrix_to_latex(Ab))\n",
    "plot_linear_system(Ab);"
   ]
  },
  {
   "cell_type": "code",
   "execution_count": null,
   "metadata": {},
   "outputs": [],
   "source": [
    "Ab = np.array([[1, 5, 7],\n",
    "               [0, 3, 9]])\n",
    "\n",
    "print(complete_matrix_to_latex(Ab))\n",
    "plot_linear_system(Ab);"
   ]
  },
  {
   "cell_type": "code",
   "execution_count": null,
   "metadata": {},
   "outputs": [],
   "source": [
    "Ab = np.array([[1, 5, 7],\n",
    "               [0, 1, 3]])\n",
    "\n",
    "print(complete_matrix_to_latex(Ab))\n",
    "plot_linear_system(Ab);"
   ]
  },
  {
   "cell_type": "code",
   "execution_count": null,
   "metadata": {},
   "outputs": [],
   "source": [
    "Ab = np.array([[1, 0, -8],\n",
    "               [0, 1,  3]])\n",
    "\n",
    "print(complete_matrix_to_latex(Ab))\n",
    "plot_linear_system(Ab);"
   ]
  }
 ],
 "metadata": {
  "kernelspec": {
   "display_name": "Python 3",
   "language": "python",
   "name": "python3"
  },
  "language_info": {
   "codemirror_mode": {
    "name": "ipython",
    "version": 3
   },
   "file_extension": ".py",
   "mimetype": "text/x-python",
   "name": "python",
   "nbconvert_exporter": "python",
   "pygments_lexer": "ipython3",
   "version": "3.6.5"
  }
 },
 "nbformat": 4,
 "nbformat_minor": 2
}
