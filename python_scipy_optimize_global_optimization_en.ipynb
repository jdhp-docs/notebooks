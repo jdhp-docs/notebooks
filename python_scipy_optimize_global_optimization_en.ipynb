{
 "cells": [
  {
   "cell_type": "markdown",
   "metadata": {
    "tags": [
     "meta",
     "toc_en",
     "draft_en"
    ]
   },
   "source": [
    "# Unconstrained global optimization with Scipy"
   ]
  },
  {
   "cell_type": "markdown",
   "metadata": {
    "tags": [
     "hide"
    ]
   },
   "source": [
    "**TODO**:\n",
    "* Plots:\n",
    "    0. error w.t. ... => add an option to plot the current solution or the best current solution \n",
    "    4. error w.t. number of function evaluations + error w.t. *total* number of function evaluations (i.e. including the number of gradient and hessian evaluations)\n",
    "    6. (benchmark session ! distinguish the derivative-free to the non-derivative free case) average version of 3., 4., 5. over several runs with random initial state (+ error bar or box plot)\n",
    "    7. (benchmark session) err w.t. algorithms parameters (plot the iteration or evaluation number or execution time to reach in average an error lower than N% with e.g. N=99%)"
   ]
  },
  {
   "cell_type": "markdown",
   "metadata": {},
   "source": [
    "## Import required modules"
   ]
  },
  {
   "cell_type": "code",
   "execution_count": null,
   "metadata": {
    "tags": [
     "hide"
    ]
   },
   "outputs": [],
   "source": [
    "# Init matplotlib\n",
    "\n",
    "%matplotlib inline\n",
    "\n",
    "import matplotlib\n",
    "matplotlib.rcParams['figure.figsize'] = (8, 8)"
   ]
  },
  {
   "cell_type": "code",
   "execution_count": null,
   "metadata": {
    "tags": [
     "hide"
    ]
   },
   "outputs": [],
   "source": [
    "# Setup PyAI\n",
    "import sys\n",
    "sys.path.insert(0, '/Users/jdecock/git/pub/jdhp/pyai')"
   ]
  },
  {
   "cell_type": "code",
   "execution_count": null,
   "metadata": {},
   "outputs": [],
   "source": [
    "import numpy as np\n",
    "import time\n",
    "\n",
    "from scipy import optimize"
   ]
  },
  {
   "cell_type": "code",
   "execution_count": null,
   "metadata": {},
   "outputs": [],
   "source": [
    "# Plot functions\n",
    "from pyai.optimize.utils import plot_contour_2d_solution_space\n",
    "from pyai.optimize.utils import plot_2d_solution_space\n",
    "\n",
    "from pyai.optimize.utils import plot_fx_wt_iteration_number\n",
    "from pyai.optimize.utils import plot_err_wt_iteration_number\n",
    "from pyai.optimize.utils import plot_err_wt_execution_time\n",
    "from pyai.optimize.utils import plot_err_wt_num_feval"
   ]
  },
  {
   "cell_type": "markdown",
   "metadata": {},
   "source": [
    "## Define the objective function"
   ]
  },
  {
   "cell_type": "code",
   "execution_count": null,
   "metadata": {
    "tags": [
     "hide"
    ]
   },
   "outputs": [],
   "source": [
    "## Objective function: Rosenbrock function (Scipy's implementation)\n",
    "#func = scipy.optimize.rosen"
   ]
  },
  {
   "cell_type": "code",
   "execution_count": null,
   "metadata": {},
   "outputs": [],
   "source": [
    "# Set the objective function\n",
    "#from pyai.optimize.functions import sphere as func\n",
    "from pyai.optimize.functions import sphere2d as func\n",
    "#from pyai.optimize.functions import additive_gaussian_noise as noise\n",
    "from pyai.optimize.functions import multiplicative_gaussian_noise as noise\n",
    "#from pyai.optimize.functions import additive_poisson_noise as noise\n",
    "\n",
    "func.noise = noise\n",
    "\n",
    "xmin = func.bounds[0]   # TODO\n",
    "xmax = func.bounds[1]   # TODO"
   ]
  },
  {
   "cell_type": "code",
   "execution_count": null,
   "metadata": {
    "tags": [
     "hide"
    ]
   },
   "outputs": [],
   "source": [
    "print(func)\n",
    "print(xmin)\n",
    "print(xmax)\n",
    "print(func.ndim)\n",
    "print(func.arg_min)\n",
    "print(func(func.arg_min))"
   ]
  },
  {
   "cell_type": "markdown",
   "metadata": {},
   "source": [
    "## The \"basin-hopping\" algorithm"
   ]
  },
  {
   "cell_type": "markdown",
   "metadata": {},
   "source": [
    "Basin-hopping is a **stochastic** algorithm which attempts to find the **global** minimum of a function.\n",
    "\n",
    "Official documentation:\n",
    "* https://docs.scipy.org/doc/scipy/reference/generated/scipy.optimize.basinhopping.html#scipy.optimize.basinhopping\n",
    "* More information about the algorithm: http://www-wales.ch.cam.ac.uk/"
   ]
  },
  {
   "cell_type": "markdown",
   "metadata": {},
   "source": [
    "### Basic usage"
   ]
  },
  {
   "cell_type": "code",
   "execution_count": null,
   "metadata": {},
   "outputs": [],
   "source": [
    "from scipy import optimize\n",
    "\n",
    "x0 = np.random.uniform(-10., 10., size=2)\n",
    "\n",
    "res = optimize.basinhopping(optimize.rosen,\n",
    "                            x0,          # The initial point\n",
    "                            niter=100)   # The number of basin hopping iterations\n",
    "\n",
    "print(\"x* =\", res.x)\n",
    "print(\"f(x*) =\", res.fun)\n",
    "print(\"Cause of the termination:\", \";\".join(res.message))\n",
    "print(\"Number of evaluations of the objective functions:\", res.nfev)\n",
    "print(\"Number of evaluations of the jacobian:\", res.njev)\n",
    "print(\"Number of iterations performed by the optimizer:\", res.nit)"
   ]
  },
  {
   "cell_type": "markdown",
   "metadata": {},
   "source": [
    "### Performances analysis"
   ]
  },
  {
   "cell_type": "code",
   "execution_count": null,
   "metadata": {},
   "outputs": [],
   "source": [
    "res"
   ]
  },
  {
   "cell_type": "code",
   "execution_count": null,
   "metadata": {},
   "outputs": [],
   "source": [
    "%%time\n",
    "\n",
    "x_list = []\n",
    "fx_list = []\n",
    "time_list = []\n",
    "num_eval_list = []\n",
    "\n",
    "def callback(x, f, accept):\n",
    "    x_list.append(x)\n",
    "    fx_list.append(f)\n",
    "    time_list.append(time.time() - init_time)\n",
    "    if hasattr(func, 'num_eval'):\n",
    "        num_eval_list.append(func.num_eval)\n",
    "    print(len(x_list), x, f, accept, num_eval_list[-1])\n",
    "\n",
    "x0 = np.random.uniform(xmin, xmax, size=func.ndim)  # TODO\n",
    "\n",
    "func.do_eval_logs = True\n",
    "func.reset_eval_counters()\n",
    "func.reset_eval_logs()\n",
    "\n",
    "init_time = time.time()\n",
    "\n",
    "res = optimize.basinhopping(func,\n",
    "                            x0,                # The initial point\n",
    "                            niter=100,         # The number of basin hopping iterations\n",
    "                            callback=callback,\n",
    "                            disp=False)        # Print status messages\n",
    "\n",
    "func.do_eval_logs = False\n",
    "\n",
    "eval_x_array = np.array(func.eval_logs_dict['x']).T\n",
    "eval_error_array = np.array([func.eval_logs_dict['fx']]).T - func(func.arg_min)\n",
    "\n",
    "it_x_array = np.array(x_list).T\n",
    "it_error_array = np.array([fx_list]).T - func(func.arg_min)\n",
    "\n",
    "print(\"x* =\", res.x)\n",
    "print(\"f(x*) =\", res.fun)\n",
    "print(\"Cause of the termination:\", \";\".join(res.message))\n",
    "print(\"Number of evaluations of the objective functions:\", res.nfev)\n",
    "print(\"Number of evaluations of the jacobian:\", res.njev)\n",
    "print(\"Number of iterations performed by the optimizer:\", res.nit)"
   ]
  },
  {
   "cell_type": "code",
   "execution_count": null,
   "metadata": {},
   "outputs": [],
   "source": [
    "plot_contour_2d_solution_space(func,\n",
    "                               xmin=xmin,\n",
    "                               xmax=xmax,\n",
    "                               xstar=res.x,\n",
    "                               xvisited=it_x_array,\n",
    "                               title=\"Basin-Hopping\")"
   ]
  },
  {
   "cell_type": "code",
   "execution_count": null,
   "metadata": {},
   "outputs": [],
   "source": [
    "plot_contour_2d_solution_space(func,\n",
    "                               xmin=xmin,\n",
    "                               xmax=xmax,\n",
    "                               xstar=res.x,\n",
    "                               xvisited=eval_x_array,\n",
    "                               title=\"Basin-Hopping\")"
   ]
  },
  {
   "cell_type": "code",
   "execution_count": null,
   "metadata": {},
   "outputs": [],
   "source": [
    "fig, ax = plt.subplots(nrows=1, ncols=3, squeeze=True, figsize=(15, 5))\n",
    "\n",
    "ax = ax.ravel()\n",
    "\n",
    "plot_err_wt_iteration_number(it_error_array, ax=ax[0], x_log=True, y_log=True)\n",
    "plot_err_wt_execution_time(it_error_array, time_list, ax=ax[1], x_log=True, y_log=True)\n",
    "plot_err_wt_num_feval(it_error_array, num_eval_list, ax=ax[2], x_log=True, y_log=True)\n",
    "\n",
    "plt.tight_layout(); # Fix plot margins errors"
   ]
  },
  {
   "cell_type": "code",
   "execution_count": null,
   "metadata": {},
   "outputs": [],
   "source": [
    "fig, ax = plt.subplots(nrows=1, ncols=1, squeeze=True, figsize=(8, 8))\n",
    "\n",
    "plot_err_wt_num_feval(eval_error_array, ax=ax, x_log=True, y_log=True)"
   ]
  },
  {
   "cell_type": "markdown",
   "metadata": {},
   "source": [
    "## The \"Differential Evolution\" (DE) algorithm"
   ]
  },
  {
   "cell_type": "markdown",
   "metadata": {},
   "source": [
    "Differential Evolution is a **stochastic** algorithm which attempts to find the **global** minimum of a function.\n",
    "\n",
    "Official documentation:\n",
    "* https://docs.scipy.org/doc/scipy/reference/generated/scipy.optimize.differential_evolution.html#scipy.optimize.differential_evolution\n",
    "\n",
    "More information:\n",
    "* [Practical advice](http://www1.icsi.berkeley.edu/~storn/code.html#prac)\n",
    "* [Wikipedia article](https://en.wikipedia.org/wiki/Differential_evolution)"
   ]
  },
  {
   "cell_type": "markdown",
   "metadata": {},
   "source": [
    "### Basic usage"
   ]
  },
  {
   "cell_type": "code",
   "execution_count": null,
   "metadata": {},
   "outputs": [],
   "source": [
    "from scipy import optimize\n",
    "\n",
    "bounds = [[-10, 10], [-10, 10]]\n",
    "\n",
    "res = optimize.differential_evolution(optimize.rosen,\n",
    "                                      bounds,              # The initial point\n",
    "                                      maxiter=100,         # The number of DE iterations\n",
    "                                      polish=True)\n",
    "\n",
    "print(\"x* =\", res.x)\n",
    "print(\"f(x*) =\", res.fun)\n",
    "print(\"Cause of the termination:\", res.message)\n",
    "print(\"Number of evaluations of the objective functions:\", res.nfev)\n",
    "print(\"Number of iterations performed by the optimizer:\", res.nit)"
   ]
  },
  {
   "cell_type": "markdown",
   "metadata": {},
   "source": [
    "### Performances analysis"
   ]
  },
  {
   "cell_type": "code",
   "execution_count": null,
   "metadata": {},
   "outputs": [],
   "source": [
    "%%time\n",
    "\n",
    "bounds = func.bounds.T.tolist()\n",
    "\n",
    "x_list = []\n",
    "fx_list = []\n",
    "time_list = []\n",
    "num_eval_list = []\n",
    "\n",
    "def callback(xk, convergence):\n",
    "    x_list.append(xk)\n",
    "    fx_list.append(func(xk))\n",
    "    time_list.append(time.time() - init_time)\n",
    "    if hasattr(func, 'num_eval'):\n",
    "        num_eval_list.append(func.num_eval)\n",
    "    print(len(x_list), xk, fx_list[-1], convergence, num_eval_list[-1])\n",
    "\n",
    "func.do_eval_logs = True\n",
    "func.reset_eval_counters()\n",
    "func.reset_eval_logs()\n",
    "\n",
    "init_time = time.time()\n",
    "\n",
    "res = optimize.differential_evolution(func,\n",
    "                                      bounds,              # The initial point\n",
    "                                      maxiter=100,         # The number of DE iterations\n",
    "                                      callback=callback,\n",
    "                                      polish=False,\n",
    "                                      disp=False)          # Print status messages\n",
    "\n",
    "func.do_eval_logs = False\n",
    "\n",
    "eval_x_array = np.array(func.eval_logs_dict['x']).T\n",
    "eval_error_array = np.array([func.eval_logs_dict['fx']]).T - func(func.arg_min)\n",
    "\n",
    "it_x_array = np.array(x_list).T\n",
    "it_error_array = np.array([fx_list]).T - func(func.arg_min)\n",
    "\n",
    "print(\"x* =\", res.x)\n",
    "print(\"f(x*) =\", res.fun)\n",
    "print(\"Cause of the termination:\", res.message)\n",
    "print(\"Number of evaluations of the objective functions:\", res.nfev)\n",
    "print(\"Number of iterations performed by the optimizer:\", res.nit)"
   ]
  },
  {
   "cell_type": "code",
   "execution_count": null,
   "metadata": {},
   "outputs": [],
   "source": [
    "res"
   ]
  },
  {
   "cell_type": "code",
   "execution_count": null,
   "metadata": {},
   "outputs": [],
   "source": [
    "plot_contour_2d_solution_space(func,\n",
    "                               xmin=xmin,\n",
    "                               xmax=xmax,\n",
    "                               xstar=res.x,\n",
    "                               xvisited=it_x_array,\n",
    "                               title=\"Differential Evolution\")"
   ]
  },
  {
   "cell_type": "code",
   "execution_count": null,
   "metadata": {},
   "outputs": [],
   "source": [
    "plot_contour_2d_solution_space(func,\n",
    "                               xmin=xmin,\n",
    "                               xmax=xmax,\n",
    "                               xstar=res.x,\n",
    "                               xvisited=eval_x_array,\n",
    "                               title=\"Differential Evolution\")"
   ]
  },
  {
   "cell_type": "code",
   "execution_count": null,
   "metadata": {},
   "outputs": [],
   "source": [
    "fig, ax = plt.subplots(nrows=1, ncols=3, squeeze=True, figsize=(15, 5))\n",
    "\n",
    "ax = ax.ravel()\n",
    "\n",
    "plot_err_wt_iteration_number(it_error_array, ax=ax[0], x_log=True, y_log=True)\n",
    "plot_err_wt_execution_time(it_error_array, time_list, ax=ax[1], x_log=True, y_log=True)\n",
    "plot_err_wt_num_feval(it_error_array, num_eval_list, ax=ax[2], x_log=True, y_log=True)\n",
    "\n",
    "plt.tight_layout(); # Fix plot margins errors"
   ]
  },
  {
   "cell_type": "code",
   "execution_count": null,
   "metadata": {},
   "outputs": [],
   "source": [
    "fig, ax = plt.subplots(nrows=1, ncols=1, squeeze=True, figsize=(8, 8))\n",
    "\n",
    "plot_err_wt_num_feval(eval_error_array, ax=ax, x_log=True, y_log=True)"
   ]
  },
  {
   "cell_type": "markdown",
   "metadata": {},
   "source": [
    "## The \"simulated annealing\" algorithm"
   ]
  },
  {
   "cell_type": "markdown",
   "metadata": {},
   "source": [
    "This algorithm has been replaced by the \"basin-hopping\" algorithm since Scipy 0.15.\n",
    "\n",
    "See the official documentation for more details: https://docs.scipy.org/doc/scipy-0.14.0/reference/generated/scipy.optimize.anneal.html."
   ]
  }
 ],
 "metadata": {
  "anaconda-cloud": {},
  "celltoolbar": "Tags",
  "kernelspec": {
   "display_name": "Python [default]",
   "language": "python",
   "name": "python3"
  },
  "language_info": {
   "codemirror_mode": {
    "name": "ipython",
    "version": 3
   },
   "file_extension": ".py",
   "mimetype": "text/x-python",
   "name": "python",
   "nbconvert_exporter": "python",
   "pygments_lexer": "ipython3",
   "version": "3.5.3"
  }
 },
 "nbformat": 4,
 "nbformat_minor": 1
}
