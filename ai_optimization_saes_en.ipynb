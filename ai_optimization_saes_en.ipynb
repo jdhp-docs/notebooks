{
 "cells": [
  {
   "cell_type": "markdown",
   "metadata": {
    "tags": [
     "meta",
     "draft"
    ]
   },
   "source": [
    "# Self-Adaptive Evolution Strategy (SAES)"
   ]
  },
  {
   "cell_type": "markdown",
   "metadata": {
    "tags": [
     "hide"
    ]
   },
   "source": [
    "**TODO**:\n",
    "* http://www.scholarpedia.org/article/Evolution_strategies\n",
    "* [Matlab / mathematica implementation](https://homepages.fhv.at/hgb/downloads.html)\n",
    "* https://en.wikipedia.org/wiki/Evolution_strategy\n",
    "* https://en.wikipedia.org/wiki/Evolution_window\n",
    "\n",
    "* http://deap.readthedocs.io/en/master/index.html"
   ]
  },
  {
   "cell_type": "markdown",
   "metadata": {},
   "source": [
    "## The SAES algorithm"
   ]
  },
  {
   "cell_type": "markdown",
   "metadata": {
    "tags": [
     "hide"
    ]
   },
   "source": [
    "**TODO: this is wrong, redo this section !**\n",
    "\n",
    "**Notations**:\n",
    "* ${\\cal{N}}$ denotes some independent standard Gaussian random variable\n",
    "* $d$ is the dimension of input vectors, $d \\in \\mathbb{N}^*_+$\n",
    "* $n$ is the current iteration index (or generation index), $n \\in \\mathbb{N}^*_+$\n",
    "\n",
    "---\n",
    "\n",
    "**Algorithm's parameters:**\n",
    "* $K > 0$,\n",
    "* $\\zeta \\geq 0$,\n",
    "* $\\lambda > \\mu > 0$\n",
    "\n",
    "---\n",
    "\n",
    "**Input:**\n",
    "* an initial parent population $\\boldsymbol{x}_{1,i} \\in \\mathbb{R}^d$\n",
    "* an initial scalar $\\sigma_{1,i} = 1$ with $i \\in \\{1, \\dots, \\mu \\}$\n",
    "\n",
    "---\n",
    "\n",
    "$n\\leftarrow 1$\n",
    "\n",
    "**while** (stop condition) **do**\n",
    "\n",
    "$\\quad$ Generate $\\lambda$ individuals $i_j$ independently with $j \\in \\{ 1, \\dots, \\lambda \\}$ using\n",
    "    \n",
    "\\begin{eqnarray}\n",
    "    \\sigma_j & = & \\sigma_{n, mod(j-1, \\mu) + 1} \\times \\exp\\left( \\frac{1}{2d} \\cal{N} \\right) \\\\\n",
    "    i_j      & = & \\boldsymbol{x}_{n, mod(j-1, \\mu) + 1} + \\sigma_j \\cal{N}.\n",
    "\\end{eqnarray}\n",
    "    \n",
    "$\\quad$ Evaluate each of them $\\lceil Kn^\\zeta \\rceil$ times and average their fitness values\n",
    "\n",
    "$\\quad$ Define $j_1, \\dots, j_{\\lambda}$ so that\n",
    "\n",
    "$$\n",
    "\\mathbb{E}_{\\lceil Kn^\\zeta \\rceil}[f(i_{j_1})]\\leq \\mathbb{E}_{\\lceil Kn^\\zeta \\rceil}[f(i_{j_2})] \\leq \\dots \\leq \\mathbb{E}_{\\lceil Kn^\\zeta \\rceil}[f(i_{j_{\\lambda}})]\n",
    "$$\n",
    "\n",
    "$\\quad$ where $\\mathbb{E}_m$ denotes a sample average over $m$ resamplings.\n",
    "\n",
    "$\\quad$ Update: compute $\\boldsymbol{x}_{n+1, k}$ and $\\sigma_{n+1, k}$ using\n",
    "\n",
    "\\begin{eqnarray}\n",
    "\\sigma_{n+1,k}   &=& \\sigma_{j_{k}}, \\quad k \\in \\{1, \\dots, \\mu\\}\\\\\n",
    "{\\boldsymbol{x}_{n+1,k}} &=& i_{j_{k}},      \\quad k \\in \\{1, \\dots, \\mu\\}\n",
    "\\end{eqnarray}\n",
    "\n",
    "$\\quad$ $n\\leftarrow n+1$\n",
    "\n",
    "**end while**"
   ]
  },
  {
   "cell_type": "markdown",
   "metadata": {},
   "source": [
    "For more information, see http://www.scholarpedia.org/article/Evolution_strategies."
   ]
  },
  {
   "cell_type": "markdown",
   "metadata": {},
   "source": [
    "## A Python inplementation"
   ]
  },
  {
   "cell_type": "code",
   "execution_count": null,
   "metadata": {
    "tags": [
     "hide"
    ]
   },
   "outputs": [],
   "source": [
    "# Init matplotlib\n",
    "\n",
    "%matplotlib inline\n",
    "\n",
    "import matplotlib\n",
    "matplotlib.rcParams['figure.figsize'] = (8, 8)"
   ]
  },
  {
   "cell_type": "code",
   "execution_count": null,
   "metadata": {
    "tags": [
     "hide"
    ]
   },
   "outputs": [],
   "source": [
    "# Setup PyAI\n",
    "import sys\n",
    "sys.path.insert(0, '/Users/jdecock/git/pub/jdhp/pyai')"
   ]
  },
  {
   "cell_type": "code",
   "execution_count": null,
   "metadata": {},
   "outputs": [],
   "source": [
    "# Set the objective function\n",
    "#from pyai.optimize.functions import sphere as func\n",
    "from pyai.optimize.functions import sphere2d as func\n",
    "#from pyai.optimize.functions import additive_gaussian_noise as noise\n",
    "from pyai.optimize.functions import multiplicative_gaussian_noise as noise\n",
    "#from pyai.optimize.functions import additive_poisson_noise as noise\n",
    "\n",
    "#func.noise = noise      # Comment this line to use a deterministic objective function\n",
    "\n",
    "xmin = func.bounds[0]   # TODO\n",
    "xmax = func.bounds[1]   # TODO"
   ]
  },
  {
   "cell_type": "markdown",
   "metadata": {},
   "source": [
    "## (1+1)-$\\sigma$-Self-Adaptation-ES"
   ]
  },
  {
   "cell_type": "code",
   "execution_count": null,
   "metadata": {},
   "outputs": [],
   "source": [
    "import numpy as np\n",
    "import math\n",
    "\n",
    "\"\"\"\n",
    "This is a simple Python implementation of the (mu/1, lambda)-sigmaSA-ES\n",
    "as discussed in \n",
    "http://www.scholarpedia.org/article/Evolution_Strategies\n",
    "\"\"\"\n",
    "\n",
    "mu = 3    # mu: the number of parents\n",
    "lmb = 12  # lambda: the number of children\n",
    "rho = 1   # rho: number of parents per child\n",
    "selection_operator = '+'\n",
    "\n",
    "d = 2    # number of dimension of the solution space\n",
    "\n",
    "num_gen = 10\n",
    "\n",
    "tau = 1./math.sqrt(2.*d)          # self-adaptation learning rate\n",
    "\n",
    "# Init the population ##########################\n",
    "\n",
    "# \"pop\" array layout:\n",
    "# - the first mu lines contain parents\n",
    "# - the next lambda lines contain children\n",
    "# - the first column contains the individual's strategy (sigma)\n",
    "# - the last column contains the individual's assess (f(x))\n",
    "# - the other columns contain the individual value (x)\n",
    "\n",
    "pop = np.full([mu+lmb, d+2], np.nan)\n",
    "pop[:mu, 0] = 1.                                       # init the parents strategy to 1.0\n",
    "pop[:mu, 1:-1] = np.random.normal(0., 1., size=[mu,d]) # init the parents value\n",
    "pop[:mu, -1] = func(pop[:mu, 1:-1].T)                  # evaluate parents\n",
    "print(\"Initial population:\\n\", pop)\n",
    "\n",
    "## Sort parents\n",
    "#pop = pop[pop[:,-1].argsort()]\n",
    "#print(pop)\n",
    "\n",
    "for gen in range(num_gen):\n",
    "    # Make children ################################\n",
    "    if rho == 1:\n",
    "        # Each child is made from one randomly selected parent\n",
    "        pop[mu:,:] = pop[np.random.randint(mu, size=lmb)]\n",
    "    elif rho == mu:\n",
    "        # Recombine all parents for each child\n",
    "        raise NotImplemented() # TODO\n",
    "    elif 1 < rho < mu:\n",
    "        # Recombine rho randomly selected parents for each child\n",
    "        raise NotImplemented() # TODO\n",
    "    else:\n",
    "        raise ValueError()\n",
    "\n",
    "    pop[mu:,-1] = np.nan\n",
    "    #print(\"Children:\\n\", pop)\n",
    "\n",
    "    # Mutate children's sigma ######################\n",
    "    pop[mu:,0] = pop[mu:,0] * np.exp(tau * np.random.normal(size=lmb))\n",
    "    #print(\"Mutated children (sigma):\\n\", pop)\n",
    "\n",
    "    # Mutate children's value ######################\n",
    "    pop[mu:,1:-1] = pop[mu:,1:-1] + pop[mu:,1:-1] * np.random.normal(size=[lmb,d])\n",
    "    #print(\"Mutated children (value):\\n\", pop)\n",
    "\n",
    "    # Evaluate children ############################\n",
    "    pop[mu:, -1] = func(pop[mu:, 1:-1].T)\n",
    "    #print(\"Evaluated children:\\n\", pop)\n",
    "\n",
    "    # Select the best individuals ##################\n",
    "    if selection_operator == '+':\n",
    "        # *plus-selection* operator\n",
    "        pop = pop[pop[:,-1].argsort()]\n",
    "    elif selection_operator == ',':\n",
    "        # *comma-selection* operator\n",
    "        pop[:lmb,:] = pop[pop[mu:,-1].argsort()]   # TODO: check this...\n",
    "    else:\n",
    "        raise ValueError()\n",
    "        \n",
    "    pop[mu:, :] = np.nan \n",
    "\n",
    "    #print(\"Selected individuals for the next generation:\\n\", pop)\n",
    "\n",
    "print(\"Result:\\n\", pop[:mu, :])"
   ]
  },
  {
   "cell_type": "markdown",
   "metadata": {},
   "source": [
    "### Some explanations about $\\sigma$ and $\\tau$"
   ]
  },
  {
   "cell_type": "code",
   "execution_count": null,
   "metadata": {},
   "outputs": [],
   "source": [
    "tau"
   ]
  },
  {
   "cell_type": "code",
   "execution_count": null,
   "metadata": {},
   "outputs": [],
   "source": [
    "import random\n",
    "\n",
    "sigma_list = [1.]\n",
    "\n",
    "for i in range(1000):\n",
    "    sigma_list.append(sigma_list[-1] * math.exp(tau * random.normalvariate(0., 1.)))         # mutate sigma\n",
    "\n",
    "#sigma = sigma * exp(tau*randn)         # mutate sigma\n",
    "\n",
    "plt.loglog(sigma_list);"
   ]
  },
  {
   "cell_type": "code",
   "execution_count": null,
   "metadata": {},
   "outputs": [],
   "source": [
    "x = np.linspace(-4, 4, 100)\n",
    "y1 = np.exp(1./math.sqrt(1.*d) * x)\n",
    "y2 = np.exp(1./math.sqrt(2.*d) * x)\n",
    "y3 = np.exp(1./math.sqrt(3.*d) * x)\n",
    "y4 = np.exp(1./(2.*d) * x)\n",
    "\n",
    "plt.plot(x, y1, label=\"tau1\")\n",
    "plt.plot(x, y2, label=\"tau2\")\n",
    "plt.plot(x, y3, label=\"tau3\")\n",
    "plt.plot(x, y4, label=\"tau4\")\n",
    "\n",
    "plt.legend();"
   ]
  },
  {
   "cell_type": "code",
   "execution_count": null,
   "metadata": {},
   "outputs": [],
   "source": [
    "tau1 = 1./math.sqrt(1.*d)\n",
    "tau2 = 1./math.sqrt(2.*d)\n",
    "tau3 = 1./math.sqrt(3.*d)\n",
    "tau4 = 1./(2.*d)\n",
    "\n",
    "x1 = np.exp(tau1 * np.random.normal(size=[100000]))\n",
    "x2 = np.exp(tau2 * np.random.normal(size=[100000]))\n",
    "x3 = np.exp(tau3 * np.random.normal(size=[100000]))\n",
    "x4 = np.exp(tau4 * np.random.normal(size=[100000]))\n",
    "\n",
    "bins = np.linspace(0, 10, 100)\n",
    "plt.hist(x1, bins=bins, alpha=0.5, label=r\"$\\exp\\left(\\frac{1}{\\sqrt{d}} \\mathcal{N}(0,1)\\right)$\", lw=2, histtype='step')\n",
    "plt.hist(x2, bins=bins, alpha=0.5, label=r\"$\\exp\\left(\\frac{1}{\\sqrt{2d}} \\mathcal{N}(0,1)\\right)$\", lw=2, histtype='step')\n",
    "plt.hist(x3, bins=bins, alpha=0.5, label=r\"$\\exp\\left(\\frac{1}{\\sqrt{3d}} \\mathcal{N}(0,1)\\right)$\", lw=2, histtype='step')\n",
    "plt.hist(x4, bins=bins, alpha=0.5, label=r\"$\\exp\\left(\\frac{1}{2d} \\mathcal{N}(0,1)\\right)$\", lw=2, histtype='step')\n",
    "\n",
    "plt.xlim(-0.25, 7)\n",
    "\n",
    "plt.axvline(1, color='k', linestyle='dotted')\n",
    "\n",
    "plt.legend(fontsize='x-large');"
   ]
  },
  {
   "cell_type": "markdown",
   "metadata": {},
   "source": [
    "## Other inplementations"
   ]
  },
  {
   "cell_type": "markdown",
   "metadata": {},
   "source": [
    "### PyAI"
   ]
  },
  {
   "cell_type": "markdown",
   "metadata": {},
   "source": [
    "#### Import required modules"
   ]
  },
  {
   "cell_type": "code",
   "execution_count": null,
   "metadata": {
    "tags": [
     "hide"
    ]
   },
   "outputs": [],
   "source": [
    "# Init matplotlib\n",
    "\n",
    "%matplotlib inline\n",
    "\n",
    "import matplotlib\n",
    "matplotlib.rcParams['figure.figsize'] = (8, 8)"
   ]
  },
  {
   "cell_type": "code",
   "execution_count": null,
   "metadata": {
    "tags": [
     "hide"
    ]
   },
   "outputs": [],
   "source": [
    "# Setup PyAI\n",
    "import sys\n",
    "sys.path.insert(0, '/Users/jdecock/git/pub/jdhp/pyai')"
   ]
  },
  {
   "cell_type": "code",
   "execution_count": null,
   "metadata": {},
   "outputs": [],
   "source": [
    "import numpy as np\n",
    "import time\n",
    "\n",
    "from pyai.optimize import SAES"
   ]
  },
  {
   "cell_type": "code",
   "execution_count": null,
   "metadata": {},
   "outputs": [],
   "source": [
    "# Plot functions\n",
    "from pyai.optimize.utils import plot_contour_2d_solution_space\n",
    "from pyai.optimize.utils import plot_2d_solution_space\n",
    "\n",
    "from pyai.optimize.utils import array_list_to_array\n",
    "from pyai.optimize.utils import plot_fx_wt_iteration_number\n",
    "from pyai.optimize.utils import plot_err_wt_iteration_number\n",
    "from pyai.optimize.utils import plot_err_wt_execution_time\n",
    "from pyai.optimize.utils import plot_err_wt_num_feval"
   ]
  },
  {
   "cell_type": "markdown",
   "metadata": {},
   "source": [
    "#### Define the objective function"
   ]
  },
  {
   "cell_type": "code",
   "execution_count": null,
   "metadata": {
    "tags": [
     "hide"
    ]
   },
   "outputs": [],
   "source": [
    "## Objective function: Rosenbrock function (Scipy's implementation)\n",
    "#func = scipy.optimize.rosen"
   ]
  },
  {
   "cell_type": "code",
   "execution_count": null,
   "metadata": {},
   "outputs": [],
   "source": [
    "# Set the objective function\n",
    "#from pyai.optimize.functions import sphere as func\n",
    "from pyai.optimize.functions import sphere2d as func\n",
    "#from pyai.optimize.functions import additive_gaussian_noise as noise\n",
    "from pyai.optimize.functions import multiplicative_gaussian_noise as noise\n",
    "#from pyai.optimize.functions import additive_poisson_noise as noise\n",
    "\n",
    "func.noise = noise      # Comment this line to use a deterministic objective function\n",
    "\n",
    "xmin = func.bounds[0]   # TODO\n",
    "xmax = func.bounds[1]   # TODO"
   ]
  },
  {
   "cell_type": "code",
   "execution_count": null,
   "metadata": {},
   "outputs": [],
   "source": [
    "%%time\n",
    "\n",
    "saes = SAES()\n",
    "\n",
    "func.do_eval_logs = True\n",
    "func.reset_eval_counters()\n",
    "func.reset_eval_logs()\n",
    "\n",
    "res = saes.minimize(func, init_pop_mu=0., init_pop_sigma=1.)\n",
    "\n",
    "func.do_eval_logs = False\n",
    "\n",
    "eval_x_array = np.array(func.eval_logs_dict['x']).T\n",
    "eval_error_array = np.array(func.eval_logs_dict['fx']) - func(func.arg_min)"
   ]
  },
  {
   "cell_type": "code",
   "execution_count": null,
   "metadata": {},
   "outputs": [],
   "source": [
    "res"
   ]
  },
  {
   "cell_type": "code",
   "execution_count": null,
   "metadata": {},
   "outputs": [],
   "source": [
    "plot_contour_2d_solution_space(func,\n",
    "                               xmin=xmin,\n",
    "                               xmax=xmax,\n",
    "                               xstar=res,\n",
    "                               xvisited=eval_x_array,\n",
    "                               title=\"SAES\");"
   ]
  },
  {
   "cell_type": "code",
   "execution_count": null,
   "metadata": {},
   "outputs": [],
   "source": [
    "plot_err_wt_num_feval(eval_error_array, x_log=True, y_log=True)"
   ]
  },
  {
   "cell_type": "code",
   "execution_count": null,
   "metadata": {},
   "outputs": [],
   "source": [
    "%%time\n",
    "\n",
    "eval_error_array_list = []\n",
    "\n",
    "NUM_RUNS = 100\n",
    "\n",
    "for run_index in range(NUM_RUNS):\n",
    "    saes = SAES()\n",
    "\n",
    "    func.do_eval_logs = True\n",
    "    func.reset_eval_counters()\n",
    "    func.reset_eval_logs()\n",
    "\n",
    "    res = saes.minimize(func, init_pop_mu=0., init_pop_sigma=1., lmb=6)\n",
    "\n",
    "    func.do_eval_logs = False\n",
    "\n",
    "    eval_error_array = np.array(func.eval_logs_dict['fx']) - func(func.arg_min)\n",
    "\n",
    "    print(\"x* =\", res)\n",
    "    \n",
    "    eval_error_array_list.append(eval_error_array);"
   ]
  },
  {
   "cell_type": "code",
   "execution_count": null,
   "metadata": {},
   "outputs": [],
   "source": [
    "plot_err_wt_num_feval(array_list_to_array(eval_error_array_list), x_log=True, y_log=True, plot_option=\"mean\")"
   ]
  },
  {
   "cell_type": "markdown",
   "metadata": {},
   "source": [
    "### Octave/Matlab\n",
    "\n",
    "An external Octave (Matlab) implementation is available there: https://homepages.fhv.at/hgb/downloads/mu_mu_I_lambda-ES.oct.\n",
    "\n",
    "### Mathematica\n",
    "\n",
    "An external Mathematica implementation is available there: https://homepages.fhv.at/hgb/downloads/mu_mu_I_lambda-ES.mat"
   ]
  }
 ],
 "metadata": {
  "anaconda-cloud": {},
  "celltoolbar": "Tags",
  "kernelspec": {
   "display_name": "Python [default]",
   "language": "python",
   "name": "python3"
  },
  "language_info": {
   "codemirror_mode": {
    "name": "ipython",
    "version": 3
   },
   "file_extension": ".py",
   "mimetype": "text/x-python",
   "name": "python",
   "nbconvert_exporter": "python",
   "pygments_lexer": "ipython3",
   "version": "3.5.3"
  }
 },
 "nbformat": 4,
 "nbformat_minor": 1
}
