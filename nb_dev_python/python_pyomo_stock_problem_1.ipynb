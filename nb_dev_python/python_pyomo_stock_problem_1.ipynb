{
 "cells": [
  {
   "cell_type": "markdown",
   "metadata": {},
   "source": [
    "# Pyomo - Stock problem v1"
   ]
  },
  {
   "cell_type": "markdown",
   "metadata": {},
   "source": [
    "Pyomo installation: see http://www.pyomo.org/installation\n",
    "\n",
    "```\n",
    "pip install pyomo\n",
    "```"
   ]
  },
  {
   "cell_type": "code",
   "execution_count": null,
   "metadata": {},
   "outputs": [],
   "source": [
    "%matplotlib inline\n",
    "\n",
    "import matplotlib.pyplot as plt"
   ]
  },
  {
   "cell_type": "code",
   "execution_count": null,
   "metadata": {},
   "outputs": [],
   "source": [
    "from pyomo.environ import *"
   ]
  },
  {
   "cell_type": "markdown",
   "metadata": {},
   "source": [
    "## Version 1 (P1)"
   ]
  },
  {
   "cell_type": "markdown",
   "metadata": {},
   "source": [
    "* $x_t < 0$ = buy $|x|$ at time $t$\n",
    "* $x_t > 0$ = sell $|x|$ at time $t$\n",
    "* $s_t$ = the battery level at time $t$"
   ]
  },
  {
   "cell_type": "markdown",
   "metadata": {},
   "source": [
    "$$\n",
    "\\begin{align}\n",
    "    \\max_{x_1,x_2,x_3} & \\quad p_1 x_1 + p_2 x_2 + p_3 x_3 \\quad\\quad\\quad\\quad \\text{(P1)} \\\\\n",
    "    \\text{s.t.}        & \\quad s_0 = 0 \\\\\n",
    "                       & \\quad s_t = s_{t-1} - x_t \\\\\n",
    "                       & \\quad x_t \\geq -(s_{\\max} - s_{t-1}) \\quad \\quad ~ \\text{can't buy more than the \"free space\" of the battery} \\\\\n",
    "                       & \\quad x_t \\leq s_{t-1}               \\quad \\quad \\quad \\quad \\quad \\quad \\text{can't sell more than what have been stored in the battery}\n",
    "\\end{align}\n",
    "$$"
   ]
  },
  {
   "cell_type": "code",
   "execution_count": null,
   "metadata": {},
   "outputs": [],
   "source": [
    "# Cost of energy on the market\n",
    "\n",
    "#cost = [10, 30, 20]          # -> -100, 100, 0\n",
    "#cost = [10, 30, 10, 30]      # -> [-100.,  100., -100.,  100.]\n",
    "#cost = [10, 30, 10, 30, 30]  # -> [-100.,  100., -100.,  100.,    0.]\n",
    "#cost = [10, 20, 30, 40]      # -> [-100.,  0., 0.,  100.]\n",
    "#cost = [10, 30, 20, 50]\n",
    "price = [10, 30, 20, 50]\n",
    "\n",
    "stock_max = 100      # battery capacity"
   ]
  },
  {
   "cell_type": "code",
   "execution_count": null,
   "metadata": {},
   "outputs": [],
   "source": [
    "T = list(range(len(price) + 1))       # num decision variables"
   ]
  },
  {
   "cell_type": "code",
   "execution_count": null,
   "metadata": {},
   "outputs": [],
   "source": [
    "plt.plot(T[:-1], price, \"o-\")\n",
    "plt.xlabel(\"Unit of time (t)\")\n",
    "plt.ylabel(\"Price of one unit of energy (p)\")\n",
    "plt.title(\"Price of energy on the market\")\n",
    "plt.show();"
   ]
  },
  {
   "cell_type": "code",
   "execution_count": null,
   "metadata": {},
   "outputs": [],
   "source": [
    "model = ConcreteModel(name=\"Stock problem v1\")\n",
    "\n",
    "model.x = Var(T)\n",
    "model.s = Var(T)\n",
    "\n",
    "\n",
    "def objective_fn(model):\n",
    "    return sum(price[t-1] * model.x[t] for t in T if t != 0)\n",
    "\n",
    "model.obj = Objective(rule=objective_fn, sense=maximize)\n",
    "\n",
    "########\n",
    "\n",
    "model.constraint_s0 = Constraint(expr = model.s[0] == 0)\n",
    "\n",
    "def constraint_stock_level(model, t):\n",
    "    if t > 0:\n",
    "        return model.s[t] == model.s[t-1] - model.x[t]\n",
    "    else:\n",
    "        return Constraint.Skip\n",
    "\n",
    "model.constraint_st = Constraint(T, rule=constraint_stock_level)\n",
    "\n",
    "\n",
    "def constraint_decision_inf(model, t):\n",
    "    if t > 0:\n",
    "        return model.x[t] >= -(stock_max - model.s[t-1])\n",
    "    else:\n",
    "        return Constraint.Skip\n",
    "\n",
    "model.constraint_xt_inf = Constraint(T, rule=constraint_decision_inf)\n",
    "\n",
    "\n",
    "def constraint_decision_sup(model, t):\n",
    "    if t > 0:\n",
    "        return model.x[t] <= model.s[t-1]\n",
    "    else:\n",
    "        return Constraint.Skip\n",
    "\n",
    "model.constraint_xt_sup = Constraint(T, rule=constraint_decision_sup)\n",
    "\n",
    "########\n",
    "\n",
    "model.pprint()\n",
    "\n",
    "# @tail:\n",
    "print()\n",
    "print(\"-\" * 60)\n",
    "print()\n",
    "\n",
    "opt = SolverFactory('glpk')\n",
    "\n",
    "results = opt.solve(model)    # solves and updates instance\n",
    "\n",
    "model.display()\n",
    "\n",
    "print()\n",
    "print(\"Optimal solution: \", [value(model.x[t]) for t in T if t != 0])\n",
    "print(\"Gain of the optimal solution: \", value(model.obj))\n",
    "# @:tail"
   ]
  },
  {
   "cell_type": "markdown",
   "metadata": {},
   "source": [
    "## Version 2 (P2)"
   ]
  },
  {
   "cell_type": "markdown",
   "metadata": {},
   "source": [
    "$$\n",
    "\\begin{align}\n",
    "    \\max_{x_1,x_2,x_3} & \\quad p_1 x_1 + p_2 x_2 + p_3 x_3 \\quad\\quad\\quad\\quad \\text{(P1)} \\\\\n",
    "    \\text{s.t.}        & \\quad s_0 = 0 \\\\\n",
    "                       & \\quad s_t = s_{t-1} - x_t \\\\\n",
    "                       & \\quad x_t \\geq -(s_{\\max} - s_{t-1}) \\quad \\quad ~ \\text{can't buy more than the \"free space\" of the battery} \\\\\n",
    "                       & \\quad x_t \\leq s_{t-1}               \\quad \\quad \\quad \\quad \\quad \\quad \\text{can't sell more than what have been stored in the battery} \\\\\n",
    "                       & \\\\\n",
    "                       & \\\\\n",
    "    \\Leftrightarrow \\min_{x_1,x_2,x_3} & \\quad - p_1 x_1 - p_2 x_2 - p_3 x_3 \\\\\n",
    "    \\text{s.t.}        & \\quad s_0 = 0 \\\\\n",
    "                       & \\quad s_t = s_{t-1} - x_t \\\\\n",
    "                       & \\quad x_t \\geq -(s_{\\max} - s_{t-1}) \\Leftrightarrow x_t \\geq -s_{\\max} + s_{t-1} \\\\\n",
    "                       & \\quad x_t \\leq s_{t-1} \\\\\n",
    "                       & \\\\\n",
    "                       & \\\\\n",
    "    \\Leftrightarrow \\min_{x_1,x_2,x_3} & \\quad - p_1 x_1 - p_2 x_2 - p_3 x_3 \\\\\n",
    "    \\text{s.t.}        & \\quad s_1 = -x_1 \\\\\n",
    "                       & \\quad x_1 \\geq -s_{\\max} \\\\\n",
    "                       & \\quad x_1 \\leq 0 \\\\\n",
    "                       & \\quad s_2 = s_1 - x_2 = -x_1 - x_2 \\\\\n",
    "                       & \\quad x_2 \\geq -s_{\\max} + s_1 \\Leftrightarrow x_2 \\geq -s_{\\max} - x_1 \\\\\n",
    "                       & \\quad x_2 \\leq s_1 \\Leftrightarrow x_2 \\leq -x_1 \\\\\n",
    "                       & \\quad s_3 = s_2 - x_3 = -x_1 - x_2 - x_3 \\\\\n",
    "                       & \\quad x_3 \\geq -s_{\\max} + s_2 \\Leftrightarrow x_3 \\geq -s_{\\max} - x_1 - x_2 \\\\\n",
    "                       & \\quad x_3 \\leq s_2 \\Leftrightarrow x_3 \\leq -x_1 - x_2 \\\\\n",
    "                       & \\\\\n",
    "                       & \\\\\n",
    "    \\Leftrightarrow \\min_{x_1,x_2,x_3} & \\quad - p_1 x_1 - p_2 x_2 - p_3 x_3 \\\\\n",
    "    \\text{s.t.}        & \\quad x_1 \\geq -s_{\\max} \\\\\n",
    "                       & \\quad x_1 \\leq 0 \\\\\n",
    "                       & \\quad x_2 \\geq -s_{\\max} - x_1 \\\\\n",
    "                       & \\quad x_2 \\leq -x_1 \\\\\n",
    "                       & \\quad x_3 \\geq -s_{\\max} - x_1 - x_2 \\\\\n",
    "                       & \\quad x_3 \\leq -x_1 - x_2 \\\\\n",
    "                       & \\\\\n",
    "                       & \\\\\n",
    "    \\Leftrightarrow \\min_{x_1,x_2,x_3} & \\quad - p_1 x_1 - p_2 x_2 - p_3 x_3 \\\\\n",
    "    \\text{s.t.}        & \\quad x_1 \\geq -s_{\\max} \\\\\n",
    "                       & \\quad x_1 \\leq 0 \\\\\n",
    "                       & \\quad x_1 + x_2 \\geq -s_{\\max} \\\\\n",
    "                       & \\quad x_1 + x_2 \\leq 0 \\\\\n",
    "                       & \\quad x_1 + x_2 + x_3 \\geq -s_{\\max} \\\\\n",
    "                       & \\quad x_1 + x_2 + x_3 \\leq 0 \\\\\n",
    "                       & \\\\\n",
    "                       & \\\\\n",
    "    \\Leftrightarrow \\min_{x_1,x_2,x_3} & \\quad - p_1 x_1 - p_2 x_2 - p_3 x_3 \\quad\\quad\\quad\\quad \\text{(P2)} \\\\\n",
    "    \\text{s.t.}        & \\quad -x_1 \\leq s_{\\max} \\\\\n",
    "                       & \\quad  x_1 \\leq 0 \\\\\n",
    "                       & \\quad -x_1 - x_2 \\leq s_{\\max} \\\\\n",
    "                       & \\quad  x_1 + x_2 \\leq 0 \\\\\n",
    "                       & \\quad -x_1 - x_2 - x_3 \\leq s_{\\max} \\\\\n",
    "                       & \\quad  x_1 + x_2 + x_3 \\leq 0 \\\\\n",
    "                       & \\\\\n",
    "                       & \\\\\n",
    "\\end{align}\n",
    "$$\n",
    " \n",
    "$$\n",
    "\\color{\\red}{\n",
    "\\boldsymbol{c} = \\begin{pmatrix}\n",
    "    -p_1 \\\\\n",
    "    -p_2 \\\\\n",
    "    -p_3\n",
    "\\end{pmatrix}\n",
    "}\n",
    "\\quad\n",
    "\\color{\\orange}{\n",
    "\\boldsymbol{A} = \\begin{pmatrix}\n",
    "    -1 &  0 &  0 \\\\\n",
    "     1 &  0 &  0 \\\\\n",
    "    -1 & -1 &  0 \\\\\n",
    "     1 &  1 &  0 \\\\\n",
    "    -1 & -1 & -1 \\\\\n",
    "     1 &  1 &  1\n",
    "\\end{pmatrix}\n",
    "}\n",
    "\\quad\n",
    "\\color{\\green}{\n",
    "\\boldsymbol{b} = \\begin{pmatrix}\n",
    "    s_{\\max} \\\\\n",
    "    0 \\\\\n",
    "    s_{\\max} \\\\\n",
    "    0 \\\\\n",
    "    s_{\\max} \\\\\n",
    "    0\n",
    "\\end{pmatrix}\n",
    "}\n",
    "\\quad\n",
    "\\color{\\purple}{\n",
    "\\boldsymbol{B} = \\begin{pmatrix}\n",
    "    - & - \\\\\n",
    "    - & - \\\\\n",
    "    - & -\n",
    "\\end{pmatrix}\n",
    "}\n",
    "$$"
   ]
  },
  {
   "cell_type": "code",
   "execution_count": null,
   "metadata": {},
   "outputs": [],
   "source": [
    "T = list(range(len(price)))       # num decision variables\n",
    "M = list(range(len(price) * 2))       # num decision variables"
   ]
  },
  {
   "cell_type": "code",
   "execution_count": null,
   "metadata": {},
   "outputs": [],
   "source": [
    "plt.plot(T, price, \"o-\")\n",
    "plt.xlabel(\"Unit of time (t)\")\n",
    "plt.ylabel(\"Price of one unit of energy (p)\")\n",
    "plt.title(\"Price of energy on the market\")\n",
    "plt.show();"
   ]
  },
  {
   "cell_type": "code",
   "execution_count": null,
   "metadata": {},
   "outputs": [],
   "source": [
    "p = -np.array(price)"
   ]
  },
  {
   "cell_type": "code",
   "execution_count": null,
   "metadata": {},
   "outputs": [],
   "source": [
    "A = np.repeat(np.tril(np.ones(len(price))), 2, axis=0)\n",
    "A[::2, :] *= -1\n",
    "A"
   ]
  },
  {
   "cell_type": "code",
   "execution_count": null,
   "metadata": {},
   "outputs": [],
   "source": [
    "b = np.zeros(A.shape[0])\n",
    "b[::2] = stock_max\n",
    "b"
   ]
  },
  {
   "cell_type": "code",
   "execution_count": null,
   "metadata": {},
   "outputs": [],
   "source": [
    "model = ConcreteModel(name=\"Stock problem v2\")\n",
    "\n",
    "model.x = Var(T)\n",
    "\n",
    "\n",
    "def objective_fn(model):\n",
    "    return sum(p[t] * model.x[t] for t in T)\n",
    "\n",
    "model.obj = Objective(rule=objective_fn)\n",
    "\n",
    "\n",
    "def constraint_fn(model, m):\n",
    "    return sum(A[m][t] * model.x[t] for t in T) <= b[m]\n",
    "\n",
    "model.constraint = Constraint(M, rule=constraint_fn)  \n",
    "\n",
    "model.pprint()\n",
    "\n",
    "# @tail:\n",
    "print()\n",
    "print(\"-\" * 60)\n",
    "print()\n",
    "\n",
    "opt = SolverFactory('glpk')\n",
    "\n",
    "results = opt.solve(model)    # solves and updates instance\n",
    "\n",
    "model.display()\n",
    "\n",
    "print()\n",
    "print(\"Optimal solution: \", [value(model.x[t]) for t in T])\n",
    "print(\"Gain of the optimal solution: \", value(model.obj))\n",
    "# @:tail"
   ]
  }
 ],
 "metadata": {
  "kernelspec": {
   "display_name": "Python 3",
   "language": "python",
   "name": "python3"
  },
  "language_info": {
   "codemirror_mode": {
    "name": "ipython",
    "version": 3
   },
   "file_extension": ".py",
   "mimetype": "text/x-python",
   "name": "python",
   "nbconvert_exporter": "python",
   "pygments_lexer": "ipython3",
   "version": "3.7.1"
  }
 },
 "nbformat": 4,
 "nbformat_minor": 2
}
