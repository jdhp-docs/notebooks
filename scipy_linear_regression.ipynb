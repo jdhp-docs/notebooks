{
 "cells": [
  {
   "cell_type": "markdown",
   "metadata": {},
   "source": [
    "# Linear regression with Scipy"
   ]
  },
  {
   "cell_type": "markdown",
   "metadata": {},
   "source": [
    "## Import directives"
   ]
  },
  {
   "cell_type": "code",
   "execution_count": null,
   "metadata": {
    "collapsed": true
   },
   "outputs": [],
   "source": [
    "%matplotlib inline\n",
    "from scipy import stats\n",
    "import numpy as np"
   ]
  },
  {
   "cell_type": "markdown",
   "metadata": {},
   "source": [
    "## Linear regression"
   ]
  },
  {
   "cell_type": "markdown",
   "metadata": {},
   "source": [
    "See:\n",
    "- http://scipy-cookbook.readthedocs.io/items/LinearRegression.html\n",
    "- https://docs.scipy.org/doc/scipy-0.14.0/reference/generated/scipy.stats.linregress.html"
   ]
  },
  {
   "cell_type": "code",
   "execution_count": null,
   "metadata": {
    "collapsed": false
   },
   "outputs": [],
   "source": [
    "x = np.arange(1, 10, 1)\n",
    "y = 2. * x + 1.\n",
    "\n",
    "plt.plot(x, y, \".\")\n",
    "\n",
    "slope, intercept, r_value, p_value, std_err = stats.linregress(x, y)\n",
    "\n",
    "print(slope, intercept, r_value, p_value, std_err)\n",
    "print(\"r-squared:\", r_value**2)"
   ]
  },
  {
   "cell_type": "code",
   "execution_count": null,
   "metadata": {
    "collapsed": false
   },
   "outputs": [],
   "source": [
    "x = np.arange(1., 10., 1.)\n",
    "x += np.random.normal(0, 1, x.shape[0])\n",
    "\n",
    "y = 2. * x + 1.\n",
    "y += np.random.normal(0, 1, x.shape[0])\n",
    "\n",
    "slope, intercept, r_value, p_value, std_err = stats.linregress(x, y)\n",
    "\n",
    "print(slope, intercept, r_value, p_value, std_err)\n",
    "print(\"r-squared:\", r_value**2)\n",
    "\n",
    "plt.plot(x, y, \".\")\n",
    "plt.plot([x.min(), x.max()], [slope * x.min() + intercept, slope * x.max() + intercept], \"-r\")"
   ]
  },
  {
   "cell_type": "code",
   "execution_count": null,
   "metadata": {
    "collapsed": false
   },
   "outputs": [],
   "source": [
    "x = np.random.random(10)\n",
    "y = np.random.random(10)\n",
    "\n",
    "slope, intercept, r_value, p_value, std_err = stats.linregress(x, y)\n",
    "\n",
    "plt.plot(x, y, \".\")\n",
    "plt.plot(x, y, \".\")\n",
    "\n",
    "print(slope, intercept, r_value, p_value, std_err)\n",
    "print(\"r-squared:\", r_value**2)\n"
   ]
  },
  {
   "cell_type": "code",
   "execution_count": null,
   "metadata": {
    "collapsed": false
   },
   "outputs": [],
   "source": [
    "from scipy import linspace, polyval, polyfit, sqrt, stats, randn\n",
    "from pylab import plot, title, show , legend\n",
    "\n",
    "#Linear regression example\n",
    "# This is a very simple example of using two scipy tools\n",
    "# for linear regression, polyfit and stats.linregress\n",
    "\n",
    "#Sample data creation\n",
    "#number of points\n",
    "n=50\n",
    "t=linspace(-5,5,n)\n",
    "#parameters\n",
    "a=0.8; b=-4\n",
    "x=polyval([a,b],t)\n",
    "#add some noise\n",
    "xn=x+randn(n)\n",
    "\n",
    "#Linear regressison -polyfit - polyfit can be used other orders polys\n",
    "(ar,br)=polyfit(t,xn,1)\n",
    "xr=polyval([ar,br],t)\n",
    "#compute the mean square error\n",
    "err=sqrt(sum((xr-xn)**2)/n)\n",
    "\n",
    "print('Linear regression using polyfit')\n",
    "print('parameters: a=%.2f b=%.2f \\nregression: a=%.2f b=%.2f, ms error= %.3f' % (a,b,ar,br,err))\n",
    "\n",
    "#matplotlib ploting\n",
    "title('Linear Regression Example')\n",
    "plot(t,x,'g.--')\n",
    "plot(t,xn,'k.')\n",
    "plot(t,xr,'r.-')\n",
    "legend(['original','plus noise', 'regression'])\n",
    "\n",
    "show()\n",
    "\n",
    "#Linear regression using stats.linregress\n",
    "(a_s,b_s,r,tt,stderr)=stats.linregress(t,xn)\n",
    "print('Linear regression using stats.linregress')\n",
    "print('parameters: a=%.2f b=%.2f \\nregression: a=%.2f b=%.2f, std error= %.3f' % (a,b,a_s,b_s,stderr))"
   ]
  }
 ],
 "metadata": {
  "anaconda-cloud": {},
  "kernelspec": {
   "display_name": "Python [default]",
   "language": "python",
   "name": "python3"
  },
  "language_info": {
   "codemirror_mode": {
    "name": "ipython",
    "version": 3
   },
   "file_extension": ".py",
   "mimetype": "text/x-python",
   "name": "python",
   "nbconvert_exporter": "python",
   "pygments_lexer": "ipython3",
   "version": "3.5.2"
  }
 },
 "nbformat": 4,
 "nbformat_minor": 1
}