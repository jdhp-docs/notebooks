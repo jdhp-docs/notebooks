{
 "cells": [
  {
   "cell_type": "markdown",
   "metadata": {},
   "source": [
    "Auteur: F. Rosenblatt\n",
    "\n",
    "Reference: F. Rosenblatt 1958 *The Perceptron: a Probabilistic Model for Information Storage and Organization in the Brain* Psychological Review, 65, 386-408\n",
    "\n",
    "Le modéle est constitué des éléments suivants:\n",
    "- des *unités sensitives (S-units)*: réagissent à un stimuli extérieur (lumière, son, touché, ...)\n",
    "    - retournent `0` ou `1`:\n",
    "        - `1` si le signal d'entrée dépasse un seuil $\\theta$\n",
    "        - `0` sinon\n",
    "- des *unités d'associations (A-units)*\n",
    "    - retournent `0` ou `1`:\n",
    "        - `1` si la somme des signaux d'entrée dépasse un seuil $\\theta$\n",
    "        - `0` sinon\n",
    "- des *unités de réponse (R-units)*: sortie du réseau\n",
    "    - retournent `1`, `-1` ou une valeur indéterminée:\n",
    "        - `1` si la somme des signaux d'entrée est positive\n",
    "        - `-1` si elle est négative\n",
    "        - une valeur indéterminée si elle est égale à 0\n",
    "- une *matrice d'intéractions*"
   ]
  },
  {
   "cell_type": "markdown",
   "metadata": {},
   "source": [
    "\n",
    "Calcul de $e_j$ :\n",
    "\n",
    "$$\n",
    "e_j = \\sum s_i w_{ij} = si1 . wij1 + si2 . wij2 + si3 . wij3 + si4 . wij4\n",
    "$$\n",
    "\n",
    "Calcul du nouveau poid $w$ :\n",
    "\n",
    "$$\n",
    "w_{ij}(t+1) = w_{ij}(t) + n (d_j - s_j) s_i\n",
    "$$"
   ]
  },
  {
   "cell_type": "markdown",
   "metadata": {},
   "source": [
    "Nombre de neurones associatifs (A-units) :\n",
    "    \n",
    "    Nombre d'unités sensitives : 4\n",
    "    \n",
    "    Entrez le pas d'apprentissage ƞ :\n",
    "ƞ : 1\n",
    "\n",
    "    Entrez les poids de depart des synapses du réseau :\n",
    "wij0 : \n",
    "    \n",
    "    Entrez le motif à apprendre :\n",
    "si1 : si2 : si3 : si4 : "
   ]
  },
  {
   "cell_type": "code",
   "execution_count": null,
   "metadata": {
    "collapsed": false
   },
   "outputs": [],
   "source": [
    "%matplotlib inline\n",
    "\n",
    "import numpy as np\n",
    "import matplotlib\n",
    "import matplotlib.pyplot as plt\n",
    "\n",
    "import matplotlib.patches as patches\n",
    "import matplotlib.lines as mlines\n",
    "import matplotlib.patches as mpatches\n",
    "\n",
    "import itertools"
   ]
  },
  {
   "cell_type": "code",
   "execution_count": null,
   "metadata": {
    "collapsed": false
   },
   "outputs": [],
   "source": [
    "def init_figure(size_x=10, size_y=5):\n",
    "    fig, ax = plt.subplots(figsize=(size_x, size_y))\n",
    "    ax.set_axis_off()\n",
    "    ax.axis('equal')\n",
    "    ax.set_xlim(-10, 20)   # TODO\n",
    "    return fig, ax\n",
    "\n",
    "def draw_neuron(axis,\n",
    "                center,\n",
    "                radius,\n",
    "                fill_color='w',\n",
    "                line_color='k',\n",
    "                line_width=1,\n",
    "                ag_func=None,\n",
    "                tr_func=None):\n",
    "    \n",
    "    #circle = plt.Circle(center, radius, fill=True, color=fill_color, alpha=0)\n",
    "    #axis.add_artist(circle)\n",
    "    \n",
    "    circle = patches.Circle(center,\n",
    "                            radius=1,\n",
    "                            fill=True,\n",
    "                            edgecolor=line_color,\n",
    "                            facecolor=fill_color)\n",
    "    circle.set_zorder(20)  # put the circle on top\n",
    "    axis.add_patch(circle)\n",
    "    \n",
    "    #circle = plt.Circle(center, radius, fill=False, color=line_color)\n",
    "    #ax.add_artist(circle)\n",
    "\n",
    "    x = center[0]\n",
    "    y = center[1]\n",
    "    \n",
    "    line = mlines.Line2D([x, x],\n",
    "                         [y - radius + 0.05, y + radius - 0.05],\n",
    "                         lw=line_width,\n",
    "                         color=line_color)\n",
    "    line.set_zorder(21)\n",
    "    axis.add_line(line)\n",
    "    \n",
    "    # Agregation function ######################\n",
    "    \n",
    "    if ag_func == \"sum\":\n",
    "        line = mlines.Line2D([x - radius/4., x - 3 * radius/4., x - radius/2., x - 3. * radius/4., x - radius/4.],\n",
    "                             [y + radius/4., y + radius/4., y, y - radius/4., y - radius/4.],\n",
    "                             lw=line_width,\n",
    "                             color=line_color)\n",
    "        line.set_zorder(21)\n",
    "        axis.add_line(line)\n",
    "    \n",
    "    # Transition function ######################\n",
    "    \n",
    "    if tr_func == \"linear\":\n",
    "        line = mlines.Line2D([x + radius/4., x + 3. * radius/4.],\n",
    "                             [y - radius/4., y + radius/4.],\n",
    "                             lw=line_width,\n",
    "                             color=line_color)\n",
    "        line.set_zorder(21)\n",
    "        axis.add_line(line)\n",
    "    elif tr_func == \"logistic\":\n",
    "        line = mlines.Line2D([x + radius/4., x + radius/2., x + radius/2., x + 3. * radius/4.],\n",
    "                             [y - radius/4., y - radius/4., y + radius/4., y + radius/4.],\n",
    "                             lw=line_width,\n",
    "                             color=line_color)\n",
    "        line.set_zorder(21)\n",
    "        axis.add_line(line)\n",
    "\n",
    "        \n",
    "def draw_synapse(axis, p1, p2, color='k', line_width=1, label=\"\", label_position=0.25, label_offset_y=0.3):\n",
    "    line = mlines.Line2D([p1[0], p2[0]],\n",
    "                         [p1[1], p2[1]],\n",
    "                         lw=line_width,\n",
    "                         color=color)\n",
    "    line.set_zorder(10)\n",
    "    axis.add_line(line)\n",
    "    \n",
    "    plt.text(x=p1[0] + label_position * (p2[0]-p1[0]),\n",
    "             y=p1[1] + label_position * (p2[1]-p1[1]) + label_offset_y,\n",
    "             s=label)\n",
    "\n",
    "\n",
    "def draw_neural_network():\n",
    "    fig, ax = init_figure()\n",
    "\n",
    "    draw_synapse(ax, (-2, -6), (0, -6), label=r\"$x_4$\", label_position=0)\n",
    "    draw_synapse(ax, (-2, -2), (0, -2), label=r\"$x_3$\", label_position=0)\n",
    "    draw_synapse(ax, (-2,  2), (0,  2), label=r\"$x_2$\", label_position=0)\n",
    "    draw_synapse(ax, (-2,  6), (0,  6), label=r\"$x_1$\", label_position=0)\n",
    "\n",
    "    draw_synapse(ax, (0, -6), (10, 0), label=r\"$w_4$\", label_offset_y=-0.7)\n",
    "    draw_synapse(ax, (0, -2), (10, 0), label=r\"$w_3$\", label_offset_y=-0.7)\n",
    "    draw_synapse(ax, (0, 2),  (10, 0), label=r\"$w_2$\")\n",
    "    draw_synapse(ax, (0, 6),  (10, 0), label=r\"$w_1$\")\n",
    "\n",
    "    draw_synapse(ax, (10, 0), (12, 0), label_position=0.8, label=r\"$y$\")\n",
    "\n",
    "    draw_neuron(ax, (0, -6), 1, tr_func=\"logistic\")\n",
    "    draw_neuron(ax, (0, -2), 1, tr_func=\"logistic\")\n",
    "    draw_neuron(ax, (0, 2),  1, tr_func=\"logistic\")\n",
    "    draw_neuron(ax, (0, 6),  1, tr_func=\"logistic\")\n",
    "\n",
    "    draw_neuron(ax, (10, 0), 1, ag_func=\"sum\", tr_func=\"logistic\")\n",
    "\n",
    "draw_neural_network()"
   ]
  },
  {
   "cell_type": "code",
   "execution_count": null,
   "metadata": {
    "collapsed": true
   },
   "outputs": [],
   "source": [
    "w = np.array([0., 0., 0., 0., 2.])\n",
    "nu = 1."
   ]
  },
  {
   "cell_type": "code",
   "execution_count": null,
   "metadata": {
    "collapsed": true
   },
   "outputs": [],
   "source": [
    "def update_w(w, x, yd):\n",
    "    s = np.sum(x * w)\n",
    "    yo = 1. if s >= 0. else 0.\n",
    "    w = w + nu * (yd - yo) * x\n",
    "    print(x, s, yo, yd, w)\n",
    "    return w"
   ]
  },
  {
   "cell_type": "code",
   "execution_count": null,
   "metadata": {
    "collapsed": false
   },
   "outputs": [],
   "source": [
    "examples = tuple(reversed(tuple(itertools.product((0., 1.), repeat=4))))\n",
    "\n",
    "for it in range(4):\n",
    "    print(it)\n",
    "    for x in examples:\n",
    "        yd = 1. if x == (1., 0., 0., 1.) else 0.\n",
    "        w = update_w(w, np.array(x + (-1, )), yd)"
   ]
  }
 ],
 "metadata": {
  "anaconda-cloud": {},
  "kernelspec": {
   "display_name": "Python [default]",
   "language": "python",
   "name": "python3"
  },
  "language_info": {
   "codemirror_mode": {
    "name": "ipython",
    "version": 3
   },
   "file_extension": ".py",
   "mimetype": "text/x-python",
   "name": "python",
   "nbconvert_exporter": "python",
   "pygments_lexer": "ipython3",
   "version": "3.5.2"
  }
 },
 "nbformat": 4,
 "nbformat_minor": 1
}
