{
 "cells": [
  {
   "cell_type": "markdown",
   "metadata": {
    "tags": [
     "meta",
     "draft"
    ]
   },
   "source": [
    "# Transformée en ondelettes"
   ]
  },
  {
   "cell_type": "markdown",
   "metadata": {
    "tags": [
     "hide"
    ]
   },
   "source": [
    "**TODO**:\n",
    "- ajouter notation simplifiée\n",
    "    - wavelet-transform-slides\n",
    "    - slides de Bologne\n",
    "- ajouter notation JL\n",
    "\n",
    "See also\n",
    "* http://registry.gimp.org/node/11742\n",
    "* https://hubpages.com/art/Gimp-tutorial-for-the-Wavelet-Decompose-plug-in\n",
    "* https://brainbyproduct.wordpress.com/2007/07/07/how-to-heal-photos-without-the-magic-tool/\n",
    "* https://brainbyproduct.wordpress.com/2007/07/09/even-better-healing-without-the-magic-tool/"
   ]
  },
  {
   "cell_type": "code",
   "execution_count": null,
   "metadata": {
    "tags": [
     "hide"
    ]
   },
   "outputs": [],
   "source": [
    "%matplotlib inline\n",
    "\n",
    "import matplotlib\n",
    "matplotlib.rcParams['figure.figsize'] = (7, 7)\n",
    "\n",
    "from astropy.io import fits\n",
    "import numpy as np\n",
    "import matplotlib.pyplot as plt\n",
    "\n",
    "from matplotlib.colors import LogNorm\n",
    "\n",
    "import PIL.Image as pil_img     # PIL.Image is a module not a class..."
   ]
  },
  {
   "cell_type": "markdown",
   "metadata": {},
   "source": [
    "### Wavelets: mother wavelet $\\Psi$\n",
    "\n",
    "Family $\\psi_{a,b}$ (where $\\left( {a , b} \\right) \\in{\\mathbb{R^{+*} }\\times\\mathbb{R}}$) is defined from the \"mother wavelet\" $\\Psi$:\n",
    "\n",
    "$$\\forall t \\in \\mathbb{R}, \\quad \\psi_{\\color{green}{a}, \\color{blue}{b}}(t) = \\frac{1}{\\sqrt{\\color{green}{a}}} \\Psi\\left(\\frac{t-\\color{blue}{b}}{\\color{green}{a}}\\right)$$\n",
    "\n",
    "where\n",
    "* $a$ is the scale factor,\n",
    "* $b$ is the translation factor."
   ]
  },
  {
   "cell_type": "markdown",
   "metadata": {},
   "source": [
    "### Wavelets: general case (1D continuous case)\n",
    "\n",
    "The original signal $f$ defined as:\n",
    "\n",
    "$$f(t) = \\frac{1}{C_{\\Psi}} \\int_{-\\infty}^{\\infty} \\int_{-\\infty}^{\\infty} \\frac{\\color{red}{g(a,b)}}{|\\color{green}{a}|^2} \\psi_{\\color{green}{a},\\color{blue}{b}}(t) ~ da ~ db$$\n",
    "\n",
    "where $C_{\\Psi}$ is a constant which depends on the chosen wavelet mother $\\Psi$.\n",
    "\n",
    "Weights are given by:\n",
    "\n",
    "$$\\color{red}{g(a, b)} = \\int_{-\\infty}^{\\infty} f(t) ~ \\psi_{\\color{green}{a}, \\color{blue}{b}}^*(t) ~ dt$$\n",
    "\n",
    "where $z*$ is the complex conjugate of $z$."
   ]
  },
  {
   "cell_type": "markdown",
   "metadata": {},
   "source": [
    "**wavelet_transform(input_image, num_scales):**\n",
    "\n",
    "---\n",
    "\n",
    "scales[0] $\\leftarrow$ input_image\n",
    "\n",
    "**for** $i \\in [0, \\dots, \\text{num_scales} - 2]$\n",
    "\n",
    "$\\quad$ scales[$i + 1$] $\\leftarrow$ convolve(scales[$i$], $i$)\n",
    "\n",
    "$\\quad$ scales[$i$] $\\leftarrow$ scales[$i$] - scales[$i + 1$]\n",
    "\n",
    "---\n",
    "\n",
    "**convolve(scale, $s_i$):**\n",
    "\n",
    "---\n",
    "\n",
    "$c_0 \\leftarrow 3/8$\n",
    "\n",
    "$c_1 \\leftarrow 1/4$\n",
    "\n",
    "$c_2 \\leftarrow 1/16$\n",
    "\n",
    "$s \\leftarrow \\lfloor 2^{s_i} + 0.5 \\rfloor$\n",
    "\n",
    "**for** all columns $x_i$\n",
    "\n",
    "$\\quad$ **for** all rows $y_i$\n",
    "\n",
    "$\\quad\\quad$ scale[$x_i$, $y_i$] $\\leftarrow$ $c_0$ . scale[$x_i$, $y_i$] + $c_1$ . scale[$x_i-s$, $y_i$] + $c_1$ . scale[$x_i+s$, $y_i$] + $c_2$ . scale[$x_i-2s$, $y_i$] + $c_2$ . scale[$x_i+2s$, $y_i$]\n",
    "\n",
    "**for** all columns $x_i$\n",
    "\n",
    "$\\quad$ **for** all rows $y_i$\n",
    "\n",
    "$\\quad\\quad$ scale[$x_i$, $y_i$] $\\leftarrow$ $c_0$ . scale[$x_i$, $y_i$] + $c_1$ . scale[$x_i$, $y_i-s$] + $c_1$ . scale[$x_i$, $y_i+s$] + $c_2$ . scale[$x_i$, $y_i-2s$] + $c_2$ . scale[$x_i$, $y_i+2s$]"
   ]
  },
  {
   "cell_type": "raw",
   "metadata": {},
   "source": [
    "## Default wavelet implemetation\n",
    "### *mr_transform()* function\n",
    "\n",
    "Implemented in *~/bin/isap/cxx/sparse2d/src/libsparse2d/MR_Trans.cc*\n",
    "\n",
    "```cpp\n",
    "static void mr_transform (Ifloat &Image,\n",
    "                          MultiResol &MR_Transf,\n",
    "                          Bool EdgeLineTransform,\n",
    "                          type_border Border,\n",
    "                          Bool Details) {\n",
    "    // [...]\n",
    "    MR_Transf.band(0) = Image;\n",
    "    for (s = 0; s < Nbr_Plan -1; s++) {\n",
    "       smooth_bspline (MR_Transf.band(s),MR_Transf.band(s+1),Border,s);\n",
    "       MR_Transf.band(s) -= MR_Transf.band(s+1);\n",
    "    }\n",
    "    // [...]\n",
    "}\n",
    "```"
   ]
  },
  {
   "cell_type": "raw",
   "metadata": {},
   "source": [
    "## Default wavelet implemetation\n",
    "### *smooth_bspline()* function (the \"convolve\" function in the previous pseudo-code)\n",
    "\n",
    "Implemented in *isap/cxx/sparse2d/src/libsparse2d/IM_Smooth.cc*\n",
    "\n",
    "```cpp\n",
    "void smooth_bspline (const Ifloat & Im_in,\n",
    "                     Ifloat &Im_out,\n",
    "                     type_border Type, int Step_trou) {\n",
    "    int Nl = Im_in.nl();\n",
    "    int Nc = Im_in.nc();\n",
    "    int i,j,Step;\n",
    "    float Coeff_h0 = 3. / 8.;\n",
    "    float Coeff_h1 = 1. / 4.;\n",
    "    float Coeff_h2 = 1. / 16.;\n",
    "    Ifloat Buff(Nl,Nc,\"Buff smooth_bspline\");\n",
    "\n",
    "    Step = (int)(pow((double)2., (double) Step_trou) + 0.5);\n",
    "\n",
    "    for (i = 0; i < Nl; i ++)\n",
    "    for (j = 0; j < Nc; j ++)\n",
    "       Buff(i,j) = Coeff_h0 *    Im_in(i,j)\n",
    "                 + Coeff_h1 * (  Im_in (i, j-Step, Type) \n",
    "                               + Im_in (i, j+Step, Type)) \n",
    "                 + Coeff_h2 * (  Im_in (i, j-2*Step, Type) \n",
    "                               + Im_in (i, j+2*Step, Type));\n",
    "\n",
    "    for (i = 0; i < Nl; i ++)\n",
    "    for (j = 0; j < Nc; j ++)\n",
    "       Im_out(i,j) = Coeff_h0 *    Buff(i,j)\n",
    "                   + Coeff_h1 * (  Buff (i-Step, j, Type) \n",
    "                                 + Buff (i+Step, j, Type)) \n",
    "                   + Coeff_h2 * (  Buff (i-2*Step, j, Type) \n",
    "                                 + Buff (i+2*Step, j, Type));\n",
    "}\n",
    "```"
   ]
  },
  {
   "cell_type": "code",
   "execution_count": null,
   "metadata": {
    "tags": [
     "hide"
    ]
   },
   "outputs": [],
   "source": [
    "# Tool functions\n",
    "\n",
    "def read_fits_file(file_path):\n",
    "    hdu_list = fits.open(file_path) # Open the FITS file\n",
    "    data = hdu_list[0].data\n",
    "    hdu_list.close()                # Close the FITS file\n",
    "    return data\n",
    "\n",
    "def plot(data, title=\"\", cmap=\"gnuplot2\"):\n",
    "    fig = plt.figure()\n",
    "    ax = fig.add_subplot(111)\n",
    "\n",
    "    im = ax.imshow(data, interpolation='nearest', origin='lower', cmap=cmap)   # cmap=cm.inferno and cmap=\"inferno\" are both valid\n",
    "    ax.set_title(title)\n",
    "    \n",
    "    plt.colorbar(im) # draw the colorbar\n",
    "    plt.show()"
   ]
  },
  {
   "cell_type": "markdown",
   "metadata": {},
   "source": [
    "## Transformée en ondelettes \"À trous\""
   ]
  },
  {
   "cell_type": "markdown",
   "metadata": {},
   "source": [
    "### Une implementation Python"
   ]
  },
  {
   "cell_type": "code",
   "execution_count": null,
   "metadata": {},
   "outputs": [],
   "source": [
    "# %load /Users/jdecock/git/pub/jdhp/snippets/science/wavelet_transform/bspline_wavelet_transform.py\n",
    "\n",
    "def get_pixel_value(image, x, y, type_border):\n",
    "    if type_border == 0:\n",
    "        try:\n",
    "            pixel_value = image[x, y]\n",
    "            return pixel_value\n",
    "        except IndexError as e:\n",
    "            return 0\n",
    "    elif type_border == 1:\n",
    "        num_lines, num_col = image.shape    # TODO\n",
    "        x = x % num_lines\n",
    "        y = y % num_col\n",
    "        pixel_value = image[x, y]\n",
    "        return pixel_value\n",
    "    elif type_border == 2:\n",
    "        num_lines, num_col = image.shape    # TODO\n",
    "\n",
    "        if x >= num_lines:\n",
    "            x = num_lines - 2 - x\n",
    "        elif x < 0:\n",
    "            x = abs(x)\n",
    "\n",
    "        if y >= num_col:\n",
    "            y = num_col - 2 - y\n",
    "        elif y < 0:\n",
    "            y = abs(y)\n",
    "\n",
    "        pixel_value = image[x, y]\n",
    "        return pixel_value\n",
    "    elif type_border == 3:\n",
    "        num_lines, num_col = image.shape    # TODO\n",
    "\n",
    "        if x >= num_lines:\n",
    "            x = num_lines - 1 - x\n",
    "        elif x < 0:\n",
    "            x = abs(x) - 1\n",
    "\n",
    "        if y >= num_col:\n",
    "            y = num_col - 1 - y\n",
    "        elif y < 0:\n",
    "            y = abs(y) - 1\n",
    "\n",
    "        pixel_value = image[x, y]\n",
    "        return pixel_value\n",
    "    else:\n",
    "        raise ValueError()"
   ]
  },
  {
   "cell_type": "code",
   "execution_count": null,
   "metadata": {},
   "outputs": [],
   "source": [
    "def smooth_bspline(input_image, type_border, step_trou):\n",
    "#    int num_lines = img_in.nl();  // num lines in the image\n",
    "#    int num_col = img_in.nc();  // num columns in the image\n",
    "#\n",
    "#    int i, j, step;\n",
    "#\n",
    "#    float coeff_h0 = 3. / 8.;\n",
    "#    float coeff_h1 = 1. / 4.;\n",
    "#    float coeff_h2 = 1. / 16.;\n",
    "#\n",
    "#    Ifloat buff(num_lines, num_col, \"buff smooth_bspline\");\n",
    "#\n",
    "#    step = (int)(pow((double)2., (double) step_trou) + 0.5);\n",
    "#\n",
    "#    for (i = 0; i < num_lines; i ++)\n",
    "#    for (j = 0; j < num_col; j ++)\n",
    "#       buff(i,j) = coeff_h0 * img_in(i,j)\n",
    "#                 + coeff_h1 * (  img_in(i, j-step, type_border)\n",
    "#                               + img_in(i, j+step, type_border))\n",
    "#                 + coeff_h2 * (  img_in(i, j-2*step, type_border)\n",
    "#                               + img_in(i, j+2*step, type_border));\n",
    "#\n",
    "#    for (i = 0; i < num_lines; i ++)\n",
    "#    for (j = 0; j < num_col; j ++)\n",
    "#       img_out(i,j) = coeff_h0 * buff(i,j)\n",
    "#                    + coeff_h1 * (  buff(i-step, j, type_border)\n",
    "#                                  + buff(i+step, j, type_border))\n",
    "#                    + coeff_h2 * (  buff(i-2*step, j, type_border)\n",
    "#                                  + buff(i+2*step, j, type_border));\n",
    "    \n",
    "    input_image = input_image.astype('float64', copy=True)\n",
    "\n",
    "    coeff_h0 = 3. / 8.\n",
    "    coeff_h1 = 1. / 4.\n",
    "    coeff_h2 = 1. / 16.\n",
    "\n",
    "    num_lines, num_col = input_image.shape    # TODO\n",
    "\n",
    "    buff = np.zeros(input_image.shape, dtype='float64')\n",
    "    img_out = np.zeros(input_image.shape, dtype='float64')\n",
    "\n",
    "    step = int(pow(2., step_trou) + 0.5)\n",
    "\n",
    "    #print(\"step =\", step)\n",
    "\n",
    "    for i in range(num_lines):\n",
    "        for j in range(num_col):\n",
    "            buff[i,j]  = coeff_h0 *    get_pixel_value(input_image, i, j,        type_border) \n",
    "            buff[i,j] += coeff_h1 * (  get_pixel_value(input_image, i, j-step,   type_border) \\\n",
    "                                     + get_pixel_value(input_image, i, j+step,   type_border))\n",
    "            buff[i,j] += coeff_h2 * (  get_pixel_value(input_image, i, j-2*step, type_border) \\\n",
    "                                     + get_pixel_value(input_image, i, j+2*step, type_border))\n",
    "\n",
    "#    for (i = 0; i < num_lines; i ++)\n",
    "#    for (j = 0; j < num_col; j ++)\n",
    "#       img_out(i,j) = coeff_h0 * buff(i,j)\n",
    "#                    + coeff_h1 * (  buff(i-step, j, type_border)\n",
    "#                                  + buff(i+step, j, type_border))\n",
    "#                    + coeff_h2 * (  buff(i-2*step, j, type_border)\n",
    "#                                  + buff(i+2*step, j, type_border));\n",
    "    for i in range(num_lines):\n",
    "        for j in range(num_col):\n",
    "            img_out[i,j]  = coeff_h0 *    get_pixel_value(buff, i,        j, type_border) \n",
    "            img_out[i,j] += coeff_h1 * (  get_pixel_value(buff, i-step,   j, type_border) \\\n",
    "                                        + get_pixel_value(buff, i+step,   j, type_border))\n",
    "            img_out[i,j] += coeff_h2 * (  get_pixel_value(buff, i-2*step, j, type_border) \\\n",
    "                                        + get_pixel_value(buff, i+2*step, j, type_border))\n",
    "\n",
    "    return img_out"
   ]
  },
  {
   "cell_type": "code",
   "execution_count": null,
   "metadata": {},
   "outputs": [],
   "source": [
    "def transform(image, num_scales):\n",
    "    # MR_Transf.band(0) = Image;\n",
    "    # for (s = 0; s < Nbr_Plan -1; s++)\n",
    "    # {\n",
    "    #     smooth_bspline (MR_Transf.band(s),MR_Transf.band(s+1),Border,s);\n",
    "    #     if  (Details == True) MR_Transf.band(s) -= MR_Transf.band(s+1);\n",
    "    # }\n",
    "\n",
    "    image = image.astype('float64', copy=True)\n",
    "\n",
    "    scale_list = []\n",
    "    scale_list.append(image)\n",
    "\n",
    "    for scale_index in range(num_scales - 1):\n",
    "        previous_scale = scale_list[scale_index]\n",
    "\n",
    "        next_scale = smooth_bspline(previous_scale, 3, scale_index)\n",
    "\n",
    "        previous_scale -= next_scale\n",
    "\n",
    "        scale_list.append(next_scale)\n",
    "\n",
    "    return scale_list"
   ]
  },
  {
   "cell_type": "markdown",
   "metadata": {},
   "source": [
    "## Example 1"
   ]
  },
  {
   "cell_type": "code",
   "execution_count": null,
   "metadata": {},
   "outputs": [],
   "source": [
    "data = np.zeros([81,81])\n",
    "data[40,40] = 1\n",
    "\n",
    "num_scales = 6\n",
    "\n",
    "plt.imshow(data);"
   ]
  },
  {
   "cell_type": "code",
   "execution_count": null,
   "metadata": {},
   "outputs": [],
   "source": [
    "#%%timeit\n",
    "scale_list = transform(data, num_scales)"
   ]
  },
  {
   "cell_type": "code",
   "execution_count": null,
   "metadata": {},
   "outputs": [],
   "source": [
    "#print(transformed_image)\n",
    "\n",
    "# Write data\n",
    "for scale_index, scale in enumerate(scale_list):\n",
    "    plot(scale, \"Scale {}\".format(scale_index))"
   ]
  },
  {
   "cell_type": "code",
   "execution_count": null,
   "metadata": {},
   "outputs": [],
   "source": [
    "plt.plot(scale_list[3][40,:]);"
   ]
  },
  {
   "cell_type": "code",
   "execution_count": null,
   "metadata": {},
   "outputs": [],
   "source": [
    "rebuilt_data = np.sum(scale_list, axis=0)\n",
    "\n",
    "plt.imshow(rebuilt_data);"
   ]
  },
  {
   "cell_type": "code",
   "execution_count": null,
   "metadata": {},
   "outputs": [],
   "source": [
    "err = data - rebuilt_data\n",
    "\n",
    "print(err.min())\n",
    "print(err.max())"
   ]
  },
  {
   "cell_type": "markdown",
   "metadata": {},
   "source": [
    "## Example 2"
   ]
  },
  {
   "cell_type": "code",
   "execution_count": null,
   "metadata": {},
   "outputs": [],
   "source": [
    "file_path = \"/Users/jdecock/git/pub/jdhp/snippets/science/wavelet_transform/test.fits\"\n",
    "\n",
    "# Read data\n",
    "data = read_fits_file(file_path)\n",
    "\n",
    "num_scales = 4\n",
    "\n",
    "plt.imshow(data, cmap=\"gnuplot2\");"
   ]
  },
  {
   "cell_type": "code",
   "execution_count": null,
   "metadata": {},
   "outputs": [],
   "source": [
    "#%%timeit\n",
    "scale_list = transform(data, num_scales)"
   ]
  },
  {
   "cell_type": "code",
   "execution_count": null,
   "metadata": {},
   "outputs": [],
   "source": [
    "#print(transformed_image)\n",
    "\n",
    "# Write data\n",
    "for scale_index, scale in enumerate(scale_list):\n",
    "    plot(scale, \"Scale {}\".format(scale_index))"
   ]
  },
  {
   "cell_type": "code",
   "execution_count": null,
   "metadata": {},
   "outputs": [],
   "source": [
    "rebuilt_data = np.sum(scale_list, axis=0)\n",
    "\n",
    "plt.imshow(rebuilt_data, cmap=\"gnuplot2\");"
   ]
  },
  {
   "cell_type": "code",
   "execution_count": null,
   "metadata": {},
   "outputs": [],
   "source": [
    "err = data - rebuilt_data\n",
    "\n",
    "print(err.min())\n",
    "print(err.max())"
   ]
  },
  {
   "cell_type": "markdown",
   "metadata": {},
   "source": [
    "## Example 3"
   ]
  },
  {
   "cell_type": "code",
   "execution_count": null,
   "metadata": {},
   "outputs": [],
   "source": [
    "file_path = \"/Users/jdecock/git/pub/jdhp/snippets/sample-images/doisneau_512.png\"\n",
    "#file_path = \"/Users/jdecock/git/pub/jdhp/snippets/sample-images/doisneau2.jpg\"\n",
    "\n",
    "# Read data: open the image and convert it to grayscale\n",
    "data = np.array(pil_img.open(file_path).convert('L'))\n",
    "\n",
    "num_scales = 4\n",
    "\n",
    "fig, ax = plt.subplots(figsize=(8, 8))\n",
    "ax.set_axis_off()\n",
    "ax.imshow(data, cmap=\"gray\", interpolation=\"spline36\");"
   ]
  },
  {
   "cell_type": "code",
   "execution_count": null,
   "metadata": {},
   "outputs": [],
   "source": [
    "#%%timeit\n",
    "scale_list = transform(data, num_scales)"
   ]
  },
  {
   "cell_type": "code",
   "execution_count": null,
   "metadata": {},
   "outputs": [],
   "source": [
    "for scale_index, scale in enumerate(scale_list):\n",
    "    fig, ax = plt.subplots(figsize=(8, 8))\n",
    "    ax.set_axis_off()\n",
    "\n",
    "    im = ax.imshow(scale, cmap=\"gray\", interpolation=\"spline36\")  # other cmaps: gray, Greys_r, seismic, bwr, coolwarm\n",
    "    plt.colorbar(im, fraction=0.045, pad=0.04)\n",
    "\n",
    "    ax.set_title(\"Scale {}\".format(scale_index))\n",
    "    plt.show()"
   ]
  },
  {
   "cell_type": "code",
   "execution_count": null,
   "metadata": {},
   "outputs": [],
   "source": [
    "#print(transformed_image)\n",
    "\n",
    "# Write data\n",
    "for scale_index, scale in enumerate(scale_list):\n",
    "    print(scale.min(), scale.max())\n",
    "    \n",
    "    fig, ax = plt.subplots(figsize=(10,10))\n",
    "    ax.set_axis_off()\n",
    "    \n",
    "    amplitude = max(scale.max(), scale.min() * -1.)\n",
    "    \n",
    "    im1 = ax.imshow(scale, cmap=\"Reds\", norm=LogNorm(vmin=0.01, vmax=amplitude))\n",
    "    plt.colorbar(im1, fraction=0.04125, pad=0.06)\n",
    "    \n",
    "    if scale.min() < 0.:\n",
    "        im2 = ax.imshow(scale * -1., cmap=\"Blues\", norm=LogNorm(vmin=0.01, vmax=amplitude))\n",
    "        plt.colorbar(im2, fraction=0.046, pad=0.04)\n",
    "    \n",
    "    ax.set_title(\"Scale {}\".format(scale_index))\n",
    "    plt.show()"
   ]
  },
  {
   "cell_type": "code",
   "execution_count": null,
   "metadata": {},
   "outputs": [],
   "source": [
    "#print(transformed_image)\n",
    "\n",
    "# Write data\n",
    "for scale_index, scale in enumerate(scale_list):\n",
    "    print(scale.min(), scale.max())\n",
    "    \n",
    "    fig, ax = plt.subplots(figsize=(10,10))\n",
    "    ax.set_axis_off()\n",
    "    \n",
    "    im1 = ax.imshow(scale, cmap=\"gray\", norm=LogNorm(vmin=0.001, vmax=scale.max()))\n",
    "    #plt.colorbar(im1, fraction=0.04125, pad=0.06)\n",
    "    \n",
    "    if scale.min() < 0.:\n",
    "        im2 = ax.imshow(scale * -1., cmap=\"gray_r\", norm=LogNorm(vmin=0.001, vmax=scale.min() * -1.))\n",
    "        plt.colorbar(im2, fraction=0.046, pad=0.04)\n",
    "    \n",
    "    ax.set_title(\"Scale {}\".format(scale_index))\n",
    "    plt.show()"
   ]
  },
  {
   "cell_type": "code",
   "execution_count": null,
   "metadata": {},
   "outputs": [],
   "source": [
    "rebuilt_data = np.sum(scale_list, axis=0)\n",
    "\n",
    "fig, ax = plt.subplots(figsize=(10,10))\n",
    "ax.set_axis_off()\n",
    "\n",
    "ax.imshow(rebuilt_data, cmap=\"gray\", interpolation=\"spline36\");"
   ]
  },
  {
   "cell_type": "code",
   "execution_count": null,
   "metadata": {},
   "outputs": [],
   "source": [
    "err = data - rebuilt_data\n",
    "\n",
    "print(err.min())\n",
    "print(err.max())"
   ]
  },
  {
   "cell_type": "markdown",
   "metadata": {},
   "source": [
    "## Example 4: (artificial) noise filtering"
   ]
  },
  {
   "cell_type": "code",
   "execution_count": null,
   "metadata": {},
   "outputs": [],
   "source": [
    "file_path = \"/Users/jdecock/git/pub/jdhp/snippets/sample-images/doisneau_512.png\"\n",
    "#file_path = \"/Users/jdecock/git/pub/jdhp/snippets/sample-images/doisneau2.jpg\"\n",
    "\n",
    "# Read data: open the image and convert it to grayscale\n",
    "data = np.array(pil_img.open(file_path).convert('L'))\n",
    "\n",
    "num_scales = 4\n",
    "\n",
    "fig, ax = plt.subplots(figsize=(8, 8))\n",
    "ax.set_axis_off()\n",
    "ax.imshow(data, cmap=\"gray\", interpolation=\"spline36\");"
   ]
  },
  {
   "cell_type": "code",
   "execution_count": null,
   "metadata": {},
   "outputs": [],
   "source": [
    "#%%timeit\n",
    "scale_list = transform(data, num_scales)"
   ]
  },
  {
   "cell_type": "code",
   "execution_count": null,
   "metadata": {},
   "outputs": [],
   "source": [
    "NOISE_FACTOR = [5., 0.25, 0.15, 0.]\n",
    "CLEAN_FACTOR = [1.5, 0.75, 0.5, 0.]  # [1.5, 0.7, 0.5, 0]\n",
    "\n",
    "mask_list = []\n",
    "noised_scale_list = []\n",
    "cleaned_scale_list = []\n",
    "\n",
    "for scale_index, scale in enumerate(scale_list):\n",
    "    # COMPUTE THE STD\n",
    "    mean = scale.mean()\n",
    "    std = scale.std()\n",
    "    print(\"Scale {}: mean={} std={}\".format(scale_index, mean, std))\n",
    "    \n",
    "    # ADD NOISE\n",
    "    noise = np.random.normal(loc=mean, scale=NOISE_FACTOR[scale_index] * std, size=scale.shape)\n",
    "    #noise = np.random.uniform(low=-CLEAN_FACTOR[scale_index] * std * 0.9,\n",
    "    #                          high=CLEAN_FACTOR[scale_index] * std * 0.9,\n",
    "    #                          size=scale.shape)\n",
    "    noised_scale = scale + noise\n",
    "    noised_scale_list.append(noised_scale)\n",
    "\n",
    "    # CLEAN SCALE\n",
    "    mask = np.abs(noised_scale + mean) > (std * CLEAN_FACTOR[scale_index])\n",
    "    mask_list.append(mask)\n",
    "    plt.imshow(mask)\n",
    "    plt.colorbar()\n",
    "    plt.show()\n",
    "    #mask = noised_scale > (std * CLEAN_FACTOR[scale_index])\n",
    "    cleaned_img = noised_scale * mask\n",
    "    cleaned_scale_list.append(cleaned_img)\n",
    "\n",
    "#cleaned_scale_list[0] = noised_scale_list[0] * mask_list[1]    # experimental"
   ]
  },
  {
   "cell_type": "code",
   "execution_count": null,
   "metadata": {},
   "outputs": [],
   "source": [
    "for scale_index, (scale, noised_scale, cleaned_scale) in enumerate(zip(scale_list, noised_scale_list, cleaned_scale_list)):\n",
    "    fig, (ax1, ax2, ax3) = plt.subplots(nrows=1, ncols=3, figsize=(16, 8))\n",
    "    ax1.set_axis_off()\n",
    "    ax2.set_axis_off()\n",
    "    ax3.set_axis_off()\n",
    "\n",
    "    im1 = ax1.imshow(scale, cmap=\"gray\", interpolation=\"spline36\")  # other cmaps: gray, Greys_r, seismic, bwr, coolwarm\n",
    "    plt.colorbar(im1, ax=ax1)\n",
    "\n",
    "    im2 = ax2.imshow(noised_scale, cmap=\"gray\", interpolation=\"spline36\")  # other cmaps: gray, Greys_r, seismic, bwr, coolwarm\n",
    "    plt.colorbar(im2, ax=ax2)\n",
    "    \n",
    "    im3 = ax3.imshow(cleaned_scale, cmap=\"gray\", interpolation=\"spline36\")  # other cmaps: gray, Greys_r, seismic, bwr, coolwarm\n",
    "    plt.colorbar(im3, ax=ax3)\n",
    "\n",
    "    ax1.set_title(\"Scale {} (orig)\".format(scale_index))\n",
    "    ax2.set_title(\"Scale {} (noised)\".format(scale_index))\n",
    "    ax3.set_title(\"Scale {} (cleaned)\".format(scale_index))\n",
    "    \n",
    "    plt.show()"
   ]
  },
  {
   "cell_type": "code",
   "execution_count": null,
   "metadata": {},
   "outputs": [],
   "source": [
    "rebuilt_data = np.sum(noised_scale_list, axis=0)\n",
    "\n",
    "fig, ax = plt.subplots(figsize=(10,10))\n",
    "ax.set_axis_off()\n",
    "\n",
    "ax.imshow(rebuilt_data, cmap=\"gray\", interpolation=\"spline36\");"
   ]
  },
  {
   "cell_type": "code",
   "execution_count": null,
   "metadata": {},
   "outputs": [],
   "source": [
    "rebuilt_data = np.sum(cleaned_scale_list, axis=0)\n",
    "\n",
    "fig, ax = plt.subplots(figsize=(10,10))\n",
    "ax.set_axis_off()\n",
    "\n",
    "ax.imshow(rebuilt_data, cmap=\"gray\", interpolation=\"spline36\");"
   ]
  },
  {
   "cell_type": "code",
   "execution_count": null,
   "metadata": {},
   "outputs": [],
   "source": [
    "err = data - rebuilt_data\n",
    "\n",
    "print(err.min())\n",
    "print(err.max())"
   ]
  },
  {
   "cell_type": "code",
   "execution_count": null,
   "metadata": {},
   "outputs": [],
   "source": []
  }
 ],
 "metadata": {
  "anaconda-cloud": {},
  "celltoolbar": "Tags",
  "kernelspec": {
   "display_name": "Python [default]",
   "language": "python",
   "name": "python3"
  },
  "language_info": {
   "codemirror_mode": {
    "name": "ipython",
    "version": 3
   },
   "file_extension": ".py",
   "mimetype": "text/x-python",
   "name": "python",
   "nbconvert_exporter": "python",
   "pygments_lexer": "ipython3",
   "version": "3.5.3"
  }
 },
 "nbformat": 4,
 "nbformat_minor": 1
}
