{
 "cells": [
  {
   "cell_type": "markdown",
   "metadata": {},
   "source": [
    "# Pyomo - Stock problem v2"
   ]
  },
  {
   "cell_type": "markdown",
   "metadata": {},
   "source": [
    "Pyomo installation: see http://www.pyomo.org/installation\n",
    "\n",
    "```\n",
    "pip install pyomo\n",
    "```"
   ]
  },
  {
   "cell_type": "code",
   "execution_count": null,
   "metadata": {},
   "outputs": [],
   "source": [
    "%matplotlib inline\n",
    "\n",
    "import matplotlib.pyplot as plt"
   ]
  },
  {
   "cell_type": "code",
   "execution_count": null,
   "metadata": {},
   "outputs": [],
   "source": [
    "from pyomo.environ import *"
   ]
  },
  {
   "cell_type": "markdown",
   "metadata": {},
   "source": [
    "* $s_t$ = the battery level at time $t$"
   ]
  },
  {
   "cell_type": "markdown",
   "metadata": {},
   "source": [
    "$$\n",
    "\\begin{align}\n",
    "    \\min_{x_{inj}, x_{ext}, x_{grid}} & \\quad \\sum_t p_t x_{inj,t} + \\sum_t p_t x_{grid,t} \\quad\\quad\\quad\\quad \\text{(P1)} \\\\\n",
    "    \\text{s.t.}        & \\quad s_0 = 0 \\\\\n",
    "                       & \\quad s_t = s_{t-1} + x_{inj,t} - x_{ext,t} \\\\\n",
    "                       & \\quad x_{inj,t} \\leq s_{\\max} - s_{t-1}   \\quad\\quad\\quad \\quad ~~ (L4) \\\\\n",
    "                       & \\quad x_{inj,t} \\geq 0 \\\\\n",
    "                       & \\quad x_{ext,t} \\leq s_{t-1}               \\quad\\quad \\quad \\quad \\quad \\quad \\quad (L6) \\\\\n",
    "                       & \\quad x_{ext,t} \\geq 0 \\\\\n",
    "                       & \\quad x_{ext,t} + x_{grid,t} = \\text{needs}_{t}               \\quad \\quad \\quad ~ (L8)\n",
    "\\end{align}\n",
    "$$\n",
    "\n",
    "- L4: can't inject more than the \"free space\" of the battery\n",
    "- L6: can't extract more than what have been stored in the battery\n",
    "- L8: fulfill the needs at time t"
   ]
  },
  {
   "cell_type": "code",
   "execution_count": null,
   "metadata": {},
   "outputs": [],
   "source": [
    "# Cost of energy on the market\n",
    "\n",
    "price = [10, 20, 10, 20]\n",
    "needs = [ 0, 30, 20, 50]\n",
    "\n",
    "stock_max = 100           # battery capacity"
   ]
  },
  {
   "cell_type": "code",
   "execution_count": null,
   "metadata": {},
   "outputs": [],
   "source": [
    "T = list(range(len(price) + 1))       # num decision variables"
   ]
  },
  {
   "cell_type": "code",
   "execution_count": null,
   "metadata": {},
   "outputs": [],
   "source": [
    "plt.plot(T[:-1], price, \"o-\")\n",
    "plt.xlabel(\"Unit of time (t)\")\n",
    "plt.ylabel(\"Price of one unit of energy (p)\")\n",
    "plt.title(\"Price of energy on the market\")\n",
    "plt.show();"
   ]
  },
  {
   "cell_type": "code",
   "execution_count": null,
   "metadata": {},
   "outputs": [],
   "source": [
    "plt.plot(T[:-1], needs, \"o-\")\n",
    "plt.xlabel(\"Unit of time (t)\")\n",
    "plt.ylabel(\"Needs\")\n",
    "plt.title(\"Needs\")\n",
    "plt.show();"
   ]
  },
  {
   "cell_type": "code",
   "execution_count": null,
   "metadata": {},
   "outputs": [],
   "source": [
    "model = ConcreteModel(name=\"Stock problem v1\")\n",
    "\n",
    "model.x_inj  = Var(T, within=NonNegativeReals)\n",
    "model.x_ext  = Var(T, within=NonNegativeReals)\n",
    "model.x_grid = Var(T, within=NonNegativeReals)\n",
    "model.s = Var(T, within=NonNegativeReals)\n",
    "\n",
    "\n",
    "def objective_fn(model):\n",
    "    return sum(price[t-1] * model.x_inj[t] + price[t-1] * model.x_grid[t] for t in T if t != 0)\n",
    "\n",
    "model.obj = Objective(rule=objective_fn, sense=minimize)\n",
    "\n",
    "########\n",
    "\n",
    "model.constraint_s0 = Constraint(expr = model.s[0] == 0)\n",
    "\n",
    "def constraint_stock_level(model, t):\n",
    "    if t > 0:\n",
    "        return model.s[t] == model.s[t-1] + model.x_inj[t] - model.x_ext[t]\n",
    "    else:\n",
    "        return Constraint.Skip\n",
    "\n",
    "model.constraint_st = Constraint(T, rule=constraint_stock_level)\n",
    "\n",
    "\n",
    "def constraint_x_inj_sup(model, t):\n",
    "    if t > 0:\n",
    "        return model.x_inj[t] <= stock_max - model.s[t-1]\n",
    "    else:\n",
    "        return Constraint.Skip\n",
    "\n",
    "model.constraint_x_inj_sup = Constraint(T, rule=constraint_x_inj_sup)\n",
    "\n",
    "\n",
    "def constraint_x_ext_sup(model, t):\n",
    "    if t > 0:\n",
    "        return model.x_ext[t] <= model.s[t-1]\n",
    "    else:\n",
    "        return Constraint.Skip\n",
    "\n",
    "model.constraint_x_ext_sup = Constraint(T, rule=constraint_x_ext_sup)\n",
    "\n",
    "\n",
    "def constraint_needs(model, t):\n",
    "    if t > 0:\n",
    "        return model.x_ext[t] + model.x_grid[t] == needs[t-1]\n",
    "    else:\n",
    "        return Constraint.Skip\n",
    "\n",
    "model.constraint_needs = Constraint(T, rule=constraint_needs)\n",
    "\n",
    "########\n",
    "\n",
    "model.pprint()\n",
    "\n",
    "# @tail:\n",
    "print()\n",
    "print(\"-\" * 60)\n",
    "print()\n",
    "\n",
    "opt = SolverFactory('glpk')\n",
    "\n",
    "results = opt.solve(model)    # solves and updates instance\n",
    "\n",
    "model.display()\n",
    "\n",
    "print()\n",
    "print(\"Optimal solution (x_inj):  \", [value(model.x_inj[t]) for t in T if t != 0])\n",
    "print(\"Optimal solution (x_ext):  \", [value(model.x_ext[t]) for t in T if t != 0])\n",
    "print(\"Optimal solution (x_grid): \", [value(model.x_grid[t]) for t in T if t != 0])\n",
    "print(\"Gain of the optimal solution: \", value(model.obj))\n",
    "# @:tail"
   ]
  }
 ],
 "metadata": {
  "kernelspec": {
   "display_name": "Python 3",
   "language": "python",
   "name": "python3"
  },
  "language_info": {
   "codemirror_mode": {
    "name": "ipython",
    "version": 3
   },
   "file_extension": ".py",
   "mimetype": "text/x-python",
   "name": "python",
   "nbconvert_exporter": "python",
   "pygments_lexer": "ipython3",
   "version": "3.7.1"
  }
 },
 "nbformat": 4,
 "nbformat_minor": 2
}
