{
 "cells": [
  {
   "cell_type": "markdown",
   "metadata": {
    "tags": [
     "meta",
     "draft"
    ]
   },
   "source": [
    "# Transformée de Fourier"
   ]
  },
  {
   "cell_type": "code",
   "execution_count": null,
   "metadata": {
    "tags": [
     "hide"
    ]
   },
   "outputs": [],
   "source": [
    "%matplotlib inline\n",
    "\n",
    "import matplotlib\n",
    "matplotlib.rcParams['figure.figsize'] = (6, 6)\n",
    "\n",
    "import math\n",
    "import cmath          # math functions for complex numbers\n",
    "import numpy as np\n",
    "import matplotlib.pyplot as plt\n",
    "\n",
    "import ipywidgets\n",
    "from ipywidgets import interact\n",
    "\n",
    "import sympy as sp\n",
    "\n",
    "# See: http://docs.sympy.org/latest/tutorial/printing.html\n",
    "sp.init_printing()\n",
    "\n",
    "t = sp.symbols(\"t\")"
   ]
  },
  {
   "cell_type": "markdown",
   "metadata": {
    "tags": [
     "hide"
    ]
   },
   "source": [
    "**TODO**:\n",
    "* https://cdn.uclouvain.be/public/Exports%20reddot/fsa/documents/Travail_Complet.pdf <- semble très intéressant !\n",
    "* Exemples en notation exponentielle\n",
    "* Cas d'un signal 2D\n",
    "* Discrete Fourier Transform + algo pour implémentation concrète (du calcul des coefs) en Python\n",
    "* FFT"
   ]
  },
  {
   "cell_type": "markdown",
   "metadata": {
    "tags": [
     "hide"
    ]
   },
   "source": [
    "The following notations come from the following book: *Toutes les mathématiques et les bases de l'informatique*, Horst Stöcker (Dunod, 2002)"
   ]
  },
  {
   "cell_type": "markdown",
   "metadata": {},
   "source": [
    "## Cas simple: fonction périodique de période $2\\pi$"
   ]
  },
  {
   "cell_type": "markdown",
   "metadata": {},
   "source": [
    "### Définitions\n",
    "\n",
    "#### Série de Fourier\n",
    "\n",
    "$$\n",
    "f(t) = \\frac{a_0}{2} + \\sum^{\\infty}_{n=1} [a_n \\cos(n t) + b_n \\sin(n t)]\n",
    "$$\n",
    "\n",
    "#### Calcul des coefficients de Fourier\n",
    "\n",
    "\\begin{eqnarray*}\n",
    "    \\forall n \\in \\mathbb{N},   ~~~~~ a_n & = & \\frac{1}{\\pi} \\int^{\\pi}_{-\\pi} f(t) \\cos(n t) ~ dt \\\\\n",
    "    \\forall n \\in \\mathbb{N}^*, ~~~~~ b_n & = & \\frac{1}{\\pi} \\int^{\\pi}_{-\\pi} f(t) \\sin(n t) ~ dt \\\\\n",
    "\\end{eqnarray*}\n",
    "\n",
    "Cf. section \\ref{sec:exemples} pour des exemples de calculs de coefficients de Fourier.\n",
    "\n",
    "Rappel: $\\mathbb{N}^*$ est l'ensemble $\\mathbb{N}$ privé de $0$.\n",
    "\n",
    "#### Condition de Dirichlet\n",
    "\n",
    "..."
   ]
  },
  {
   "cell_type": "markdown",
   "metadata": {
    "tags": [
     "hide"
    ]
   },
   "source": [
    "rem: si on avait que des cos (ou que des sin) dans la série de fourier, elle ne pourrait coder définir que des fonctions qui s'annulent tous les pi/2..."
   ]
  },
  {
   "cell_type": "markdown",
   "metadata": {
    "tags": [
     "hide"
    ]
   },
   "source": [
    "### Questions / notes / remarques\n",
    "\n",
    "* Que représente le terme $\\frac{a_0}{2}$ dans la définition de la série de Fourier ?\n",
    "\n",
    "...\n",
    "\n",
    "* Que représente le facteur $\\frac{1}{\\pi}$ dans les coeffients de Fourier ?\n",
    "\n",
    "..."
   ]
  },
  {
   "cell_type": "markdown",
   "metadata": {},
   "source": [
    "## Cas général: fonction périodique de période $T$"
   ]
  },
  {
   "cell_type": "markdown",
   "metadata": {},
   "source": [
    "### Définition\n",
    "\n",
    "#### Série de Fourier\n",
    "\n",
    "$$\n",
    "f(t) = \\frac{a_0}{2} + \\sum^{\\infty}_{n=1} [a_n \\cos(\\omega n t) + b_n \\sin(\\omega n t)]\n",
    "$$\n",
    "\n",
    "#### Calcul des *coefficients de Fourier*\n",
    "\n",
    "\\begin{eqnarray*}\n",
    "    \\forall n \\in \\mathbb{N},   ~~~~~ a_n & = & \\frac{2}{T} \\int^{T/2}_{-T/2} f(t) \\cos(\\omega n t) ~ dt \\\\\n",
    "    \\forall n \\in \\mathbb{N}^*, ~~~~~ b_n & = & \\frac{2}{T} \\int^{T/2}_{-T/2} f(t) \\sin(\\omega n t) ~ dt \\\\\n",
    "\\end{eqnarray*}"
   ]
  },
  {
   "cell_type": "markdown",
   "metadata": {},
   "source": [
    "## Représentation spectrale"
   ]
  },
  {
   "cell_type": "markdown",
   "metadata": {
    "tags": [
     "hide"
    ]
   },
   "source": [
    "**TODO**: rendre plus claire la définition suivante..."
   ]
  },
  {
   "cell_type": "markdown",
   "metadata": {},
   "source": [
    "### Série de Fourier\n",
    "\n",
    "$$\n",
    "f(t) = \\frac{a_0}{2} + \\sum^{\\infty}_{n=1} [A_n \\sin(\\omega n t + \\phi_n)]\n",
    "$$\n",
    "avec\n",
    "$$A_n = \\sqrt{a^2_n + b^2_n} \\quad \\text{ et } \\quad \\tan \\phi_n = \\frac{a_n}{b_n}$$"
   ]
  },
  {
   "cell_type": "markdown",
   "metadata": {
    "tags": [
     "hide"
    ]
   },
   "source": [
    "rem:\n",
    "ne fait qu'écrire autrement les coefs (passage d'une notation carthésienne à une notation polaire)...\n",
    "* $a_1$ et $b_1$ en $A_1$ et $\\phi_1$,\n",
    "* $a_2$ et $b_2$ en $A_2$ et $\\phi_2$,\n",
    "* ...\n",
    "\n",
    "Pour chaque $n$, les coefs $a_n$ et $b_n$ peuvent être vus comme un point dans le plan.\n",
    "\n",
    "Ces points peuvent aussi être définis avec une notation polaire (c'est ce qui est fait ici): $A_n$ et $\\phi_n$.\n",
    "\n",
    "Qu'est-ce que ça apporte d'un point de vue pratique ? Il serait intéressant de visualiser la différence entre ces deux espaces de coefficients... Le filtrage d'un signal est peut-être plus facile dans le 2e ?"
   ]
  },
  {
   "cell_type": "markdown",
   "metadata": {},
   "source": [
    "## Représentation complexe (notation exponentielle)"
   ]
  },
  {
   "cell_type": "markdown",
   "metadata": {
    "tags": [
     "hide"
    ]
   },
   "source": [
    "**TODO**: rendre plus claire la définition suivante..."
   ]
  },
  {
   "cell_type": "markdown",
   "metadata": {
    "tags": [
     "hide"
    ]
   },
   "source": [
    "### Définitions pour une fonction $2\\pi$ periodique\n",
    "\n",
    "#### Série de Fourier\n",
    "\n",
    "$$\n",
    "f(t) = \\sum^{\\infty}_{n=\\color{red}{-\\infty}} c_n e^{i n t}\n",
    "$$\n",
    "\n",
    "#### Calcul des *coefficients de Fourier*\n",
    "\n",
    "$$\n",
    "c_n = \\frac{1}{2\\pi} \\int^{\\pi}_{-\\pi} f(t) e^{-i n t} dt\n",
    "$$"
   ]
  },
  {
   "cell_type": "markdown",
   "metadata": {},
   "source": [
    "### Définitions pour une fonction $T$ periodique\n",
    "\n",
    "#### Série de Fourier\n",
    "\n",
    "$$\n",
    "f(t) = \\sum^{\\infty}_{n=\\color{red}{-\\infty}} c_n e^{i\\omega n t}\n",
    "$$\n",
    "\n",
    "#### Calcul des *coefficients de Fourier*\n",
    "\n",
    "$$\n",
    "c_n = \\frac{1}{T} \\int^{T/2}_{-T/2} f(t) e^{-i \\omega n t} dt\n",
    "$$"
   ]
  },
  {
   "cell_type": "markdown",
   "metadata": {},
   "source": [
    "### Relation entre les coefficients $a_n$, $b_n$ et $c_n$\n",
    "\n",
    "$$\n",
    "c_n =\n",
    "\\left\\{\n",
    "\\begin{align}\n",
    "\\frac{a_0}{2} & \\quad n = 0 \\\\\n",
    "\\\\\n",
    "\\frac{a_n - ib_n}{2} & \\quad n > 0 \\\\\n",
    "\\\\\n",
    "\\frac{a_{-n} - ib_{-n}}{2} & \\quad n < 0\n",
    "\\end{align}\n",
    "\\right.\n",
    "$$\n",
    "ou\n",
    "$$\n",
    "\\left.\n",
    "\\begin{align}\n",
    "a_n & = c_n + c_{-n} \\\\\n",
    "b_n & = i(c_n - c_{-n})\n",
    "\\end{align}\n",
    "\\right\\}\n",
    "n > 0\n",
    "$$\n",
    "\n",
    "Les valeurs $\\omega_n = \\omega n$ sont appelées le *spectre* de $f(t)$."
   ]
  },
  {
   "cell_type": "markdown",
   "metadata": {
    "tags": [
     "hide"
    ]
   },
   "source": [
    "rem:\n",
    "ne fait que regrouper les coefs\n",
    "* $a_1$ et $b_1$ dans un nombre complexe $z_1$,\n",
    "* $a_2$ et $b_2$ dans un nombre complexe $z_2$,\n",
    "* ...\n",
    "\n",
    "Pour chaque $n$, les coefs $a_n$ et $b_n$ peuvent être vus comme un point dans le plan et donc comme un nombre complexe.\n",
    "\n",
    "Du coup, ces points peuvent aussi être définis avec une notation exponentielle.\n",
    "\n",
    "motivation: \"ça simplifie les calculs et les notations\""
   ]
  },
  {
   "cell_type": "markdown",
   "metadata": {},
   "source": [
    "## Conclusion"
   ]
  },
  {
   "cell_type": "markdown",
   "metadata": {},
   "source": [
    "TODO..."
   ]
  },
  {
   "cell_type": "markdown",
   "metadata": {},
   "source": [
    "### Synthèse\n",
    "\n",
    "Définitions à connaitre:\n",
    "* Série de Fourier\n",
    "* Coefficients de Fourier\n",
    "* Condition de Dirichlet"
   ]
  },
  {
   "cell_type": "markdown",
   "metadata": {},
   "source": [
    "## Annexes\n",
    "\n",
    "### Rappels de maths\n",
    "\n",
    "TODO: add plots...\n",
    "\n",
    "\\begin{eqnarray*}\n",
    "    \\forall c \\in \\mathbb{N}^*, \\int^{\\pi}_{-\\pi} c ~ dt         & = & c \\times 2\\pi \\\\\n",
    "    \\forall c \\in \\mathbb{N}^*, \\int^{\\pi}_{-\\pi} c \\cos(t) ~ dt & = & 0 \\\\\n",
    "    \\forall c \\in \\mathbb{N}^*, \\int^{\\pi}_{-\\pi} c \\sin(t) ~ dt & = & 0 \\\\\n",
    "\\end{eqnarray*}\n",
    "\n",
    "\n",
    "$$\n",
    "\\forall m \\in \\mathbb{N}^*, n \\in \\mathbb{N}^*,\n",
    "\\int^{\\pi}_{-\\pi} \\cos(n ~ t) \\cos(m ~ t) ~ dt =\n",
    "\\left\\{\n",
    "    \\begin{array}{l l}\n",
    "        \\pi  & \\quad \\text{si $n = m$}\\\\\n",
    "        0    & \\quad \\text{si $n \\neq m$}\n",
    "    \\end{array} \\right.\n",
    "$$\n",
    "\n",
    "Par exemple:\n",
    "\\begin{eqnarray*}\n",
    "    \\int^{\\pi}_{-\\pi} \\cos(t) \\cos(t) ~ dt   & = & \\pi \\\\\n",
    "    \\int^{\\pi}_{-\\pi} \\sin(t) \\sin(t) ~ dt   & = & \\pi \\\\\n",
    "    \\int^{\\pi}_{-\\pi} \\cos(t) \\sin(t) ~ dt   & = & 0 \\\\\n",
    "    \\int^{\\pi}_{-\\pi} \\cos(t) \\cos(2t) ~ dt  & = & 0 \\\\\n",
    "    \\int^{\\pi}_{-\\pi} \\cos(t) \\sin(2t) ~ dt  & = & 0 \\\\\n",
    "    \\int^{\\pi}_{-\\pi} \\cos(2t) \\cos(2t) ~ dt & = & \\pi \\\\\n",
    "    \\int^{\\pi}_{-\\pi} \\sin(2t) \\sin(2t) ~ dt & = & \\pi \\\\\n",
    "\\end{eqnarray*}"
   ]
  },
  {
   "cell_type": "markdown",
   "metadata": {},
   "source": [
    "### Exemples détaillés"
   ]
  },
  {
   "cell_type": "markdown",
   "metadata": {},
   "source": [
    "#### Calcule des coefficients de Fourier pour la fonction $f(t) = 3$\n",
    "\n",
    "\\begin{eqnarray*}\n",
    "    a_0 & = & \\frac{1}{\\pi} \\int^{\\pi}_{-\\pi} 3 \\cos(0) ~ dt \\\\\n",
    "        & = & \\frac{1}{\\pi} \\int^{\\pi}_{-\\pi} 3 ~ dt \\\\\n",
    "        & = & \\frac{1}{\\pi} \\times 3 \\times 2 \\pi \\\\\n",
    "        & = & 6 \\\\\n",
    "\\end{eqnarray*}\n",
    "\n",
    "\n",
    "\\begin{eqnarray*}\n",
    "    a_1 & = & \\frac{1}{\\pi} \\int^{\\pi}_{-\\pi} 3 \\cos(t) ~ dt \\\\\n",
    "        & = & 0 \\\\\n",
    "\\end{eqnarray*}\n",
    "\n",
    "\n",
    "\\begin{eqnarray*}\n",
    "    b_1 & = & \\frac{1}{\\pi} \\int^{\\pi}_{-\\pi} 3 \\sin(t) ~ dt \\\\\n",
    "        & = & 0 \\\\\n",
    "\\end{eqnarray*}\n",
    "\n",
    "De même, les coefficients $a_3$, $b_3$, $a_4$, $b_4$, etc. sont tous nuls.\n",
    "\n",
    "##### Vérification\n",
    "\n",
    "On a bien:\n",
    "\\begin{eqnarray*}\n",
    "    f(t) & = & \\frac{a_0}{2} + \\sum^{\\infty}_{n=1} (a_n \\cos(n t) + b_n \\sin(n t)) \\\\\n",
    "         & = & \\frac{6}{2} + 0 \\times \\cos(t) + 0 \\times \\sin(t) + 0 \\times \\cos(2t) + 0 \\times \\sin(2t) + ... \\\\\n",
    "         & = & 3 \\\\\n",
    "\\end{eqnarray*}"
   ]
  },
  {
   "cell_type": "markdown",
   "metadata": {},
   "source": [
    "#### Calcule des coefficients de Fourier pour la fonction $f(t) = \\cos(t)$\n",
    "\n",
    "TODO: add plots...\n",
    "\n",
    "\\begin{eqnarray*}\n",
    "    a_0 & = & \\frac{1}{\\pi} \\int^{\\pi}_{-\\pi} \\cos(t) \\cos(0) ~ dt \\\\\n",
    "        & = & \\frac{1}{\\pi} \\int^{\\pi}_{-\\pi} \\cos(t) ~ dt \\\\\n",
    "        & = & 0 \\\\\n",
    "\\end{eqnarray*}\n",
    "\n",
    "\\begin{eqnarray*}\n",
    "    a_1 & = & \\frac{1}{\\pi} \\int^{\\pi}_{-\\pi} \\cos(t) \\cos(t) ~ dt \\\\\n",
    "        & = & \\frac{1}{\\pi} \\times \\pi \\\\\n",
    "        & = & 1 \\\\\n",
    "\\end{eqnarray*}\n",
    "\n",
    "\\begin{eqnarray*}\n",
    "    b_1 & = & \\frac{1}{\\pi} \\int^{\\pi}_{-\\pi} \\cos(t) \\sin(t) ~ dt \\\\\n",
    "        & = & \\frac{1}{\\pi} \\times 0 \\\\\n",
    "        & = & 0 \\\\\n",
    "\\end{eqnarray*}\n",
    "\n",
    "\\begin{eqnarray*}\n",
    "    a_2 & = & \\frac{1}{\\pi} \\int^{\\pi}_{-\\pi} \\cos(t) \\cos(2t) ~ dt \\\\\n",
    "        & = & \\frac{1}{\\pi} \\times 0 \\\\\n",
    "        & = & 0 \\\\\n",
    "\\end{eqnarray*}\n",
    "\n",
    "\\begin{eqnarray*}\n",
    "    b_2 & = & \\frac{1}{\\pi} \\int^{\\pi}_{-\\pi} \\cos(t) \\sin(2t) ~ dt \\\\\n",
    "        & = & \\frac{1}{\\pi} \\times 0 \\\\\n",
    "        & = & 0 \\\\\n",
    "\\end{eqnarray*}\n",
    "\n",
    "De même, les coefficients $a_3$, $b_3$, $a_4$, $b_4$, etc. sont tous nuls.\n",
    "        \n",
    "##### Vérification\n",
    "\n",
    "On a bien:\n",
    "\\begin{eqnarray*}\n",
    "    f(t) & = & \\frac{a_0}{2} + \\sum^{\\infty}_{n=1} (a_n \\cos(n t) + b_n \\sin(n t)) \\\\\n",
    "         & = & \\frac{0}{2} + 1 \\times \\cos(t) + 0 \\times \\sin(t) + 0 \\times \\cos(2t) + 0 \\times \\sin(2t) + ... \\\\\n",
    "         & = & \\cos(t) \\\\\n",
    "\\end{eqnarray*}"
   ]
  },
  {
   "cell_type": "markdown",
   "metadata": {},
   "source": [
    "#### Calcule des coefficients de Fourier pour la fonction $f(t) = 3 \\cos(t)$\n",
    "\n",
    "\\begin{eqnarray*}\n",
    "    a_0 & = & \\frac{1}{\\pi} \\int^{\\pi}_{-\\pi} f(t) \\cos(n t) ~ dt \\\\\n",
    "        & = & ... \\\\\n",
    "\\end{eqnarray*}\n",
    "\n",
    "\\begin{eqnarray*}\n",
    "    a_1 & = & \\frac{1}{\\pi} \\int^{\\pi}_{-\\pi} f(t) \\cos(n t) ~ dt \\\\\n",
    "        & = & ... \\\\\n",
    "\\end{eqnarray*}\n",
    "\n",
    "\\begin{eqnarray*}\n",
    "    b_1 & = & \\frac{1}{\\pi} \\int^{\\pi}_{-\\pi} f(t) \\sin(n t) ~ dt \\\\\n",
    "        & = & ... \\\\\n",
    "\\end{eqnarray*}"
   ]
  },
  {
   "cell_type": "markdown",
   "metadata": {},
   "source": [
    "#### Calcule des coefficients de Fourier pour la fonction $f(t) = \\cos(t) + 3$\n",
    "\n",
    "\\begin{eqnarray*}\n",
    "    a_0 & = & \\frac{1}{\\pi} \\int^{\\pi}_{-\\pi} f(t) \\cos(n t) ~ dt \\\\\n",
    "        & = & ... \\\\\n",
    "\\end{eqnarray*}\n",
    "\n",
    "\\begin{eqnarray*}\n",
    "    a_1 & = & \\frac{1}{\\pi} \\int^{\\pi}_{-\\pi} f(t) \\cos(n t) ~ dt \\\\\n",
    "        & = & ... \\\\\n",
    "\\end{eqnarray*}\n",
    "\n",
    "\\begin{eqnarray*}\n",
    "    b_1 & = & \\frac{1}{\\pi} \\int^{\\pi}_{-\\pi} f(t) \\sin(n t) ~ dt \\\\\n",
    "        & = & ... \\\\\n",
    "\\end{eqnarray*}"
   ]
  },
  {
   "cell_type": "markdown",
   "metadata": {},
   "source": [
    "#### Calcule des coefficients de Fourier pour la fonction $f(t) = \\cos(t + 3)$\n",
    "\n",
    "**TODO: ???**\n",
    "\n",
    "\\begin{eqnarray*}\n",
    "    a_0 & = & \\frac{1}{\\pi} \\int^{\\pi}_{-\\pi} f(t) \\cos(n t) ~ dt \\\\\n",
    "        & = & ... \\\\\n",
    "\\end{eqnarray*}\n",
    "\n",
    "\\begin{eqnarray*}\n",
    "    a_1 & = & \\frac{1}{\\pi} \\int^{\\pi}_{-\\pi} f(t) \\cos(n t) ~ dt \\\\\n",
    "        & = & ... \\\\\n",
    "\\end{eqnarray*}\n",
    "\n",
    "\\begin{eqnarray*}\n",
    "    b_1 & = & \\frac{1}{\\pi} \\int^{\\pi}_{-\\pi} f(t) \\sin(n t) ~ dt \\\\\n",
    "        & = & ... \\\\\n",
    "\\end{eqnarray*}"
   ]
  },
  {
   "cell_type": "markdown",
   "metadata": {},
   "source": [
    "#### Calcule des coefficients de Fourier pour la fonction $f(t) = \\cos(t) + 2 \\sin(t) - 3 \\sin(2t) + 4$\n",
    "\n",
    "TODO: add plots..."
   ]
  },
  {
   "cell_type": "code",
   "execution_count": null,
   "metadata": {
    "tags": [
     "hide"
    ]
   },
   "outputs": [],
   "source": [
    "integ = sp.Integral((sp.cos(t) + 2 * sp.sin(t) - 3 * sp.sin(2*t) + 4) * sp.cos(0), (t, -sp.pi, sp.pi))\n",
    "sp.Eq(integ, integ.doit())"
   ]
  },
  {
   "cell_type": "markdown",
   "metadata": {},
   "source": [
    "\\begin{eqnarray*}\n",
    "    a_0 & = & \\frac{1}{\\pi} \\int^{\\pi}_{-\\pi} (\\cos(t) + 2 \\sin(t) - 3 \\sin(2t) + 4) \\cos(0) ~ dt \\\\\n",
    "        & = & \\frac{1}{\\pi} \\int^{\\pi}_{-\\pi} \\cos(t) ~ dt \\\\\n",
    "        & = & \\frac{1}{\\pi} \\times 8\\pi\\\\\n",
    "        & = & 8\\\\\n",
    "\\end{eqnarray*}"
   ]
  },
  {
   "cell_type": "code",
   "execution_count": null,
   "metadata": {
    "tags": [
     "hide"
    ]
   },
   "outputs": [],
   "source": [
    "integ = sp.Integral((sp.cos(t) + 2 * sp.sin(t) - 3 * sp.sin(2*t) + 4) * sp.cos(t), (t, -sp.pi, sp.pi))\n",
    "sp.Eq(integ, integ.doit())"
   ]
  },
  {
   "cell_type": "markdown",
   "metadata": {},
   "source": [
    "\\begin{eqnarray*}\n",
    "    a_1 & = & \\frac{1}{\\pi} \\int^{\\pi}_{-\\pi} (\\cos(t) + 2 \\sin(t) - 3 \\sin(2t) + 4) \\cos(t) ~ dt \\\\\n",
    "        & = & \\frac{1}{\\pi} \\times \\pi \\\\\n",
    "        & = & 1 \\\\\n",
    "\\end{eqnarray*}"
   ]
  },
  {
   "cell_type": "code",
   "execution_count": null,
   "metadata": {
    "tags": [
     "hide"
    ]
   },
   "outputs": [],
   "source": [
    "integ = sp.Integral((sp.cos(t) + 2 * sp.sin(t) - 3 * sp.sin(2*t) + 4) * sp.sin(t), (t, -sp.pi, sp.pi))\n",
    "sp.Eq(integ, integ.doit())"
   ]
  },
  {
   "cell_type": "markdown",
   "metadata": {},
   "source": [
    "\\begin{eqnarray*}\n",
    "    b_1 & = & \\frac{1}{\\pi} \\int^{\\pi}_{-\\pi} (\\cos(t) + 2 \\sin(t) - 3 \\sin(2t) + 4) \\sin(t) ~ dt \\\\\n",
    "        & = & \\frac{1}{\\pi} \\times 2\\pi \\\\\n",
    "        & = & 2 \\\\\n",
    "\\end{eqnarray*}"
   ]
  },
  {
   "cell_type": "code",
   "execution_count": null,
   "metadata": {
    "tags": [
     "hide"
    ]
   },
   "outputs": [],
   "source": [
    "integ = sp.Integral((sp.cos(t) + 2 * sp.sin(t) - 3 * sp.sin(2*t) + 4) * sp.cos(2*t), (t, -sp.pi, sp.pi))\n",
    "sp.Eq(integ, integ.doit())"
   ]
  },
  {
   "cell_type": "markdown",
   "metadata": {},
   "source": [
    "\\begin{eqnarray*}\n",
    "    a_2 & = & \\frac{1}{\\pi} \\int^{\\pi}_{-\\pi} (\\cos(t) + 2 \\sin(t) - 3 \\sin(2t) + 4) \\cos(2t) ~ dt \\\\\n",
    "        & = & \\frac{1}{\\pi} \\times 0 \\\\\n",
    "        & = & 0 \\\\\n",
    "\\end{eqnarray*}"
   ]
  },
  {
   "cell_type": "code",
   "execution_count": null,
   "metadata": {
    "tags": [
     "hide"
    ]
   },
   "outputs": [],
   "source": [
    "integ = sp.Integral((sp.cos(t) + 2 * sp.sin(t) - 3 * sp.sin(2*t) + 4) * sp.sin(2*t), (t, -sp.pi, sp.pi))\n",
    "sp.Eq(integ, integ.doit())"
   ]
  },
  {
   "cell_type": "markdown",
   "metadata": {},
   "source": [
    "\\begin{eqnarray*}\n",
    "    b_2 & = & \\frac{1}{\\pi} \\int^{\\pi}_{-\\pi} (\\cos(t) + 2 \\sin(t) - 3 \\sin(2t) + 4) \\sin(2t) ~ dt \\\\\n",
    "        & = & \\frac{1}{\\pi} \\times -3\\pi \\\\\n",
    "        & = & -3 \\\\\n",
    "\\end{eqnarray*}"
   ]
  },
  {
   "cell_type": "markdown",
   "metadata": {},
   "source": [
    "Les coefficients $a_3$, $b_3$, $a_4$, $b_4$, etc. sont tous nuls."
   ]
  },
  {
   "cell_type": "markdown",
   "metadata": {},
   "source": [
    "##### Vérification\n",
    "\n",
    "On a bien:\n",
    "\\begin{eqnarray*}\n",
    "    f(t) & = & \\frac{a_0}{2} + \\sum^{\\infty}_{n=1} (a_n \\cos(n t) + b_n \\sin(n t)) \\\\\n",
    "         & = & \\frac{8}{2} + 1 \\times \\cos(t) + 2 \\times \\sin(t) + 0 \\times \\cos(2t) + (-3) \\times \\sin(2t) + \\dots \\\\\n",
    "         & = & \\cos(t) + 2 \\sin(t) - 3 \\sin(2t) + 4 \\\\\n",
    "\\end{eqnarray*}"
   ]
  },
  {
   "cell_type": "markdown",
   "metadata": {},
   "source": [
    "#### Calcule des coefficients de Fourier pour la fonction $f(t) = \\cos(t) + 2 \\sin(t) - 3 \\sin(2t) + 4$ en utilisant la notation exponentielle\n",
    "\n",
    "TODO: add plots..."
   ]
  },
  {
   "cell_type": "markdown",
   "metadata": {
    "tags": [
     "hide"
    ]
   },
   "source": [
    "**TODO**\n",
    "\n",
    "$$\n",
    "c_n = \\frac{1}{2\\pi} \\int^{\\pi}_{-\\pi} f(t) e^{-i n t} dt\n",
    "$$"
   ]
  },
  {
   "cell_type": "code",
   "execution_count": null,
   "metadata": {},
   "outputs": [],
   "source": [
    "sp.cos(t) + 2 * sp.sin(t) - 3 * sp.sin(2*t) + 4"
   ]
  },
  {
   "cell_type": "code",
   "execution_count": null,
   "metadata": {
    "tags": [
     "hide_code"
    ]
   },
   "outputs": [],
   "source": [
    "n = 0\n",
    "sp.plot(sp.cos(t) + 2 * sp.sin(t) - 3 * sp.sin(2*t) + 4, (t, -sp.pi, sp.pi));"
   ]
  },
  {
   "cell_type": "code",
   "execution_count": null,
   "metadata": {
    "tags": [
     "hide"
    ]
   },
   "outputs": [],
   "source": [
    "import mpmath\n",
    "\n",
    "n = 2\n",
    "mpmath.cplot(lambda t: mpmath.exp(-mpmath.j * n * t), points=100000)"
   ]
  },
  {
   "cell_type": "code",
   "execution_count": null,
   "metadata": {
    "tags": [
     "hide"
    ]
   },
   "outputs": [],
   "source": [
    "n = 0\n",
    "integ = sp.Integral((sp.cos(t) + 2 * sp.sin(t) - 3 * sp.sin(2*t) + 4) * sp.exp(-sp.I * n * t), (t, -sp.pi, sp.pi))\n",
    "integ_res = integ.doit()\n",
    "sp.Eq(integ, integ_res)"
   ]
  },
  {
   "cell_type": "code",
   "execution_count": null,
   "metadata": {
    "tags": [
     "hide"
    ]
   },
   "outputs": [],
   "source": [
    "sp.simplify(integ_res / sp.pi)"
   ]
  },
  {
   "cell_type": "markdown",
   "metadata": {},
   "source": [
    "\\begin{eqnarray*}\n",
    "    c_0 & = & \\frac{1}{2\\pi} \\int^{\\pi}_{-\\pi} (\\cos(t) + 2 \\sin(t) - 3 \\sin(2t) + 4) e^{0} ~ dt \\\\\n",
    "        & = & \\frac{1}{\\pi} \\times 8\\pi\\\\\n",
    "        & = & 8\\\\\n",
    "\\end{eqnarray*}"
   ]
  },
  {
   "cell_type": "code",
   "execution_count": null,
   "metadata": {
    "tags": [
     "hide"
    ]
   },
   "outputs": [],
   "source": [
    "n = 1\n",
    "integ = sp.Integral((sp.cos(t) + 2 * sp.sin(t) - 3 * sp.sin(2*t) + 4) * sp.exp(-sp.I * n * t), (t, -sp.pi, sp.pi))\n",
    "integ_res = integ.doit()\n",
    "sp.Eq(integ, integ_res)"
   ]
  },
  {
   "cell_type": "code",
   "execution_count": null,
   "metadata": {
    "tags": [
     "hide"
    ]
   },
   "outputs": [],
   "source": [
    "sp.simplify(integ_res / sp.pi)"
   ]
  },
  {
   "cell_type": "markdown",
   "metadata": {},
   "source": [
    "\\begin{eqnarray*}\n",
    "    c_1 & = & \\frac{1}{2\\pi} \\int^{\\pi}_{-\\pi} (\\cos(t) + 2 \\sin(t) - 3 \\sin(2t) + 4) e^{-it} ~ dt \\\\\n",
    "        & = & \\frac{1}{\\pi} \\times \\pi - 2i\\pi\\\\\n",
    "        & = & 1 - 2i\\\\\n",
    "\\end{eqnarray*}"
   ]
  },
  {
   "cell_type": "code",
   "execution_count": null,
   "metadata": {
    "tags": [
     "hide"
    ]
   },
   "outputs": [],
   "source": [
    "n = -1\n",
    "integ = sp.Integral((sp.cos(t) + 2 * sp.sin(t) - 3 * sp.sin(2*t) + 4) * sp.exp(-sp.I * n * t), (t, -sp.pi, sp.pi))\n",
    "integ_res = integ.doit()\n",
    "sp.Eq(integ, integ_res)"
   ]
  },
  {
   "cell_type": "code",
   "execution_count": null,
   "metadata": {
    "tags": [
     "hide"
    ]
   },
   "outputs": [],
   "source": [
    "sp.simplify(integ_res / sp.pi)"
   ]
  },
  {
   "cell_type": "markdown",
   "metadata": {},
   "source": [
    "\\begin{eqnarray*}\n",
    "    c_{-1} & = & \\frac{1}{2\\pi} \\int^{\\pi}_{-\\pi} (\\cos(t) + 2 \\sin(t) - 3 \\sin(2t) + 4) e^{it} ~ dt \\\\\n",
    "        & = & \\frac{1}{\\pi} \\times \\pi + 2i\\pi\\\\\n",
    "        & = & 1 + 2i\\\\\n",
    "\\end{eqnarray*}"
   ]
  },
  {
   "cell_type": "code",
   "execution_count": null,
   "metadata": {
    "tags": [
     "hide"
    ]
   },
   "outputs": [],
   "source": [
    "n = 2\n",
    "integ = sp.Integral((sp.cos(t) + 2 * sp.sin(t) - 3 * sp.sin(2*t) + 4) * sp.exp(-sp.I * n * t), (t, -sp.pi, sp.pi))\n",
    "integ_res = integ.doit()\n",
    "sp.Eq(integ, integ_res)"
   ]
  },
  {
   "cell_type": "code",
   "execution_count": null,
   "metadata": {
    "tags": [
     "hide"
    ]
   },
   "outputs": [],
   "source": [
    "sp.simplify(integ_res / sp.pi)"
   ]
  },
  {
   "cell_type": "markdown",
   "metadata": {},
   "source": [
    "\\begin{eqnarray*}\n",
    "    c_2 & = & \\frac{1}{2\\pi} \\int^{\\pi}_{-\\pi} (\\cos(t) + 2 \\sin(t) - 3 \\sin(2t) + 4) e^{-2it} ~ dt \\\\\n",
    "        & = & \\frac{1}{\\pi} \\times 3i\\pi\\\\\n",
    "        & = & 3i\\\\\n",
    "\\end{eqnarray*}"
   ]
  },
  {
   "cell_type": "code",
   "execution_count": null,
   "metadata": {
    "tags": [
     "hide"
    ]
   },
   "outputs": [],
   "source": [
    "n = -2\n",
    "integ = sp.Integral((sp.cos(t) + 2 * sp.sin(t) - 3 * sp.sin(2*t) + 4) * sp.exp(-sp.I * n * t), (t, -sp.pi, sp.pi))\n",
    "integ_res = integ.doit()\n",
    "sp.Eq(integ, integ_res)"
   ]
  },
  {
   "cell_type": "code",
   "execution_count": null,
   "metadata": {
    "tags": [
     "hide"
    ]
   },
   "outputs": [],
   "source": [
    "sp.simplify(integ_res / sp.pi)"
   ]
  },
  {
   "cell_type": "markdown",
   "metadata": {},
   "source": [
    "\\begin{eqnarray*}\n",
    "    c_{-2} & = & \\frac{1}{2\\pi} \\int^{\\pi}_{-\\pi} (\\cos(t) + 2 \\sin(t) - 3 \\sin(2t) + 4) e^{2it} ~ dt \\\\\n",
    "        & = & \\frac{1}{\\pi} \\times -3i\\pi\\\\\n",
    "        & = & -3i\\\\\n",
    "\\end{eqnarray*}"
   ]
  },
  {
   "cell_type": "code",
   "execution_count": null,
   "metadata": {
    "tags": [
     "hide"
    ]
   },
   "outputs": [],
   "source": [
    "n = 3\n",
    "integ = sp.Integral((sp.cos(t) + 2 * sp.sin(t) - 3 * sp.sin(2*t) + 4) * sp.exp(-sp.I * n * t), (t, -sp.pi, sp.pi))\n",
    "integ_res = integ.doit()\n",
    "sp.Eq(integ, integ_res)"
   ]
  },
  {
   "cell_type": "code",
   "execution_count": null,
   "metadata": {
    "tags": [
     "hide"
    ]
   },
   "outputs": [],
   "source": [
    "sp.simplify(integ_res / sp.pi)"
   ]
  },
  {
   "cell_type": "markdown",
   "metadata": {},
   "source": [
    "\\begin{eqnarray*}\n",
    "    c_3 & = & \\frac{1}{2\\pi} \\int^{\\pi}_{-\\pi} (\\cos(t) + 2 \\sin(t) - 3 \\sin(2t) + 4) e^{-3it} ~ dt \\\\\n",
    "        & = & \\frac{1}{\\pi} \\times 0 \\\\\n",
    "        & = & 0\\\\\n",
    "\\end{eqnarray*}"
   ]
  },
  {
   "cell_type": "code",
   "execution_count": null,
   "metadata": {
    "tags": [
     "hide"
    ]
   },
   "outputs": [],
   "source": [
    "n = -3\n",
    "integ = sp.Integral((sp.cos(t) + 2 * sp.sin(t) - 3 * sp.sin(2*t) + 4) * sp.exp(-sp.I * n * t), (t, -sp.pi, sp.pi))\n",
    "integ_res = integ.doit()\n",
    "sp.Eq(integ, integ_res)"
   ]
  },
  {
   "cell_type": "code",
   "execution_count": null,
   "metadata": {
    "tags": [
     "hide"
    ]
   },
   "outputs": [],
   "source": [
    "sp.simplify(integ_res / sp.pi)"
   ]
  },
  {
   "cell_type": "markdown",
   "metadata": {},
   "source": [
    "\\begin{eqnarray*}\n",
    "    c_{-3} & = & \\frac{1}{2\\pi} \\int^{\\pi}_{-\\pi} (\\cos(t) + 2 \\sin(t) - 3 \\sin(2t) + 4) e^{3it} ~ dt \\\\\n",
    "        & = & \\frac{1}{\\pi} \\times 0 \\\\\n",
    "        & = & 0 \\\\\n",
    "\\end{eqnarray*}"
   ]
  },
  {
   "cell_type": "markdown",
   "metadata": {},
   "source": [
    "Les coefficients $c_4$, $b_-4$, $a_5$, $b_-5$, etc. sont tous nuls."
   ]
  },
  {
   "cell_type": "markdown",
   "metadata": {},
   "source": [
    "##### Vérification\n",
    "\n",
    "On a bien:\n",
    "\\begin{eqnarray*}\n",
    "    f(t) & = & \\sum^{\\infty}_{n=-\\infty} c_n e^{i n t} \\\\\n",
    "         & = & \\underbrace{8 \\times e^{0}} + \\underbrace{1-2i \\times e^{-it}} + \\underbrace{1+2i \\times e^{it}} + \\underbrace{3i \\times e^{-2it}} + \\underbrace{-3i \\times e^{2it}} + \\dots \\\\\n",
    "         & = & TODO !!!!!!! \\\\\n",
    "         & = & \\cos(t) + 2 \\sin(t) - 3 \\sin(2t) + 4 \\\\\n",
    "\\end{eqnarray*}"
   ]
  },
  {
   "cell_type": "code",
   "execution_count": null,
   "metadata": {
    "tags": [
     "hide"
    ]
   },
   "outputs": [],
   "source": [
    "eq1 = sp.simplify(8 * sp.exp(0) \\\n",
    "                  + 1 - 2 * sp.I * sp.exp(-sp.I * t) \\\n",
    "                  + 1 + 2 * sp.I * sp.exp( sp.I * t) \\\n",
    "                  + 3 * sp.I * sp.exp(-2* sp.I * t) \\\n",
    "                  - 3 * sp.I * sp.exp( 2* sp.I * t) )\n",
    "eq1"
   ]
  },
  {
   "cell_type": "code",
   "execution_count": null,
   "metadata": {
    "tags": [
     "hide"
    ]
   },
   "outputs": [],
   "source": [
    "sp.simplify(eq1 - sp.cos(t) + 2 * sp.sin(t) - 3 * sp.sin(2 * t) + 4)"
   ]
  },
  {
   "cell_type": "markdown",
   "metadata": {},
   "source": [
    "**TODO**\n",
    "\n",
    "L'exemple précédent est foireux... Regarder plutôt les 3 exemples du site suivant pour s'entrainer avec la notation complexe: https://www.math24.net/complex-form-fourier-series/\n",
    "\n",
    "Voir aussi https://www.youtube.com/watch?v=FIKPlRsADL0\n",
    "\n",
    "Intérêt de la notation exponentielle: certains signaux tel que celui présenté dans \n",
    "http://www.thefouriertransform.com/series/complexcoefficients.php\n",
    "nécessiterait de calculer une infinité de coefficients avec la notation trigonométrique... Avec la notation exponentielle, deux formules suffisent à donner tous les coefficients $\\neq$ 0 !\n",
    "\n",
    "**TODO**:\n",
    "* step 1: calcul pour retrouver la série réelle ($\\mathbb{R}$) à partir des coefs complexes -> prendre un de ces exemples, partir du résultat (les coefs. $c_n$) et calculer la série -> il y a un ex dans https://www.math24.net/complex-form-fourier-series/\n",
    "* step 2: calcul des coefs."
   ]
  },
  {
   "cell_type": "markdown",
   "metadata": {},
   "source": [
    "**TODO**: DFT (p.794) et FFT (p.797)"
   ]
  }
 ],
 "metadata": {
  "anaconda-cloud": {},
  "celltoolbar": "Tags",
  "kernelspec": {
   "display_name": "Python 3",
   "language": "python",
   "name": "python3"
  },
  "language_info": {
   "codemirror_mode": {
    "name": "ipython",
    "version": 3
   },
   "file_extension": ".py",
   "mimetype": "text/x-python",
   "name": "python",
   "nbconvert_exporter": "python",
   "pygments_lexer": "ipython3",
   "version": "3.6.5"
  }
 },
 "nbformat": 4,
 "nbformat_minor": 2
}
