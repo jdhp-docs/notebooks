{
 "cells": [
  {
   "cell_type": "markdown",
   "metadata": {},
   "source": [
    "# Linear programming : stock problem"
   ]
  },
  {
   "cell_type": "markdown",
   "metadata": {},
   "source": [
    "See https://docs.scipy.org/doc/scipy/reference/generated/scipy.optimize.linprog.html"
   ]
  },
  {
   "cell_type": "code",
   "execution_count": null,
   "metadata": {},
   "outputs": [],
   "source": [
    "%matplotlib inline\n",
    "\n",
    "import matplotlib.pyplot as plt\n",
    "\n",
    "import scipy.optimize"
   ]
  },
  {
   "cell_type": "markdown",
   "metadata": {},
   "source": [
    "## Scipy's syntax\n",
    "\n",
    "Example for a problem of 2 dimensions:"
   ]
  },
  {
   "cell_type": "markdown",
   "metadata": {},
   "source": [
    "$$\n",
    "\\begin{align}\n",
    "    \\min_{x_1,x_2} & \\quad \\color{\\red}{c_1} x_1 + \\color{\\red}{c_2} x_2 \\\\\n",
    "    \\text{s.t.}    & \\quad \\color{\\orange}{A_{1,1}} x_1 + \\color{\\orange}{A_{1,2}} x_2 \\leq \\color{\\green}{b_1} \\\\\n",
    "                   & \\quad \\color{\\orange}{A_{2,1}} x_1 + \\color{\\orange}{A_{2,2}} x_2 \\leq \\color{\\green}{b_2} \\\\\n",
    "                   & \\quad \\color{\\purple}{B_{1,1}} \\geq x_1 \\geq \\color{\\purple}{B_{1,2}} \\\\\n",
    "                   & \\quad \\color{\\purple}{B_{2,1}} \\geq x_2 \\geq \\color{\\purple}{B_{2,2}} \\\\\n",
    "\\end{align}\n",
    "$$"
   ]
  },
  {
   "cell_type": "markdown",
   "metadata": {},
   "source": [
    " "
   ]
  },
  {
   "cell_type": "markdown",
   "metadata": {},
   "source": [
    "$$\n",
    "\\color{\\red}{\n",
    "\\boldsymbol{c} = \\begin{pmatrix}\n",
    "    c_1 \\\\\n",
    "    c_2\n",
    "\\end{pmatrix}\n",
    "}\n",
    "\\quad\n",
    "\\color{\\orange}{\n",
    "\\boldsymbol{A} = \\begin{pmatrix}\n",
    "    A_{1,1} & A_{1,2} \\\\\n",
    "    A_{2,1} & A_{2,2}\n",
    "\\end{pmatrix}\n",
    "}\n",
    "\\quad\n",
    "\\color{\\green}{\n",
    "\\boldsymbol{b} = \\begin{pmatrix}\n",
    "    b_1 \\\\\n",
    "    b_2\n",
    "\\end{pmatrix}\n",
    "}\n",
    "\\quad\n",
    "\\color{\\purple}{\n",
    "\\boldsymbol{B} = \\begin{pmatrix}\n",
    "    B_{1,1} & B_{1,2} \\\\\n",
    "    B_{2,1} & B_{2,2}\n",
    "\\end{pmatrix}\n",
    "}\n",
    "$$"
   ]
  },
  {
   "cell_type": "markdown",
   "metadata": {},
   "source": [
    " "
   ]
  },
  {
   "cell_type": "markdown",
   "metadata": {},
   "source": [
    "$$\n",
    "\\text{scipy.optimize.linprog}(\\color{\\red}{\\boldsymbol{c}}, ~ \\color{\\orange}{\\boldsymbol{A}}, ~ \\color{\\green}{\\boldsymbol{b}}, ~ \\color{\\purple}{\\boldsymbol{B}})\n",
    "$$"
   ]
  },
  {
   "cell_type": "markdown",
   "metadata": {},
   "source": [
    "## Stock problem"
   ]
  },
  {
   "cell_type": "code",
   "execution_count": null,
   "metadata": {},
   "outputs": [],
   "source": [
    "plt.plot([1, 2, 3], [10, 30, 20], \"o-\")\n",
    "plt.xlabel(\"Unit of time (t)\")\n",
    "plt.ylabel(\"Price of one unit of energy (c)\")\n",
    "plt.title(\"Cost of energy on the market\")\n",
    "plt.show();"
   ]
  },
  {
   "cell_type": "markdown",
   "metadata": {},
   "source": [
    "**TODO**: put pictures and explanations from my PhD"
   ]
  },
  {
   "cell_type": "markdown",
   "metadata": {},
   "source": [
    "* $x_t < 0$ = buy $|x|$ at time $t$\n",
    "* $x_t > 0$ = sell $|x|$ at time $t$\n",
    "* $s_t$ = the battery level at time $t$"
   ]
  },
  {
   "cell_type": "markdown",
   "metadata": {},
   "source": [
    "$$\n",
    "\\begin{align}\n",
    "    \\max_{x_1,x_2,x_3} & \\quad p_1 x_1 + p_2 x_2 + p_3 x_3 \\\\\n",
    "    \\text{s.t.}        & \\quad s_0 = 0 \\\\\n",
    "                       & \\quad s_t = s_{t-1} - x_t \\\\\n",
    "                       & \\quad x_t \\geq -(s_{\\max} - s_{t-1}) \\quad \\quad \\text{can't buy more than the \"free space\" of the battery} \\\\\n",
    "                       & \\quad x_t \\leq s_{t-1}               \\quad \\quad \\quad \\quad \\quad \\quad \\text{can't sell more than what have been stored in the battery} \\\\\n",
    "                       & \\\\\n",
    "                       & \\\\\n",
    "    \\Leftrightarrow \\min_{x_1,x_2,x_3} & \\quad - p_1 x_1 - p_2 x_2 - p_3 x_3 \\\\\n",
    "    \\text{s.t.}        & \\quad s_0 = 0 \\\\\n",
    "                       & \\quad s_t = s_{t-1} - x_t \\\\\n",
    "                       & \\quad x_t \\geq -(s_{\\max} - s_{t-1}) \\Leftrightarrow x_t \\geq -s_{\\max} + s_{t-1} \\\\\n",
    "                       & \\quad x_t \\leq s_{t-1} \\\\\n",
    "                       & \\\\\n",
    "                       & \\\\\n",
    "    \\Leftrightarrow \\min_{x_1,x_2,x_3} & \\quad - p_1 x_1 - p_2 x_2 - p_3 x_3 \\\\\n",
    "    \\text{s.t.}        & \\quad s_1 = -x_1 \\\\\n",
    "                       & \\quad x_1 \\geq -s_{\\max} \\\\\n",
    "                       & \\quad x_1 \\leq 0 \\\\\n",
    "                       & \\quad s_2 = s_1 - x_2 = -x_1 - x_2 \\\\\n",
    "                       & \\quad x_2 \\geq -s_{\\max} + s_1 \\Leftrightarrow x_2 \\geq -s_{\\max} - x_1 \\\\\n",
    "                       & \\quad x_2 \\leq s_1 \\Leftrightarrow x_2 \\leq -x_1 \\\\\n",
    "                       & \\quad s_3 = s_2 - x_3 = -x_1 - x_2 - x_3 \\\\\n",
    "                       & \\quad x_3 \\geq -s_{\\max} + s_2 \\Leftrightarrow x_3 \\geq -s_{\\max} - x_1 - x_2 \\\\\n",
    "                       & \\quad x_3 \\leq s_2 \\Leftrightarrow x_3 \\leq -x_1 - x_2 \\\\\n",
    "                       & \\\\\n",
    "                       & \\\\\n",
    "    \\Leftrightarrow \\min_{x_1,x_2,x_3} & \\quad - p_1 x_1 - p_2 x_2 - p_3 x_3 \\\\\n",
    "    \\text{s.t.}        & \\quad x_1 \\geq -s_{\\max} \\\\\n",
    "                       & \\quad x_1 \\leq 0 \\\\\n",
    "                       & \\quad x_2 \\geq -s_{\\max} - x_1 \\\\\n",
    "                       & \\quad x_2 \\leq -x_1 \\\\\n",
    "                       & \\quad x_3 \\geq -s_{\\max} - x_1 - x_2 \\\\\n",
    "                       & \\quad x_3 \\leq -x_1 - x_2 \\\\\n",
    "                       & \\\\\n",
    "                       & \\\\\n",
    "    \\Leftrightarrow \\min_{x_1,x_2,x_3} & \\quad - p_1 x_1 - p_2 x_2 - p_3 x_3 \\\\\n",
    "    \\text{s.t.}        & \\quad x_1 \\geq -s_{\\max} \\\\\n",
    "                       & \\quad x_1 \\leq 0 \\\\\n",
    "                       & \\quad x_1 + x_2 \\geq -s_{\\max} \\\\\n",
    "                       & \\quad x_1 + x_2 \\leq 0 \\\\\n",
    "                       & \\quad x_1 + x_2 + x_3 \\geq -s_{\\max} \\\\\n",
    "                       & \\quad x_1 + x_2 + x_3 \\leq 0 \\\\\n",
    "                       & \\\\\n",
    "                       & \\\\\n",
    "    \\Leftrightarrow \\min_{x_1,x_2,x_3} & \\quad - p_1 x_1 - p_2 x_2 - p_3 x_3 \\\\\n",
    "    \\text{s.t.}        & \\quad -x_1 \\leq s_{\\max} \\\\\n",
    "                       & \\quad  x_1 \\leq 0 \\\\\n",
    "                       & \\quad -x_1 - x_2 \\leq s_{\\max} \\\\\n",
    "                       & \\quad  x_1 + x_2 \\leq 0 \\\\\n",
    "                       & \\quad -x_1 - x_2 - x_3 \\leq s_{\\max} \\\\\n",
    "                       & \\quad  x_1 + x_2 + x_3 \\leq 0 \\\\\n",
    "                       & \\\\\n",
    "                       & \\\\\n",
    "\\end{align}\n",
    "$$\n",
    " \n",
    "$$\n",
    "\\color{\\red}{\n",
    "\\boldsymbol{c} = \\begin{pmatrix}\n",
    "    -p_1 \\\\\n",
    "    -p_2 \\\\\n",
    "    -p_3\n",
    "\\end{pmatrix}\n",
    "}\n",
    "\\quad\n",
    "\\color{\\orange}{\n",
    "\\boldsymbol{A} = \\begin{pmatrix}\n",
    "    -1 &  0 &  0 \\\\\n",
    "     1 &  0 &  0 \\\\\n",
    "    -1 & -1 &  0 \\\\\n",
    "     1 &  1 &  0 \\\\\n",
    "    -1 & -1 & -1 \\\\\n",
    "     1 &  1 &  1\n",
    "\\end{pmatrix}\n",
    "}\n",
    "\\quad\n",
    "\\color{\\green}{\n",
    "\\boldsymbol{b} = \\begin{pmatrix}\n",
    "    s_{\\max} \\\\\n",
    "    0 \\\\\n",
    "    s_{\\max} \\\\\n",
    "    0 \\\\\n",
    "    s_{\\max} \\\\\n",
    "    0\n",
    "\\end{pmatrix}\n",
    "}\n",
    "\\quad\n",
    "\\color{\\purple}{\n",
    "\\boldsymbol{B} = \\begin{pmatrix}\n",
    "    - & - \\\\\n",
    "    - & - \\\\\n",
    "    - & -\n",
    "\\end{pmatrix}\n",
    "}\n",
    "$$"
   ]
  },
  {
   "cell_type": "code",
   "execution_count": null,
   "metadata": {},
   "outputs": [],
   "source": [
    "# Price of energy on the market\n",
    "price = [10, 30, 20]\n",
    "\n",
    "plt.plot(price);"
   ]
  },
  {
   "cell_type": "code",
   "execution_count": null,
   "metadata": {},
   "outputs": [],
   "source": [
    "stock_max = 100      # battery capacity"
   ]
  },
  {
   "cell_type": "markdown",
   "metadata": {},
   "source": [
    "## Hand write the model"
   ]
  },
  {
   "cell_type": "code",
   "execution_count": null,
   "metadata": {},
   "outputs": [],
   "source": [
    "# Coefficients of the linear objective function to be minimized\n",
    "p = -np.array(price)\n",
    "\n",
    "# 2-D array which, when matrix-multiplied by x, gives the values of the upper-bound inequality constraints at x.\n",
    "A = [[-1,  0,  0],\n",
    "     [ 1,  0,  0],\n",
    "     [-1, -1,  0],\n",
    "     [ 1,  1,  0],\n",
    "     [-1, -1, -1],\n",
    "     [ 1,  1,  1]]\n",
    "\n",
    "# 1-D array of values representing the upper-bound of each inequality constraint (row) in A.\n",
    "b = [stock_max, 0, stock_max, 0, stock_max, 0]\n",
    "\n",
    "# Sequence of (min, max) pairs for each element in x, defining the bounds on that parameter.\n",
    "# Use None for one of min or max when there is no bound in that direction.\n",
    "# By default bounds are (0, None) (non-negative).\n",
    "# If a sequence containing a single tuple is provided, then min and max will be applied to all variables in the problem.\n",
    "x0_bounds = (None, None)\n",
    "x1_bounds = (None, None)\n",
    "x2_bounds = (None, None)\n",
    "bounds = (x0_bounds, x1_bounds, x2_bounds)\n",
    "\n",
    "scipy.optimize.linprog(p, A_ub=A, b_ub=b, bounds=bounds)"
   ]
  },
  {
   "cell_type": "markdown",
   "metadata": {},
   "source": [
    "## Automatically make the model"
   ]
  },
  {
   "cell_type": "code",
   "execution_count": null,
   "metadata": {},
   "outputs": [],
   "source": [
    "# Cost of energy on the market\n",
    "\n",
    "#price = [10, 30, 20]          # -> -100, 100, 0\n",
    "#price = [10, 30, 10, 30]      # -> [-100.,  100., -100.,  100.]\n",
    "#price = [10, 30, 10, 30, 30]  # -> [-100.,  100., -100.,  100.,    0.]\n",
    "#price = [10, 20, 30, 40]      # -> [-100.,  0., 0.,  100.]\n",
    "price = [10, 30, 20, 50]\n",
    "price = [10, 30, 20, 50]\n",
    "\n",
    "plt.plot(price);"
   ]
  },
  {
   "cell_type": "code",
   "execution_count": null,
   "metadata": {},
   "outputs": [],
   "source": [
    "p = -np.array(price)"
   ]
  },
  {
   "cell_type": "code",
   "execution_count": null,
   "metadata": {},
   "outputs": [],
   "source": [
    "A = np.repeat(np.tril(np.ones(len(price))), 2, axis=0)\n",
    "A[::2, :] *= -1\n",
    "A"
   ]
  },
  {
   "cell_type": "code",
   "execution_count": null,
   "metadata": {},
   "outputs": [],
   "source": [
    "b = np.zeros(A.shape[0])\n",
    "b[::2] = stock_max\n",
    "b"
   ]
  },
  {
   "cell_type": "code",
   "execution_count": null,
   "metadata": {},
   "outputs": [],
   "source": [
    "bounds = tuple((None, None) for _p in price)\n",
    "bounds"
   ]
  },
  {
   "cell_type": "code",
   "execution_count": null,
   "metadata": {},
   "outputs": [],
   "source": [
    "%%time\n",
    "res = scipy.optimize.linprog(p, A_ub=A, b_ub=b, bounds=bounds)   # , method='revised simplex'"
   ]
  },
  {
   "cell_type": "code",
   "execution_count": null,
   "metadata": {},
   "outputs": [],
   "source": [
    "res"
   ]
  },
  {
   "cell_type": "code",
   "execution_count": null,
   "metadata": {},
   "outputs": [],
   "source": [
    "res.x.round(decimals=2)"
   ]
  }
 ],
 "metadata": {
  "kernelspec": {
   "display_name": "Python 3",
   "language": "python",
   "name": "python3"
  },
  "language_info": {
   "codemirror_mode": {
    "name": "ipython",
    "version": 3
   },
   "file_extension": ".py",
   "mimetype": "text/x-python",
   "name": "python",
   "nbconvert_exporter": "python",
   "pygments_lexer": "ipython3",
   "version": "3.7.1"
  }
 },
 "nbformat": 4,
 "nbformat_minor": 2
}
