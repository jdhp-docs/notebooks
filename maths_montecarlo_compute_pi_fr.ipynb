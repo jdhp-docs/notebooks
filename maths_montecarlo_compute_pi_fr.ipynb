{
 "cells": [
  {
   "cell_type": "markdown",
   "metadata": {
    "tags": [
     "meta",
     "draft"
    ]
   },
   "source": [
    "# Calcule numérique avec la méthode Monte-Carlo (deuxième partie)"
   ]
  },
  {
   "cell_type": "markdown",
   "metadata": {},
   "source": [
    "Ce document fait suite à l'article http://www.jdhp.org/docs/notebook/maths_montecarlo_compute_integral_fr.html où le calcul numérique à l'aide de la méthode Monte-Carlo à été introduit."
   ]
  },
  {
   "cell_type": "markdown",
   "metadata": {},
   "source": [
    "## Application au calcul de la constante $\\pi$"
   ]
  },
  {
   "cell_type": "markdown",
   "metadata": {},
   "source": [
    "..."
   ]
  },
  {
   "cell_type": "markdown",
   "metadata": {},
   "source": [
    "### Exemple written in Python"
   ]
  },
  {
   "cell_type": "markdown",
   "metadata": {},
   "source": [
    "#### Random points"
   ]
  },
  {
   "cell_type": "code",
   "execution_count": null,
   "metadata": {
    "collapsed": true
   },
   "outputs": [],
   "source": [
    "N = 100000           # The number of random points\n",
    "\n",
    "lower_bound = 0.0\n",
    "upper_bound = 1.0\n",
    "\n",
    "random_points = np.random.uniform(low=lower_bound, high=upper_bound, size=(N, 2))"
   ]
  },
  {
   "cell_type": "markdown",
   "metadata": {},
   "source": [
    "#### Numerical computation of $\\pi$ with Monte-Carlo"
   ]
  },
  {
   "cell_type": "markdown",
   "metadata": {},
   "source": [
    "Points in the circle, i.e. $x^2 + y^2 \\leq 1$"
   ]
  },
  {
   "cell_type": "markdown",
   "metadata": {},
   "source": [
    "...\n",
    "\n",
    "Compute $\\pi$ (with $r=1$):\n",
    "\n",
    "square_area = $r^2$\n",
    "circle_area = $\\pi * r^2$\n",
    "\n",
    "quarter_circle_area = $\\frac{\\pi * r^2}{4}$\n",
    "<=> quarter_circle_area = $\\pi$ * square_area / 4\n",
    "<=> $\\pi$ = quarter_circle_area / square_area * 4"
   ]
  },
  {
   "cell_type": "code",
   "execution_count": null,
   "metadata": {
    "collapsed": true
   },
   "outputs": [],
   "source": [
    "random_points_in = np.array([p for p in random_points if p[0]**2 + p[1]**2 <= 1.0])"
   ]
  },
  {
   "cell_type": "code",
   "execution_count": null,
   "metadata": {
    "collapsed": true
   },
   "outputs": [],
   "source": [
    "ratio = float(len(random_points_in)) / float(N)\n",
    "print('Percentage of points in the circle: {:.2f}%'.format(ratio * 100))\n",
    "\n",
    "s2 = (upper_bound - lower_bound)**2\n",
    "print(\"Box surface:\", s2)"
   ]
  },
  {
   "cell_type": "code",
   "execution_count": null,
   "metadata": {
    "collapsed": true
   },
   "outputs": [],
   "source": [
    "s1 = ratio * s2\n",
    "pi = 4. * s1\n",
    "print(\"Pi (numerical computation using Monte-Carlo):\", pi)"
   ]
  },
  {
   "cell_type": "markdown",
   "metadata": {},
   "source": [
    "#### The error ratio"
   ]
  },
  {
   "cell_type": "code",
   "execution_count": null,
   "metadata": {
    "collapsed": true
   },
   "outputs": [],
   "source": [
    "error = math.pi - pi\n",
    "print(\"Error ratio = {:.6f}%\".format(abs(error / math.pi) * 100.))"
   ]
  },
  {
   "cell_type": "markdown",
   "metadata": {},
   "source": [
    "#### Graphical illustration"
   ]
  },
  {
   "cell_type": "code",
   "execution_count": null,
   "metadata": {
    "collapsed": true
   },
   "outputs": [],
   "source": [
    "x_array = np.arange(lower_bound, upper_bound, 0.01)\n",
    "y_array = np.sqrt(1. - x_array**2)\n",
    "\n",
    "fig = plt.figure(figsize=(6, 6))\n",
    "plt.axis('equal')\n",
    "plt.plot(random_points[:,0], random_points[:,1], ',k')\n",
    "plt.plot(random_points_in[:,0], random_points_in[:,1], ',r')\n",
    "plt.hlines(y=0, xmin=lower_bound, xmax=upper_bound)\n",
    "plt.plot(x_array, y_array, '-r', linewidth=2)\n",
    "\n",
    "plt.show()"
   ]
  }
 ],
 "metadata": {
  "anaconda-cloud": {},
  "celltoolbar": "Tags",
  "kernelspec": {
   "display_name": "Python [default]",
   "language": "python",
   "name": "python3"
  },
  "language_info": {
   "codemirror_mode": {
    "name": "ipython",
    "version": 3
   },
   "file_extension": ".py",
   "mimetype": "text/x-python",
   "name": "python",
   "nbconvert_exporter": "python",
   "pygments_lexer": "ipython3",
   "version": "3.5.3"
  }
 },
 "nbformat": 4,
 "nbformat_minor": 1
}
