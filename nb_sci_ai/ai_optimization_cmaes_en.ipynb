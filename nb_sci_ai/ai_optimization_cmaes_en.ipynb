{
 "cells": [
  {
   "cell_type": "markdown",
   "metadata": {
    "tags": [
     "meta",
     "draft"
    ]
   },
   "source": [
    "# Covariance Matrix Adaptation Evolution Strategy (CMA-ES)"
   ]
  },
  {
   "cell_type": "markdown",
   "metadata": {
    "tags": [
     "hide"
    ]
   },
   "source": [
    "**TODO**:\n",
    "* [Wikipedia](https://en.wikipedia.org/wiki/CMA-ES)\n",
    "* [Scholarpedia](http://www.scholarpedia.org/article/Evolution_strategies#Covariance_Matrix_Adaptation_Evolution_Strategies_CMA-ESs)\n",
    "* [Matlab / mathematica implementation](https://homepages.fhv.at/hgb/downloads.html)"
   ]
  },
  {
   "cell_type": "markdown",
   "metadata": {},
   "source": [
    "## The CMA-ES algorithm"
   ]
  },
  {
   "cell_type": "markdown",
   "metadata": {},
   "source": [
    "TODO"
   ]
  },
  {
   "cell_type": "markdown",
   "metadata": {},
   "source": [
    "### Octave/Matlab\n",
    "\n",
    "An external Octave (Matlab) implementation is available there: https://homepages.fhv.at/hgb/downloads/cma-es.oct.\n",
    "\n",
    "### Mathematica\n",
    "\n",
    "An external Mathematica implementation is available there: https://homepages.fhv.at/hgb/downloads/cma-es.mat."
   ]
  }
 ],
 "metadata": {
  "anaconda-cloud": {},
  "celltoolbar": "Tags",
  "kernelspec": {
   "display_name": "Python [default]",
   "language": "python",
   "name": "python3"
  },
  "language_info": {
   "codemirror_mode": {
    "name": "ipython",
    "version": 3
   },
   "file_extension": ".py",
   "mimetype": "text/x-python",
   "name": "python",
   "nbconvert_exporter": "python",
   "pygments_lexer": "ipython3",
   "version": "3.5.3"
  }
 },
 "nbformat": 4,
 "nbformat_minor": 1
}
