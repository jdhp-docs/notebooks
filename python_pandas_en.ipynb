{
 "cells": [
  {
   "cell_type": "markdown",
   "metadata": {
    "tags": [
     "meta",
     "toc_en"
    ]
   },
   "source": [
    "# Pandas"
   ]
  },
  {
   "cell_type": "markdown",
   "metadata": {},
   "source": [
    "Source: https://github.com/jdhp-docs/notebooks/blob/master/python_pandas_en.ipynb"
   ]
  },
  {
   "cell_type": "markdown",
   "metadata": {},
   "source": [
    "<a href=\"https://colab.research.google.com/github/jdhp-docs/notebooks/blob/master/python_pandas_en.ipynb\"><img align=\"left\" src=\"https://colab.research.google.com/assets/colab-badge.svg\" alt=\"Open in Colab\" title=\"Open and Execute in Google Colaboratory\"></a>"
   ]
  },
  {
   "cell_type": "markdown",
   "metadata": {},
   "source": [
    "<a href=\"https://mybinder.org/v2/gh/jdhp-docs/notebooks/master?filepath=python_pandas_en.ipynb\"><img align=\"left\" src=\"https://mybinder.org/badge.svg\" alt=\"Open in Binder\" title=\"Open and Execute in Binder\"></a>"
   ]
  },
  {
   "cell_type": "markdown",
   "metadata": {},
   "source": [
    "Official documentation: http://pandas.pydata.org/pandas-docs/stable/"
   ]
  },
  {
   "cell_type": "markdown",
   "metadata": {},
   "source": [
    "Getting started:\n",
    "* https://pandas.pydata.org/pandas-docs/stable/10min.html\n",
    "* https://pandas.pydata.org/pandas-docs/stable/cookbook.html\n",
    "* https://pandas.pydata.org/pandas-docs/stable/tutorials.html"
   ]
  },
  {
   "cell_type": "markdown",
   "metadata": {},
   "source": [
    "## Import directives"
   ]
  },
  {
   "cell_type": "code",
   "execution_count": null,
   "metadata": {},
   "outputs": [],
   "source": [
    "%matplotlib inline\n",
    "#%matplotlib notebook\n",
    "\n",
    "from IPython.display import display\n",
    "\n",
    "import matplotlib\n",
    "matplotlib.rcParams['figure.figsize'] = (9, 9)\n",
    "import matplotlib.pyplot as plt\n",
    "import matplotlib.dates as mdates\n",
    "\n",
    "import datetime\n",
    "import pandas as pd\n",
    "import numpy as np"
   ]
  },
  {
   "cell_type": "code",
   "execution_count": null,
   "metadata": {},
   "outputs": [],
   "source": [
    "pd.__version__"
   ]
  },
  {
   "cell_type": "markdown",
   "metadata": {},
   "source": [
    "## Make data"
   ]
  },
  {
   "cell_type": "markdown",
   "metadata": {},
   "source": [
    "### Series (1D data)"
   ]
  },
  {
   "cell_type": "markdown",
   "metadata": {},
   "source": [
    "C.f. http://pandas.pydata.org/pandas-docs/stable/generated/pandas.Series.html"
   ]
  },
  {
   "cell_type": "markdown",
   "metadata": {},
   "source": [
    "#### With automatic indices"
   ]
  },
  {
   "cell_type": "code",
   "execution_count": null,
   "metadata": {},
   "outputs": [],
   "source": [
    "data_list = [1, 3, np.nan, 7]\n",
    "series = pd.Series(data_list)\n",
    "series"
   ]
  },
  {
   "cell_type": "code",
   "execution_count": null,
   "metadata": {},
   "outputs": [],
   "source": [
    "data_array = np.array(data_list)\n",
    "series = pd.Series(data_array)\n",
    "series"
   ]
  },
  {
   "cell_type": "markdown",
   "metadata": {},
   "source": [
    "#### With defined indices"
   ]
  },
  {
   "cell_type": "code",
   "execution_count": null,
   "metadata": {},
   "outputs": [],
   "source": [
    "indices = pd.Series([1, 3, 5, 7])\n",
    "series = pd.Series([10, 30, 50, 70], index=indices)\n",
    "series"
   ]
  },
  {
   "cell_type": "code",
   "execution_count": null,
   "metadata": {},
   "outputs": [],
   "source": [
    "indices = pd.Series(['A', 'B', 'C', 'D'])\n",
    "series = pd.Series([10, 30, 50, 70], index=indices)\n",
    "series"
   ]
  },
  {
   "cell_type": "code",
   "execution_count": null,
   "metadata": {},
   "outputs": [],
   "source": [
    "data_dict = {'A': 10, 'B': 30, 'C': 50, 'D': 70}\n",
    "series = pd.Series(data_dict)\n",
    "series"
   ]
  },
  {
   "cell_type": "markdown",
   "metadata": {},
   "source": [
    "#### Get information about a series"
   ]
  },
  {
   "cell_type": "code",
   "execution_count": null,
   "metadata": {},
   "outputs": [],
   "source": [
    "series.index"
   ]
  },
  {
   "cell_type": "code",
   "execution_count": null,
   "metadata": {},
   "outputs": [],
   "source": [
    "series.values"
   ]
  },
  {
   "cell_type": "code",
   "execution_count": null,
   "metadata": {},
   "outputs": [],
   "source": [
    "series.shape"
   ]
  },
  {
   "cell_type": "code",
   "execution_count": null,
   "metadata": {},
   "outputs": [],
   "source": [
    "series.dtypes"
   ]
  },
  {
   "cell_type": "code",
   "execution_count": null,
   "metadata": {},
   "outputs": [],
   "source": [
    "series.describe()"
   ]
  },
  {
   "cell_type": "code",
   "execution_count": null,
   "metadata": {},
   "outputs": [],
   "source": [
    "type(series.describe())"
   ]
  },
  {
   "cell_type": "code",
   "execution_count": null,
   "metadata": {},
   "outputs": [],
   "source": [
    "series.memory_usage()"
   ]
  },
  {
   "cell_type": "markdown",
   "metadata": {},
   "source": [
    "### Date ranges"
   ]
  },
  {
   "cell_type": "code",
   "execution_count": null,
   "metadata": {},
   "outputs": [],
   "source": [
    "dates = pd.date_range('20130101', periods=6)\n",
    "dates"
   ]
  },
  {
   "cell_type": "code",
   "execution_count": null,
   "metadata": {},
   "outputs": [],
   "source": [
    "dates = pd.date_range(start='2013-01-01', end='2013-01-08')\n",
    "dates"
   ]
  },
  {
   "cell_type": "code",
   "execution_count": null,
   "metadata": {},
   "outputs": [],
   "source": [
    "dates = pd.date_range('2013-01-01', periods=4, freq='M')\n",
    "dates"
   ]
  },
  {
   "cell_type": "code",
   "execution_count": null,
   "metadata": {},
   "outputs": [],
   "source": [
    "num_days = 7\n",
    "\n",
    "data = np.random.random(num_days)\n",
    "index = pd.date_range('2017-01-01', periods=num_days)\n",
    "\n",
    "series = pd.Series(data, index)\n",
    "series"
   ]
  },
  {
   "cell_type": "markdown",
   "metadata": {},
   "source": [
    "### Frames (2D data)"
   ]
  },
  {
   "cell_type": "markdown",
   "metadata": {},
   "source": [
    "C.f. http://pandas.pydata.org/pandas-docs/stable/generated/pandas.DataFrame.html"
   ]
  },
  {
   "cell_type": "markdown",
   "metadata": {},
   "source": [
    "#### With automatic indices and columns"
   ]
  },
  {
   "cell_type": "code",
   "execution_count": null,
   "metadata": {},
   "outputs": [],
   "source": [
    "data_list = [[1, 2, 3], [4, 5, 6]]\n",
    "df = pd.DataFrame(data_array)\n",
    "df"
   ]
  },
  {
   "cell_type": "code",
   "execution_count": null,
   "metadata": {},
   "outputs": [],
   "source": [
    "data_array = np.array([[1, 2, 3], [4, 5, 6]])\n",
    "df = pd.DataFrame(data_array)\n",
    "df"
   ]
  },
  {
   "cell_type": "markdown",
   "metadata": {},
   "source": [
    "#### With defined indices and columns"
   ]
  },
  {
   "cell_type": "markdown",
   "metadata": {},
   "source": [
    "Using lists:"
   ]
  },
  {
   "cell_type": "code",
   "execution_count": null,
   "metadata": {},
   "outputs": [],
   "source": [
    "data = [[1, 2, 3], [4, 5, 6]]\n",
    "index = [10, 20]\n",
    "columns = ['A', 'B', 'C']\n",
    "\n",
    "df = pd.DataFrame(data, index, columns)\n",
    "df"
   ]
  },
  {
   "cell_type": "markdown",
   "metadata": {},
   "source": [
    "Using numpy `arrays`:"
   ]
  },
  {
   "cell_type": "code",
   "execution_count": null,
   "metadata": {},
   "outputs": [],
   "source": [
    "data = np.array([[1, 2, 3], [4, 5, 6]])\n",
    "index = np.array([10, 20])\n",
    "columns = np.array(['A', 'B', 'C'])\n",
    "\n",
    "df = pd.DataFrame(data, index=index, columns=columns)\n",
    "df"
   ]
  },
  {
   "cell_type": "markdown",
   "metadata": {},
   "source": [
    "Using `Series`:"
   ]
  },
  {
   "cell_type": "code",
   "execution_count": null,
   "metadata": {},
   "outputs": [],
   "source": [
    "data = np.array([[1, 2, 3], [4, 5, 6]])\n",
    "index = pd.Series([10, 20])\n",
    "columns = pd.Series(['A', 'B', 'C'])\n",
    "\n",
    "df = pd.DataFrame(data, index=index, columns=columns)\n",
    "df"
   ]
  },
  {
   "cell_type": "markdown",
   "metadata": {},
   "source": [
    "#### With columns from dict"
   ]
  },
  {
   "cell_type": "markdown",
   "metadata": {},
   "source": [
    "Dictionary keys define **columns** label."
   ]
  },
  {
   "cell_type": "code",
   "execution_count": null,
   "metadata": {},
   "outputs": [],
   "source": [
    "data_dict = {'A': 'foo',\n",
    "             'B': [10, 20, 30],\n",
    "             'C': 3}\n",
    "df = pd.DataFrame(data_dict)\n",
    "df"
   ]
  },
  {
   "cell_type": "markdown",
   "metadata": {},
   "source": [
    "To define index as well:"
   ]
  },
  {
   "cell_type": "code",
   "execution_count": null,
   "metadata": {},
   "outputs": [],
   "source": [
    "data_dict = {'A': 'foo',\n",
    "             'B': [10, 20, 30],\n",
    "             'C': 3}\n",
    "df = pd.DataFrame(data_dict, index=[10, 20, 30])\n",
    "df"
   ]
  },
  {
   "cell_type": "markdown",
   "metadata": {},
   "source": [
    "#### Get information about a dataframe"
   ]
  },
  {
   "cell_type": "code",
   "execution_count": null,
   "metadata": {},
   "outputs": [],
   "source": [
    "df.index"
   ]
  },
  {
   "cell_type": "code",
   "execution_count": null,
   "metadata": {},
   "outputs": [],
   "source": [
    "df.columns"
   ]
  },
  {
   "cell_type": "code",
   "execution_count": null,
   "metadata": {},
   "outputs": [],
   "source": [
    "df.values"
   ]
  },
  {
   "cell_type": "code",
   "execution_count": null,
   "metadata": {},
   "outputs": [],
   "source": [
    "df.shape"
   ]
  },
  {
   "cell_type": "code",
   "execution_count": null,
   "metadata": {},
   "outputs": [],
   "source": [
    "df.dtypes"
   ]
  },
  {
   "cell_type": "code",
   "execution_count": null,
   "metadata": {},
   "outputs": [],
   "source": [
    "df.info()"
   ]
  },
  {
   "cell_type": "code",
   "execution_count": null,
   "metadata": {},
   "outputs": [],
   "source": [
    "df.describe()"
   ]
  },
  {
   "cell_type": "code",
   "execution_count": null,
   "metadata": {},
   "outputs": [],
   "source": [
    "type(df.describe())"
   ]
  },
  {
   "cell_type": "code",
   "execution_count": null,
   "metadata": {},
   "outputs": [],
   "source": [
    "df.memory_usage()"
   ]
  },
  {
   "cell_type": "markdown",
   "metadata": {},
   "source": [
    "#### More details about dtype"
   ]
  },
  {
   "cell_type": "markdown",
   "metadata": {},
   "source": [
    "DataFrame's columns can have different types. But what about rows ?\n",
    "\n",
    "What append when a DataFrame with columns having different type is transposed ?"
   ]
  },
  {
   "cell_type": "code",
   "execution_count": null,
   "metadata": {},
   "outputs": [],
   "source": [
    "data_dict = {'A': 'foo',\n",
    "             'B': [10, 20, 30],\n",
    "             'C': 3}\n",
    "df = pd.DataFrame(data_dict)\n",
    "df"
   ]
  },
  {
   "cell_type": "code",
   "execution_count": null,
   "metadata": {},
   "outputs": [],
   "source": [
    "df.dtypes"
   ]
  },
  {
   "cell_type": "code",
   "execution_count": null,
   "metadata": {},
   "outputs": [],
   "source": [
    "df2 = df.T\n",
    "df2"
   ]
  },
  {
   "cell_type": "code",
   "execution_count": null,
   "metadata": {},
   "outputs": [],
   "source": [
    "df2.dtypes"
   ]
  },
  {
   "cell_type": "markdown",
   "metadata": {},
   "source": [
    "### Panels (3D data)"
   ]
  },
  {
   "cell_type": "markdown",
   "metadata": {},
   "source": [
    "Panels are **deprecated**.\n",
    "\n",
    "Pandas now focuses on 1D (`Series`) and 2D (`DataFrame`) data structures.\n",
    "\n",
    "The recommended alternative to work with 3-dimensional data is the [xarray](http://xarray.pydata.org/en/stable/) python library.\n",
    "\n",
    "An other workaround: one can simply use a [MultiIndex](https://pandas.pydata.org/pandas-docs/stable/generated/pandas.MultiIndex.html) `DataFrame` for easily working with higher dimensional data.\n",
    "\n",
    "See http://pandas.pydata.org/pandas-docs/stable/dsintro.html#deprecate-panel."
   ]
  },
  {
   "cell_type": "markdown",
   "metadata": {},
   "source": [
    "### Panel4D and PanelND (ND data)"
   ]
  },
  {
   "cell_type": "markdown",
   "metadata": {},
   "source": [
    "`Panel4D` and `PanelND` are **deprecated**.\n",
    "\n",
    "Pandas now focuses on 1D (`Series`) and 2D (`DataFrame`) data structures.\n",
    "\n",
    "The recommended alternative to work with n-dimensional data is the [xarray](http://xarray.pydata.org/en/stable/) python library.\n",
    "\n",
    "An other workaround: one can simply use a [MultiIndex](https://pandas.pydata.org/pandas-docs/stable/generated/pandas.MultiIndex.html) `DataFrame` for easily working with higher dimensional data.\n",
    "\n",
    "See http://pandas.pydata.org/pandas-docs/stable/dsintro.html#panel4d-and-panelnd-deprecated."
   ]
  },
  {
   "cell_type": "markdown",
   "metadata": {},
   "source": [
    "## Export/import data (write/read files)"
   ]
  },
  {
   "cell_type": "markdown",
   "metadata": {},
   "source": [
    "See http://pandas.pydata.org/pandas-docs/stable/io.html"
   ]
  },
  {
   "cell_type": "markdown",
   "metadata": {},
   "source": [
    "Reader functions are accessibles from the top level `pd` object."
   ]
  },
  {
   "cell_type": "markdown",
   "metadata": {},
   "source": [
    "Writer functions are accessibles from data objects (i.e. `Series`, `DataFrame` or `Panel` objects)."
   ]
  },
  {
   "cell_type": "code",
   "execution_count": null,
   "metadata": {},
   "outputs": [],
   "source": [
    "data_array = np.array([[1, 2, 3], [4, 5, 6]])\n",
    "df = pd.DataFrame(data_array, index=[10, 20], columns=[100, 200, 300])\n",
    "df"
   ]
  },
  {
   "cell_type": "markdown",
   "metadata": {},
   "source": [
    "### HDF5 files"
   ]
  },
  {
   "cell_type": "markdown",
   "metadata": {},
   "source": [
    "See `python_pandas_hdf5_en.ipynb`..."
   ]
  },
  {
   "cell_type": "markdown",
   "metadata": {},
   "source": [
    "### CSV files"
   ]
  },
  {
   "cell_type": "markdown",
   "metadata": {},
   "source": [
    "See http://pandas.pydata.org/pandas-docs/stable/io.html#csv-text-files"
   ]
  },
  {
   "cell_type": "markdown",
   "metadata": {},
   "source": [
    "#### Write CSV files"
   ]
  },
  {
   "cell_type": "markdown",
   "metadata": {},
   "source": [
    "See http://pandas.pydata.org/pandas-docs/stable/io.html#io-store-in-csv"
   ]
  },
  {
   "cell_type": "markdown",
   "metadata": {},
   "source": [
    "Simplest version:"
   ]
  },
  {
   "cell_type": "code",
   "execution_count": null,
   "metadata": {},
   "outputs": [],
   "source": [
    "df.to_csv(path_or_buf=\"python_pandas_io_test.csv\")"
   ]
  },
  {
   "cell_type": "code",
   "execution_count": null,
   "metadata": {},
   "outputs": [],
   "source": [
    "!cat python_pandas_io_test.csv"
   ]
  },
  {
   "cell_type": "markdown",
   "metadata": {},
   "source": [
    "Setting more options:"
   ]
  },
  {
   "cell_type": "code",
   "execution_count": null,
   "metadata": {},
   "outputs": [],
   "source": [
    "# FYI, many other options are available\n",
    "df.to_csv(path_or_buf=\"python_pandas_io_test.csv\",\n",
    "          sep=',',\n",
    "          columns=None,\n",
    "          header=True,\n",
    "          index=True,\n",
    "          index_label=None,\n",
    "          compression=None,  # allowed values are 'gzip', 'bz2' or 'xz'\n",
    "          date_format=None)"
   ]
  },
  {
   "cell_type": "code",
   "execution_count": null,
   "metadata": {},
   "outputs": [],
   "source": [
    "!cat python_pandas_io_test.csv"
   ]
  },
  {
   "cell_type": "markdown",
   "metadata": {},
   "source": [
    "#### Read CSV files"
   ]
  },
  {
   "cell_type": "markdown",
   "metadata": {},
   "source": [
    "See http://pandas.pydata.org/pandas-docs/stable/io.html#io-read-csv-table"
   ]
  },
  {
   "cell_type": "markdown",
   "metadata": {},
   "source": [
    "Simplest version:"
   ]
  },
  {
   "cell_type": "code",
   "execution_count": null,
   "metadata": {},
   "outputs": [],
   "source": [
    "df = pd.read_csv(\"python_pandas_io_test.csv\")\n",
    "df"
   ]
  },
  {
   "cell_type": "markdown",
   "metadata": {},
   "source": [
    "Setting more options:"
   ]
  },
  {
   "cell_type": "code",
   "execution_count": null,
   "metadata": {},
   "outputs": [],
   "source": [
    "df = pd.read_csv(\"python_pandas_io_test.csv\",\n",
    "                 sep=',',\n",
    "                 delimiter=None,\n",
    "                 header='infer',\n",
    "                 names=None,\n",
    "                 index_col=0,\n",
    "                 usecols=None,\n",
    "                 squeeze=False,\n",
    "                 prefix=None,\n",
    "                 mangle_dupe_cols=True,\n",
    "                 dtype=None,\n",
    "                 engine=None,\n",
    "                 converters=None,\n",
    "                 true_values=None,\n",
    "                 false_values=None,\n",
    "                 skipinitialspace=False,\n",
    "                 skiprows=None,\n",
    "                 nrows=None,\n",
    "                 na_values=None,\n",
    "                 keep_default_na=True,\n",
    "                 na_filter=True,\n",
    "                 verbose=False,\n",
    "                 skip_blank_lines=True,\n",
    "                 parse_dates=False,\n",
    "                 infer_datetime_format=False,\n",
    "                 keep_date_col=False,\n",
    "                 date_parser=None,\n",
    "                 dayfirst=False,\n",
    "                 iterator=False,\n",
    "                 chunksize=None,\n",
    "                 compression='infer',\n",
    "                 thousands=None,\n",
    "                 decimal=b'.',\n",
    "                 lineterminator=None,\n",
    "                 quotechar='\"',\n",
    "                 quoting=0,\n",
    "                 escapechar=None,\n",
    "                 comment=None,\n",
    "                 encoding=None,\n",
    "                 dialect=None,\n",
    "                 #tupleize_cols=False,\n",
    "                 error_bad_lines=True,\n",
    "                 warn_bad_lines=True,\n",
    "                 skipfooter=0,\n",
    "                 #skip_footer=0,\n",
    "                 doublequote=True,\n",
    "                 delim_whitespace=False,\n",
    "                 #as_recarray=False,\n",
    "                 #compact_ints=False,\n",
    "                 #use_unsigned=False,\n",
    "                 low_memory=True,\n",
    "                 #buffer_lines=None,\n",
    "                 memory_map=False,\n",
    "                 float_precision=None)\n",
    "df"
   ]
  },
  {
   "cell_type": "code",
   "execution_count": null,
   "metadata": {},
   "outputs": [],
   "source": [
    "!rm python_pandas_io_test.csv"
   ]
  },
  {
   "cell_type": "markdown",
   "metadata": {},
   "source": [
    "### JSON files"
   ]
  },
  {
   "cell_type": "markdown",
   "metadata": {},
   "source": [
    "See http://pandas.pydata.org/pandas-docs/stable/io.html#json"
   ]
  },
  {
   "cell_type": "code",
   "execution_count": null,
   "metadata": {},
   "outputs": [],
   "source": [
    "import io"
   ]
  },
  {
   "cell_type": "markdown",
   "metadata": {},
   "source": [
    "#### Write JSON files"
   ]
  },
  {
   "cell_type": "markdown",
   "metadata": {},
   "source": [
    "See http://pandas.pydata.org/pandas-docs/stable/io.html#io-json-writer"
   ]
  },
  {
   "cell_type": "markdown",
   "metadata": {},
   "source": [
    "##### Simplest version"
   ]
  },
  {
   "cell_type": "code",
   "execution_count": null,
   "metadata": {},
   "outputs": [],
   "source": [
    "df.to_json(path_or_buf=\"python_pandas_io_test.json\")"
   ]
  },
  {
   "cell_type": "code",
   "execution_count": null,
   "metadata": {},
   "outputs": [],
   "source": [
    "!cat python_pandas_io_test.json"
   ]
  },
  {
   "cell_type": "markdown",
   "metadata": {},
   "source": [
    "##### Setting `orient`=\"split\""
   ]
  },
  {
   "cell_type": "code",
   "execution_count": null,
   "metadata": {},
   "outputs": [],
   "source": [
    "df.to_json(path_or_buf=\"python_pandas_io_test_split.json\",\n",
    "           orient=\"split\")"
   ]
  },
  {
   "cell_type": "code",
   "execution_count": null,
   "metadata": {},
   "outputs": [],
   "source": [
    "!cat python_pandas_io_test_split.json"
   ]
  },
  {
   "cell_type": "markdown",
   "metadata": {},
   "source": [
    "##### Setting `orient`=\"records\""
   ]
  },
  {
   "cell_type": "code",
   "execution_count": null,
   "metadata": {},
   "outputs": [],
   "source": [
    "df.to_json(path_or_buf=\"python_pandas_io_test_records.json\",\n",
    "           orient=\"records\")"
   ]
  },
  {
   "cell_type": "code",
   "execution_count": null,
   "metadata": {},
   "outputs": [],
   "source": [
    "!cat python_pandas_io_test_records.json"
   ]
  },
  {
   "cell_type": "markdown",
   "metadata": {},
   "source": [
    "##### Setting `orient`=\"index\" (the default option for `Series`)"
   ]
  },
  {
   "cell_type": "code",
   "execution_count": null,
   "metadata": {},
   "outputs": [],
   "source": [
    "df.to_json(path_or_buf=\"python_pandas_io_test_index.json\",\n",
    "           orient=\"index\")"
   ]
  },
  {
   "cell_type": "code",
   "execution_count": null,
   "metadata": {},
   "outputs": [],
   "source": [
    "!cat python_pandas_io_test_index.json"
   ]
  },
  {
   "cell_type": "markdown",
   "metadata": {},
   "source": [
    "##### Setting `orient`=\"columns\" (the default option for `DataFrame`) (for `DataFrame` only)"
   ]
  },
  {
   "cell_type": "code",
   "execution_count": null,
   "metadata": {},
   "outputs": [],
   "source": [
    "df.to_json(path_or_buf=\"python_pandas_io_test_columns.json\",\n",
    "           orient=\"columns\")"
   ]
  },
  {
   "cell_type": "code",
   "execution_count": null,
   "metadata": {},
   "outputs": [],
   "source": [
    "!cat python_pandas_io_test_columns.json"
   ]
  },
  {
   "cell_type": "markdown",
   "metadata": {},
   "source": [
    "##### Setting `orient`=\"values\" (for `DataFrame` only)"
   ]
  },
  {
   "cell_type": "code",
   "execution_count": null,
   "metadata": {},
   "outputs": [],
   "source": [
    "df.to_json(path_or_buf=\"python_pandas_io_test_values.json\",\n",
    "           orient=\"values\")"
   ]
  },
  {
   "cell_type": "code",
   "execution_count": null,
   "metadata": {},
   "outputs": [],
   "source": [
    "!cat python_pandas_io_test_values.json"
   ]
  },
  {
   "cell_type": "markdown",
   "metadata": {},
   "source": [
    "##### Setting more options"
   ]
  },
  {
   "cell_type": "code",
   "execution_count": null,
   "metadata": {},
   "outputs": [],
   "source": [
    "# FYI, many other options are available\n",
    "df.to_json(path_or_buf=\"python_pandas_io_test.json\",\n",
    "           orient='columns',     # For DataFrame: 'split','records','index','columns' or 'values'\n",
    "           date_format=None,     # None, 'epoch' or 'iso'\n",
    "           double_precision=10,\n",
    "           force_ascii=True,\n",
    "           date_unit='ms')"
   ]
  },
  {
   "cell_type": "code",
   "execution_count": null,
   "metadata": {},
   "outputs": [],
   "source": [
    "!cat python_pandas_io_test.json"
   ]
  },
  {
   "cell_type": "markdown",
   "metadata": {},
   "source": [
    "#### Read JSON files"
   ]
  },
  {
   "cell_type": "markdown",
   "metadata": {},
   "source": [
    "See http://pandas.pydata.org/pandas-docs/stable/io.html#io-json-reader"
   ]
  },
  {
   "cell_type": "markdown",
   "metadata": {},
   "source": [
    "##### Using `orient`=\"split\""
   ]
  },
  {
   "cell_type": "markdown",
   "metadata": {},
   "source": [
    "Dict like data ``{index -> [index], columns -> [columns], data -> [values]}``"
   ]
  },
  {
   "cell_type": "code",
   "execution_count": null,
   "metadata": {},
   "outputs": [],
   "source": [
    "!cat python_pandas_io_test_split.json"
   ]
  },
  {
   "cell_type": "code",
   "execution_count": null,
   "metadata": {},
   "outputs": [],
   "source": [
    "df = pd.read_json(\"python_pandas_io_test_split.json\",\n",
    "                  orient=\"split\")\n",
    "df"
   ]
  },
  {
   "cell_type": "markdown",
   "metadata": {},
   "source": [
    "##### Using `orient`=\"records\""
   ]
  },
  {
   "cell_type": "markdown",
   "metadata": {},
   "source": [
    "List like ``[{column -> value}, ... , {column -> value}]``"
   ]
  },
  {
   "cell_type": "code",
   "execution_count": null,
   "metadata": {},
   "outputs": [],
   "source": [
    "!cat python_pandas_io_test_records.json"
   ]
  },
  {
   "cell_type": "code",
   "execution_count": null,
   "metadata": {},
   "outputs": [],
   "source": [
    "df = pd.read_json(\"python_pandas_io_test_records.json\",\n",
    "                  orient=\"records\")\n",
    "df"
   ]
  },
  {
   "cell_type": "markdown",
   "metadata": {},
   "source": [
    "##### Using `orient`=\"index\""
   ]
  },
  {
   "cell_type": "markdown",
   "metadata": {},
   "source": [
    "Dict like ``{index -> {column -> value}}``"
   ]
  },
  {
   "cell_type": "code",
   "execution_count": null,
   "metadata": {},
   "outputs": [],
   "source": [
    "!cat python_pandas_io_test_index.json"
   ]
  },
  {
   "cell_type": "code",
   "execution_count": null,
   "metadata": {},
   "outputs": [],
   "source": [
    "df = pd.read_json(\"python_pandas_io_test_index.json\",\n",
    "                  orient=\"index\")\n",
    "df"
   ]
  },
  {
   "cell_type": "markdown",
   "metadata": {},
   "source": [
    "##### Using `orient`=\"columns\""
   ]
  },
  {
   "cell_type": "markdown",
   "metadata": {},
   "source": [
    "Dict like ``{column -> {index -> value}}``"
   ]
  },
  {
   "cell_type": "code",
   "execution_count": null,
   "metadata": {},
   "outputs": [],
   "source": [
    "!cat python_pandas_io_test_columns.json"
   ]
  },
  {
   "cell_type": "code",
   "execution_count": null,
   "metadata": {},
   "outputs": [],
   "source": [
    "df = pd.read_json(\"python_pandas_io_test_columns.json\",\n",
    "                  orient=\"columns\")\n",
    "df"
   ]
  },
  {
   "cell_type": "markdown",
   "metadata": {},
   "source": [
    "##### Using `orient`=\"values\" (for `DataFrame` only)"
   ]
  },
  {
   "cell_type": "markdown",
   "metadata": {},
   "source": [
    "Just the values array"
   ]
  },
  {
   "cell_type": "code",
   "execution_count": null,
   "metadata": {},
   "outputs": [],
   "source": [
    "!cat python_pandas_io_test_values.json"
   ]
  },
  {
   "cell_type": "code",
   "execution_count": null,
   "metadata": {},
   "outputs": [],
   "source": [
    "df = pd.read_json(\"python_pandas_io_test_values.json\",\n",
    "                  orient=\"values\")\n",
    "df"
   ]
  },
  {
   "cell_type": "markdown",
   "metadata": {},
   "source": [
    "##### Setting more options"
   ]
  },
  {
   "cell_type": "code",
   "execution_count": null,
   "metadata": {},
   "outputs": [],
   "source": [
    "df = pd.read_json(\"python_pandas_io_test.json\",\n",
    "                  orient=None,\n",
    "                  typ='frame',\n",
    "                  dtype=True,\n",
    "                  convert_axes=True,\n",
    "                  convert_dates=True,\n",
    "                  keep_default_dates=True,\n",
    "                  numpy=False,\n",
    "                  precise_float=False,\n",
    "                  date_unit=None,\n",
    "                  encoding=None,\n",
    "                  lines=False)\n",
    "df"
   ]
  },
  {
   "cell_type": "code",
   "execution_count": null,
   "metadata": {},
   "outputs": [],
   "source": [
    "!rm python_pandas_io_test*.json"
   ]
  },
  {
   "cell_type": "markdown",
   "metadata": {},
   "source": [
    "### YAML"
   ]
  },
  {
   "cell_type": "markdown",
   "metadata": {},
   "source": [
    "See https://stackoverflow.com/a/35968457"
   ]
  },
  {
   "cell_type": "code",
   "execution_count": null,
   "metadata": {},
   "outputs": [],
   "source": [
    "!echo \"- {A: 1, B: 2}\"     > python_pandas_io_test.yaml\n",
    "!echo \"- {A: 3}\" >> python_pandas_io_test.yaml\n",
    "!echo \"- {B: 4}\" >> python_pandas_io_test.yaml"
   ]
  },
  {
   "cell_type": "code",
   "execution_count": null,
   "metadata": {},
   "outputs": [],
   "source": [
    "!cat python_pandas_io_test.yaml"
   ]
  },
  {
   "cell_type": "code",
   "execution_count": null,
   "metadata": {},
   "outputs": [],
   "source": [
    "try:\n",
    "    import yaml\n",
    "\n",
    "    with open('python_pandas_io_test.yaml', 'r') as f:\n",
    "        df = pd.io.json.json_normalize(yaml.load(f))\n",
    "\n",
    "    print(df)\n",
    "except:\n",
    "    pass"
   ]
  },
  {
   "cell_type": "code",
   "execution_count": null,
   "metadata": {},
   "outputs": [],
   "source": [
    "!rm python_pandas_io_test.yaml"
   ]
  },
  {
   "cell_type": "markdown",
   "metadata": {},
   "source": [
    "### Other file formats"
   ]
  },
  {
   "cell_type": "markdown",
   "metadata": {},
   "source": [
    "Many other file formats can be used to import or export data with JSON.\n",
    "\n",
    "See the following link for more information: http://pandas.pydata.org/pandas-docs/stable/io.html"
   ]
  },
  {
   "cell_type": "markdown",
   "metadata": {},
   "source": [
    "## Select columns"
   ]
  },
  {
   "cell_type": "code",
   "execution_count": null,
   "metadata": {},
   "outputs": [],
   "source": [
    "data_array = np.array([np.arange(1, 10, 1), np.arange(10, 100, 10), np.arange(100, 1000, 100)]).T\n",
    "df = pd.DataFrame(data_array,\n",
    "                  index=np.arange(1, 10, 1),\n",
    "                  columns=['A', 'B', 'C'])\n",
    "df"
   ]
  },
  {
   "cell_type": "markdown",
   "metadata": {},
   "source": [
    "### Select a single column"
   ]
  },
  {
   "cell_type": "markdown",
   "metadata": {},
   "source": [
    "The following instructions return a `Series`."
   ]
  },
  {
   "cell_type": "markdown",
   "metadata": {},
   "source": [
    "#### Label based selection"
   ]
  },
  {
   "cell_type": "code",
   "execution_count": null,
   "metadata": {},
   "outputs": [],
   "source": [
    "df.B"
   ]
  },
  {
   "cell_type": "code",
   "execution_count": null,
   "metadata": {},
   "outputs": [],
   "source": [
    "df[\"B\"]"
   ]
  },
  {
   "cell_type": "code",
   "execution_count": null,
   "metadata": {},
   "outputs": [],
   "source": [
    "df.loc[:,\"B\"]"
   ]
  },
  {
   "cell_type": "markdown",
   "metadata": {},
   "source": [
    "#### Index based selection"
   ]
  },
  {
   "cell_type": "code",
   "execution_count": null,
   "metadata": {},
   "outputs": [],
   "source": [
    "df.iloc[:,1]"
   ]
  },
  {
   "cell_type": "markdown",
   "metadata": {},
   "source": [
    "### Select multiple columns"
   ]
  },
  {
   "cell_type": "markdown",
   "metadata": {},
   "source": [
    "#### Label based selection"
   ]
  },
  {
   "cell_type": "code",
   "execution_count": null,
   "metadata": {},
   "outputs": [],
   "source": [
    "df[['A','B']]"
   ]
  },
  {
   "cell_type": "code",
   "execution_count": null,
   "metadata": {},
   "outputs": [],
   "source": [
    "df.loc[:,['A','B']]"
   ]
  },
  {
   "cell_type": "markdown",
   "metadata": {},
   "source": [
    "#### Index based selection"
   ]
  },
  {
   "cell_type": "code",
   "execution_count": null,
   "metadata": {},
   "outputs": [],
   "source": [
    "df.iloc[:,0:2]"
   ]
  },
  {
   "cell_type": "markdown",
   "metadata": {},
   "source": [
    "## Select rows"
   ]
  },
  {
   "cell_type": "code",
   "execution_count": null,
   "metadata": {},
   "outputs": [],
   "source": [
    "data_array = np.array([np.arange(1, 10, 1), np.arange(10, 100, 10), np.arange(100, 1000, 100)]).T\n",
    "df = pd.DataFrame(data_array,\n",
    "                  index=[\"i\" + str(i+1) for i in range(9)],\n",
    "                  columns=['A', 'B', 'C'])\n",
    "df"
   ]
  },
  {
   "cell_type": "markdown",
   "metadata": {},
   "source": [
    "### Select a single row"
   ]
  },
  {
   "cell_type": "markdown",
   "metadata": {},
   "source": [
    "The following instructions return a `Series`."
   ]
  },
  {
   "cell_type": "markdown",
   "metadata": {},
   "source": [
    "#### Label based selection"
   ]
  },
  {
   "cell_type": "code",
   "execution_count": null,
   "metadata": {},
   "outputs": [],
   "source": [
    "df.loc[\"i3\"]"
   ]
  },
  {
   "cell_type": "code",
   "execution_count": null,
   "metadata": {},
   "outputs": [],
   "source": [
    "df.loc[\"i3\",:]"
   ]
  },
  {
   "cell_type": "markdown",
   "metadata": {},
   "source": [
    "#### Index based selection"
   ]
  },
  {
   "cell_type": "code",
   "execution_count": null,
   "metadata": {},
   "outputs": [],
   "source": [
    "df.iloc[2]      # Select over index"
   ]
  },
  {
   "cell_type": "code",
   "execution_count": null,
   "metadata": {},
   "outputs": [],
   "source": [
    "df.iloc[2,:]      # Select over index"
   ]
  },
  {
   "cell_type": "markdown",
   "metadata": {},
   "source": [
    "### Select multiple rows"
   ]
  },
  {
   "cell_type": "markdown",
   "metadata": {},
   "source": [
    "#### Label based selection"
   ]
  },
  {
   "cell_type": "code",
   "execution_count": null,
   "metadata": {},
   "outputs": [],
   "source": [
    "df.loc[[\"i3\", \"i4\"],:]"
   ]
  },
  {
   "cell_type": "markdown",
   "metadata": {},
   "source": [
    "#### Index based selection"
   ]
  },
  {
   "cell_type": "code",
   "execution_count": null,
   "metadata": {},
   "outputs": [],
   "source": [
    "df.iloc[2:4,:]      # Select over index"
   ]
  },
  {
   "cell_type": "markdown",
   "metadata": {},
   "source": [
    "### Select rows based on values"
   ]
  },
  {
   "cell_type": "code",
   "execution_count": null,
   "metadata": {},
   "outputs": [],
   "source": [
    "df.B < 50."
   ]
  },
  {
   "cell_type": "code",
   "execution_count": null,
   "metadata": {},
   "outputs": [],
   "source": [
    "type(df.B < 50.)"
   ]
  },
  {
   "cell_type": "code",
   "execution_count": null,
   "metadata": {},
   "outputs": [],
   "source": [
    "df[[True, True, True, True, False, False, False, False, False]]"
   ]
  },
  {
   "cell_type": "code",
   "execution_count": null,
   "metadata": {},
   "outputs": [],
   "source": [
    "series_mask = pd.Series({'i1': True,\n",
    "                         'i2': True,\n",
    "                         'i3': True,\n",
    "                         'i4': True,\n",
    "                         'i5': False,\n",
    "                         'i6': False,\n",
    "                         'i7': False,\n",
    "                         'i8': False,\n",
    "                         'i9': False})\n",
    "df[series_mask]"
   ]
  },
  {
   "cell_type": "code",
   "execution_count": null,
   "metadata": {},
   "outputs": [],
   "source": [
    "df[df.B < 50.]"
   ]
  },
  {
   "cell_type": "code",
   "execution_count": null,
   "metadata": {},
   "outputs": [],
   "source": [
    "df[df['B'] < 50.]"
   ]
  },
  {
   "cell_type": "code",
   "execution_count": null,
   "metadata": {},
   "outputs": [],
   "source": [
    "df[(df.A >= 2) & (df.B < 50)]"
   ]
  },
  {
   "cell_type": "markdown",
   "metadata": {},
   "source": [
    "This can be written:"
   ]
  },
  {
   "cell_type": "code",
   "execution_count": null,
   "metadata": {},
   "outputs": [],
   "source": [
    "df.loc[(df.A >= 2) & (df.B < 50)]"
   ]
  },
  {
   "cell_type": "markdown",
   "metadata": {},
   "source": [
    "This could be written `df[df.A >= 2][df.B < 50]` but this is a bad practice (named \"chained indexing\").\n",
    "\n",
    "\"When setting values in a pandas object, care must be taken to avoid what is called *chained indexing*\".\n",
    "\n",
    "See:\n",
    "- http://pandas.pydata.org/pandas-docs/stable/indexing.html#returning-a-view-versus-a-copy\n",
    "- http://pandas.pydata.org/pandas-docs/stable/indexing.html#why-does-assignment-fail-when-using-chained-indexing\n",
    "- http://pandas.pydata.org/pandas-docs/stable/indexing.html#evaluation-order-matters"
   ]
  },
  {
   "cell_type": "markdown",
   "metadata": {},
   "source": [
    "## Select rows and columns"
   ]
  },
  {
   "cell_type": "code",
   "execution_count": null,
   "metadata": {},
   "outputs": [],
   "source": [
    "data_array = np.array([np.arange(1, 10, 1), np.arange(10, 100, 10), np.arange(100, 1000, 100)]).T\n",
    "df = pd.DataFrame(data_array,\n",
    "                  index=np.arange(1, 10, 1),\n",
    "                  columns=['A', 'B', 'C'])\n",
    "df"
   ]
  },
  {
   "cell_type": "code",
   "execution_count": null,
   "metadata": {},
   "outputs": [],
   "source": [
    "df[(df.A >= 2) & (df.B < 50)]"
   ]
  },
  {
   "cell_type": "code",
   "execution_count": null,
   "metadata": {},
   "outputs": [],
   "source": [
    "df[(df.B < 20) | (df.B > 50)]"
   ]
  },
  {
   "cell_type": "code",
   "execution_count": null,
   "metadata": {},
   "outputs": [],
   "source": [
    "df.loc[(df.B < 20) | (df.B > 50), 'C']"
   ]
  },
  {
   "cell_type": "code",
   "execution_count": null,
   "metadata": {},
   "outputs": [],
   "source": [
    "df[(df['A'] >= 2) & (df['B'] < 50)]"
   ]
  },
  {
   "cell_type": "code",
   "execution_count": null,
   "metadata": {},
   "outputs": [],
   "source": [
    "df.loc[(df.A >= 2) & (df.B < 50), ['A','B']]"
   ]
  },
  {
   "cell_type": "markdown",
   "metadata": {},
   "source": [
    "## Setting values"
   ]
  },
  {
   "cell_type": "markdown",
   "metadata": {},
   "source": [
    "### Apply a function to selected colunms values"
   ]
  },
  {
   "cell_type": "code",
   "execution_count": null,
   "metadata": {},
   "outputs": [],
   "source": [
    "data_array = np.array([np.arange(1, 10, 1), np.arange(10, 100, 10), np.arange(100, 1000, 100)]).T\n",
    "df = pd.DataFrame(data_array,\n",
    "                  index=np.arange(1, 10, 1),\n",
    "                  columns=['A', 'B', 'C'])\n",
    "df"
   ]
  },
  {
   "cell_type": "code",
   "execution_count": null,
   "metadata": {},
   "outputs": [],
   "source": [
    "df.B *= 2.\n",
    "df"
   ]
  },
  {
   "cell_type": "code",
   "execution_count": null,
   "metadata": {},
   "outputs": [],
   "source": [
    "df.B = pow(df.B, 2)\n",
    "df"
   ]
  },
  {
   "cell_type": "markdown",
   "metadata": {},
   "source": [
    "### Apply a function to selected rows values"
   ]
  },
  {
   "cell_type": "code",
   "execution_count": null,
   "metadata": {},
   "outputs": [],
   "source": [
    "data_array = np.array([np.arange(1, 10, 1), np.arange(10, 100, 10), np.arange(100, 1000, 100)]).T\n",
    "df = pd.DataFrame(data_array,\n",
    "                  index=np.arange(1, 10, 1),\n",
    "                  columns=['A', 'B', 'C'])\n",
    "df"
   ]
  },
  {
   "cell_type": "code",
   "execution_count": null,
   "metadata": {},
   "outputs": [],
   "source": [
    "df[df.B < 50.] *= -1.\n",
    "df"
   ]
  },
  {
   "cell_type": "code",
   "execution_count": null,
   "metadata": {},
   "outputs": [],
   "source": [
    "# df['B'][df['B'] < 50.] = 0    # OK but chain indexing is bad...\n",
    "# df.A[df.B < 50.] = 0          # OK but chain indexing is bad...\n",
    "df.loc[df.B < 50., 'A'] = 0\n",
    "df"
   ]
  },
  {
   "cell_type": "markdown",
   "metadata": {},
   "source": [
    "**WARNING**: `df[df.B < 50.].A = 0` does *NOT* work even if `df.A[df.B < 50.]` and `df[df.B < 50.].A` seems to produce the same result...\n",
    "\n",
    "\"When setting values in a pandas object, care must be taken to avoid what is called *chained indexing*\".\n",
    "\n",
    "See:\n",
    "- http://pandas.pydata.org/pandas-docs/stable/indexing.html#returning-a-view-versus-a-copy\n",
    "- http://pandas.pydata.org/pandas-docs/stable/indexing.html#why-does-assignment-fail-when-using-chained-indexing\n",
    "- http://pandas.pydata.org/pandas-docs/stable/indexing.html#evaluation-order-matters"
   ]
  },
  {
   "cell_type": "code",
   "execution_count": null,
   "metadata": {},
   "outputs": [],
   "source": [
    "df.loc[(df.B < 50.) & (df.B > 20), 'C'] = 0\n",
    "df"
   ]
  },
  {
   "cell_type": "code",
   "execution_count": null,
   "metadata": {},
   "outputs": [],
   "source": [
    "df.loc[(df.B < 20) | (df.B > 50), 'C'] = -1\n",
    "df"
   ]
  },
  {
   "cell_type": "code",
   "execution_count": null,
   "metadata": {},
   "outputs": [],
   "source": [
    "df[df.B < 50.] = pow(df[df.B < 50.], 2)\n",
    "df"
   ]
  },
  {
   "cell_type": "markdown",
   "metadata": {},
   "source": [
    "## Sample rows"
   ]
  },
  {
   "cell_type": "code",
   "execution_count": null,
   "metadata": {},
   "outputs": [],
   "source": [
    "data_array = np.array([np.arange(1, 10, 1), np.arange(10, 100, 10), np.arange(100, 1000, 100)]).T\n",
    "df = pd.DataFrame(data_array,\n",
    "                  index=np.arange(1, 10, 1),\n",
    "                  columns=['A', 'B', 'C'])\n",
    "df"
   ]
  },
  {
   "cell_type": "markdown",
   "metadata": {},
   "source": [
    "### With replacement"
   ]
  },
  {
   "cell_type": "markdown",
   "metadata": {},
   "source": [
    "Draw 3 samples:"
   ]
  },
  {
   "cell_type": "code",
   "execution_count": null,
   "metadata": {},
   "outputs": [],
   "source": [
    "df.sample(n=30, replace=True)"
   ]
  },
  {
   "cell_type": "markdown",
   "metadata": {},
   "source": [
    "Sample 90% of the rows:"
   ]
  },
  {
   "cell_type": "code",
   "execution_count": null,
   "metadata": {},
   "outputs": [],
   "source": [
    "df.sample(frac=0.9, replace=True)"
   ]
  },
  {
   "cell_type": "markdown",
   "metadata": {},
   "source": [
    "### Without replacement"
   ]
  },
  {
   "cell_type": "markdown",
   "metadata": {},
   "source": [
    "Draw 3 samples:"
   ]
  },
  {
   "cell_type": "code",
   "execution_count": null,
   "metadata": {},
   "outputs": [],
   "source": [
    "df.sample(n=3)"
   ]
  },
  {
   "cell_type": "markdown",
   "metadata": {},
   "source": [
    "Sample 90% of the rows:"
   ]
  },
  {
   "cell_type": "code",
   "execution_count": null,
   "metadata": {},
   "outputs": [],
   "source": [
    "df.sample(frac=0.9)"
   ]
  },
  {
   "cell_type": "markdown",
   "metadata": {},
   "source": [
    "### Weighted sampling"
   ]
  },
  {
   "cell_type": "code",
   "execution_count": null,
   "metadata": {},
   "outputs": [],
   "source": [
    "df.sample(n=30, replace=True, weights=np.arange(len(df)))"
   ]
  },
  {
   "cell_type": "markdown",
   "metadata": {},
   "source": [
    "## Shuffle/permute rows"
   ]
  },
  {
   "cell_type": "markdown",
   "metadata": {},
   "source": [
    "See:\n",
    "- https://stackoverflow.com/a/35784666\n",
    "- https://stackoverflow.com/a/34879805"
   ]
  },
  {
   "cell_type": "code",
   "execution_count": null,
   "metadata": {},
   "outputs": [],
   "source": [
    "data_array = np.array([np.arange(1, 10, 1), np.arange(10, 100, 10), np.arange(100, 1000, 100)]).T\n",
    "df = pd.DataFrame(data_array,\n",
    "                  index=np.arange(1, 10, 1),\n",
    "                  columns=['A', 'B', 'C'])\n",
    "df"
   ]
  },
  {
   "cell_type": "code",
   "execution_count": null,
   "metadata": {},
   "outputs": [],
   "source": [
    "df = df.sample(frac=1)\n",
    "df"
   ]
  },
  {
   "cell_type": "markdown",
   "metadata": {},
   "source": [
    "To reset indexes too:"
   ]
  },
  {
   "cell_type": "code",
   "execution_count": null,
   "metadata": {},
   "outputs": [],
   "source": [
    "df = df.sample(frac=1).reset_index(drop=True)\n",
    "df"
   ]
  },
  {
   "cell_type": "markdown",
   "metadata": {},
   "source": [
    "## Sort a DataFrame"
   ]
  },
  {
   "cell_type": "code",
   "execution_count": null,
   "metadata": {},
   "outputs": [],
   "source": [
    "NROWS = 7\n",
    "\n",
    "col1 = np.arange(1., NROWS, 1)\n",
    "col2 = np.arange(10., NROWS*10, 10)\n",
    "col3 = np.arange(100., NROWS*100, 100)\n",
    "np.random.shuffle(col1)\n",
    "np.random.shuffle(col2)\n",
    "np.random.shuffle(col3)\n",
    "\n",
    "data = np.array([col1,\n",
    "                 col2,\n",
    "                 col3]).T\n",
    "index = np.arange(1, NROWS, 1)\n",
    "columns = np.array(['A', 'B', 'C'])\n",
    "\n",
    "np.random.shuffle(index)\n",
    "np.random.shuffle(data)\n",
    "np.random.shuffle(columns)\n",
    "\n",
    "df = pd.DataFrame(data,\n",
    "                  index=index,\n",
    "                  columns=columns)\n",
    "df"
   ]
  },
  {
   "cell_type": "markdown",
   "metadata": {},
   "source": [
    "### Sorting by row index or column label"
   ]
  },
  {
   "cell_type": "markdown",
   "metadata": {},
   "source": [
    "#### Sorting by rows"
   ]
  },
  {
   "cell_type": "code",
   "execution_count": null,
   "metadata": {},
   "outputs": [],
   "source": [
    "df.sort_index()"
   ]
  },
  {
   "cell_type": "code",
   "execution_count": null,
   "metadata": {},
   "outputs": [],
   "source": [
    "df.sort_index(axis=0)    # axis=0 -> sort by row index"
   ]
  },
  {
   "cell_type": "code",
   "execution_count": null,
   "metadata": {},
   "outputs": [],
   "source": [
    "df.sort_index(ascending=False)"
   ]
  },
  {
   "cell_type": "markdown",
   "metadata": {},
   "source": [
    "#### Sorting by columns"
   ]
  },
  {
   "cell_type": "code",
   "execution_count": null,
   "metadata": {},
   "outputs": [],
   "source": [
    "df.sort_index(axis=1)    # axis=1 -> sort by column label"
   ]
  },
  {
   "cell_type": "code",
   "execution_count": null,
   "metadata": {},
   "outputs": [],
   "source": [
    "df.sort_index(axis=1, ascending=False)"
   ]
  },
  {
   "cell_type": "markdown",
   "metadata": {},
   "source": [
    "### Sorting by values"
   ]
  },
  {
   "cell_type": "code",
   "execution_count": null,
   "metadata": {},
   "outputs": [],
   "source": [
    "df.sort_values(by='B')"
   ]
  },
  {
   "cell_type": "code",
   "execution_count": null,
   "metadata": {},
   "outputs": [],
   "source": [
    "df.sort_values(by='B', ascending=False)"
   ]
  },
  {
   "cell_type": "code",
   "execution_count": null,
   "metadata": {},
   "outputs": [],
   "source": [
    "df.sort_values(by='B', inplace=True)\n",
    "df"
   ]
  },
  {
   "cell_type": "markdown",
   "metadata": {},
   "source": [
    "## Missing data"
   ]
  },
  {
   "cell_type": "markdown",
   "metadata": {},
   "source": [
    "See http://pandas.pydata.org/pandas-docs/stable/10min.html#missing-data"
   ]
  },
  {
   "cell_type": "code",
   "execution_count": null,
   "metadata": {},
   "outputs": [],
   "source": [
    "a = np.array([[3, np.nan, 5, np.nan, 7],\n",
    "              [2, 4, np.nan, 3, 1],\n",
    "              [3, 4, 5, 6, 1]]).T\n",
    "df = pd.DataFrame(a,\n",
    "                  columns=['A', 'B', 'C'])\n",
    "\n",
    "df"
   ]
  },
  {
   "cell_type": "markdown",
   "metadata": {},
   "source": [
    "### Get the boolean mask where values are nan"
   ]
  },
  {
   "cell_type": "code",
   "execution_count": null,
   "metadata": {},
   "outputs": [],
   "source": [
    "df.isnull()"
   ]
  },
  {
   "cell_type": "markdown",
   "metadata": {},
   "source": [
    "### Drop any rows that have missing data"
   ]
  },
  {
   "cell_type": "code",
   "execution_count": null,
   "metadata": {},
   "outputs": [],
   "source": [
    "df.dropna()"
   ]
  },
  {
   "cell_type": "code",
   "execution_count": null,
   "metadata": {},
   "outputs": [],
   "source": [
    "df.dropna(how='any')      # but 'any' is the default value..."
   ]
  },
  {
   "cell_type": "markdown",
   "metadata": {},
   "source": [
    "### Drop any rows that have missing data in a given column"
   ]
  },
  {
   "cell_type": "markdown",
   "metadata": {},
   "source": [
    "See https://stackoverflow.com/questions/13413590/how-to-drop-rows-of-pandas-dataframe-whose-value-in-certain-columns-is-nan"
   ]
  },
  {
   "cell_type": "code",
   "execution_count": null,
   "metadata": {},
   "outputs": [],
   "source": [
    "df.dropna(subset=['B'])"
   ]
  },
  {
   "cell_type": "code",
   "execution_count": null,
   "metadata": {},
   "outputs": [],
   "source": [
    "df.dropna(subset=['B', 'C'])"
   ]
  },
  {
   "cell_type": "markdown",
   "metadata": {},
   "source": [
    "### Drop any columns that have missing data"
   ]
  },
  {
   "cell_type": "code",
   "execution_count": null,
   "metadata": {},
   "outputs": [],
   "source": [
    "df.dropna(axis=1)"
   ]
  },
  {
   "cell_type": "code",
   "execution_count": null,
   "metadata": {},
   "outputs": [],
   "source": [
    "df.dropna(axis=1, how='any')      # but 'any' is the default value..."
   ]
  },
  {
   "cell_type": "markdown",
   "metadata": {},
   "source": [
    "### Drop any columns that have missing data in a given row"
   ]
  },
  {
   "cell_type": "code",
   "execution_count": null,
   "metadata": {},
   "outputs": [],
   "source": [
    "df.dropna(axis=1, subset=[2])"
   ]
  },
  {
   "cell_type": "code",
   "execution_count": null,
   "metadata": {},
   "outputs": [],
   "source": [
    "df.dropna(axis=1, subset=[1, 2])"
   ]
  },
  {
   "cell_type": "markdown",
   "metadata": {},
   "source": [
    "### Filling missing data"
   ]
  },
  {
   "cell_type": "code",
   "execution_count": null,
   "metadata": {},
   "outputs": [],
   "source": [
    "df.fillna(value=999)"
   ]
  },
  {
   "cell_type": "markdown",
   "metadata": {},
   "source": [
    "### Count the number of NaN values in a given column"
   ]
  },
  {
   "cell_type": "code",
   "execution_count": null,
   "metadata": {},
   "outputs": [],
   "source": [
    "df.A.isnull().sum()"
   ]
  },
  {
   "cell_type": "markdown",
   "metadata": {},
   "source": [
    "## Miscellaneous operations on data frames"
   ]
  },
  {
   "cell_type": "markdown",
   "metadata": {},
   "source": [
    "### Transpose of a data frame"
   ]
  },
  {
   "cell_type": "code",
   "execution_count": null,
   "metadata": {},
   "outputs": [],
   "source": [
    "data_array = np.array([np.arange(1, 10, 1), np.arange(10, 100, 10), np.arange(100, 1000, 100)]).T\n",
    "df = pd.DataFrame(data_array,\n",
    "                  index=np.arange(1, 10, 1),\n",
    "                  columns=['A', 'B', 'C'])\n",
    "df"
   ]
  },
  {
   "cell_type": "code",
   "execution_count": null,
   "metadata": {},
   "outputs": [],
   "source": [
    "df.T"
   ]
  },
  {
   "cell_type": "markdown",
   "metadata": {},
   "source": [
    "## Merge"
   ]
  },
  {
   "cell_type": "markdown",
   "metadata": {},
   "source": [
    "See: http://pandas.pydata.org/pandas-docs/stable/generated/pandas.merge.html#pandas.merge"
   ]
  },
  {
   "cell_type": "code",
   "execution_count": null,
   "metadata": {},
   "outputs": [],
   "source": [
    "a1 = np.array([np.arange(1, 5, 1), np.arange(10, 50, 10), np.arange(100, 500, 100)]).T\n",
    "df1 = pd.DataFrame(a1,\n",
    "                   columns=['ID', 'B', 'C'])\n",
    "\n",
    "a2 = np.array([np.arange(1, 5, 1), np.arange(1000, 5000, 1000), np.arange(10000, 50000, 10000)]).T\n",
    "df2 = pd.DataFrame(a2,\n",
    "                   columns=['ID', 'B', 'C'])\n",
    "\n",
    "display(df1)\n",
    "display(df2)\n",
    "\n",
    "df = pd.merge(df1, df2, on=\"ID\", suffixes=('_1', '_2'))  #.dropna(how='any')\n",
    "\n",
    "display(df)"
   ]
  },
  {
   "cell_type": "markdown",
   "metadata": {},
   "source": [
    "### Merge with NaN"
   ]
  },
  {
   "cell_type": "code",
   "execution_count": null,
   "metadata": {},
   "outputs": [],
   "source": [
    "a1 = np.array([np.arange(1, 5, 1), np.arange(10, 50, 10), np.arange(100, 500, 100)]).T\n",
    "df1 = pd.DataFrame(a1,\n",
    "                   columns=['ID', 'B', 'C'])\n",
    "\n",
    "a2 = np.array([np.arange(1, 5, 1), np.arange(1000, 5000, 1000), np.arange(10000, 50000, 10000)]).T\n",
    "df2 = pd.DataFrame(a2,\n",
    "                   columns=['ID', 'B', 'C'])\n",
    "\n",
    "df1.iloc[0,2] = np.nan\n",
    "df1.iloc[1,1] = np.nan\n",
    "df1.iloc[2,2] = np.nan\n",
    "df1.iloc[3,1] = np.nan\n",
    "\n",
    "df2.iloc[0,1] = np.nan\n",
    "df2.iloc[1,2] = np.nan\n",
    "df2.iloc[2,1] = np.nan\n",
    "df2.iloc[3,2] = np.nan\n",
    "\n",
    "df = pd.merge(df1, df2, on=\"ID\", suffixes=('_1', '_2'))  #.dropna(how='any')\n",
    "\n",
    "display(df1)\n",
    "display(df2)\n",
    "display(df)"
   ]
  },
  {
   "cell_type": "markdown",
   "metadata": {},
   "source": [
    "### Merge with missing rows"
   ]
  },
  {
   "cell_type": "code",
   "execution_count": null,
   "metadata": {},
   "outputs": [],
   "source": [
    "a1 = np.array([np.arange(1, 5, 1), np.arange(10, 50, 10), np.arange(100, 500, 100)]).T\n",
    "df1 = pd.DataFrame(a1,\n",
    "                   columns=['ID', 'B', 'C'])\n",
    "\n",
    "a2 = np.array([np.arange(1, 3, 1), np.arange(1000, 3000, 1000), np.arange(10000, 30000, 10000)]).T\n",
    "df2 = pd.DataFrame(a2,\n",
    "                   columns=['ID', 'B', 'C'])\n",
    "\n",
    "display(df1)\n",
    "display(df2)\n",
    "\n",
    "print(\"Left: use only keys from left frame (SQL: left outer join)\")\n",
    "df = pd.merge(df1, df2, on=\"ID\", how=\"left\", suffixes=('_1', '_2'))  #.dropna(how='any')\n",
    "display(df)\n",
    "\n",
    "print(\"Right: use only keys from right frame (SQL: right outer join)\")\n",
    "df = pd.merge(df1, df2, on=\"ID\", how=\"right\", suffixes=('_1', '_2'))  #.dropna(how='any')\n",
    "display(df)\n",
    "\n",
    "print(\"Inner: use intersection of keys from both frames (SQL: inner join) [DEFAULT]\")\n",
    "df = pd.merge(df1, df2, on=\"ID\", how=\"inner\", suffixes=('_1', '_2'))  #.dropna(how='any')\n",
    "display(df)\n",
    "\n",
    "print(\"Outer: use union of keys from both frames (SQL: full outer join)\")\n",
    "df = pd.merge(df1, df2, on=\"ID\", how=\"outer\", suffixes=('_1', '_2'))  #.dropna(how='any')\n",
    "display(df)"
   ]
  },
  {
   "cell_type": "markdown",
   "metadata": {},
   "source": [
    "## GroupBy"
   ]
  },
  {
   "cell_type": "markdown",
   "metadata": {},
   "source": [
    "See: http://pandas.pydata.org/pandas-docs/stable/groupby.html"
   ]
  },
  {
   "cell_type": "code",
   "execution_count": null,
   "metadata": {},
   "outputs": [],
   "source": [
    "a = np.array([[3, 5, 5, 5, 7, 7, 7, 7],\n",
    "              [2, 4, 4, 3, 1, 3, 3, 2],\n",
    "              [3, 4, 5, 6, 1, 8, 9, 8]]).T\n",
    "df = pd.DataFrame(a,\n",
    "                  columns=['A', 'B', 'C'])\n",
    "\n",
    "df"
   ]
  },
  {
   "cell_type": "markdown",
   "metadata": {},
   "source": [
    "### GroupBy with single key"
   ]
  },
  {
   "cell_type": "code",
   "execution_count": null,
   "metadata": {},
   "outputs": [],
   "source": [
    "df.groupby([\"A\"]).count()"
   ]
  },
  {
   "cell_type": "code",
   "execution_count": null,
   "metadata": {},
   "outputs": [],
   "source": [
    "df.groupby([\"A\"]).sum().B"
   ]
  },
  {
   "cell_type": "code",
   "execution_count": null,
   "metadata": {},
   "outputs": [],
   "source": [
    "df.groupby([\"A\"]).mean().B"
   ]
  },
  {
   "cell_type": "markdown",
   "metadata": {},
   "source": [
    "### GroupBy with multiple keys"
   ]
  },
  {
   "cell_type": "code",
   "execution_count": null,
   "metadata": {},
   "outputs": [],
   "source": [
    "df.groupby([\"A\",\"B\"]).count()"
   ]
  },
  {
   "cell_type": "markdown",
   "metadata": {},
   "source": [
    "## Rolling"
   ]
  },
  {
   "cell_type": "markdown",
   "metadata": {},
   "source": [
    "See https://pandas.pydata.org/pandas-docs/stable/generated/pandas.DataFrame.rolling.html#pandas-dataframe-rolling\n",
    "\n",
    "For rolling over a time window, see https://pandas.pydata.org/pandas-docs/stable/timeseries.html#resampling"
   ]
  },
  {
   "cell_type": "markdown",
   "metadata": {},
   "source": [
    "### Basic example"
   ]
  },
  {
   "cell_type": "markdown",
   "metadata": {},
   "source": [
    "Rolling with an aggregation window of size 2."
   ]
  },
  {
   "cell_type": "code",
   "execution_count": null,
   "metadata": {},
   "outputs": [],
   "source": [
    "s = pd.Series([1., 0., 5., 2., 1.])\n",
    "print(\"DATA:\")\n",
    "print(s)\n",
    "\n",
    "mean_s = s.rolling(2).mean()\n",
    "print()\n",
    "print(\"ROLLING MEAN:\")\n",
    "print(mean_s)\n",
    "\n",
    "sum_s = s.rolling(2).sum()\n",
    "print()\n",
    "print(\"ROLLING SUM:\")\n",
    "print(sum_s)\n",
    "\n",
    "min_s = s.rolling(2).min()\n",
    "print()\n",
    "print(\"ROLLING MIN:\")\n",
    "print(min_s)\n",
    "\n",
    "max_s = s.rolling(2).max()\n",
    "print()\n",
    "print(\"ROLLING MAX:\")\n",
    "print(max_s)\n",
    "\n",
    "ax = s.plot(figsize=(18, 3), color=\"blue\")\n",
    "mean_s.plot(color=\"red\", label=\"mean\", ax=ax)\n",
    "sum_s.plot(color=\"green\", label=\"sum\", style=\"--\", alpha=0.5, ax=ax)\n",
    "min_s.plot(color=\"black\", label=\"min\", style=\":\", alpha=0.25, ax=ax)\n",
    "max_s.plot(color=\"black\", label=\"max\", style=\":\", alpha=0.25, ax=ax)\n",
    "ax.legend();"
   ]
  },
  {
   "cell_type": "markdown",
   "metadata": {},
   "source": [
    "### More realistic example"
   ]
  },
  {
   "cell_type": "code",
   "execution_count": null,
   "metadata": {},
   "outputs": [],
   "source": [
    "index = np.arange(0, 20, 0.05)\n",
    "s = pd.Series(np.sin(index))\n",
    "s = s + np.random.normal(scale=0.4, size=s.shape)\n",
    "\n",
    "ax = s.plot(figsize=(18, 3))"
   ]
  },
  {
   "cell_type": "code",
   "execution_count": null,
   "metadata": {},
   "outputs": [],
   "source": [
    "s.shape"
   ]
  },
  {
   "cell_type": "markdown",
   "metadata": {},
   "source": [
    "Rolling with an aggregation window of size 20."
   ]
  },
  {
   "cell_type": "code",
   "execution_count": null,
   "metadata": {},
   "outputs": [],
   "source": [
    "s_mean = s.rolling(20).mean()\n",
    "s_median = s.rolling(20).median()\n",
    "s_min = s.rolling(20).min()\n",
    "s_max = s.rolling(20).max()\n",
    "\n",
    "ax = s_mean.plot(y='duration', figsize=(18, 8), color=\"red\", label=\"mean\", alpha=0.75)\n",
    "s_median.plot(ax=ax, color=\"blue\", label=\"median\", alpha=0.75)\n",
    "s_min.plot(ax=ax, color=\"blue\", alpha=0.5, style=\":\", label=\"min\")\n",
    "s_max.plot(ax=ax, color=\"blue\", alpha=0.5, style=\":\", label=\"max\")\n",
    "\n",
    "plt.fill_between(s_min.index, s_min.values, s_max.values, facecolor='blue', alpha=0.1)\n",
    "\n",
    "ax.legend()\n",
    "ax.set_xlabel('Time');"
   ]
  },
  {
   "cell_type": "code",
   "execution_count": null,
   "metadata": {},
   "outputs": [],
   "source": [
    "s_mean.shape"
   ]
  },
  {
   "cell_type": "markdown",
   "metadata": {},
   "source": [
    "## Pivot"
   ]
  },
  {
   "cell_type": "code",
   "execution_count": null,
   "metadata": {},
   "outputs": [],
   "source": [
    "df = pd.DataFrame([[\"i1\", \"A\", 1],\n",
    "                   [\"i1\", \"B\", 2],\n",
    "                   [\"i2\", \"A\", 3],\n",
    "                   [\"i2\", \"B\", 4]], columns=[\"foo\", \"bar\", \"baz\"])\n",
    "df"
   ]
  },
  {
   "cell_type": "code",
   "execution_count": null,
   "metadata": {},
   "outputs": [],
   "source": [
    "df.pivot(index=\"foo\",  columns=\"bar\", values=\"baz\")"
   ]
  },
  {
   "cell_type": "markdown",
   "metadata": {},
   "source": [
    "## Count the number of occurrences of a column value"
   ]
  },
  {
   "cell_type": "code",
   "execution_count": null,
   "metadata": {},
   "outputs": [],
   "source": [
    "a = np.array([[3, 5, 5, 5, 7, 7, 7, 7],\n",
    "              [2, 4, 4, 3, 1, 3, 3, 2],\n",
    "              [3, 4, 5, 6, 1, 8, 9, 8]]).T\n",
    "df = pd.DataFrame(a,\n",
    "                  columns=['A', 'B', 'C'])\n",
    "\n",
    "df"
   ]
  },
  {
   "cell_type": "code",
   "execution_count": null,
   "metadata": {},
   "outputs": [],
   "source": [
    "df.A.value_counts()"
   ]
  },
  {
   "cell_type": "code",
   "execution_count": null,
   "metadata": {},
   "outputs": [],
   "source": [
    "df.A.value_counts().plot.bar()"
   ]
  },
  {
   "cell_type": "markdown",
   "metadata": {},
   "source": [
    "## Stats"
   ]
  },
  {
   "cell_type": "code",
   "execution_count": null,
   "metadata": {},
   "outputs": [],
   "source": [
    "df = pd.DataFrame(np.random.normal(size=100000))"
   ]
  },
  {
   "cell_type": "code",
   "execution_count": null,
   "metadata": {},
   "outputs": [],
   "source": [
    "df.quantile(0.50)"
   ]
  },
  {
   "cell_type": "code",
   "execution_count": null,
   "metadata": {},
   "outputs": [],
   "source": [
    "df.quantile([0.25, 0.75])"
   ]
  },
  {
   "cell_type": "code",
   "execution_count": null,
   "metadata": {},
   "outputs": [],
   "source": [
    "df.quantile([0.01, 0.001])"
   ]
  },
  {
   "cell_type": "markdown",
   "metadata": {},
   "source": [
    "## Time series"
   ]
  },
  {
   "cell_type": "markdown",
   "metadata": {},
   "source": [
    "See https://pandas.pydata.org/pandas-docs/stable/timeseries.html#"
   ]
  },
  {
   "cell_type": "markdown",
   "metadata": {},
   "source": [
    "There are 3 main time related types in Pandas (and the equivalent type for `Series` and `DataFrame` indices):\n",
    "- `pandas.Timestamp` (`pandas.DatetimeIndex` for indices): pandas equivalent of python's ``datetime.datetime``\n",
    "- `pandas.Period` (`pandas.PeriodIndex` for indices): represents a period of time\n",
    "- `pandas.Timedelta` (`pandas.TimedeltaIndex` for indices): represents a duration (the difference between two dates or times) i.e. the pandas equivalent of python's ``datetime.timedelta``"
   ]
  },
  {
   "cell_type": "markdown",
   "metadata": {},
   "source": [
    "A Timestamp is a point in time:"
   ]
  },
  {
   "cell_type": "code",
   "execution_count": null,
   "metadata": {},
   "outputs": [],
   "source": [
    "pd.Timestamp(year=2018, month=1, day=1, hour=12, minute=30)"
   ]
  },
  {
   "cell_type": "markdown",
   "metadata": {},
   "source": [
    "A Period is a range in time (with a \"anchored\" start time and a \"anchored\" end time):"
   ]
  },
  {
   "cell_type": "code",
   "execution_count": null,
   "metadata": {},
   "outputs": [],
   "source": [
    "p = pd.Period(freq='D', year=2018, month=1, day=1, hour=12, minute=30)\n",
    "print(p)\n",
    "print(\"Start time:\", p.start_time)\n",
    "print(\"End time:\", p.end_time)"
   ]
  },
  {
   "cell_type": "markdown",
   "metadata": {},
   "source": [
    "A Timedelta is a \"floating\" duration (i.e. not \"anchored\" in time):"
   ]
  },
  {
   "cell_type": "code",
   "execution_count": null,
   "metadata": {},
   "outputs": [],
   "source": [
    "print(pd.Timedelta(days=5, seconds=30))\n",
    "\n",
    "ts1 = pd.Timestamp(year=2018, month=1, day=1, hour=12, minute=30)\n",
    "ts2 = pd.Timestamp(year=2018, month=1, day=2, hour=12, minute=30)\n",
    "print(ts2 - ts1)"
   ]
  },
  {
   "cell_type": "markdown",
   "metadata": {},
   "source": [
    "### Generate datetime index (with a fixed frequency)"
   ]
  },
  {
   "cell_type": "markdown",
   "metadata": {},
   "source": [
    "See https://pandas.pydata.org/pandas-docs/stable/generated/pandas.date_range.html"
   ]
  },
  {
   "cell_type": "code",
   "execution_count": null,
   "metadata": {},
   "outputs": [],
   "source": [
    "pd.date_range('2018-01-01', '2018-03-01', freq='D')"
   ]
  },
  {
   "cell_type": "code",
   "execution_count": null,
   "metadata": {},
   "outputs": [],
   "source": [
    "pd.date_range('2018-01-01', periods=10, freq='h')"
   ]
  },
  {
   "cell_type": "code",
   "execution_count": null,
   "metadata": {},
   "outputs": [],
   "source": [
    "pd.date_range('1/1/2012', periods=10, freq='S')"
   ]
  },
  {
   "cell_type": "code",
   "execution_count": null,
   "metadata": {},
   "outputs": [],
   "source": [
    "pd.date_range('3/6/2012 00:00', periods=5, freq='D')"
   ]
  },
  {
   "cell_type": "code",
   "execution_count": null,
   "metadata": {},
   "outputs": [],
   "source": [
    "pd.date_range('1/1/2012', periods=5, freq='M')"
   ]
  },
  {
   "cell_type": "markdown",
   "metadata": {},
   "source": [
    "### Generate period index"
   ]
  },
  {
   "cell_type": "code",
   "execution_count": null,
   "metadata": {},
   "outputs": [],
   "source": [
    "pd.period_range('2018-01-01', '2018-03-01', freq='D')"
   ]
  },
  {
   "cell_type": "code",
   "execution_count": null,
   "metadata": {},
   "outputs": [],
   "source": [
    "pd.date_range('2018-01-01', '2018-03-01', freq='D').to_period()"
   ]
  },
  {
   "cell_type": "markdown",
   "metadata": {},
   "source": [
    "### Plot time series"
   ]
  },
  {
   "cell_type": "markdown",
   "metadata": {},
   "source": [
    "- http://pandas.pydata.org/pandas-docs/stable/visualization.html#suppressing-tick-resolution-adjustment\n",
    "- http://pandas.pydata.org/pandas-docs/stable/visualization.html#automatic-date-tick-adjustment"
   ]
  },
  {
   "cell_type": "code",
   "execution_count": null,
   "metadata": {},
   "outputs": [],
   "source": [
    "dti = pd.date_range('2012-01-01 00:00', periods=40, freq='D')\n",
    "ts = pd.Series(np.random.randint(0, 200, len(dti)), index=dti)"
   ]
  },
  {
   "cell_type": "code",
   "execution_count": null,
   "metadata": {},
   "outputs": [],
   "source": [
    "ts.plot();"
   ]
  },
  {
   "cell_type": "code",
   "execution_count": null,
   "metadata": {},
   "outputs": [],
   "source": [
    "ts.plot(x_compat=True);"
   ]
  },
  {
   "cell_type": "code",
   "execution_count": null,
   "metadata": {},
   "outputs": [],
   "source": [
    "dti = pd.date_range('2018-01-01 00:00', '2018-01-03 00:00', freq='H')\n",
    "ts = pd.Series(np.random.randint(0, 100, len(dti)), index=dti)\n",
    "\n",
    "ax = ts.plot(x_compat=True, figsize=(16, 4))    # x_compat is required as matplotlib doesn't understand pandas datetime format -> x_compat=True makes the conversion...\n",
    "\n",
    "# set monthly locator\n",
    "ax.xaxis.set_major_locator(mdates.DayLocator(interval=1))\n",
    "ax.xaxis.set_minor_locator(mdates.HourLocator(interval=1))\n",
    "\n",
    "# set formatter\n",
    "ax.xaxis.set_major_formatter(mdates.DateFormatter('%d-%m-%Y'))\n",
    "\n",
    "# set font and rotation for date tick labels\n",
    "plt.gcf().autofmt_xdate()"
   ]
  },
  {
   "cell_type": "markdown",
   "metadata": {},
   "source": [
    "### Indexing (select datetime)"
   ]
  },
  {
   "cell_type": "markdown",
   "metadata": {},
   "source": [
    "See https://pandas.pydata.org/pandas-docs/stable/timeseries.html#indexing"
   ]
  },
  {
   "cell_type": "code",
   "execution_count": null,
   "metadata": {},
   "outputs": [],
   "source": [
    "dti = pd.date_range('2012-1-1 00:00', periods=40, freq='D')\n",
    "ts = pd.Series(np.random.randint(0, 200, len(dti)), index=dti)"
   ]
  },
  {
   "cell_type": "code",
   "execution_count": null,
   "metadata": {},
   "outputs": [],
   "source": [
    "ts"
   ]
  },
  {
   "cell_type": "code",
   "execution_count": null,
   "metadata": {},
   "outputs": [],
   "source": [
    "ts[\"2012-01-09\"]"
   ]
  },
  {
   "cell_type": "code",
   "execution_count": null,
   "metadata": {},
   "outputs": [],
   "source": [
    "ts[datetime.datetime(2012, 1, 9)]"
   ]
  },
  {
   "cell_type": "code",
   "execution_count": null,
   "metadata": {},
   "outputs": [],
   "source": [
    "ts[ts.index < \"2012-01-09\"]"
   ]
  },
  {
   "cell_type": "code",
   "execution_count": null,
   "metadata": {},
   "outputs": [],
   "source": [
    "ts[ts.index > \"2012-01-20\"]"
   ]
  },
  {
   "cell_type": "code",
   "execution_count": null,
   "metadata": {},
   "outputs": [],
   "source": [
    "ts[\"2012-01-09\":\"2012-01-20\"]"
   ]
  },
  {
   "cell_type": "code",
   "execution_count": null,
   "metadata": {},
   "outputs": [],
   "source": [
    "ts[datetime.datetime(2012, 1, 9):datetime.datetime(2012, 1, 20)]"
   ]
  },
  {
   "cell_type": "code",
   "execution_count": null,
   "metadata": {},
   "outputs": [],
   "source": [
    "ts[ts.index.day <= 3]"
   ]
  },
  {
   "cell_type": "code",
   "execution_count": null,
   "metadata": {},
   "outputs": [],
   "source": [
    "ts[ts.index.month == 2]"
   ]
  },
  {
   "cell_type": "code",
   "execution_count": null,
   "metadata": {},
   "outputs": [],
   "source": [
    "ts[\"2012-02\"]"
   ]
  },
  {
   "cell_type": "code",
   "execution_count": null,
   "metadata": {},
   "outputs": [],
   "source": [
    "ts[ts.index.dayofweek == 1]"
   ]
  },
  {
   "cell_type": "markdown",
   "metadata": {},
   "source": [
    "### Rolling"
   ]
  },
  {
   "cell_type": "markdown",
   "metadata": {},
   "source": [
    "See https://stackoverflow.com/a/39917862"
   ]
  },
  {
   "cell_type": "markdown",
   "metadata": {},
   "source": [
    "#### Basic example"
   ]
  },
  {
   "cell_type": "markdown",
   "metadata": {},
   "source": [
    "Rolling window size: 1 day"
   ]
  },
  {
   "cell_type": "code",
   "execution_count": null,
   "metadata": {},
   "outputs": [],
   "source": [
    "dti = pd.DatetimeIndex(['2018-1-1 00:00', '2018-1-1 06:45', '2018-1-1 12:00',\n",
    "                        '2018-1-2 00:00', '2018-1-2 06:00', '2018-1-2 12:00'])\n",
    "ts = pd.Series([2., 1., 3., 2., 2., 0.], index=dti)\n",
    "\n",
    "print(\"DATA:\")\n",
    "print(ts)\n",
    "\n",
    "ax = ts.plot(figsize=(18, 3), style=\"*-\", color=\"blue\")\n",
    "ax.vlines(pd.DatetimeIndex(['2018-1-1 00:00', '2018-1-2 00:00']), ymin=0, ymax=8, color=\"red\", linestyle=\":\", alpha=0.3);\n",
    "\n",
    "ts_rw = ts.rolling('D').sum()   # Rolling window size: 1 day\n",
    "\n",
    "print()\n",
    "print(\"MEAN:\")\n",
    "print(ts_rw)\n",
    "\n",
    "ts_rw.plot(color=\"red\", label=\"sum\", style=\"*-\", alpha=0.75, ax=ax)\n",
    "\n",
    "ax.legend()\n",
    "ax.set_xlabel('Time')\n",
    "ax.grid(True);"
   ]
  },
  {
   "cell_type": "code",
   "execution_count": null,
   "metadata": {},
   "outputs": [],
   "source": [
    "ts.rolling('6h').min()"
   ]
  },
  {
   "cell_type": "code",
   "execution_count": null,
   "metadata": {},
   "outputs": [],
   "source": [
    "ts.rolling('3h').mean()"
   ]
  },
  {
   "cell_type": "markdown",
   "metadata": {},
   "source": [
    "#### More realistic example"
   ]
  },
  {
   "cell_type": "code",
   "execution_count": null,
   "metadata": {},
   "outputs": [],
   "source": [
    "dti = pd.date_range('1/1/2018 00:00', periods=6*480, freq='10min')\n",
    "ts = pd.Series(np.sin(dti.hour * 2. * np.pi / 24.), index=dti)\n",
    "\n",
    "ts = ts + np.random.normal(scale=0.4, size=ts.shape)\n",
    "\n",
    "ax = ts.plot(figsize=(18, 3))\n",
    "ax.vlines(pd.date_range('1/1/2018 00:00', periods=480/24, freq='D'), ymin=-2, ymax=2, color=\"red\", linestyle=\":\", alpha=0.3);"
   ]
  },
  {
   "cell_type": "code",
   "execution_count": null,
   "metadata": {},
   "outputs": [],
   "source": [
    "ts.shape"
   ]
  },
  {
   "cell_type": "code",
   "execution_count": null,
   "metadata": {},
   "outputs": [],
   "source": [
    "ts_mean = ts.rolling('5H').mean()\n",
    "ts_median = ts.rolling('5H').median()\n",
    "ts_min = ts.rolling('5H').min()\n",
    "ts_max = ts.rolling('5H').max()\n",
    "\n",
    "ax = ts_mean.plot(y='duration', figsize=(18, 3), color=\"red\", label=\"mean\", alpha=0.75)\n",
    "ts_median.plot(ax=ax, color=\"blue\", label=\"median\", alpha=0.75)\n",
    "ts_min.plot(ax=ax, color=\"blue\", alpha=0.5, style=\":\", label=\"min\")\n",
    "ts_max.plot(ax=ax, color=\"blue\", alpha=0.5, style=\":\", label=\"max\")\n",
    "\n",
    "plt.fill_between(ts_min.index, ts_min.values, ts_max.values, facecolor='blue', alpha=0.1)\n",
    "\n",
    "ax.legend()\n",
    "ax.set_xlabel('Time');"
   ]
  },
  {
   "cell_type": "code",
   "execution_count": null,
   "metadata": {},
   "outputs": [],
   "source": [
    "ts_mean.shape"
   ]
  },
  {
   "cell_type": "markdown",
   "metadata": {},
   "source": [
    "### Resampling"
   ]
  },
  {
   "cell_type": "markdown",
   "metadata": {},
   "source": [
    "See https://pandas.pydata.org/pandas-docs/stable/timeseries.html#resampling"
   ]
  },
  {
   "cell_type": "markdown",
   "metadata": {},
   "source": [
    "`resample()` is a time-based groupby, followed by a reduction method on each of its groups.\n",
    "`resample()` is similar to using a `rolling()` operation with a time-based offset."
   ]
  },
  {
   "cell_type": "markdown",
   "metadata": {},
   "source": [
    "#### Basic example"
   ]
  },
  {
   "cell_type": "code",
   "execution_count": null,
   "metadata": {},
   "outputs": [],
   "source": [
    "dti = pd.DatetimeIndex(['2018-1-1 00:00', '2018-1-1 06:45', '2018-1-1 12:00',\n",
    "                        '2018-1-2 00:00', '2018-1-2 12:00'])\n",
    "ts = pd.Series([1., 0., 5., 2., 0.], index=dti)\n",
    "\n",
    "print(\"DATA:\")\n",
    "print(ts)\n",
    "\n",
    "ax = ts.plot(figsize=(18, 3), style=\"*-\", color=\"blue\")\n",
    "ax.vlines(pd.DatetimeIndex(['2018-1-1 00:00', '2018-1-2 00:00']), ymin=0, ymax=5, color=\"red\", linestyle=\":\", alpha=0.3);\n",
    "\n",
    "ts_resampled = ts.resample('D').mean()\n",
    "\n",
    "print()\n",
    "print(\"MEAN:\")\n",
    "print(ts_resampled)\n",
    "\n",
    "ts_resampled.plot(color=\"red\", style=\"*-\", label=\"mean\", alpha=0.75, ax=ax)\n",
    "\n",
    "ax.legend()\n",
    "ax.set_xlabel('Time');"
   ]
  },
  {
   "cell_type": "code",
   "execution_count": null,
   "metadata": {},
   "outputs": [],
   "source": [
    "ts.resample('6h').min()"
   ]
  },
  {
   "cell_type": "code",
   "execution_count": null,
   "metadata": {},
   "outputs": [],
   "source": [
    "ts.resample('3h').sum()"
   ]
  },
  {
   "cell_type": "markdown",
   "metadata": {},
   "source": [
    "#### Is there an offset ?"
   ]
  },
  {
   "cell_type": "markdown",
   "metadata": {},
   "source": [
    "No. `resample('D')` aggregates values for each day between \"00:00:00\" and \"23:59:59\", whatever the first index of `ts`.\n",
    "See the examples bellow..."
   ]
  },
  {
   "cell_type": "code",
   "execution_count": null,
   "metadata": {},
   "outputs": [],
   "source": [
    "dti = pd.DatetimeIndex(['2018-1-1 12:00',\n",
    "                        '2018-1-2 08:00', '2018-1-2 18:00', '2018-1-2 23:59:59',\n",
    "                        '2018-1-3 00:00'])\n",
    "ts = pd.Series([0.,\n",
    "                10., 20., 30.,\n",
    "                5.], index=dti)\n",
    "\n",
    "print(\"DATA:\")\n",
    "print(ts)\n",
    "\n",
    "ts_resampled = ts.resample('D').mean()\n",
    "\n",
    "print()\n",
    "print(\"MEAN:\")\n",
    "print(ts_resampled)\n",
    "\n",
    "# Illustrative plot\n",
    "\n",
    "ax = ts.plot(x_compat=True, figsize=(18, 3), style=\"*-\", color=\"blue\")\n",
    "ax.vlines(pd.DatetimeIndex(['2018-1-1 00:00', '2018-1-2 00:00', '2018-1-3 00:00']), ymin=-10, ymax=40, color=\"red\", linestyle=\":\", linewidth=2, alpha=0.5);\n",
    "ax.vlines(pd.DatetimeIndex(['2018-1-1 12:00', '2018-1-2 12:00', '2018-1-3 12:00']), ymin=-10, ymax=40, color=\"green\", linestyle=\":\", linewidth=2, alpha=0.5);\n",
    "\n",
    "ax.plot(pd.DatetimeIndex(['2018-1-1 12:15', '2018-1-2 11:45']), [40, 40], marker=\"|\", markersize=20, color=\"green\")\n",
    "ax.plot(pd.DatetimeIndex(['2018-1-2 12:15', '2018-1-3 11:45']), [40, 40], marker=\"|\", markersize=20, color=\"green\")\n",
    "\n",
    "ax.plot(pd.DatetimeIndex(['2018-1-1 00:15', '2018-1-1 23:45']), [35, 35], marker=\"|\", markersize=20, color=\"red\")\n",
    "ax.plot(pd.DatetimeIndex(['2018-1-2 00:15', '2018-1-2 23:45']), [35, 35], marker=\"|\", markersize=20, color=\"red\")\n",
    "\n",
    "ts_resampled.plot(color=\"red\", style=\"*-\", label=\"mean\", alpha=0.75, ax=ax)\n",
    "\n",
    "# set monthly locator\n",
    "ax.xaxis.set_major_locator(mdates.DayLocator(interval=1))\n",
    "ax.xaxis.set_minor_locator(mdates.HourLocator(interval=1))\n",
    "\n",
    "# set formatter\n",
    "ax.xaxis.set_major_formatter(mdates.DateFormatter('%d-%m-%Y  %H:%M'))\n",
    "\n",
    "# set font and rotation for date tick labels\n",
    "plt.gcf().autofmt_xdate()\n",
    "\n",
    "ax.legend()\n",
    "ax.set_xlabel('Time');"
   ]
  },
  {
   "cell_type": "code",
   "execution_count": null,
   "metadata": {},
   "outputs": [],
   "source": [
    "dti = pd.DatetimeIndex(['2018-1-1 01:00',\n",
    "                        '2018-1-1 05:30', '2018-1-1 07:30',\n",
    "                        '2018-1-1 10:00'])\n",
    "ts = pd.Series([0.,\n",
    "                10., 20.,\n",
    "                5.], index=dti)\n",
    "\n",
    "print(\"DATA:\")\n",
    "print(ts)\n",
    "\n",
    "ts_resampled = ts.resample('5h').mean()\n",
    "\n",
    "print()\n",
    "print(\"MEAN:\")\n",
    "print(ts_resampled)\n",
    "\n",
    "# Illustrative plot\n",
    "\n",
    "ax = ts.plot(x_compat=True, figsize=(18, 3), style=\"*-\", color=\"blue\")\n",
    "ax.vlines(pd.DatetimeIndex(['2018-1-1 00:00', '2018-1-1 05:00', '2018-1-1 10:00']), ymin=-10, ymax=40, color=\"red\", linestyle=\":\", linewidth=2, alpha=0.5);\n",
    "ax.vlines(pd.DatetimeIndex(['2018-1-1 01:00', '2018-1-1 06:00', '2018-1-1 11:00']), ymin=-10, ymax=40, color=\"green\", linestyle=\":\", linewidth=2, alpha=0.5);\n",
    "\n",
    "ax.plot(pd.DatetimeIndex(['2018-1-1 01:05', '2018-1-1 05:55']), [40, 40], marker=\"|\", markersize=20, color=\"green\")\n",
    "ax.plot(pd.DatetimeIndex(['2018-1-1 06:05', '2018-1-1 10:55']), [40, 40], marker=\"|\", markersize=20, color=\"green\")\n",
    "\n",
    "ax.plot(pd.DatetimeIndex(['2018-1-1 00:05', '2018-1-1 04:55']), [35, 35], marker=\"|\", markersize=20, color=\"red\")\n",
    "ax.plot(pd.DatetimeIndex(['2018-1-1 05:05', '2018-1-1 09:55']), [35, 35], marker=\"|\", markersize=20, color=\"red\")\n",
    "\n",
    "ts_resampled.plot(color=\"red\", style=\"*-\", label=\"mean\", alpha=0.75, ax=ax)\n",
    "\n",
    "# set monthly locator\n",
    "ax.xaxis.set_major_locator(mdates.HourLocator(interval=1))\n",
    "#ax.xaxis.set_minor_locator(mdates.HourLocator(interval=1))\n",
    "\n",
    "# set formatter\n",
    "ax.xaxis.set_major_formatter(mdates.DateFormatter('%H:%M'))\n",
    "\n",
    "# set font and rotation for date tick labels\n",
    "plt.gcf().autofmt_xdate()\n",
    "\n",
    "ax.legend()\n",
    "ax.set_xlabel('Time');"
   ]
  },
  {
   "cell_type": "markdown",
   "metadata": {},
   "source": [
    "#### More realistic example"
   ]
  },
  {
   "cell_type": "code",
   "execution_count": null,
   "metadata": {},
   "outputs": [],
   "source": [
    "dti = pd.date_range('1/1/2018 00:00', periods=60*480, freq='min')\n",
    "ts = pd.Series(np.sin(dti.hour * 2. * np.pi / 24.), index=dti)\n",
    "\n",
    "ts = ts + np.random.normal(scale=0.4, size=ts.shape)\n",
    "\n",
    "ax = ts.plot(figsize=(18, 3))\n",
    "ax.vlines(pd.date_range('1/1/2018 00:00', periods=480/24, freq='D'), ymin=-2, ymax=2, color=\"red\", linestyle=\":\", alpha=0.3);"
   ]
  },
  {
   "cell_type": "code",
   "execution_count": null,
   "metadata": {},
   "outputs": [],
   "source": [
    "ts.shape"
   ]
  },
  {
   "cell_type": "code",
   "execution_count": null,
   "metadata": {},
   "outputs": [],
   "source": [
    "ts_mean = ts.resample('2H').mean()\n",
    "ts_median = ts.resample('2H').median()\n",
    "ts_min = ts.resample('2H').min()\n",
    "ts_max = ts.resample('2H').max()\n",
    "\n",
    "ax = ts_mean.plot(y='duration', figsize=(18, 8), color=\"red\", label=\"mean\", alpha=0.75)\n",
    "ts_median.plot(ax=ax, color=\"blue\", label=\"median\", alpha=0.75)\n",
    "ts_min.plot(ax=ax, color=\"blue\", alpha=0.5, style=\":\", label=\"min\")\n",
    "ts_max.plot(ax=ax, color=\"blue\", alpha=0.5, style=\":\", label=\"max\")\n",
    "\n",
    "plt.fill_between(ts_min.index, ts_min.values, ts_max.values, facecolor='blue', alpha=0.1)\n",
    "\n",
    "ax.legend()\n",
    "ax.set_xlabel('Time');"
   ]
  },
  {
   "cell_type": "code",
   "execution_count": null,
   "metadata": {},
   "outputs": [],
   "source": [
    "ts_mean.shape"
   ]
  },
  {
   "cell_type": "markdown",
   "metadata": {},
   "source": [
    "### Difference between `rolling()` and `resample()`"
   ]
  },
  {
   "cell_type": "code",
   "execution_count": null,
   "metadata": {},
   "outputs": [],
   "source": [
    "rolling_window = '6H'\n",
    "start = '2018-1-1 00:00'\n",
    "end = '2018-1-4 00:00'"
   ]
  },
  {
   "cell_type": "code",
   "execution_count": null,
   "metadata": {},
   "outputs": [],
   "source": [
    "dti = pd.date_range(start=start, end=end, freq='min')\n",
    "ts = pd.Series(np.sin(dti.hour * 2. * np.pi / 24.), index=dti)\n",
    "ts = ts + np.random.normal(scale=0.4, size=ts.shape)\n",
    "\n",
    "ax = ts.plot(figsize=(18, 3))\n",
    "ax.vlines(pd.date_range(start=start, end=end, freq=rolling_window), ymin=-2, ymax=2, color=\"red\", linestyle=\":\", alpha=0.5);"
   ]
  },
  {
   "cell_type": "code",
   "execution_count": null,
   "metadata": {},
   "outputs": [],
   "source": [
    "ts2 = ts.rolling(rolling_window).mean()   # Rolling window size: 1 day\n",
    "\n",
    "ax = ts2.plot(figsize=(18, 3), color=\"red\", alpha=0.75)\n",
    "ax.vlines(pd.date_range(start=start, end=end, freq=rolling_window), ymin=-1, ymax=1, color=\"red\", linestyle=\":\", alpha=0.5);"
   ]
  },
  {
   "cell_type": "code",
   "execution_count": null,
   "metadata": {},
   "outputs": [],
   "source": [
    "ts2 = ts.resample(rolling_window).mean()   # Rolling window size: 1 day\n",
    "\n",
    "ax = ts2.plot(figsize=(18, 3), color=\"red\", alpha=0.75)\n",
    "ax.vlines(pd.date_range(start=start, end=end, freq=rolling_window), ymin=-1, ymax=1, color=\"red\", linestyle=\":\", alpha=0.5);"
   ]
  },
  {
   "cell_type": "markdown",
   "metadata": {},
   "source": [
    "### Group by"
   ]
  },
  {
   "cell_type": "markdown",
   "metadata": {},
   "source": [
    "See https://jakevdp.github.io/PythonDataScienceHandbook/03.11-working-with-time-series.html#Digging-into-the-data"
   ]
  },
  {
   "cell_type": "markdown",
   "metadata": {},
   "source": [
    "#### Basic example"
   ]
  },
  {
   "cell_type": "code",
   "execution_count": null,
   "metadata": {},
   "outputs": [],
   "source": [
    "dti = pd.DatetimeIndex(['2018-1-1 00:00', '2018-1-1 12:00', '2018-1-2 00:00', '2018-1-2 12:00'])\n",
    "ts = pd.Series([1., 0., 2., 1.], index=dti)\n",
    "\n",
    "print(ts)\n",
    "\n",
    "ax = ts.plot(figsize=(18, 3))\n",
    "\n",
    "dti = pd.DatetimeIndex(['2018-1-1 00:00', '2018-1-2 00:00'])\n",
    "ax.vlines(dti, ymin=0, ymax=2, color=\"red\", linestyle=\":\", alpha=0.3);"
   ]
  },
  {
   "cell_type": "code",
   "execution_count": null,
   "metadata": {},
   "outputs": [],
   "source": [
    "ts_mean = ts.groupby(ts.index.time).mean()\n",
    "\n",
    "print(ts_mean)\n",
    "\n",
    "ax = ts_mean.plot(y='duration', figsize=(10, 4), color=\"red\", label=\"mean\", alpha=0.75)\n",
    "ax.legend()\n",
    "ax.set_xlabel('Time');"
   ]
  },
  {
   "cell_type": "markdown",
   "metadata": {},
   "source": [
    "#### Basic example of wrong usage"
   ]
  },
  {
   "cell_type": "code",
   "execution_count": null,
   "metadata": {},
   "outputs": [],
   "source": [
    "dti = pd.DatetimeIndex(['2018-1-1 00:00', '2018-1-1 12:00', '2018-1-2 00:31', '2018-1-2 12:25'])  # Here time is not aligned (non constant frequency)\n",
    "ts = pd.Series([1., 0., 2., 1.], index=dti)\n",
    "\n",
    "print(ts)\n",
    "\n",
    "ax = ts.plot(figsize=(18, 3));"
   ]
  },
  {
   "cell_type": "code",
   "execution_count": null,
   "metadata": {},
   "outputs": [],
   "source": [
    "ts_mean = ts.groupby(ts.index.time).mean()\n",
    "\n",
    "print(ts_mean)\n",
    "\n",
    "ax = ts_mean.plot(y='duration', figsize=(10, 4), color=\"red\", label=\"mean\", alpha=0.75)\n",
    "ax.legend()\n",
    "ax.set_xlabel('Time');"
   ]
  },
  {
   "cell_type": "markdown",
   "metadata": {},
   "source": [
    "#### More realistic example"
   ]
  },
  {
   "cell_type": "code",
   "execution_count": null,
   "metadata": {},
   "outputs": [],
   "source": [
    "dti = pd.date_range('1/1/2018 00:00', periods=960, freq='h')\n",
    "ts = pd.Series(np.sin(dti.hour * 2. * np.pi / 24.), index=dti)\n",
    "\n",
    "ts = ts + np.random.normal(scale=0.4, size=ts.shape)\n",
    "\n",
    "ax = ts.plot(figsize=(18, 3))\n",
    "ax.vlines(pd.date_range('1/1/2018 00:00', periods=960/24, freq='D'), ymin=-2, ymax=2, color=\"red\", linestyle=\":\", alpha=0.3);"
   ]
  },
  {
   "cell_type": "code",
   "execution_count": null,
   "metadata": {},
   "outputs": [],
   "source": [
    "ts_mean = ts.groupby(ts.index.time).mean()\n",
    "ts_median = ts.groupby(ts.index.time).median()\n",
    "ts_quartile_1 = ts.groupby(ts.index.time).quantile(0.25)\n",
    "ts_quartile_3 = ts.groupby(ts.index.time).quantile(0.75)\n",
    "\n",
    "ax = ts_mean.plot(y='duration', figsize=(14, 8), color=\"red\", label=\"mean\", alpha=0.75)\n",
    "ts_median.plot(ax=ax, color=\"blue\", label=\"median\", alpha=0.75)\n",
    "ts_quartile_1.plot(ax=ax, color=\"blue\", alpha=0.5, style=\":\", label=\"1st quartile\")\n",
    "ts_quartile_3.plot(ax=ax, color=\"blue\", alpha=0.5, style=\":\", label=\"3rd quartile\")\n",
    "\n",
    "plt.fill_between(ts_quartile_1.index, ts_quartile_1.values, ts_quartile_3.values, facecolor='blue', alpha=0.1)\n",
    "\n",
    "ax.legend()\n",
    "ax.set_xlabel('Time');"
   ]
  },
  {
   "cell_type": "markdown",
   "metadata": {},
   "source": [
    "#### With Periods"
   ]
  },
  {
   "cell_type": "code",
   "execution_count": null,
   "metadata": {},
   "outputs": [],
   "source": [
    "dti = pd.period_range('1/1/2018 00:00', periods=960, freq='h')\n",
    "ts = pd.Series(np.sin(dti.hour * 2. * np.pi / 24.), index=dti)\n",
    "\n",
    "ts = ts + np.random.normal(scale=0.4, size=ts.shape)\n",
    "\n",
    "ax = ts.plot(figsize=(18, 3))\n",
    "ax.vlines(pd.date_range('1/1/2018 00:00', periods=960/24, freq='D'), ymin=-2, ymax=2, color=\"red\", linestyle=\":\", alpha=0.3);"
   ]
  },
  {
   "cell_type": "code",
   "execution_count": null,
   "metadata": {},
   "outputs": [],
   "source": [
    "ts_mean = ts.groupby(ts.index.start_time.time).mean()                 # Note the \".start_time\" here\n",
    "ts_median = ts.groupby(ts.index.start_time.time).median()             # Note the \".start_time\" here\n",
    "ts_quartile_1 = ts.groupby(ts.index.start_time.time).quantile(0.25)   # Note the \".start_time\" here\n",
    "ts_quartile_3 = ts.groupby(ts.index.start_time.time).quantile(0.75)   # Note the \".start_time\" here\n",
    "\n",
    "ax = ts_mean.plot(y='duration', figsize=(14, 8), color=\"red\", label=\"mean\", alpha=0.75)\n",
    "ts_median.plot(ax=ax, color=\"blue\", label=\"median\", alpha=0.75)\n",
    "ts_quartile_1.plot(ax=ax, color=\"blue\", alpha=0.5, style=\":\", label=\"1st quartile\")\n",
    "ts_quartile_3.plot(ax=ax, color=\"blue\", alpha=0.5, style=\":\", label=\"3rd quartile\")\n",
    "\n",
    "plt.fill_between(ts_quartile_1.index, ts_quartile_1.values, ts_quartile_3.values, facecolor='blue', alpha=0.1)\n",
    "\n",
    "ax.legend()\n",
    "ax.set_xlabel('Time');"
   ]
  },
  {
   "cell_type": "markdown",
   "metadata": {},
   "source": [
    "### Round"
   ]
  },
  {
   "cell_type": "code",
   "execution_count": null,
   "metadata": {},
   "outputs": [],
   "source": [
    "dti = pd.DatetimeIndex(['2018-1-1 00:00', '2018-1-1 12:00', '2018-1-2 00:31', '2018-1-2 12:25'])  # Here time is not aligned (non constant frequency)\n",
    "ts = pd.Series([1., 0., 2., 1.], index=dti)\n",
    "\n",
    "print(ts)"
   ]
  },
  {
   "cell_type": "code",
   "execution_count": null,
   "metadata": {},
   "outputs": [],
   "source": [
    "ts.index.round('H')"
   ]
  },
  {
   "cell_type": "markdown",
   "metadata": {},
   "source": [
    "### Count"
   ]
  },
  {
   "cell_type": "markdown",
   "metadata": {},
   "source": [
    "TODO: is it the cleanest way to do this ?"
   ]
  },
  {
   "cell_type": "code",
   "execution_count": null,
   "metadata": {},
   "outputs": [],
   "source": [
    "dti = pd.DatetimeIndex(['2018-1-1 00:00', '2018-1-1 06:45', '2018-1-1 12:00',\n",
    "                        '2018-1-3 00:00', '2018-1-3 06:00'])\n",
    "\n",
    "s = pd.Series(np.ones(dti.shape), index=dti)"
   ]
  },
  {
   "cell_type": "code",
   "execution_count": null,
   "metadata": {},
   "outputs": [],
   "source": [
    "#dti.groupby(dti.date)     # it works but it returns a dictionary..."
   ]
  },
  {
   "cell_type": "code",
   "execution_count": null,
   "metadata": {},
   "outputs": [],
   "source": [
    "s.groupby(dti.date).count().plot.bar(color=\"blue\", alpha=0.5);"
   ]
  },
  {
   "cell_type": "code",
   "execution_count": null,
   "metadata": {},
   "outputs": [],
   "source": [
    "s.resample('1d').count().plot.bar(color=\"blue\", alpha=0.5);"
   ]
  },
  {
   "cell_type": "markdown",
   "metadata": {},
   "source": [
    "## Plot"
   ]
  },
  {
   "cell_type": "markdown",
   "metadata": {},
   "source": [
    "see https://pandas.pydata.org/pandas-docs/stable/visualization.html"
   ]
  },
  {
   "cell_type": "code",
   "execution_count": null,
   "metadata": {},
   "outputs": [],
   "source": [
    "#help(df.plot)"
   ]
  },
  {
   "cell_type": "markdown",
   "metadata": {},
   "source": [
    "### Line plot"
   ]
  },
  {
   "cell_type": "code",
   "execution_count": null,
   "metadata": {},
   "outputs": [],
   "source": [
    "x = np.arange(0, 6, 0.1)\n",
    "y1 = np.cos(x)\n",
    "y2 = np.sin(x)\n",
    "Y = np.array([y1, y2]).T\n",
    "\n",
    "df = pd.DataFrame(Y,\n",
    "                  columns=['cos(x)', 'sin(x)'],\n",
    "                  index=x)\n",
    "df.iloc[:10]"
   ]
  },
  {
   "cell_type": "code",
   "execution_count": null,
   "metadata": {},
   "outputs": [],
   "source": [
    "df.plot(legend=True)"
   ]
  },
  {
   "cell_type": "markdown",
   "metadata": {},
   "source": [
    "or"
   ]
  },
  {
   "cell_type": "code",
   "execution_count": null,
   "metadata": {},
   "outputs": [],
   "source": [
    "df.plot.line(legend=True)"
   ]
  },
  {
   "cell_type": "markdown",
   "metadata": {},
   "source": [
    "### Steps"
   ]
  },
  {
   "cell_type": "code",
   "execution_count": null,
   "metadata": {},
   "outputs": [],
   "source": [
    "df = pd.DataFrame(np.random.randn(36, 2))\n",
    "\n",
    "df.plot(drawstyle=\"steps\", linewidth=2)\n",
    "df.plot(drawstyle=\"steps-post\", linewidth=2);"
   ]
  },
  {
   "cell_type": "markdown",
   "metadata": {},
   "source": [
    "### Bar plot"
   ]
  },
  {
   "cell_type": "code",
   "execution_count": null,
   "metadata": {},
   "outputs": [],
   "source": [
    "x = np.arange(0, 6, 0.5)\n",
    "y1 = np.cos(x)\n",
    "y2 = np.sin(x)\n",
    "Y = np.array([y1, y2]).T\n",
    "\n",
    "df = pd.DataFrame(Y,\n",
    "                  columns=['cos(x)', 'sin(x)'],\n",
    "                  index=x)\n",
    "df"
   ]
  },
  {
   "cell_type": "markdown",
   "metadata": {},
   "source": [
    "#### Vertical"
   ]
  },
  {
   "cell_type": "code",
   "execution_count": null,
   "metadata": {},
   "outputs": [],
   "source": [
    "df.plot.bar(legend=True)"
   ]
  },
  {
   "cell_type": "code",
   "execution_count": null,
   "metadata": {},
   "outputs": [],
   "source": [
    "df.plot.bar(legend=True, stacked=True)"
   ]
  },
  {
   "cell_type": "markdown",
   "metadata": {},
   "source": [
    "#### Horizontal"
   ]
  },
  {
   "cell_type": "code",
   "execution_count": null,
   "metadata": {},
   "outputs": [],
   "source": [
    "df.plot.barh(legend=True)"
   ]
  },
  {
   "cell_type": "markdown",
   "metadata": {},
   "source": [
    "### Histogram"
   ]
  },
  {
   "cell_type": "code",
   "execution_count": null,
   "metadata": {},
   "outputs": [],
   "source": [
    "x1 = np.random.normal(size=(10000))\n",
    "x2 = np.random.normal(loc=3, scale=2, size=(10000))\n",
    "X = np.array([x1, x2]).T\n",
    "\n",
    "df = pd.DataFrame(X, columns=[r'$\\mathcal{N}(0,1)$', r'$\\mathcal{N}(3,2)$'])\n",
    "\n",
    "df.plot.hist(alpha=0.5, bins=100, legend=True);"
   ]
  },
  {
   "cell_type": "markdown",
   "metadata": {},
   "source": [
    "To normalize the $y$ axis, use `density=True`:"
   ]
  },
  {
   "cell_type": "code",
   "execution_count": null,
   "metadata": {},
   "outputs": [],
   "source": [
    "df.plot.hist(alpha=0.5, bins=100, legend=True, density=True);"
   ]
  },
  {
   "cell_type": "markdown",
   "metadata": {},
   "source": [
    "### Box plot"
   ]
  },
  {
   "cell_type": "code",
   "execution_count": null,
   "metadata": {},
   "outputs": [],
   "source": [
    "x1 = np.random.normal(size=(10000))\n",
    "x2 = np.random.normal(loc=3, scale=2, size=(10000))\n",
    "X = np.array([x1, x2]).T\n",
    "\n",
    "df = pd.DataFrame(X, columns=[r'$\\mathcal{N}(0,1)$', r'$\\mathcal{N}(3,2)$'])\n",
    "\n",
    "df.plot.box()"
   ]
  },
  {
   "cell_type": "markdown",
   "metadata": {},
   "source": [
    "### Hexbin plot"
   ]
  },
  {
   "cell_type": "code",
   "execution_count": null,
   "metadata": {},
   "outputs": [],
   "source": [
    "df = pd.DataFrame(np.random.randn(1000, 2), columns=['a', 'b'])\n",
    "df['b'] = df['b'] + np.arange(1000)\n",
    "df.plot.hexbin(x='a', y='b', gridsize=25)"
   ]
  },
  {
   "cell_type": "markdown",
   "metadata": {},
   "source": [
    "### Kernel Density Estimation (KDE) plot"
   ]
  },
  {
   "cell_type": "code",
   "execution_count": null,
   "metadata": {},
   "outputs": [],
   "source": [
    "x1 = np.random.normal(size=(10000))\n",
    "x2 = np.random.normal(loc=3, scale=2, size=(10000))\n",
    "X = np.array([x1, x2]).T\n",
    "\n",
    "df = pd.DataFrame(X, columns=[r'$\\mathcal{N}(0,1)$', r'$\\mathcal{N}(3,2)$'])\n",
    "\n",
    "df.plot.kde()"
   ]
  },
  {
   "cell_type": "markdown",
   "metadata": {},
   "source": [
    "### Area plot"
   ]
  },
  {
   "cell_type": "code",
   "execution_count": null,
   "metadata": {},
   "outputs": [],
   "source": [
    "df = pd.DataFrame(np.random.rand(10, 4), columns=['a', 'b', 'c', 'd'])\n",
    "\n",
    "df.plot.area()"
   ]
  },
  {
   "cell_type": "markdown",
   "metadata": {},
   "source": [
    "### Pie chart"
   ]
  },
  {
   "cell_type": "code",
   "execution_count": null,
   "metadata": {},
   "outputs": [],
   "source": [
    "x = np.random.randint(low=0, high=6, size=(50))\n",
    "\n",
    "df = pd.DataFrame(x, columns=[\"A\"])\n",
    "df.A.value_counts()"
   ]
  },
  {
   "cell_type": "code",
   "execution_count": null,
   "metadata": {},
   "outputs": [],
   "source": [
    "df.A.value_counts().plot.pie(y=\"A\")"
   ]
  },
  {
   "cell_type": "markdown",
   "metadata": {},
   "source": [
    "### Scatter plot"
   ]
  },
  {
   "cell_type": "code",
   "execution_count": null,
   "metadata": {},
   "outputs": [],
   "source": [
    "x1 = np.random.normal(size=(10000))\n",
    "x2 = np.random.normal(loc=3, scale=2, size=(10000))\n",
    "X = np.array([x1, x2]).T\n",
    "\n",
    "df = pd.DataFrame(X, columns=[r'$\\mathcal{N}(0,1)$', r'$\\mathcal{N}(3,2)$'])\n",
    "\n",
    "df.plot.scatter(x=r'$\\mathcal{N}(0,1)$',\n",
    "                y=r'$\\mathcal{N}(3,2)$',\n",
    "                alpha=0.2)"
   ]
  }
 ],
 "metadata": {
  "anaconda-cloud": {},
  "celltoolbar": "Tags",
  "kernelspec": {
   "display_name": "Python 3",
   "language": "python",
   "name": "python3"
  },
  "language_info": {
   "codemirror_mode": {
    "name": "ipython",
    "version": 3
   },
   "file_extension": ".py",
   "mimetype": "text/x-python",
   "name": "python",
   "nbconvert_exporter": "python",
   "pygments_lexer": "ipython3",
   "version": "3.6.6"
  }
 },
 "nbformat": 4,
 "nbformat_minor": 2
}
