{
 "cells": [
  {
   "cell_type": "markdown",
   "metadata": {},
   "source": [
    "This notebook can be useful to quickly make a latex representation of linear systems of 2 variables."
   ]
  },
  {
   "cell_type": "code",
   "execution_count": null,
   "metadata": {},
   "outputs": [],
   "source": [
    "pre_str = r\"\"\"\n",
    "$\n",
    "\\left\\{\n",
    "\\begin{align}\n",
    "\"\"\"\n",
    "\n",
    "post_str = r\"\"\"\\end{align}\n",
    "\\right.\n",
    "$\n",
    "\"\"\"\n",
    "\n",
    "def complete_matrix_to_latex(Ab):\n",
    "    #6 x_1 + 7 x_2 &  = 11\n",
    "\n",
    "    sys_str = \"\"\n",
    "    \n",
    "    for eq in Ab:\n",
    "        \n",
    "        eq_str = \"\"\n",
    "        \n",
    "        for coef_index, coef in enumerate(eq[:-1]):\n",
    "            \n",
    "            if coef != 0:\n",
    "                if len(eq_str) > 0:\n",
    "                    eq_str += \"+ \"\n",
    "                if coef == 1:\n",
    "                    eq_str += \"x_{\" + str(coef_index + 1) + \"} \"\n",
    "                elif coef == -1:\n",
    "                    eq_str += \"-x_{\" + str(coef_index + 1) + \"} \"\n",
    "                else:\n",
    "                    eq_str += str(coef) + \" x_{\" + str(coef_index + 1) + \"} \"\n",
    "                        \n",
    "        eq_str = eq_str.replace(\"+ -\", \"- \")\n",
    "        eq_str += \"& = {} \\\\\\\\\\n\".format(eq[-1])\n",
    "        sys_str += eq_str\n",
    "    \n",
    "    return pre_str + sys_str + post_str\n"
   ]
  },
  {
   "cell_type": "code",
   "execution_count": null,
   "metadata": {},
   "outputs": [],
   "source": [
    "Ab = np.array([[0, -1, 1],\n",
    "               [2, 0, 1],\n",
    "               [1, -1, 2]])\n",
    "\n",
    "print(complete_matrix_to_latex(Ab))"
   ]
  }
 ],
 "metadata": {
  "kernelspec": {
   "display_name": "Python 3",
   "language": "python",
   "name": "python3"
  },
  "language_info": {
   "codemirror_mode": {
    "name": "ipython",
    "version": 3
   },
   "file_extension": ".py",
   "mimetype": "text/x-python",
   "name": "python",
   "nbconvert_exporter": "python",
   "pygments_lexer": "ipython3",
   "version": "3.6.5"
  }
 },
 "nbformat": 4,
 "nbformat_minor": 2
}
