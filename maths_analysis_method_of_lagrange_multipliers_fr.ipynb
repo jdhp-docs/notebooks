{
 "cells": [
  {
   "cell_type": "markdown",
   "metadata": {},
   "source": [
    "# La méthode des multiplicateurs de Lagrange"
   ]
  },
  {
   "cell_type": "markdown",
   "metadata": {},
   "source": [
    "## À quoi ça sert ?\n",
    "\n",
    "À trouver les extremums d'une fonction $f(x,y)$ soumise aux contraintes $g(x,y)=0$ (autrement dit on cherche a rèsoudre certains problèmes d'*optimisation sous contraintes*)."
   ]
  },
  {
   "cell_type": "markdown",
   "metadata": {},
   "source": [
    "## Cas d'une fonction à deux variables"
   ]
  },
  {
   "cell_type": "markdown",
   "metadata": {},
   "source": [
    "On pose la fonction:\n",
    "\n",
    "$$\n",
    "\\mathcal{L}(x,y) = f(x,y) + \\lambda g(x,y)\n",
    "$$\n",
    "\n",
    "$\\lambda$ est ce qu'on appelle un *multiplicateur de Lagrange* ; sa valeur n'est pas connue à priori."
   ]
  },
  {
   "cell_type": "markdown",
   "metadata": {},
   "source": [
    "Pour maximiser $\\mathcal{L}$,\n",
    "on annule ses dérivées partielles (condition nécessaire):\n",
    "\n",
    "$$\n",
    "\\mathcal{L}_x = f_x + \\lambda.g_x = 0 \\\\\n",
    "\\mathcal{L}_y = f_y + \\lambda.g_y = 0\n",
    "$$"
   ]
  },
  {
   "cell_type": "markdown",
   "metadata": {},
   "source": [
    "Le problème initial revient à résoudre le système d'équations à trois inconnues suivant:\n",
    "\n",
    "$$\n",
    "...\n",
    "$$"
   ]
  },
  {
   "cell_type": "markdown",
   "metadata": {},
   "source": [
    "### Exemple\n",
    "\n",
    "On cherche le rectangle d'aire maximum et de périmètre constant $U$.\n",
    "\n",
    "Aire du rectangle: $f(x,y) = xy$\n",
    "\n",
    "Périmètre du rectangle: $g(x,y) = 2x + 2y - U = 0$\n",
    "\n",
    "$\\mathcal{L}(x,y) = xy + \\lambda (2x + 2y - U)$\n",
    "\n",
    "$\\mathcal{L}_x = y + 2\\lambda = 0$,\n",
    "$\\mathcal{L}_y = x + 2\\lambda = 0$\n",
    "$\\rightarrow x_0 = y_0 = U/4$"
   ]
  },
  {
   "cell_type": "markdown",
   "metadata": {},
   "source": [
    "Il est préférable d'éliminer $\\lambda$ dés le début des calculs car c'est une variable auxiliaire dont la valeur n'est pas utile."
   ]
  },
  {
   "cell_type": "markdown",
   "metadata": {},
   "source": [
    "## Cas général"
   ]
  },
  {
   "cell_type": "markdown",
   "metadata": {},
   "source": [
    "## Bibliographie"
   ]
  },
  {
   "cell_type": "markdown",
   "metadata": {},
   "source": [
    "Quelques livres sur le sujet:\n",
    "\n",
    "- *Optimisation et contrôle des systèmes linéaires* (chapitre 3) de Maïtine Bergounioux aux editions Dunod\n",
    "- *Toutes les mathématiques et les bases de l'informatique* (p. 566-567) de Horst Stöcker aux editions Dunod"
   ]
  },
  {
   "cell_type": "markdown",
   "metadata": {},
   "source": [
    "Quelques liens intéressants:\n",
    "\n",
    "- https://fr.wikipedia.org/wiki/Multiplicateur_de_Lagrange\n",
    "- https://en.wikipedia.org/wiki/Lagrange_multiplier\n",
    "\n",
    "\n",
    "- https://economix.fr/docs/1041/Rappels%20Lagrange.pdf\n",
    "- https://quantique.u-strasbg.fr/lib/exe/fetch.php?media=fr:pageperso:vr:fichiers:multiplicateur-lagrange.pdf\n",
    "- http://www.unicaen.fr/ufr/eco/espaceprof/script1/script2/identification/valognes_fabrice/MicroL3/ch02.pdf\n",
    "- https://ufr-segmi.parisnanterre.fr/servlet/com.univ.collaboratif.utils.LectureFichiergw?ID_FICHIER=1348818743690\n",
    "- http://nlp.cs.berkeley.edu/tutorials/lagrange-multipliers.pdf\n",
    "- http://res-nlp.univ-lemans.fr/NLP_C_M03_G03/co/Contenu_601.html\n",
    "\n",
    "\n",
    "- https://www.google.fr/webhp?ie=utf-8&oe=utf-8&client=firefox-b&gfe_rd=cr&ei=kutIWYeiKoXS8Afc25yQBQ#safe=active&q=m%C3%A9thode+des+multiplicateurs+de+lagrange"
   ]
  }
 ],
 "metadata": {
  "kernelspec": {
   "display_name": "Python [default]",
   "language": "python",
   "name": "python3"
  },
  "language_info": {
   "codemirror_mode": {
    "name": "ipython",
    "version": 3
   },
   "file_extension": ".py",
   "mimetype": "text/x-python",
   "name": "python",
   "nbconvert_exporter": "python",
   "pygments_lexer": "ipython3",
   "version": "3.5.3"
  }
 },
 "nbformat": 4,
 "nbformat_minor": 2
}
