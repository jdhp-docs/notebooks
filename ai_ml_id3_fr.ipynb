{
 "cells": [
  {
   "cell_type": "markdown",
   "metadata": {
    "tags": [
     "meta",
     "draft"
    ]
   },
   "source": [
    "# L'apprentissage d'arbres de décision avec ID3"
   ]
  },
  {
   "cell_type": "markdown",
   "metadata": {
    "tags": [
     "hide"
    ]
   },
   "source": [
    "**TODO**:\n",
    "- faire un document séparé pour ID3, CART, C4.5, etc. ou mettre tout dans ce notebook ???"
   ]
  },
  {
   "cell_type": "code",
   "execution_count": null,
   "metadata": {
    "collapsed": true,
    "tags": [
     "hide"
    ]
   },
   "outputs": [],
   "source": [
    "import pandas as pd"
   ]
  },
  {
   "cell_type": "markdown",
   "metadata": {},
   "source": [
    "## Principales implémentations en Python"
   ]
  },
  {
   "cell_type": "markdown",
   "metadata": {
    "collapsed": true
   },
   "source": [
    "- http://scikit-learn.org/stable/modules/tree.html\n",
    "- ..."
   ]
  },
  {
   "cell_type": "markdown",
   "metadata": {},
   "source": [
    "## Les arbres de décision"
   ]
  },
  {
   "cell_type": "markdown",
   "metadata": {
    "tags": [
     "hide"
    ]
   },
   "source": [
    "**TODO**:\n",
    "- mettre un exemple: illustration générée à partir d'une bibliothèque dédiée\n",
    "- expliquer la signification des noeuds, des entrées, des sorties, etc.\n",
    "\n",
    "\n",
    "- Les noeuds des arbres de décisions sont appelés des **attributs**.\n",
    "- Ils ont un ensemble **fini** de *valeurs* possibles.\n",
    "- Les feuilles de l'arbre sont les **classes**."
   ]
  },
  {
   "cell_type": "markdown",
   "metadata": {},
   "source": [
    "## Générer un arbre de décisions à partir d'une base d'exemples"
   ]
  },
  {
   "cell_type": "markdown",
   "metadata": {},
   "source": [
    "On cherche à générer (apprendre) un arbre de décision à partir de la base d'exemples suivante:"
   ]
  },
  {
   "cell_type": "markdown",
   "metadata": {},
   "source": [
    "(Tiré de Quinlan 1983)"
   ]
  },
  {
   "cell_type": "code",
   "execution_count": null,
   "metadata": {
    "collapsed": true,
    "scrolled": false,
    "tags": [
     "hide_code"
    ]
   },
   "outputs": [],
   "source": [
    "data_list = [['soleil', 'chaud', 'haute', 'faux', 'NePasJouer'],\n",
    "             ['soleil', 'chaud', 'haute', 'vrai', 'NePasJouer'],\n",
    "             ['couvert', 'chaud', 'haute', 'faux', 'Jouer'],\n",
    "             ['pluie', 'bon', 'haute', 'faux', 'Jouer'],\n",
    "             ['pluie', 'frais', 'normale', 'faux', 'Jouer'],\n",
    "             ['pluie', 'frais', 'normale', 'vrai', 'NePasJouer'],\n",
    "             ['couvert', 'frais', 'normale', 'vrai', 'Jouer'],\n",
    "             ['soleil', 'bon', 'haute', 'faux', 'NePasJouer'],\n",
    "             ['soleil', 'frais', 'normale', 'faux', 'Jouer'],\n",
    "             ['pluie', 'bon', 'normale', 'faux', 'Jouer'],\n",
    "             ['soleil', 'bon', 'normale', 'vrai', 'Jouer'],\n",
    "             ['couvert', 'bon', 'haute', 'vrai', 'Jouer'],\n",
    "             ['couvert', 'chaud', 'normale', 'faux', 'Jouer'],\n",
    "             ['pluie', 'bon', 'haute', 'vrai', 'NePasJouer']]\n",
    "\n",
    "columns_list = ['ciel', 'temperature', 'humidite', 'vent', 'golf']\n",
    "\n",
    "df = pd.DataFrame(data_list, columns=columns_list)\n",
    "df"
   ]
  },
  {
   "cell_type": "markdown",
   "metadata": {},
   "source": [
    "### L'algorithme ID3"
   ]
  },
  {
   "cell_type": "markdown",
   "metadata": {},
   "source": [
    "Quinlan, 1979"
   ]
  },
  {
   "cell_type": "markdown",
   "metadata": {
    "tags": [
     "hide"
    ]
   },
   "source": [
    "**TODO...**"
   ]
  },
  {
   "cell_type": "markdown",
   "metadata": {},
   "source": [
    "On construit automatiquement un arbre à partir d'une base d'exemples.\n",
    "\n",
    "1. Construction de l'arbre: algorithme récursif\n",
    "    - ..., ..., critère d'arret, ...\n",
    "2. Choix des attributs\n",
    "    - on pourrait se contenter de choisir les attributs au hasard pour chaque noeud de l'arbre dans l'algorithme précédent\n",
    "3. d'accord mais si on veut construire l'arbre le plus simple possible\n",
    "    - (une des bonnes raisons de vouloir faire un arbre simple: un arbre simple a plus de chance d'être bon en généralisation qu'un arbre inutilement compliqué)\n",
    "    - d'abord qu'est-ce qu'un arbre simple ?\n",
    "    - un critère possible (arbitraire): un arbre simple est un arbre qui minimise le nombre de questions en moyenne (ie qui minimise le nombre de noeuds traversé en moyenne pour définir la classe d'un exemple)\n",
    "3. ok mais comment on fait ?\n",
    "    - une première approche très naive pourrait consister à générer tous les arbres possible suivant l'algorithme 1., compter (ou calculer avec des probas) le nombre moyen de question sur la base des exemples et retenir l'arbre qui minimise ce nombre moyen de question\n",
    "    - problème: c'est pas très rusé et ça peut être très long si il y a beaucoup d'attributs et/ou d'exemples\n",
    "4. ok mais on peut faire mieux que ça non ?\n",
    "    - **Entropie = mesure du désordre dans une collection d'objets**\n",
    "    - Si tous les objets appartiennent à la même classe, pas de désordre (entropie nuelle)\n",
    "    - On choisi l'attribut qui minimise le désordre de la partition résultante\n",
    "5. ok mais comment on mesure l'entropie d'un ensemble d'exemples ? ...\n",
    "    - Shannon a proposé une mesure de l'entropie ...\n",
    "\n",
    "Pourquoi? ...\n",
    "\n",
    "slide 18:\n",
    "\n",
    "**Meilleur ensemble de questions** (code de Huffman)\n",
    "\n",
    "**Nombre moyen de questions**:\n",
    "\n",
    "$$\n",
    "P(rouge) \\times 1 +\n",
    "P(bleu) \\times 2 +\n",
    "P(vert) \\times 3 +\n",
    "P(marron) \\times 3\n",
    "=\n",
    "\\frac12 \\times 1 +\n",
    "\\frac14 \\times 2 +\n",
    "\\frac18 \\times 3 +\n",
    "\\frac18 \\times 3\n",
    "=\n",
    "1.75\n",
    "$$\n",
    "\n",
    "Ok, c'est intuitif si on regarde l'arbre des tirages possibles dans le slide d'avant.\n",
    "\n",
    "Les couleurs représentent les classes de notre problème.\n",
    "\n",
    "**Entropie**:\n",
    "\n",
    "$$\n",
    "Entropie d'un ensemble d'exemples = - \\sum_{i \\in \\Omega} p_i \\log_2 (p_i)\n",
    "$$\n",
    "\n",
    "Avec $\\Omega$ l'ensemble des classes du problème.\n",
    "\n",
    "- $b$ bits permettent de coder $i = 2^b$ informations.\n",
    "- $b = \\log_2(i)$ bits permettent de coder $i$ informations."
   ]
  },
  {
   "cell_type": "markdown",
   "metadata": {},
   "source": [
    "## Une implémentation en Python"
   ]
  },
  {
   "cell_type": "markdown",
   "metadata": {},
   "source": [
    "### Algorithme"
   ]
  },
  {
   "cell_type": "code",
   "execution_count": null,
   "metadata": {
    "collapsed": true
   },
   "outputs": [],
   "source": [
    "# TODO"
   ]
  },
  {
   "cell_type": "markdown",
   "metadata": {},
   "source": [
    "### Exemple 1"
   ]
  },
  {
   "cell_type": "markdown",
   "metadata": {},
   "source": [
    "Tiré de \"exemple1.txt\" de JG Ganascia"
   ]
  },
  {
   "cell_type": "markdown",
   "metadata": {},
   "source": [
    "(Tiré de Quinlan 1983)"
   ]
  },
  {
   "cell_type": "code",
   "execution_count": null,
   "metadata": {
    "collapsed": true,
    "scrolled": false,
    "tags": [
     "hide_code"
    ]
   },
   "outputs": [],
   "source": [
    "data_list = [['soleil', 'chaud', 'haute', 'faux', 'NePasJouer'],\n",
    "             ['soleil', 'chaud', 'haute', 'vrai', 'NePasJouer'],\n",
    "             ['couvert', 'chaud', 'haute', 'faux', 'Jouer'],\n",
    "             ['pluie', 'bon', 'haute', 'faux', 'Jouer'],\n",
    "             ['pluie', 'frais', 'normale', 'faux', 'Jouer'],\n",
    "             ['pluie', 'frais', 'normale', 'vrai', 'NePasJouer'],\n",
    "             ['couvert', 'frais', 'normale', 'vrai', 'Jouer'],\n",
    "             ['soleil', 'bon', 'haute', 'faux', 'NePasJouer'],\n",
    "             ['soleil', 'frais', 'normale', 'faux', 'Jouer'],\n",
    "             ['pluie', 'bon', 'normale', 'faux', 'Jouer'],\n",
    "             ['soleil', 'bon', 'normale', 'vrai', 'Jouer'],\n",
    "             ['couvert', 'bon', 'haute', 'vrai', 'Jouer'],\n",
    "             ['couvert', 'chaud', 'normale', 'faux', 'Jouer'],\n",
    "             ['pluie', 'bon', 'haute', 'vrai', 'NePasJouer']]\n",
    "\n",
    "columns_list = ['ciel', 'temperature', 'humidite', 'vent', 'golf']\n",
    "\n",
    "df = pd.DataFrame(data_list, columns=columns_list)\n",
    "df"
   ]
  },
  {
   "cell_type": "markdown",
   "metadata": {},
   "source": [
    "### Exemple 2"
   ]
  },
  {
   "cell_type": "markdown",
   "metadata": {},
   "source": [
    "Tiré de \"exemple2.txt\" de JG Ganascia.\n",
    "\n",
    "La seule différence avec l'exemple 1: première colonne de la ligne 6 (du dataframe)."
   ]
  },
  {
   "cell_type": "markdown",
   "metadata": {},
   "source": [
    "(Tiré de Quinlan 1983)"
   ]
  },
  {
   "cell_type": "code",
   "execution_count": null,
   "metadata": {
    "collapsed": true,
    "scrolled": false,
    "tags": [
     "hide_code"
    ]
   },
   "outputs": [],
   "source": [
    "data_list = [['soleil', 'chaud', 'haute', 'faux', 'NePasJouer'],\n",
    "             ['soleil', 'chaud', 'haute', 'vrai', 'NePasJouer'],\n",
    "             ['couvert', 'chaud', 'haute', 'faux', 'Jouer'],\n",
    "             ['pluie', 'bon', 'haute', 'faux', 'Jouer'],\n",
    "             ['pluie', 'frais', 'normale', 'faux', 'Jouer'],\n",
    "             ['pluie', 'frais', 'normale', 'vrai', 'NePasJouer'],\n",
    "             ['pluie', 'frais', 'normale', 'vrai', 'Jouer'],\n",
    "             ['soleil', 'bon', 'haute', 'faux', 'NePasJouer'],\n",
    "             ['soleil', 'frais', 'normale', 'faux', 'Jouer'],\n",
    "             ['pluie', 'bon', 'normale', 'faux', 'Jouer'],\n",
    "             ['soleil', 'bon', 'normale', 'vrai', 'Jouer'],\n",
    "             ['couvert', 'bon', 'haute', 'vrai', 'Jouer'],\n",
    "             ['couvert', 'chaud', 'normale', 'faux', 'Jouer'],\n",
    "             ['pluie', 'bon', 'haute', 'vrai', 'NePasJouer']]\n",
    "\n",
    "columns_list = ['ciel', 'temperature', 'humidite', 'vent', 'golf']\n",
    "\n",
    "df = pd.DataFrame(data_list, columns=columns_list)\n",
    "df"
   ]
  },
  {
   "cell_type": "markdown",
   "metadata": {},
   "source": [
    "### Exemple 3"
   ]
  },
  {
   "cell_type": "markdown",
   "metadata": {},
   "source": [
    "Tiré de \"lentilles.txt\" de JG Ganascia"
   ]
  },
  {
   "cell_type": "markdown",
   "metadata": {
    "tags": [
     "hide"
    ]
   },
   "source": [
    "**TODO**: traduire la base suivante en Français..."
   ]
  },
  {
   "cell_type": "code",
   "execution_count": null,
   "metadata": {
    "collapsed": true,
    "scrolled": false,
    "tags": [
     "hide_code"
    ]
   },
   "outputs": [],
   "source": [
    "data_list = [['young', 'myope', 'no', 'reduced', 'none'],\n",
    "             ['young', 'myope', 'no', 'normal', 'soft'],\n",
    "             ['young', 'myope', 'yes', 'reduced', 'none'],\n",
    "             ['young', 'myope', 'yes', 'normal', 'hard'],\n",
    "             ['young', 'hypermetrope', 'no', 'reduced', 'none'],\n",
    "             ['young', 'hypermetrope', 'no', 'normal', 'soft'],\n",
    "             ['young', 'hypermetrope', 'yes', 'reduced', 'none'],\n",
    "             ['young', 'hypermetrope', 'yes', 'normal', 'hard'],\n",
    "             ['pre-presbyopic', 'myope', 'no', 'reduced', 'none'],\n",
    "             ['pre-presbyopic', 'myope', 'no', 'normal', 'soft'],\n",
    "             ['pre-presbyopic', 'myope', 'yes', 'reduced', 'none'],\n",
    "             ['pre-presbyopic', 'myope', 'yes', 'normal', 'hard'],\n",
    "             ['pre-presbyopic', 'hypermetrope', 'no', 'reduced', 'none'],\n",
    "             ['pre-presbyopic', 'hypermetrope', 'no', 'normal', 'soft'],\n",
    "             ['pre-presbyopic', 'hypermetrope', 'yes', 'reduced', 'none'],\n",
    "             ['pre-presbyopic', 'hypermetrope', 'yes', 'normal', 'none'],\n",
    "             ['presbyopic', 'myope', 'no', 'reduced', 'none'],\n",
    "             ['presbyopic', 'myope', 'no', 'normal', 'none'],\n",
    "             ['presbyopic', 'myope', 'yes', 'reduced', 'none'],\n",
    "             ['presbyopic', 'myope', 'yes', 'normal', 'hard'],\n",
    "             ['presbyopic', 'hypermetrope', 'no', 'reduced', 'none'],\n",
    "             ['presbyopic', 'hypermetrope', 'no', 'normal', 'soft'],\n",
    "             ['presbyopic', 'hypermetrope', 'yes', 'reduced', 'none'],\n",
    "             ['presbyopic', 'hypermetrope', 'yes', 'normal', 'none']]\n",
    "\n",
    "columns_list = ['age', 'prescription', 'astigmatic', 'tear_rate', 'lenses']\n",
    "\n",
    "df = pd.DataFrame(data_list, columns=columns_list)\n",
    "df"
   ]
  }
 ],
 "metadata": {
  "anaconda-cloud": {},
  "celltoolbar": "Tags",
  "kernelspec": {
   "display_name": "Python [default]",
   "language": "python",
   "name": "python3"
  },
  "language_info": {
   "codemirror_mode": {
    "name": "ipython",
    "version": 3
   },
   "file_extension": ".py",
   "mimetype": "text/x-python",
   "name": "python",
   "nbconvert_exporter": "python",
   "pygments_lexer": "ipython3",
   "version": "3.5.3"
  }
 },
 "nbformat": 4,
 "nbformat_minor": 1
}
