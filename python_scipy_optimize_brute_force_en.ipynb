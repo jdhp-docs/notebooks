{
 "cells": [
  {
   "cell_type": "markdown",
   "metadata": {
    "tags": [
     "meta",
     "toc_en",
     "draft_en"
    ]
   },
   "source": [
    "# \"Brute force\" optimization with Scipy"
   ]
  },
  {
   "cell_type": "markdown",
   "metadata": {},
   "source": [
    "Official documentation:\n",
    "- https://docs.scipy.org/doc/scipy/reference/tutorial/optimize.html\n",
    "- https://docs.scipy.org/doc/scipy/reference/optimize.html"
   ]
  },
  {
   "cell_type": "markdown",
   "metadata": {},
   "source": [
    "## Import required modules"
   ]
  },
  {
   "cell_type": "code",
   "execution_count": null,
   "metadata": {
    "tags": [
     "hide"
    ]
   },
   "outputs": [],
   "source": [
    "%matplotlib inline\n",
    "\n",
    "import matplotlib\n",
    "matplotlib.rcParams['figure.figsize'] = (8, 8)"
   ]
  },
  {
   "cell_type": "code",
   "execution_count": null,
   "metadata": {
    "tags": [
     "hide"
    ]
   },
   "outputs": [],
   "source": [
    "# Setup PyAI\n",
    "import sys\n",
    "sys.path.insert(0, '/Users/jdecock/git/pub/jdhp/pyai')"
   ]
  },
  {
   "cell_type": "code",
   "execution_count": null,
   "metadata": {},
   "outputs": [],
   "source": [
    "import numpy as np\n",
    "from scipy import optimize"
   ]
  },
  {
   "cell_type": "code",
   "execution_count": null,
   "metadata": {},
   "outputs": [],
   "source": [
    "# Plot functions\n",
    "from pyai.optimize.utils import plot_contour_2d_solution_space\n",
    "from pyai.optimize.utils import plot_2d_solution_space"
   ]
  },
  {
   "cell_type": "markdown",
   "metadata": {},
   "source": [
    "## Define the objective function"
   ]
  },
  {
   "cell_type": "code",
   "execution_count": null,
   "metadata": {},
   "outputs": [],
   "source": [
    "# Set the objective function\n",
    "from pyai.optimize.functions import sphere1d\n",
    "from pyai.optimize.functions import sphere2d"
   ]
  },
  {
   "cell_type": "markdown",
   "metadata": {},
   "source": [
    "## Minimize using the \"Brute force\" algorithm"
   ]
  },
  {
   "cell_type": "markdown",
   "metadata": {},
   "source": [
    "Uses the \"brute force\" method, i.e. computes the function's value at each point of a multidimensional grid of points, to find the global minimum of the function.\n",
    "\n",
    "See https://docs.scipy.org/doc/scipy/reference/generated/scipy.optimize.brute.html#scipy.optimize.brute"
   ]
  },
  {
   "cell_type": "markdown",
   "metadata": {},
   "source": [
    "### First example: the 1D sphere function"
   ]
  },
  {
   "cell_type": "code",
   "execution_count": null,
   "metadata": {},
   "outputs": [],
   "source": [
    "%%time\n",
    "\n",
    "search_ranges = (slice(-3., 3.5, 0.5),)\n",
    "\n",
    "res = optimize.brute(sphere1d,\n",
    "                     search_ranges,\n",
    "                     #args=params,\n",
    "                     full_output=True,\n",
    "                     finish=None)     # optimize.fmin)\n",
    "\n",
    "print(\"x* =\", res[0])\n",
    "print(\"f(x*) =\", res[1])"
   ]
  },
  {
   "cell_type": "code",
   "execution_count": null,
   "metadata": {
    "tags": [
     "hide"
    ]
   },
   "outputs": [],
   "source": [
    "print(res[2].shape)\n",
    "print(\"tested x:\", res[2])\n",
    "print(res[3].shape)\n",
    "print(\"tested f(x):\", res[3])"
   ]
  },
  {
   "cell_type": "code",
   "execution_count": null,
   "metadata": {
    "tags": [
     "hide_code"
    ]
   },
   "outputs": [],
   "source": [
    "x_star = res[0]\n",
    "y_star = res[1]\n",
    "\n",
    "x = res[2]\n",
    "y = res[3]\n",
    "\n",
    "fig, ax = plt.subplots()\n",
    "\n",
    "ax.set_title('Objective function')\n",
    "\n",
    "ax.plot(x, y, 'k-', alpha=0.25, label=\"f\")\n",
    "ax.plot(x, y, 'g.', label=\"tested points\")\n",
    "ax.plot(x_star, y_star, 'ro', label=\"$x^*$\")\n",
    "\n",
    "ax.legend(fontsize=12);"
   ]
  },
  {
   "cell_type": "markdown",
   "metadata": {},
   "source": [
    "### Second example: the 2D sphere function"
   ]
  },
  {
   "cell_type": "code",
   "execution_count": null,
   "metadata": {},
   "outputs": [],
   "source": [
    "%%time\n",
    "\n",
    "search_ranges = (slice(-2., 2.5, 0.5), slice(-2., 2.5, 0.5))\n",
    "\n",
    "res = optimize.brute(sphere2d,\n",
    "                     search_ranges,\n",
    "                     #args=params,\n",
    "                     full_output=True,\n",
    "                     finish=None)     # optimize.fmin)\n",
    "\n",
    "print(\"x* =\", res[0])\n",
    "print(\"f(x*) =\", res[1])"
   ]
  },
  {
   "cell_type": "code",
   "execution_count": null,
   "metadata": {
    "tags": [
     "hide"
    ]
   },
   "outputs": [],
   "source": [
    "print(res[2].shape)\n",
    "print(\"tested x:\", res[2])\n",
    "print()\n",
    "print(res[3].shape)\n",
    "print(\"tested f(x):\", res[3])"
   ]
  },
  {
   "cell_type": "code",
   "execution_count": null,
   "metadata": {},
   "outputs": [],
   "source": [
    "# Setup data #########################\n",
    "\n",
    "# Using the following 3 lines, pcolormesh won't display the last row and the last collumn...\n",
    "\n",
    "#xx = res[2][0]\n",
    "#yy = res[2][1]\n",
    "#zz = res[3]\n",
    "\n",
    "# Workaround to avoid pcolormesh ignoring the last row and last collumn...\n",
    "\n",
    "x = res[2][0][:,0]\n",
    "y = res[2][1][0,:]\n",
    "\n",
    "x = np.append(x, x[-1] + x[-1] - x[-2])\n",
    "y = np.append(y, y[-1] + y[-1] - y[-2])\n",
    "\n",
    "# Make the meshgrid\n",
    "\n",
    "xx, yy = np.meshgrid(x, y)   \n",
    "\n",
    "# \"Ideally the dimensions of X and Y should be one greater than those of C;\n",
    "# if the dimensions are the same, then the last row and column of C will be ignored.\"\n",
    "# https://stackoverflow.com/questions/44526052/can-someone-explain-this-matplotlib-pcolormesh-quirk\n",
    "zz = res[3]\n",
    "\n",
    "# Plot the image #####################\n",
    "\n",
    "fig, ax = plt.subplots()\n",
    "\n",
    "ax.set_title('Objective function')\n",
    "\n",
    "# Shift to center pixels to data (workaround...)\n",
    "# (https://stackoverflow.com/questions/43128106/pcolormesh-ticks-center-for-each-data-point-tile)\n",
    "\n",
    "xx -= (x[-1] - x[-2])/2.\n",
    "yy -= (y[-1] - y[-2])/2.\n",
    "\n",
    "#im = ax.imshow(z, interpolation='bilinear', origin='lower')\n",
    "im = ax.pcolormesh(xx, yy, zz, cmap='gnuplot2_r')\n",
    "plt.colorbar(im)              # draw the colorbar\n",
    "\n",
    "# Plot contours ######################\n",
    "\n",
    "max_value = np.nanmax(zz)\n",
    "levels = np.array([0.1*max_value, 0.3*max_value, 0.6*max_value])\n",
    "\n",
    "# Shift back pixels for contours (workaround...)\n",
    "# (https://stackoverflow.com/questions/43128106/pcolormesh-ticks-center-for-each-data-point-tile)\n",
    "\n",
    "xx += (x[-1] - x[-2])/2.\n",
    "yy += (y[-1] - y[-2])/2.\n",
    "\n",
    "cs = plt.contour(xx[:-1,:-1], yy[:-1,:-1], zz, levels,\n",
    "                 linewidths=(2, 2, 3), linestyles=('dotted', 'dashed', 'solid'),\n",
    "                 alpha=0.5, colors='blue')\n",
    "ax.clabel(cs, inline=False, fontsize=12)\n",
    "\n",
    "# Plot x* ############################\n",
    "\n",
    "ax.scatter(*res[0], c='red', label=\"$x^*$\")\n",
    "\n",
    "ax.legend(fontsize=12);"
   ]
  }
 ],
 "metadata": {
  "anaconda-cloud": {},
  "celltoolbar": "Tags",
  "kernelspec": {
   "display_name": "Python [default]",
   "language": "python",
   "name": "python3"
  },
  "language_info": {
   "codemirror_mode": {
    "name": "ipython",
    "version": 3
   },
   "file_extension": ".py",
   "mimetype": "text/x-python",
   "name": "python",
   "nbconvert_exporter": "python",
   "pygments_lexer": "ipython3",
   "version": "3.5.3"
  }
 },
 "nbformat": 4,
 "nbformat_minor": 1
}
