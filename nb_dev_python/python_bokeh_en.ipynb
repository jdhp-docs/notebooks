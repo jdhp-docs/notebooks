{
 "cells": [
  {
   "cell_type": "markdown",
   "metadata": {
    "tags": [
     "meta"
    ]
   },
   "source": [
    "# Bokeh"
   ]
  },
  {
   "cell_type": "markdown",
   "metadata": {},
   "source": [
    "<a href=\"https://colab.research.google.com/github/jdhp-docs/notebooks/blob/master/python_bokeh_en.ipynb\"><img align=\"left\" src=\"https://colab.research.google.com/assets/colab-badge.svg\" alt=\"Open in Colab\" title=\"Open and Execute in Google Colaboratory\"></a>"
   ]
  },
  {
   "cell_type": "markdown",
   "metadata": {},
   "source": [
    "<a href=\"https://mybinder.org/v2/gh/jdhp-docs/notebooks/master?filepath=python_bokeh_en.ipynb\"><img align=\"left\" src=\"https://mybinder.org/badge.svg\" alt=\"Open in Binder\" title=\"Open and Execute in Binder\"></a>"
   ]
  },
  {
   "cell_type": "code",
   "execution_count": null,
   "metadata": {},
   "outputs": [],
   "source": [
    "import bokeh\n",
    "from bokeh.plotting import figure, output_notebook, show"
   ]
  },
  {
   "cell_type": "markdown",
   "metadata": {},
   "source": [
    "## Plot lines"
   ]
  },
  {
   "cell_type": "markdown",
   "metadata": {},
   "source": [
    "Source:\n",
    "- https://bokeh.pydata.org/en/latest/docs/user_guide/quickstart.html#getting-started\n",
    "- https://bokeh.pydata.org/en/latest/docs/user_guide/notebook.html"
   ]
  },
  {
   "cell_type": "code",
   "execution_count": null,
   "metadata": {},
   "outputs": [],
   "source": [
    "# prepare some data\n",
    "x = [1, 2, 3, 4, 5]\n",
    "y = [6, 7, 2, 4, 5]\n",
    "\n",
    "output_notebook()\n",
    "\n",
    "# create a new plot with a title and axis labels\n",
    "p = figure(title=\"simple line example\",\n",
    "           x_axis_label='x',\n",
    "           y_axis_label='y')\n",
    "\n",
    "# add a line renderer with legend and line thickness\n",
    "p.line(x, y, legend=\"Temp.\", line_width=2)\n",
    "\n",
    "# show the results\n",
    "show(p)"
   ]
  },
  {
   "cell_type": "markdown",
   "metadata": {},
   "source": [
    "## Scatter plot"
   ]
  },
  {
   "cell_type": "markdown",
   "metadata": {},
   "source": [
    "Source:\n",
    "- https://bokeh.pydata.org/en/latest/docs/user_guide/plotting.html#scatter-markers"
   ]
  },
  {
   "cell_type": "markdown",
   "metadata": {},
   "source": [
    "### Circles"
   ]
  },
  {
   "cell_type": "code",
   "execution_count": null,
   "metadata": {},
   "outputs": [],
   "source": [
    "output_notebook()\n",
    "\n",
    "p = figure(plot_width=400, plot_height=400)\n",
    "\n",
    "# add a circle renderer with a size, color, and alpha\n",
    "p.circle([1, 2, 3, 4, 5],\n",
    "         [6, 7, 2, 4, 5],\n",
    "         size=20,\n",
    "         color=\"navy\",\n",
    "         alpha=0.5)\n",
    "\n",
    "# show the results\n",
    "show(p)"
   ]
  },
  {
   "cell_type": "markdown",
   "metadata": {},
   "source": [
    "### Squares"
   ]
  },
  {
   "cell_type": "code",
   "execution_count": null,
   "metadata": {},
   "outputs": [],
   "source": [
    "output_notebook()\n",
    "\n",
    "p = figure(plot_width=400, plot_height=400)\n",
    "\n",
    "# add a square renderer with a size, color, and alpha\n",
    "p.square([1, 2, 3, 4, 5],\n",
    "         [6, 7, 2, 4, 5],\n",
    "         size=20,\n",
    "         color=\"olive\",\n",
    "         alpha=0.5)\n",
    "\n",
    "# show the results\n",
    "show(p)"
   ]
  },
  {
   "cell_type": "markdown",
   "metadata": {},
   "source": [
    "## Hex Tiles"
   ]
  },
  {
   "cell_type": "markdown",
   "metadata": {},
   "source": [
    "Bokeh can plot hexagonal tiles, which are often used for showing binned aggregations. The hex_tile() method takes a size parameter to define the size of the hex grid, and [axial coordinates](https://www.redblobgames.com/grids/hexagons/#coordinates-axial) to specify which tiles are present."
   ]
  },
  {
   "cell_type": "code",
   "execution_count": null,
   "metadata": {},
   "outputs": [],
   "source": [
    "import numpy as np\n",
    "\n",
    "from bokeh.io import output_notebook, show\n",
    "from bokeh.plotting import figure\n",
    "from bokeh.util.hex import axial_to_cartesian\n",
    "\n",
    "output_notebook()\n",
    "\n",
    "q = np.array([0,  0, 0, -1, -1,  1, 1])\n",
    "r = np.array([0, -1, 1,  0,  1, -1, 0])\n",
    "\n",
    "p = figure(plot_width=400, plot_height=400, toolbar_location=None)\n",
    "p.grid.visible = False\n",
    "\n",
    "p.hex_tile(q, r, size=1, fill_color=[\"firebrick\"]*3 + [\"olive\"]*2 + [\"navy\"]*2,\n",
    "           line_color=\"white\", alpha=0.5)\n",
    "\n",
    "x, y = axial_to_cartesian(q, r, 1, \"pointytop\")\n",
    "\n",
    "p.text(x, y, text=[\"(%d, %d)\" % (q,r) for (q, r) in zip(q, r)],\n",
    "       text_baseline=\"middle\", text_align=\"center\")\n",
    "\n",
    "show(p)"
   ]
  },
  {
   "cell_type": "markdown",
   "metadata": {},
   "source": [
    "## Palettes and color mappers"
   ]
  },
  {
   "cell_type": "markdown",
   "metadata": {},
   "source": [
    "### Palettes"
   ]
  },
  {
   "cell_type": "markdown",
   "metadata": {},
   "source": [
    "See https://bokeh.pydata.org/en/latest/docs/reference/palettes.html"
   ]
  },
  {
   "cell_type": "code",
   "execution_count": null,
   "metadata": {},
   "outputs": [],
   "source": [
    "bokeh.palettes.Category10_3"
   ]
  },
  {
   "cell_type": "code",
   "execution_count": null,
   "metadata": {},
   "outputs": [],
   "source": [
    "bokeh.palettes.Category10_4"
   ]
  },
  {
   "cell_type": "code",
   "execution_count": null,
   "metadata": {},
   "outputs": [],
   "source": [
    "bokeh.palettes.viridis(10)"
   ]
  },
  {
   "cell_type": "code",
   "execution_count": null,
   "metadata": {},
   "outputs": [],
   "source": [
    "bokeh.palettes.Viridis256"
   ]
  },
  {
   "cell_type": "markdown",
   "metadata": {},
   "source": [
    "### Color Mappers"
   ]
  },
  {
   "cell_type": "markdown",
   "metadata": {},
   "source": [
    "See:\n",
    "- https://bokeh.pydata.org/en/latest/docs/reference/models/mappers.html#bokeh.models.mappers.ColorMapper\n",
    "- https://stackoverflow.com/questions/47651752/bokeh-scatterplot-with-gradient-colors\n",
    "- https://stackoverflow.com/questions/49833824/interactive-scatter-plot-in-bokeh-with-hover-tool"
   ]
  },
  {
   "cell_type": "code",
   "execution_count": null,
   "metadata": {},
   "outputs": [],
   "source": [
    "output_notebook()\n",
    "\n",
    "p = figure(plot_width=400, plot_height=400)\n",
    "\n",
    "x = np.array([1, 2, 3, 4, 5])\n",
    "y = np.array([6, 7, 2, 4, 5])\n",
    "\n",
    "color_mapper = bokeh.models.mappers.LinearColorMapper(palette=bokeh.palettes.Viridis256,\n",
    "                                                      low=y.min(),\n",
    "                                                      high=y.max())\n",
    "\n",
    "# add a circle renderer with a size, color, and alpha\n",
    "p.circle(x,\n",
    "         y,\n",
    "         size=20,\n",
    "         color=\"navy\",\n",
    "         fill_color=bokeh.transform.transform('y', color_mapper),\n",
    "         alpha=0.5)\n",
    "\n",
    "# show the results\n",
    "show(p)"
   ]
  },
  {
   "cell_type": "markdown",
   "metadata": {},
   "source": [
    "## Export to PNG or SVG"
   ]
  },
  {
   "cell_type": "markdown",
   "metadata": {},
   "source": [
    "See: https://bokeh.pydata.org/en/latest/docs/user_guide/export.html"
   ]
  },
  {
   "cell_type": "markdown",
   "metadata": {},
   "source": [
    "## Tooltips"
   ]
  },
  {
   "cell_type": "markdown",
   "metadata": {},
   "source": [
    "Source: https://gist.github.com/dela3499/e159b388258b5f1a7a3bac42fc0179fd"
   ]
  },
  {
   "cell_type": "code",
   "execution_count": null,
   "metadata": {},
   "outputs": [],
   "source": [
    "from bokeh.plotting import figure, output_file, show, ColumnDataSource\n",
    "from bokeh.models import HoverTool\n",
    "from bokeh.io import output_notebook\n",
    "\n",
    "output_notebook()\n",
    "\n",
    "source = ColumnDataSource(\n",
    "             data=dict(\n",
    "                 x=[1, 2, 3, 4, 5],\n",
    "                 y=[2, 5, 8, 2, 7],\n",
    "                 desc=['A', 'b', 'C', 'd', 'E'],\n",
    "             )\n",
    "         )\n",
    "\n",
    "hover = HoverTool(\n",
    "            tooltips=[\n",
    "                (\"index\", \"$index\"),\n",
    "                (\"(x,y)\", \"($x, $y)\"),\n",
    "                (\"desc\", \"@desc\"),\n",
    "            ]\n",
    "        )\n",
    "\n",
    "fig = figure(plot_width=300, plot_height=300, #tools=[hover],\n",
    "             title=\"Mouse over the dots\")\n",
    "fig.add_tools(hover)\n",
    "\n",
    "fig.circle('x', 'y', size=10, source=source)\n",
    "\n",
    "show(fig)"
   ]
  },
  {
   "cell_type": "markdown",
   "metadata": {},
   "source": [
    "## Update"
   ]
  },
  {
   "cell_type": "markdown",
   "metadata": {},
   "source": [
    "Source:\n",
    "- https://bokeh.pydata.org/en/latest/docs/user_guide/notebook.html#notebook-handles"
   ]
  },
  {
   "cell_type": "code",
   "execution_count": null,
   "metadata": {},
   "outputs": [],
   "source": [
    "from bokeh.io import push_notebook, output_notebook, show\n",
    "from bokeh.plotting import figure"
   ]
  },
  {
   "cell_type": "code",
   "execution_count": null,
   "metadata": {},
   "outputs": [],
   "source": [
    "output_notebook()\n",
    "\n",
    "p = figure(plot_width=400, plot_height=400)\n",
    "\n",
    "# add a square renderer with a size, color, and alpha\n",
    "s = p.square([1, 2, 3, 4, 5],\n",
    "             [6, 7, 2, 4, 5],\n",
    "             size=20,\n",
    "             color=\"olive\",\n",
    "             alpha=0.5)\n",
    "\n",
    "# show the results\n",
    "h = show(p, notebook_handle=True)"
   ]
  },
  {
   "cell_type": "code",
   "execution_count": null,
   "metadata": {},
   "outputs": [],
   "source": [
    "h"
   ]
  },
  {
   "cell_type": "code",
   "execution_count": null,
   "metadata": {},
   "outputs": [],
   "source": [
    "s.glyph.fill_color = \"navy\"\n",
    "push_notebook(handle=h)"
   ]
  },
  {
   "cell_type": "markdown",
   "metadata": {},
   "source": [
    "## Animation"
   ]
  },
  {
   "cell_type": "markdown",
   "metadata": {},
   "source": [
    "Source:\n",
    "- https://bokeh.pydata.org/en/latest/docs/user_guide/notebook.html#notebook-handles"
   ]
  },
  {
   "cell_type": "code",
   "execution_count": null,
   "metadata": {},
   "outputs": [],
   "source": [
    "from bokeh.io import push_notebook, output_notebook, show\n",
    "from bokeh.plotting import figure"
   ]
  },
  {
   "cell_type": "code",
   "execution_count": null,
   "metadata": {},
   "outputs": [],
   "source": [
    "import time"
   ]
  },
  {
   "cell_type": "code",
   "execution_count": null,
   "metadata": {},
   "outputs": [],
   "source": [
    "import numpy as np"
   ]
  },
  {
   "cell_type": "code",
   "execution_count": null,
   "metadata": {},
   "outputs": [],
   "source": [
    "# prepare some data\n",
    "x = np.linspace(-2. * np.pi, 2. * np.pi, 1000)\n",
    "y = np.sin(x)\n",
    "\n",
    "output_notebook()\n",
    "\n",
    "# create a new plot with a title and axis labels\n",
    "p = figure(title=\"ipywidgets test\",\n",
    "           x_axis_label='x',\n",
    "           y_axis_label='y')\n",
    "\n",
    "# add a line renderer with legend and line thickness\n",
    "l = p.line(x, y, legend=\"Sin(x)\", line_width=2)\n",
    "\n",
    "# show the results\n",
    "h = show(p, notebook_handle=True)                  # <-- !!!"
   ]
  },
  {
   "cell_type": "code",
   "execution_count": null,
   "metadata": {},
   "outputs": [],
   "source": [
    "for t in range(200):\n",
    "    l.data_source.data['y'] = np.sin(x - 0.1 * t)\n",
    "    push_notebook(handle=h)\n",
    "    time.sleep(0.01)"
   ]
  },
  {
   "cell_type": "markdown",
   "metadata": {},
   "source": [
    "## Interactive plots"
   ]
  },
  {
   "cell_type": "markdown",
   "metadata": {},
   "source": [
    "Source:\n",
    "- https://bokeh.pydata.org/en/latest/docs/user_guide/notebook.html#jupyter-interactors"
   ]
  },
  {
   "cell_type": "code",
   "execution_count": null,
   "metadata": {},
   "outputs": [],
   "source": [
    "from bokeh.io import push_notebook, output_notebook, show\n",
    "from bokeh.plotting import figure"
   ]
  },
  {
   "cell_type": "code",
   "execution_count": null,
   "metadata": {},
   "outputs": [],
   "source": [
    "import ipywidgets\n",
    "from ipywidgets import interact"
   ]
  },
  {
   "cell_type": "code",
   "execution_count": null,
   "metadata": {},
   "outputs": [],
   "source": [
    "import numpy as np"
   ]
  },
  {
   "cell_type": "code",
   "execution_count": null,
   "metadata": {},
   "outputs": [],
   "source": [
    "# prepare some data\n",
    "x = np.linspace(-2. * np.pi, 2. * np.pi, 1000)\n",
    "y = np.sin(x)\n",
    "\n",
    "output_notebook()\n",
    "\n",
    "# create a new plot with a title and axis labels\n",
    "p = figure(title=\"ipywidgets test\",\n",
    "           x_axis_label='x',\n",
    "           y_axis_label='y')\n",
    "\n",
    "# add a line renderer with legend and line thickness\n",
    "l = p.line(x, y, legend=\"Sin(x)\", line_width=2)\n",
    "\n",
    "# show the results\n",
    "h = show(p, notebook_handle=True)"
   ]
  },
  {
   "cell_type": "code",
   "execution_count": null,
   "metadata": {},
   "outputs": [],
   "source": [
    "@interact(t=(0, 100, 1))\n",
    "def update_plot(t):\n",
    "    l.data_source.data['y'] = np.sin(x - 0.1 * t)\n",
    "    \n",
    "    push_notebook(handle=h)"
   ]
  }
 ],
 "metadata": {
  "anaconda-cloud": {},
  "celltoolbar": "Tags",
  "kernelspec": {
   "display_name": "Python 3",
   "language": "python",
   "name": "python3"
  },
  "language_info": {
   "codemirror_mode": {
    "name": "ipython",
    "version": 3
   },
   "file_extension": ".py",
   "mimetype": "text/x-python",
   "name": "python",
   "nbconvert_exporter": "python",
   "pygments_lexer": "ipython3",
   "version": "3.6.6"
  }
 },
 "nbformat": 4,
 "nbformat_minor": 2
}
