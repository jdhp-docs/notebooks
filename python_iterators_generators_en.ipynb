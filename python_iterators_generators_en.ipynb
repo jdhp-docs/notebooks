{
 "cells": [
  {
   "cell_type": "markdown",
   "metadata": {
    "tags": [
     "meta",
     "draft"
    ]
   },
   "source": [
    "# Python's iterators and generators"
   ]
  },
  {
   "cell_type": "markdown",
   "metadata": {
    "tags": [
     "hide"
    ]
   },
   "source": [
    "**TODO**\n",
    "* https://stackoverflow.com/questions/2776829/difference-between-pythons-generators-and-iterators\n",
    "* https://docs.python.org/3/glossary.html#term-generator\n",
    "* https://docs.python.org/3/glossary.html#term-generator-iterator\n",
    "* https://docs.python.org/3/reference/simple_stmts.html#yield\n",
    "* https://docs.python.org/3/library/stdtypes.html#iterator-types\n",
    "* https://docs.python.org/3/library/functions.html#next\n",
    "* https://docs.python.org/3/glossary.html#term-iterable\n",
    "* https://docs.python.org/3/glossary.html#term-iterator\n",
    "* https://docs.python.org/3/library/stdtypes.html#iterator.__next__\n",
    "* https://docs.python.org/3/library/functions.html#iter\n",
    "* https://docs.python.org/3/library/exceptions.html#StopIteration\n",
    "* https://docs.python.org/3/reference/datamodel.html#object.__iter__\n",
    "* https://docs.python.org/3/library/stdtypes.html#typeiter\n",
    "* https://wiki.python.org/moin/Generators\n",
    "* https://wiki.python.org/moin/Iterator"
   ]
  },
  {
   "cell_type": "code",
   "execution_count": null,
   "metadata": {
    "tags": [
     "hide"
    ]
   },
   "outputs": [],
   "source": [
    "# import python packages here..."
   ]
  },
  {
   "cell_type": "markdown",
   "metadata": {},
   "source": [
    "## Iterator"
   ]
  },
  {
   "cell_type": "markdown",
   "metadata": {},
   "source": [
    "TODO..."
   ]
  },
  {
   "cell_type": "code",
   "execution_count": null,
   "metadata": {},
   "outputs": [],
   "source": [
    "class Counter:\n",
    "    \n",
    "    def __init__(self, max_value):\n",
    "        self.current_value = 0\n",
    "        self.max_value = max_value\n",
    "    \n",
    "    def __iter__(self):\n",
    "        return self\n",
    "    \n",
    "    def __next__(self):\n",
    "        if self.current_value >= self.max_value:\n",
    "            raise StopIteration\n",
    "\n",
    "        self.current_value += 1\n",
    "        \n",
    "        return self.current_value\n",
    "\n",
    "###\n",
    " \n",
    "cpt = Counter(10)   # cpt is an iterator\n",
    "\n",
    "for i in cpt:\n",
    "    print(i)\n",
    "\n",
    "###\n",
    "\n",
    "cpt = Counter(10)   # cpt is an iterator\n",
    "print(next(cpt))\n",
    "print(next(cpt))\n",
    "\n",
    "###\n",
    "\n",
    "print([i for i in cpt])"
   ]
  },
  {
   "cell_type": "markdown",
   "metadata": {},
   "source": [
    "## Generator"
   ]
  },
  {
   "cell_type": "markdown",
   "metadata": {},
   "source": [
    "Goal: increase memory efficiency of some functions. See https://wiki.python.org/moin/Generators."
   ]
  },
  {
   "cell_type": "markdown",
   "metadata": {},
   "source": [
    "### Generator (or generator function)\n",
    "\n",
    "https://docs.python.org/3/glossary.html#term-generator\n",
    "\n",
    "A *function* which returns a *generator iterator*. It looks like a normal function except that it contains yield expressions for producing a series of values usable in a for-loop or that can be retrieved one at a time with the next() function.\n",
    "\n",
    "Usually refers to a *generator function*, but may refer to a *generator iterator* in some contexts. In cases where the intended meaning isn't clear, using the full terms avoids ambiguity."
   ]
  },
  {
   "cell_type": "code",
   "execution_count": null,
   "metadata": {},
   "outputs": [],
   "source": [
    "def counter(max_value):\n",
    "    current_value = 0\n",
    "    while current_value < max_value:\n",
    "        yield current_value    # temporarily suspends processing, returning i and remembering the location execution state (including local variables and pending try-statements)\n",
    "        current_value += 1"
   ]
  },
  {
   "cell_type": "code",
   "execution_count": null,
   "metadata": {},
   "outputs": [],
   "source": [
    "for elem in altrange(10):\n",
    "    print(elem)"
   ]
  },
  {
   "cell_type": "code",
   "execution_count": null,
   "metadata": {},
   "outputs": [],
   "source": [
    "    \n",
    "list(altrange(10))"
   ]
  },
  {
   "cell_type": "code",
   "execution_count": null,
   "metadata": {},
   "outputs": [],
   "source": [
    "def gen(nmax):    # \"gen\" is a \"generator\"\n",
    "    n = 0\n",
    "    while n<nmax:\n",
    "        yield n\n",
    "        n += 1\n",
    "\n",
    "gi = foo()        # \"gi\" is a \"generator iterator\"\n",
    "\n",
    "for n in gi;\n",
    "    print(n)"
   ]
  },
  {
   "cell_type": "markdown",
   "metadata": {},
   "source": [
    "### Generator iterator\n",
    "\n",
    "https://docs.python.org/3/glossary.html#term-generator-iterator\n",
    "\n",
    "An object created by a generator function.\n",
    "\n",
    "Each yield temporarily suspends processing, remembering the location execution state (including local variables and pending try-statements). When the generator iterator resumes, it picks-up where it left-off (in contrast to functions which start fresh on every invocation)."
   ]
  },
  {
   "cell_type": "code",
   "execution_count": null,
   "metadata": {},
   "outputs": [],
   "source": [
    "altrange(10)"
   ]
  },
  {
   "cell_type": "markdown",
   "metadata": {},
   "source": [
    "### Generator expression\n",
    "\n",
    "https://docs.python.org/3/glossary.html#term-generator-expression\n",
    "\n",
    "An expression that returns an iterator. It looks like a normal expression followed by a for expression defining a loop variable, range, and an optional if expression. The combined expression generates values for an enclosing function:"
   ]
  },
  {
   "cell_type": "code",
   "execution_count": null,
   "metadata": {},
   "outputs": [],
   "source": [
    "(i*i for i in range(10))"
   ]
  },
  {
   "cell_type": "code",
   "execution_count": null,
   "metadata": {},
   "outputs": [],
   "source": [
    "list((i*i for i in range(10)))"
   ]
  },
  {
   "cell_type": "code",
   "execution_count": null,
   "metadata": {},
   "outputs": [],
   "source": [
    "list(i*i for i in range(10))"
   ]
  },
  {
   "cell_type": "code",
   "execution_count": null,
   "metadata": {},
   "outputs": [],
   "source": [
    "sum(i*i for i in range(10))         # sum of squares 0, 1, 4, ... 81"
   ]
  },
  {
   "cell_type": "code",
   "execution_count": null,
   "metadata": {},
   "outputs": [],
   "source": []
  },
  {
   "cell_type": "markdown",
   "metadata": {
    "tags": [
     "hide"
    ]
   },
   "source": [
    "Strange test: does it memorize the object state ? => that's a stupid question as the state of an object is always \"memorized\"... This only concerns function's internal state (i.e. yield only memorize the state of the function it is defined in, not the objects state)..."
   ]
  },
  {
   "cell_type": "code",
   "execution_count": null,
   "metadata": {
    "tags": [
     "hide"
    ]
   },
   "outputs": [],
   "source": [
    "class AltRange:\n",
    "    def __init__(self, n):\n",
    "        self.i = 0\n",
    "        self.n = n\n",
    "        \n",
    "    def run(self):\n",
    "        self.i = 0\n",
    "        while self.i < self.n:\n",
    "            yield self.i    # temporarily suspends processing, returning i and remembering the location execution state (including local variables and pending try-statements)\n",
    "            self.i += 1"
   ]
  },
  {
   "cell_type": "code",
   "execution_count": null,
   "metadata": {
    "tags": [
     "hide"
    ]
   },
   "outputs": [],
   "source": [
    "obj = AltRange(10)\n",
    "obj.run()"
   ]
  },
  {
   "cell_type": "code",
   "execution_count": null,
   "metadata": {
    "tags": [
     "hide"
    ]
   },
   "outputs": [],
   "source": [
    "list(obj.run())"
   ]
  },
  {
   "cell_type": "code",
   "execution_count": null,
   "metadata": {
    "tags": [
     "hide"
    ]
   },
   "outputs": [],
   "source": [
    "for elem in obj.run():\n",
    "    obj.i += 1\n",
    "    print(elem)"
   ]
  }
 ],
 "metadata": {
  "anaconda-cloud": {},
  "celltoolbar": "Tags",
  "kernelspec": {
   "display_name": "Python [default]",
   "language": "python",
   "name": "python3"
  },
  "language_info": {
   "codemirror_mode": {
    "name": "ipython",
    "version": 3
   },
   "file_extension": ".py",
   "mimetype": "text/x-python",
   "name": "python",
   "nbconvert_exporter": "python",
   "pygments_lexer": "ipython3",
   "version": "3.5.3"
  }
 },
 "nbformat": 4,
 "nbformat_minor": 1
}
