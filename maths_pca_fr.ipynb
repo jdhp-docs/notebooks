{
 "cells": [
  {
   "cell_type": "markdown",
   "metadata": {},
   "source": [
    "# ACP"
   ]
  },
  {
   "cell_type": "markdown",
   "metadata": {
    "tags": [
     "hide"
    ]
   },
   "source": [
    "Must see:\n",
    "\n",
    "* **EXCELLENT TUTORIAL**: https://stats.stackexchange.com/questions/2691/making-sense-of-principal-component-analysis-eigenvectors-eigenvalues\n",
    "* **EXCELLENT TUTORIAL**: https://plot.ly/ipython-notebooks/principal-component-analysis/\n",
    "* https://stackoverflow.com/questions/18299523/basic-example-for-pca-with-matplotlib"
   ]
  },
  {
   "cell_type": "code",
   "execution_count": null,
   "metadata": {
    "tags": [
     "hide"
    ]
   },
   "outputs": [],
   "source": [
    "%matplotlib inline"
   ]
  },
  {
   "cell_type": "code",
   "execution_count": null,
   "metadata": {},
   "outputs": [],
   "source": [
    "import numpy as np\n",
    "from sklearn.preprocessing import StandardScaler\n",
    "\n",
    "mu = np.zeros(2)\n",
    "cov = np.array([[1.07, 0.63],\n",
    "                [0.63, 0.64]])\n",
    "print(\"Cov:\", cov)\n",
    "\n",
    "# Check eigen vectors #################################\n",
    "\n",
    "theorical_eigen_val, theorical_eigen_vect = np.linalg.eig(cov)\n",
    "\n",
    "print(\"Theorical eigen vectors:\", theorical_eigen_vect)\n",
    "print(\"Theorical eigen values:\", theorical_eigen_val)\n",
    "\n",
    "# Make samples ########################################\n",
    "\n",
    "X = np.random.multivariate_normal(mean=mu, cov=cov, size=[100])\n",
    "#print(\"X:\", X)\n",
    "\n",
    "# Standardizing data ##################################\n",
    "\n",
    "# TODO: explain why it's required...\n",
    "X = StandardScaler().fit_transform(X)\n",
    "\n",
    "# Compute the covariance matrix #######################\n",
    "\n",
    "empirical_cov = np.cov(X.T)\n",
    "print(\"Empirical cov:\", empirical_cov)\n",
    "\n",
    "# Compute eigen vectors ###############################\n",
    "\n",
    "empirical_eigen_val, empirical_eigen_vect = np.linalg.eig(empirical_cov)\n",
    "print(\"Empirical eigen vectors:\", empirical_eigen_vect)\n",
    "print(\"Empirical eigen values:\", empirical_eigen_val)\n",
    "\n",
    "# Project data in the new space #######################\n",
    "\n",
    "projected_data = np.dot(X, empirical_eigen_vect)\n",
    "\n",
    "# Plot ################################################\n",
    "\n",
    "fig, ax = plt.subplots(figsize=(8, 8))\n",
    "\n",
    "ax.plot(*X.T, '.r')\n",
    "\n",
    "p1x = X[:,0].min()\n",
    "p2x = X[:,0].max()\n",
    "\n",
    "for axis in empirical_eigen_vect:\n",
    "    start, end = mu, mu + projected_data.std(axis=0).mean() * axis\n",
    "    ax.annotate(\n",
    "        '', xy=end, xycoords='data',\n",
    "        xytext=start, textcoords='data',\n",
    "        arrowprops=dict(facecolor='red', width=2.0))\n",
    "\n",
    "ex, ey = empirical_eigen_vect[:,0]\n",
    "\n",
    "p1y = ex * p1x / ey\n",
    "p2y = ex * p2x / ey\n",
    "\n",
    "ax.plot([p1x, p2x], [p1y, p2y], '-b')\n",
    "\n",
    "ex, ey = empirical_eigen_vect[:,1]\n",
    "\n",
    "p1y = ex * p1x / ey\n",
    "p2y = ex * p2x / ey\n",
    "\n",
    "ax.plot([p1x, p2x], [p1y, p2y], ':b')\n",
    "\n",
    "ax.axis('equal');"
   ]
  },
  {
   "cell_type": "code",
   "execution_count": null,
   "metadata": {},
   "outputs": [],
   "source": [
    "plt.plot(projected_data, '.r')"
   ]
  }
 ],
 "metadata": {
  "anaconda-cloud": {},
  "celltoolbar": "Tags",
  "kernelspec": {
   "display_name": "Python [default]",
   "language": "python",
   "name": "python3"
  },
  "language_info": {
   "codemirror_mode": {
    "name": "ipython",
    "version": 3
   },
   "file_extension": ".py",
   "mimetype": "text/x-python",
   "name": "python",
   "nbconvert_exporter": "python",
   "pygments_lexer": "ipython3",
   "version": "3.5.3"
  }
 },
 "nbformat": 4,
 "nbformat_minor": 1
}
