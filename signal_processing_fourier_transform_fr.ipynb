{
 "cells": [
  {
   "cell_type": "markdown",
   "metadata": {
    "tags": [
     "meta",
     "draft"
    ]
   },
   "source": [
    "# Transformée de Fourier"
   ]
  },
  {
   "cell_type": "code",
   "execution_count": null,
   "metadata": {
    "tags": [
     "hide"
    ]
   },
   "outputs": [],
   "source": [
    "%matplotlib inline\n",
    "\n",
    "import matplotlib\n",
    "matplotlib.rcParams['figure.figsize'] = (6, 6)\n",
    "\n",
    "import math\n",
    "import cmath          # math functions for complex numbers\n",
    "import numpy as np\n",
    "import matplotlib.pyplot as plt\n",
    "\n",
    "import ipywidgets\n",
    "from ipywidgets import interact"
   ]
  },
  {
   "cell_type": "markdown",
   "metadata": {
    "tags": [
     "hide"
    ]
   },
   "source": [
    "**TODO**:"
   ]
  },
  {
   "cell_type": "markdown",
   "metadata": {
    "tags": [
     "hide"
    ]
   },
   "source": [
    "The following notations come from the following book: *Toutes les mathématiques et les bases de l'informatique*, Horst Stöcker (Dunod, 2002)"
   ]
  },
  {
   "cell_type": "markdown",
   "metadata": {},
   "source": [
    "## Cas simple: fonction périodique de période $2\\pi$"
   ]
  },
  {
   "cell_type": "markdown",
   "metadata": {},
   "source": [
    "### Définitions\n",
    "\n",
    "#### Série de Fourier\n",
    "\n",
    "$$\n",
    "f(t) = \\frac{a_0}{2} + \\sum^{\\infty}_{n=1} (a_n \\cos(n t) + b_n \\sin(n t))\n",
    "$$\n",
    "\n",
    "#### Calcul des coefficients de Fourier\n",
    "\n",
    "\\begin{eqnarray*}\n",
    "    \\forall n \\in \\mathbb{N},   ~~~~~ a_n & = & \\frac{1}{\\pi} \\int^{\\pi}_{-\\pi} f(t) \\cos(n t) ~ dt \\\\\n",
    "    \\forall n \\in \\mathbb{N}^*, ~~~~~ b_n & = & \\frac{1}{\\pi} \\int^{\\pi}_{-\\pi} f(t) \\sin(n t) ~ dt \\\\\n",
    "\\end{eqnarray*}\n",
    "\n",
    "Cf. section \\ref{sec:exemples} pour des exemples de calculs de coefficients de Fourier.\n",
    "\n",
    "Rappel: $\\mathbb{N}^*$ est l'ensemble $\\mathbb{N}$ privé de $0$.\n",
    "\n",
    "#### Condition de Dirichlet\n",
    "\n",
    "..."
   ]
  },
  {
   "cell_type": "markdown",
   "metadata": {
    "tags": [
     "hide"
    ]
   },
   "source": [
    "### Questions / notes / remarques\n",
    "\n",
    "* Que représente le terme $\\frac{a_0}{2}$ dans la définition de la série de Fourier ?\n",
    "\n",
    "...\n",
    "\n",
    "* Que représente le facteur $\\frac{1}{\\pi}$ dans les coeffients de Fourier ?\n",
    "\n",
    "..."
   ]
  },
  {
   "cell_type": "markdown",
   "metadata": {},
   "source": [
    "## Cas général: fonction périodique de période $T$\n",
    "\n",
    "### Définition\n",
    "\n",
    "#### Série de Fourier\n",
    "\n",
    "$$\n",
    "f(t) = \\frac{a_0}{2} + \\sum^{\\infty}_{n=1} (a_n \\cos(\\omega n t) + b_n \\sin(\\omega n t))\n",
    "$$\n",
    "\n",
    "#### Calcul des *coefficients de Fourier*\n",
    "\n",
    "\\begin{eqnarray*}\n",
    "    \\forall n \\in \\mathbb{N},   ~~~~~ a_n & = & \\frac{2}{T} \\int^{T/2}_{-T/2} f(t) \\cos(\\omega n t) ~ dt \\\\\n",
    "    \\forall n \\in \\mathbb{N}^*, ~~~~~ b_n & = & \\frac{2}{T} \\int^{T/2}_{-T/2} f(t) \\sin(\\omega n t) ~ dt \\\\\n",
    "\\end{eqnarray*}"
   ]
  },
  {
   "cell_type": "markdown",
   "metadata": {},
   "source": [
    "## Représentation complexe\n",
    "\n",
    "..."
   ]
  },
  {
   "cell_type": "markdown",
   "metadata": {},
   "source": [
    "## Représentation spectrale\n",
    "\n",
    "..."
   ]
  },
  {
   "cell_type": "markdown",
   "metadata": {},
   "source": [
    "## Conclusion\n",
    "\n",
    "TODO...\n",
    "\n",
    "### Synthèse\n",
    "\n",
    "Définitions à connaitre:\n",
    "* Série de Fourier\n",
    "* Coefficients de Fourier\n",
    "* Condition de Dirichlet"
   ]
  },
  {
   "cell_type": "markdown",
   "metadata": {},
   "source": [
    "## Annexes\n",
    "\n",
    "### Rappels de maths\n",
    "\n",
    "TODO: add plots...\n",
    "\n",
    "\\begin{eqnarray*}\n",
    "    \\forall c \\in \\mathbb{N}^*, \\int^{\\pi}_{-\\pi} c ~ dt         & = & c * 2\\pi \\\\\n",
    "    \\forall c \\in \\mathbb{N}^*, \\int^{\\pi}_{-\\pi} c \\cos(t) ~ dt & = & 0 \\\\\n",
    "    \\forall c \\in \\mathbb{N}^*, \\int^{\\pi}_{-\\pi} c \\sin(t) ~ dt & = & 0 \\\\\n",
    "\\end{eqnarray*}\n",
    "\n",
    "\n",
    "$$\n",
    "\\forall m \\in \\mathbb{N}^*, n \\in \\mathbb{N}^*,\n",
    "\\int^{\\pi}_{-\\pi} \\cos(n ~ t) \\cos(m ~ t) ~ dt =\n",
    "\\left\\{\n",
    "    \\begin{array}{l l}\n",
    "        \\pi  & \\quad \\text{si $n = m$}\\\\\n",
    "        0    & \\quad \\text{si $n \\neq m$}\n",
    "    \\end{array} \\right.\n",
    "$$\n",
    "\n",
    "Par exemple:\n",
    "\\begin{eqnarray*}\n",
    "    \\int^{\\pi}_{-\\pi} \\cos(t) \\cos(t) ~ dt   & = & \\pi \\\\\n",
    "    \\int^{\\pi}_{-\\pi} \\sin(t) \\sin(t) ~ dt   & = & \\pi \\\\\n",
    "    \\int^{\\pi}_{-\\pi} \\cos(t) \\sin(t) ~ dt   & = & 0 \\\\\n",
    "    \\int^{\\pi}_{-\\pi} \\cos(t) \\cos(2t) ~ dt  & = & 0 \\\\\n",
    "    \\int^{\\pi}_{-\\pi} \\cos(t) \\sin(2t) ~ dt  & = & 0 \\\\\n",
    "    \\int^{\\pi}_{-\\pi} \\cos(2t) \\cos(2t) ~ dt & = & \\pi \\\\\n",
    "    \\int^{\\pi}_{-\\pi} \\sin(2t) \\sin(2t) ~ dt & = & \\pi \\\\\n",
    "\\end{eqnarray*}"
   ]
  },
  {
   "cell_type": "markdown",
   "metadata": {},
   "source": [
    "### Exemples détaillés"
   ]
  },
  {
   "cell_type": "markdown",
   "metadata": {},
   "source": [
    "#### Calcule des coefficients de Fourier pour la fonction $f(t) = 3$\n",
    "\n",
    "\\begin{eqnarray*}\n",
    "    a_0 & = & \\frac{1}{\\pi} \\int^{\\pi}_{-\\pi} 3 \\cos(0) ~ dt \\\\\n",
    "        & = & \\frac{1}{\\pi} \\int^{\\pi}_{-\\pi} 3 ~ dt \\\\\n",
    "        & = & \\frac{1}{\\pi} * 3 * 2 \\pi \\\\\n",
    "        & = & 6 \\\\\n",
    "\\end{eqnarray*}\n",
    "\n",
    "\\begin{eqnarray*}\n",
    "    a_1 & = & \\frac{1}{\\pi} \\int^{\\pi}_{-\\pi} 3 \\cos(t) ~ dt \\\\\n",
    "        & = & 0 \\\\\n",
    "\\end{eqnarray*}\n",
    "\n",
    "\\begin{eqnarray*}\n",
    "    b_1 & = & \\frac{1}{\\pi} \\int^{\\pi}_{-\\pi} 3 \\sin(t) ~ dt \\\\\n",
    "        & = & 0 \\\\\n",
    "\\end{eqnarray*}\n",
    "\n",
    "De même, les coefficients $a_3$, $b_3$, $a_4$, $b_4$, etc. sont tous nuls.\n",
    "\n",
    "##### Vérification\n",
    "\n",
    "On a bien:\n",
    "\\begin{eqnarray*}\n",
    "    f(t) & = & \\frac{a_0}{2} + \\sum^{\\infty}_{n=1} (a_n \\cos(n t) + b_n \\sin(n t)) \\\\\n",
    "         & = & \\frac{6}{2} + 0 * \\cos(t) + 0 * \\sin(t) + 0 * \\cos(2t) + 0 * \\sin(2t) + ... \\\\\n",
    "         & = & 3 \\\\\n",
    "\\end{eqnarray*}"
   ]
  },
  {
   "cell_type": "markdown",
   "metadata": {},
   "source": [
    "#### Calcule des coefficients de Fourier pour la fonction $f(t) = \\cos(t)$}\\label\n",
    "\n",
    "TODO: add plots...\n",
    "\n",
    "\\begin{eqnarray*}\n",
    "    a_0 & = & \\frac{1}{\\pi} \\int^{\\pi}_{-\\pi} \\cos(t) \\cos(0) ~ dt \\\\\n",
    "        & = & \\frac{1}{\\pi} \\int^{\\pi}_{-\\pi} \\cos(t) ~ dt \\\\\n",
    "        & = & 0 \\\\\n",
    "\\end{eqnarray*}\n",
    "\n",
    "\\begin{eqnarray*}\n",
    "    a_1 & = & \\frac{1}{\\pi} \\int^{\\pi}_{-\\pi} \\cos(t) \\cos(t) ~ dt \\\\\n",
    "        & = & \\frac{1}{\\pi} * \\pi \\\\\n",
    "        & = & 1 \\\\\n",
    "\\end{eqnarray*}\n",
    "\n",
    "\\begin{eqnarray*}\n",
    "    b_1 & = & \\frac{1}{\\pi} \\int^{\\pi}_{-\\pi} \\cos(t) \\sin(t) ~ dt \\\\\n",
    "        & = & \\frac{1}{\\pi} * 0 \\\\\n",
    "        & = & 0 \\\\\n",
    "\\end{eqnarray*}\n",
    "\n",
    "\\begin{eqnarray*}\n",
    "    a_2 & = & \\frac{1}{\\pi} \\int^{\\pi}_{-\\pi} \\cos(t) \\cos(2t) ~ dt \\\\\n",
    "        & = & \\frac{1}{\\pi} * 0 \\\\\n",
    "        & = & 0 \\\\\n",
    "\\end{eqnarray*}\n",
    "\n",
    "\\begin{eqnarray*}\n",
    "    b_2 & = & \\frac{1}{\\pi} \\int^{\\pi}_{-\\pi} \\cos(t) \\sin(2t) ~ dt \\\\\n",
    "        & = & \\frac{1}{\\pi} * 0 \\\\\n",
    "        & = & 0 \\\\\n",
    "\\end{eqnarray*}\n",
    "\n",
    "De même, les coefficients $a_3$, $b_3$, $a_4$, $b_4$, etc. sont tous nuls.\n",
    "        \n",
    "##### Vérification\n",
    "\n",
    "On a bien:\n",
    "\\begin{eqnarray*}\n",
    "    f(t) & = & \\frac{a_0}{2} + \\sum^{\\infty}_{n=1} (a_n \\cos(n t) + b_n \\sin(n t)) \\\\\n",
    "         & = & \\frac{0}{2} + 1 * \\cos(t) + 0 * \\sin(t) + 0 * \\cos(2t) + 0 * \\sin(2t) + ... \\\\\n",
    "         & = & \\cos(t) \\\\\n",
    "\\end{eqnarray*}"
   ]
  },
  {
   "cell_type": "markdown",
   "metadata": {},
   "source": [
    "#### Calcule des coefficients de Fourier pour la fonction $f(t) = 3 \\cos(t)$\n",
    "\n",
    "\\begin{eqnarray*}\n",
    "    a_0 & = & \\frac{1}{\\pi} \\int^{\\pi}_{-\\pi} f(t) \\cos(n t) ~ dt \\\\\n",
    "        & = & ... \\\\\n",
    "\\end{eqnarray*}\n",
    "\n",
    "\\begin{eqnarray*}\n",
    "    a_1 & = & \\frac{1}{\\pi} \\int^{\\pi}_{-\\pi} f(t) \\cos(n t) ~ dt \\\\\n",
    "        & = & ... \\\\\n",
    "\\end{eqnarray*}\n",
    "\n",
    "\\begin{eqnarray*}\n",
    "    b_1 & = & \\frac{1}{\\pi} \\int^{\\pi}_{-\\pi} f(t) \\sin(n t) ~ dt \\\\\n",
    "        & = & ... \\\\\n",
    "\\end{eqnarray*}"
   ]
  }
 ],
 "metadata": {
  "anaconda-cloud": {},
  "celltoolbar": "Tags",
  "kernelspec": {
   "display_name": "Python [default]",
   "language": "python",
   "name": "python3"
  },
  "language_info": {
   "codemirror_mode": {
    "name": "ipython",
    "version": 3
   },
   "file_extension": ".py",
   "mimetype": "text/x-python",
   "name": "python",
   "nbconvert_exporter": "python",
   "pygments_lexer": "ipython3",
   "version": "3.5.3"
  }
 },
 "nbformat": 4,
 "nbformat_minor": 1
}
