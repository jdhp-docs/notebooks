{
 "cells": [
  {
   "cell_type": "markdown",
   "metadata": {
    "tags": [
     "meta",
     "draft"
    ]
   },
   "source": [
    "# Python's super()"
   ]
  },
  {
   "cell_type": "markdown",
   "metadata": {
    "tags": [
     "hide"
    ]
   },
   "source": [
    "**TODO**\n",
    "* https://docs.python.org/3/library/functions.html#super\n",
    "* https://rhettinger.wordpress.com/2011/05/26/super-considered-super/\n",
    "* https://stackoverflow.com/questions/904036/chain-calling-parent-constructors-in-python\n",
    "* https://stackoverflow.com/questions/2399307/how-to-invoke-the-super-constructor"
   ]
  },
  {
   "cell_type": "markdown",
   "metadata": {
    "tags": [
     "hide"
    ]
   },
   "source": [
    "super(type [, objet_ou_type])\n",
    "\n",
    "retourne la classe de base de type.\n",
    "\n",
    "Si le second argument est omis, alors l'objet retourné ~n'est pas limité~.\n",
    "\n",
    "Si le second argument est un objet, alors isinstance(objet, type) doit être vrai.\n",
    "\n",
    "Si le second argument est un type, alors issubclass(type2, type) doit être vrai.\n",
    "\n",
    "\n",
    "This is useful for accessing inherited methods that have been overridden in a class.\n",
    "\n",
    "There are two typical use cases for super. In a class hierarchy with single inheritance, super can be used to refer to parent classes without naming them explicitly, thus making the code more maintainable. This use closely parallels the use of super in other programming languages.\n",
    "\n",
    "The second use case is to support cooperative multiple inheritance in a dynamic execution environment. This use case is unique to Python and is not found in statically compiled languages or languages that only support single inheritance. This makes it possible to implement “diamond diagrams” where multiple base classes implement the same method. Good design dictates that this method have the same calling signature in every case (because the order of calls is determined at runtime, because that order adapts to changes in the class hierarchy, and because that order can include sibling classes that are unknown prior to runtime).\n",
    "\n",
    "For both use cases, a typical superclass call looks like this:\n",
    "\n",
    "class C(B):\n",
    "    def method(self, arg):\n",
    "        super().method(arg)    # This does the same thing as:\n",
    "                               # super(C, self).method(arg)\n",
    "\n",
    "Also note that, aside from the zero argument form, super() is not limited to use inside methods. The two argument form specifies the arguments exactly and makes the appropriate references.\n",
    "The zero argument form only works inside a class definition, as the compiler fills in the necessary details to correctly retrieve the class being defined, as well as accessing the current instance for ordinary methods."
   ]
  },
  {
   "cell_type": "code",
   "execution_count": null,
   "metadata": {
    "tags": [
     "hide"
    ]
   },
   "outputs": [],
   "source": [
    "help(super)"
   ]
  },
  {
   "cell_type": "markdown",
   "metadata": {},
   "source": [
    "## Sans `super()`"
   ]
  },
  {
   "cell_type": "markdown",
   "metadata": {
    "tags": [
     "hide"
    ]
   },
   "source": [
    "Avant l'existance de la fonction `super()`, we would have hardwired the call with `A.bonjour(self)`."
   ]
  },
  {
   "cell_type": "markdown",
   "metadata": {},
   "source": [
    "..."
   ]
  },
  {
   "cell_type": "code",
   "execution_count": null,
   "metadata": {},
   "outputs": [],
   "source": [
    "class A:\n",
    "    def bonjour(self):\n",
    "        print(\"Bonjour de la part de A.\")\n",
    "\n",
    "class B(A):\n",
    "    def bonjour(self):\n",
    "        print(\"Bonjour de la part de B.\")\n",
    "        A.bonjour(self)\n",
    "\n",
    "b = B()\n",
    "b.bonjour()"
   ]
  },
  {
   "cell_type": "markdown",
   "metadata": {},
   "source": [
    "Le même exemple avec un argument:"
   ]
  },
  {
   "cell_type": "code",
   "execution_count": null,
   "metadata": {},
   "outputs": [],
   "source": [
    "class A:\n",
    "    def bonjour(self, arg):\n",
    "        print(\"Bonjour de la part de A. J'ai été appelée avec l'argument arg:\", arg)\n",
    "\n",
    "class B(A):\n",
    "    def bonjour(self, arg):\n",
    "        print(\"Bonjour de la part de B. J'ai été appelée avec l'argument arg:\", arg)\n",
    "        A.bonjour(self, arg)\n",
    "\n",
    "b = B()\n",
    "b.bonjour('hey')"
   ]
  },
  {
   "cell_type": "markdown",
   "metadata": {},
   "source": [
    "Exemple qui montre que `A.bonjour()` est bien appelée sur l'objet `b`:"
   ]
  },
  {
   "cell_type": "code",
   "execution_count": null,
   "metadata": {},
   "outputs": [],
   "source": [
    "class A:\n",
    "    def __init__(self):\n",
    "        self.nom = \"Alice\"\n",
    "\n",
    "    def bonjour(self):\n",
    "        print(\"Bonjour de la part de A. Je m'appelle:\", self.nom)\n",
    "\n",
    "class B(A):\n",
    "    def __init__(self):\n",
    "        self.nom = \"Bob\"\n",
    "\n",
    "    def bonjour(self):\n",
    "        A.bonjour(self)\n",
    "\n",
    "b = B()\n",
    "b.bonjour()"
   ]
  },
  {
   "cell_type": "markdown",
   "metadata": {},
   "source": [
    "## Avec `super()`: premier exemple"
   ]
  },
  {
   "cell_type": "markdown",
   "metadata": {},
   "source": [
    "Dans l'exemple précedent, la ligne `A.bonjour(self)` (dans `B.bonjour()`) définie explicitement le nom de la classe contenant la fonction à appeler (ici `A`) ainsi que l'objet (`self`) sur lequel est appelé la fonction.\n",
    "\n",
    "Un des deux principaux intérets de `super()` est de rendre inplicite le nom de la classe d'appel `A` (ainsi que l'objet `self` sur lequel est appelé la fonction).\n",
    "\n",
    "Ainsi, l'appel `A.bonjour(self)` devient `super().bonjour()`.\n",
    "\n",
    "Ainsi, par exemple, si on décide de renommer la classe `A` ou si on décide que `B` hérite de `C` plutôt que `A`, on a pas besoin de mettre à jours le contenu de la fonction `B.bonjour()`. Les changements sont isolés."
   ]
  },
  {
   "cell_type": "code",
   "execution_count": null,
   "metadata": {},
   "outputs": [],
   "source": [
    "class A:\n",
    "    def bonjour(self):\n",
    "        print(\"Bonjour de la part de A.\")\n",
    "\n",
    "class B(A):\n",
    "    def bonjour(self):\n",
    "        print(\"Bonjour de la part de B.\")\n",
    "        super().bonjour()   # au lieu de \"A.bonjour(self)\"\n",
    "\n",
    "b = B()\n",
    "b.bonjour()"
   ]
  },
  {
   "cell_type": "markdown",
   "metadata": {},
   "source": [
    "Le même exemple avec un argument:"
   ]
  },
  {
   "cell_type": "code",
   "execution_count": null,
   "metadata": {},
   "outputs": [],
   "source": [
    "class A:\n",
    "    def bonjour(self, arg):\n",
    "        print(\"Bonjour de la part de A. J'ai été appelée avec l'argument arg:\", arg)\n",
    "\n",
    "class B(A):\n",
    "    def bonjour(self, arg):\n",
    "        print(\"Bonjour de la part de B. J'ai été appelée avec l'argument arg:\", arg)\n",
    "        super().bonjour(arg)\n",
    "\n",
    "b = B()\n",
    "b.bonjour('hey')"
   ]
  },
  {
   "cell_type": "markdown",
   "metadata": {},
   "source": [
    "Exemple qui montre que `super().bonjour()` est bien appelée sur l'objet `b`:"
   ]
  },
  {
   "cell_type": "code",
   "execution_count": null,
   "metadata": {},
   "outputs": [],
   "source": [
    "class A:\n",
    "    def __init__(self):\n",
    "        self.nom = \"Alice\"\n",
    "\n",
    "    def bonjour(self):\n",
    "        print(\"Bonjour de la part de A. Je m'appelle:\", self.nom)\n",
    "\n",
    "class B(A):\n",
    "    def __init__(self):\n",
    "        self.nom = \"Bob\"\n",
    "\n",
    "    def bonjour(self):\n",
    "        super().bonjour()\n",
    "\n",
    "b = B()\n",
    "b.bonjour()"
   ]
  },
  {
   "cell_type": "markdown",
   "metadata": {},
   "source": [
    "En fait, `super()` retourne la classe implicite `A`:"
   ]
  },
  {
   "cell_type": "code",
   "execution_count": null,
   "metadata": {},
   "outputs": [],
   "source": [
    "class A:\n",
    "    pass\n",
    "\n",
    "class B(A):\n",
    "    def bonjour(self):\n",
    "        print(super())\n",
    "\n",
    "b = B()\n",
    "b.bonjour()"
   ]
  },
  {
   "cell_type": "markdown",
   "metadata": {},
   "source": [
    "## Ajout de contraintes: `super(type, obj_ou_type)` [**TODO**]"
   ]
  },
  {
   "cell_type": "markdown",
   "metadata": {},
   "source": [
    "Une autre syntaxe peut être utilisée pour rendre un peut plus explicite la classe de base à utiliser pour l'appel de la fonction:"
   ]
  },
  {
   "cell_type": "code",
   "execution_count": null,
   "metadata": {},
   "outputs": [],
   "source": [
    "class A:\n",
    "    def bonjour(self):\n",
    "        print(\"Bonjour de la part de A.\")\n",
    "\n",
    "class B(A):\n",
    "    def bonjour(self):\n",
    "        print(\"Bonjour de la part de B.\")\n",
    "\n",
    "class C(B):\n",
    "    def bonjour(self):\n",
    "        print(\"Bonjour de la part de C.\")\n",
    "        super(C, self).bonjour()\n",
    "\n",
    "c = C()\n",
    "c.bonjour()"
   ]
  },
  {
   "cell_type": "markdown",
   "metadata": {},
   "source": [
    "Ce qui est l'équivalant de:"
   ]
  },
  {
   "cell_type": "code",
   "execution_count": null,
   "metadata": {},
   "outputs": [],
   "source": [
    "class A:\n",
    "    def bonjour(self):\n",
    "        print(\"Bonjour de la part de A.\")\n",
    "\n",
    "class B(A):\n",
    "    def bonjour(self):\n",
    "        print(\"Bonjour de la part de B.\")\n",
    "\n",
    "class C(B):\n",
    "    def bonjour(self):\n",
    "        print(\"Bonjour de la part de C.\")\n",
    "        super().bonjour()\n",
    "\n",
    "c = C()\n",
    "c.bonjour()"
   ]
  },
  {
   "cell_type": "code",
   "execution_count": null,
   "metadata": {},
   "outputs": [],
   "source": [
    "# **TODO**\n",
    "\n",
    "class A():\n",
    "    def bonjour(self):\n",
    "        print(\"Bonjour de la part de A.\")\n",
    "\n",
    "class B:\n",
    "    def bonjour(self):\n",
    "        print(\"Bonjour de la part de B.\")\n",
    "\n",
    "class C(A, B):\n",
    "    def bonjour(self):\n",
    "        print(\"Bonjour de la part de C.\")\n",
    "        print(super(B, self))\n",
    "        super(B, self).bonjour()\n",
    "\n",
    "c = C()\n",
    "c.bonjour()"
   ]
  },
  {
   "cell_type": "markdown",
   "metadata": {},
   "source": [
    "## L'ordre de résolution des méthodes (\"Method Resolution Order\" ou MRO en anglais)"
   ]
  },
  {
   "cell_type": "code",
   "execution_count": null,
   "metadata": {},
   "outputs": [],
   "source": [
    "class A:\n",
    "    pass\n",
    "\n",
    "class B(A):\n",
    "    pass\n",
    "\n",
    "class C(A):\n",
    "    pass\n",
    "\n",
    "class D(B, C):\n",
    "    pass\n",
    "\n",
    "print(D.__mro__)"
   ]
  },
  {
   "cell_type": "markdown",
   "metadata": {},
   "source": [
    "## Les bases d'une classe"
   ]
  },
  {
   "cell_type": "code",
   "execution_count": null,
   "metadata": {},
   "outputs": [],
   "source": [
    "class A:\n",
    "    pass\n",
    "\n",
    "class B(A):\n",
    "    pass\n",
    "\n",
    "class C(A):\n",
    "    pass\n",
    "\n",
    "class D(B, C):\n",
    "    pass\n",
    "\n",
    "print(D.__bases__)"
   ]
  },
  {
   "cell_type": "markdown",
   "metadata": {},
   "source": [
    "## First use case: ..."
   ]
  },
  {
   "cell_type": "code",
   "execution_count": null,
   "metadata": {},
   "outputs": [],
   "source": []
  },
  {
   "cell_type": "markdown",
   "metadata": {},
   "source": [
    "\"In addition to isolating changes, there is another major benefit to computed indirection, one that may not be familiar to people coming from static languages. Since the indirection is computed at runtime, we have the freedom to influence the calculation so that the indirection will point to some other class.\""
   ]
  },
  {
   "cell_type": "code",
   "execution_count": null,
   "metadata": {},
   "outputs": [],
   "source": [
    "class A(object):\n",
    "    def hello(self, arg):\n",
    "        print(\"Hello\", arg, \"from A.\")\n",
    "\n",
    "class B(A):\n",
    "    def hello(self, arg):\n",
    "        super(B, self).hello(arg)\n",
    "        print(\"Hello\", arg, \"from B.\")\n",
    "\n",
    "a = A()\n",
    "b = B()\n",
    "\n",
    "#a.hello('john')\n",
    "b.hello('john')"
   ]
  },
  {
   "cell_type": "code",
   "execution_count": null,
   "metadata": {},
   "outputs": [],
   "source": [
    "#This works for class methods too:\n",
    "\n",
    "class C(B):\n",
    "    @classmethod\n",
    "    def cmeth(cls, arg):\n",
    "        super().cmeth(arg)"
   ]
  },
  {
   "cell_type": "code",
   "execution_count": null,
   "metadata": {},
   "outputs": [],
   "source": [
    "class A(object):\n",
    "    def hello(self, arg):\n",
    "        print(\"Hello\", arg, \"from A.\")\n",
    "\n",
    "class B(A):\n",
    "    def hello(self, arg):\n",
    "        super(B, self).hello(arg)\n",
    "        print(\"Hello\", arg, \"from B.\")\n",
    "        \n",
    "class C(B):\n",
    "    def hello(self, arg):\n",
    "        super(C, self).hello(arg)\n",
    "        print(\"Hello\", arg, \"from C.\")\n",
    "\n",
    "a = A()\n",
    "b = B()\n",
    "c = C()\n",
    "\n",
    "c.hello('john')\n",
    "\n",
    "# comment appeler B.hello() sur c ?\n",
    "# comment appeler A.hello() sur c ?"
   ]
  },
  {
   "cell_type": "code",
   "execution_count": null,
   "metadata": {},
   "outputs": [],
   "source": [
    "class A(object):\n",
    "    def hello(self, arg):\n",
    "        print(\"Hello\", arg, \"from A.\")\n",
    "\n",
    "class B(A):\n",
    "    def hello(self, arg):\n",
    "        super().hello(arg)\n",
    "        print(\"Hello\", arg, \"from B.\")\n",
    "        \n",
    "class C(A):\n",
    "    def hello(self, arg):\n",
    "        super().hello(arg)\n",
    "        print(\"Hello\", arg, \"from C.\")\n",
    "        \n",
    "class D(B, C):\n",
    "    def hello(self, arg):\n",
    "        super().hello(arg)\n",
    "        print(\"Hello\", arg, \"from D.\")\n",
    "\n",
    "a = A()\n",
    "b = B()\n",
    "c = C()\n",
    "d = D()\n",
    "\n",
    "a.hello('john')\n",
    "print()\n",
    "b.hello('john')\n",
    "print()\n",
    "c.hello('john')\n",
    "print()\n",
    "d.hello('john')"
   ]
  },
  {
   "cell_type": "code",
   "execution_count": null,
   "metadata": {},
   "outputs": [],
   "source": [
    "class A(object):\n",
    "    def __init__(self, name):\n",
    "        self.name = name\n",
    "        \n",
    "    def hello(self, arg):\n",
    "        print(\"Hello\", arg, \"from A.\")\n",
    "\n",
    "class B(A):\n",
    "    def hello(self, arg):\n",
    "        super().hello(arg)\n",
    "        print(\"Hello\", arg, \"from B.\")\n",
    "\n",
    "a = A(\"foo\")\n",
    "b = B()\n",
    "\n",
    "a.hello('john')\n",
    "print()\n",
    "b.hello('john')"
   ]
  },
  {
   "cell_type": "markdown",
   "metadata": {},
   "source": [
    "## First use case: ..."
   ]
  },
  {
   "cell_type": "code",
   "execution_count": null,
   "metadata": {},
   "outputs": [],
   "source": [
    "class A:\n",
    "    def __init__(self):\n",
    "        self.name = \"A\"\n",
    "        \n",
    "    def hello(self, arg):\n",
    "        print(\"Hello from A with arg:\", arg, \"self beeing\", self.name)\n",
    "\n",
    "class B(A):\n",
    "    def __init__(self):\n",
    "        self.name = \"B\"\n",
    "        \n",
    "    def hello(self, arg):\n",
    "        super().hello(arg)\n",
    "        print(\"Hello from B with arg:\", arg, \"self beeing\", self.name)\n",
    "\n",
    "a = A()\n",
    "a.hello('foo')\n",
    "\n",
    "b = B()\n",
    "b.hello('foo')"
   ]
  },
  {
   "cell_type": "code",
   "execution_count": null,
   "metadata": {},
   "outputs": [],
   "source": [
    "class A:\n",
    "    def __init__(self, name):\n",
    "        self.name = name\n",
    "        \n",
    "    def hello(self, arg):\n",
    "        print(\"Hello from A with arg:\", arg, \"self beeing\", self.name)\n",
    "\n",
    "class B(A):\n",
    "    #def __init__(self):\n",
    "    #    self.name = \"B\"\n",
    "        \n",
    "    def hello(self, arg):\n",
    "        super().hello(arg)\n",
    "        print(\"Hello from B with arg:\", arg, \"self beeing\", self.name)\n",
    "\n",
    "a = A(\"A\")\n",
    "a.hello('foo')\n",
    "\n",
    "b = B()\n",
    "b.hello('foo')"
   ]
  },
  {
   "cell_type": "code",
   "execution_count": null,
   "metadata": {},
   "outputs": [],
   "source": [
    "class A:\n",
    "    def __init__(self, arg):\n",
    "        print(arg)\n",
    "\n",
    "class B(A):\n",
    "    pass\n",
    "\n",
    "b = B()"
   ]
  },
  {
   "cell_type": "code",
   "execution_count": null,
   "metadata": {},
   "outputs": [],
   "source": []
  }
 ],
 "metadata": {
  "anaconda-cloud": {},
  "celltoolbar": "Tags",
  "kernelspec": {
   "display_name": "Python [default]",
   "language": "python",
   "name": "python3"
  },
  "language_info": {
   "codemirror_mode": {
    "name": "ipython",
    "version": 3
   },
   "file_extension": ".py",
   "mimetype": "text/x-python",
   "name": "python",
   "nbconvert_exporter": "python",
   "pygments_lexer": "ipython3",
   "version": "3.5.3"
  }
 },
 "nbformat": 4,
 "nbformat_minor": 1
}
